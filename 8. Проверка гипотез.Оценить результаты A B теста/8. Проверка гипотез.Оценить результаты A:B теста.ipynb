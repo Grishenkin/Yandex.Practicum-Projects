{
 "cells": [
  {
   "cell_type": "markdown",
   "metadata": {},
   "source": [
    "# Аналитика интернет-магазина. \n",
    "# Гипотезы для увеличения выручки"
   ]
  },
  {
   "cell_type": "markdown",
   "metadata": {},
   "source": [
    "# Задачи проекта \n",
    "\n",
    "1) Приоритизировать гипотезы\n",
    "\n",
    "2) Запустить A/B-тест и проанализировать результаты.\n",
    "\n",
    "# Описание данных\n",
    "## Данные для первой части\n",
    " Файл \"/datasets/hypothesis.csv.\"\n",
    " \n",
    " Hypothesis — краткое описание гипотезы;\n",
    " \n",
    " Reach — охват пользователей по 10-балльной шкале;\n",
    " \n",
    " Impact — влияние на пользователей по 10-балльной шкале;\n",
    " \n",
    " Confidence — уверенность в гипотезе по 10-балльной шкале;\n",
    " \n",
    " Efforts — затраты ресурсов на проверку гипотезы по 10-балльной шкале. Чем больше значение Efforts, тем дороже проверка гипотезы.\n",
    " \n",
    "## Данные для второй части\n",
    "\n",
    " Файл \"/datasets/orders.csv.\"\n",
    " \n",
    " transactionId — идентификатор заказа;\n",
    " \n",
    " visitorId — идентификатор пользователя, совершившего заказ;\n",
    " \n",
    " date — дата, когда был совершён заказ;\n",
    " \n",
    " revenue — выручка заказа;\n",
    " \n",
    " group — группа A/B-теста, в которую попал заказ.\n",
    " \n",
    " Файл \"/datasets/visitors.csv.\"\n",
    " \n",
    " date — дата;\n",
    " \n",
    " group — группа A/B-теста;\n",
    " \n",
    " visitors — количество пользователей в указанную дату в указанной группе A/B-теста\n"
   ]
  },
  {
   "cell_type": "code",
   "execution_count": 31,
   "metadata": {},
   "outputs": [],
   "source": [
    "import pandas as pd\n",
    "import scipy.stats as stats\n",
    "import datetime as dt\n",
    "import numpy as np\n",
    "import matplotlib.pyplot as plt\n",
    "from pandas.plotting import register_matplotlib_converters\n",
    "import warnings"
   ]
  },
  {
   "cell_type": "code",
   "execution_count": 32,
   "metadata": {},
   "outputs": [],
   "source": [
    "data_hypothesis = pd.read_csv('/Users/aleksandrgrisenkin/Desktop/df/8. Проверка гипотез.Оценить результаты A:B теста/8. Проверка гипотез.Оценить результаты A:B теста.csv')\n",
    "pd.set_option('display.max_columns', None)\n",
    "pd.options.display.max_colwidth = 150  "
   ]
  },
  {
   "cell_type": "code",
   "execution_count": 33,
   "metadata": {
    "scrolled": false
   },
   "outputs": [
    {
     "name": "stdout",
     "output_type": "stream",
     "text": [
      "<class 'pandas.core.frame.DataFrame'>\n",
      "RangeIndex: 9 entries, 0 to 8\n",
      "Data columns (total 5 columns):\n",
      " #   Column      Non-Null Count  Dtype \n",
      "---  ------      --------------  ----- \n",
      " 0   Hypothesis  9 non-null      object\n",
      " 1   Reach       9 non-null      int64 \n",
      " 2   Impact      9 non-null      int64 \n",
      " 3   Confidence  9 non-null      int64 \n",
      " 4   Efforts     9 non-null      int64 \n",
      "dtypes: int64(4), object(1)\n",
      "memory usage: 488.0+ bytes\n"
     ]
    },
    {
     "data": {
      "text/html": [
       "<div>\n",
       "<style scoped>\n",
       "    .dataframe tbody tr th:only-of-type {\n",
       "        vertical-align: middle;\n",
       "    }\n",
       "\n",
       "    .dataframe tbody tr th {\n",
       "        vertical-align: top;\n",
       "    }\n",
       "\n",
       "    .dataframe thead th {\n",
       "        text-align: right;\n",
       "    }\n",
       "</style>\n",
       "<table border=\"1\" class=\"dataframe\">\n",
       "  <thead>\n",
       "    <tr style=\"text-align: right;\">\n",
       "      <th></th>\n",
       "      <th>Hypothesis</th>\n",
       "      <th>Reach</th>\n",
       "      <th>Impact</th>\n",
       "      <th>Confidence</th>\n",
       "      <th>Efforts</th>\n",
       "    </tr>\n",
       "  </thead>\n",
       "  <tbody>\n",
       "    <tr>\n",
       "      <th>0</th>\n",
       "      <td>Добавить два новых канала привлечения трафика, что позволит привлекать на 30% больше пользователей</td>\n",
       "      <td>3</td>\n",
       "      <td>10</td>\n",
       "      <td>8</td>\n",
       "      <td>6</td>\n",
       "    </tr>\n",
       "    <tr>\n",
       "      <th>1</th>\n",
       "      <td>Запустить собственную службу доставки, что сократит срок доставки заказов</td>\n",
       "      <td>2</td>\n",
       "      <td>5</td>\n",
       "      <td>4</td>\n",
       "      <td>10</td>\n",
       "    </tr>\n",
       "    <tr>\n",
       "      <th>2</th>\n",
       "      <td>Добавить блоки рекомендаций товаров на сайт интернет магазина, чтобы повысить конверсию и средний чек заказа</td>\n",
       "      <td>8</td>\n",
       "      <td>3</td>\n",
       "      <td>7</td>\n",
       "      <td>3</td>\n",
       "    </tr>\n",
       "    <tr>\n",
       "      <th>3</th>\n",
       "      <td>Изменить структура категорий, что увеличит конверсию, т.к. пользователи быстрее найдут нужный товар</td>\n",
       "      <td>8</td>\n",
       "      <td>3</td>\n",
       "      <td>3</td>\n",
       "      <td>8</td>\n",
       "    </tr>\n",
       "    <tr>\n",
       "      <th>4</th>\n",
       "      <td>Изменить цвет фона главной страницы, чтобы увеличить вовлеченность пользователей</td>\n",
       "      <td>3</td>\n",
       "      <td>1</td>\n",
       "      <td>1</td>\n",
       "      <td>1</td>\n",
       "    </tr>\n",
       "    <tr>\n",
       "      <th>5</th>\n",
       "      <td>Добавить страницу отзывов клиентов о магазине, что позволит увеличить количество заказов</td>\n",
       "      <td>3</td>\n",
       "      <td>2</td>\n",
       "      <td>2</td>\n",
       "      <td>3</td>\n",
       "    </tr>\n",
       "    <tr>\n",
       "      <th>6</th>\n",
       "      <td>Показать на главной странице баннеры с актуальными акциями и распродажами, чтобы увеличить конверсию</td>\n",
       "      <td>5</td>\n",
       "      <td>3</td>\n",
       "      <td>8</td>\n",
       "      <td>3</td>\n",
       "    </tr>\n",
       "    <tr>\n",
       "      <th>7</th>\n",
       "      <td>Добавить форму подписки на все основные страницы, чтобы собрать базу клиентов для email-рассылок</td>\n",
       "      <td>10</td>\n",
       "      <td>7</td>\n",
       "      <td>8</td>\n",
       "      <td>5</td>\n",
       "    </tr>\n",
       "    <tr>\n",
       "      <th>8</th>\n",
       "      <td>Запустить акцию, дающую скидку на товар в день рождения</td>\n",
       "      <td>1</td>\n",
       "      <td>9</td>\n",
       "      <td>9</td>\n",
       "      <td>5</td>\n",
       "    </tr>\n",
       "  </tbody>\n",
       "</table>\n",
       "</div>"
      ],
      "text/plain": [
       "                                                                                                     Hypothesis  \\\n",
       "0            Добавить два новых канала привлечения трафика, что позволит привлекать на 30% больше пользователей   \n",
       "1                                     Запустить собственную службу доставки, что сократит срок доставки заказов   \n",
       "2  Добавить блоки рекомендаций товаров на сайт интернет магазина, чтобы повысить конверсию и средний чек заказа   \n",
       "3           Изменить структура категорий, что увеличит конверсию, т.к. пользователи быстрее найдут нужный товар   \n",
       "4                              Изменить цвет фона главной страницы, чтобы увеличить вовлеченность пользователей   \n",
       "5                      Добавить страницу отзывов клиентов о магазине, что позволит увеличить количество заказов   \n",
       "6          Показать на главной странице баннеры с актуальными акциями и распродажами, чтобы увеличить конверсию   \n",
       "7              Добавить форму подписки на все основные страницы, чтобы собрать базу клиентов для email-рассылок   \n",
       "8                                                       Запустить акцию, дающую скидку на товар в день рождения   \n",
       "\n",
       "   Reach  Impact  Confidence  Efforts  \n",
       "0      3      10           8        6  \n",
       "1      2       5           4       10  \n",
       "2      8       3           7        3  \n",
       "3      8       3           3        8  \n",
       "4      3       1           1        1  \n",
       "5      3       2           2        3  \n",
       "6      5       3           8        3  \n",
       "7     10       7           8        5  \n",
       "8      1       9           9        5  "
      ]
     },
     "metadata": {},
     "output_type": "display_data"
    }
   ],
   "source": [
    "data_hypothesis.info()\n",
    "display(data_hypothesis)"
   ]
  },
  {
   "cell_type": "code",
   "execution_count": 34,
   "metadata": {},
   "outputs": [],
   "source": [
    "data_hypothesis.columns = map(str.lower, data_hypothesis.columns)"
   ]
  },
  {
   "cell_type": "markdown",
   "metadata": {},
   "source": [
    "После первой проверки все данные в порядке, пропусков нет, дубликатов тоже, типы данных - ок .\n",
    "\n",
    "Для удобства перевел название столбцов в нижний регистр "
   ]
  },
  {
   "cell_type": "code",
   "execution_count": 35,
   "metadata": {},
   "outputs": [],
   "source": [
    "data_hypothesis['ICE'] = (data_hypothesis['impact']*data_hypothesis['confidence'])/data_hypothesis['efforts']"
   ]
  },
  {
   "cell_type": "code",
   "execution_count": 36,
   "metadata": {},
   "outputs": [
    {
     "data": {
      "text/html": [
       "<div>\n",
       "<style scoped>\n",
       "    .dataframe tbody tr th:only-of-type {\n",
       "        vertical-align: middle;\n",
       "    }\n",
       "\n",
       "    .dataframe tbody tr th {\n",
       "        vertical-align: top;\n",
       "    }\n",
       "\n",
       "    .dataframe thead th {\n",
       "        text-align: right;\n",
       "    }\n",
       "</style>\n",
       "<table border=\"1\" class=\"dataframe\">\n",
       "  <thead>\n",
       "    <tr style=\"text-align: right;\">\n",
       "      <th></th>\n",
       "      <th>hypothesis</th>\n",
       "      <th>ICE</th>\n",
       "    </tr>\n",
       "  </thead>\n",
       "  <tbody>\n",
       "    <tr>\n",
       "      <th>8</th>\n",
       "      <td>Запустить акцию, дающую скидку на товар в день рождения</td>\n",
       "      <td>16.200000</td>\n",
       "    </tr>\n",
       "    <tr>\n",
       "      <th>0</th>\n",
       "      <td>Добавить два новых канала привлечения трафика, что позволит привлекать на 30% больше пользователей</td>\n",
       "      <td>13.333333</td>\n",
       "    </tr>\n",
       "    <tr>\n",
       "      <th>7</th>\n",
       "      <td>Добавить форму подписки на все основные страницы, чтобы собрать базу клиентов для email-рассылок</td>\n",
       "      <td>11.200000</td>\n",
       "    </tr>\n",
       "    <tr>\n",
       "      <th>6</th>\n",
       "      <td>Показать на главной странице баннеры с актуальными акциями и распродажами, чтобы увеличить конверсию</td>\n",
       "      <td>8.000000</td>\n",
       "    </tr>\n",
       "    <tr>\n",
       "      <th>2</th>\n",
       "      <td>Добавить блоки рекомендаций товаров на сайт интернет магазина, чтобы повысить конверсию и средний чек заказа</td>\n",
       "      <td>7.000000</td>\n",
       "    </tr>\n",
       "    <tr>\n",
       "      <th>1</th>\n",
       "      <td>Запустить собственную службу доставки, что сократит срок доставки заказов</td>\n",
       "      <td>2.000000</td>\n",
       "    </tr>\n",
       "    <tr>\n",
       "      <th>5</th>\n",
       "      <td>Добавить страницу отзывов клиентов о магазине, что позволит увеличить количество заказов</td>\n",
       "      <td>1.333333</td>\n",
       "    </tr>\n",
       "    <tr>\n",
       "      <th>3</th>\n",
       "      <td>Изменить структура категорий, что увеличит конверсию, т.к. пользователи быстрее найдут нужный товар</td>\n",
       "      <td>1.125000</td>\n",
       "    </tr>\n",
       "    <tr>\n",
       "      <th>4</th>\n",
       "      <td>Изменить цвет фона главной страницы, чтобы увеличить вовлеченность пользователей</td>\n",
       "      <td>1.000000</td>\n",
       "    </tr>\n",
       "  </tbody>\n",
       "</table>\n",
       "</div>"
      ],
      "text/plain": [
       "                                                                                                     hypothesis  \\\n",
       "8                                                       Запустить акцию, дающую скидку на товар в день рождения   \n",
       "0            Добавить два новых канала привлечения трафика, что позволит привлекать на 30% больше пользователей   \n",
       "7              Добавить форму подписки на все основные страницы, чтобы собрать базу клиентов для email-рассылок   \n",
       "6          Показать на главной странице баннеры с актуальными акциями и распродажами, чтобы увеличить конверсию   \n",
       "2  Добавить блоки рекомендаций товаров на сайт интернет магазина, чтобы повысить конверсию и средний чек заказа   \n",
       "1                                     Запустить собственную службу доставки, что сократит срок доставки заказов   \n",
       "5                      Добавить страницу отзывов клиентов о магазине, что позволит увеличить количество заказов   \n",
       "3           Изменить структура категорий, что увеличит конверсию, т.к. пользователи быстрее найдут нужный товар   \n",
       "4                              Изменить цвет фона главной страницы, чтобы увеличить вовлеченность пользователей   \n",
       "\n",
       "         ICE  \n",
       "8  16.200000  \n",
       "0  13.333333  \n",
       "7  11.200000  \n",
       "6   8.000000  \n",
       "2   7.000000  \n",
       "1   2.000000  \n",
       "5   1.333333  \n",
       "3   1.125000  \n",
       "4   1.000000  "
      ]
     },
     "execution_count": 36,
     "metadata": {},
     "output_type": "execute_result"
    }
   ],
   "source": [
    "data_hypothesis[['hypothesis','ICE']].sort_values(by = 'ICE', ascending= False)"
   ]
  },
  {
   "cell_type": "markdown",
   "metadata": {},
   "source": [
    "После оценки методом ICE видим 3 лидера среди гипотезам, это 8(Запустить акцию, дающую скидку на товар), 0(Добавить два новых канала привлечения трафика), 7(Добавить форму подписки на все основные страницы)"
   ]
  },
  {
   "cell_type": "code",
   "execution_count": 37,
   "metadata": {},
   "outputs": [],
   "source": [
    "data_hypothesis['RICE'] = (data_hypothesis['reach']*data_hypothesis['impact']*data_hypothesis['confidence'])/data_hypothesis['efforts']\n"
   ]
  },
  {
   "cell_type": "code",
   "execution_count": 38,
   "metadata": {},
   "outputs": [
    {
     "data": {
      "text/html": [
       "<div>\n",
       "<style scoped>\n",
       "    .dataframe tbody tr th:only-of-type {\n",
       "        vertical-align: middle;\n",
       "    }\n",
       "\n",
       "    .dataframe tbody tr th {\n",
       "        vertical-align: top;\n",
       "    }\n",
       "\n",
       "    .dataframe thead th {\n",
       "        text-align: right;\n",
       "    }\n",
       "</style>\n",
       "<table border=\"1\" class=\"dataframe\">\n",
       "  <thead>\n",
       "    <tr style=\"text-align: right;\">\n",
       "      <th></th>\n",
       "      <th>hypothesis</th>\n",
       "      <th>RICE</th>\n",
       "    </tr>\n",
       "  </thead>\n",
       "  <tbody>\n",
       "    <tr>\n",
       "      <th>7</th>\n",
       "      <td>Добавить форму подписки на все основные страницы, чтобы собрать базу клиентов для email-рассылок</td>\n",
       "      <td>112.0</td>\n",
       "    </tr>\n",
       "    <tr>\n",
       "      <th>2</th>\n",
       "      <td>Добавить блоки рекомендаций товаров на сайт интернет магазина, чтобы повысить конверсию и средний чек заказа</td>\n",
       "      <td>56.0</td>\n",
       "    </tr>\n",
       "    <tr>\n",
       "      <th>0</th>\n",
       "      <td>Добавить два новых канала привлечения трафика, что позволит привлекать на 30% больше пользователей</td>\n",
       "      <td>40.0</td>\n",
       "    </tr>\n",
       "    <tr>\n",
       "      <th>6</th>\n",
       "      <td>Показать на главной странице баннеры с актуальными акциями и распродажами, чтобы увеличить конверсию</td>\n",
       "      <td>40.0</td>\n",
       "    </tr>\n",
       "    <tr>\n",
       "      <th>8</th>\n",
       "      <td>Запустить акцию, дающую скидку на товар в день рождения</td>\n",
       "      <td>16.2</td>\n",
       "    </tr>\n",
       "    <tr>\n",
       "      <th>3</th>\n",
       "      <td>Изменить структура категорий, что увеличит конверсию, т.к. пользователи быстрее найдут нужный товар</td>\n",
       "      <td>9.0</td>\n",
       "    </tr>\n",
       "    <tr>\n",
       "      <th>1</th>\n",
       "      <td>Запустить собственную службу доставки, что сократит срок доставки заказов</td>\n",
       "      <td>4.0</td>\n",
       "    </tr>\n",
       "    <tr>\n",
       "      <th>5</th>\n",
       "      <td>Добавить страницу отзывов клиентов о магазине, что позволит увеличить количество заказов</td>\n",
       "      <td>4.0</td>\n",
       "    </tr>\n",
       "    <tr>\n",
       "      <th>4</th>\n",
       "      <td>Изменить цвет фона главной страницы, чтобы увеличить вовлеченность пользователей</td>\n",
       "      <td>3.0</td>\n",
       "    </tr>\n",
       "  </tbody>\n",
       "</table>\n",
       "</div>"
      ],
      "text/plain": [
       "                                                                                                     hypothesis  \\\n",
       "7              Добавить форму подписки на все основные страницы, чтобы собрать базу клиентов для email-рассылок   \n",
       "2  Добавить блоки рекомендаций товаров на сайт интернет магазина, чтобы повысить конверсию и средний чек заказа   \n",
       "0            Добавить два новых канала привлечения трафика, что позволит привлекать на 30% больше пользователей   \n",
       "6          Показать на главной странице баннеры с актуальными акциями и распродажами, чтобы увеличить конверсию   \n",
       "8                                                       Запустить акцию, дающую скидку на товар в день рождения   \n",
       "3           Изменить структура категорий, что увеличит конверсию, т.к. пользователи быстрее найдут нужный товар   \n",
       "1                                     Запустить собственную службу доставки, что сократит срок доставки заказов   \n",
       "5                      Добавить страницу отзывов клиентов о магазине, что позволит увеличить количество заказов   \n",
       "4                              Изменить цвет фона главной страницы, чтобы увеличить вовлеченность пользователей   \n",
       "\n",
       "    RICE  \n",
       "7  112.0  \n",
       "2   56.0  \n",
       "0   40.0  \n",
       "6   40.0  \n",
       "8   16.2  \n",
       "3    9.0  \n",
       "1    4.0  \n",
       "5    4.0  \n",
       "4    3.0  "
      ]
     },
     "execution_count": 38,
     "metadata": {},
     "output_type": "execute_result"
    }
   ],
   "source": [
    "data_hypothesis[['hypothesis', 'RICE']].sort_values(by = 'RICE', ascending = False)"
   ]
  },
  {
   "cell_type": "markdown",
   "metadata": {},
   "source": [
    "После оценки методом RICE видим 1 явного лидера среди гипотезам, это 7(Добавить форму подписки на все основные страницы), хотя при оценке методом ICE была на 3 месте.\n",
    "\n",
    "далее идет гипотеза 2(Добавить блоки рекомендаций товаров на сайт) \n",
    "\n",
    "и гипотеза 0 (Добавить два новых канала привлечения трафика) идет на 3 месте, а в ICE была на 2."
   ]
  },
  {
   "cell_type": "markdown",
   "metadata": {},
   "source": [
    "# Вывод 1 части "
   ]
  },
  {
   "cell_type": "markdown",
   "metadata": {},
   "source": [
    "Видим, что при учете числа пользователей, которых затронет изменение, изменилась приоритизация гипотез. \n",
    "Тут все логочино, так как добавление форми подписки на все основные страницы коснется почти всех пользователей, поэтому при применении метода RICE лидером с большим отрывом стал 7 метод, так как у него самая высокая оценка в данном критерии."
   ]
  },
  {
   "cell_type": "markdown",
   "metadata": {},
   "source": [
    "# 2 часть "
   ]
  },
  {
   "cell_type": "markdown",
   "metadata": {},
   "source": [
    "Постройте график кумулятивной выручки по группам. Сделайте выводы и предположения."
   ]
  },
  {
   "cell_type": "code",
   "execution_count": 39,
   "metadata": {},
   "outputs": [],
   "source": [
    "orders = pd.read_csv('/Users/aleksandrgrisenkin/Desktop/df/8. Проверка гипотез.Оценить результаты A:B теста/orders.csv')"
   ]
  },
  {
   "cell_type": "code",
   "execution_count": 40,
   "metadata": {},
   "outputs": [
    {
     "data": {
      "text/html": [
       "<div>\n",
       "<style scoped>\n",
       "    .dataframe tbody tr th:only-of-type {\n",
       "        vertical-align: middle;\n",
       "    }\n",
       "\n",
       "    .dataframe tbody tr th {\n",
       "        vertical-align: top;\n",
       "    }\n",
       "\n",
       "    .dataframe thead th {\n",
       "        text-align: right;\n",
       "    }\n",
       "</style>\n",
       "<table border=\"1\" class=\"dataframe\">\n",
       "  <thead>\n",
       "    <tr style=\"text-align: right;\">\n",
       "      <th></th>\n",
       "      <th>transactionId</th>\n",
       "      <th>visitorId</th>\n",
       "      <th>date</th>\n",
       "      <th>revenue</th>\n",
       "      <th>group</th>\n",
       "    </tr>\n",
       "  </thead>\n",
       "  <tbody>\n",
       "    <tr>\n",
       "      <th>0</th>\n",
       "      <td>3667963787</td>\n",
       "      <td>3312258926</td>\n",
       "      <td>2019-08-15</td>\n",
       "      <td>1650</td>\n",
       "      <td>B</td>\n",
       "    </tr>\n",
       "    <tr>\n",
       "      <th>1</th>\n",
       "      <td>2804400009</td>\n",
       "      <td>3642806036</td>\n",
       "      <td>2019-08-15</td>\n",
       "      <td>730</td>\n",
       "      <td>B</td>\n",
       "    </tr>\n",
       "    <tr>\n",
       "      <th>2</th>\n",
       "      <td>2961555356</td>\n",
       "      <td>4069496402</td>\n",
       "      <td>2019-08-15</td>\n",
       "      <td>400</td>\n",
       "      <td>A</td>\n",
       "    </tr>\n",
       "    <tr>\n",
       "      <th>3</th>\n",
       "      <td>3797467345</td>\n",
       "      <td>1196621759</td>\n",
       "      <td>2019-08-15</td>\n",
       "      <td>9759</td>\n",
       "      <td>B</td>\n",
       "    </tr>\n",
       "    <tr>\n",
       "      <th>4</th>\n",
       "      <td>2282983706</td>\n",
       "      <td>2322279887</td>\n",
       "      <td>2019-08-15</td>\n",
       "      <td>2308</td>\n",
       "      <td>B</td>\n",
       "    </tr>\n",
       "    <tr>\n",
       "      <th>...</th>\n",
       "      <td>...</td>\n",
       "      <td>...</td>\n",
       "      <td>...</td>\n",
       "      <td>...</td>\n",
       "      <td>...</td>\n",
       "    </tr>\n",
       "    <tr>\n",
       "      <th>1192</th>\n",
       "      <td>2662137336</td>\n",
       "      <td>3733762160</td>\n",
       "      <td>2019-08-14</td>\n",
       "      <td>6490</td>\n",
       "      <td>B</td>\n",
       "    </tr>\n",
       "    <tr>\n",
       "      <th>1193</th>\n",
       "      <td>2203539145</td>\n",
       "      <td>370388673</td>\n",
       "      <td>2019-08-14</td>\n",
       "      <td>3190</td>\n",
       "      <td>A</td>\n",
       "    </tr>\n",
       "    <tr>\n",
       "      <th>1194</th>\n",
       "      <td>1807773912</td>\n",
       "      <td>573423106</td>\n",
       "      <td>2019-08-14</td>\n",
       "      <td>10550</td>\n",
       "      <td>A</td>\n",
       "    </tr>\n",
       "    <tr>\n",
       "      <th>1195</th>\n",
       "      <td>1947021204</td>\n",
       "      <td>1614305549</td>\n",
       "      <td>2019-08-14</td>\n",
       "      <td>100</td>\n",
       "      <td>A</td>\n",
       "    </tr>\n",
       "    <tr>\n",
       "      <th>1196</th>\n",
       "      <td>3936777065</td>\n",
       "      <td>2108080724</td>\n",
       "      <td>2019-08-15</td>\n",
       "      <td>202740</td>\n",
       "      <td>B</td>\n",
       "    </tr>\n",
       "  </tbody>\n",
       "</table>\n",
       "<p>1197 rows × 5 columns</p>\n",
       "</div>"
      ],
      "text/plain": [
       "      transactionId   visitorId        date  revenue group\n",
       "0        3667963787  3312258926  2019-08-15     1650     B\n",
       "1        2804400009  3642806036  2019-08-15      730     B\n",
       "2        2961555356  4069496402  2019-08-15      400     A\n",
       "3        3797467345  1196621759  2019-08-15     9759     B\n",
       "4        2282983706  2322279887  2019-08-15     2308     B\n",
       "...             ...         ...         ...      ...   ...\n",
       "1192     2662137336  3733762160  2019-08-14     6490     B\n",
       "1193     2203539145   370388673  2019-08-14     3190     A\n",
       "1194     1807773912   573423106  2019-08-14    10550     A\n",
       "1195     1947021204  1614305549  2019-08-14      100     A\n",
       "1196     3936777065  2108080724  2019-08-15   202740     B\n",
       "\n",
       "[1197 rows x 5 columns]"
      ]
     },
     "metadata": {},
     "output_type": "display_data"
    },
    {
     "name": "stdout",
     "output_type": "stream",
     "text": [
      "<class 'pandas.core.frame.DataFrame'>\n",
      "RangeIndex: 1197 entries, 0 to 1196\n",
      "Data columns (total 5 columns):\n",
      " #   Column         Non-Null Count  Dtype \n",
      "---  ------         --------------  ----- \n",
      " 0   transactionId  1197 non-null   int64 \n",
      " 1   visitorId      1197 non-null   int64 \n",
      " 2   date           1197 non-null   object\n",
      " 3   revenue        1197 non-null   int64 \n",
      " 4   group          1197 non-null   object\n",
      "dtypes: int64(3), object(2)\n",
      "memory usage: 46.9+ KB\n"
     ]
    }
   ],
   "source": [
    "display(orders)\n",
    "orders.info()"
   ]
  },
  {
   "cell_type": "code",
   "execution_count": 41,
   "metadata": {},
   "outputs": [],
   "source": [
    "visitors = pd.read_csv('/Users/aleksandrgrisenkin/Desktop/df/8. Проверка гипотез.Оценить результаты A:B теста/visitors.csv')"
   ]
  },
  {
   "cell_type": "code",
   "execution_count": 42,
   "metadata": {
    "scrolled": false
   },
   "outputs": [
    {
     "data": {
      "text/html": [
       "<div>\n",
       "<style scoped>\n",
       "    .dataframe tbody tr th:only-of-type {\n",
       "        vertical-align: middle;\n",
       "    }\n",
       "\n",
       "    .dataframe tbody tr th {\n",
       "        vertical-align: top;\n",
       "    }\n",
       "\n",
       "    .dataframe thead th {\n",
       "        text-align: right;\n",
       "    }\n",
       "</style>\n",
       "<table border=\"1\" class=\"dataframe\">\n",
       "  <thead>\n",
       "    <tr style=\"text-align: right;\">\n",
       "      <th></th>\n",
       "      <th>date</th>\n",
       "      <th>group</th>\n",
       "      <th>visitors</th>\n",
       "    </tr>\n",
       "  </thead>\n",
       "  <tbody>\n",
       "    <tr>\n",
       "      <th>0</th>\n",
       "      <td>2019-08-01</td>\n",
       "      <td>A</td>\n",
       "      <td>719</td>\n",
       "    </tr>\n",
       "    <tr>\n",
       "      <th>1</th>\n",
       "      <td>2019-08-02</td>\n",
       "      <td>A</td>\n",
       "      <td>619</td>\n",
       "    </tr>\n",
       "    <tr>\n",
       "      <th>2</th>\n",
       "      <td>2019-08-03</td>\n",
       "      <td>A</td>\n",
       "      <td>507</td>\n",
       "    </tr>\n",
       "    <tr>\n",
       "      <th>3</th>\n",
       "      <td>2019-08-04</td>\n",
       "      <td>A</td>\n",
       "      <td>717</td>\n",
       "    </tr>\n",
       "    <tr>\n",
       "      <th>4</th>\n",
       "      <td>2019-08-05</td>\n",
       "      <td>A</td>\n",
       "      <td>756</td>\n",
       "    </tr>\n",
       "    <tr>\n",
       "      <th>...</th>\n",
       "      <td>...</td>\n",
       "      <td>...</td>\n",
       "      <td>...</td>\n",
       "    </tr>\n",
       "    <tr>\n",
       "      <th>57</th>\n",
       "      <td>2019-08-27</td>\n",
       "      <td>B</td>\n",
       "      <td>720</td>\n",
       "    </tr>\n",
       "    <tr>\n",
       "      <th>58</th>\n",
       "      <td>2019-08-28</td>\n",
       "      <td>B</td>\n",
       "      <td>654</td>\n",
       "    </tr>\n",
       "    <tr>\n",
       "      <th>59</th>\n",
       "      <td>2019-08-29</td>\n",
       "      <td>B</td>\n",
       "      <td>531</td>\n",
       "    </tr>\n",
       "    <tr>\n",
       "      <th>60</th>\n",
       "      <td>2019-08-30</td>\n",
       "      <td>B</td>\n",
       "      <td>490</td>\n",
       "    </tr>\n",
       "    <tr>\n",
       "      <th>61</th>\n",
       "      <td>2019-08-31</td>\n",
       "      <td>B</td>\n",
       "      <td>718</td>\n",
       "    </tr>\n",
       "  </tbody>\n",
       "</table>\n",
       "<p>62 rows × 3 columns</p>\n",
       "</div>"
      ],
      "text/plain": [
       "          date group  visitors\n",
       "0   2019-08-01     A       719\n",
       "1   2019-08-02     A       619\n",
       "2   2019-08-03     A       507\n",
       "3   2019-08-04     A       717\n",
       "4   2019-08-05     A       756\n",
       "..         ...   ...       ...\n",
       "57  2019-08-27     B       720\n",
       "58  2019-08-28     B       654\n",
       "59  2019-08-29     B       531\n",
       "60  2019-08-30     B       490\n",
       "61  2019-08-31     B       718\n",
       "\n",
       "[62 rows x 3 columns]"
      ]
     },
     "metadata": {},
     "output_type": "display_data"
    },
    {
     "name": "stdout",
     "output_type": "stream",
     "text": [
      "<class 'pandas.core.frame.DataFrame'>\n",
      "RangeIndex: 62 entries, 0 to 61\n",
      "Data columns (total 3 columns):\n",
      " #   Column    Non-Null Count  Dtype \n",
      "---  ------    --------------  ----- \n",
      " 0   date      62 non-null     object\n",
      " 1   group     62 non-null     object\n",
      " 2   visitors  62 non-null     int64 \n",
      "dtypes: int64(1), object(2)\n",
      "memory usage: 1.6+ KB\n"
     ]
    }
   ],
   "source": [
    "display(visitors)\n",
    "visitors.info()"
   ]
  },
  {
   "cell_type": "code",
   "execution_count": 43,
   "metadata": {},
   "outputs": [
    {
     "data": {
      "text/plain": [
       "date        0.0\n",
       "group       0.0\n",
       "visitors    0.0\n",
       "dtype: float64"
      ]
     },
     "execution_count": 43,
     "metadata": {},
     "output_type": "execute_result"
    }
   ],
   "source": [
    "round((visitors.isna().mean()*100),2)"
   ]
  },
  {
   "cell_type": "code",
   "execution_count": 44,
   "metadata": {},
   "outputs": [
    {
     "data": {
      "text/plain": [
       "transactionId    0.0\n",
       "visitorId        0.0\n",
       "date             0.0\n",
       "revenue          0.0\n",
       "group            0.0\n",
       "dtype: float64"
      ]
     },
     "execution_count": 44,
     "metadata": {},
     "output_type": "execute_result"
    }
   ],
   "source": [
    "round((orders.isna().mean()*100),2)"
   ]
  },
  {
   "cell_type": "code",
   "execution_count": 45,
   "metadata": {},
   "outputs": [
    {
     "data": {
      "text/plain": [
       "0"
      ]
     },
     "execution_count": 45,
     "metadata": {},
     "output_type": "execute_result"
    }
   ],
   "source": [
    "visitors.duplicated().sum()"
   ]
  },
  {
   "cell_type": "code",
   "execution_count": 46,
   "metadata": {},
   "outputs": [
    {
     "data": {
      "text/plain": [
       "0"
      ]
     },
     "execution_count": 46,
     "metadata": {},
     "output_type": "execute_result"
    }
   ],
   "source": [
    "orders.duplicated().sum()"
   ]
  },
  {
   "cell_type": "markdown",
   "metadata": {},
   "source": [
    "\n",
    "Проблем в данных нет.\n",
    "А именно: пропусков - нет.\n",
    "дубликаты не обнаружены.\n",
    "\n"
   ]
  },
  {
   "cell_type": "code",
   "execution_count": 48,
   "metadata": {},
   "outputs": [
    {
     "data": {
      "text/plain": [
       "58"
      ]
     },
     "execution_count": 48,
     "metadata": {},
     "output_type": "execute_result"
    }
   ],
   "source": [
    "A = orders[orders['group'] == 'A'][['visitorId']]\n",
    "B = orders[orders['group'] == 'B'][['visitorId']]\n",
    "len(list(set(A['visitorId']) & set(B['visitorId'])))"
   ]
  },
  {
   "cell_type": "markdown",
   "metadata": {},
   "source": [
    "Есть 58 пересечений, в рамках проекта мы оставляем все как есть."
   ]
  },
  {
   "cell_type": "code",
   "execution_count": 64,
   "metadata": {},
   "outputs": [
    {
     "data": {
      "image/png": "[encoded data removed]",
      "text/plain": [
       "<Figure size 432x288 with 1 Axes>"
      ]
     },
     "metadata": {
      "needs_background": "light"
     },
     "output_type": "display_data"
    }
   ],
   "source": [
    "\n",
    "# конвертеры, которые позволяют использовать типы pandas в matplotlib  \n",
    "register_matplotlib_converters()\n",
    "\n",
    "orders = pd.read_csv('/Users/aleksandrgrisenkin/Desktop/df/8. Проверка гипотез.Оценить результаты A:B теста/orders.csv')\n",
    "orders['date'] = orders['date'].map(lambda x: dt.datetime.strptime(x, '%Y-%m-%d'))\n",
    "\n",
    "visitors = pd.read_csv('/Users/aleksandrgrisenkin/Desktop/df/8. Проверка гипотез.Оценить результаты A:B теста/visitors.csv')\n",
    "visitors['date'] = visitors['date'].map(lambda x: dt.datetime.strptime(x, '%Y-%m-%d'))\n",
    "\n",
    "datesGroups = orders[['date', 'group']].drop_duplicates()\n",
    "\n",
    "ordersAggregated = datesGroups.apply(\n",
    "    lambda x: orders[\n",
    "        np.logical_and(\n",
    "            orders['date'] <= x['date'], orders['group'] == x['group']\n",
    "        )\n",
    "    ].agg(\n",
    "        {\n",
    "            'date': 'max',\n",
    "            'group': 'max',\n",
    "            'transactionId': 'nunique',\n",
    "            'visitorId': 'nunique',\n",
    "            'revenue': 'sum',\n",
    "        }\n",
    "    ),\n",
    "    axis=1,\n",
    ").sort_values(by=['date', 'group'])\n",
    "\n",
    "visitorsAggregated = datesGroups.apply(\n",
    "    lambda x: visitors[\n",
    "        np.logical_and(\n",
    "            visitors['date'] <= x['date'], visitors['group'] == x['group']\n",
    "        )\n",
    "    ].agg({'date': 'max', 'group': 'max', 'visitors': 'sum'}),\n",
    "    axis=1,\n",
    ").sort_values(by=['date', 'group'])\n",
    "\n",
    "cumulativeData = ordersAggregated.merge(\n",
    "    visitorsAggregated, left_on=['date', 'group'], right_on=['date', 'group']\n",
    ")\n",
    "cumulativeData.columns = [\n",
    "    'date',\n",
    "    'group',\n",
    "    'orders',\n",
    "    'buyers',\n",
    "    'revenue',\n",
    "    'visitors',\n",
    "]\n",
    "\n",
    "cumulativeRevenueA = cumulativeData[cumulativeData['group']=='A'][['date','revenue', 'orders']]\n",
    "\n",
    "# датафрейм с кумулятивным количеством заказов и кумулятивной выручкой по дням в группе B\n",
    "cumulativeRevenueB = cumulativeData[cumulativeData['group']=='B'][['date','revenue', 'orders']]\n",
    "\n",
    "# Строим график выручки группы А\n",
    "plt.plot(cumulativeRevenueA['date'], cumulativeRevenueA['revenue'], label='A')\n",
    "\n",
    "# Строим график выручки группы B\n",
    "plt.plot(cumulativeRevenueB['date'], cumulativeRevenueB['revenue'], label='B')\n",
    "\n",
    "\n",
    "\n",
    "plt.title('График выручки  во времени')\n",
    "plt.xlabel(\"Дата\")\n",
    "plt.ylabel(\"Выручка\")\n",
    "plt.legend() \n",
    "plt.annotate('скачок', xy=('2019-08-17', 2800000), xytext=('2019-08-10', 3500000),\n",
    "            arrowprops=dict(facecolor='g'))\n",
    "plt.annotate('отрыв', xy=('2019-08-05', 800000), xytext=('2019-08-05', 2000000),\n",
    "            arrowprops=dict(facecolor='g')) \n",
    "plt.xticks(rotation=45)\n",
    "plt.show()"
   ]
  },
  {
   "cell_type": "markdown",
   "metadata": {},
   "source": [
    "По началу сегменты идут +- одинаково, однако после 2х недель В сегмент резко вырос с 3000000 до 4000000 и достиг в конце 6000000, когда как А сегмент равномерно распределялся и достиг 4000000."
   ]
  },
  {
   "cell_type": "markdown",
   "metadata": {},
   "source": [
    "Постройте график кумулятивного среднего чека по группам. Сделайте выводы и предположения."
   ]
  },
  {
   "cell_type": "code",
   "execution_count": 50,
   "metadata": {},
   "outputs": [
    {
     "data": {
      "image/png": "[encoded data removed]",
      "text/plain": [
       "<Figure size 432x288 with 1 Axes>"
      ]
     },
     "metadata": {
      "needs_background": "light"
     },
     "output_type": "display_data"
    }
   ],
   "source": [
    "plt.plot(cumulativeRevenueA['date'], cumulativeRevenueA['revenue']/cumulativeRevenueA['orders'], label='A')\n",
    "plt.plot(cumulativeRevenueB['date'], cumulativeRevenueB['revenue']/cumulativeRevenueB['orders'], label='B')\n",
    "plt.legend() \n",
    "plt.title('График кумулятивного среднего чека по группам.')\n",
    "plt.xlabel(\"Дата\")\n",
    "plt.ylabel(\"средний чек\")\n",
    "plt.legend() \n",
    "plt.annotate('скачок', xy=('2019-08-17', 7500), xytext=('2019-08-10', 8000),\n",
    "            arrowprops=dict(facecolor='g'))\n",
    "plt.xticks(rotation=45)\n",
    "plt.show()"
   ]
  },
  {
   "cell_type": "markdown",
   "metadata": {},
   "source": [
    "Кумулятивного среднего чека по группам колеблються, но так же виден всплеск с 7000 до 10000 и идет снежение до 9000.\n",
    "Нужен доолнительный анализ выбросов, которые искажают результаты. "
   ]
  },
  {
   "cell_type": "markdown",
   "metadata": {},
   "source": [
    "Постройте график относительного изменения кумулятивного среднего чека группы B к группе A. Сделайте выводы и предположения."
   ]
  },
  {
   "cell_type": "code",
   "execution_count": 51,
   "metadata": {},
   "outputs": [
    {
     "data": {
      "image/png": "[encoded data removed]",
      "text/plain": [
       "<Figure size 432x288 with 1 Axes>"
      ]
     },
     "metadata": {
      "needs_background": "light"
     },
     "output_type": "display_data"
    }
   ],
   "source": [
    "mergedCumulativeRevenue = cumulativeRevenueA.merge(cumulativeRevenueB, left_on='date', right_on='date', how='left', suffixes=['A', 'B'])\n",
    "\n",
    "# cтроим отношение средних чеков\n",
    "plt.plot(mergedCumulativeRevenue['date'], (mergedCumulativeRevenue['revenueB']/mergedCumulativeRevenue['ordersB'])/(mergedCumulativeRevenue['revenueA']/mergedCumulativeRevenue['ordersA'])-1)\n",
    "\n",
    "# добавляем ось X\n",
    "plt.axhline(y=0, color='black', linestyle='--') \n",
    "plt.title('График относительного изменения кумулятивного среднего чека группы B к группе A.')\n",
    "plt.xlabel(\"Дата\")\n",
    "plt.ylabel(\"средний чек\")\n",
    "#plt.legend() \n",
    "plt.xticks(rotation=45)\n",
    "plt.show()"
   ]
  },
  {
   "cell_type": "markdown",
   "metadata": {},
   "source": [
    "Результаты теста резко падали на 4 недели теста, видимо тогда были совершены аномальные заказы."
   ]
  },
  {
   "cell_type": "markdown",
   "metadata": {},
   "source": [
    "Постройте график кумулятивной конверсии по группам. Сделайте выводы и предположения."
   ]
  },
  {
   "cell_type": "code",
   "execution_count": 52,
   "metadata": {},
   "outputs": [
    {
     "data": {
      "image/png": "[encoded data removed]",
      "text/plain": [
       "<Figure size 432x288 with 1 Axes>"
      ]
     },
     "metadata": {
      "needs_background": "light"
     },
     "output_type": "display_data"
    }
   ],
   "source": [
    "cumulativeData['conversion'] = cumulativeData['orders']/cumulativeData['visitors']\n",
    "\n",
    "# отделяем данные по группе A\n",
    "cumulativeDataA = cumulativeData[cumulativeData['group']=='A']\n",
    "\n",
    "# отделяем данные по группе B\n",
    "cumulativeDataB = cumulativeData[cumulativeData['group']=='B']\n",
    "\n",
    "# строим графики\n",
    "plt.plot(cumulativeDataA['date'], cumulativeDataA['conversion'], label='A')\n",
    "plt.plot(cumulativeDataB['date'], cumulativeDataB['conversion'], label='B')\n",
    "plt.legend()\n",
    "\n",
    "plt.axis([dt.datetime(2019, 8, 1), dt.datetime(2019, 9, 1), 0, 0.05])\n",
    "\n",
    "plt.title('График кумулятивной конверсии по группам.')\n",
    "plt.xlabel(\"Дата\")\n",
    "plt.ylabel(\"Конверсия\")\n",
    "#plt.legend() \n",
    "plt.annotate('переломный момент', xy=('2019-08-06', 0.035), xytext=('2019-08-02', 0.04),\n",
    "            arrowprops=dict(facecolor='g'))\n",
    "plt.xticks(rotation=45)\n",
    "plt.show()"
   ]
  },
  {
   "cell_type": "markdown",
   "metadata": {},
   "source": [
    "После 1 недели конверсия сегмента В стала выше конверсии А и закрепилась на уровне 35%."
   ]
  },
  {
   "cell_type": "markdown",
   "metadata": {},
   "source": [
    "Постройте график относительного изменения кумулятивной конверсии группы B к группе A. Сделайте выводы и предположения."
   ]
  },
  {
   "cell_type": "code",
   "execution_count": 53,
   "metadata": {},
   "outputs": [
    {
     "data": {
      "image/png": "[encoded data removed]",
      "text/plain": [
       "<Figure size 432x288 with 1 Axes>"
      ]
     },
     "metadata": {
      "needs_background": "light"
     },
     "output_type": "display_data"
    }
   ],
   "source": [
    "cumulativeData['conversion'] = (\n",
    "    cumulativeData['orders'] / cumulativeData['visitors']\n",
    ")\n",
    "\n",
    "cumulativeDataA = cumulativeData[cumulativeData['group'] == 'A']\n",
    "cumulativeDataB = cumulativeData[cumulativeData['group'] == 'B']\n",
    "\n",
    "mergedCumulativeConversions = cumulativeDataA[['date','conversion']].merge(cumulativeDataB[['date','conversion']], left_on='date', right_on='date', how='left', suffixes=['A', 'B'])\n",
    "\n",
    "plt.plot(mergedCumulativeConversions['date'], mergedCumulativeConversions['conversionB']/mergedCumulativeConversions['conversionA']-1, label=\"Относительный прирост конверсии группы B относительно группы A\")\n",
    "\n",
    "\n",
    "plt.axhline(y=0, color='black', linestyle='--')\n",
    "plt.axhline(y=0.2, color='grey', linestyle='--')\n",
    "plt.axis([\"2019-08-1\", '2019-09-1', -0.5, 0.5])\n",
    "\n",
    "plt.title('График относительного изменения кумулятивной конверсии группы B к группе A.')\n",
    "plt.xlabel(\"Дата\")\n",
    "plt.ylabel(\"Конверсия\")\n",
    "plt.xticks(rotation=45)\n",
    "plt.show()\n"
   ]
  },
  {
   "cell_type": "markdown",
   "metadata": {},
   "source": [
    "Со второй недели конверсия сегмента В опережает сегмента А. Доходит до 20% прироста относительно группы А к середине теста и в последние 3 недели устанваливается на уровне 15-17%."
   ]
  },
  {
   "cell_type": "markdown",
   "metadata": {},
   "source": [
    "Постройте точечный график количества заказов по пользователям. Сделайте выводы и предположения."
   ]
  },
  {
   "cell_type": "code",
   "execution_count": 54,
   "metadata": {},
   "outputs": [],
   "source": [
    "ordersByUsers = (\n",
    "    orders.groupby('visitorId', as_index=False)\n",
    "    .agg({'transactionId': pd.Series.nunique})\n",
    ")\n",
    "\n",
    "ordersByUsers.columns = ['userId', 'orders']"
   ]
  },
  {
   "cell_type": "code",
   "execution_count": 55,
   "metadata": {},
   "outputs": [
    {
     "data": {
      "image/png": "[encoded data removed]",
      "text/plain": [
       "<Figure size 432x288 with 1 Axes>"
      ]
     },
     "metadata": {
      "needs_background": "light"
     },
     "output_type": "display_data"
    }
   ],
   "source": [
    "x_values = pd.Series(range(0, len(ordersByUsers)))\n",
    "\n",
    "plt.scatter(x_values, ordersByUsers['orders']) \n",
    "plt.title('График количества заказов по пользователям')\n",
    "plt.xlabel(\"сумма заказов\")\n",
    "plt.ylabel(\"Количество закзов\")\n",
    "plt.show()\n"
   ]
  },
  {
   "cell_type": "markdown",
   "metadata": {},
   "source": [
    "Пользователей заказавших больше 2х раз не много, нужно посчитать процентили, чтобы ответить на вопрос анамалия ли это."
   ]
  },
  {
   "cell_type": "markdown",
   "metadata": {},
   "source": [
    "Посчитайте 95-й и 99-й перцентили количества заказов на пользователя. Выберите границу для определения аномальных пользователей."
   ]
  },
  {
   "cell_type": "code",
   "execution_count": 56,
   "metadata": {},
   "outputs": [
    {
     "data": {
      "text/plain": [
       "array([1., 2., 4.])"
      ]
     },
     "execution_count": 56,
     "metadata": {},
     "output_type": "execute_result"
    }
   ],
   "source": [
    "np.percentile(ordersByUsers['orders'], [90, 95, 99])"
   ]
  },
  {
   "cell_type": "markdown",
   "metadata": {},
   "source": [
    "5% делали больше 2х заказов и не более  1% делали больше 4 заказов "
   ]
  },
  {
   "cell_type": "markdown",
   "metadata": {},
   "source": [
    "Постройте точечный график стоимостей заказов. Сделайте выводы и предположения.\n",
    "Посчитайте 95-й и 99-й перцентили стоимости заказов. Выберите границу для определения аномальных заказов."
   ]
  },
  {
   "cell_type": "code",
   "execution_count": 57,
   "metadata": {},
   "outputs": [
    {
     "data": {
      "image/png": "[encoded data removed]",
      "text/plain": [
       "<Figure size 432x288 with 1 Axes>"
      ]
     },
     "metadata": {
      "needs_background": "light"
     },
     "output_type": "display_data"
    }
   ],
   "source": [
    "y_values = pd.Series(range(0, len(orders)))\n",
    "\n",
    "plt.scatter(y_values, orders['revenue']) \n",
    "plt.title('Точечный график стоимостей заказов')\n",
    "plt.xlabel(\"колличество  заказов\")\n",
    "plt.ylabel(\"Стоимость закзов\")\n",
    "plt.show()\n"
   ]
  },
  {
   "cell_type": "code",
   "execution_count": 58,
   "metadata": {},
   "outputs": [
    {
     "data": {
      "text/plain": [
       "array([18168. , 28000. , 58233.2])"
      ]
     },
     "execution_count": 58,
     "metadata": {},
     "output_type": "execute_result"
    }
   ],
   "source": [
    "np.percentile(orders['revenue'], [90, 95, 99])"
   ]
  },
  {
   "cell_type": "markdown",
   "metadata": {},
   "source": [
    "90% заказов были в районе 18168, 5% делали больше 28000  и не более 1% делали больше 58233.2."
   ]
  },
  {
   "cell_type": "markdown",
   "metadata": {},
   "source": [
    "Посчитайте статистическую значимость различий в конверсии между группами по «сырым» данным. Сделайте выводы и предположения."
   ]
  },
  {
   "cell_type": "markdown",
   "metadata": {},
   "source": [
    "__Комментарий от студента №2__\n",
    "\n",
    "Проверим 2 гипотезы:\n",
    "\n",
    "Гипотеза 1:\n",
    "    \n",
    "Нулевая гипотеза: Вероятность того, что наблюдение из популяции А превышает наблюдение из популяции В равна 50%\n",
    "    \n",
    "Обратная гипотеза:  Вероятность того, что наблюдение из популяции А превышает наблюдение из популяции В не равна 50%\n",
    "    \n",
    "Гипотеза 2:    \n",
    "Нулевая гипотеза: Вероятность того, что наблюдение из популяции А превышает наблюдение из популяции В по среднему чеку  равна 50%\n",
    "    \n",
    "Обратная гипотеза: Вероятность того, что наблюдение из популяции А превышает наблюдение из популяции В по среднему чеку  не равна 50%\n",
    "    "
   ]
  },
  {
   "cell_type": "code",
   "execution_count": 59,
   "metadata": {},
   "outputs": [
    {
     "data": {
      "text/plain": [
       "'0.00840'"
      ]
     },
     "metadata": {},
     "output_type": "display_data"
    },
    {
     "data": {
      "text/plain": [
       "'0.138'"
      ]
     },
     "metadata": {},
     "output_type": "display_data"
    }
   ],
   "source": [
    "visitorsADaily = visitors[visitors['group'] == 'A'][['date', 'visitors']]\n",
    "visitorsADaily.columns = ['date', 'visitorsPerDateA']\n",
    "\n",
    "visitorsACummulative = visitorsADaily.apply(\n",
    "    lambda x: visitorsADaily[visitorsADaily['date'] <= x['date']].agg(\n",
    "        {'date': 'max', 'visitorsPerDateA': 'sum'}\n",
    "    ),\n",
    "    axis=1,\n",
    ")\n",
    "visitorsACummulative.columns = ['date', 'visitorsCummulativeA']\n",
    "\n",
    "visitorsBDaily = visitors[visitors['group'] == 'B'][['date', 'visitors']]\n",
    "visitorsBDaily.columns = ['date', 'visitorsPerDateB']\n",
    "\n",
    "visitorsBCummulative = visitorsBDaily.apply(\n",
    "    lambda x: visitorsBDaily[visitorsBDaily['date'] <= x['date']].agg(\n",
    "        {'date': 'max', 'visitorsPerDateB': 'sum'}\n",
    "    ),\n",
    "    axis=1,\n",
    ")\n",
    "visitorsBCummulative.columns = ['date', 'visitorsCummulativeB']\n",
    "\n",
    "ordersADaily = (\n",
    "    orders[orders['group'] == 'A'][['date', 'transactionId', 'visitorId', 'revenue']]\n",
    "    .groupby('date', as_index=False)\n",
    "    .agg({'transactionId': pd.Series.nunique, 'revenue': 'sum'})\n",
    ")\n",
    "ordersADaily.columns = ['date', 'ordersPerDateA', 'revenuePerDateA']\n",
    "\n",
    "ordersACummulative = ordersADaily.apply(\n",
    "    lambda x: ordersADaily[ordersADaily['date'] <= x['date']].agg(\n",
    "        {'date': 'max', 'ordersPerDateA': 'sum', 'revenuePerDateA': 'sum'}\n",
    "    ),\n",
    "    axis=1,\n",
    ").sort_values(by=['date'])\n",
    "ordersACummulative.columns = [\n",
    "    'date',\n",
    "    'ordersCummulativeA',\n",
    "    'revenueCummulativeA',\n",
    "]\n",
    "\n",
    "ordersBDaily = (\n",
    "    orders[orders['group'] == 'B'][['date', 'transactionId', 'visitorId', 'revenue']]\n",
    "    .groupby('date', as_index=False)\n",
    "    .agg({'transactionId': pd.Series.nunique, 'revenue': 'sum'})\n",
    ")\n",
    "ordersBDaily.columns = ['date', 'ordersPerDateB', 'revenuePerDateB']\n",
    "\n",
    "ordersBCummulative = ordersBDaily.apply(\n",
    "    lambda x: ordersBDaily[ordersBDaily['date'] <= x['date']].agg(\n",
    "        {'date': 'max', 'ordersPerDateB': 'sum', 'revenuePerDateB': 'sum'}\n",
    "    ),\n",
    "    axis=1,\n",
    ").sort_values(by=['date'])\n",
    "ordersBCummulative.columns = [\n",
    "    'date',\n",
    "    'ordersCummulativeB',\n",
    "    'revenueCummulativeB',\n",
    "]\n",
    "\n",
    "data = (\n",
    "    ordersADaily.merge(\n",
    "        ordersBDaily, left_on='date', right_on='date', how='left'\n",
    "    )\n",
    "    .merge(ordersACummulative, left_on='date', right_on='date', how='left')\n",
    "    .merge(ordersBCummulative, left_on='date', right_on='date', how='left')\n",
    "    .merge(visitorsADaily, left_on='date', right_on='date', how='left')\n",
    "    .merge(visitorsBDaily, left_on='date', right_on='date', how='left')\n",
    "    .merge(visitorsACummulative, left_on='date', right_on='date', how='left')\n",
    "    .merge(visitorsBCummulative, left_on='date', right_on='date', how='left')\n",
    ")\n",
    "\n",
    "ordersByUsersA = (\n",
    "    orders[orders['group'] == 'A']\n",
    "    .groupby('visitorId', as_index=False)\n",
    "    .agg({'transactionId': pd.Series.nunique})\n",
    ")\n",
    "ordersByUsersA.columns = ['visitorId', 'orders']\n",
    "\n",
    "ordersByUsersB = (\n",
    "    orders[orders['group'] == 'B']\n",
    "    .groupby('visitorId', as_index=False)\n",
    "    .agg({'transactionId': pd.Series.nunique})\n",
    ")\n",
    "ordersByUsersB.columns = ['visitorId', 'orders']\n",
    "\n",
    " \n",
    "sampleA = pd.concat(\n",
    "    [\n",
    "        ordersByUsersA['orders'],\n",
    "        pd.Series(\n",
    "            0,\n",
    "            index=np.arange(\n",
    "                data['visitorsPerDateA'].sum() - len(ordersByUsersA['orders'])\n",
    "            ),\n",
    "            name='orders',\n",
    "        ),\n",
    "    ],\n",
    "    axis=0,\n",
    ")\n",
    " \n",
    "sampleB = pd.concat(\n",
    "    [\n",
    "        ordersByUsersB['orders'],\n",
    "        pd.Series(\n",
    "            0,\n",
    "            index=np.arange(\n",
    "                data['visitorsPerDateB'].sum() - len(ordersByUsersB['orders'])\n",
    "            ),\n",
    "            name='orders',\n",
    "        ),\n",
    "    ],\n",
    "    axis=0,\n",
    ")\n",
    " \n",
    "display(\"{0:.5f}\".format(stats.mannwhitneyu(sampleA, sampleB)[1]))\n",
    " \n",
    "display(\"{0:.3f}\".format(sampleB.mean() / sampleA .mean() - 1))\n",
    " \n",
    " \n"
   ]
  },
  {
   "cell_type": "markdown",
   "metadata": {},
   "source": [
    "p-value значительно меньше 0.05, значит, нулевую гипотезу о том, что статистически значимых различий в конверсии между группами нет, отвергаем.\n",
    "\n",
    "Относительный прирост конверсии группы В к конверсии группы А равен 13,8%."
   ]
  },
  {
   "cell_type": "markdown",
   "metadata": {},
   "source": [
    "Посчитайте статистическую значимость различий в среднем чеке заказа между группами по «сырым» данным. Сделайте выводы и предположения."
   ]
  },
  {
   "cell_type": "code",
   "execution_count": 60,
   "metadata": {},
   "outputs": [
    {
     "data": {
      "text/plain": [
       "'0.365'"
      ]
     },
     "metadata": {},
     "output_type": "display_data"
    },
    {
     "data": {
      "text/plain": [
       "'0.259'"
      ]
     },
     "metadata": {},
     "output_type": "display_data"
    }
   ],
   "source": [
    "\n",
    "display('{0:.3f}'.format(stats.mannwhitneyu(orders[orders['group']=='A']['revenue'], orders[orders['group']=='B']['revenue'])[1]))\n",
    "display('{0:.3f}'.format(orders[orders['group']=='B']['revenue'].mean()/orders[orders['group']=='A']['revenue'].mean()-1))"
   ]
  },
  {
   "cell_type": "markdown",
   "metadata": {},
   "source": [
    "P-value значительно больше 0.05. Значит, причин отвергать нулевую гипотезу и считать, что в среднем чеке есть различия, нет. Впрочем, средний чек группы B выше среднего чека группы A  почти на 26%."
   ]
  },
  {
   "cell_type": "markdown",
   "metadata": {},
   "source": [
    "Посчитайте статистическую значимость различий в конверсии между группами по «очищенным» данным. Сделайте выводы и предположения."
   ]
  },
  {
   "cell_type": "code",
   "execution_count": 61,
   "metadata": {},
   "outputs": [
    {
     "name": "stdout",
     "output_type": "stream",
     "text": [
      "0.00652\n",
      "0.173\n"
     ]
    }
   ],
   "source": [
    "\n",
    "usersWithManyOrders = pd.concat(\n",
    "    [\n",
    "        ordersByUsersA[ordersByUsersA['orders'] > 2]['visitorId'],\n",
    "        ordersByUsersB[ordersByUsersB['orders'] > 2]['visitorId'],\n",
    "    ],\n",
    "    axis=0,\n",
    ")\n",
    "usersWithExpensiveOrders = orders[orders['revenue'] >  28000]['visitorId']\n",
    "abnormalUsers = (\n",
    "    pd.concat([usersWithManyOrders, usersWithExpensiveOrders], axis=0)\n",
    "    .drop_duplicates()\n",
    "    .sort_values()\n",
    ")\n",
    "sampleAFiltered = pd.concat(\n",
    "    [\n",
    "        ordersByUsersA[\n",
    "            np.logical_not(ordersByUsersA['visitorId'].isin(abnormalUsers))\n",
    "        ]['orders'],\n",
    "        pd.Series(\n",
    "            0,\n",
    "            index=np.arange(\n",
    "                data['visitorsPerDateA'].sum() - len(ordersByUsersA['orders'])\n",
    "            ),\n",
    "            name='orders',\n",
    "        ),\n",
    "    ],\n",
    "    axis=0,\n",
    ")\n",
    "\n",
    "sampleBFiltered = pd.concat(\n",
    "    [\n",
    "        ordersByUsersB[\n",
    "            np.logical_not(ordersByUsersB['visitorId'].isin(abnormalUsers))\n",
    "        ]['orders'],\n",
    "        pd.Series(\n",
    "            0,\n",
    "            index=np.arange(\n",
    "                data['visitorsPerDateB'].sum() - len(ordersByUsersB['orders'])\n",
    "            ),\n",
    "            name='orders',\n",
    "        ),\n",
    "    ],\n",
    "    axis=0,\n",
    ") \n",
    "\n",
    "print('{0:.5f}'.format(stats.mannwhitneyu(sampleAFiltered, sampleBFiltered)[1]))\n",
    "print('{0:.3f}'.format(sampleBFiltered.mean()/sampleAFiltered.mean()-1)) "
   ]
  },
  {
   "cell_type": "markdown",
   "metadata": {},
   "source": [
    "p-value  меньше 0.05, значит, нулевую гипотезу о том, что статистически значимых различий в конверсии между группами нет, отвергаем.\n",
    "\n",
    "Относительный прирост конверсии группы В к конверсии группы А увеличился и равен 17,3%."
   ]
  },
  {
   "cell_type": "markdown",
   "metadata": {},
   "source": [
    "Посчитайте статистическую значимость различий в среднем чеке заказа между группами по «очищенным» данным. Сделайте выводы и предположения."
   ]
  },
  {
   "cell_type": "code",
   "execution_count": 62,
   "metadata": {},
   "outputs": [
    {
     "name": "stdout",
     "output_type": "stream",
     "text": [
      "0.369\n",
      "0.020\n"
     ]
    }
   ],
   "source": [
    "\n",
    "\n",
    "print(\n",
    "    '{0:.3f}'.format(\n",
    "        stats.mannwhitneyu(\n",
    "            orders[\n",
    "                np.logical_and(\n",
    "                    orders['group'] == 'A',\n",
    "                    np.logical_not(orders['visitorId'].isin(abnormalUsers)),\n",
    "                )\n",
    "            ]['revenue'],\n",
    "            orders[\n",
    "                np.logical_and(\n",
    "                    orders['group'] == 'B',\n",
    "                    np.logical_not(orders['visitorId'].isin(abnormalUsers)),\n",
    "                )\n",
    "            ]['revenue'],\n",
    "        )[1]\n",
    "    )\n",
    ")\n",
    "\n",
    "print(\n",
    "    \"{0:.3f}\".format(\n",
    "        orders[\n",
    "            np.logical_and(\n",
    "                orders['group'] == 'A',\n",
    "                np.logical_not(orders['visitorId'].isin(abnormalUsers)),\n",
    "            )\n",
    "        ]['revenue'].mean()\n",
    "        / orders[\n",
    "            np.logical_and(\n",
    "                orders['group'] == 'B',\n",
    "                np.logical_not(orders['visitorId'].isin(abnormalUsers)),\n",
    "            )\n",
    "        ]['revenue'].mean()\n",
    "        - 1\n",
    "    )\n",
    ") "
   ]
  },
  {
   "cell_type": "markdown",
   "metadata": {},
   "source": [
    "После удаления выбросов в данных стало меньше шума. \n",
    "\n",
    "P-value увеличился,  а разница между сегментами что в среднем чеке сократилась с 26% до 2%.\n",
    "\n",
    "Что подверждает гипотезу\n"
   ]
  },
  {
   "cell_type": "markdown",
   "metadata": {},
   "source": [
    "# Итог:\n",
    "\n",
    "Есть статистически значимые различия по конверсии между группами по «сырым», и по данным после фильтрации аномалий;\n",
    "Что подверждает увелечение разницы коверсии после фильтрации до 17,3%\n",
    "\n",
    "Нет статистически значимого различия по среднему чеку между группами ни по «сырым», ни по данным после фильтрации аномалий. После фильтрации процент различия среднего чека сократился до 2%.\n",
    "\n",
    "График различия конверсии между группами сообщает, что результаты группы А хуже группы В и нет значительной тенденции к улучшению:\n",
    "\n",
    "График различия среднего чека по сырым данным говорит о том, что результаты группы B в какой то момент ухудшился до -15%,  но потом вернулся на свои показатели и остановился на уровне 26%, скорее всего в группе А была анамалия. \n",
    "\n",
    "Исходя из обнаруженных фактов, тест следует остановить. Продолжать смысла нет, так как данные остановились примерно на одном уровне. Победу одерживает группа В, так как несмотря на (практически) отсутсвие разницы в среднем чеке( в чистых данных), процент конверсии больше на 20,5 процентов у группы В. "
   ]
  },
  {
   "cell_type": "code",
   "execution_count": null,
   "metadata": {},
   "outputs": [],
   "source": []
  }
 ],
 "metadata": {
  "ExecuteTimeLog": [
   {
    "duration": 938,
    "start_time": "2022-03-06T17:17:10.389Z"
   },
   {
    "duration": 371,
    "start_time": "2022-03-06T17:22:13.260Z"
   },
   {
    "duration": 17,
    "start_time": "2022-03-06T17:22:22.558Z"
   },
   {
    "duration": 16,
    "start_time": "2022-03-06T17:22:29.772Z"
   },
   {
    "duration": 5,
    "start_time": "2022-03-06T17:22:44.596Z"
   },
   {
    "duration": 16,
    "start_time": "2022-03-06T17:23:29.663Z"
   },
   {
    "duration": 6165,
    "start_time": "2022-03-06T17:28:25.672Z"
   },
   {
    "duration": 3,
    "start_time": "2022-03-06T17:29:37.838Z"
   },
   {
    "duration": 7,
    "start_time": "2022-03-06T17:29:43.295Z"
   },
   {
    "duration": 2,
    "start_time": "2022-03-06T17:29:51.836Z"
   },
   {
    "duration": 8,
    "start_time": "2022-03-06T17:29:53.334Z"
   },
   {
    "duration": 8,
    "start_time": "2022-03-06T17:30:00.052Z"
   },
   {
    "duration": 9,
    "start_time": "2022-03-06T17:30:51.701Z"
   },
   {
    "duration": 4,
    "start_time": "2022-03-06T17:32:24.244Z"
   },
   {
    "duration": 29,
    "start_time": "2022-03-06T17:32:24.250Z"
   },
   {
    "duration": 14,
    "start_time": "2022-03-06T17:32:24.281Z"
   },
   {
    "duration": 3,
    "start_time": "2022-03-06T17:32:24.297Z"
   },
   {
    "duration": 5,
    "start_time": "2022-03-06T17:32:24.301Z"
   },
   {
    "duration": 9,
    "start_time": "2022-03-06T17:32:24.308Z"
   },
   {
    "duration": 4,
    "start_time": "2022-03-06T17:42:36.972Z"
   },
   {
    "duration": 8,
    "start_time": "2022-03-06T17:48:51.564Z"
   },
   {
    "duration": 2,
    "start_time": "2022-03-06T18:23:06.156Z"
   },
   {
    "duration": 3,
    "start_time": "2022-03-06T18:23:21.521Z"
   },
   {
    "duration": 19,
    "start_time": "2022-03-06T18:23:21.525Z"
   },
   {
    "duration": 10,
    "start_time": "2022-03-06T18:23:21.546Z"
   },
   {
    "duration": 3,
    "start_time": "2022-03-06T18:23:21.558Z"
   },
   {
    "duration": 5,
    "start_time": "2022-03-06T18:23:21.562Z"
   },
   {
    "duration": 8,
    "start_time": "2022-03-06T18:23:21.568Z"
   },
   {
    "duration": 5,
    "start_time": "2022-03-06T18:23:21.577Z"
   },
   {
    "duration": 12,
    "start_time": "2022-03-06T18:23:21.584Z"
   },
   {
    "duration": 780,
    "start_time": "2022-03-07T17:54:59.089Z"
   },
   {
    "duration": 23,
    "start_time": "2022-03-07T17:54:59.871Z"
   },
   {
    "duration": 16,
    "start_time": "2022-03-07T17:54:59.896Z"
   },
   {
    "duration": 212,
    "start_time": "2022-03-07T17:54:59.914Z"
   },
   {
    "duration": 787,
    "start_time": "2022-03-07T17:54:59.341Z"
   },
   {
    "duration": 785,
    "start_time": "2022-03-07T17:54:59.344Z"
   },
   {
    "duration": 784,
    "start_time": "2022-03-07T17:54:59.345Z"
   },
   {
    "duration": 783,
    "start_time": "2022-03-07T17:54:59.347Z"
   },
   {
    "duration": 3,
    "start_time": "2022-03-07T17:55:24.691Z"
   },
   {
    "duration": 3,
    "start_time": "2022-03-07T17:55:29.008Z"
   },
   {
    "duration": 12,
    "start_time": "2022-03-07T17:55:29.013Z"
   },
   {
    "duration": 11,
    "start_time": "2022-03-07T17:55:29.027Z"
   },
   {
    "duration": 3,
    "start_time": "2022-03-07T17:55:29.039Z"
   },
   {
    "duration": 7,
    "start_time": "2022-03-07T17:55:29.044Z"
   },
   {
    "duration": 8,
    "start_time": "2022-03-07T17:55:29.053Z"
   },
   {
    "duration": 6,
    "start_time": "2022-03-07T17:55:29.062Z"
   },
   {
    "duration": 10,
    "start_time": "2022-03-07T17:55:29.070Z"
   },
   {
    "duration": 179,
    "start_time": "2022-03-07T17:56:17.947Z"
   },
   {
    "duration": 974,
    "start_time": "2022-03-07T17:56:25.350Z"
   },
   {
    "duration": 34,
    "start_time": "2022-03-07T17:56:32.403Z"
   },
   {
    "duration": 12,
    "start_time": "2022-03-07T17:56:38.383Z"
   },
   {
    "duration": 7,
    "start_time": "2022-03-07T17:57:21.741Z"
   },
   {
    "duration": 113,
    "start_time": "2022-03-07T18:02:14.202Z"
   },
   {
    "duration": 15,
    "start_time": "2022-03-07T18:02:14.317Z"
   },
   {
    "duration": 11,
    "start_time": "2022-03-07T18:02:14.334Z"
   },
   {
    "duration": 4,
    "start_time": "2022-03-07T18:02:14.347Z"
   },
   {
    "duration": 8,
    "start_time": "2022-03-07T18:02:14.353Z"
   },
   {
    "duration": 13,
    "start_time": "2022-03-07T18:02:14.363Z"
   },
   {
    "duration": 5,
    "start_time": "2022-03-07T18:02:14.378Z"
   },
   {
    "duration": 10,
    "start_time": "2022-03-07T18:02:14.385Z"
   },
   {
    "duration": 36,
    "start_time": "2022-03-07T18:02:14.397Z"
   },
   {
    "duration": 6,
    "start_time": "2022-03-07T18:02:14.435Z"
   },
   {
    "duration": 769,
    "start_time": "2022-03-07T18:02:14.443Z"
   },
   {
    "duration": 614,
    "start_time": "2022-03-07T18:03:27.547Z"
   },
   {
    "duration": 136,
    "start_time": "2022-03-07T18:05:15.234Z"
   },
   {
    "duration": 21,
    "start_time": "2022-03-07T18:05:28.471Z"
   },
   {
    "duration": 596,
    "start_time": "2022-03-07T18:06:13.952Z"
   },
   {
    "duration": 32,
    "start_time": "2022-03-07T18:17:14.362Z"
   },
   {
    "duration": 11,
    "start_time": "2022-03-07T18:17:37.940Z"
   },
   {
    "duration": 13,
    "start_time": "2022-03-07T18:17:44.410Z"
   },
   {
    "duration": 4,
    "start_time": "2022-03-07T18:18:30.266Z"
   },
   {
    "duration": 23,
    "start_time": "2022-03-07T18:18:30.271Z"
   },
   {
    "duration": 22,
    "start_time": "2022-03-07T18:18:30.296Z"
   },
   {
    "duration": 9,
    "start_time": "2022-03-07T18:18:30.320Z"
   },
   {
    "duration": 17,
    "start_time": "2022-03-07T18:18:30.330Z"
   },
   {
    "duration": 25,
    "start_time": "2022-03-07T18:18:30.349Z"
   },
   {
    "duration": 8,
    "start_time": "2022-03-07T18:18:30.375Z"
   },
   {
    "duration": 23,
    "start_time": "2022-03-07T18:18:30.385Z"
   },
   {
    "duration": 22,
    "start_time": "2022-03-07T18:18:30.410Z"
   },
   {
    "duration": 17,
    "start_time": "2022-03-07T18:18:30.434Z"
   },
   {
    "duration": 24,
    "start_time": "2022-03-07T18:18:30.453Z"
   },
   {
    "duration": 18,
    "start_time": "2022-03-07T18:18:30.479Z"
   },
   {
    "duration": 589,
    "start_time": "2022-03-07T18:18:30.499Z"
   },
   {
    "duration": 1083,
    "start_time": "2022-03-07T20:33:17.520Z"
   },
   {
    "duration": 18,
    "start_time": "2022-03-07T20:33:18.604Z"
   },
   {
    "duration": 19,
    "start_time": "2022-03-07T20:33:18.624Z"
   },
   {
    "duration": 3,
    "start_time": "2022-03-07T20:33:18.645Z"
   },
   {
    "duration": 10,
    "start_time": "2022-03-07T20:33:18.649Z"
   },
   {
    "duration": 9,
    "start_time": "2022-03-07T20:33:18.661Z"
   },
   {
    "duration": 4,
    "start_time": "2022-03-07T20:33:18.672Z"
   },
   {
    "duration": 10,
    "start_time": "2022-03-07T20:33:18.678Z"
   },
   {
    "duration": 27,
    "start_time": "2022-03-07T20:33:18.690Z"
   },
   {
    "duration": 19,
    "start_time": "2022-03-07T20:33:18.719Z"
   },
   {
    "duration": 11,
    "start_time": "2022-03-07T20:33:18.740Z"
   },
   {
    "duration": 16,
    "start_time": "2022-03-07T20:33:18.753Z"
   },
   {
    "duration": 664,
    "start_time": "2022-03-07T20:33:18.771Z"
   },
   {
    "duration": 3,
    "start_time": "2022-03-07T20:33:44.766Z"
   },
   {
    "duration": 12,
    "start_time": "2022-03-07T20:33:44.774Z"
   },
   {
    "duration": 11,
    "start_time": "2022-03-07T20:33:44.787Z"
   },
   {
    "duration": 3,
    "start_time": "2022-03-07T20:33:44.800Z"
   },
   {
    "duration": 6,
    "start_time": "2022-03-07T20:33:44.804Z"
   },
   {
    "duration": 11,
    "start_time": "2022-03-07T20:33:44.812Z"
   },
   {
    "duration": 5,
    "start_time": "2022-03-07T20:33:44.824Z"
   },
   {
    "duration": 11,
    "start_time": "2022-03-07T20:33:44.831Z"
   },
   {
    "duration": 25,
    "start_time": "2022-03-07T20:33:44.843Z"
   },
   {
    "duration": 15,
    "start_time": "2022-03-07T20:33:44.870Z"
   },
   {
    "duration": 10,
    "start_time": "2022-03-07T20:33:44.887Z"
   },
   {
    "duration": 14,
    "start_time": "2022-03-07T20:33:44.898Z"
   },
   {
    "duration": 610,
    "start_time": "2022-03-07T20:33:44.914Z"
   },
   {
    "duration": 583,
    "start_time": "2022-03-07T20:35:11.117Z"
   },
   {
    "duration": 5,
    "start_time": "2022-03-07T20:38:03.603Z"
   },
   {
    "duration": 4,
    "start_time": "2022-03-07T20:38:30.131Z"
   },
   {
    "duration": 662,
    "start_time": "2022-03-07T20:38:49.849Z"
   },
   {
    "duration": 629,
    "start_time": "2022-03-07T20:39:34.798Z"
   },
   {
    "duration": 594,
    "start_time": "2022-03-07T20:39:55.935Z"
   },
   {
    "duration": 620,
    "start_time": "2022-03-07T20:40:13.076Z"
   },
   {
    "duration": 545,
    "start_time": "2022-03-07T20:40:39.413Z"
   },
   {
    "duration": 4,
    "start_time": "2022-03-07T20:46:06.377Z"
   },
   {
    "duration": 15,
    "start_time": "2022-03-07T20:46:06.382Z"
   },
   {
    "duration": 14,
    "start_time": "2022-03-07T20:46:06.399Z"
   },
   {
    "duration": 5,
    "start_time": "2022-03-07T20:46:06.415Z"
   },
   {
    "duration": 8,
    "start_time": "2022-03-07T20:46:06.421Z"
   },
   {
    "duration": 14,
    "start_time": "2022-03-07T20:46:06.430Z"
   },
   {
    "duration": 7,
    "start_time": "2022-03-07T20:46:06.446Z"
   },
   {
    "duration": 14,
    "start_time": "2022-03-07T20:46:06.454Z"
   },
   {
    "duration": 24,
    "start_time": "2022-03-07T20:46:06.470Z"
   },
   {
    "duration": 15,
    "start_time": "2022-03-07T20:46:06.495Z"
   },
   {
    "duration": 10,
    "start_time": "2022-03-07T20:46:06.512Z"
   },
   {
    "duration": 14,
    "start_time": "2022-03-07T20:46:06.523Z"
   },
   {
    "duration": 533,
    "start_time": "2022-03-07T20:46:06.539Z"
   },
   {
    "duration": 194,
    "start_time": "2022-03-07T20:46:50.674Z"
   },
   {
    "duration": 280,
    "start_time": "2022-03-07T20:51:53.985Z"
   },
   {
    "duration": 177,
    "start_time": "2022-03-07T20:55:18.987Z"
   },
   {
    "duration": 4,
    "start_time": "2022-03-07T20:55:29.003Z"
   },
   {
    "duration": 19,
    "start_time": "2022-03-07T20:55:29.009Z"
   },
   {
    "duration": 16,
    "start_time": "2022-03-07T20:55:29.030Z"
   },
   {
    "duration": 6,
    "start_time": "2022-03-07T20:55:29.048Z"
   },
   {
    "duration": 8,
    "start_time": "2022-03-07T20:55:29.056Z"
   },
   {
    "duration": 12,
    "start_time": "2022-03-07T20:55:29.065Z"
   },
   {
    "duration": 6,
    "start_time": "2022-03-07T20:55:29.078Z"
   },
   {
    "duration": 14,
    "start_time": "2022-03-07T20:55:29.086Z"
   },
   {
    "duration": 21,
    "start_time": "2022-03-07T20:55:29.102Z"
   },
   {
    "duration": 22,
    "start_time": "2022-03-07T20:55:29.125Z"
   },
   {
    "duration": 10,
    "start_time": "2022-03-07T20:55:29.149Z"
   },
   {
    "duration": 27,
    "start_time": "2022-03-07T20:55:29.161Z"
   },
   {
    "duration": 547,
    "start_time": "2022-03-07T20:55:29.190Z"
   },
   {
    "duration": 207,
    "start_time": "2022-03-07T20:55:29.739Z"
   },
   {
    "duration": 331,
    "start_time": "2022-03-07T20:55:29.948Z"
   },
   {
    "duration": 284,
    "start_time": "2022-03-07T20:55:30.281Z"
   },
   {
    "duration": 221,
    "start_time": "2022-03-07T20:57:06.319Z"
   },
   {
    "duration": 191,
    "start_time": "2022-03-07T20:59:03.948Z"
   },
   {
    "duration": 51,
    "start_time": "2022-03-07T20:59:25.291Z"
   },
   {
    "duration": 45,
    "start_time": "2022-03-07T20:59:33.614Z"
   },
   {
    "duration": 202,
    "start_time": "2022-03-07T20:59:42.174Z"
   },
   {
    "duration": 278,
    "start_time": "2022-03-07T21:03:27.277Z"
   },
   {
    "duration": 296,
    "start_time": "2022-03-07T21:03:47.093Z"
   },
   {
    "duration": 4,
    "start_time": "2022-03-07T21:09:05.943Z"
   },
   {
    "duration": 17,
    "start_time": "2022-03-07T21:09:05.949Z"
   },
   {
    "duration": 16,
    "start_time": "2022-03-07T21:09:05.969Z"
   },
   {
    "duration": 4,
    "start_time": "2022-03-07T21:09:05.987Z"
   },
   {
    "duration": 7,
    "start_time": "2022-03-07T21:09:05.993Z"
   },
   {
    "duration": 13,
    "start_time": "2022-03-07T21:09:06.002Z"
   },
   {
    "duration": 24,
    "start_time": "2022-03-07T21:09:06.018Z"
   },
   {
    "duration": 18,
    "start_time": "2022-03-07T21:09:06.043Z"
   },
   {
    "duration": 33,
    "start_time": "2022-03-07T21:09:06.064Z"
   },
   {
    "duration": 16,
    "start_time": "2022-03-07T21:09:06.099Z"
   },
   {
    "duration": 13,
    "start_time": "2022-03-07T21:09:06.117Z"
   },
   {
    "duration": 16,
    "start_time": "2022-03-07T21:09:06.131Z"
   },
   {
    "duration": 560,
    "start_time": "2022-03-07T21:09:06.149Z"
   },
   {
    "duration": 216,
    "start_time": "2022-03-07T21:09:06.710Z"
   },
   {
    "duration": 347,
    "start_time": "2022-03-07T21:09:06.928Z"
   },
   {
    "duration": 213,
    "start_time": "2022-03-07T21:09:07.277Z"
   },
   {
    "duration": 358,
    "start_time": "2022-03-07T21:09:07.492Z"
   },
   {
    "duration": 151,
    "start_time": "2022-03-07T21:10:44.255Z"
   },
   {
    "duration": 125,
    "start_time": "2022-03-07T21:11:17.837Z"
   },
   {
    "duration": 8,
    "start_time": "2022-03-07T21:11:25.599Z"
   },
   {
    "duration": 291,
    "start_time": "2022-03-07T21:12:11.257Z"
   },
   {
    "duration": 80,
    "start_time": "2022-03-07T21:13:34.832Z"
   },
   {
    "duration": 6,
    "start_time": "2022-03-07T21:15:21.312Z"
   },
   {
    "duration": 4,
    "start_time": "2022-03-07T21:16:23.462Z"
   },
   {
    "duration": 14,
    "start_time": "2022-03-07T21:16:23.468Z"
   },
   {
    "duration": 18,
    "start_time": "2022-03-07T21:16:23.484Z"
   },
   {
    "duration": 7,
    "start_time": "2022-03-07T21:16:23.504Z"
   },
   {
    "duration": 12,
    "start_time": "2022-03-07T21:16:23.513Z"
   },
   {
    "duration": 16,
    "start_time": "2022-03-07T21:16:23.526Z"
   },
   {
    "duration": 8,
    "start_time": "2022-03-07T21:16:23.544Z"
   },
   {
    "duration": 108,
    "start_time": "2022-03-07T21:16:23.554Z"
   },
   {
    "duration": 30,
    "start_time": "2022-03-07T21:16:23.664Z"
   },
   {
    "duration": 17,
    "start_time": "2022-03-07T21:16:23.696Z"
   },
   {
    "duration": 20,
    "start_time": "2022-03-07T21:16:23.715Z"
   },
   {
    "duration": 31,
    "start_time": "2022-03-07T21:16:23.737Z"
   },
   {
    "duration": 544,
    "start_time": "2022-03-07T21:16:23.770Z"
   },
   {
    "duration": 209,
    "start_time": "2022-03-07T21:16:24.316Z"
   },
   {
    "duration": 320,
    "start_time": "2022-03-07T21:16:24.526Z"
   },
   {
    "duration": 222,
    "start_time": "2022-03-07T21:16:24.848Z"
   },
   {
    "duration": 305,
    "start_time": "2022-03-07T21:16:25.072Z"
   },
   {
    "duration": 119,
    "start_time": "2022-03-07T21:16:25.379Z"
   },
   {
    "duration": 268,
    "start_time": "2022-03-07T21:16:25.500Z"
   },
   {
    "duration": 5,
    "start_time": "2022-03-07T21:16:25.770Z"
   },
   {
    "duration": 5,
    "start_time": "2022-03-07T21:16:48.505Z"
   },
   {
    "duration": 5,
    "start_time": "2022-03-07T21:17:06.796Z"
   },
   {
    "duration": 271,
    "start_time": "2022-03-07T21:18:47.254Z"
   },
   {
    "duration": 5,
    "start_time": "2022-03-07T21:18:52.066Z"
   },
   {
    "duration": 5,
    "start_time": "2022-03-07T21:19:10.563Z"
   },
   {
    "duration": 4885,
    "start_time": "2022-03-07T21:30:00.933Z"
   },
   {
    "duration": 263,
    "start_time": "2022-03-07T21:34:54.464Z"
   },
   {
    "duration": 418,
    "start_time": "2022-03-07T21:39:14.693Z"
   },
   {
    "duration": 3883,
    "start_time": "2022-03-07T21:40:02.283Z"
   },
   {
    "duration": 3637,
    "start_time": "2022-03-07T21:40:23.967Z"
   },
   {
    "duration": 3716,
    "start_time": "2022-03-07T21:40:47.799Z"
   },
   {
    "duration": 381,
    "start_time": "2022-03-07T21:42:30.839Z"
   },
   {
    "duration": 4,
    "start_time": "2022-03-07T21:43:36.376Z"
   },
   {
    "duration": 16,
    "start_time": "2022-03-07T21:43:36.381Z"
   },
   {
    "duration": 16,
    "start_time": "2022-03-07T21:43:36.399Z"
   },
   {
    "duration": 8,
    "start_time": "2022-03-07T21:43:36.417Z"
   },
   {
    "duration": 7,
    "start_time": "2022-03-07T21:43:36.426Z"
   },
   {
    "duration": 11,
    "start_time": "2022-03-07T21:43:36.435Z"
   },
   {
    "duration": 6,
    "start_time": "2022-03-07T21:43:36.447Z"
   },
   {
    "duration": 12,
    "start_time": "2022-03-07T21:43:36.455Z"
   },
   {
    "duration": 21,
    "start_time": "2022-03-07T21:43:36.471Z"
   },
   {
    "duration": 17,
    "start_time": "2022-03-07T21:43:36.494Z"
   },
   {
    "duration": 22,
    "start_time": "2022-03-07T21:43:36.513Z"
   },
   {
    "duration": 19,
    "start_time": "2022-03-07T21:43:36.536Z"
   },
   {
    "duration": 541,
    "start_time": "2022-03-07T21:43:36.557Z"
   },
   {
    "duration": 199,
    "start_time": "2022-03-07T21:43:37.100Z"
   },
   {
    "duration": 327,
    "start_time": "2022-03-07T21:43:37.301Z"
   },
   {
    "duration": 207,
    "start_time": "2022-03-07T21:43:37.630Z"
   },
   {
    "duration": 315,
    "start_time": "2022-03-07T21:43:37.839Z"
   },
   {
    "duration": 122,
    "start_time": "2022-03-07T21:43:38.156Z"
   },
   {
    "duration": 357,
    "start_time": "2022-03-07T21:43:38.280Z"
   },
   {
    "duration": 4,
    "start_time": "2022-03-07T21:43:38.639Z"
   },
   {
    "duration": 379,
    "start_time": "2022-03-07T21:43:38.645Z"
   },
   {
    "duration": 373,
    "start_time": "2022-03-07T21:52:30.137Z"
   },
   {
    "duration": 373,
    "start_time": "2022-03-07T21:53:04.366Z"
   },
   {
    "duration": 53,
    "start_time": "2022-03-07T21:56:38.125Z"
   },
   {
    "duration": 29,
    "start_time": "2022-03-07T21:57:48.913Z"
   },
   {
    "duration": 43,
    "start_time": "2022-03-07T21:58:58.344Z"
   },
   {
    "duration": 19,
    "start_time": "2022-03-07T22:00:51.414Z"
   },
   {
    "duration": 4,
    "start_time": "2022-03-07T22:00:54.279Z"
   },
   {
    "duration": 13,
    "start_time": "2022-03-07T22:00:54.285Z"
   },
   {
    "duration": 17,
    "start_time": "2022-03-07T22:00:54.301Z"
   },
   {
    "duration": 3,
    "start_time": "2022-03-07T22:00:54.321Z"
   },
   {
    "duration": 8,
    "start_time": "2022-03-07T22:00:54.325Z"
   },
   {
    "duration": 11,
    "start_time": "2022-03-07T22:00:54.334Z"
   },
   {
    "duration": 7,
    "start_time": "2022-03-07T22:00:54.346Z"
   },
   {
    "duration": 16,
    "start_time": "2022-03-07T22:00:54.355Z"
   },
   {
    "duration": 23,
    "start_time": "2022-03-07T22:00:54.374Z"
   },
   {
    "duration": 15,
    "start_time": "2022-03-07T22:00:54.399Z"
   },
   {
    "duration": 12,
    "start_time": "2022-03-07T22:00:54.415Z"
   },
   {
    "duration": 18,
    "start_time": "2022-03-07T22:00:54.428Z"
   },
   {
    "duration": 544,
    "start_time": "2022-03-07T22:00:54.447Z"
   },
   {
    "duration": 214,
    "start_time": "2022-03-07T22:00:54.993Z"
   },
   {
    "duration": 323,
    "start_time": "2022-03-07T22:00:55.209Z"
   },
   {
    "duration": 201,
    "start_time": "2022-03-07T22:00:55.534Z"
   },
   {
    "duration": 320,
    "start_time": "2022-03-07T22:00:55.738Z"
   },
   {
    "duration": 123,
    "start_time": "2022-03-07T22:00:56.060Z"
   },
   {
    "duration": 268,
    "start_time": "2022-03-07T22:00:56.185Z"
   },
   {
    "duration": 6,
    "start_time": "2022-03-07T22:00:56.454Z"
   },
   {
    "duration": 376,
    "start_time": "2022-03-07T22:00:56.461Z"
   },
   {
    "duration": 28,
    "start_time": "2022-03-07T22:00:56.839Z"
   },
   {
    "duration": 19,
    "start_time": "2022-03-07T22:00:56.868Z"
   },
   {
    "duration": 1042,
    "start_time": "2022-03-08T19:03:32.690Z"
   },
   {
    "duration": 17,
    "start_time": "2022-03-08T19:03:33.734Z"
   },
   {
    "duration": 15,
    "start_time": "2022-03-08T19:03:33.753Z"
   },
   {
    "duration": 2,
    "start_time": "2022-03-08T19:03:33.770Z"
   },
   {
    "duration": 6,
    "start_time": "2022-03-08T19:03:33.774Z"
   },
   {
    "duration": 9,
    "start_time": "2022-03-08T19:03:33.782Z"
   },
   {
    "duration": 4,
    "start_time": "2022-03-08T19:03:33.793Z"
   },
   {
    "duration": 12,
    "start_time": "2022-03-08T19:03:33.799Z"
   },
   {
    "duration": 26,
    "start_time": "2022-03-08T19:03:33.812Z"
   },
   {
    "duration": 31,
    "start_time": "2022-03-08T19:03:33.840Z"
   },
   {
    "duration": 10,
    "start_time": "2022-03-08T19:03:33.872Z"
   },
   {
    "duration": 13,
    "start_time": "2022-03-08T19:03:33.883Z"
   },
   {
    "duration": 553,
    "start_time": "2022-03-08T19:03:33.898Z"
   },
   {
    "duration": 219,
    "start_time": "2022-03-08T19:03:34.453Z"
   },
   {
    "duration": 312,
    "start_time": "2022-03-08T19:03:34.674Z"
   },
   {
    "duration": 211,
    "start_time": "2022-03-08T19:03:34.988Z"
   },
   {
    "duration": 317,
    "start_time": "2022-03-08T19:03:35.200Z"
   },
   {
    "duration": 108,
    "start_time": "2022-03-08T19:03:35.519Z"
   },
   {
    "duration": 282,
    "start_time": "2022-03-08T19:03:35.629Z"
   },
   {
    "duration": 5,
    "start_time": "2022-03-08T19:03:35.912Z"
   },
   {
    "duration": 417,
    "start_time": "2022-03-08T19:03:35.918Z"
   },
   {
    "duration": 37,
    "start_time": "2022-03-08T19:03:36.337Z"
   },
   {
    "duration": 19,
    "start_time": "2022-03-08T19:03:36.376Z"
   },
   {
    "duration": 3,
    "start_time": "2022-03-08T19:03:45.290Z"
   },
   {
    "duration": 12,
    "start_time": "2022-03-08T19:03:45.295Z"
   },
   {
    "duration": 14,
    "start_time": "2022-03-08T19:03:45.308Z"
   },
   {
    "duration": 3,
    "start_time": "2022-03-08T19:03:45.324Z"
   },
   {
    "duration": 6,
    "start_time": "2022-03-08T19:03:45.328Z"
   },
   {
    "duration": 10,
    "start_time": "2022-03-08T19:03:45.335Z"
   },
   {
    "duration": 6,
    "start_time": "2022-03-08T19:03:45.347Z"
   },
   {
    "duration": 14,
    "start_time": "2022-03-08T19:03:45.355Z"
   },
   {
    "duration": 20,
    "start_time": "2022-03-08T19:03:45.371Z"
   },
   {
    "duration": 17,
    "start_time": "2022-03-08T19:03:45.393Z"
   },
   {
    "duration": 10,
    "start_time": "2022-03-08T19:03:45.411Z"
   },
   {
    "duration": 13,
    "start_time": "2022-03-08T19:03:45.423Z"
   },
   {
    "duration": 583,
    "start_time": "2022-03-08T19:03:45.438Z"
   },
   {
    "duration": 222,
    "start_time": "2022-03-08T19:03:46.024Z"
   },
   {
    "duration": 340,
    "start_time": "2022-03-08T19:03:46.247Z"
   },
   {
    "duration": 212,
    "start_time": "2022-03-08T19:03:46.590Z"
   },
   {
    "duration": 307,
    "start_time": "2022-03-08T19:03:46.804Z"
   },
   {
    "duration": 113,
    "start_time": "2022-03-08T19:03:47.114Z"
   },
   {
    "duration": 307,
    "start_time": "2022-03-08T19:03:47.228Z"
   },
   {
    "duration": 5,
    "start_time": "2022-03-08T19:03:47.537Z"
   },
   {
    "duration": 381,
    "start_time": "2022-03-08T19:03:47.543Z"
   },
   {
    "duration": 39,
    "start_time": "2022-03-08T19:03:47.926Z"
   },
   {
    "duration": 18,
    "start_time": "2022-03-08T19:03:47.968Z"
   },
   {
    "duration": 7,
    "start_time": "2022-03-08T19:05:54.541Z"
   },
   {
    "duration": 5826,
    "start_time": "2022-03-08T19:07:06.094Z"
   },
   {
    "duration": 111,
    "start_time": "2022-03-08T19:08:35.170Z"
   },
   {
    "duration": 258,
    "start_time": "2022-03-08T19:08:39.221Z"
   },
   {
    "duration": 4,
    "start_time": "2022-03-08T19:08:46.381Z"
   },
   {
    "duration": 20,
    "start_time": "2022-03-08T19:08:46.387Z"
   },
   {
    "duration": 16,
    "start_time": "2022-03-08T19:08:46.410Z"
   },
   {
    "duration": 3,
    "start_time": "2022-03-08T19:08:46.428Z"
   },
   {
    "duration": 5,
    "start_time": "2022-03-08T19:08:46.433Z"
   },
   {
    "duration": 10,
    "start_time": "2022-03-08T19:08:46.440Z"
   },
   {
    "duration": 5,
    "start_time": "2022-03-08T19:08:46.452Z"
   },
   {
    "duration": 11,
    "start_time": "2022-03-08T19:08:46.459Z"
   },
   {
    "duration": 21,
    "start_time": "2022-03-08T19:08:46.472Z"
   },
   {
    "duration": 17,
    "start_time": "2022-03-08T19:08:46.495Z"
   },
   {
    "duration": 11,
    "start_time": "2022-03-08T19:08:46.514Z"
   },
   {
    "duration": 32,
    "start_time": "2022-03-08T19:08:46.527Z"
   },
   {
    "duration": 568,
    "start_time": "2022-03-08T19:08:46.561Z"
   },
   {
    "duration": 212,
    "start_time": "2022-03-08T19:08:47.131Z"
   },
   {
    "duration": 341,
    "start_time": "2022-03-08T19:08:47.345Z"
   },
   {
    "duration": 209,
    "start_time": "2022-03-08T19:08:47.688Z"
   },
   {
    "duration": 311,
    "start_time": "2022-03-08T19:08:47.899Z"
   },
   {
    "duration": 121,
    "start_time": "2022-03-08T19:08:48.211Z"
   },
   {
    "duration": 314,
    "start_time": "2022-03-08T19:08:48.334Z"
   },
   {
    "duration": 12,
    "start_time": "2022-03-08T19:08:48.649Z"
   },
   {
    "duration": 8,
    "start_time": "2022-03-08T19:08:48.663Z"
   },
   {
    "duration": 5631,
    "start_time": "2022-03-08T19:08:48.673Z"
   },
   {
    "duration": 1690,
    "start_time": "2022-03-08T19:08:52.615Z"
   },
   {
    "duration": 1687,
    "start_time": "2022-03-08T19:08:52.619Z"
   },
   {
    "duration": 1670,
    "start_time": "2022-03-08T19:08:52.637Z"
   },
   {
    "duration": 5442,
    "start_time": "2022-03-08T19:09:14.059Z"
   },
   {
    "duration": 5410,
    "start_time": "2022-03-08T19:09:36.601Z"
   },
   {
    "duration": 111,
    "start_time": "2022-03-08T19:10:21.819Z"
   },
   {
    "duration": 264,
    "start_time": "2022-03-08T19:10:23.600Z"
   },
   {
    "duration": 7,
    "start_time": "2022-03-08T19:11:16.354Z"
   },
   {
    "duration": 354,
    "start_time": "2022-03-08T19:11:17.136Z"
   },
   {
    "duration": 5,
    "start_time": "2022-03-08T19:11:59.180Z"
   },
   {
    "duration": 4,
    "start_time": "2022-03-08T19:14:00.996Z"
   },
   {
    "duration": 18,
    "start_time": "2022-03-08T19:14:01.002Z"
   },
   {
    "duration": 24,
    "start_time": "2022-03-08T19:14:01.023Z"
   },
   {
    "duration": 7,
    "start_time": "2022-03-08T19:14:01.049Z"
   },
   {
    "duration": 9,
    "start_time": "2022-03-08T19:14:01.058Z"
   },
   {
    "duration": 30,
    "start_time": "2022-03-08T19:14:01.068Z"
   },
   {
    "duration": 15,
    "start_time": "2022-03-08T19:14:01.100Z"
   },
   {
    "duration": 15,
    "start_time": "2022-03-08T19:14:01.117Z"
   },
   {
    "duration": 27,
    "start_time": "2022-03-08T19:14:01.134Z"
   },
   {
    "duration": 15,
    "start_time": "2022-03-08T19:14:01.163Z"
   },
   {
    "duration": 23,
    "start_time": "2022-03-08T19:14:01.180Z"
   },
   {
    "duration": 17,
    "start_time": "2022-03-08T19:14:01.205Z"
   },
   {
    "duration": 587,
    "start_time": "2022-03-08T19:14:01.224Z"
   },
   {
    "duration": 215,
    "start_time": "2022-03-08T19:14:01.813Z"
   },
   {
    "duration": 342,
    "start_time": "2022-03-08T19:14:02.030Z"
   },
   {
    "duration": 218,
    "start_time": "2022-03-08T19:14:02.373Z"
   },
   {
    "duration": 305,
    "start_time": "2022-03-08T19:14:02.593Z"
   },
   {
    "duration": 117,
    "start_time": "2022-03-08T19:14:02.900Z"
   },
   {
    "duration": 271,
    "start_time": "2022-03-08T19:14:03.019Z"
   },
   {
    "duration": 5,
    "start_time": "2022-03-08T19:14:03.291Z"
   },
   {
    "duration": 9,
    "start_time": "2022-03-08T19:14:03.297Z"
   },
   {
    "duration": 277,
    "start_time": "2022-03-08T19:14:03.307Z"
   },
   {
    "duration": 5,
    "start_time": "2022-03-08T19:14:03.587Z"
   },
   {
    "duration": 402,
    "start_time": "2022-03-08T19:14:03.594Z"
   },
   {
    "duration": 32,
    "start_time": "2022-03-08T19:14:03.998Z"
   },
   {
    "duration": 44,
    "start_time": "2022-03-08T19:14:04.031Z"
   },
   {
    "duration": 274,
    "start_time": "2022-03-08T19:23:45.880Z"
   },
   {
    "duration": 5446,
    "start_time": "2022-03-08T19:24:34.432Z"
   },
   {
    "duration": 5489,
    "start_time": "2022-03-08T19:27:48.381Z"
   },
   {
    "duration": 3,
    "start_time": "2022-03-08T19:27:58.332Z"
   },
   {
    "duration": 11,
    "start_time": "2022-03-08T19:27:58.337Z"
   },
   {
    "duration": 11,
    "start_time": "2022-03-08T19:27:58.350Z"
   },
   {
    "duration": 3,
    "start_time": "2022-03-08T19:27:58.363Z"
   },
   {
    "duration": 4,
    "start_time": "2022-03-08T19:27:58.368Z"
   },
   {
    "duration": 10,
    "start_time": "2022-03-08T19:27:58.374Z"
   },
   {
    "duration": 6,
    "start_time": "2022-03-08T19:27:58.385Z"
   },
   {
    "duration": 13,
    "start_time": "2022-03-08T19:27:58.393Z"
   },
   {
    "duration": 21,
    "start_time": "2022-03-08T19:27:58.408Z"
   },
   {
    "duration": 29,
    "start_time": "2022-03-08T19:27:58.431Z"
   },
   {
    "duration": 10,
    "start_time": "2022-03-08T19:27:58.461Z"
   },
   {
    "duration": 13,
    "start_time": "2022-03-08T19:27:58.474Z"
   },
   {
    "duration": 587,
    "start_time": "2022-03-08T19:27:58.488Z"
   },
   {
    "duration": 210,
    "start_time": "2022-03-08T19:27:59.076Z"
   },
   {
    "duration": 303,
    "start_time": "2022-03-08T19:27:59.288Z"
   },
   {
    "duration": 212,
    "start_time": "2022-03-08T19:27:59.593Z"
   },
   {
    "duration": 385,
    "start_time": "2022-03-08T19:27:59.806Z"
   },
   {
    "duration": 126,
    "start_time": "2022-03-08T19:28:00.193Z"
   },
   {
    "duration": 281,
    "start_time": "2022-03-08T19:28:00.321Z"
   },
   {
    "duration": 5,
    "start_time": "2022-03-08T19:28:00.604Z"
   },
   {
    "duration": 9,
    "start_time": "2022-03-08T19:28:00.610Z"
   },
   {
    "duration": 299,
    "start_time": "2022-03-08T19:28:00.621Z"
   },
   {
    "duration": 5,
    "start_time": "2022-03-08T19:28:00.924Z"
   },
   {
    "duration": 394,
    "start_time": "2022-03-08T19:28:00.932Z"
   },
   {
    "duration": 43,
    "start_time": "2022-03-08T19:28:01.328Z"
   },
   {
    "duration": 5749,
    "start_time": "2022-03-08T19:28:01.372Z"
   },
   {
    "duration": 1704,
    "start_time": "2022-03-08T19:28:05.419Z"
   },
   {
    "duration": 13,
    "start_time": "2022-03-08T19:30:54.634Z"
   },
   {
    "duration": 4,
    "start_time": "2022-03-08T19:32:48.001Z"
   },
   {
    "duration": 14,
    "start_time": "2022-03-08T19:32:48.007Z"
   },
   {
    "duration": 13,
    "start_time": "2022-03-08T19:32:48.024Z"
   },
   {
    "duration": 14,
    "start_time": "2022-03-08T19:32:48.040Z"
   },
   {
    "duration": 18,
    "start_time": "2022-03-08T19:32:48.056Z"
   },
   {
    "duration": 30,
    "start_time": "2022-03-08T19:32:48.075Z"
   },
   {
    "duration": 26,
    "start_time": "2022-03-08T19:32:48.106Z"
   },
   {
    "duration": 26,
    "start_time": "2022-03-08T19:32:48.134Z"
   },
   {
    "duration": 35,
    "start_time": "2022-03-08T19:32:48.162Z"
   },
   {
    "duration": 26,
    "start_time": "2022-03-08T19:32:48.200Z"
   },
   {
    "duration": 15,
    "start_time": "2022-03-08T19:32:48.228Z"
   },
   {
    "duration": 24,
    "start_time": "2022-03-08T19:32:48.245Z"
   },
   {
    "duration": 575,
    "start_time": "2022-03-08T19:32:48.270Z"
   },
   {
    "duration": 221,
    "start_time": "2022-03-08T19:32:48.848Z"
   },
   {
    "duration": 309,
    "start_time": "2022-03-08T19:32:49.071Z"
   },
   {
    "duration": 217,
    "start_time": "2022-03-08T19:32:49.382Z"
   },
   {
    "duration": 299,
    "start_time": "2022-03-08T19:32:49.601Z"
   },
   {
    "duration": 129,
    "start_time": "2022-03-08T19:32:49.901Z"
   },
   {
    "duration": 313,
    "start_time": "2022-03-08T19:32:50.032Z"
   },
   {
    "duration": 14,
    "start_time": "2022-03-08T19:32:50.347Z"
   },
   {
    "duration": 13,
    "start_time": "2022-03-08T19:32:50.363Z"
   },
   {
    "duration": 297,
    "start_time": "2022-03-08T19:32:50.378Z"
   },
   {
    "duration": 5,
    "start_time": "2022-03-08T19:32:50.677Z"
   },
   {
    "duration": 397,
    "start_time": "2022-03-08T19:32:50.683Z"
   },
   {
    "duration": 29,
    "start_time": "2022-03-08T19:32:51.082Z"
   },
   {
    "duration": 13,
    "start_time": "2022-03-08T19:32:51.113Z"
   },
   {
    "duration": 49,
    "start_time": "2022-03-08T19:32:51.129Z"
   },
   {
    "duration": 10,
    "start_time": "2022-03-08T19:35:14.801Z"
   },
   {
    "duration": 3,
    "start_time": "2022-03-08T19:35:21.744Z"
   },
   {
    "duration": 12,
    "start_time": "2022-03-08T19:35:21.749Z"
   },
   {
    "duration": 12,
    "start_time": "2022-03-08T19:35:21.763Z"
   },
   {
    "duration": 3,
    "start_time": "2022-03-08T19:35:21.777Z"
   },
   {
    "duration": 5,
    "start_time": "2022-03-08T19:35:21.782Z"
   },
   {
    "duration": 17,
    "start_time": "2022-03-08T19:35:21.789Z"
   },
   {
    "duration": 5,
    "start_time": "2022-03-08T19:35:21.808Z"
   },
   {
    "duration": 14,
    "start_time": "2022-03-08T19:35:21.815Z"
   },
   {
    "duration": 49,
    "start_time": "2022-03-08T19:35:21.830Z"
   },
   {
    "duration": 16,
    "start_time": "2022-03-08T19:35:21.881Z"
   },
   {
    "duration": 10,
    "start_time": "2022-03-08T19:35:21.898Z"
   },
   {
    "duration": 14,
    "start_time": "2022-03-08T19:35:21.910Z"
   },
   {
    "duration": 598,
    "start_time": "2022-03-08T19:35:21.926Z"
   },
   {
    "duration": 220,
    "start_time": "2022-03-08T19:35:22.526Z"
   },
   {
    "duration": 325,
    "start_time": "2022-03-08T19:35:22.748Z"
   },
   {
    "duration": 211,
    "start_time": "2022-03-08T19:35:23.075Z"
   },
   {
    "duration": 408,
    "start_time": "2022-03-08T19:35:23.288Z"
   },
   {
    "duration": 112,
    "start_time": "2022-03-08T19:35:23.698Z"
   },
   {
    "duration": 263,
    "start_time": "2022-03-08T19:35:23.813Z"
   },
   {
    "duration": 5,
    "start_time": "2022-03-08T19:35:24.079Z"
   },
   {
    "duration": 10,
    "start_time": "2022-03-08T19:35:24.085Z"
   },
   {
    "duration": 287,
    "start_time": "2022-03-08T19:35:24.096Z"
   },
   {
    "duration": 5,
    "start_time": "2022-03-08T19:35:24.385Z"
   },
   {
    "duration": 395,
    "start_time": "2022-03-08T19:35:24.392Z"
   },
   {
    "duration": 10,
    "start_time": "2022-03-08T19:35:24.789Z"
   },
   {
    "duration": 13,
    "start_time": "2022-03-08T19:35:24.800Z"
   },
   {
    "duration": 19,
    "start_time": "2022-03-08T19:35:24.814Z"
   },
   {
    "duration": 12,
    "start_time": "2022-03-08T19:35:48.111Z"
   },
   {
    "duration": 3,
    "start_time": "2022-03-08T20:13:34.806Z"
   },
   {
    "duration": 16,
    "start_time": "2022-03-08T20:13:34.810Z"
   },
   {
    "duration": 11,
    "start_time": "2022-03-08T20:13:34.828Z"
   },
   {
    "duration": 4,
    "start_time": "2022-03-08T20:13:34.841Z"
   },
   {
    "duration": 7,
    "start_time": "2022-03-08T20:13:34.847Z"
   },
   {
    "duration": 12,
    "start_time": "2022-03-08T20:13:34.855Z"
   },
   {
    "duration": 4,
    "start_time": "2022-03-08T20:13:34.869Z"
   },
   {
    "duration": 11,
    "start_time": "2022-03-08T20:13:34.874Z"
   },
   {
    "duration": 20,
    "start_time": "2022-03-08T20:13:34.888Z"
   },
   {
    "duration": 16,
    "start_time": "2022-03-08T20:13:34.910Z"
   },
   {
    "duration": 10,
    "start_time": "2022-03-08T20:13:34.927Z"
   },
   {
    "duration": 21,
    "start_time": "2022-03-08T20:13:34.938Z"
   },
   {
    "duration": 577,
    "start_time": "2022-03-08T20:13:34.960Z"
   },
   {
    "duration": 223,
    "start_time": "2022-03-08T20:13:35.538Z"
   },
   {
    "duration": 339,
    "start_time": "2022-03-08T20:13:35.762Z"
   },
   {
    "duration": 222,
    "start_time": "2022-03-08T20:13:36.102Z"
   },
   {
    "duration": 354,
    "start_time": "2022-03-08T20:13:36.325Z"
   },
   {
    "duration": 130,
    "start_time": "2022-03-08T20:13:36.681Z"
   },
   {
    "duration": 280,
    "start_time": "2022-03-08T20:13:36.812Z"
   },
   {
    "duration": 4,
    "start_time": "2022-03-08T20:13:37.094Z"
   },
   {
    "duration": 15,
    "start_time": "2022-03-08T20:13:37.099Z"
   },
   {
    "duration": 281,
    "start_time": "2022-03-08T20:13:37.116Z"
   },
   {
    "duration": 5,
    "start_time": "2022-03-08T20:13:37.399Z"
   },
   {
    "duration": 406,
    "start_time": "2022-03-08T20:13:37.406Z"
   },
   {
    "duration": 10,
    "start_time": "2022-03-08T20:13:37.813Z"
   },
   {
    "duration": 11,
    "start_time": "2022-03-08T20:13:37.825Z"
   },
   {
    "duration": 34,
    "start_time": "2022-03-08T20:13:37.839Z"
   },
   {
    "duration": 1041,
    "start_time": "2022-03-09T19:28:36.940Z"
   },
   {
    "duration": 16,
    "start_time": "2022-03-09T19:28:37.983Z"
   },
   {
    "duration": 18,
    "start_time": "2022-03-09T19:28:38.002Z"
   },
   {
    "duration": 5,
    "start_time": "2022-03-09T19:28:38.023Z"
   },
   {
    "duration": 9,
    "start_time": "2022-03-09T19:28:38.029Z"
   },
   {
    "duration": 12,
    "start_time": "2022-03-09T19:28:38.040Z"
   },
   {
    "duration": 23,
    "start_time": "2022-03-09T19:28:38.054Z"
   },
   {
    "duration": 11,
    "start_time": "2022-03-09T19:28:38.080Z"
   },
   {
    "duration": 38,
    "start_time": "2022-03-09T19:28:38.095Z"
   },
   {
    "duration": 18,
    "start_time": "2022-03-09T19:28:38.135Z"
   },
   {
    "duration": 17,
    "start_time": "2022-03-09T19:28:38.154Z"
   },
   {
    "duration": 15,
    "start_time": "2022-03-09T19:28:38.173Z"
   },
   {
    "duration": 639,
    "start_time": "2022-03-09T19:28:38.190Z"
   },
   {
    "duration": 232,
    "start_time": "2022-03-09T19:28:38.830Z"
   },
   {
    "duration": 357,
    "start_time": "2022-03-09T19:28:39.063Z"
   },
   {
    "duration": 225,
    "start_time": "2022-03-09T19:28:39.422Z"
   },
   {
    "duration": 379,
    "start_time": "2022-03-09T19:28:39.650Z"
   },
   {
    "duration": 149,
    "start_time": "2022-03-09T19:28:40.031Z"
   },
   {
    "duration": 324,
    "start_time": "2022-03-09T19:28:40.181Z"
   },
   {
    "duration": 5,
    "start_time": "2022-03-09T19:28:40.507Z"
   },
   {
    "duration": 9,
    "start_time": "2022-03-09T19:28:40.513Z"
   },
   {
    "duration": 310,
    "start_time": "2022-03-09T19:28:40.523Z"
   },
   {
    "duration": 5,
    "start_time": "2022-03-09T19:28:40.837Z"
   },
   {
    "duration": 425,
    "start_time": "2022-03-09T19:28:40.845Z"
   },
   {
    "duration": 12,
    "start_time": "2022-03-09T19:28:41.277Z"
   },
   {
    "duration": 342,
    "start_time": "2022-03-09T19:28:41.291Z"
   },
   {
    "duration": 3,
    "start_time": "2022-03-09T19:28:41.633Z"
   },
   {
    "duration": 981,
    "start_time": "2022-03-10T14:39:18.942Z"
   },
   {
    "duration": 28,
    "start_time": "2022-03-10T14:39:19.925Z"
   },
   {
    "duration": 13,
    "start_time": "2022-03-10T14:39:19.955Z"
   },
   {
    "duration": 2,
    "start_time": "2022-03-10T14:39:19.970Z"
   },
   {
    "duration": 7,
    "start_time": "2022-03-10T14:39:19.974Z"
   },
   {
    "duration": 7,
    "start_time": "2022-03-10T14:39:19.983Z"
   },
   {
    "duration": 6,
    "start_time": "2022-03-10T14:39:19.991Z"
   },
   {
    "duration": 13,
    "start_time": "2022-03-10T14:39:19.999Z"
   },
   {
    "duration": 72,
    "start_time": "2022-03-10T14:39:20.013Z"
   },
   {
    "duration": 14,
    "start_time": "2022-03-10T14:39:20.086Z"
   },
   {
    "duration": 16,
    "start_time": "2022-03-10T14:39:20.101Z"
   },
   {
    "duration": 12,
    "start_time": "2022-03-10T14:39:20.118Z"
   },
   {
    "duration": 478,
    "start_time": "2022-03-10T14:39:20.132Z"
   },
   {
    "duration": 177,
    "start_time": "2022-03-10T14:39:20.611Z"
   },
   {
    "duration": 286,
    "start_time": "2022-03-10T14:39:20.789Z"
   },
   {
    "duration": 170,
    "start_time": "2022-03-10T14:39:21.077Z"
   },
   {
    "duration": 264,
    "start_time": "2022-03-10T14:39:21.249Z"
   },
   {
    "duration": 131,
    "start_time": "2022-03-10T14:39:21.515Z"
   },
   {
    "duration": 235,
    "start_time": "2022-03-10T14:39:21.648Z"
   },
   {
    "duration": 4,
    "start_time": "2022-03-10T14:39:21.884Z"
   },
   {
    "duration": 6,
    "start_time": "2022-03-10T14:39:21.905Z"
   },
   {
    "duration": 267,
    "start_time": "2022-03-10T14:39:21.912Z"
   },
   {
    "duration": 3,
    "start_time": "2022-03-10T14:39:22.182Z"
   },
   {
    "duration": 334,
    "start_time": "2022-03-10T14:39:22.187Z"
   },
   {
    "duration": 9,
    "start_time": "2022-03-10T14:39:22.522Z"
   },
   {
    "duration": 355,
    "start_time": "2022-03-10T14:39:22.533Z"
   },
   {
    "duration": 156,
    "start_time": "2022-03-10T14:39:22.734Z"
   },
   {
    "duration": 3,
    "start_time": "2022-03-10T14:39:44.314Z"
   },
   {
    "duration": 16,
    "start_time": "2022-03-10T14:39:44.348Z"
   },
   {
    "duration": 11,
    "start_time": "2022-03-10T14:39:44.366Z"
   },
   {
    "duration": 3,
    "start_time": "2022-03-10T14:39:44.379Z"
   },
   {
    "duration": 4,
    "start_time": "2022-03-10T14:39:44.384Z"
   },
   {
    "duration": 11,
    "start_time": "2022-03-10T14:39:44.390Z"
   },
   {
    "duration": 4,
    "start_time": "2022-03-10T14:39:44.402Z"
   },
   {
    "duration": 10,
    "start_time": "2022-03-10T14:39:44.407Z"
   },
   {
    "duration": 50,
    "start_time": "2022-03-10T14:39:44.419Z"
   },
   {
    "duration": 13,
    "start_time": "2022-03-10T14:39:44.472Z"
   },
   {
    "duration": 16,
    "start_time": "2022-03-10T14:39:44.487Z"
   },
   {
    "duration": 13,
    "start_time": "2022-03-10T14:39:44.504Z"
   },
   {
    "duration": 578,
    "start_time": "2022-03-10T14:39:44.518Z"
   },
   {
    "duration": 167,
    "start_time": "2022-03-10T14:39:45.098Z"
   },
   {
    "duration": 286,
    "start_time": "2022-03-10T14:39:45.267Z"
   },
   {
    "duration": 165,
    "start_time": "2022-03-10T14:39:45.554Z"
   },
   {
    "duration": 307,
    "start_time": "2022-03-10T14:39:45.721Z"
   },
   {
    "duration": 135,
    "start_time": "2022-03-10T14:39:46.029Z"
   },
   {
    "duration": 291,
    "start_time": "2022-03-10T14:39:46.165Z"
   },
   {
    "duration": 4,
    "start_time": "2022-03-10T14:39:46.457Z"
   },
   {
    "duration": 12,
    "start_time": "2022-03-10T14:39:46.463Z"
   },
   {
    "duration": 314,
    "start_time": "2022-03-10T14:39:46.476Z"
   },
   {
    "duration": 4,
    "start_time": "2022-03-10T14:39:46.792Z"
   },
   {
    "duration": 329,
    "start_time": "2022-03-10T14:39:46.805Z"
   },
   {
    "duration": 11,
    "start_time": "2022-03-10T14:39:47.136Z"
   },
   {
    "duration": 261,
    "start_time": "2022-03-10T14:39:47.148Z"
   },
   {
    "duration": 45,
    "start_time": "2022-03-10T14:39:47.365Z"
   },
   {
    "duration": 17,
    "start_time": "2022-03-10T14:40:40.306Z"
   },
   {
    "duration": 11,
    "start_time": "2022-03-10T14:40:45.462Z"
   },
   {
    "duration": 3,
    "start_time": "2022-03-10T14:40:58.391Z"
   },
   {
    "duration": 20,
    "start_time": "2022-03-10T14:40:58.396Z"
   },
   {
    "duration": 16,
    "start_time": "2022-03-10T14:40:58.417Z"
   },
   {
    "duration": 5,
    "start_time": "2022-03-10T14:40:58.436Z"
   },
   {
    "duration": 5,
    "start_time": "2022-03-10T14:40:58.443Z"
   },
   {
    "duration": 9,
    "start_time": "2022-03-10T14:40:58.449Z"
   },
   {
    "duration": 3,
    "start_time": "2022-03-10T14:40:58.459Z"
   },
   {
    "duration": 9,
    "start_time": "2022-03-10T14:40:58.464Z"
   },
   {
    "duration": 49,
    "start_time": "2022-03-10T14:40:58.475Z"
   },
   {
    "duration": 12,
    "start_time": "2022-03-10T14:40:58.526Z"
   },
   {
    "duration": 15,
    "start_time": "2022-03-10T14:40:58.539Z"
   },
   {
    "duration": 11,
    "start_time": "2022-03-10T14:40:58.556Z"
   },
   {
    "duration": 505,
    "start_time": "2022-03-10T14:40:58.568Z"
   },
   {
    "duration": 177,
    "start_time": "2022-03-10T14:40:59.075Z"
   },
   {
    "duration": 252,
    "start_time": "2022-03-10T14:40:59.253Z"
   },
   {
    "duration": 170,
    "start_time": "2022-03-10T14:40:59.507Z"
   },
   {
    "duration": 340,
    "start_time": "2022-03-10T14:40:59.679Z"
   },
   {
    "duration": 107,
    "start_time": "2022-03-10T14:41:00.021Z"
   },
   {
    "duration": 241,
    "start_time": "2022-03-10T14:41:00.130Z"
   },
   {
    "duration": 5,
    "start_time": "2022-03-10T14:41:00.373Z"
   },
   {
    "duration": 17,
    "start_time": "2022-03-10T14:41:00.380Z"
   },
   {
    "duration": 272,
    "start_time": "2022-03-10T14:41:00.398Z"
   },
   {
    "duration": 5,
    "start_time": "2022-03-10T14:41:00.671Z"
   },
   {
    "duration": 451,
    "start_time": "2022-03-10T14:41:00.677Z"
   },
   {
    "duration": 9,
    "start_time": "2022-03-10T14:41:01.129Z"
   },
   {
    "duration": 18,
    "start_time": "2022-03-10T14:41:01.140Z"
   },
   {
    "duration": 36,
    "start_time": "2022-03-10T14:41:01.161Z"
   },
   {
    "duration": 3,
    "start_time": "2022-03-10T14:41:20.528Z"
   },
   {
    "duration": 84,
    "start_time": "2022-03-10T14:42:30.112Z"
   },
   {
    "duration": 16,
    "start_time": "2022-03-10T14:42:50.047Z"
   },
   {
    "duration": 10,
    "start_time": "2022-03-10T14:42:51.736Z"
   },
   {
    "duration": 78,
    "start_time": "2022-03-10T14:43:50.894Z"
   },
   {
    "duration": 82,
    "start_time": "2022-03-10T14:45:00.583Z"
   },
   {
    "duration": 87,
    "start_time": "2022-03-10T14:45:22.536Z"
   },
   {
    "duration": 87,
    "start_time": "2022-03-10T14:49:38.335Z"
   },
   {
    "duration": 569,
    "start_time": "2022-03-10T14:51:21.029Z"
   },
   {
    "duration": 228,
    "start_time": "2022-03-10T18:35:07.514Z"
   },
   {
    "duration": 1098,
    "start_time": "2022-03-10T18:35:13.242Z"
   },
   {
    "duration": 17,
    "start_time": "2022-03-10T18:35:14.342Z"
   },
   {
    "duration": 16,
    "start_time": "2022-03-10T18:35:14.362Z"
   },
   {
    "duration": 6,
    "start_time": "2022-03-10T18:35:14.380Z"
   },
   {
    "duration": 13,
    "start_time": "2022-03-10T18:35:14.387Z"
   },
   {
    "duration": 9,
    "start_time": "2022-03-10T18:35:14.402Z"
   },
   {
    "duration": 5,
    "start_time": "2022-03-10T18:35:14.413Z"
   },
   {
    "duration": 15,
    "start_time": "2022-03-10T18:35:14.419Z"
   },
   {
    "duration": 25,
    "start_time": "2022-03-10T18:35:14.436Z"
   },
   {
    "duration": 15,
    "start_time": "2022-03-10T18:35:14.463Z"
   },
   {
    "duration": 18,
    "start_time": "2022-03-10T18:35:14.480Z"
   },
   {
    "duration": 16,
    "start_time": "2022-03-10T18:35:14.500Z"
   },
   {
    "duration": 5,
    "start_time": "2022-03-10T18:35:14.518Z"
   },
   {
    "duration": 663,
    "start_time": "2022-03-10T18:35:14.525Z"
   },
   {
    "duration": 202,
    "start_time": "2022-03-10T18:35:15.190Z"
   },
   {
    "duration": 292,
    "start_time": "2022-03-10T18:35:15.394Z"
   },
   {
    "duration": 192,
    "start_time": "2022-03-10T18:35:15.687Z"
   },
   {
    "duration": 329,
    "start_time": "2022-03-10T18:35:15.880Z"
   },
   {
    "duration": 131,
    "start_time": "2022-03-10T18:35:16.211Z"
   },
   {
    "duration": 321,
    "start_time": "2022-03-10T18:35:16.344Z"
   },
   {
    "duration": 6,
    "start_time": "2022-03-10T18:35:16.668Z"
   },
   {
    "duration": 10,
    "start_time": "2022-03-10T18:35:16.675Z"
   },
   {
    "duration": 308,
    "start_time": "2022-03-10T18:35:16.687Z"
   },
   {
    "duration": 5,
    "start_time": "2022-03-10T18:35:16.997Z"
   },
   {
    "duration": 390,
    "start_time": "2022-03-10T18:35:17.004Z"
   },
   {
    "duration": 14,
    "start_time": "2022-03-10T18:35:17.396Z"
   },
   {
    "duration": 230,
    "start_time": "2022-03-10T18:35:17.414Z"
   },
   {
    "duration": 2000,
    "start_time": "2022-03-10T18:35:15.647Z"
   },
   {
    "duration": 7,
    "start_time": "2022-03-10T18:35:52.908Z"
   },
   {
    "duration": 7,
    "start_time": "2022-03-10T18:35:54.793Z"
   },
   {
    "duration": 258,
    "start_time": "2022-03-10T18:37:07.204Z"
   },
   {
    "duration": 6,
    "start_time": "2022-03-10T18:37:25.022Z"
   },
   {
    "duration": 6,
    "start_time": "2022-03-10T18:37:27.100Z"
   },
   {
    "duration": 3,
    "start_time": "2022-03-10T18:38:22.078Z"
   },
   {
    "duration": 18,
    "start_time": "2022-03-10T18:38:22.083Z"
   },
   {
    "duration": 18,
    "start_time": "2022-03-10T18:38:22.103Z"
   },
   {
    "duration": 7,
    "start_time": "2022-03-10T18:38:22.123Z"
   },
   {
    "duration": 13,
    "start_time": "2022-03-10T18:38:22.131Z"
   },
   {
    "duration": 11,
    "start_time": "2022-03-10T18:38:22.146Z"
   },
   {
    "duration": 6,
    "start_time": "2022-03-10T18:38:22.159Z"
   },
   {
    "duration": 14,
    "start_time": "2022-03-10T18:38:22.166Z"
   },
   {
    "duration": 26,
    "start_time": "2022-03-10T18:38:22.182Z"
   },
   {
    "duration": 14,
    "start_time": "2022-03-10T18:38:22.210Z"
   },
   {
    "duration": 10,
    "start_time": "2022-03-10T18:38:22.225Z"
   },
   {
    "duration": 17,
    "start_time": "2022-03-10T18:38:22.236Z"
   },
   {
    "duration": 7,
    "start_time": "2022-03-10T18:38:22.255Z"
   },
   {
    "duration": 8,
    "start_time": "2022-03-10T18:38:22.264Z"
   },
   {
    "duration": 8,
    "start_time": "2022-03-10T18:38:22.273Z"
   },
   {
    "duration": 11,
    "start_time": "2022-03-10T18:38:22.282Z"
   },
   {
    "duration": 643,
    "start_time": "2022-03-10T18:38:22.295Z"
   },
   {
    "duration": 195,
    "start_time": "2022-03-10T18:38:22.939Z"
   },
   {
    "duration": 356,
    "start_time": "2022-03-10T18:38:23.136Z"
   },
   {
    "duration": 193,
    "start_time": "2022-03-10T18:38:23.494Z"
   },
   {
    "duration": 320,
    "start_time": "2022-03-10T18:38:23.690Z"
   },
   {
    "duration": 158,
    "start_time": "2022-03-10T18:38:24.013Z"
   },
   {
    "duration": 271,
    "start_time": "2022-03-10T18:38:24.173Z"
   },
   {
    "duration": 5,
    "start_time": "2022-03-10T18:38:24.446Z"
   },
   {
    "duration": 7,
    "start_time": "2022-03-10T18:38:24.463Z"
   },
   {
    "duration": 282,
    "start_time": "2022-03-10T18:38:24.472Z"
   },
   {
    "duration": 6,
    "start_time": "2022-03-10T18:38:24.762Z"
   },
   {
    "duration": 385,
    "start_time": "2022-03-10T18:38:24.769Z"
   },
   {
    "duration": 13,
    "start_time": "2022-03-10T18:38:25.163Z"
   },
   {
    "duration": 324,
    "start_time": "2022-03-10T18:38:25.177Z"
   },
   {
    "duration": 1985,
    "start_time": "2022-03-10T18:38:23.518Z"
   },
   {
    "duration": 70,
    "start_time": "2022-03-10T18:39:51.886Z"
   },
   {
    "duration": 596,
    "start_time": "2022-03-10T18:42:50.913Z"
   },
   {
    "duration": 626,
    "start_time": "2022-03-10T18:43:12.406Z"
   },
   {
    "duration": 632,
    "start_time": "2022-03-10T18:43:28.668Z"
   },
   {
    "duration": 182,
    "start_time": "2022-03-10T18:44:28.947Z"
   },
   {
    "duration": 20,
    "start_time": "2022-03-10T18:44:52.209Z"
   },
   {
    "duration": 14,
    "start_time": "2022-03-10T18:45:02.631Z"
   },
   {
    "duration": 695,
    "start_time": "2022-03-10T18:46:05.241Z"
   },
   {
    "duration": 627,
    "start_time": "2022-03-10T18:46:23.044Z"
   },
   {
    "duration": 700,
    "start_time": "2022-03-10T18:56:11.039Z"
   },
   {
    "duration": 717,
    "start_time": "2022-03-10T18:56:35.908Z"
   },
   {
    "duration": 598,
    "start_time": "2022-03-10T18:57:21.107Z"
   },
   {
    "duration": 174,
    "start_time": "2022-03-10T18:58:12.955Z"
   },
   {
    "duration": 169,
    "start_time": "2022-03-10T18:59:17.088Z"
   },
   {
    "duration": 63,
    "start_time": "2022-03-10T18:59:36.687Z"
   },
   {
    "duration": 196,
    "start_time": "2022-03-10T18:59:42.044Z"
   },
   {
    "duration": 3,
    "start_time": "2022-03-10T19:01:30.767Z"
   },
   {
    "duration": 43,
    "start_time": "2022-03-10T19:01:30.773Z"
   },
   {
    "duration": 19,
    "start_time": "2022-03-10T19:01:30.818Z"
   },
   {
    "duration": 26,
    "start_time": "2022-03-10T19:01:30.839Z"
   },
   {
    "duration": 8,
    "start_time": "2022-03-10T19:01:30.867Z"
   },
   {
    "duration": 13,
    "start_time": "2022-03-10T19:01:30.877Z"
   },
   {
    "duration": 16,
    "start_time": "2022-03-10T19:01:30.892Z"
   },
   {
    "duration": 22,
    "start_time": "2022-03-10T19:01:30.909Z"
   },
   {
    "duration": 22,
    "start_time": "2022-03-10T19:01:30.933Z"
   },
   {
    "duration": 18,
    "start_time": "2022-03-10T19:01:30.957Z"
   },
   {
    "duration": 12,
    "start_time": "2022-03-10T19:01:30.976Z"
   },
   {
    "duration": 15,
    "start_time": "2022-03-10T19:01:30.989Z"
   },
   {
    "duration": 6,
    "start_time": "2022-03-10T19:01:31.006Z"
   },
   {
    "duration": 13,
    "start_time": "2022-03-10T19:01:31.014Z"
   },
   {
    "duration": 11,
    "start_time": "2022-03-10T19:01:31.028Z"
   },
   {
    "duration": 23,
    "start_time": "2022-03-10T19:01:31.041Z"
   },
   {
    "duration": 597,
    "start_time": "2022-03-10T19:01:31.067Z"
   },
   {
    "duration": 205,
    "start_time": "2022-03-10T19:01:31.666Z"
   },
   {
    "duration": 412,
    "start_time": "2022-03-10T19:01:31.872Z"
   },
   {
    "duration": 188,
    "start_time": "2022-03-10T19:01:32.286Z"
   },
   {
    "duration": 298,
    "start_time": "2022-03-10T19:01:32.475Z"
   },
   {
    "duration": 129,
    "start_time": "2022-03-10T19:01:32.775Z"
   },
   {
    "duration": 264,
    "start_time": "2022-03-10T19:01:32.906Z"
   },
   {
    "duration": 5,
    "start_time": "2022-03-10T19:01:33.171Z"
   },
   {
    "duration": 10,
    "start_time": "2022-03-10T19:01:33.177Z"
   },
   {
    "duration": 288,
    "start_time": "2022-03-10T19:01:33.189Z"
   },
   {
    "duration": 5,
    "start_time": "2022-03-10T19:01:33.480Z"
   },
   {
    "duration": 378,
    "start_time": "2022-03-10T19:01:33.487Z"
   },
   {
    "duration": 10,
    "start_time": "2022-03-10T19:01:33.867Z"
   },
   {
    "duration": 12,
    "start_time": "2022-03-10T19:01:33.879Z"
   },
   {
    "duration": 18,
    "start_time": "2022-03-10T19:01:33.893Z"
   },
   {
    "duration": 231,
    "start_time": "2022-03-10T19:02:27.975Z"
   },
   {
    "duration": 300,
    "start_time": "2022-03-10T19:03:36.446Z"
   },
   {
    "duration": 316,
    "start_time": "2022-03-10T19:03:44.463Z"
   },
   {
    "duration": 1062,
    "start_time": "2022-03-10T19:05:25.462Z"
   },
   {
    "duration": 285,
    "start_time": "2022-03-10T19:05:35.109Z"
   },
   {
    "duration": 211,
    "start_time": "2022-03-10T19:05:42.271Z"
   },
   {
    "duration": 224,
    "start_time": "2022-03-10T19:06:13.452Z"
   },
   {
    "duration": 330,
    "start_time": "2022-03-10T19:06:19.947Z"
   },
   {
    "duration": 214,
    "start_time": "2022-03-10T19:06:24.659Z"
   },
   {
    "duration": 225,
    "start_time": "2022-03-10T19:06:42.705Z"
   },
   {
    "duration": 217,
    "start_time": "2022-03-10T19:07:13.582Z"
   },
   {
    "duration": 314,
    "start_time": "2022-03-10T19:07:42.255Z"
   },
   {
    "duration": 219,
    "start_time": "2022-03-10T19:07:53.207Z"
   },
   {
    "duration": 210,
    "start_time": "2022-03-10T19:07:59.693Z"
   },
   {
    "duration": 228,
    "start_time": "2022-03-10T19:08:07.430Z"
   },
   {
    "duration": 383,
    "start_time": "2022-03-10T19:08:19.058Z"
   },
   {
    "duration": 302,
    "start_time": "2022-03-10T19:12:01.701Z"
   },
   {
    "duration": 4,
    "start_time": "2022-03-10T19:14:56.369Z"
   },
   {
    "duration": 17,
    "start_time": "2022-03-10T19:14:56.375Z"
   },
   {
    "duration": 12,
    "start_time": "2022-03-10T19:14:56.395Z"
   },
   {
    "duration": 5,
    "start_time": "2022-03-10T19:14:56.409Z"
   },
   {
    "duration": 7,
    "start_time": "2022-03-10T19:14:56.416Z"
   },
   {
    "duration": 14,
    "start_time": "2022-03-10T19:14:56.424Z"
   },
   {
    "duration": 24,
    "start_time": "2022-03-10T19:14:56.440Z"
   },
   {
    "duration": 13,
    "start_time": "2022-03-10T19:14:56.466Z"
   },
   {
    "duration": 20,
    "start_time": "2022-03-10T19:14:56.482Z"
   },
   {
    "duration": 15,
    "start_time": "2022-03-10T19:14:56.504Z"
   },
   {
    "duration": 10,
    "start_time": "2022-03-10T19:14:56.520Z"
   },
   {
    "duration": 17,
    "start_time": "2022-03-10T19:14:56.531Z"
   },
   {
    "duration": 5,
    "start_time": "2022-03-10T19:14:56.549Z"
   },
   {
    "duration": 10,
    "start_time": "2022-03-10T19:14:56.556Z"
   },
   {
    "duration": 7,
    "start_time": "2022-03-10T19:14:56.568Z"
   },
   {
    "duration": 7,
    "start_time": "2022-03-10T19:14:56.577Z"
   },
   {
    "duration": 605,
    "start_time": "2022-03-10T19:14:56.586Z"
   },
   {
    "duration": 241,
    "start_time": "2022-03-10T19:14:57.193Z"
   },
   {
    "duration": 467,
    "start_time": "2022-03-10T19:14:57.436Z"
   },
   {
    "duration": 224,
    "start_time": "2022-03-10T19:14:57.905Z"
   },
   {
    "duration": 350,
    "start_time": "2022-03-10T19:14:58.131Z"
   },
   {
    "duration": 111,
    "start_time": "2022-03-10T19:14:58.483Z"
   },
   {
    "duration": 285,
    "start_time": "2022-03-10T19:14:58.595Z"
   },
   {
    "duration": 6,
    "start_time": "2022-03-10T19:14:58.881Z"
   },
   {
    "duration": 7,
    "start_time": "2022-03-10T19:14:58.889Z"
   },
   {
    "duration": 279,
    "start_time": "2022-03-10T19:14:58.898Z"
   },
   {
    "duration": 5,
    "start_time": "2022-03-10T19:14:59.180Z"
   },
   {
    "duration": 364,
    "start_time": "2022-03-10T19:14:59.186Z"
   },
   {
    "duration": 15,
    "start_time": "2022-03-10T19:14:59.552Z"
   },
   {
    "duration": 11,
    "start_time": "2022-03-10T19:14:59.568Z"
   },
   {
    "duration": 17,
    "start_time": "2022-03-10T19:14:59.581Z"
   },
   {
    "duration": 312,
    "start_time": "2022-03-10T19:17:58.285Z"
   },
   {
    "duration": 3,
    "start_time": "2022-03-10T19:18:11.943Z"
   },
   {
    "duration": 20,
    "start_time": "2022-03-10T19:18:11.948Z"
   },
   {
    "duration": 24,
    "start_time": "2022-03-10T19:18:11.970Z"
   },
   {
    "duration": 22,
    "start_time": "2022-03-10T19:18:11.996Z"
   },
   {
    "duration": 6,
    "start_time": "2022-03-10T19:18:12.020Z"
   },
   {
    "duration": 14,
    "start_time": "2022-03-10T19:18:12.028Z"
   },
   {
    "duration": 7,
    "start_time": "2022-03-10T19:18:12.044Z"
   },
   {
    "duration": 12,
    "start_time": "2022-03-10T19:18:12.052Z"
   },
   {
    "duration": 20,
    "start_time": "2022-03-10T19:18:12.066Z"
   },
   {
    "duration": 15,
    "start_time": "2022-03-10T19:18:12.088Z"
   },
   {
    "duration": 10,
    "start_time": "2022-03-10T19:18:12.105Z"
   },
   {
    "duration": 13,
    "start_time": "2022-03-10T19:18:12.117Z"
   },
   {
    "duration": 5,
    "start_time": "2022-03-10T19:18:12.132Z"
   },
   {
    "duration": 7,
    "start_time": "2022-03-10T19:18:12.138Z"
   },
   {
    "duration": 18,
    "start_time": "2022-03-10T19:18:12.146Z"
   },
   {
    "duration": 7,
    "start_time": "2022-03-10T19:18:12.165Z"
   },
   {
    "duration": 569,
    "start_time": "2022-03-10T19:18:12.174Z"
   },
   {
    "duration": 236,
    "start_time": "2022-03-10T19:18:12.745Z"
   },
   {
    "duration": 316,
    "start_time": "2022-03-10T19:18:12.983Z"
   },
   {
    "duration": 232,
    "start_time": "2022-03-10T19:18:13.301Z"
   },
   {
    "duration": 349,
    "start_time": "2022-03-10T19:18:13.535Z"
   },
   {
    "duration": 122,
    "start_time": "2022-03-10T19:18:13.886Z"
   },
   {
    "duration": 269,
    "start_time": "2022-03-10T19:18:14.009Z"
   },
   {
    "duration": 4,
    "start_time": "2022-03-10T19:18:14.280Z"
   },
   {
    "duration": 291,
    "start_time": "2022-03-10T19:18:14.286Z"
   },
   {
    "duration": 5,
    "start_time": "2022-03-10T19:18:14.578Z"
   },
   {
    "duration": 487,
    "start_time": "2022-03-10T19:18:14.586Z"
   },
   {
    "duration": 12,
    "start_time": "2022-03-10T19:18:15.074Z"
   },
   {
    "duration": 12,
    "start_time": "2022-03-10T19:18:15.087Z"
   },
   {
    "duration": 18,
    "start_time": "2022-03-10T19:18:15.101Z"
   },
   {
    "duration": 6,
    "start_time": "2022-03-10T19:18:52.525Z"
   },
   {
    "duration": 58,
    "start_time": "2022-03-10T19:20:08.472Z"
   },
   {
    "duration": 62,
    "start_time": "2022-03-10T19:22:05.960Z"
   },
   {
    "duration": 3,
    "start_time": "2022-03-10T19:33:00.108Z"
   },
   {
    "duration": 18,
    "start_time": "2022-03-10T19:33:00.113Z"
   },
   {
    "duration": 20,
    "start_time": "2022-03-10T19:33:00.133Z"
   },
   {
    "duration": 19,
    "start_time": "2022-03-10T19:33:00.154Z"
   },
   {
    "duration": 17,
    "start_time": "2022-03-10T19:33:00.175Z"
   },
   {
    "duration": 13,
    "start_time": "2022-03-10T19:33:00.194Z"
   },
   {
    "duration": 11,
    "start_time": "2022-03-10T19:33:00.209Z"
   },
   {
    "duration": 21,
    "start_time": "2022-03-10T19:33:00.222Z"
   },
   {
    "duration": 23,
    "start_time": "2022-03-10T19:33:00.245Z"
   },
   {
    "duration": 17,
    "start_time": "2022-03-10T19:33:00.270Z"
   },
   {
    "duration": 18,
    "start_time": "2022-03-10T19:33:00.289Z"
   },
   {
    "duration": 39,
    "start_time": "2022-03-10T19:33:00.309Z"
   },
   {
    "duration": 8,
    "start_time": "2022-03-10T19:33:00.350Z"
   },
   {
    "duration": 21,
    "start_time": "2022-03-10T19:33:00.360Z"
   },
   {
    "duration": 9,
    "start_time": "2022-03-10T19:33:00.382Z"
   },
   {
    "duration": 14,
    "start_time": "2022-03-10T19:33:00.392Z"
   },
   {
    "duration": 632,
    "start_time": "2022-03-10T19:33:00.408Z"
   },
   {
    "duration": 239,
    "start_time": "2022-03-10T19:33:01.043Z"
   },
   {
    "duration": 334,
    "start_time": "2022-03-10T19:33:01.283Z"
   },
   {
    "duration": 239,
    "start_time": "2022-03-10T19:33:01.619Z"
   },
   {
    "duration": 326,
    "start_time": "2022-03-10T19:33:01.862Z"
   },
   {
    "duration": 146,
    "start_time": "2022-03-10T19:33:02.190Z"
   },
   {
    "duration": 316,
    "start_time": "2022-03-10T19:33:02.338Z"
   },
   {
    "duration": 10,
    "start_time": "2022-03-10T19:33:02.656Z"
   },
   {
    "duration": 388,
    "start_time": "2022-03-10T19:33:02.668Z"
   },
   {
    "duration": 7,
    "start_time": "2022-03-10T19:33:03.058Z"
   },
   {
    "duration": 385,
    "start_time": "2022-03-10T19:33:03.069Z"
   },
   {
    "duration": 11,
    "start_time": "2022-03-10T19:33:03.463Z"
   },
   {
    "duration": 12,
    "start_time": "2022-03-10T19:33:03.476Z"
   },
   {
    "duration": 19,
    "start_time": "2022-03-10T19:33:03.490Z"
   },
   {
    "duration": 13,
    "start_time": "2022-03-10T19:34:53.697Z"
   },
   {
    "duration": 14,
    "start_time": "2022-03-10T19:34:58.655Z"
   },
   {
    "duration": 21,
    "start_time": "2022-03-10T19:35:02.547Z"
   },
   {
    "duration": 59,
    "start_time": "2022-03-10T19:37:05.720Z"
   },
   {
    "duration": 3,
    "start_time": "2022-03-10T19:41:48.940Z"
   },
   {
    "duration": 13,
    "start_time": "2022-03-10T19:41:48.945Z"
   },
   {
    "duration": 12,
    "start_time": "2022-03-10T19:41:48.961Z"
   },
   {
    "duration": 4,
    "start_time": "2022-03-10T19:41:48.975Z"
   },
   {
    "duration": 9,
    "start_time": "2022-03-10T19:41:48.981Z"
   },
   {
    "duration": 11,
    "start_time": "2022-03-10T19:41:48.991Z"
   },
   {
    "duration": 6,
    "start_time": "2022-03-10T19:41:49.003Z"
   },
   {
    "duration": 12,
    "start_time": "2022-03-10T19:41:49.010Z"
   },
   {
    "duration": 38,
    "start_time": "2022-03-10T19:41:49.025Z"
   },
   {
    "duration": 15,
    "start_time": "2022-03-10T19:41:49.065Z"
   },
   {
    "duration": 10,
    "start_time": "2022-03-10T19:41:49.082Z"
   },
   {
    "duration": 15,
    "start_time": "2022-03-10T19:41:49.094Z"
   },
   {
    "duration": 7,
    "start_time": "2022-03-10T19:41:49.110Z"
   },
   {
    "duration": 10,
    "start_time": "2022-03-10T19:41:49.118Z"
   },
   {
    "duration": 9,
    "start_time": "2022-03-10T19:41:49.130Z"
   },
   {
    "duration": 28,
    "start_time": "2022-03-10T19:41:49.141Z"
   },
   {
    "duration": 592,
    "start_time": "2022-03-10T19:41:49.171Z"
   },
   {
    "duration": 236,
    "start_time": "2022-03-10T19:41:49.765Z"
   },
   {
    "duration": 297,
    "start_time": "2022-03-10T19:41:50.003Z"
   },
   {
    "duration": 230,
    "start_time": "2022-03-10T19:41:50.303Z"
   },
   {
    "duration": 319,
    "start_time": "2022-03-10T19:41:50.536Z"
   },
   {
    "duration": 134,
    "start_time": "2022-03-10T19:41:50.857Z"
   },
   {
    "duration": 354,
    "start_time": "2022-03-10T19:41:50.993Z"
   },
   {
    "duration": 15,
    "start_time": "2022-03-10T19:41:51.348Z"
   },
   {
    "duration": 286,
    "start_time": "2022-03-10T19:41:51.364Z"
   },
   {
    "duration": 12,
    "start_time": "2022-03-10T19:41:51.652Z"
   },
   {
    "duration": 371,
    "start_time": "2022-03-10T19:41:51.668Z"
   },
   {
    "duration": 29,
    "start_time": "2022-03-10T19:41:52.041Z"
   },
   {
    "duration": 11,
    "start_time": "2022-03-10T19:41:52.072Z"
   },
   {
    "duration": 16,
    "start_time": "2022-03-10T19:41:52.085Z"
   },
   {
    "duration": 997,
    "start_time": "2022-03-11T18:31:12.546Z"
   },
   {
    "duration": 18,
    "start_time": "2022-03-11T18:31:13.545Z"
   },
   {
    "duration": 15,
    "start_time": "2022-03-11T18:31:13.565Z"
   },
   {
    "duration": 3,
    "start_time": "2022-03-11T18:31:13.582Z"
   },
   {
    "duration": 11,
    "start_time": "2022-03-11T18:31:13.586Z"
   },
   {
    "duration": 12,
    "start_time": "2022-03-11T18:31:13.599Z"
   },
   {
    "duration": 6,
    "start_time": "2022-03-11T18:31:13.613Z"
   },
   {
    "duration": 15,
    "start_time": "2022-03-11T18:31:13.620Z"
   },
   {
    "duration": 73,
    "start_time": "2022-03-11T18:31:13.637Z"
   },
   {
    "duration": 15,
    "start_time": "2022-03-11T18:31:13.712Z"
   },
   {
    "duration": 16,
    "start_time": "2022-03-11T18:31:13.728Z"
   },
   {
    "duration": 14,
    "start_time": "2022-03-11T18:31:13.746Z"
   },
   {
    "duration": 6,
    "start_time": "2022-03-11T18:31:13.761Z"
   },
   {
    "duration": 9,
    "start_time": "2022-03-11T18:31:13.768Z"
   },
   {
    "duration": 9,
    "start_time": "2022-03-11T18:31:13.778Z"
   },
   {
    "duration": 20,
    "start_time": "2022-03-11T18:31:13.789Z"
   },
   {
    "duration": 563,
    "start_time": "2022-03-11T18:31:13.811Z"
   },
   {
    "duration": 219,
    "start_time": "2022-03-11T18:31:14.376Z"
   },
   {
    "duration": 315,
    "start_time": "2022-03-11T18:31:14.597Z"
   },
   {
    "duration": 225,
    "start_time": "2022-03-11T18:31:14.914Z"
   },
   {
    "duration": 293,
    "start_time": "2022-03-11T18:31:15.141Z"
   },
   {
    "duration": 118,
    "start_time": "2022-03-11T18:31:15.435Z"
   },
   {
    "duration": 266,
    "start_time": "2022-03-11T18:31:15.554Z"
   },
   {
    "duration": 4,
    "start_time": "2022-03-11T18:31:15.822Z"
   },
   {
    "duration": 292,
    "start_time": "2022-03-11T18:31:15.827Z"
   },
   {
    "duration": 5,
    "start_time": "2022-03-11T18:31:16.120Z"
   },
   {
    "duration": 361,
    "start_time": "2022-03-11T18:31:16.128Z"
   },
   {
    "duration": 19,
    "start_time": "2022-03-11T18:31:16.491Z"
   },
   {
    "duration": 389,
    "start_time": "2022-03-11T18:31:16.511Z"
   },
   {
    "duration": 59,
    "start_time": "2022-03-11T18:31:16.843Z"
   },
   {
    "duration": 945,
    "start_time": "2022-03-12T13:49:50.938Z"
   },
   {
    "duration": 16,
    "start_time": "2022-03-12T13:49:51.885Z"
   },
   {
    "duration": 14,
    "start_time": "2022-03-12T13:49:51.904Z"
   },
   {
    "duration": 3,
    "start_time": "2022-03-12T13:49:51.921Z"
   },
   {
    "duration": 11,
    "start_time": "2022-03-12T13:49:51.926Z"
   },
   {
    "duration": 10,
    "start_time": "2022-03-12T13:49:51.938Z"
   },
   {
    "duration": 9,
    "start_time": "2022-03-12T13:49:51.950Z"
   },
   {
    "duration": 16,
    "start_time": "2022-03-12T13:49:51.960Z"
   },
   {
    "duration": 22,
    "start_time": "2022-03-12T13:49:51.979Z"
   },
   {
    "duration": 30,
    "start_time": "2022-03-12T13:49:52.003Z"
   },
   {
    "duration": 11,
    "start_time": "2022-03-12T13:49:52.034Z"
   },
   {
    "duration": 14,
    "start_time": "2022-03-12T13:49:52.047Z"
   },
   {
    "duration": 7,
    "start_time": "2022-03-12T13:49:52.063Z"
   },
   {
    "duration": 8,
    "start_time": "2022-03-12T13:49:52.072Z"
   },
   {
    "duration": 6,
    "start_time": "2022-03-12T13:49:52.081Z"
   },
   {
    "duration": 7,
    "start_time": "2022-03-12T13:49:52.089Z"
   },
   {
    "duration": 602,
    "start_time": "2022-03-12T13:49:52.097Z"
   },
   {
    "duration": 219,
    "start_time": "2022-03-12T13:49:52.701Z"
   },
   {
    "duration": 340,
    "start_time": "2022-03-12T13:49:52.922Z"
   },
   {
    "duration": 217,
    "start_time": "2022-03-12T13:49:53.263Z"
   },
   {
    "duration": 297,
    "start_time": "2022-03-12T13:49:53.482Z"
   },
   {
    "duration": 110,
    "start_time": "2022-03-12T13:49:53.781Z"
   },
   {
    "duration": 267,
    "start_time": "2022-03-12T13:49:53.893Z"
   },
   {
    "duration": 6,
    "start_time": "2022-03-12T13:49:54.162Z"
   },
   {
    "duration": 274,
    "start_time": "2022-03-12T13:49:54.169Z"
   },
   {
    "duration": 5,
    "start_time": "2022-03-12T13:49:54.445Z"
   },
   {
    "duration": 497,
    "start_time": "2022-03-12T13:49:54.454Z"
   },
   {
    "duration": 12,
    "start_time": "2022-03-12T13:49:54.953Z"
   },
   {
    "duration": 208,
    "start_time": "2022-03-12T13:49:54.966Z"
   },
   {
    "duration": 418,
    "start_time": "2022-03-12T13:49:54.758Z"
   },
   {
    "duration": 133,
    "start_time": "2022-03-12T13:50:09.808Z"
   },
   {
    "duration": 54,
    "start_time": "2022-03-12T13:51:24.425Z"
   },
   {
    "duration": 123,
    "start_time": "2022-03-12T13:51:36.619Z"
   },
   {
    "duration": 47,
    "start_time": "2022-03-12T13:53:35.193Z"
   },
   {
    "duration": 38,
    "start_time": "2022-03-12T13:53:45.672Z"
   },
   {
    "duration": 16,
    "start_time": "2022-03-12T13:54:32.465Z"
   },
   {
    "duration": 12,
    "start_time": "2022-03-12T13:54:41.671Z"
   },
   {
    "duration": 3,
    "start_time": "2022-03-12T13:54:46.351Z"
   },
   {
    "duration": 16,
    "start_time": "2022-03-12T13:54:46.356Z"
   },
   {
    "duration": 11,
    "start_time": "2022-03-12T13:54:46.374Z"
   },
   {
    "duration": 4,
    "start_time": "2022-03-12T13:54:46.387Z"
   },
   {
    "duration": 5,
    "start_time": "2022-03-12T13:54:46.393Z"
   },
   {
    "duration": 10,
    "start_time": "2022-03-12T13:54:46.400Z"
   },
   {
    "duration": 4,
    "start_time": "2022-03-12T13:54:46.412Z"
   },
   {
    "duration": 18,
    "start_time": "2022-03-12T13:54:46.418Z"
   },
   {
    "duration": 18,
    "start_time": "2022-03-12T13:54:46.439Z"
   },
   {
    "duration": 17,
    "start_time": "2022-03-12T13:54:46.459Z"
   },
   {
    "duration": 11,
    "start_time": "2022-03-12T13:54:46.478Z"
   },
   {
    "duration": 19,
    "start_time": "2022-03-12T13:54:46.490Z"
   },
   {
    "duration": 12,
    "start_time": "2022-03-12T13:54:46.511Z"
   },
   {
    "duration": 8,
    "start_time": "2022-03-12T13:54:46.525Z"
   },
   {
    "duration": 13,
    "start_time": "2022-03-12T13:54:46.535Z"
   },
   {
    "duration": 9,
    "start_time": "2022-03-12T13:54:46.549Z"
   },
   {
    "duration": 613,
    "start_time": "2022-03-12T13:54:46.559Z"
   },
   {
    "duration": 237,
    "start_time": "2022-03-12T13:54:47.173Z"
   },
   {
    "duration": 344,
    "start_time": "2022-03-12T13:54:47.411Z"
   },
   {
    "duration": 255,
    "start_time": "2022-03-12T13:54:47.757Z"
   },
   {
    "duration": 307,
    "start_time": "2022-03-12T13:54:48.014Z"
   },
   {
    "duration": 118,
    "start_time": "2022-03-12T13:54:48.322Z"
   },
   {
    "duration": 262,
    "start_time": "2022-03-12T13:54:48.442Z"
   },
   {
    "duration": 5,
    "start_time": "2022-03-12T13:54:48.705Z"
   },
   {
    "duration": 307,
    "start_time": "2022-03-12T13:54:48.711Z"
   },
   {
    "duration": 13,
    "start_time": "2022-03-12T13:54:49.020Z"
   },
   {
    "duration": 360,
    "start_time": "2022-03-12T13:54:49.036Z"
   },
   {
    "duration": 10,
    "start_time": "2022-03-12T13:54:49.398Z"
   },
   {
    "duration": 33,
    "start_time": "2022-03-12T13:54:49.409Z"
   },
   {
    "duration": 12,
    "start_time": "2022-03-12T13:54:49.444Z"
   },
   {
    "duration": 18,
    "start_time": "2022-03-12T13:55:56.307Z"
   },
   {
    "duration": 14,
    "start_time": "2022-03-12T13:55:59.621Z"
   },
   {
    "duration": 16,
    "start_time": "2022-03-12T13:57:25.170Z"
   },
   {
    "duration": 13,
    "start_time": "2022-03-12T13:57:28.096Z"
   },
   {
    "duration": 13,
    "start_time": "2022-03-12T13:58:13.056Z"
   },
   {
    "duration": 49,
    "start_time": "2022-03-12T13:58:53.283Z"
   },
   {
    "duration": 51,
    "start_time": "2022-03-12T13:59:08.706Z"
   },
   {
    "duration": 255,
    "start_time": "2022-03-12T14:03:54.581Z"
   },
   {
    "duration": 259,
    "start_time": "2022-03-12T14:04:30.966Z"
   },
   {
    "duration": 293,
    "start_time": "2022-03-12T14:05:02.661Z"
   },
   {
    "duration": 265,
    "start_time": "2022-03-12T14:05:15.489Z"
   },
   {
    "duration": 339,
    "start_time": "2022-03-12T14:05:20.538Z"
   },
   {
    "duration": 273,
    "start_time": "2022-03-12T14:05:29.049Z"
   },
   {
    "duration": 270,
    "start_time": "2022-03-12T14:06:30.069Z"
   },
   {
    "duration": 599,
    "start_time": "2022-03-12T14:09:25.805Z"
   },
   {
    "duration": 246,
    "start_time": "2022-03-12T14:09:40.418Z"
   },
   {
    "duration": 346,
    "start_time": "2022-03-12T14:09:47.927Z"
   },
   {
    "duration": 227,
    "start_time": "2022-03-12T14:09:54.882Z"
   },
   {
    "duration": 345,
    "start_time": "2022-03-12T14:09:59.705Z"
   },
   {
    "duration": 42,
    "start_time": "2022-03-12T14:10:30.681Z"
   },
   {
    "duration": 2,
    "start_time": "2022-03-12T14:10:49.975Z"
   },
   {
    "duration": 13,
    "start_time": "2022-03-12T14:10:49.979Z"
   },
   {
    "duration": 12,
    "start_time": "2022-03-12T14:10:49.993Z"
   },
   {
    "duration": 4,
    "start_time": "2022-03-12T14:10:50.007Z"
   },
   {
    "duration": 9,
    "start_time": "2022-03-12T14:10:50.013Z"
   },
   {
    "duration": 12,
    "start_time": "2022-03-12T14:10:50.023Z"
   },
   {
    "duration": 6,
    "start_time": "2022-03-12T14:10:50.038Z"
   },
   {
    "duration": 14,
    "start_time": "2022-03-12T14:10:50.046Z"
   },
   {
    "duration": 26,
    "start_time": "2022-03-12T14:10:50.062Z"
   },
   {
    "duration": 22,
    "start_time": "2022-03-12T14:10:50.090Z"
   },
   {
    "duration": 10,
    "start_time": "2022-03-12T14:10:50.114Z"
   },
   {
    "duration": 18,
    "start_time": "2022-03-12T14:10:50.125Z"
   },
   {
    "duration": 6,
    "start_time": "2022-03-12T14:10:50.144Z"
   },
   {
    "duration": 10,
    "start_time": "2022-03-12T14:10:50.151Z"
   },
   {
    "duration": 8,
    "start_time": "2022-03-12T14:10:50.163Z"
   },
   {
    "duration": 15,
    "start_time": "2022-03-12T14:10:50.173Z"
   },
   {
    "duration": 589,
    "start_time": "2022-03-12T14:10:50.190Z"
   },
   {
    "duration": 230,
    "start_time": "2022-03-12T14:10:50.780Z"
   },
   {
    "duration": 380,
    "start_time": "2022-03-12T14:10:51.012Z"
   },
   {
    "duration": 230,
    "start_time": "2022-03-12T14:10:51.393Z"
   },
   {
    "duration": 313,
    "start_time": "2022-03-12T14:10:51.632Z"
   },
   {
    "duration": 125,
    "start_time": "2022-03-12T14:10:51.946Z"
   },
   {
    "duration": 261,
    "start_time": "2022-03-12T14:10:52.072Z"
   },
   {
    "duration": 4,
    "start_time": "2022-03-12T14:10:52.335Z"
   },
   {
    "duration": 293,
    "start_time": "2022-03-12T14:10:52.340Z"
   },
   {
    "duration": 5,
    "start_time": "2022-03-12T14:10:52.634Z"
   },
   {
    "duration": 365,
    "start_time": "2022-03-12T14:10:52.641Z"
   },
   {
    "duration": 26,
    "start_time": "2022-03-12T14:10:53.007Z"
   },
   {
    "duration": 18,
    "start_time": "2022-03-12T14:10:53.035Z"
   },
   {
    "duration": 14,
    "start_time": "2022-03-12T14:10:53.055Z"
   },
   {
    "duration": 128,
    "start_time": "2022-03-12T14:11:29.705Z"
   },
   {
    "duration": 3118,
    "start_time": "2022-03-12T14:12:35.400Z"
   },
   {
    "duration": 4,
    "start_time": "2022-03-12T14:13:01.578Z"
   },
   {
    "duration": 45,
    "start_time": "2022-03-12T14:13:48.269Z"
   },
   {
    "duration": 3,
    "start_time": "2022-03-12T14:13:51.341Z"
   },
   {
    "duration": 20,
    "start_time": "2022-03-12T14:13:51.345Z"
   },
   {
    "duration": 13,
    "start_time": "2022-03-12T14:13:51.367Z"
   },
   {
    "duration": 7,
    "start_time": "2022-03-12T14:13:51.381Z"
   },
   {
    "duration": 7,
    "start_time": "2022-03-12T14:13:51.389Z"
   },
   {
    "duration": 12,
    "start_time": "2022-03-12T14:13:51.398Z"
   },
   {
    "duration": 7,
    "start_time": "2022-03-12T14:13:51.412Z"
   },
   {
    "duration": 16,
    "start_time": "2022-03-12T14:13:51.421Z"
   },
   {
    "duration": 25,
    "start_time": "2022-03-12T14:13:51.438Z"
   },
   {
    "duration": 16,
    "start_time": "2022-03-12T14:13:51.465Z"
   },
   {
    "duration": 9,
    "start_time": "2022-03-12T14:13:51.483Z"
   },
   {
    "duration": 16,
    "start_time": "2022-03-12T14:13:51.494Z"
   },
   {
    "duration": 11,
    "start_time": "2022-03-12T14:13:51.511Z"
   },
   {
    "duration": 10,
    "start_time": "2022-03-12T14:13:51.524Z"
   },
   {
    "duration": 5,
    "start_time": "2022-03-12T14:13:51.536Z"
   },
   {
    "duration": 8,
    "start_time": "2022-03-12T14:13:51.543Z"
   },
   {
    "duration": 10,
    "start_time": "2022-03-12T14:13:51.552Z"
   },
   {
    "duration": 52,
    "start_time": "2022-03-12T14:13:51.565Z"
   },
   {
    "duration": 370,
    "start_time": "2022-03-12T14:13:51.249Z"
   },
   {
    "duration": 366,
    "start_time": "2022-03-12T14:13:51.253Z"
   },
   {
    "duration": 365,
    "start_time": "2022-03-12T14:13:51.256Z"
   },
   {
    "duration": 361,
    "start_time": "2022-03-12T14:13:51.261Z"
   },
   {
    "duration": 359,
    "start_time": "2022-03-12T14:13:51.264Z"
   },
   {
    "duration": 357,
    "start_time": "2022-03-12T14:13:51.267Z"
   },
   {
    "duration": 351,
    "start_time": "2022-03-12T14:13:51.274Z"
   },
   {
    "duration": 348,
    "start_time": "2022-03-12T14:13:51.278Z"
   },
   {
    "duration": 346,
    "start_time": "2022-03-12T14:13:51.281Z"
   },
   {
    "duration": 346,
    "start_time": "2022-03-12T14:13:51.283Z"
   },
   {
    "duration": 343,
    "start_time": "2022-03-12T14:13:51.286Z"
   },
   {
    "duration": 340,
    "start_time": "2022-03-12T14:13:51.290Z"
   },
   {
    "duration": 338,
    "start_time": "2022-03-12T14:13:51.293Z"
   },
   {
    "duration": 336,
    "start_time": "2022-03-12T14:13:51.296Z"
   },
   {
    "duration": 3,
    "start_time": "2022-03-12T14:16:02.397Z"
   },
   {
    "duration": 20,
    "start_time": "2022-03-12T14:16:02.401Z"
   },
   {
    "duration": 13,
    "start_time": "2022-03-12T14:16:02.423Z"
   },
   {
    "duration": 5,
    "start_time": "2022-03-12T14:16:02.437Z"
   },
   {
    "duration": 6,
    "start_time": "2022-03-12T14:16:02.444Z"
   },
   {
    "duration": 13,
    "start_time": "2022-03-12T14:16:02.451Z"
   },
   {
    "duration": 7,
    "start_time": "2022-03-12T14:16:02.466Z"
   },
   {
    "duration": 12,
    "start_time": "2022-03-12T14:16:02.475Z"
   },
   {
    "duration": 24,
    "start_time": "2022-03-12T14:16:02.490Z"
   },
   {
    "duration": 27,
    "start_time": "2022-03-12T14:16:02.516Z"
   },
   {
    "duration": 9,
    "start_time": "2022-03-12T14:16:02.545Z"
   },
   {
    "duration": 15,
    "start_time": "2022-03-12T14:16:02.556Z"
   },
   {
    "duration": 4,
    "start_time": "2022-03-12T14:16:02.574Z"
   },
   {
    "duration": 8,
    "start_time": "2022-03-12T14:16:02.580Z"
   },
   {
    "duration": 10,
    "start_time": "2022-03-12T14:16:02.589Z"
   },
   {
    "duration": 9,
    "start_time": "2022-03-12T14:16:02.600Z"
   },
   {
    "duration": 23,
    "start_time": "2022-03-12T14:16:02.611Z"
   },
   {
    "duration": 599,
    "start_time": "2022-03-12T14:16:02.636Z"
   },
   {
    "duration": 235,
    "start_time": "2022-03-12T14:16:03.236Z"
   },
   {
    "duration": 287,
    "start_time": "2022-03-12T14:16:03.472Z"
   },
   {
    "duration": 227,
    "start_time": "2022-03-12T14:16:03.761Z"
   },
   {
    "duration": 297,
    "start_time": "2022-03-12T14:16:03.990Z"
   },
   {
    "duration": 109,
    "start_time": "2022-03-12T14:16:04.288Z"
   },
   {
    "duration": 334,
    "start_time": "2022-03-12T14:16:04.399Z"
   },
   {
    "duration": 5,
    "start_time": "2022-03-12T14:16:04.734Z"
   },
   {
    "duration": 310,
    "start_time": "2022-03-12T14:16:04.740Z"
   },
   {
    "duration": 4,
    "start_time": "2022-03-12T14:16:05.053Z"
   },
   {
    "duration": 376,
    "start_time": "2022-03-12T14:16:05.059Z"
   },
   {
    "duration": 10,
    "start_time": "2022-03-12T14:16:05.436Z"
   },
   {
    "duration": 16,
    "start_time": "2022-03-12T14:16:05.447Z"
   },
   {
    "duration": 13,
    "start_time": "2022-03-12T14:16:05.464Z"
   },
   {
    "duration": 1283,
    "start_time": "2022-03-13T06:07:37.828Z"
   },
   {
    "duration": 14,
    "start_time": "2022-03-13T06:07:39.114Z"
   },
   {
    "duration": 30,
    "start_time": "2022-03-13T06:07:39.131Z"
   },
   {
    "duration": 4,
    "start_time": "2022-03-13T06:07:39.164Z"
   },
   {
    "duration": 7,
    "start_time": "2022-03-13T06:07:39.171Z"
   },
   {
    "duration": 12,
    "start_time": "2022-03-13T06:07:39.181Z"
   },
   {
    "duration": 6,
    "start_time": "2022-03-13T06:07:39.195Z"
   },
   {
    "duration": 54,
    "start_time": "2022-03-13T06:07:39.203Z"
   },
   {
    "duration": 21,
    "start_time": "2022-03-13T06:07:39.262Z"
   },
   {
    "duration": 22,
    "start_time": "2022-03-13T06:07:39.287Z"
   },
   {
    "duration": 14,
    "start_time": "2022-03-13T06:07:39.312Z"
   },
   {
    "duration": 38,
    "start_time": "2022-03-13T06:07:39.329Z"
   },
   {
    "duration": 7,
    "start_time": "2022-03-13T06:07:39.370Z"
   },
   {
    "duration": 9,
    "start_time": "2022-03-13T06:07:39.380Z"
   },
   {
    "duration": 7,
    "start_time": "2022-03-13T06:07:39.392Z"
   },
   {
    "duration": 52,
    "start_time": "2022-03-13T06:07:39.401Z"
   },
   {
    "duration": 6,
    "start_time": "2022-03-13T06:07:39.455Z"
   },
   {
    "duration": 962,
    "start_time": "2022-03-13T06:07:39.464Z"
   },
   {
    "duration": 387,
    "start_time": "2022-03-13T06:07:40.429Z"
   },
   {
    "duration": 450,
    "start_time": "2022-03-13T06:07:40.818Z"
   },
   {
    "duration": 384,
    "start_time": "2022-03-13T06:07:41.270Z"
   },
   {
    "duration": 404,
    "start_time": "2022-03-13T06:07:41.657Z"
   },
   {
    "duration": 198,
    "start_time": "2022-03-13T06:07:42.064Z"
   },
   {
    "duration": 382,
    "start_time": "2022-03-13T06:07:42.265Z"
   },
   {
    "duration": 8,
    "start_time": "2022-03-13T06:07:42.649Z"
   },
   {
    "duration": 417,
    "start_time": "2022-03-13T06:07:42.660Z"
   },
   {
    "duration": 6,
    "start_time": "2022-03-13T06:07:43.084Z"
   },
   {
    "duration": 687,
    "start_time": "2022-03-13T06:07:43.093Z"
   },
   {
    "duration": 16,
    "start_time": "2022-03-13T06:07:43.782Z"
   },
   {
    "duration": 57,
    "start_time": "2022-03-13T06:07:43.800Z"
   },
   {
    "duration": 20,
    "start_time": "2022-03-13T06:07:43.860Z"
   },
   {
    "duration": 1041,
    "start_time": "2022-03-13T17:31:10.196Z"
   },
   {
    "duration": 18,
    "start_time": "2022-03-13T17:31:11.239Z"
   },
   {
    "duration": 14,
    "start_time": "2022-03-13T17:31:11.259Z"
   },
   {
    "duration": 3,
    "start_time": "2022-03-13T17:31:11.275Z"
   },
   {
    "duration": 8,
    "start_time": "2022-03-13T17:31:11.280Z"
   },
   {
    "duration": 10,
    "start_time": "2022-03-13T17:31:11.289Z"
   },
   {
    "duration": 7,
    "start_time": "2022-03-13T17:31:11.300Z"
   },
   {
    "duration": 11,
    "start_time": "2022-03-13T17:31:11.308Z"
   },
   {
    "duration": 38,
    "start_time": "2022-03-13T17:31:11.322Z"
   },
   {
    "duration": 14,
    "start_time": "2022-03-13T17:31:11.363Z"
   },
   {
    "duration": 16,
    "start_time": "2022-03-13T17:31:11.379Z"
   },
   {
    "duration": 18,
    "start_time": "2022-03-13T17:31:11.396Z"
   },
   {
    "duration": 7,
    "start_time": "2022-03-13T17:31:11.415Z"
   },
   {
    "duration": 8,
    "start_time": "2022-03-13T17:31:11.424Z"
   },
   {
    "duration": 6,
    "start_time": "2022-03-13T17:31:11.434Z"
   },
   {
    "duration": 7,
    "start_time": "2022-03-13T17:31:11.442Z"
   },
   {
    "duration": 5,
    "start_time": "2022-03-13T17:31:11.451Z"
   },
   {
    "duration": 608,
    "start_time": "2022-03-13T17:31:11.457Z"
   },
   {
    "duration": 238,
    "start_time": "2022-03-13T17:31:12.067Z"
   },
   {
    "duration": 327,
    "start_time": "2022-03-13T17:31:12.307Z"
   },
   {
    "duration": 224,
    "start_time": "2022-03-13T17:31:12.636Z"
   },
   {
    "duration": 333,
    "start_time": "2022-03-13T17:31:12.861Z"
   },
   {
    "duration": 121,
    "start_time": "2022-03-13T17:31:13.196Z"
   },
   {
    "duration": 267,
    "start_time": "2022-03-13T17:31:13.319Z"
   },
   {
    "duration": 4,
    "start_time": "2022-03-13T17:31:13.587Z"
   },
   {
    "duration": 302,
    "start_time": "2022-03-13T17:31:13.593Z"
   },
   {
    "duration": 9,
    "start_time": "2022-03-13T17:31:13.898Z"
   },
   {
    "duration": 359,
    "start_time": "2022-03-13T17:31:13.909Z"
   },
   {
    "duration": 9,
    "start_time": "2022-03-13T17:31:14.270Z"
   },
   {
    "duration": 32,
    "start_time": "2022-03-13T17:31:14.281Z"
   },
   {
    "duration": 11,
    "start_time": "2022-03-13T17:31:14.315Z"
   },
   {
    "duration": 4,
    "start_time": "2022-03-13T17:32:57.754Z"
   },
   {
    "duration": 19,
    "start_time": "2022-03-13T17:32:57.760Z"
   },
   {
    "duration": 12,
    "start_time": "2022-03-13T17:32:57.781Z"
   },
   {
    "duration": 3,
    "start_time": "2022-03-13T17:32:57.795Z"
   },
   {
    "duration": 5,
    "start_time": "2022-03-13T17:32:57.799Z"
   },
   {
    "duration": 9,
    "start_time": "2022-03-13T17:32:57.806Z"
   },
   {
    "duration": 5,
    "start_time": "2022-03-13T17:32:57.817Z"
   },
   {
    "duration": 10,
    "start_time": "2022-03-13T17:32:57.823Z"
   },
   {
    "duration": 38,
    "start_time": "2022-03-13T17:32:57.836Z"
   },
   {
    "duration": 15,
    "start_time": "2022-03-13T17:32:57.876Z"
   },
   {
    "duration": 16,
    "start_time": "2022-03-13T17:32:57.892Z"
   },
   {
    "duration": 15,
    "start_time": "2022-03-13T17:32:57.910Z"
   },
   {
    "duration": 8,
    "start_time": "2022-03-13T17:32:57.927Z"
   },
   {
    "duration": 8,
    "start_time": "2022-03-13T17:32:57.936Z"
   },
   {
    "duration": 8,
    "start_time": "2022-03-13T17:32:57.945Z"
   },
   {
    "duration": 13,
    "start_time": "2022-03-13T17:32:57.954Z"
   },
   {
    "duration": 5,
    "start_time": "2022-03-13T17:32:57.969Z"
   },
   {
    "duration": 693,
    "start_time": "2022-03-13T17:32:57.976Z"
   },
   {
    "duration": 236,
    "start_time": "2022-03-13T17:32:58.671Z"
   },
   {
    "duration": 344,
    "start_time": "2022-03-13T17:32:58.910Z"
   },
   {
    "duration": 258,
    "start_time": "2022-03-13T17:32:59.256Z"
   },
   {
    "duration": 324,
    "start_time": "2022-03-13T17:32:59.516Z"
   },
   {
    "duration": 133,
    "start_time": "2022-03-13T17:32:59.841Z"
   },
   {
    "duration": 318,
    "start_time": "2022-03-13T17:32:59.977Z"
   },
   {
    "duration": 6,
    "start_time": "2022-03-13T17:33:00.305Z"
   },
   {
    "duration": 373,
    "start_time": "2022-03-13T17:33:00.312Z"
   },
   {
    "duration": 5,
    "start_time": "2022-03-13T17:33:00.687Z"
   },
   {
    "duration": 460,
    "start_time": "2022-03-13T17:33:00.706Z"
   },
   {
    "duration": 13,
    "start_time": "2022-03-13T17:33:01.168Z"
   },
   {
    "duration": 35,
    "start_time": "2022-03-13T17:33:01.183Z"
   },
   {
    "duration": 16,
    "start_time": "2022-03-13T17:33:01.220Z"
   },
   {
    "duration": 321,
    "start_time": "2022-03-13T17:34:28.514Z"
   },
   {
    "duration": 303,
    "start_time": "2022-03-13T17:36:00.710Z"
   },
   {
    "duration": 4,
    "start_time": "2022-03-13T17:36:11.334Z"
   },
   {
    "duration": 6,
    "start_time": "2022-03-13T17:36:15.607Z"
   },
   {
    "duration": 5,
    "start_time": "2022-03-13T17:37:37.023Z"
   },
   {
    "duration": 10,
    "start_time": "2022-03-13T17:37:43.170Z"
   },
   {
    "duration": 6,
    "start_time": "2022-03-13T17:39:03.758Z"
   },
   {
    "duration": 11,
    "start_time": "2022-03-13T17:39:06.834Z"
   },
   {
    "duration": 349,
    "start_time": "2022-03-13T17:39:11.084Z"
   },
   {
    "duration": 11,
    "start_time": "2022-03-13T17:39:14.300Z"
   },
   {
    "duration": 6263,
    "start_time": "2022-03-13T17:39:38.757Z"
   },
   {
    "duration": 9,
    "start_time": "2022-03-13T17:40:05.348Z"
   },
   {
    "duration": 10,
    "start_time": "2022-03-13T17:41:27.382Z"
   },
   {
    "duration": 3,
    "start_time": "2022-03-13T17:41:33.275Z"
   },
   {
    "duration": 21,
    "start_time": "2022-03-13T17:41:33.280Z"
   },
   {
    "duration": 12,
    "start_time": "2022-03-13T17:41:33.303Z"
   },
   {
    "duration": 4,
    "start_time": "2022-03-13T17:41:33.317Z"
   },
   {
    "duration": 5,
    "start_time": "2022-03-13T17:41:33.322Z"
   },
   {
    "duration": 10,
    "start_time": "2022-03-13T17:41:33.329Z"
   },
   {
    "duration": 5,
    "start_time": "2022-03-13T17:41:33.341Z"
   },
   {
    "duration": 12,
    "start_time": "2022-03-13T17:41:33.348Z"
   },
   {
    "duration": 43,
    "start_time": "2022-03-13T17:41:33.363Z"
   },
   {
    "duration": 15,
    "start_time": "2022-03-13T17:41:33.408Z"
   },
   {
    "duration": 17,
    "start_time": "2022-03-13T17:41:33.426Z"
   },
   {
    "duration": 14,
    "start_time": "2022-03-13T17:41:33.444Z"
   },
   {
    "duration": 5,
    "start_time": "2022-03-13T17:41:33.460Z"
   },
   {
    "duration": 7,
    "start_time": "2022-03-13T17:41:33.466Z"
   },
   {
    "duration": 33,
    "start_time": "2022-03-13T17:41:33.474Z"
   },
   {
    "duration": 5,
    "start_time": "2022-03-13T17:41:33.509Z"
   },
   {
    "duration": 4,
    "start_time": "2022-03-13T17:41:33.516Z"
   },
   {
    "duration": 8,
    "start_time": "2022-03-13T17:41:33.521Z"
   },
   {
    "duration": 880,
    "start_time": "2022-03-13T17:41:33.531Z"
   },
   {
    "duration": 330,
    "start_time": "2022-03-13T17:41:34.412Z"
   },
   {
    "duration": 315,
    "start_time": "2022-03-13T17:41:34.743Z"
   },
   {
    "duration": 293,
    "start_time": "2022-03-13T17:41:35.061Z"
   },
   {
    "duration": 322,
    "start_time": "2022-03-13T17:41:35.355Z"
   },
   {
    "duration": 105,
    "start_time": "2022-03-13T17:41:35.678Z"
   },
   {
    "duration": 295,
    "start_time": "2022-03-13T17:41:35.784Z"
   },
   {
    "duration": 4,
    "start_time": "2022-03-13T17:41:36.080Z"
   },
   {
    "duration": 309,
    "start_time": "2022-03-13T17:41:36.086Z"
   },
   {
    "duration": 11,
    "start_time": "2022-03-13T17:41:36.396Z"
   },
   {
    "duration": 366,
    "start_time": "2022-03-13T17:41:36.409Z"
   },
   {
    "duration": 10,
    "start_time": "2022-03-13T17:41:36.776Z"
   },
   {
    "duration": 28,
    "start_time": "2022-03-13T17:41:36.788Z"
   },
   {
    "duration": 14,
    "start_time": "2022-03-13T17:41:36.818Z"
   },
   {
    "duration": 10,
    "start_time": "2022-03-13T17:44:44.089Z"
   },
   {
    "duration": 4,
    "start_time": "2022-03-13T17:44:57.248Z"
   },
   {
    "duration": 19,
    "start_time": "2022-03-13T17:44:57.254Z"
   },
   {
    "duration": 13,
    "start_time": "2022-03-13T17:44:57.276Z"
   },
   {
    "duration": 11,
    "start_time": "2022-03-13T17:44:57.292Z"
   },
   {
    "duration": 6,
    "start_time": "2022-03-13T17:44:57.305Z"
   },
   {
    "duration": 11,
    "start_time": "2022-03-13T17:44:57.313Z"
   },
   {
    "duration": 4,
    "start_time": "2022-03-13T17:44:57.327Z"
   },
   {
    "duration": 11,
    "start_time": "2022-03-13T17:44:57.333Z"
   },
   {
    "duration": 42,
    "start_time": "2022-03-13T17:44:57.346Z"
   },
   {
    "duration": 19,
    "start_time": "2022-03-13T17:44:57.390Z"
   },
   {
    "duration": 17,
    "start_time": "2022-03-13T17:44:57.411Z"
   },
   {
    "duration": 17,
    "start_time": "2022-03-13T17:44:57.430Z"
   },
   {
    "duration": 6,
    "start_time": "2022-03-13T17:44:57.448Z"
   },
   {
    "duration": 6,
    "start_time": "2022-03-13T17:44:57.455Z"
   },
   {
    "duration": 6,
    "start_time": "2022-03-13T17:44:57.463Z"
   },
   {
    "duration": 7,
    "start_time": "2022-03-13T17:44:57.470Z"
   },
   {
    "duration": 28,
    "start_time": "2022-03-13T17:44:57.478Z"
   },
   {
    "duration": 9,
    "start_time": "2022-03-13T17:44:57.508Z"
   },
   {
    "duration": 613,
    "start_time": "2022-03-13T17:44:57.520Z"
   },
   {
    "duration": 250,
    "start_time": "2022-03-13T17:44:58.135Z"
   },
   {
    "duration": 326,
    "start_time": "2022-03-13T17:44:58.386Z"
   },
   {
    "duration": 236,
    "start_time": "2022-03-13T17:44:58.713Z"
   },
   {
    "duration": 311,
    "start_time": "2022-03-13T17:44:58.951Z"
   },
   {
    "duration": 124,
    "start_time": "2022-03-13T17:44:59.263Z"
   },
   {
    "duration": 319,
    "start_time": "2022-03-13T17:44:59.388Z"
   },
   {
    "duration": 5,
    "start_time": "2022-03-13T17:44:59.709Z"
   },
   {
    "duration": 410,
    "start_time": "2022-03-13T17:44:59.715Z"
   },
   {
    "duration": 6,
    "start_time": "2022-03-13T17:45:00.127Z"
   },
   {
    "duration": 398,
    "start_time": "2022-03-13T17:45:00.135Z"
   },
   {
    "duration": 10,
    "start_time": "2022-03-13T17:45:00.535Z"
   },
   {
    "duration": 19,
    "start_time": "2022-03-13T17:45:00.547Z"
   },
   {
    "duration": 13,
    "start_time": "2022-03-13T17:45:00.568Z"
   },
   {
    "duration": 83,
    "start_time": "2022-03-13T17:50:33.554Z"
   },
   {
    "duration": 3,
    "start_time": "2022-03-13T17:50:56.284Z"
   },
   {
    "duration": 19,
    "start_time": "2022-03-13T17:50:56.289Z"
   },
   {
    "duration": 13,
    "start_time": "2022-03-13T17:50:56.311Z"
   },
   {
    "duration": 2,
    "start_time": "2022-03-13T17:50:56.326Z"
   },
   {
    "duration": 5,
    "start_time": "2022-03-13T17:50:56.330Z"
   },
   {
    "duration": 10,
    "start_time": "2022-03-13T17:50:56.337Z"
   },
   {
    "duration": 6,
    "start_time": "2022-03-13T17:50:56.348Z"
   },
   {
    "duration": 13,
    "start_time": "2022-03-13T17:50:56.356Z"
   },
   {
    "duration": 72,
    "start_time": "2022-03-13T17:50:56.371Z"
   },
   {
    "duration": 16,
    "start_time": "2022-03-13T17:50:56.445Z"
   },
   {
    "duration": 22,
    "start_time": "2022-03-13T17:50:56.463Z"
   },
   {
    "duration": 15,
    "start_time": "2022-03-13T17:50:56.487Z"
   },
   {
    "duration": 6,
    "start_time": "2022-03-13T17:50:56.503Z"
   },
   {
    "duration": 9,
    "start_time": "2022-03-13T17:50:56.511Z"
   },
   {
    "duration": 6,
    "start_time": "2022-03-13T17:50:56.522Z"
   },
   {
    "duration": 6,
    "start_time": "2022-03-13T17:50:56.530Z"
   },
   {
    "duration": 8,
    "start_time": "2022-03-13T17:50:56.538Z"
   },
   {
    "duration": 12,
    "start_time": "2022-03-13T17:50:56.547Z"
   },
   {
    "duration": 883,
    "start_time": "2022-03-13T17:50:56.561Z"
   },
   {
    "duration": 236,
    "start_time": "2022-03-13T17:50:57.446Z"
   },
   {
    "duration": 356,
    "start_time": "2022-03-13T17:50:57.684Z"
   },
   {
    "duration": 244,
    "start_time": "2022-03-13T17:50:58.042Z"
   },
   {
    "duration": 346,
    "start_time": "2022-03-13T17:50:58.288Z"
   },
   {
    "duration": 119,
    "start_time": "2022-03-13T17:50:58.636Z"
   },
   {
    "duration": 286,
    "start_time": "2022-03-13T17:50:58.757Z"
   },
   {
    "duration": 5,
    "start_time": "2022-03-13T17:50:59.045Z"
   },
   {
    "duration": 285,
    "start_time": "2022-03-13T17:50:59.053Z"
   },
   {
    "duration": 4,
    "start_time": "2022-03-13T17:50:59.340Z"
   },
   {
    "duration": 371,
    "start_time": "2022-03-13T17:50:59.345Z"
   },
   {
    "duration": 10,
    "start_time": "2022-03-13T17:50:59.718Z"
   },
   {
    "duration": 20,
    "start_time": "2022-03-13T17:50:59.730Z"
   },
   {
    "duration": 13,
    "start_time": "2022-03-13T17:50:59.752Z"
   },
   {
    "duration": 1640,
    "start_time": "2022-03-16T19:18:16.131Z"
   },
   {
    "duration": 12,
    "start_time": "2022-03-16T19:18:17.773Z"
   },
   {
    "duration": 71,
    "start_time": "2022-03-16T19:18:17.787Z"
   },
   {
    "duration": 4,
    "start_time": "2022-03-16T19:18:17.860Z"
   },
   {
    "duration": 8,
    "start_time": "2022-03-16T19:18:17.866Z"
   },
   {
    "duration": 69,
    "start_time": "2022-03-16T19:18:17.876Z"
   },
   {
    "duration": 8,
    "start_time": "2022-03-16T19:18:17.947Z"
   },
   {
    "duration": 13,
    "start_time": "2022-03-16T19:18:17.957Z"
   },
   {
    "duration": 66,
    "start_time": "2022-03-16T19:18:17.973Z"
   },
   {
    "duration": 17,
    "start_time": "2022-03-16T19:18:18.041Z"
   },
   {
    "duration": 24,
    "start_time": "2022-03-16T19:18:18.060Z"
   },
   {
    "duration": 60,
    "start_time": "2022-03-16T19:18:18.086Z"
   },
   {
    "duration": 6,
    "start_time": "2022-03-16T19:18:18.148Z"
   },
   {
    "duration": 8,
    "start_time": "2022-03-16T19:18:18.156Z"
   },
   {
    "duration": 74,
    "start_time": "2022-03-16T19:18:18.166Z"
   },
   {
    "duration": 8,
    "start_time": "2022-03-16T19:18:18.242Z"
   },
   {
    "duration": 5,
    "start_time": "2022-03-16T19:18:18.252Z"
   },
   {
    "duration": 18,
    "start_time": "2022-03-16T19:18:18.259Z"
   },
   {
    "duration": 1226,
    "start_time": "2022-03-16T19:18:18.338Z"
   },
   {
    "duration": 572,
    "start_time": "2022-03-16T19:18:19.566Z"
   },
   {
    "duration": 515,
    "start_time": "2022-03-16T19:18:20.140Z"
   },
   {
    "duration": 503,
    "start_time": "2022-03-16T19:18:20.657Z"
   },
   {
    "duration": 575,
    "start_time": "2022-03-16T19:18:21.163Z"
   },
   {
    "duration": 209,
    "start_time": "2022-03-16T19:18:21.740Z"
   },
   {
    "duration": 427,
    "start_time": "2022-03-16T19:18:21.951Z"
   },
   {
    "duration": 61,
    "start_time": "2022-03-16T19:18:22.380Z"
   },
   {
    "duration": 507,
    "start_time": "2022-03-16T19:18:22.443Z"
   },
   {
    "duration": 6,
    "start_time": "2022-03-16T19:18:22.952Z"
   },
   {
    "duration": 716,
    "start_time": "2022-03-16T19:18:22.959Z"
   },
   {
    "duration": 70,
    "start_time": "2022-03-16T19:18:23.676Z"
   },
   {
    "duration": 19,
    "start_time": "2022-03-16T19:18:23.748Z"
   },
   {
    "duration": 76,
    "start_time": "2022-03-16T19:18:23.769Z"
   }
  ],
  "kernelspec": {
   "display_name": "Python 3",
   "language": "python",
   "name": "python3"
  },
  "language_info": {
   "codemirror_mode": {
    "name": "ipython",
    "version": 3
   },
   "file_extension": ".py",
   "mimetype": "text/x-python",
   "name": "python",
   "nbconvert_exporter": "python",
   "pygments_lexer": "ipython3",
   "version": "3.8.8"
  },
  "toc": {
   "base_numbering": 1,
   "nav_menu": {},
   "number_sections": true,
   "sideBar": true,
   "skip_h1_title": true,
   "title_cell": "Table of Contents",
   "title_sidebar": "Contents",
   "toc_cell": false,
   "toc_position": {},
   "toc_section_display": true,
   "toc_window_display": false
  }
 },
 "nbformat": 4,
 "nbformat_minor": 2
}
