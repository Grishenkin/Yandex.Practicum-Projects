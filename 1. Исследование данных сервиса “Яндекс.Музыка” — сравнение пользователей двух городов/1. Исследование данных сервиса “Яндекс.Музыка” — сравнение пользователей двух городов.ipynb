{
 "cells": [
  {
   "cell_type": "markdown",
   "metadata": {
    "id": "E0vqbgi9ay0H"
   },
   "source": [
    "# Яндекс.Музыка"
   ]
  },
  {
   "cell_type": "markdown",
   "metadata": {
    "id": "VUC88oWjTJw2"
   },
   "source": [
    "Сравнение Москвы и Петербурга окружено мифами. Например:\n",
    " * Москва — мегаполис, подчинённый жёсткому ритму рабочей недели;\n",
    " * Петербург — культурная столица, со своими вкусами.\n",
    "\n",
    "На данных Яндекс.Музыки вы сравните поведение пользователей двух столиц.\n",
    "\n",
    "**Цель исследования** — проверьте три гипотезы:\n",
    "1. Активность пользователей зависит от дня недели. Причём в Москве и Петербурге это проявляется по-разному.\n",
    "2. В понедельник утром в Москве преобладают одни жанры, а в Петербурге — другие. Так же и вечером пятницы преобладают разные жанры — в зависимости от города. \n",
    "3. Москва и Петербург предпочитают разные жанры музыки. В Москве чаще слушают поп-музыку, в Петербурге — русский рэп.\n",
    "\n",
    "**Ход исследования**\n",
    "\n",
    "Данные о поведении пользователей вы получите из файла `yandex_music_project.csv`. О качестве данных ничего не известно. Поэтому перед проверкой гипотез понадобится обзор данных. \n",
    "\n",
    "Вы проверите данные на ошибки и оцените их влияние на исследование. Затем, на этапе предобработки вы поищете возможность исправить самые критичные ошибки данных.\n",
    " \n",
    "Таким образом, исследование пройдёт в три этапа:\n",
    " 1. Обзор данных.\n",
    " 2. Предобработка данных.\n",
    " 3. Проверка гипотез.\n",
    "\n"
   ]
  },
  {
   "cell_type": "markdown",
   "metadata": {
    "id": "Ml1hmfXC_Zcs"
   },
   "source": [
    "## Обзор данных\n",
    "\n",
    "Составьте первое представление о данных Яндекс.Музыки.\n",
    "\n",
    "\n"
   ]
  },
  {
   "cell_type": "code",
   "execution_count": 44,
   "metadata": {
    "id": "AXN7PHPN_Zcs"
   },
   "outputs": [],
   "source": [
    "# импорт библиотеки pandas\n",
    "import pandas as pd"
   ]
  },
  {
   "cell_type": "code",
   "execution_count": 45,
   "metadata": {
    "id": "fFVu7vqh_Zct"
   },
   "outputs": [],
   "source": [
    "# чтение файла с данными и сохранение в df\n",
    "df = pd.read_csv('/Users/aleksandrgrisenkin/Desktop/df/1. Исследование данных сервиса “Яндекс.Музыка” — сравнение пользователей двух городов/yandex_music_project.csv')"
   ]
  },
  {
   "cell_type": "code",
   "execution_count": 46,
   "metadata": {
    "id": "oWTVX3gW_Zct"
   },
   "outputs": [
    {
     "data": {
      "text/html": [
       "<div>\n",
       "<style scoped>\n",
       "    .dataframe tbody tr th:only-of-type {\n",
       "        vertical-align: middle;\n",
       "    }\n",
       "\n",
       "    .dataframe tbody tr th {\n",
       "        vertical-align: top;\n",
       "    }\n",
       "\n",
       "    .dataframe thead th {\n",
       "        text-align: right;\n",
       "    }\n",
       "</style>\n",
       "<table border=\"1\" class=\"dataframe\">\n",
       "  <thead>\n",
       "    <tr style=\"text-align: right;\">\n",
       "      <th></th>\n",
       "      <th>userID</th>\n",
       "      <th>Track</th>\n",
       "      <th>artist</th>\n",
       "      <th>genre</th>\n",
       "      <th>City</th>\n",
       "      <th>time</th>\n",
       "      <th>Day</th>\n",
       "    </tr>\n",
       "  </thead>\n",
       "  <tbody>\n",
       "    <tr>\n",
       "      <th>0</th>\n",
       "      <td>FFB692EC</td>\n",
       "      <td>Kamigata To Boots</td>\n",
       "      <td>The Mass Missile</td>\n",
       "      <td>rock</td>\n",
       "      <td>Saint-Petersburg</td>\n",
       "      <td>20:28:33</td>\n",
       "      <td>Wednesday</td>\n",
       "    </tr>\n",
       "    <tr>\n",
       "      <th>1</th>\n",
       "      <td>55204538</td>\n",
       "      <td>Delayed Because of Accident</td>\n",
       "      <td>Andreas Rönnberg</td>\n",
       "      <td>rock</td>\n",
       "      <td>Moscow</td>\n",
       "      <td>14:07:09</td>\n",
       "      <td>Friday</td>\n",
       "    </tr>\n",
       "    <tr>\n",
       "      <th>2</th>\n",
       "      <td>20EC38</td>\n",
       "      <td>Funiculì funiculà</td>\n",
       "      <td>Mario Lanza</td>\n",
       "      <td>pop</td>\n",
       "      <td>Saint-Petersburg</td>\n",
       "      <td>20:58:07</td>\n",
       "      <td>Wednesday</td>\n",
       "    </tr>\n",
       "    <tr>\n",
       "      <th>3</th>\n",
       "      <td>A3DD03C9</td>\n",
       "      <td>Dragons in the Sunset</td>\n",
       "      <td>Fire + Ice</td>\n",
       "      <td>folk</td>\n",
       "      <td>Saint-Petersburg</td>\n",
       "      <td>08:37:09</td>\n",
       "      <td>Monday</td>\n",
       "    </tr>\n",
       "    <tr>\n",
       "      <th>4</th>\n",
       "      <td>E2DC1FAE</td>\n",
       "      <td>Soul People</td>\n",
       "      <td>Space Echo</td>\n",
       "      <td>dance</td>\n",
       "      <td>Moscow</td>\n",
       "      <td>08:34:34</td>\n",
       "      <td>Monday</td>\n",
       "    </tr>\n",
       "    <tr>\n",
       "      <th>5</th>\n",
       "      <td>842029A1</td>\n",
       "      <td>Преданная</td>\n",
       "      <td>IMPERVTOR</td>\n",
       "      <td>rusrap</td>\n",
       "      <td>Saint-Petersburg</td>\n",
       "      <td>13:09:41</td>\n",
       "      <td>Friday</td>\n",
       "    </tr>\n",
       "    <tr>\n",
       "      <th>6</th>\n",
       "      <td>4CB90AA5</td>\n",
       "      <td>True</td>\n",
       "      <td>Roman Messer</td>\n",
       "      <td>dance</td>\n",
       "      <td>Moscow</td>\n",
       "      <td>13:00:07</td>\n",
       "      <td>Wednesday</td>\n",
       "    </tr>\n",
       "    <tr>\n",
       "      <th>7</th>\n",
       "      <td>F03E1C1F</td>\n",
       "      <td>Feeling This Way</td>\n",
       "      <td>Polina Griffith</td>\n",
       "      <td>dance</td>\n",
       "      <td>Moscow</td>\n",
       "      <td>20:47:49</td>\n",
       "      <td>Wednesday</td>\n",
       "    </tr>\n",
       "    <tr>\n",
       "      <th>8</th>\n",
       "      <td>8FA1D3BE</td>\n",
       "      <td>И вновь продолжается бой</td>\n",
       "      <td>NaN</td>\n",
       "      <td>ruspop</td>\n",
       "      <td>Moscow</td>\n",
       "      <td>09:17:40</td>\n",
       "      <td>Friday</td>\n",
       "    </tr>\n",
       "    <tr>\n",
       "      <th>9</th>\n",
       "      <td>E772D5C0</td>\n",
       "      <td>Pessimist</td>\n",
       "      <td>NaN</td>\n",
       "      <td>dance</td>\n",
       "      <td>Saint-Petersburg</td>\n",
       "      <td>21:20:49</td>\n",
       "      <td>Wednesday</td>\n",
       "    </tr>\n",
       "  </tbody>\n",
       "</table>\n",
       "</div>"
      ],
      "text/plain": [
       "     userID                        Track            artist   genre  \\\n",
       "0  FFB692EC            Kamigata To Boots  The Mass Missile    rock   \n",
       "1  55204538  Delayed Because of Accident  Andreas Rönnberg    rock   \n",
       "2    20EC38            Funiculì funiculà       Mario Lanza     pop   \n",
       "3  A3DD03C9        Dragons in the Sunset        Fire + Ice    folk   \n",
       "4  E2DC1FAE                  Soul People        Space Echo   dance   \n",
       "5  842029A1                    Преданная         IMPERVTOR  rusrap   \n",
       "6  4CB90AA5                         True      Roman Messer   dance   \n",
       "7  F03E1C1F             Feeling This Way   Polina Griffith   dance   \n",
       "8  8FA1D3BE     И вновь продолжается бой               NaN  ruspop   \n",
       "9  E772D5C0                    Pessimist               NaN   dance   \n",
       "\n",
       "             City        time        Day  \n",
       "0  Saint-Petersburg  20:28:33  Wednesday  \n",
       "1            Moscow  14:07:09     Friday  \n",
       "2  Saint-Petersburg  20:58:07  Wednesday  \n",
       "3  Saint-Petersburg  08:37:09     Monday  \n",
       "4            Moscow  08:34:34     Monday  \n",
       "5  Saint-Petersburg  13:09:41     Friday  \n",
       "6            Moscow  13:00:07  Wednesday  \n",
       "7            Moscow  20:47:49  Wednesday  \n",
       "8            Moscow  09:17:40     Friday  \n",
       "9  Saint-Petersburg  21:20:49  Wednesday  "
      ]
     },
     "execution_count": 46,
     "metadata": {},
     "output_type": "execute_result"
    }
   ],
   "source": [
    "# получение первых 10 строк таблицы df\n",
    "df.head(10)"
   ]
  },
  {
   "cell_type": "code",
   "execution_count": 47,
   "metadata": {
    "id": "DSf2kIb-_Zct"
   },
   "outputs": [
    {
     "name": "stdout",
     "output_type": "stream",
     "text": [
      "<class 'pandas.core.frame.DataFrame'>\n",
      "RangeIndex: 65079 entries, 0 to 65078\n",
      "Data columns (total 7 columns):\n",
      " #   Column    Non-Null Count  Dtype \n",
      "---  ------    --------------  ----- \n",
      " 0     userID  65079 non-null  object\n",
      " 1   Track     63848 non-null  object\n",
      " 2   artist    57876 non-null  object\n",
      " 3   genre     63881 non-null  object\n",
      " 4     City    65079 non-null  object\n",
      " 5   time      65079 non-null  object\n",
      " 6   Day       65079 non-null  object\n",
      "dtypes: object(7)\n",
      "memory usage: 3.5+ MB\n"
     ]
    }
   ],
   "source": [
    "# получение общей информации о данных в таблице df\n",
    "df.info()"
   ]
  },
  {
   "cell_type": "markdown",
   "metadata": {
    "id": "TaQ2Iwbr_Zct"
   },
   "source": [
    "Итак, в таблице семь столбцов. Тип данных во всех столбцах — `object`.\n",
    "\n",
    "Согласно документации к данным:\n",
    "* `userID` — идентификатор пользователя;\n",
    "* `Track` — название трека;  \n",
    "* `artist` — имя исполнителя;\n",
    "* `genre` — название жанра;\n",
    "* `City` — город пользователя;\n",
    "* `time` — время начала прослушивания;\n",
    "* `Day` — день недели.\n",
    "\n",
    "В названиях колонок видны три нарушения стиля:\n",
    "1. Строчные буквы сочетаются с прописными.\n",
    "2. Встречаются пробелы.\n",
    "3. Количество значений в столбцах различается. Значит, в данных есть пропущенные значения.\n",
    "4. не_змеиное_название столбцов, например: `userID` можно записать как `user_id`\n",
    "\n",
    "\n"
   ]
  },
  {
   "cell_type": "markdown",
   "metadata": {
    "id": "MCB6-dXG_Zct"
   },
   "source": [
    "**Выводы**\n",
    "\n",
    "В каждой строке таблицы — данные о прослушанном треке. Часть колонок описывает саму композицию: название, исполнителя и жанр. Остальные данные рассказывают о пользователе: из какого он города, когда он слушал музыку. \n",
    "\n",
    "Предварительно можно утверждать, что, данных достаточно для проверки гипотез. Но встречаются пропуски в данных, а в названиях колонок — расхождения с хорошим стилем.\n",
    "\n",
    "Чтобы двигаться дальше, нужно устранить проблемы в данных."
   ]
  },
  {
   "cell_type": "markdown",
   "metadata": {
    "id": "SjYF6Ub9_Zct"
   },
   "source": [
    "## Предобработка данных\n",
    "Исправьте стиль в заголовках столбцов, исключите пропуски. Затем проверьте данные на дубликаты."
   ]
  },
  {
   "cell_type": "code",
   "execution_count": 48,
   "metadata": {
    "id": "oKOTdF_Q_Zct"
   },
   "outputs": [
    {
     "data": {
      "text/plain": [
       "Index(['  userID', 'Track', 'artist', 'genre', '  City  ', 'time', 'Day'], dtype='object')"
      ]
     },
     "execution_count": 48,
     "metadata": {},
     "output_type": "execute_result"
    }
   ],
   "source": [
    "# перечень названий столбцов таблицы df\n",
    "df.columns"
   ]
  },
  {
   "cell_type": "code",
   "execution_count": 49,
   "metadata": {
    "id": "ISlFqs5y_Zct"
   },
   "outputs": [],
   "source": [
    "# переименование столбцов\n",
    "df = df.rename(columns={'  userID': 'user_id', 'Track': 'track', '  City  ': 'city', 'Day': 'day'})"
   ]
  },
  {
   "cell_type": "code",
   "execution_count": 50,
   "metadata": {
    "id": "d4NOAmTW_Zct"
   },
   "outputs": [
    {
     "data": {
      "text/plain": [
       "Index(['user_id', 'track', 'artist', 'genre', 'city', 'time', 'day'], dtype='object')"
      ]
     },
     "execution_count": 50,
     "metadata": {},
     "output_type": "execute_result"
    }
   ],
   "source": [
    "# проверка результатов - перечень названий столбцов\n",
    "df.columns"
   ]
  },
  {
   "cell_type": "markdown",
   "metadata": {
    "id": "5ISfbcfY_Zct"
   },
   "source": [
    "### Пропуски значений"
   ]
  },
  {
   "cell_type": "code",
   "execution_count": 51,
   "metadata": {
    "id": "RskX29qr_Zct"
   },
   "outputs": [
    {
     "data": {
      "text/plain": [
       "user_id       0\n",
       "track      1231\n",
       "artist     7203\n",
       "genre      1198\n",
       "city          0\n",
       "time          0\n",
       "day           0\n",
       "dtype: int64"
      ]
     },
     "execution_count": 51,
     "metadata": {},
     "output_type": "execute_result"
    }
   ],
   "source": [
    "# подсчёт пропусков\n",
    "df.isna().sum()"
   ]
  },
  {
   "cell_type": "markdown",
   "metadata": {
    "id": "qubhgnlO_Zct"
   },
   "source": [
    "Не все пропущенные значения влияют на исследование. Так в `track` и `artist` пропуски не важны для нашей работы. Достаточно заменить их явными обозначениями.\n",
    "\n",
    "Но пропуски в `genre` могут помешать сравнению музыкальных вкусов в Москве и Санкт-Петербурге. На практике было бы правильно установить причину пропусков и восстановить данные. Такой возможности нет в учебном проекте. Придётся:\n",
    "* заполнить и эти пропуски явными обозначениями,\n",
    "* оценить, насколько они повредят расчётам. "
   ]
  },
  {
   "cell_type": "markdown",
   "metadata": {
    "id": "fSv2laPA_Zct"
   },
   "source": [
    "Заменим пропущенные значения в столбцах `track`, `artist` и `genre` на строку `'unknown'`. Для этого создадим список `columns_to_replace`, переберем его элементы циклом `for` и для каждого столбца выполним замену пропущенных значений:"
   ]
  },
  {
   "cell_type": "code",
   "execution_count": 52,
   "metadata": {
    "id": "KplB5qWs_Zct"
   },
   "outputs": [],
   "source": [
    "# перебор названий столбцов в цикле и замена пропущенных значений на 'unknown'\n",
    "columns_to_replace = ['track', 'artist', 'genre']\n",
    "\n",
    "for value in columns_to_replace:\n",
    "    df[value] = df[value].fillna('unknown')\n"
   ]
  },
  {
   "cell_type": "code",
   "execution_count": 53,
   "metadata": {
    "id": "Tq4nYRX4_Zct"
   },
   "outputs": [
    {
     "data": {
      "text/plain": [
       "user_id    0\n",
       "track      0\n",
       "artist     0\n",
       "genre      0\n",
       "city       0\n",
       "time       0\n",
       "day        0\n",
       "dtype: int64"
      ]
     },
     "execution_count": 53,
     "metadata": {},
     "output_type": "execute_result"
    }
   ],
   "source": [
    "# подсчёт пропусков\n",
    "df.isna().sum()"
   ]
  },
  {
   "cell_type": "markdown",
   "metadata": {
    "id": "BWKRtBJ3_Zct"
   },
   "source": [
    "### Дубликаты"
   ]
  },
  {
   "cell_type": "code",
   "execution_count": 54,
   "metadata": {
    "id": "36eES_S0_Zct"
   },
   "outputs": [
    {
     "data": {
      "text/plain": [
       "3826"
      ]
     },
     "execution_count": 54,
     "metadata": {},
     "output_type": "execute_result"
    }
   ],
   "source": [
    "# подсчёт явных дубликато\n",
    "df.duplicated().sum()"
   ]
  },
  {
   "cell_type": "code",
   "execution_count": 55,
   "metadata": {
    "id": "exFHq6tt_Zct"
   },
   "outputs": [],
   "source": [
    "# удаление явных дубликатов (с удалением старых индексов и формированием новых)\n",
    "df = df.drop_duplicates().reset_index(drop=True)"
   ]
  },
  {
   "cell_type": "code",
   "execution_count": 56,
   "metadata": {
    "id": "-8PuNWQ0_Zct"
   },
   "outputs": [
    {
     "data": {
      "text/plain": [
       "0"
      ]
     },
     "execution_count": 56,
     "metadata": {},
     "output_type": "execute_result"
    }
   ],
   "source": [
    "# проверка на отсутствие дубликатов\n",
    "df.duplicated().sum()"
   ]
  },
  {
   "cell_type": "markdown",
   "metadata": {
    "id": "QlFBsxAr_Zct"
   },
   "source": [
    "Теперь избавимся от неявных дубликатов в колонке `genre`. Например, название одного и того же жанра может быть записано немного по-разному. Такие ошибки тоже повлияют на результат исследования."
   ]
  },
  {
   "cell_type": "code",
   "execution_count": 57,
   "metadata": {
    "id": "JIUcqzZN_Zct"
   },
   "outputs": [
    {
     "data": {
      "text/plain": [
       "array(['acid', 'acoustic', 'action', 'adult', 'africa', 'afrikaans',\n",
       "       'alternative', 'alternativepunk', 'ambient', 'americana',\n",
       "       'animated', 'anime', 'arabesk', 'arabic', 'arena',\n",
       "       'argentinetango', 'art', 'audiobook', 'author', 'avantgarde',\n",
       "       'axé', 'baile', 'balkan', 'beats', 'bigroom', 'black', 'bluegrass',\n",
       "       'blues', 'bollywood', 'bossa', 'brazilian', 'breakbeat', 'breaks',\n",
       "       'broadway', 'cantautori', 'cantopop', 'canzone', 'caribbean',\n",
       "       'caucasian', 'celtic', 'chamber', 'chanson', 'children', 'chill',\n",
       "       'chinese', 'choral', 'christian', 'christmas', 'classical',\n",
       "       'classicmetal', 'club', 'colombian', 'comedy', 'conjazz',\n",
       "       'contemporary', 'country', 'cuban', 'dance', 'dancehall',\n",
       "       'dancepop', 'dark', 'death', 'deep', 'deutschrock', 'deutschspr',\n",
       "       'dirty', 'disco', 'dnb', 'documentary', 'downbeat', 'downtempo',\n",
       "       'drum', 'dub', 'dubstep', 'eastern', 'easy', 'electronic',\n",
       "       'electropop', 'emo', 'entehno', 'epicmetal', 'estrada', 'ethnic',\n",
       "       'eurofolk', 'european', 'experimental', 'extrememetal', 'fado',\n",
       "       'fairytail', 'film', 'fitness', 'flamenco', 'folk', 'folklore',\n",
       "       'folkmetal', 'folkrock', 'folktronica', 'forró', 'frankreich',\n",
       "       'französisch', 'french', 'funk', 'future', 'gangsta', 'garage',\n",
       "       'german', 'ghazal', 'gitarre', 'glitch', 'gospel', 'gothic',\n",
       "       'grime', 'grunge', 'gypsy', 'handsup', \"hard'n'heavy\", 'hardcore',\n",
       "       'hardstyle', 'hardtechno', 'hip', 'hip-hop', 'hiphop',\n",
       "       'historisch', 'holiday', 'hop', 'horror', 'house', 'hymn', 'idm',\n",
       "       'independent', 'indian', 'indie', 'indipop', 'industrial',\n",
       "       'inspirational', 'instrumental', 'international', 'irish', 'jam',\n",
       "       'japanese', 'jazz', 'jewish', 'jpop', 'jungle', 'k-pop',\n",
       "       'karadeniz', 'karaoke', 'kayokyoku', 'korean', 'laiko', 'latin',\n",
       "       'latino', 'leftfield', 'local', 'lounge', 'loungeelectronic',\n",
       "       'lovers', 'malaysian', 'mandopop', 'marschmusik', 'meditative',\n",
       "       'mediterranean', 'melodic', 'metal', 'metalcore', 'mexican',\n",
       "       'middle', 'minimal', 'miscellaneous', 'modern', 'mood', 'mpb',\n",
       "       'muslim', 'native', 'neoklassik', 'neue', 'new', 'newage',\n",
       "       'newwave', 'nu', 'nujazz', 'numetal', 'oceania', 'old', 'opera',\n",
       "       'orchestral', 'other', 'piano', 'podcasts', 'pop', 'popdance',\n",
       "       'popelectronic', 'popeurodance', 'poprussian', 'post',\n",
       "       'posthardcore', 'postrock', 'power', 'progmetal', 'progressive',\n",
       "       'psychedelic', 'punjabi', 'punk', 'quebecois', 'ragga', 'ram',\n",
       "       'rancheras', 'rap', 'rave', 'reggae', 'reggaeton', 'regional',\n",
       "       'relax', 'religious', 'retro', 'rhythm', 'rnb', 'rnr', 'rock',\n",
       "       'rockabilly', 'rockalternative', 'rockindie', 'rockother',\n",
       "       'romance', 'roots', 'ruspop', 'rusrap', 'rusrock', 'russian',\n",
       "       'salsa', 'samba', 'scenic', 'schlager', 'self', 'sertanejo',\n",
       "       'shanson', 'shoegazing', 'showtunes', 'singer', 'ska', 'skarock',\n",
       "       'slow', 'smooth', 'soft', 'soul', 'soulful', 'sound', 'soundtrack',\n",
       "       'southern', 'specialty', 'speech', 'spiritual', 'sport',\n",
       "       'stonerrock', 'surf', 'swing', 'synthpop', 'synthrock',\n",
       "       'sängerportrait', 'tango', 'tanzorchester', 'taraftar', 'tatar',\n",
       "       'tech', 'techno', 'teen', 'thrash', 'top', 'traditional',\n",
       "       'tradjazz', 'trance', 'tribal', 'trip', 'triphop', 'tropical',\n",
       "       'türk', 'türkçe', 'ukrrock', 'unknown', 'urban', 'uzbek',\n",
       "       'variété', 'vi', 'videogame', 'vocal', 'western', 'world',\n",
       "       'worldbeat', 'ïîï', 'электроника'], dtype=object)"
      ]
     },
     "execution_count": 57,
     "metadata": {},
     "output_type": "execute_result"
    }
   ],
   "source": [
    "# Просмотр уникальных названий жанров\n",
    "sorted_df = df['genre'].sort_values()\n",
    "sorted_df.unique()"
   ]
  },
  {
   "cell_type": "code",
   "execution_count": 58,
   "metadata": {
    "id": "ErNDkmns_Zct"
   },
   "outputs": [],
   "source": [
    "# Функция для замены неявных дубликатов\n",
    "def replace_wrong_genres(wrong_genres,correct_genre):\n",
    "    for wrong in wrong_genres:\n",
    "        df['genre'] = df['genre'].replace(wrong, correct_genre)\n",
    "    \n",
    "            \n"
   ]
  },
  {
   "cell_type": "code",
   "execution_count": 59,
   "metadata": {
    "id": "YN5i2hpmSo09"
   },
   "outputs": [],
   "source": [
    "# Устранение неявных дубликатов\n",
    "wrong_value = ['hip', 'hop','hip-hop']\n",
    "correct_value = 'hiphop'\n",
    "replace_wrong_genres(wrong_value, correct_value)"
   ]
  },
  {
   "cell_type": "markdown",
   "metadata": {
    "id": "zQKF16_RG15m"
   },
   "source": [
    "Проверим, что заменили неправильные названия:\n",
    "\n",
    "*   hip\n",
    "*   hop\n",
    "*   hip-hop\n",
    "\n"
   ]
  },
  {
   "cell_type": "code",
   "execution_count": 60,
   "metadata": {
    "id": "wvixALnFG15m"
   },
   "outputs": [
    {
     "data": {
      "text/plain": [
       "array(['acid', 'acoustic', 'action', 'adult', 'africa', 'afrikaans',\n",
       "       'alternative', 'alternativepunk', 'ambient', 'americana',\n",
       "       'animated', 'anime', 'arabesk', 'arabic', 'arena',\n",
       "       'argentinetango', 'art', 'audiobook', 'author', 'avantgarde',\n",
       "       'axé', 'baile', 'balkan', 'beats', 'bigroom', 'black', 'bluegrass',\n",
       "       'blues', 'bollywood', 'bossa', 'brazilian', 'breakbeat', 'breaks',\n",
       "       'broadway', 'cantautori', 'cantopop', 'canzone', 'caribbean',\n",
       "       'caucasian', 'celtic', 'chamber', 'chanson', 'children', 'chill',\n",
       "       'chinese', 'choral', 'christian', 'christmas', 'classical',\n",
       "       'classicmetal', 'club', 'colombian', 'comedy', 'conjazz',\n",
       "       'contemporary', 'country', 'cuban', 'dance', 'dancehall',\n",
       "       'dancepop', 'dark', 'death', 'deep', 'deutschrock', 'deutschspr',\n",
       "       'dirty', 'disco', 'dnb', 'documentary', 'downbeat', 'downtempo',\n",
       "       'drum', 'dub', 'dubstep', 'eastern', 'easy', 'electronic',\n",
       "       'electropop', 'emo', 'entehno', 'epicmetal', 'estrada', 'ethnic',\n",
       "       'eurofolk', 'european', 'experimental', 'extrememetal', 'fado',\n",
       "       'fairytail', 'film', 'fitness', 'flamenco', 'folk', 'folklore',\n",
       "       'folkmetal', 'folkrock', 'folktronica', 'forró', 'frankreich',\n",
       "       'französisch', 'french', 'funk', 'future', 'gangsta', 'garage',\n",
       "       'german', 'ghazal', 'gitarre', 'glitch', 'gospel', 'gothic',\n",
       "       'grime', 'grunge', 'gypsy', 'handsup', \"hard'n'heavy\", 'hardcore',\n",
       "       'hardstyle', 'hardtechno', 'hiphop', 'historisch', 'holiday',\n",
       "       'horror', 'house', 'hymn', 'idm', 'independent', 'indian', 'indie',\n",
       "       'indipop', 'industrial', 'inspirational', 'instrumental',\n",
       "       'international', 'irish', 'jam', 'japanese', 'jazz', 'jewish',\n",
       "       'jpop', 'jungle', 'k-pop', 'karadeniz', 'karaoke', 'kayokyoku',\n",
       "       'korean', 'laiko', 'latin', 'latino', 'leftfield', 'local',\n",
       "       'lounge', 'loungeelectronic', 'lovers', 'malaysian', 'mandopop',\n",
       "       'marschmusik', 'meditative', 'mediterranean', 'melodic', 'metal',\n",
       "       'metalcore', 'mexican', 'middle', 'minimal', 'miscellaneous',\n",
       "       'modern', 'mood', 'mpb', 'muslim', 'native', 'neoklassik', 'neue',\n",
       "       'new', 'newage', 'newwave', 'nu', 'nujazz', 'numetal', 'oceania',\n",
       "       'old', 'opera', 'orchestral', 'other', 'piano', 'podcasts', 'pop',\n",
       "       'popdance', 'popelectronic', 'popeurodance', 'poprussian', 'post',\n",
       "       'posthardcore', 'postrock', 'power', 'progmetal', 'progressive',\n",
       "       'psychedelic', 'punjabi', 'punk', 'quebecois', 'ragga', 'ram',\n",
       "       'rancheras', 'rap', 'rave', 'reggae', 'reggaeton', 'regional',\n",
       "       'relax', 'religious', 'retro', 'rhythm', 'rnb', 'rnr', 'rock',\n",
       "       'rockabilly', 'rockalternative', 'rockindie', 'rockother',\n",
       "       'romance', 'roots', 'ruspop', 'rusrap', 'rusrock', 'russian',\n",
       "       'salsa', 'samba', 'scenic', 'schlager', 'self', 'sertanejo',\n",
       "       'shanson', 'shoegazing', 'showtunes', 'singer', 'ska', 'skarock',\n",
       "       'slow', 'smooth', 'soft', 'soul', 'soulful', 'sound', 'soundtrack',\n",
       "       'southern', 'specialty', 'speech', 'spiritual', 'sport',\n",
       "       'stonerrock', 'surf', 'swing', 'synthpop', 'synthrock',\n",
       "       'sängerportrait', 'tango', 'tanzorchester', 'taraftar', 'tatar',\n",
       "       'tech', 'techno', 'teen', 'thrash', 'top', 'traditional',\n",
       "       'tradjazz', 'trance', 'tribal', 'trip', 'triphop', 'tropical',\n",
       "       'türk', 'türkçe', 'ukrrock', 'unknown', 'urban', 'uzbek',\n",
       "       'variété', 'vi', 'videogame', 'vocal', 'western', 'world',\n",
       "       'worldbeat', 'ïîï', 'электроника'], dtype=object)"
      ]
     },
     "execution_count": 60,
     "metadata": {},
     "output_type": "execute_result"
    }
   ],
   "source": [
    "# Проверка на неявные дубликаты\n",
    "sorted_df = df['genre'].sort_values()\n",
    "sorted_df.unique()"
   ]
  },
  {
   "cell_type": "markdown",
   "metadata": {
    "id": "jz6a9-7HQUDd"
   },
   "source": [
    "**Выводы**\n",
    "\n",
    "Предобработка обнаружила три проблемы в данных:\n",
    "\n",
    "- нарушения в стиле заголовков,\n",
    "- пропущенные значения,\n",
    "- дубликаты — явные и неявные.\n",
    "\n",
    "Исправил заголовки, чтобы упростить работу с таблицей. Без дубликатов исследование станет более точным.\n",
    "\n",
    "Пропущенные значения заменил на `'unknown'`. Ещё предстоит увидеть, не повредят ли исследованию пропуски в колонке `genre`.\n",
    "\n",
    "Теперь можно перейти к проверке гипотез. "
   ]
  },
  {
   "cell_type": "markdown",
   "metadata": {
    "id": "WttZHXH0SqKk"
   },
   "source": [
    "## Проверка гипотез"
   ]
  },
  {
   "cell_type": "markdown",
   "metadata": {
    "id": "Im936VVi_Zcu"
   },
   "source": [
    "### Сравнение поведения пользователей двух столиц"
   ]
  },
  {
   "cell_type": "markdown",
   "metadata": {
    "id": "nwt_MuaL_Zcu"
   },
   "source": [
    "Первая гипотеза утверждает, что пользователи по-разному слушают музыку в Москве и Санкт-Петербурге. Проверьте это предположение по данным о трёх днях недели — понедельнике, среде и пятнице.\n"
   ]
  },
  {
   "cell_type": "code",
   "execution_count": 61,
   "metadata": {
    "id": "0_Qs96oh_Zcu"
   },
   "outputs": [
    {
     "data": {
      "text/plain": [
       "city\n",
       "Moscow              42741\n",
       "Saint-Petersburg    18512\n",
       "Name: city, dtype: int64"
      ]
     },
     "execution_count": 61,
     "metadata": {},
     "output_type": "execute_result"
    }
   ],
   "source": [
    "# Подсчёт прослушиваний в каждом городе\n",
    "df.groupby('city')['city'].count()"
   ]
  },
  {
   "cell_type": "markdown",
   "metadata": {
    "id": "dzli3w8o_Zcu"
   },
   "source": [
    "В Москве прослушиваний больше, чем в Петербурге. Из этого не следует, что московские пользователи чаще слушают музыку. Просто самих пользователей в Москве больше.\n"
   ]
  },
  {
   "cell_type": "code",
   "execution_count": 62,
   "metadata": {
    "id": "uZMKjiJz_Zcu"
   },
   "outputs": [
    {
     "data": {
      "text/plain": [
       "day\n",
       "Friday       21840\n",
       "Monday       21354\n",
       "Wednesday    18059\n",
       "Name: day, dtype: int64"
      ]
     },
     "execution_count": 62,
     "metadata": {},
     "output_type": "execute_result"
    }
   ],
   "source": [
    "# Подсчёт прослушиваний в каждый из трёх дней\n",
    "df.groupby('day')['day'].count()"
   ]
  },
  {
   "cell_type": "markdown",
   "metadata": {
    "id": "cC2tNrlL_Zcu"
   },
   "source": [
    "В среднем пользователи из двух городов менее активны по средам. Но картина может измениться, если рассмотреть каждый город в отдельности."
   ]
  },
  {
   "cell_type": "code",
   "execution_count": 63,
   "metadata": {
    "id": "Nz3GdQB1_Zcu"
   },
   "outputs": [],
   "source": [
    "# <создание функции number_tracks()>\n",
    "def number_tracks(day,city):\n",
    "    track_list = df[(df['day'] == day) & (df['city'] == city)]\n",
    "    track_list_count = track_list['user_id'].count()\n",
    "    return track_list_count\n",
    "    \n",
    "# Объявляется функция с двумя параметрами: day, city.\n",
    "# В переменной track_list сохраняются те строки таблицы df, для которых \n",
    "# значение в столбце 'day' равно параметру day и одновременно значение\n",
    "# в столбце 'city' равно параметру city (используйте последовательную фильтрацию\n",
    "# с помощью логической индексации).\n",
    "# В переменной track_list_count сохраняется число значений столбца 'user_id',\n",
    "# рассчитанное методом count() для таблицы track_list.\n",
    "# Функция возвращает число - значение track_list_count.\n",
    "\n",
    "# Функция для подсчёта прослушиваний для конкретного города и дня.\n",
    "# С помощью последовательной фильтрации с логической индексацией она \n",
    "# сначала получит из исходной таблицы строки с нужным днём,\n",
    "# затем из результата отфильтрует строки с нужным городом,\n",
    "# методом count() посчитает количество значений в колонке user_id. \n",
    "# Это количество функция вернёт в качестве результата"
   ]
  },
  {
   "cell_type": "code",
   "execution_count": 64,
   "metadata": {
    "id": "rJcRATNQ_Zcu"
   },
   "outputs": [
    {
     "data": {
      "text/plain": [
       "15740"
      ]
     },
     "execution_count": 64,
     "metadata": {},
     "output_type": "execute_result"
    }
   ],
   "source": [
    "# количество прослушиваний в Москве по понедельникам\n",
    "number_tracks('Monday', 'Moscow')"
   ]
  },
  {
   "cell_type": "code",
   "execution_count": 65,
   "metadata": {
    "id": "hq_ncZ5T_Zcu"
   },
   "outputs": [
    {
     "data": {
      "text/plain": [
       "5614"
      ]
     },
     "execution_count": 65,
     "metadata": {},
     "output_type": "execute_result"
    }
   ],
   "source": [
    "# количество прослушиваний в Санкт-Петербурге по понедельникам\n",
    "number_tracks('Monday', 'Saint-Petersburg')"
   ]
  },
  {
   "cell_type": "code",
   "execution_count": 66,
   "metadata": {
    "id": "_NTy2VPU_Zcu"
   },
   "outputs": [
    {
     "data": {
      "text/plain": [
       "11056"
      ]
     },
     "execution_count": 66,
     "metadata": {},
     "output_type": "execute_result"
    }
   ],
   "source": [
    "# количество прослушиваний в Москве по средам\n",
    "number_tracks('Wednesday', 'Moscow')"
   ]
  },
  {
   "cell_type": "code",
   "execution_count": 67,
   "metadata": {
    "id": "j2y3TAwo_Zcu"
   },
   "outputs": [
    {
     "data": {
      "text/plain": [
       "7003"
      ]
     },
     "execution_count": 67,
     "metadata": {},
     "output_type": "execute_result"
    }
   ],
   "source": [
    "# количество прослушиваний в Санкт-Петербурге по средам\n",
    "number_tracks('Wednesday', 'Saint-Petersburg')"
   ]
  },
  {
   "cell_type": "code",
   "execution_count": 68,
   "metadata": {
    "id": "vYDw5u_K_Zcu"
   },
   "outputs": [
    {
     "data": {
      "text/plain": [
       "15945"
      ]
     },
     "execution_count": 68,
     "metadata": {},
     "output_type": "execute_result"
    }
   ],
   "source": [
    "# количество прослушиваний в Москве по пятницам\n",
    "number_tracks('Friday', 'Moscow')"
   ]
  },
  {
   "cell_type": "code",
   "execution_count": 69,
   "metadata": {
    "id": "8_yzFtW3_Zcu"
   },
   "outputs": [
    {
     "data": {
      "text/plain": [
       "5895"
      ]
     },
     "execution_count": 69,
     "metadata": {},
     "output_type": "execute_result"
    }
   ],
   "source": [
    "# количество прослушиваний в Санкт-Петербурге по пятницам\n",
    "number_tracks('Friday', 'Saint-Petersburg')"
   ]
  },
  {
   "cell_type": "markdown",
   "metadata": {
    "id": "7QXffbO-_Zcu"
   },
   "source": [
    "Создайте c помощью конструктора `pd.DataFrame` таблицу, где\n",
    "* названия колонок — `['city', 'monday', 'wednesday', 'friday']`;\n",
    "* данные — результаты, которые вы получили с помощью `number_tracks`."
   ]
  },
  {
   "cell_type": "code",
   "execution_count": 70,
   "metadata": {
    "id": "APAcLpOr_Zcu"
   },
   "outputs": [
    {
     "name": "stdout",
     "output_type": "stream",
     "text": [
      "               city  monday  wednesday  friday\n",
      "0            Moscow   15740      11056   15945\n",
      "1  Saint-Petersburg    5614       7003    5895\n"
     ]
    }
   ],
   "source": [
    "# Таблица с результатами\n",
    "track_values = [['Moscow', 15740, 11056, 15945],\n",
    "                ['Saint-Petersburg', 5614, 7003, 5895]]\n",
    "               \n",
    "                \n",
    "columns_values = ['city', 'monday', 'wednesday', 'friday']\n",
    "result = pd.DataFrame(data = track_values, columns = columns_values)\n",
    "print(result)"
   ]
  },
  {
   "cell_type": "markdown",
   "metadata": {
    "id": "-EgPIHYu_Zcu"
   },
   "source": [
    "**Выводы**\n",
    "\n",
    "Данные показывают разницу поведения пользователей:\n",
    "\n",
    "- В Москве пик прослушиваний приходится на понедельник и пятницу, а в среду заметен спад.\n",
    "- В Петербурге, наоборот, больше слушают музыку по средам. Активность в понедельник и пятницу здесь почти в равной мере уступает среде.\n",
    "\n",
    "Значит, данные говорят в пользу первой гипотезы."
   ]
  },
  {
   "cell_type": "markdown",
   "metadata": {
    "id": "atZAxtq4_Zcu"
   },
   "source": [
    "### Музыка в начале и в конце недели"
   ]
  },
  {
   "cell_type": "markdown",
   "metadata": {
    "id": "eXrQqXFH_Zcu"
   },
   "source": [
    "Согласно второй гипотезе, утром в понедельник в Москве преобладают одни жанры, а в Петербурге — другие. Так же и вечером пятницы преобладают разные жанры — в зависимости от города."
   ]
  },
  {
   "cell_type": "code",
   "execution_count": 71,
   "metadata": {
    "id": "qeaFfM_P_Zcu"
   },
   "outputs": [],
   "source": [
    "# получение таблицы moscow_general из тех строк таблицы df, \n",
    "# для которых значение в столбце 'city' равно 'Moscow'\n",
    "moscow_general = df[df['city'] == 'Moscow']"
   ]
  },
  {
   "cell_type": "code",
   "execution_count": 72,
   "metadata": {
    "id": "ORaVRKto_Zcu"
   },
   "outputs": [],
   "source": [
    "# получение таблицы spb_general из тех строк таблицы df,\n",
    "# для которых значение в столбце 'city' равно 'Saint-Petersburg'\n",
    "spb_general = df[df['city'] == 'Saint-Petersburg']"
   ]
  },
  {
   "cell_type": "markdown",
   "metadata": {
    "id": "MEJV-CX2_Zcu"
   },
   "source": [
    "Создайте функцию `genre_weekday()` с четырьмя параметрами:\n",
    "* таблица (датафрейм) с данными,\n",
    "* день недели,\n",
    "* начальная временная метка в формате 'hh:mm', \n",
    "* последняя временная метка в формате 'hh:mm'.\n",
    "\n",
    "Функция должна вернуть информацию о топ-10 жанров тех треков, которые прослушивали в указанный день, в промежутке между двумя отметками времени."
   ]
  },
  {
   "cell_type": "code",
   "execution_count": 73,
   "metadata": {
    "id": "laJT9BYl_Zcu"
   },
   "outputs": [],
   "source": [
    "def genre_weekday(table, day, time1, time2):\n",
    "    genre_df = table[table['day'] == day]\n",
    "    genre_df = genre_df[genre_df['time'] > time1]\n",
    "    genre_df = genre_df[genre_df['time'] < time2]\n",
    "    genre_df_count = genre_df.groupby('genre')['genre'].count()\n",
    "    genre_df_sorted = genre_df_count.sort_values(ascending = False)\n",
    "    return genre_df_sorted.head(10)\n",
    "# Объявление функции genre_weekday() с параметрами table, day, time1, time2,\n",
    "# которая возвращает информацию о самых популярных жанрах в указанный день в\n",
    "# заданное время:\n",
    "# 1) в переменную genre_df сохраняются те строки переданного датафрейма table, для\n",
    "#    которых одновременно:\n",
    "#    - значение в столбце day равно значению аргумента day\n",
    "#    - значение в столбце time больше значения аргумента time1\n",
    "#    - значение в столбце time меньше значения аргумента time2\n",
    "#    Используйте последовательную фильтрацию с помощью логической индексации.\n",
    "# 2) сгруппировать датафрейм genre_df по столбцу genre, взять один из его\n",
    "#    столбцов и посчитать методом count() количество записей для каждого из\n",
    "#    присутствующих жанров, получившийся Series записать в переменную\n",
    "#    genre_df_count\n",
    "# 3) отсортировать genre_df_count по убыванию встречаемости и сохранить\n",
    "#    в переменную genre_df_sorted\n",
    "# 4) вернуть Series из 10 первых значений genre_df_sorted, это будут топ-10\n",
    "#    популярных жанров (в указанный день, в заданное время)"
   ]
  },
  {
   "cell_type": "markdown",
   "metadata": {
    "id": "la2s2_PF_Zcu"
   },
   "source": [
    "Cравним результаты функции `genre_weekday()` для Москвы и Санкт-Петербурга в понедельник утром (с 7:00 до 11:00) и в пятницу вечером (с 17:00 до 23:00):"
   ]
  },
  {
   "cell_type": "code",
   "execution_count": 74,
   "metadata": {
    "id": "yz7itPUQ_Zcu"
   },
   "outputs": [
    {
     "data": {
      "text/plain": [
       "genre\n",
       "pop            781\n",
       "dance          549\n",
       "electronic     480\n",
       "rock           474\n",
       "hiphop         286\n",
       "ruspop         186\n",
       "world          181\n",
       "rusrap         175\n",
       "alternative    164\n",
       "unknown        161\n",
       "Name: genre, dtype: int64"
      ]
     },
     "execution_count": 74,
     "metadata": {},
     "output_type": "execute_result"
    }
   ],
   "source": [
    "# вызов функции для утра понедельника в Москве (вместо df — таблица moscow_general)\n",
    "# объекты, хранящие время, являются строками и сравниваются как строки\n",
    "# пример вызова: genre_weekday(moscow_general, 'Monday', '07:00', '11:00')\n",
    "genre_weekday(moscow_general, 'Monday', '07:00', '11:00' )"
   ]
  },
  {
   "cell_type": "code",
   "execution_count": 75,
   "metadata": {
    "id": "kwUcHPdy_Zcu"
   },
   "outputs": [
    {
     "data": {
      "text/plain": [
       "genre\n",
       "pop            218\n",
       "dance          182\n",
       "rock           162\n",
       "electronic     147\n",
       "hiphop          80\n",
       "ruspop          64\n",
       "alternative     58\n",
       "rusrap          55\n",
       "jazz            44\n",
       "classical       40\n",
       "Name: genre, dtype: int64"
      ]
     },
     "execution_count": 75,
     "metadata": {},
     "output_type": "execute_result"
    }
   ],
   "source": [
    "# вызов функции для утра понедельника в Петербурге (вместо df — таблица spb_general)\n",
    "genre_weekday(spb_general, 'Monday', '07:00', '11:00' )"
   ]
  },
  {
   "cell_type": "code",
   "execution_count": 76,
   "metadata": {
    "id": "EzXVRE1o_Zcu"
   },
   "outputs": [
    {
     "data": {
      "text/plain": [
       "genre\n",
       "pop            713\n",
       "rock           517\n",
       "dance          495\n",
       "electronic     482\n",
       "hiphop         273\n",
       "world          208\n",
       "ruspop         170\n",
       "alternative    163\n",
       "classical      163\n",
       "rusrap         142\n",
       "Name: genre, dtype: int64"
      ]
     },
     "execution_count": 76,
     "metadata": {},
     "output_type": "execute_result"
    }
   ],
   "source": [
    "# вызов функции для вечера пятницы в Москве\n",
    "genre_weekday(moscow_general, 'Friday', '17:00', '23:00' )"
   ]
  },
  {
   "cell_type": "code",
   "execution_count": 77,
   "metadata": {
    "id": "JZaEKu5v_Zcu"
   },
   "outputs": [
    {
     "data": {
      "text/plain": [
       "genre\n",
       "pop            256\n",
       "electronic     216\n",
       "rock           216\n",
       "dance          210\n",
       "hiphop          97\n",
       "alternative     63\n",
       "jazz            61\n",
       "classical       60\n",
       "rusrap          59\n",
       "world           54\n",
       "Name: genre, dtype: int64"
      ]
     },
     "execution_count": 77,
     "metadata": {},
     "output_type": "execute_result"
    }
   ],
   "source": [
    "# вызов функции для вечера пятницы в Петербурге\n",
    "genre_weekday(spb_general, 'Friday', '17:00', '23:00' )"
   ]
  },
  {
   "cell_type": "markdown",
   "metadata": {
    "id": "wrCe4MNX_Zcu"
   },
   "source": [
    "**Выводы**\n",
    "\n",
    "Если сравнить топ-10 жанров в понедельник утром, можно сделать такие выводы:\n",
    "\n",
    "1. В Москве и Петербурге слушают похожую музыку. Единственное отличие — в московский рейтинг вошёл жанр “world”, а в петербургский — джаз и классика.\n",
    "\n",
    "2. В Москве пропущенных значений оказалось так много, что значение `'unknown'` заняло десятое место среди самых популярных жанров. Значит, пропущенные значения занимают существенную долю в данных и угрожают достоверности исследования.\n",
    "\n",
    "Вечер пятницы не меняет эту картину. Некоторые жанры поднимаются немного выше, другие спускаются, но в целом топ-10 остаётся тем же самым.\n",
    "\n",
    "Таким образом, вторая гипотеза подтвердилась лишь частично:\n",
    "* Пользователи слушают похожую музыку в начале недели и в конце.\n",
    "* Разница между Москвой и Петербургом не слишком выражена. В Москве чаще слушают русскую популярную музыку, в Петербурге — джаз.\n",
    "\n",
    "Однако пропуски в данных ставят под сомнение этот результат. В Москве их так много, что рейтинг топ-10 мог бы выглядеть иначе, если бы не утерянные  данные о жанрах."
   ]
  },
  {
   "cell_type": "markdown",
   "metadata": {
    "id": "JolODAqr_Zcu"
   },
   "source": [
    "### Жанровые предпочтения в Москве и Петербурге\n",
    "\n",
    "Гипотеза: Петербург — столица рэпа, музыку этого жанра там слушают чаще, чем в Москве.  А Москва — город контрастов, в котором, тем не менее, преобладает поп-музыка."
   ]
  },
  {
   "cell_type": "markdown",
   "metadata": {
    "id": "DlegSvaT_Zcu"
   },
   "source": [
    "Сгруппируйте таблицу `moscow_general` по жанру и посчитайте прослушивания треков каждого жанра методом `count()`. Затем отсортируйте результат в порядке убывания и сохраните его в таблице `moscow_genres`."
   ]
  },
  {
   "cell_type": "code",
   "execution_count": 82,
   "metadata": {
    "id": "r19lIPke_Zcu"
   },
   "outputs": [],
   "source": [
    "\n",
    "moscow_genres = moscow_general.groupby('genre')['genre'].count().sort_values(ascending = False)\n"
   ]
  },
  {
   "cell_type": "code",
   "execution_count": 79,
   "metadata": {
    "id": "WhCSooF8_Zcv"
   },
   "outputs": [
    {
     "name": "stdout",
     "output_type": "stream",
     "text": [
      "genre\n",
      "pop            5892\n",
      "dance          4435\n",
      "rock           3965\n",
      "electronic     3786\n",
      "hiphop         2096\n",
      "classical      1616\n",
      "world          1432\n",
      "alternative    1379\n",
      "ruspop         1372\n",
      "rusrap         1161\n",
      "Name: genre, dtype: int64\n"
     ]
    }
   ],
   "source": [
    "# просмотр первых 10 строк moscow_genres\n",
    "print(moscow_genres.head(10))"
   ]
  },
  {
   "cell_type": "code",
   "execution_count": 83,
   "metadata": {
    "id": "gluLIpE7_Zcv"
   },
   "outputs": [],
   "source": [
    "\n",
    "spb_genres = spb_general.groupby('genre')['genre'].count().sort_values(ascending = False)\n"
   ]
  },
  {
   "cell_type": "code",
   "execution_count": 81,
   "metadata": {
    "id": "uaGJHjVU_Zcv"
   },
   "outputs": [
    {
     "name": "stdout",
     "output_type": "stream",
     "text": [
      "genre\n",
      "pop            2431\n",
      "dance          1932\n",
      "rock           1879\n",
      "electronic     1736\n",
      "hiphop          960\n",
      "alternative     649\n",
      "classical       646\n",
      "rusrap          564\n",
      "ruspop          538\n",
      "world           515\n",
      "Name: genre, dtype: int64\n"
     ]
    }
   ],
   "source": [
    "# просмотр первых 10 строк spb_genres\n",
    "print(spb_genres.head(10))"
   ]
  },
  {
   "cell_type": "markdown",
   "metadata": {
    "id": "RY51YJYu_Zcv"
   },
   "source": [
    "**Выводы**"
   ]
  },
  {
   "cell_type": "markdown",
   "metadata": {
    "id": "nVhnJEm__Zcv"
   },
   "source": [
    "Гипотеза частично подтвердилась:\n",
    "* Поп-музыка — самый популярный жанр в Москве, как и предполагала гипотеза. Более того, в топ-10 жанров встречается близкий жанр — русская популярная музыка.\n",
    "* Вопреки ожиданиям, рэп одинаково популярен в Москве и Петербурге. \n"
   ]
  },
  {
   "cell_type": "markdown",
   "metadata": {
    "id": "ykKQ0N65_Zcv"
   },
   "source": [
    "## Итоги исследования"
   ]
  },
  {
   "cell_type": "markdown",
   "metadata": {
    "id": "tjUwbHb3_Zcv"
   },
   "source": [
    "Проверил три гипотезы и установил:\n",
    "\n",
    "1. День недели по-разному влияет на активность пользователей в Москве и Петербурге. \n",
    "\n",
    "Первая гипотеза полностью подтвердилась.\n",
    "\n",
    "2. Музыкальные предпочтения не сильно меняются в течение недели — будь то Москва или Петербург. Небольшие различия заметны в начале недели, по понедельникам:\n",
    "* в Москве слушают музыку жанра “world”,\n",
    "* в Петербурге — джаз и классику.\n",
    "\n",
    "Таким образом, вторая гипотеза подтвердилась лишь отчасти. Этот результат мог оказаться иным, если бы не пропуски в данных.\n",
    "\n",
    "3. Во вкусах пользователей Москвы и Петербурга больше общего чем различий. Вопреки ожиданиям, предпочтения жанров в Петербурге напоминают московские.\n",
    "\n",
    "Третья гипотеза не подтвердилась. Если различия в предпочтениях и существуют, на основной массе пользователей они незаметны.\n",
    "\n"
   ]
  },
  {
   "cell_type": "code",
   "execution_count": null,
   "metadata": {},
   "outputs": [],
   "source": []
  }
 ],
 "metadata": {
  "ExecuteTimeLog": [
   {
    "duration": 781,
    "start_time": "2021-11-22T19:54:32.703Z"
   },
   {
    "duration": 200,
    "start_time": "2021-11-22T19:55:26.981Z"
   },
   {
    "duration": 10,
    "start_time": "2021-11-22T19:55:47.347Z"
   },
   {
    "duration": 9,
    "start_time": "2021-11-22T19:56:36.700Z"
   },
   {
    "duration": 199,
    "start_time": "2021-11-22T19:57:16.910Z"
   },
   {
    "duration": 10,
    "start_time": "2021-11-22T19:57:21.749Z"
   },
   {
    "duration": 21,
    "start_time": "2021-11-22T19:57:52.603Z"
   },
   {
    "duration": 33,
    "start_time": "2021-11-22T20:00:12.841Z"
   },
   {
    "duration": 417,
    "start_time": "2021-11-22T20:09:26.309Z"
   },
   {
    "duration": 5,
    "start_time": "2021-11-22T20:09:35.469Z"
   },
   {
    "duration": 25,
    "start_time": "2021-11-22T20:20:44.182Z"
   },
   {
    "duration": 301,
    "start_time": "2021-11-22T20:20:58.379Z"
   },
   {
    "duration": 116,
    "start_time": "2021-11-22T20:21:02.254Z"
   },
   {
    "duration": 5,
    "start_time": "2021-11-22T20:21:06.157Z"
   },
   {
    "duration": 35,
    "start_time": "2021-11-22T20:23:09.523Z"
   },
   {
    "duration": 115,
    "start_time": "2021-11-22T20:35:14.458Z"
   },
   {
    "duration": 3,
    "start_time": "2021-11-22T20:38:55.647Z"
   },
   {
    "duration": 136,
    "start_time": "2021-11-22T20:39:58.110Z"
   },
   {
    "duration": 368,
    "start_time": "2021-11-22T20:44:35.142Z"
   },
   {
    "duration": 339,
    "start_time": "2021-11-22T20:44:56.877Z"
   },
   {
    "duration": 347,
    "start_time": "2021-11-22T20:47:20.149Z"
   },
   {
    "duration": 4291,
    "start_time": "2021-11-22T20:48:36.528Z"
   },
   {
    "duration": 4338,
    "start_time": "2021-11-22T20:49:43.258Z"
   },
   {
    "duration": 4530,
    "start_time": "2021-11-22T20:51:53.864Z"
   },
   {
    "duration": 6,
    "start_time": "2021-11-22T20:54:42.484Z"
   },
   {
    "duration": 5813,
    "start_time": "2021-11-22T20:55:57.515Z"
   },
   {
    "duration": 4631,
    "start_time": "2021-11-22T20:57:05.693Z"
   },
   {
    "duration": 4243,
    "start_time": "2021-11-22T21:04:07.992Z"
   },
   {
    "duration": 6,
    "start_time": "2021-11-22T21:11:05.980Z"
   },
   {
    "duration": 4510,
    "start_time": "2021-11-22T21:17:02.353Z"
   },
   {
    "duration": 5105,
    "start_time": "2021-11-22T21:46:55.993Z"
   },
   {
    "duration": 4436,
    "start_time": "2021-11-22T21:47:38.952Z"
   },
   {
    "duration": 4514,
    "start_time": "2021-11-22T21:48:34.902Z"
   },
   {
    "duration": 5208,
    "start_time": "2021-11-22T21:48:58.524Z"
   },
   {
    "duration": 824,
    "start_time": "2021-11-22T21:50:16.426Z"
   },
   {
    "duration": 213,
    "start_time": "2021-11-22T21:50:17.253Z"
   },
   {
    "duration": 10,
    "start_time": "2021-11-22T21:50:17.469Z"
   },
   {
    "duration": 61,
    "start_time": "2021-11-22T21:50:17.482Z"
   },
   {
    "duration": 4,
    "start_time": "2021-11-22T21:50:17.545Z"
   },
   {
    "duration": 53,
    "start_time": "2021-11-22T21:50:17.552Z"
   },
   {
    "duration": 11,
    "start_time": "2021-11-22T21:50:17.608Z"
   },
   {
    "duration": 48,
    "start_time": "2021-11-22T21:50:17.623Z"
   },
   {
    "duration": 36,
    "start_time": "2021-11-22T21:50:17.674Z"
   },
   {
    "duration": 3,
    "start_time": "2021-11-22T21:50:17.713Z"
   },
   {
    "duration": 9,
    "start_time": "2021-11-22T21:50:17.718Z"
   },
   {
    "duration": 16,
    "start_time": "2021-11-22T21:50:17.729Z"
   },
   {
    "duration": 8,
    "start_time": "2021-11-22T21:50:17.748Z"
   },
   {
    "duration": 12,
    "start_time": "2021-11-22T21:50:17.758Z"
   },
   {
    "duration": 11,
    "start_time": "2021-11-22T21:50:17.803Z"
   },
   {
    "duration": 4,
    "start_time": "2021-11-22T21:50:17.817Z"
   },
   {
    "duration": 6,
    "start_time": "2021-11-22T21:50:17.824Z"
   },
   {
    "duration": 12,
    "start_time": "2021-11-22T21:50:17.832Z"
   },
   {
    "duration": 10,
    "start_time": "2021-11-22T21:50:17.848Z"
   },
   {
    "duration": 11,
    "start_time": "2021-11-22T21:50:17.860Z"
   },
   {
    "duration": 27,
    "start_time": "2021-11-22T21:50:17.874Z"
   },
   {
    "duration": 8,
    "start_time": "2021-11-22T21:50:17.906Z"
   },
   {
    "duration": 4,
    "start_time": "2021-11-22T21:50:17.921Z"
   },
   {
    "duration": 7,
    "start_time": "2021-11-22T21:50:17.929Z"
   },
   {
    "duration": 7,
    "start_time": "2021-11-22T21:50:17.938Z"
   },
   {
    "duration": 17,
    "start_time": "2021-11-22T21:50:17.948Z"
   },
   {
    "duration": 7,
    "start_time": "2021-11-22T21:50:17.968Z"
   },
   {
    "duration": 7,
    "start_time": "2021-11-22T21:50:18.003Z"
   },
   {
    "duration": 4,
    "start_time": "2021-11-22T21:50:18.014Z"
   },
   {
    "duration": 10,
    "start_time": "2021-11-22T21:50:18.021Z"
   },
   {
    "duration": 12,
    "start_time": "2021-11-22T21:50:18.034Z"
   },
   {
    "duration": 9,
    "start_time": "2021-11-22T21:50:18.049Z"
   },
   {
    "duration": 22,
    "start_time": "2021-11-22T21:50:18.060Z"
   },
   {
    "duration": 9,
    "start_time": "2021-11-22T21:50:18.084Z"
   },
   {
    "duration": 11,
    "start_time": "2021-11-22T21:50:18.096Z"
   },
   {
    "duration": 5,
    "start_time": "2021-11-22T21:50:18.111Z"
   },
   {
    "duration": 8,
    "start_time": "2021-11-22T21:50:18.119Z"
   },
   {
    "duration": 11,
    "start_time": "2021-11-22T21:50:18.129Z"
   },
   {
    "duration": 34,
    "start_time": "2021-11-22T21:50:31.686Z"
   },
   {
    "duration": 34,
    "start_time": "2021-11-22T21:50:55.924Z"
   },
   {
    "duration": 348,
    "start_time": "2021-11-23T16:40:33.567Z"
   },
   {
    "duration": 770,
    "start_time": "2021-11-23T16:40:57.276Z"
   },
   {
    "duration": 195,
    "start_time": "2021-11-23T16:40:59.338Z"
   },
   {
    "duration": 11,
    "start_time": "2021-11-23T16:41:01.328Z"
   },
   {
    "duration": 35,
    "start_time": "2021-11-23T16:41:04.636Z"
   },
   {
    "duration": 4,
    "start_time": "2021-11-23T16:41:10.578Z"
   },
   {
    "duration": 33,
    "start_time": "2021-11-23T16:41:13.738Z"
   },
   {
    "duration": 5,
    "start_time": "2021-11-23T16:41:16.327Z"
   },
   {
    "duration": 45,
    "start_time": "2021-11-23T16:41:19.126Z"
   },
   {
    "duration": 23,
    "start_time": "2021-11-23T16:41:22.428Z"
   },
   {
    "duration": 28,
    "start_time": "2021-11-23T16:41:24.746Z"
   },
   {
    "duration": 32,
    "start_time": "2021-11-23T16:41:27.008Z"
   },
   {
    "duration": 12,
    "start_time": "2021-11-23T16:41:37.397Z"
   },
   {
    "duration": 14,
    "start_time": "2021-11-23T16:42:41.827Z"
   },
   {
    "duration": 409,
    "start_time": "2021-11-23T16:44:01.625Z"
   },
   {
    "duration": 104,
    "start_time": "2021-11-23T16:44:11.647Z"
   },
   {
    "duration": 446,
    "start_time": "2021-11-23T16:45:08.900Z"
   },
   {
    "duration": 101,
    "start_time": "2021-11-23T16:45:17.822Z"
   },
   {
    "duration": 117,
    "start_time": "2021-11-23T16:45:39.546Z"
   },
   {
    "duration": 111,
    "start_time": "2021-11-23T16:47:14.771Z"
   },
   {
    "duration": 93,
    "start_time": "2021-11-23T16:47:17.946Z"
   },
   {
    "duration": 109,
    "start_time": "2021-11-23T16:48:33.828Z"
   },
   {
    "duration": 112,
    "start_time": "2021-11-23T16:48:44.477Z"
   },
   {
    "duration": 124,
    "start_time": "2021-11-23T16:48:51.976Z"
   },
   {
    "duration": 4,
    "start_time": "2021-11-23T18:02:47.993Z"
   },
   {
    "duration": 254,
    "start_time": "2021-11-23T18:02:50.451Z"
   },
   {
    "duration": 4,
    "start_time": "2021-11-23T18:03:00.058Z"
   },
   {
    "duration": 310,
    "start_time": "2021-11-23T18:03:00.065Z"
   },
   {
    "duration": 18,
    "start_time": "2021-11-23T18:03:00.381Z"
   },
   {
    "duration": 56,
    "start_time": "2021-11-23T18:03:00.402Z"
   },
   {
    "duration": 29,
    "start_time": "2021-11-23T18:03:00.460Z"
   },
   {
    "duration": 41,
    "start_time": "2021-11-23T18:03:00.492Z"
   },
   {
    "duration": 6,
    "start_time": "2021-11-23T18:03:00.536Z"
   },
   {
    "duration": 67,
    "start_time": "2021-11-23T18:03:00.545Z"
   },
   {
    "duration": 42,
    "start_time": "2021-11-23T18:03:00.618Z"
   },
   {
    "duration": 53,
    "start_time": "2021-11-23T18:03:00.663Z"
   },
   {
    "duration": 122,
    "start_time": "2021-11-23T18:03:00.719Z"
   },
   {
    "duration": 153,
    "start_time": "2021-11-23T18:03:00.844Z"
   },
   {
    "duration": 103,
    "start_time": "2021-11-23T18:03:01.001Z"
   },
   {
    "duration": 13,
    "start_time": "2021-11-23T18:03:01.108Z"
   },
   {
    "duration": 26,
    "start_time": "2021-11-23T18:03:01.125Z"
   },
   {
    "duration": 66,
    "start_time": "2021-11-23T18:03:01.154Z"
   },
   {
    "duration": 31,
    "start_time": "2021-11-23T18:03:01.223Z"
   },
   {
    "duration": 44,
    "start_time": "2021-11-23T18:03:01.257Z"
   },
   {
    "duration": 11,
    "start_time": "2021-11-23T18:03:01.304Z"
   },
   {
    "duration": 32,
    "start_time": "2021-11-23T18:03:01.318Z"
   },
   {
    "duration": 24,
    "start_time": "2021-11-23T18:03:01.353Z"
   },
   {
    "duration": 16,
    "start_time": "2021-11-23T18:03:01.381Z"
   },
   {
    "duration": 20,
    "start_time": "2021-11-23T18:03:01.400Z"
   },
   {
    "duration": 15,
    "start_time": "2021-11-23T18:03:01.423Z"
   },
   {
    "duration": 15,
    "start_time": "2021-11-23T18:03:01.441Z"
   },
   {
    "duration": 35,
    "start_time": "2021-11-23T18:03:01.459Z"
   },
   {
    "duration": 9,
    "start_time": "2021-11-23T18:03:01.501Z"
   },
   {
    "duration": 67,
    "start_time": "2021-11-23T18:03:01.513Z"
   },
   {
    "duration": 44,
    "start_time": "2021-11-23T18:03:01.583Z"
   },
   {
    "duration": 34,
    "start_time": "2021-11-23T18:03:01.631Z"
   },
   {
    "duration": 40,
    "start_time": "2021-11-23T18:03:01.668Z"
   },
   {
    "duration": 23,
    "start_time": "2021-11-23T18:03:01.711Z"
   },
   {
    "duration": 13,
    "start_time": "2021-11-23T18:03:01.736Z"
   },
   {
    "duration": 8,
    "start_time": "2021-11-23T18:03:01.752Z"
   },
   {
    "duration": 20,
    "start_time": "2021-11-23T18:03:01.762Z"
   },
   {
    "duration": 21,
    "start_time": "2021-11-23T18:03:01.785Z"
   },
   {
    "duration": 18,
    "start_time": "2021-11-23T18:03:01.809Z"
   },
   {
    "duration": 7,
    "start_time": "2021-11-23T18:03:01.829Z"
   },
   {
    "duration": 122,
    "start_time": "2021-11-23T18:03:12.092Z"
   },
   {
    "duration": 49,
    "start_time": "2021-11-23T18:06:05.993Z"
   },
   {
    "duration": 4,
    "start_time": "2021-11-23T18:55:35.408Z"
   },
   {
    "duration": 309,
    "start_time": "2021-11-23T18:57:46.250Z"
   },
   {
    "duration": 611,
    "start_time": "2021-11-23T18:58:05.123Z"
   },
   {
    "duration": 4,
    "start_time": "2021-11-23T18:58:35.273Z"
   },
   {
    "duration": 5,
    "start_time": "2021-11-23T18:59:05.770Z"
   },
   {
    "duration": 15,
    "start_time": "2021-11-23T18:59:09.320Z"
   },
   {
    "duration": 104,
    "start_time": "2021-11-23T18:59:51.795Z"
   },
   {
    "duration": 9,
    "start_time": "2021-11-23T18:59:58.674Z"
   },
   {
    "duration": 303,
    "start_time": "2021-11-23T19:02:30.414Z"
   },
   {
    "duration": 858,
    "start_time": "2021-11-23T19:02:35.719Z"
   },
   {
    "duration": 9,
    "start_time": "2021-11-23T19:02:51.153Z"
   },
   {
    "duration": 10,
    "start_time": "2021-11-23T19:03:54.727Z"
   },
   {
    "duration": 54,
    "start_time": "2021-11-23T19:05:02.582Z"
   },
   {
    "duration": 14,
    "start_time": "2021-11-23T19:06:02.142Z"
   },
   {
    "duration": 46,
    "start_time": "2021-11-23T19:06:19.377Z"
   },
   {
    "duration": 15,
    "start_time": "2021-11-23T19:06:27.618Z"
   },
   {
    "duration": 45,
    "start_time": "2021-11-23T19:06:36.575Z"
   },
   {
    "duration": 21,
    "start_time": "2021-11-23T19:06:45.181Z"
   },
   {
    "duration": 48,
    "start_time": "2021-11-23T19:07:44.136Z"
   },
   {
    "duration": 14,
    "start_time": "2021-11-23T19:08:04.041Z"
   },
   {
    "duration": 19,
    "start_time": "2021-11-23T19:08:13.658Z"
   },
   {
    "duration": 46,
    "start_time": "2021-11-23T19:08:28.178Z"
   },
   {
    "duration": 13,
    "start_time": "2021-11-23T19:09:04.680Z"
   },
   {
    "duration": 20,
    "start_time": "2021-11-23T19:09:50.466Z"
   },
   {
    "duration": 15,
    "start_time": "2021-11-23T19:09:55.648Z"
   },
   {
    "duration": 5,
    "start_time": "2021-11-23T19:16:34.538Z"
   },
   {
    "duration": 5,
    "start_time": "2021-11-23T19:17:14.853Z"
   },
   {
    "duration": 5,
    "start_time": "2021-11-23T19:19:10.068Z"
   },
   {
    "duration": 5,
    "start_time": "2021-11-23T19:19:29.101Z"
   },
   {
    "duration": 25,
    "start_time": "2021-11-23T19:20:44.871Z"
   },
   {
    "duration": 20,
    "start_time": "2021-11-23T19:21:29.033Z"
   },
   {
    "duration": 20,
    "start_time": "2021-11-23T19:21:50.709Z"
   },
   {
    "duration": 20,
    "start_time": "2021-11-23T19:21:52.614Z"
   },
   {
    "duration": 24,
    "start_time": "2021-11-23T19:22:06.191Z"
   },
   {
    "duration": 20,
    "start_time": "2021-11-23T19:22:08.324Z"
   },
   {
    "duration": 285,
    "start_time": "2021-11-23T19:25:33.375Z"
   },
   {
    "duration": 286,
    "start_time": "2021-11-23T19:27:45.655Z"
   },
   {
    "duration": 289,
    "start_time": "2021-11-23T19:27:58.494Z"
   },
   {
    "duration": 109,
    "start_time": "2021-11-23T19:28:51.724Z"
   },
   {
    "duration": 113,
    "start_time": "2021-11-23T19:29:01.114Z"
   },
   {
    "duration": 422,
    "start_time": "2021-11-23T19:29:08.961Z"
   },
   {
    "duration": 492,
    "start_time": "2021-11-23T19:29:35.815Z"
   },
   {
    "duration": 274,
    "start_time": "2021-11-23T19:31:12.131Z"
   },
   {
    "duration": 1090,
    "start_time": "2021-11-23T19:33:24.384Z"
   },
   {
    "duration": 95,
    "start_time": "2021-11-23T19:35:36.538Z"
   },
   {
    "duration": 307,
    "start_time": "2021-11-23T19:36:02.817Z"
   },
   {
    "duration": 8,
    "start_time": "2021-11-23T19:55:22.644Z"
   },
   {
    "duration": 13,
    "start_time": "2021-11-23T19:55:44.583Z"
   },
   {
    "duration": 8,
    "start_time": "2021-11-23T20:02:34.743Z"
   },
   {
    "duration": 11,
    "start_time": "2021-11-23T20:03:18.157Z"
   },
   {
    "duration": 17,
    "start_time": "2021-11-23T20:03:26.986Z"
   },
   {
    "duration": 32,
    "start_time": "2021-11-23T20:07:50.070Z"
   },
   {
    "duration": 26,
    "start_time": "2021-11-23T20:08:03.070Z"
   },
   {
    "duration": 20,
    "start_time": "2021-11-23T20:08:07.630Z"
   },
   {
    "duration": 25,
    "start_time": "2021-11-23T20:08:13.440Z"
   },
   {
    "duration": 13,
    "start_time": "2021-11-23T20:08:49.160Z"
   },
   {
    "duration": 1447,
    "start_time": "2021-11-23T20:09:13.564Z"
   },
   {
    "duration": 11,
    "start_time": "2021-11-23T20:09:17.736Z"
   },
   {
    "duration": 23,
    "start_time": "2021-11-23T20:09:35.599Z"
   },
   {
    "duration": 18,
    "start_time": "2021-11-23T20:10:04.967Z"
   },
   {
    "duration": 13,
    "start_time": "2021-11-23T20:10:22.259Z"
   },
   {
    "duration": 10,
    "start_time": "2021-11-23T20:10:30.746Z"
   },
   {
    "duration": 17,
    "start_time": "2021-11-23T20:10:44.952Z"
   },
   {
    "duration": 25,
    "start_time": "2021-11-23T20:10:52.516Z"
   },
   {
    "duration": 10,
    "start_time": "2021-11-23T20:11:00.478Z"
   },
   {
    "duration": 3,
    "start_time": "2021-11-23T20:12:53.779Z"
   },
   {
    "duration": 230,
    "start_time": "2021-11-23T20:12:53.785Z"
   },
   {
    "duration": 10,
    "start_time": "2021-11-23T20:12:54.017Z"
   },
   {
    "duration": 62,
    "start_time": "2021-11-23T20:12:54.029Z"
   },
   {
    "duration": 4,
    "start_time": "2021-11-23T20:12:54.093Z"
   },
   {
    "duration": 42,
    "start_time": "2021-11-23T20:12:54.100Z"
   },
   {
    "duration": 4,
    "start_time": "2021-11-23T20:12:54.145Z"
   },
   {
    "duration": 52,
    "start_time": "2021-11-23T20:12:54.153Z"
   },
   {
    "duration": 23,
    "start_time": "2021-11-23T20:12:54.209Z"
   },
   {
    "duration": 67,
    "start_time": "2021-11-23T20:12:54.235Z"
   },
   {
    "duration": 133,
    "start_time": "2021-11-23T20:12:54.305Z"
   },
   {
    "duration": 151,
    "start_time": "2021-11-23T20:12:54.442Z"
   },
   {
    "duration": 120,
    "start_time": "2021-11-23T20:12:54.597Z"
   },
   {
    "duration": 63,
    "start_time": "2021-11-23T20:12:54.721Z"
   },
   {
    "duration": 4,
    "start_time": "2021-11-23T20:12:54.786Z"
   },
   {
    "duration": 21,
    "start_time": "2021-11-23T20:12:54.793Z"
   },
   {
    "duration": 17,
    "start_time": "2021-11-23T20:12:54.816Z"
   },
   {
    "duration": 39,
    "start_time": "2021-11-23T20:12:54.836Z"
   },
   {
    "duration": 19,
    "start_time": "2021-11-23T20:12:54.877Z"
   },
   {
    "duration": 6,
    "start_time": "2021-11-23T20:12:54.899Z"
   },
   {
    "duration": 62,
    "start_time": "2021-11-23T20:12:54.907Z"
   },
   {
    "duration": 25,
    "start_time": "2021-11-23T20:12:54.972Z"
   },
   {
    "duration": 20,
    "start_time": "2021-11-23T20:12:55.004Z"
   },
   {
    "duration": 49,
    "start_time": "2021-11-23T20:12:55.027Z"
   },
   {
    "duration": 22,
    "start_time": "2021-11-23T20:12:55.078Z"
   },
   {
    "duration": 27,
    "start_time": "2021-11-23T20:12:55.103Z"
   },
   {
    "duration": 40,
    "start_time": "2021-11-23T20:12:55.133Z"
   },
   {
    "duration": 35,
    "start_time": "2021-11-23T20:12:55.176Z"
   },
   {
    "duration": 10,
    "start_time": "2021-11-23T20:12:55.214Z"
   },
   {
    "duration": 43,
    "start_time": "2021-11-23T20:12:55.226Z"
   },
   {
    "duration": 10,
    "start_time": "2021-11-23T20:12:55.272Z"
   },
   {
    "duration": 12,
    "start_time": "2021-11-23T20:12:55.285Z"
   },
   {
    "duration": 18,
    "start_time": "2021-11-23T20:12:55.299Z"
   },
   {
    "duration": 14,
    "start_time": "2021-11-23T20:12:55.319Z"
   },
   {
    "duration": 16,
    "start_time": "2021-11-23T20:12:55.336Z"
   },
   {
    "duration": 12,
    "start_time": "2021-11-23T20:12:55.354Z"
   },
   {
    "duration": 8,
    "start_time": "2021-11-23T20:12:55.368Z"
   },
   {
    "duration": 13,
    "start_time": "2021-11-23T20:12:55.378Z"
   },
   {
    "duration": 22,
    "start_time": "2021-11-23T20:13:27.994Z"
   },
   {
    "duration": 22,
    "start_time": "2021-11-23T20:13:36.932Z"
   },
   {
    "duration": 14,
    "start_time": "2021-11-23T20:13:45.800Z"
   },
   {
    "duration": 18,
    "start_time": "2021-11-23T20:13:51.145Z"
   },
   {
    "duration": 5,
    "start_time": "2021-11-23T20:17:40.562Z"
   },
   {
    "duration": 5,
    "start_time": "2021-11-23T20:19:08.655Z"
   },
   {
    "duration": 5,
    "start_time": "2021-11-23T20:22:08.879Z"
   },
   {
    "duration": 5,
    "start_time": "2021-11-23T20:22:28.620Z"
   },
   {
    "duration": 90,
    "start_time": "2021-11-23T20:24:07.162Z"
   },
   {
    "duration": 39,
    "start_time": "2021-11-23T20:24:15.816Z"
   },
   {
    "duration": 35,
    "start_time": "2021-11-23T20:25:08.632Z"
   },
   {
    "duration": 6,
    "start_time": "2021-11-23T20:28:31.930Z"
   },
   {
    "duration": 40,
    "start_time": "2021-11-23T20:28:45.650Z"
   },
   {
    "duration": 40,
    "start_time": "2021-11-23T20:29:21.362Z"
   },
   {
    "duration": 4,
    "start_time": "2021-11-23T20:29:22.632Z"
   },
   {
    "duration": 40,
    "start_time": "2021-11-23T20:29:26.167Z"
   },
   {
    "duration": 5,
    "start_time": "2021-11-23T20:32:58.047Z"
   },
   {
    "duration": 590,
    "start_time": "2021-11-23T20:33:03.718Z"
   },
   {
    "duration": 6,
    "start_time": "2021-11-23T20:33:23.759Z"
   },
   {
    "duration": 38,
    "start_time": "2021-11-23T20:33:26.856Z"
   },
   {
    "duration": 5,
    "start_time": "2021-11-23T20:35:17.570Z"
   },
   {
    "duration": 948,
    "start_time": "2021-11-23T20:35:22.595Z"
   },
   {
    "duration": 6,
    "start_time": "2021-11-23T20:35:39.279Z"
   },
   {
    "duration": 46,
    "start_time": "2021-11-23T20:35:41.677Z"
   },
   {
    "duration": 16,
    "start_time": "2021-11-23T20:36:53.787Z"
   },
   {
    "duration": 965,
    "start_time": "2021-11-23T20:36:56.997Z"
   },
   {
    "duration": 6,
    "start_time": "2021-11-23T20:37:32.395Z"
   },
   {
    "duration": 558,
    "start_time": "2021-11-23T20:37:35.243Z"
   },
   {
    "duration": 6,
    "start_time": "2021-11-23T20:37:43.735Z"
   },
   {
    "duration": 567,
    "start_time": "2021-11-23T20:37:46.154Z"
   },
   {
    "duration": 6,
    "start_time": "2021-11-23T20:38:50.567Z"
   },
   {
    "duration": 6,
    "start_time": "2021-11-23T20:39:06.143Z"
   },
   {
    "duration": 563,
    "start_time": "2021-11-23T20:39:12.009Z"
   },
   {
    "duration": 6,
    "start_time": "2021-11-23T20:47:53.741Z"
   },
   {
    "duration": 572,
    "start_time": "2021-11-23T20:47:56.360Z"
   },
   {
    "duration": 7,
    "start_time": "2021-11-23T20:48:08.947Z"
   },
   {
    "duration": 36,
    "start_time": "2021-11-23T20:48:11.541Z"
   },
   {
    "duration": 6,
    "start_time": "2021-11-23T20:48:25.958Z"
   },
   {
    "duration": 588,
    "start_time": "2021-11-23T20:48:28.662Z"
   },
   {
    "duration": 5,
    "start_time": "2021-11-23T20:49:04.431Z"
   },
   {
    "duration": 599,
    "start_time": "2021-11-23T20:49:07.402Z"
   },
   {
    "duration": 8,
    "start_time": "2021-11-23T20:49:25.089Z"
   },
   {
    "duration": 39,
    "start_time": "2021-11-23T20:49:27.453Z"
   },
   {
    "duration": 30,
    "start_time": "2021-11-23T20:53:09.681Z"
   },
   {
    "duration": 30,
    "start_time": "2021-11-23T20:54:03.620Z"
   },
   {
    "duration": 29,
    "start_time": "2021-11-23T20:54:13.360Z"
   },
   {
    "duration": 36,
    "start_time": "2021-11-23T20:54:19.773Z"
   },
   {
    "duration": 29,
    "start_time": "2021-11-23T20:54:33.107Z"
   },
   {
    "duration": 21,
    "start_time": "2021-11-23T20:55:40.900Z"
   },
   {
    "duration": 5,
    "start_time": "2021-11-23T20:56:20.795Z"
   },
   {
    "duration": 27,
    "start_time": "2021-11-23T20:56:23.818Z"
   },
   {
    "duration": 19,
    "start_time": "2021-11-23T20:56:26.733Z"
   },
   {
    "duration": 24,
    "start_time": "2021-11-23T20:57:21.997Z"
   },
   {
    "duration": 14,
    "start_time": "2021-11-23T20:57:48.873Z"
   },
   {
    "duration": 15,
    "start_time": "2021-11-23T20:58:08.531Z"
   },
   {
    "duration": 14,
    "start_time": "2021-11-23T20:58:14.644Z"
   },
   {
    "duration": 28,
    "start_time": "2021-11-23T20:58:19.072Z"
   },
   {
    "duration": 24,
    "start_time": "2021-11-23T20:58:44.245Z"
   },
   {
    "duration": 36,
    "start_time": "2021-11-23T20:58:58.805Z"
   },
   {
    "duration": 27,
    "start_time": "2021-11-23T20:59:08.413Z"
   },
   {
    "duration": 17,
    "start_time": "2021-11-23T20:59:21.259Z"
   },
   {
    "duration": 5,
    "start_time": "2021-11-23T21:01:13.125Z"
   },
   {
    "duration": 4,
    "start_time": "2021-11-23T21:01:29.871Z"
   },
   {
    "duration": 293,
    "start_time": "2021-11-23T21:01:37.112Z"
   },
   {
    "duration": 289,
    "start_time": "2021-11-23T21:01:43.209Z"
   },
   {
    "duration": 295,
    "start_time": "2021-11-23T21:02:47.202Z"
   },
   {
    "duration": 3,
    "start_time": "2021-11-23T21:02:55.192Z"
   },
   {
    "duration": 221,
    "start_time": "2021-11-23T21:02:55.197Z"
   },
   {
    "duration": 9,
    "start_time": "2021-11-23T21:02:55.421Z"
   },
   {
    "duration": 51,
    "start_time": "2021-11-23T21:02:55.433Z"
   },
   {
    "duration": 5,
    "start_time": "2021-11-23T21:02:55.487Z"
   },
   {
    "duration": 27,
    "start_time": "2021-11-23T21:02:55.495Z"
   },
   {
    "duration": 4,
    "start_time": "2021-11-23T21:02:55.525Z"
   },
   {
    "duration": 67,
    "start_time": "2021-11-23T21:02:55.532Z"
   },
   {
    "duration": 24,
    "start_time": "2021-11-23T21:02:55.603Z"
   },
   {
    "duration": 66,
    "start_time": "2021-11-23T21:02:55.631Z"
   },
   {
    "duration": 109,
    "start_time": "2021-11-23T21:02:55.700Z"
   },
   {
    "duration": 102,
    "start_time": "2021-11-23T21:02:55.812Z"
   },
   {
    "duration": 94,
    "start_time": "2021-11-23T21:02:55.917Z"
   },
   {
    "duration": 54,
    "start_time": "2021-11-23T21:02:56.013Z"
   },
   {
    "duration": 4,
    "start_time": "2021-11-23T21:02:56.069Z"
   },
   {
    "duration": 17,
    "start_time": "2021-11-23T21:02:56.075Z"
   },
   {
    "duration": 14,
    "start_time": "2021-11-23T21:02:56.095Z"
   },
   {
    "duration": 17,
    "start_time": "2021-11-23T21:02:56.111Z"
   },
   {
    "duration": 45,
    "start_time": "2021-11-23T21:02:56.130Z"
   },
   {
    "duration": 5,
    "start_time": "2021-11-23T21:02:56.178Z"
   },
   {
    "duration": 29,
    "start_time": "2021-11-23T21:02:56.185Z"
   },
   {
    "duration": 21,
    "start_time": "2021-11-23T21:02:56.216Z"
   },
   {
    "duration": 21,
    "start_time": "2021-11-23T21:02:56.268Z"
   },
   {
    "duration": 19,
    "start_time": "2021-11-23T21:02:56.291Z"
   },
   {
    "duration": 59,
    "start_time": "2021-11-23T21:02:56.312Z"
   },
   {
    "duration": 22,
    "start_time": "2021-11-23T21:02:56.374Z"
   },
   {
    "duration": 9,
    "start_time": "2021-11-23T21:02:56.402Z"
   },
   {
    "duration": 28,
    "start_time": "2021-11-23T21:02:56.414Z"
   },
   {
    "duration": 14,
    "start_time": "2021-11-23T21:02:56.468Z"
   },
   {
    "duration": 6,
    "start_time": "2021-11-23T21:02:56.485Z"
   },
   {
    "duration": 36,
    "start_time": "2021-11-23T21:02:56.493Z"
   },
   {
    "duration": 46,
    "start_time": "2021-11-23T21:02:56.532Z"
   },
   {
    "duration": 32,
    "start_time": "2021-11-23T21:02:56.581Z"
   },
   {
    "duration": 54,
    "start_time": "2021-11-23T21:02:56.615Z"
   },
   {
    "duration": 45,
    "start_time": "2021-11-23T21:02:56.672Z"
   },
   {
    "duration": 4,
    "start_time": "2021-11-23T21:02:56.720Z"
   },
   {
    "duration": 6,
    "start_time": "2021-11-23T21:02:56.727Z"
   },
   {
    "duration": 32,
    "start_time": "2021-11-23T21:02:56.735Z"
   },
   {
    "duration": 33,
    "start_time": "2021-11-23T21:03:02.618Z"
   },
   {
    "duration": 37,
    "start_time": "2021-11-23T21:03:21.278Z"
   },
   {
    "duration": 19,
    "start_time": "2021-11-23T21:05:33.319Z"
   },
   {
    "duration": 18,
    "start_time": "2021-11-23T21:05:43.197Z"
   },
   {
    "duration": 12,
    "start_time": "2021-11-23T21:06:18.523Z"
   },
   {
    "duration": 3,
    "start_time": "2021-11-23T21:06:21.011Z"
   },
   {
    "duration": 6,
    "start_time": "2021-11-23T21:06:25.262Z"
   },
   {
    "duration": 9,
    "start_time": "2021-11-23T21:08:06.796Z"
   },
   {
    "duration": 5,
    "start_time": "2021-11-23T21:08:20.725Z"
   },
   {
    "duration": 448,
    "start_time": "2021-11-24T08:34:16.031Z"
   },
   {
    "duration": 754,
    "start_time": "2021-11-24T08:34:18.992Z"
   },
   {
    "duration": 296,
    "start_time": "2021-11-24T08:34:19.748Z"
   },
   {
    "duration": 10,
    "start_time": "2021-11-24T08:34:20.047Z"
   },
   {
    "duration": 50,
    "start_time": "2021-11-24T08:34:20.060Z"
   },
   {
    "duration": 5,
    "start_time": "2021-11-24T08:34:20.113Z"
   },
   {
    "duration": 37,
    "start_time": "2021-11-24T08:34:20.121Z"
   },
   {
    "duration": 21,
    "start_time": "2021-11-24T08:34:20.162Z"
   },
   {
    "duration": 41,
    "start_time": "2021-11-24T08:34:20.189Z"
   },
   {
    "duration": 57,
    "start_time": "2021-11-24T08:34:20.234Z"
   },
   {
    "duration": 33,
    "start_time": "2021-11-24T08:34:20.293Z"
   },
   {
    "duration": 119,
    "start_time": "2021-11-24T08:34:20.328Z"
   },
   {
    "duration": 110,
    "start_time": "2021-11-24T08:34:20.449Z"
   },
   {
    "duration": 85,
    "start_time": "2021-11-24T08:34:20.562Z"
   },
   {
    "duration": 63,
    "start_time": "2021-11-24T08:34:20.649Z"
   },
   {
    "duration": 54,
    "start_time": "2021-11-24T08:34:20.714Z"
   },
   {
    "duration": 4,
    "start_time": "2021-11-24T08:34:20.782Z"
   },
   {
    "duration": 21,
    "start_time": "2021-11-24T08:34:20.789Z"
   },
   {
    "duration": 9,
    "start_time": "2021-11-24T08:34:20.812Z"
   },
   {
    "duration": 15,
    "start_time": "2021-11-24T08:34:20.823Z"
   },
   {
    "duration": 47,
    "start_time": "2021-11-24T08:34:20.840Z"
   },
   {
    "duration": 5,
    "start_time": "2021-11-24T08:34:20.890Z"
   },
   {
    "duration": 29,
    "start_time": "2021-11-24T08:34:20.897Z"
   },
   {
    "duration": 19,
    "start_time": "2021-11-24T08:34:20.931Z"
   },
   {
    "duration": 44,
    "start_time": "2021-11-24T08:34:20.952Z"
   },
   {
    "duration": 16,
    "start_time": "2021-11-24T08:34:20.999Z"
   },
   {
    "duration": 19,
    "start_time": "2021-11-24T08:34:21.018Z"
   },
   {
    "duration": 56,
    "start_time": "2021-11-24T08:34:21.039Z"
   },
   {
    "duration": 9,
    "start_time": "2021-11-24T08:34:21.097Z"
   },
   {
    "duration": 15,
    "start_time": "2021-11-24T08:34:21.108Z"
   },
   {
    "duration": 11,
    "start_time": "2021-11-24T08:34:21.126Z"
   },
   {
    "duration": 42,
    "start_time": "2021-11-24T08:34:21.140Z"
   },
   {
    "duration": 36,
    "start_time": "2021-11-24T08:34:21.185Z"
   },
   {
    "duration": 16,
    "start_time": "2021-11-24T08:34:21.223Z"
   },
   {
    "duration": 53,
    "start_time": "2021-11-24T08:34:21.242Z"
   },
   {
    "duration": 16,
    "start_time": "2021-11-24T08:34:21.298Z"
   },
   {
    "duration": 11,
    "start_time": "2021-11-24T08:34:21.316Z"
   },
   {
    "duration": 12,
    "start_time": "2021-11-24T08:34:21.329Z"
   },
   {
    "duration": 39,
    "start_time": "2021-11-24T08:34:21.344Z"
   },
   {
    "duration": 5,
    "start_time": "2021-11-24T08:34:21.385Z"
   },
   {
    "duration": 350,
    "start_time": "2021-11-24T15:20:24.907Z"
   },
   {
    "duration": 644,
    "start_time": "2021-11-24T15:20:35.993Z"
   },
   {
    "duration": 133,
    "start_time": "2021-11-24T15:20:36.639Z"
   },
   {
    "duration": 17,
    "start_time": "2021-11-24T15:20:36.774Z"
   },
   {
    "duration": 38,
    "start_time": "2021-11-24T15:20:36.793Z"
   },
   {
    "duration": 15,
    "start_time": "2021-11-24T15:20:36.833Z"
   },
   {
    "duration": 35,
    "start_time": "2021-11-24T15:20:36.849Z"
   },
   {
    "duration": 6,
    "start_time": "2021-11-24T15:20:36.886Z"
   },
   {
    "duration": 34,
    "start_time": "2021-11-24T15:20:36.894Z"
   },
   {
    "duration": 20,
    "start_time": "2021-11-24T15:20:36.930Z"
   },
   {
    "duration": 23,
    "start_time": "2021-11-24T15:20:36.952Z"
   },
   {
    "duration": 71,
    "start_time": "2021-11-24T15:20:36.976Z"
   },
   {
    "duration": 73,
    "start_time": "2021-11-24T15:20:37.048Z"
   },
   {
    "duration": 48,
    "start_time": "2021-11-24T15:20:37.123Z"
   },
   {
    "duration": 44,
    "start_time": "2021-11-24T15:20:37.173Z"
   },
   {
    "duration": 3,
    "start_time": "2021-11-24T15:20:37.219Z"
   },
   {
    "duration": 15,
    "start_time": "2021-11-24T15:20:37.223Z"
   },
   {
    "duration": 8,
    "start_time": "2021-11-24T15:20:37.240Z"
   },
   {
    "duration": 13,
    "start_time": "2021-11-24T15:20:37.250Z"
   },
   {
    "duration": 11,
    "start_time": "2021-11-24T15:20:37.264Z"
   },
   {
    "duration": 3,
    "start_time": "2021-11-24T15:20:37.276Z"
   },
   {
    "duration": 40,
    "start_time": "2021-11-24T15:20:37.281Z"
   },
   {
    "duration": 16,
    "start_time": "2021-11-24T15:20:37.322Z"
   },
   {
    "duration": 20,
    "start_time": "2021-11-24T15:20:37.341Z"
   },
   {
    "duration": 13,
    "start_time": "2021-11-24T15:20:37.363Z"
   },
   {
    "duration": 42,
    "start_time": "2021-11-24T15:20:37.377Z"
   },
   {
    "duration": 15,
    "start_time": "2021-11-24T15:20:37.420Z"
   },
   {
    "duration": 7,
    "start_time": "2021-11-24T15:20:37.437Z"
   },
   {
    "duration": 18,
    "start_time": "2021-11-24T15:20:37.445Z"
   },
   {
    "duration": 14,
    "start_time": "2021-11-24T15:20:37.465Z"
   },
   {
    "duration": 6,
    "start_time": "2021-11-24T15:20:37.480Z"
   },
   {
    "duration": 36,
    "start_time": "2021-11-24T15:20:37.487Z"
   },
   {
    "duration": 23,
    "start_time": "2021-11-24T15:20:37.525Z"
   },
   {
    "duration": 17,
    "start_time": "2021-11-24T15:20:37.550Z"
   },
   {
    "duration": 11,
    "start_time": "2021-11-24T15:20:37.569Z"
   },
   {
    "duration": 26,
    "start_time": "2021-11-24T15:20:37.582Z"
   },
   {
    "duration": 3,
    "start_time": "2021-11-24T15:20:37.610Z"
   },
   {
    "duration": 10,
    "start_time": "2021-11-24T15:20:37.615Z"
   },
   {
    "duration": 6,
    "start_time": "2021-11-24T15:20:37.626Z"
   },
   {
    "duration": 104,
    "start_time": "2021-11-24T15:21:28.415Z"
   },
   {
    "duration": 112,
    "start_time": "2021-11-24T15:21:35.023Z"
   },
   {
    "duration": 11,
    "start_time": "2021-11-24T15:22:54.266Z"
   },
   {
    "duration": 11,
    "start_time": "2021-11-24T15:22:59.135Z"
   },
   {
    "duration": 4,
    "start_time": "2021-11-24T15:23:41.587Z"
   },
   {
    "duration": 103,
    "start_time": "2021-11-24T15:23:53.498Z"
   },
   {
    "duration": 4,
    "start_time": "2021-11-24T15:24:23.664Z"
   },
   {
    "duration": 51,
    "start_time": "2021-11-24T15:25:33.898Z"
   },
   {
    "duration": 51,
    "start_time": "2021-11-24T15:25:45.908Z"
   },
   {
    "duration": 3,
    "start_time": "2021-11-24T15:25:50.065Z"
   },
   {
    "duration": 156,
    "start_time": "2021-11-24T15:25:50.069Z"
   },
   {
    "duration": 11,
    "start_time": "2021-11-24T15:25:50.227Z"
   },
   {
    "duration": 37,
    "start_time": "2021-11-24T15:25:50.240Z"
   },
   {
    "duration": 9,
    "start_time": "2021-11-24T15:25:50.279Z"
   },
   {
    "duration": 30,
    "start_time": "2021-11-24T15:25:50.290Z"
   },
   {
    "duration": 4,
    "start_time": "2021-11-24T15:25:50.322Z"
   },
   {
    "duration": 30,
    "start_time": "2021-11-24T15:25:50.329Z"
   },
   {
    "duration": 27,
    "start_time": "2021-11-24T15:25:50.362Z"
   },
   {
    "duration": 44,
    "start_time": "2021-11-24T15:25:50.391Z"
   },
   {
    "duration": 77,
    "start_time": "2021-11-24T15:25:50.437Z"
   },
   {
    "duration": 62,
    "start_time": "2021-11-24T15:25:50.516Z"
   },
   {
    "duration": 68,
    "start_time": "2021-11-24T15:25:50.580Z"
   },
   {
    "duration": 31,
    "start_time": "2021-11-24T15:25:50.650Z"
   },
   {
    "duration": 23,
    "start_time": "2021-11-24T15:25:50.683Z"
   },
   {
    "duration": 38,
    "start_time": "2021-11-24T15:25:50.709Z"
   },
   {
    "duration": 17,
    "start_time": "2021-11-24T15:25:50.754Z"
   },
   {
    "duration": 40,
    "start_time": "2021-11-24T15:25:50.773Z"
   },
   {
    "duration": 20,
    "start_time": "2021-11-24T15:25:50.816Z"
   },
   {
    "duration": 20,
    "start_time": "2021-11-24T15:25:50.838Z"
   },
   {
    "duration": 58,
    "start_time": "2021-11-24T15:25:50.860Z"
   },
   {
    "duration": 46,
    "start_time": "2021-11-24T15:25:50.919Z"
   },
   {
    "duration": 34,
    "start_time": "2021-11-24T15:25:50.967Z"
   },
   {
    "duration": 27,
    "start_time": "2021-11-24T15:25:51.003Z"
   },
   {
    "duration": 22,
    "start_time": "2021-11-24T15:25:51.032Z"
   },
   {
    "duration": 34,
    "start_time": "2021-11-24T15:25:51.056Z"
   },
   {
    "duration": 22,
    "start_time": "2021-11-24T15:25:51.091Z"
   },
   {
    "duration": 25,
    "start_time": "2021-11-24T15:25:51.115Z"
   },
   {
    "duration": 35,
    "start_time": "2021-11-24T15:25:51.142Z"
   },
   {
    "duration": 16,
    "start_time": "2021-11-24T15:25:51.178Z"
   },
   {
    "duration": 54,
    "start_time": "2021-11-24T15:25:51.197Z"
   },
   {
    "duration": 37,
    "start_time": "2021-11-24T15:25:51.253Z"
   },
   {
    "duration": 35,
    "start_time": "2021-11-24T15:25:51.292Z"
   },
   {
    "duration": 31,
    "start_time": "2021-11-24T15:25:51.328Z"
   },
   {
    "duration": 24,
    "start_time": "2021-11-24T15:25:51.361Z"
   },
   {
    "duration": 12,
    "start_time": "2021-11-24T15:25:51.386Z"
   },
   {
    "duration": 22,
    "start_time": "2021-11-24T15:25:51.399Z"
   },
   {
    "duration": 5,
    "start_time": "2021-11-24T15:25:51.423Z"
   },
   {
    "duration": 52,
    "start_time": "2021-11-24T15:27:31.545Z"
   },
   {
    "duration": 389,
    "start_time": "2021-11-24T15:31:09.418Z"
   },
   {
    "duration": 356,
    "start_time": "2021-11-24T15:31:28.503Z"
   },
   {
    "duration": 33,
    "start_time": "2021-11-24T15:35:56.403Z"
   },
   {
    "duration": 34,
    "start_time": "2021-11-24T15:40:04.429Z"
   },
   {
    "duration": 32,
    "start_time": "2021-11-24T15:40:18.608Z"
   },
   {
    "duration": 116,
    "start_time": "2021-11-24T15:40:45.167Z"
   },
   {
    "duration": 31,
    "start_time": "2021-11-24T15:41:06.362Z"
   },
   {
    "duration": 30,
    "start_time": "2021-11-24T15:41:32.729Z"
   },
   {
    "duration": 784,
    "start_time": "2021-11-24T19:53:17.490Z"
   },
   {
    "duration": 259,
    "start_time": "2021-11-24T19:53:18.276Z"
   },
   {
    "duration": 46,
    "start_time": "2021-11-24T19:53:18.539Z"
   },
   {
    "duration": 54,
    "start_time": "2021-11-24T19:53:18.589Z"
   },
   {
    "duration": 6,
    "start_time": "2021-11-24T19:53:18.646Z"
   },
   {
    "duration": 48,
    "start_time": "2021-11-24T19:53:18.654Z"
   },
   {
    "duration": 10,
    "start_time": "2021-11-24T19:53:18.705Z"
   },
   {
    "duration": 31,
    "start_time": "2021-11-24T19:53:18.719Z"
   },
   {
    "duration": 24,
    "start_time": "2021-11-24T19:53:18.781Z"
   },
   {
    "duration": 30,
    "start_time": "2021-11-24T19:53:18.808Z"
   },
   {
    "duration": 113,
    "start_time": "2021-11-24T19:53:18.840Z"
   },
   {
    "duration": 107,
    "start_time": "2021-11-24T19:53:18.956Z"
   },
   {
    "duration": 91,
    "start_time": "2021-11-24T19:53:19.066Z"
   },
   {
    "duration": 55,
    "start_time": "2021-11-24T19:53:19.159Z"
   },
   {
    "duration": 5,
    "start_time": "2021-11-24T19:53:19.216Z"
   },
   {
    "duration": 30,
    "start_time": "2021-11-24T19:53:19.223Z"
   },
   {
    "duration": 31,
    "start_time": "2021-11-24T19:53:19.255Z"
   },
   {
    "duration": 15,
    "start_time": "2021-11-24T19:53:19.288Z"
   },
   {
    "duration": 13,
    "start_time": "2021-11-24T19:53:19.306Z"
   },
   {
    "duration": 5,
    "start_time": "2021-11-24T19:53:19.322Z"
   },
   {
    "duration": 69,
    "start_time": "2021-11-24T19:53:19.329Z"
   },
   {
    "duration": 22,
    "start_time": "2021-11-24T19:53:19.401Z"
   },
   {
    "duration": 57,
    "start_time": "2021-11-24T19:53:19.430Z"
   },
   {
    "duration": 19,
    "start_time": "2021-11-24T19:53:19.491Z"
   },
   {
    "duration": 23,
    "start_time": "2021-11-24T19:53:19.513Z"
   },
   {
    "duration": 53,
    "start_time": "2021-11-24T19:53:19.538Z"
   },
   {
    "duration": 10,
    "start_time": "2021-11-24T19:53:19.594Z"
   },
   {
    "duration": 22,
    "start_time": "2021-11-24T19:53:19.607Z"
   },
   {
    "duration": 57,
    "start_time": "2021-11-24T19:53:19.632Z"
   },
   {
    "duration": 8,
    "start_time": "2021-11-24T19:53:19.692Z"
   },
   {
    "duration": 42,
    "start_time": "2021-11-24T19:53:19.703Z"
   },
   {
    "duration": 58,
    "start_time": "2021-11-24T19:53:19.748Z"
   },
   {
    "duration": 24,
    "start_time": "2021-11-24T19:53:19.809Z"
   },
   {
    "duration": 51,
    "start_time": "2021-11-24T19:53:19.835Z"
   },
   {
    "duration": 16,
    "start_time": "2021-11-24T19:53:19.888Z"
   },
   {
    "duration": 5,
    "start_time": "2021-11-24T19:53:19.907Z"
   },
   {
    "duration": 9,
    "start_time": "2021-11-24T19:53:19.915Z"
   },
   {
    "duration": 4,
    "start_time": "2021-11-24T19:53:19.927Z"
   },
   {
    "duration": 67,
    "start_time": "2021-11-24T19:55:56.842Z"
   },
   {
    "duration": 80,
    "start_time": "2021-11-24T19:56:49.798Z"
   },
   {
    "duration": 115,
    "start_time": "2021-11-24T19:57:36.510Z"
   },
   {
    "duration": 109,
    "start_time": "2021-11-24T19:58:12.542Z"
   },
   {
    "duration": 75,
    "start_time": "2021-11-24T19:58:23.810Z"
   },
   {
    "duration": 68,
    "start_time": "2021-11-24T19:59:34.197Z"
   },
   {
    "duration": 122,
    "start_time": "2021-11-24T20:00:47.049Z"
   },
   {
    "duration": 454,
    "start_time": "2021-11-24T20:01:31.394Z"
   },
   {
    "duration": 464,
    "start_time": "2021-11-24T20:06:10.515Z"
   },
   {
    "duration": 366,
    "start_time": "2021-11-24T20:06:44.353Z"
   },
   {
    "duration": 8227,
    "start_time": "2021-11-24T20:06:58.013Z"
   },
   {
    "duration": 8250,
    "start_time": "2021-11-24T20:07:10.382Z"
   },
   {
    "duration": 7582,
    "start_time": "2021-11-24T20:07:33.381Z"
   },
   {
    "duration": 118,
    "start_time": "2021-11-24T20:07:59.786Z"
   },
   {
    "duration": 112,
    "start_time": "2021-11-24T20:08:21.054Z"
   },
   {
    "duration": 8,
    "start_time": "2021-11-24T20:09:10.242Z"
   },
   {
    "duration": 314,
    "start_time": "2021-11-24T20:09:56.692Z"
   },
   {
    "duration": 322,
    "start_time": "2021-11-24T20:10:03.124Z"
   },
   {
    "duration": 496,
    "start_time": "2021-11-24T20:10:27.853Z"
   },
   {
    "duration": 54,
    "start_time": "2021-11-24T20:10:42.405Z"
   },
   {
    "duration": 60,
    "start_time": "2021-11-24T20:11:21.031Z"
   },
   {
    "duration": 361,
    "start_time": "2021-11-24T20:13:43.686Z"
   },
   {
    "duration": 105,
    "start_time": "2021-11-24T20:13:49.479Z"
   },
   {
    "duration": 294,
    "start_time": "2021-11-24T20:14:53.706Z"
   },
   {
    "duration": 389,
    "start_time": "2021-11-24T20:15:08.691Z"
   },
   {
    "duration": 79,
    "start_time": "2021-11-24T20:15:19.687Z"
   },
   {
    "duration": 69,
    "start_time": "2021-11-24T20:15:52.382Z"
   },
   {
    "duration": 59,
    "start_time": "2021-11-24T20:17:24.130Z"
   },
   {
    "duration": 55,
    "start_time": "2021-11-24T20:17:45.175Z"
   },
   {
    "duration": 55,
    "start_time": "2021-11-24T20:18:38.008Z"
   },
   {
    "duration": 51,
    "start_time": "2021-11-24T20:24:09.158Z"
   },
   {
    "duration": 51,
    "start_time": "2021-11-24T20:24:11.552Z"
   },
   {
    "duration": 56,
    "start_time": "2021-11-24T20:24:23.440Z"
   },
   {
    "duration": 7,
    "start_time": "2021-11-24T20:24:49.011Z"
   },
   {
    "duration": 55,
    "start_time": "2021-11-24T20:25:29.637Z"
   },
   {
    "duration": 57,
    "start_time": "2021-11-24T20:26:19.251Z"
   },
   {
    "duration": 56,
    "start_time": "2021-11-24T20:26:55.605Z"
   },
   {
    "duration": 4,
    "start_time": "2021-11-24T20:27:44.684Z"
   },
   {
    "duration": 270,
    "start_time": "2021-11-24T20:27:44.691Z"
   },
   {
    "duration": 30,
    "start_time": "2021-11-24T20:27:44.965Z"
   },
   {
    "duration": 34,
    "start_time": "2021-11-24T20:27:44.998Z"
   },
   {
    "duration": 8,
    "start_time": "2021-11-24T20:27:45.034Z"
   },
   {
    "duration": 58,
    "start_time": "2021-11-24T20:27:45.045Z"
   },
   {
    "duration": 5,
    "start_time": "2021-11-24T20:27:45.106Z"
   },
   {
    "duration": 39,
    "start_time": "2021-11-24T20:27:45.114Z"
   },
   {
    "duration": 42,
    "start_time": "2021-11-24T20:27:45.156Z"
   },
   {
    "duration": 30,
    "start_time": "2021-11-24T20:27:45.201Z"
   },
   {
    "duration": 110,
    "start_time": "2021-11-24T20:27:45.233Z"
   },
   {
    "duration": 106,
    "start_time": "2021-11-24T20:27:45.345Z"
   },
   {
    "duration": 91,
    "start_time": "2021-11-24T20:27:45.453Z"
   },
   {
    "duration": 63,
    "start_time": "2021-11-24T20:27:49.555Z"
   },
   {
    "duration": 3,
    "start_time": "2021-11-24T20:28:06.758Z"
   },
   {
    "duration": 222,
    "start_time": "2021-11-24T20:28:06.764Z"
   },
   {
    "duration": 15,
    "start_time": "2021-11-24T20:28:06.989Z"
   },
   {
    "duration": 35,
    "start_time": "2021-11-24T20:28:07.008Z"
   },
   {
    "duration": 5,
    "start_time": "2021-11-24T20:28:07.046Z"
   },
   {
    "duration": 46,
    "start_time": "2021-11-24T20:28:07.053Z"
   },
   {
    "duration": 5,
    "start_time": "2021-11-24T20:28:07.102Z"
   },
   {
    "duration": 71,
    "start_time": "2021-11-24T20:28:07.110Z"
   },
   {
    "duration": 33,
    "start_time": "2021-11-24T20:28:07.188Z"
   },
   {
    "duration": 60,
    "start_time": "2021-11-24T20:28:07.225Z"
   },
   {
    "duration": 99,
    "start_time": "2021-11-24T20:28:07.288Z"
   },
   {
    "duration": 106,
    "start_time": "2021-11-24T20:28:07.389Z"
   },
   {
    "duration": 88,
    "start_time": "2021-11-24T20:28:07.498Z"
   },
   {
    "duration": 59,
    "start_time": "2021-11-24T20:28:07.589Z"
   },
   {
    "duration": 4,
    "start_time": "2021-11-24T20:28:07.650Z"
   },
   {
    "duration": 38,
    "start_time": "2021-11-24T20:28:07.656Z"
   },
   {
    "duration": 9,
    "start_time": "2021-11-24T20:28:07.696Z"
   },
   {
    "duration": 16,
    "start_time": "2021-11-24T20:28:07.708Z"
   },
   {
    "duration": 14,
    "start_time": "2021-11-24T20:28:07.726Z"
   },
   {
    "duration": 41,
    "start_time": "2021-11-24T20:28:07.742Z"
   },
   {
    "duration": 27,
    "start_time": "2021-11-24T20:28:07.785Z"
   },
   {
    "duration": 20,
    "start_time": "2021-11-24T20:28:07.814Z"
   },
   {
    "duration": 59,
    "start_time": "2021-11-24T20:28:07.836Z"
   },
   {
    "duration": 21,
    "start_time": "2021-11-24T20:28:07.897Z"
   },
   {
    "duration": 22,
    "start_time": "2021-11-24T20:28:07.921Z"
   },
   {
    "duration": 52,
    "start_time": "2021-11-24T20:28:07.945Z"
   },
   {
    "duration": 9,
    "start_time": "2021-11-24T20:28:08.001Z"
   },
   {
    "duration": 20,
    "start_time": "2021-11-24T20:28:08.013Z"
   },
   {
    "duration": 50,
    "start_time": "2021-11-24T20:28:08.035Z"
   },
   {
    "duration": 8,
    "start_time": "2021-11-24T20:28:08.087Z"
   },
   {
    "duration": 30,
    "start_time": "2021-11-24T20:28:08.098Z"
   },
   {
    "duration": 53,
    "start_time": "2021-11-24T20:28:08.131Z"
   },
   {
    "duration": 22,
    "start_time": "2021-11-24T20:28:08.186Z"
   },
   {
    "duration": 15,
    "start_time": "2021-11-24T20:28:08.211Z"
   },
   {
    "duration": 11,
    "start_time": "2021-11-24T20:28:08.229Z"
   },
   {
    "duration": 5,
    "start_time": "2021-11-24T20:28:08.282Z"
   },
   {
    "duration": 13,
    "start_time": "2021-11-24T20:28:08.289Z"
   },
   {
    "duration": 6,
    "start_time": "2021-11-24T20:28:08.304Z"
   },
   {
    "duration": 99,
    "start_time": "2021-11-24T20:29:02.554Z"
   },
   {
    "duration": 317,
    "start_time": "2021-11-24T20:29:42.346Z"
   },
   {
    "duration": 57,
    "start_time": "2021-11-24T20:30:47.755Z"
   },
   {
    "duration": 120,
    "start_time": "2021-11-24T20:35:02.884Z"
   },
   {
    "duration": 106,
    "start_time": "2021-11-24T20:35:25.565Z"
   },
   {
    "duration": 5,
    "start_time": "2021-11-24T20:35:56.706Z"
   },
   {
    "duration": 24,
    "start_time": "2021-11-24T20:36:01.785Z"
   },
   {
    "duration": 11,
    "start_time": "2021-11-24T20:39:39.576Z"
   },
   {
    "duration": 6,
    "start_time": "2021-11-24T20:39:43.631Z"
   },
   {
    "duration": 5,
    "start_time": "2021-11-24T20:39:52.340Z"
   },
   {
    "duration": 5,
    "start_time": "2021-11-24T20:39:54.504Z"
   },
   {
    "duration": 6,
    "start_time": "2021-11-24T20:40:07.482Z"
   },
   {
    "duration": 5,
    "start_time": "2021-11-24T20:40:11.799Z"
   },
   {
    "duration": 12,
    "start_time": "2021-11-24T20:40:57.616Z"
   },
   {
    "duration": 5,
    "start_time": "2021-11-24T20:41:01.330Z"
   },
   {
    "duration": 3,
    "start_time": "2021-11-24T20:41:04.656Z"
   },
   {
    "duration": 211,
    "start_time": "2021-11-24T20:41:04.661Z"
   },
   {
    "duration": 16,
    "start_time": "2021-11-24T20:41:04.883Z"
   },
   {
    "duration": 34,
    "start_time": "2021-11-24T20:41:04.902Z"
   },
   {
    "duration": 6,
    "start_time": "2021-11-24T20:41:04.939Z"
   },
   {
    "duration": 59,
    "start_time": "2021-11-24T20:41:04.948Z"
   },
   {
    "duration": 5,
    "start_time": "2021-11-24T20:41:05.011Z"
   },
   {
    "duration": 32,
    "start_time": "2021-11-24T20:41:05.019Z"
   },
   {
    "duration": 51,
    "start_time": "2021-11-24T20:41:05.053Z"
   },
   {
    "duration": 30,
    "start_time": "2021-11-24T20:41:05.106Z"
   },
   {
    "duration": 118,
    "start_time": "2021-11-24T20:41:05.138Z"
   },
   {
    "duration": 113,
    "start_time": "2021-11-24T20:41:05.258Z"
   },
   {
    "duration": 78,
    "start_time": "2021-11-24T20:41:05.381Z"
   },
   {
    "duration": 68,
    "start_time": "2021-11-24T20:41:05.461Z"
   },
   {
    "duration": 4,
    "start_time": "2021-11-24T20:41:05.531Z"
   },
   {
    "duration": 46,
    "start_time": "2021-11-24T20:41:05.536Z"
   },
   {
    "duration": 58,
    "start_time": "2021-11-24T20:41:05.584Z"
   },
   {
    "duration": 13,
    "start_time": "2021-11-24T20:41:05.645Z"
   },
   {
    "duration": 15,
    "start_time": "2021-11-24T20:41:05.687Z"
   },
   {
    "duration": 6,
    "start_time": "2021-11-24T20:41:05.706Z"
   },
   {
    "duration": 24,
    "start_time": "2021-11-24T20:41:05.714Z"
   },
   {
    "duration": 54,
    "start_time": "2021-11-24T20:41:05.741Z"
   },
   {
    "duration": 20,
    "start_time": "2021-11-24T20:41:05.797Z"
   },
   {
    "duration": 20,
    "start_time": "2021-11-24T20:41:05.820Z"
   },
   {
    "duration": 57,
    "start_time": "2021-11-24T20:41:05.842Z"
   },
   {
    "duration": 18,
    "start_time": "2021-11-24T20:41:05.902Z"
   },
   {
    "duration": 8,
    "start_time": "2021-11-24T20:41:05.923Z"
   },
   {
    "duration": 21,
    "start_time": "2021-11-24T20:41:05.934Z"
   },
   {
    "duration": 25,
    "start_time": "2021-11-24T20:41:05.957Z"
   },
   {
    "duration": 5,
    "start_time": "2021-11-24T20:41:05.985Z"
   },
   {
    "duration": 30,
    "start_time": "2021-11-24T20:41:05.992Z"
   },
   {
    "duration": 16,
    "start_time": "2021-11-24T20:41:06.025Z"
   },
   {
    "duration": 44,
    "start_time": "2021-11-24T20:41:06.044Z"
   },
   {
    "duration": 23,
    "start_time": "2021-11-24T20:41:06.091Z"
   },
   {
    "duration": 73,
    "start_time": "2021-11-24T20:41:06.116Z"
   },
   {
    "duration": 5,
    "start_time": "2021-11-24T20:41:06.192Z"
   },
   {
    "duration": 11,
    "start_time": "2021-11-24T20:41:06.199Z"
   },
   {
    "duration": 5,
    "start_time": "2021-11-24T20:41:06.212Z"
   },
   {
    "duration": 8,
    "start_time": "2021-11-24T20:43:21.233Z"
   },
   {
    "duration": 11,
    "start_time": "2021-11-24T20:43:31.817Z"
   },
   {
    "duration": 5,
    "start_time": "2021-11-24T20:43:33.959Z"
   },
   {
    "duration": 5,
    "start_time": "2021-11-24T20:43:36.492Z"
   },
   {
    "duration": 544,
    "start_time": "2022-01-19T14:52:11.435Z"
   },
   {
    "duration": 137,
    "start_time": "2022-01-19T14:52:11.981Z"
   },
   {
    "duration": 17,
    "start_time": "2022-01-19T14:52:12.120Z"
   },
   {
    "duration": 28,
    "start_time": "2022-01-19T14:52:12.139Z"
   },
   {
    "duration": 5,
    "start_time": "2022-01-19T14:52:12.169Z"
   },
   {
    "duration": 40,
    "start_time": "2022-01-19T14:52:12.176Z"
   },
   {
    "duration": 8,
    "start_time": "2022-01-19T14:52:12.218Z"
   },
   {
    "duration": 25,
    "start_time": "2022-01-19T14:52:12.228Z"
   },
   {
    "duration": 17,
    "start_time": "2022-01-19T14:52:12.257Z"
   },
   {
    "duration": 24,
    "start_time": "2022-01-19T14:52:12.299Z"
   },
   {
    "duration": 59,
    "start_time": "2022-01-19T14:52:12.324Z"
   },
   {
    "duration": 82,
    "start_time": "2022-01-19T14:52:12.384Z"
   },
   {
    "duration": 64,
    "start_time": "2022-01-19T14:52:12.467Z"
   },
   {
    "duration": 40,
    "start_time": "2022-01-19T14:52:12.533Z"
   },
   {
    "duration": 3,
    "start_time": "2022-01-19T14:52:12.574Z"
   },
   {
    "duration": 24,
    "start_time": "2022-01-19T14:52:12.579Z"
   },
   {
    "duration": 41,
    "start_time": "2022-01-19T14:52:12.605Z"
   },
   {
    "duration": 10,
    "start_time": "2022-01-19T14:52:12.648Z"
   },
   {
    "duration": 10,
    "start_time": "2022-01-19T14:52:12.659Z"
   },
   {
    "duration": 29,
    "start_time": "2022-01-19T14:52:12.670Z"
   },
   {
    "duration": 21,
    "start_time": "2022-01-19T14:52:12.701Z"
   },
   {
    "duration": 14,
    "start_time": "2022-01-19T14:52:12.724Z"
   },
   {
    "duration": 21,
    "start_time": "2022-01-19T14:52:12.741Z"
   },
   {
    "duration": 40,
    "start_time": "2022-01-19T14:52:12.764Z"
   },
   {
    "duration": 18,
    "start_time": "2022-01-19T14:52:12.806Z"
   },
   {
    "duration": 13,
    "start_time": "2022-01-19T14:52:12.825Z"
   },
   {
    "duration": 6,
    "start_time": "2022-01-19T14:52:12.841Z"
   },
   {
    "duration": 15,
    "start_time": "2022-01-19T14:52:12.849Z"
   },
   {
    "duration": 32,
    "start_time": "2022-01-19T14:52:12.866Z"
   },
   {
    "duration": 4,
    "start_time": "2022-01-19T14:52:12.900Z"
   },
   {
    "duration": 24,
    "start_time": "2022-01-19T14:52:12.905Z"
   },
   {
    "duration": 12,
    "start_time": "2022-01-19T14:52:12.930Z"
   },
   {
    "duration": 16,
    "start_time": "2022-01-19T14:52:12.943Z"
   },
   {
    "duration": 38,
    "start_time": "2022-01-19T14:52:12.960Z"
   },
   {
    "duration": 7,
    "start_time": "2022-01-19T14:52:13.000Z"
   },
   {
    "duration": 3,
    "start_time": "2022-01-19T14:52:13.009Z"
   },
   {
    "duration": 8,
    "start_time": "2022-01-19T14:52:13.014Z"
   },
   {
    "duration": 3,
    "start_time": "2022-01-19T14:52:13.024Z"
   },
   {
    "duration": 891,
    "start_time": "2022-01-19T14:53:30.555Z"
   },
   {
    "duration": 826,
    "start_time": "2022-01-19T19:00:00.515Z"
   },
   {
    "duration": 321,
    "start_time": "2022-01-19T19:00:01.344Z"
   },
   {
    "duration": 1405,
    "start_time": "2022-01-19T19:00:01.669Z"
   },
   {
    "duration": 30,
    "start_time": "2022-01-19T19:00:03.078Z"
   },
   {
    "duration": 70,
    "start_time": "2022-01-19T19:00:03.111Z"
   },
   {
    "duration": 6,
    "start_time": "2022-01-19T19:00:03.183Z"
   },
   {
    "duration": 30,
    "start_time": "2022-01-19T19:00:03.192Z"
   },
   {
    "duration": 7,
    "start_time": "2022-01-19T19:00:03.228Z"
   },
   {
    "duration": 33,
    "start_time": "2022-01-19T19:00:03.261Z"
   },
   {
    "duration": 64,
    "start_time": "2022-01-19T19:00:03.297Z"
   },
   {
    "duration": 52,
    "start_time": "2022-01-19T19:00:03.365Z"
   },
   {
    "duration": 148,
    "start_time": "2022-01-19T19:00:03.420Z"
   },
   {
    "duration": 159,
    "start_time": "2022-01-19T19:00:03.571Z"
   },
   {
    "duration": 125,
    "start_time": "2022-01-19T19:00:03.734Z"
   },
   {
    "duration": 63,
    "start_time": "2022-01-19T19:00:03.862Z"
   },
   {
    "duration": 5,
    "start_time": "2022-01-19T19:00:03.928Z"
   },
   {
    "duration": 19,
    "start_time": "2022-01-19T19:00:03.961Z"
   },
   {
    "duration": 82,
    "start_time": "2022-01-19T19:00:03.984Z"
   },
   {
    "duration": 15,
    "start_time": "2022-01-19T19:00:04.068Z"
   },
   {
    "duration": 15,
    "start_time": "2022-01-19T19:00:04.086Z"
   },
   {
    "duration": 5,
    "start_time": "2022-01-19T19:00:04.103Z"
   },
   {
    "duration": 65,
    "start_time": "2022-01-19T19:00:04.110Z"
   },
   {
    "duration": 21,
    "start_time": "2022-01-19T19:00:04.180Z"
   },
   {
    "duration": 23,
    "start_time": "2022-01-19T19:00:04.205Z"
   },
   {
    "duration": 37,
    "start_time": "2022-01-19T19:00:04.259Z"
   },
   {
    "duration": 27,
    "start_time": "2022-01-19T19:00:04.299Z"
   },
   {
    "duration": 45,
    "start_time": "2022-01-19T19:00:04.330Z"
   },
   {
    "duration": 14,
    "start_time": "2022-01-19T19:00:04.378Z"
   },
   {
    "duration": 22,
    "start_time": "2022-01-19T19:00:04.396Z"
   },
   {
    "duration": 51,
    "start_time": "2022-01-19T19:00:04.422Z"
   },
   {
    "duration": 8,
    "start_time": "2022-01-19T19:00:04.476Z"
   },
   {
    "duration": 44,
    "start_time": "2022-01-19T19:00:04.487Z"
   },
   {
    "duration": 37,
    "start_time": "2022-01-19T19:00:04.534Z"
   },
   {
    "duration": 24,
    "start_time": "2022-01-19T19:00:04.574Z"
   },
   {
    "duration": 16,
    "start_time": "2022-01-19T19:00:04.601Z"
   },
   {
    "duration": 48,
    "start_time": "2022-01-19T19:00:04.619Z"
   },
   {
    "duration": 5,
    "start_time": "2022-01-19T19:00:04.670Z"
   },
   {
    "duration": 8,
    "start_time": "2022-01-19T19:00:04.678Z"
   },
   {
    "duration": 5,
    "start_time": "2022-01-19T19:00:04.689Z"
   },
   {
    "duration": 22,
    "start_time": "2022-01-19T19:00:15.459Z"
   },
   {
    "duration": 123,
    "start_time": "2022-04-15T22:07:53.343Z"
   },
   {
    "duration": 492,
    "start_time": "2022-04-15T22:07:57.062Z"
   },
   {
    "duration": 213,
    "start_time": "2022-04-15T22:07:57.556Z"
   },
   {
    "duration": 674,
    "start_time": "2022-04-15T22:07:57.771Z"
   },
   {
    "duration": 33,
    "start_time": "2022-04-15T22:07:58.449Z"
   },
   {
    "duration": 67,
    "start_time": "2022-04-15T22:07:58.484Z"
   },
   {
    "duration": 6,
    "start_time": "2022-04-15T22:07:58.553Z"
   },
   {
    "duration": 16,
    "start_time": "2022-04-15T22:07:58.562Z"
   },
   {
    "duration": 13,
    "start_time": "2022-04-15T22:07:58.580Z"
   },
   {
    "duration": 55,
    "start_time": "2022-04-15T22:07:58.596Z"
   },
   {
    "duration": 27,
    "start_time": "2022-04-15T22:07:58.655Z"
   },
   {
    "duration": 54,
    "start_time": "2022-04-15T22:07:58.684Z"
   },
   {
    "duration": 133,
    "start_time": "2022-04-15T22:07:58.740Z"
   },
   {
    "duration": 138,
    "start_time": "2022-04-15T22:07:58.876Z"
   },
   {
    "duration": 112,
    "start_time": "2022-04-15T22:07:59.016Z"
   },
   {
    "duration": 55,
    "start_time": "2022-04-15T22:07:59.130Z"
   },
   {
    "duration": 4,
    "start_time": "2022-04-15T22:07:59.187Z"
   },
   {
    "duration": 41,
    "start_time": "2022-04-15T22:07:59.193Z"
   },
   {
    "duration": 61,
    "start_time": "2022-04-15T22:07:59.236Z"
   },
   {
    "duration": 32,
    "start_time": "2022-04-15T22:07:59.299Z"
   },
   {
    "duration": 15,
    "start_time": "2022-04-15T22:07:59.334Z"
   },
   {
    "duration": 6,
    "start_time": "2022-04-15T22:07:59.351Z"
   },
   {
    "duration": 30,
    "start_time": "2022-04-15T22:07:59.359Z"
   },
   {
    "duration": 53,
    "start_time": "2022-04-15T22:07:59.391Z"
   },
   {
    "duration": 21,
    "start_time": "2022-04-15T22:07:59.446Z"
   },
   {
    "duration": 23,
    "start_time": "2022-04-15T22:07:59.470Z"
   },
   {
    "duration": 46,
    "start_time": "2022-04-15T22:07:59.495Z"
   },
   {
    "duration": 20,
    "start_time": "2022-04-15T22:07:59.543Z"
   },
   {
    "duration": 10,
    "start_time": "2022-04-15T22:07:59.568Z"
   },
   {
    "duration": 54,
    "start_time": "2022-04-15T22:07:59.580Z"
   },
   {
    "duration": 13,
    "start_time": "2022-04-15T22:07:59.636Z"
   },
   {
    "duration": 8,
    "start_time": "2022-04-15T22:07:59.651Z"
   },
   {
    "duration": 32,
    "start_time": "2022-04-15T22:07:59.661Z"
   },
   {
    "duration": 43,
    "start_time": "2022-04-15T22:07:59.696Z"
   },
   {
    "duration": 25,
    "start_time": "2022-04-15T22:07:59.741Z"
   },
   {
    "duration": 18,
    "start_time": "2022-04-15T22:07:59.768Z"
   },
   {
    "duration": 13,
    "start_time": "2022-04-15T22:07:59.826Z"
   },
   {
    "duration": 6,
    "start_time": "2022-04-15T22:07:59.842Z"
   },
   {
    "duration": 16,
    "start_time": "2022-04-15T22:07:59.851Z"
   },
   {
    "duration": 6,
    "start_time": "2022-04-15T22:07:59.870Z"
   }
  ],
  "colab": {
   "collapsed_sections": [
    "E0vqbgi9ay0H",
    "VUC88oWjTJw2"
   ],
   "name": "yandex_music_project_2021.2.ipynb",
   "provenance": []
  },
  "kernelspec": {
   "display_name": "Python 3",
   "language": "python",
   "name": "python3"
  },
  "language_info": {
   "codemirror_mode": {
    "name": "ipython",
    "version": 3
   },
   "file_extension": ".py",
   "mimetype": "text/x-python",
   "name": "python",
   "nbconvert_exporter": "python",
   "pygments_lexer": "ipython3",
   "version": "3.8.8"
  },
  "toc": {
   "base_numbering": 1,
   "nav_menu": {},
   "number_sections": true,
   "sideBar": true,
   "skip_h1_title": true,
   "title_cell": "Table of Contents",
   "title_sidebar": "Contents",
   "toc_cell": false,
   "toc_position": {
    "height": "calc(100% - 180px)",
    "left": "10px",
    "top": "150px",
    "width": "270.391px"
   },
   "toc_section_display": true,
   "toc_window_display": true
  }
 },
 "nbformat": 4,
 "nbformat_minor": 1
}
