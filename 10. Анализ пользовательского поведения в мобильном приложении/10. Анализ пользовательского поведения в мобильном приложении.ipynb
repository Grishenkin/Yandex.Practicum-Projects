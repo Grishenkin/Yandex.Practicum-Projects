{
 "cells": [
  {
   "cell_type": "markdown",
   "id": "3f06c463",
   "metadata": {},
   "source": [
    "# Сборный проект 2\n"
   ]
  },
  {
   "cell_type": "markdown",
   "id": "96475967",
   "metadata": {},
   "source": [
    "## Задачи проекта \n",
    "\n",
    "Изучите воронку продаж. Узнайте, как пользователи доходят до покупки. Сколько пользователей доходит до покупки, а сколько — «застревает» на предыдущих шагах? На каких именно?\n",
    "\n",
    "После этого исследуйте результаты A/A/B-эксперимента. Дизайнеры захотели поменять шрифты во всём приложении, а менеджеры испугались, что пользователям будет непривычно. Договорились принять решение по результатам A/A/B-теста. Пользователей разбили на 3 группы: 2 контрольные со старыми шрифтами и одну экспериментальную — с новыми. Выясните, какой шрифт лучше.\n"
   ]
  },
  {
   "cell_type": "markdown",
   "id": "733bd95a",
   "metadata": {},
   "source": [
    "## Описание данных\n",
    "\n",
    "Каждая запись в логе — это действие пользователя, или событие.\n",
    "\n",
    "EventName — название события;\n",
    "\n",
    "DeviceIDHash — уникальный идентификатор пользователя;\n",
    "\n",
    "EventTimestamp — время события;\n",
    "\n",
    "ExpId — номер эксперимента: 246 и 247 — контрольные группы, а 248 — экспериментальная."
   ]
  },
  {
   "cell_type": "code",
   "execution_count": 1,
   "id": "1135e271",
   "metadata": {},
   "outputs": [],
   "source": [
    "import pandas as pd\n",
    "import seaborn as sns\n",
    "import datetime as dt\n",
    "from datetime import timedelta\n",
    "import numpy as np\n",
    "import matplotlib.pyplot as plt\n",
    "from io import BytesIO\n",
    "import requests\n",
    "from scipy import stats as st\n",
    "import math as mth\n",
    "import warnings\n",
    "warnings.filterwarnings(\"ignore\")"
   ]
  },
  {
   "cell_type": "code",
   "execution_count": 2,
   "id": "18012e42",
   "metadata": {},
   "outputs": [],
   "source": [
    "df = pd.read_csv('/Users/aleksandrgrisenkin/Desktop/df/10. Анализ пользовательского поведения в мобильном приложении/logs_exp.csv', sep = '\\t')"
   ]
  },
  {
   "cell_type": "code",
   "execution_count": 3,
   "id": "fd9ee956",
   "metadata": {},
   "outputs": [
    {
     "name": "stdout",
     "output_type": "stream",
     "text": [
      "<class 'pandas.core.frame.DataFrame'>\n",
      "RangeIndex: 244126 entries, 0 to 244125\n",
      "Data columns (total 4 columns):\n",
      " #   Column          Non-Null Count   Dtype \n",
      "---  ------          --------------   ----- \n",
      " 0   EventName       244126 non-null  object\n",
      " 1   DeviceIDHash    244126 non-null  int64 \n",
      " 2   EventTimestamp  244126 non-null  int64 \n",
      " 3   ExpId           244126 non-null  int64 \n",
      "dtypes: int64(3), object(1)\n",
      "memory usage: 7.5+ MB\n"
     ]
    }
   ],
   "source": [
    "df.info()"
   ]
  },
  {
   "cell_type": "code",
   "execution_count": 4,
   "id": "3917bfdd",
   "metadata": {},
   "outputs": [
    {
     "data": {
      "text/html": [
       "<div>\n",
       "<style scoped>\n",
       "    .dataframe tbody tr th:only-of-type {\n",
       "        vertical-align: middle;\n",
       "    }\n",
       "\n",
       "    .dataframe tbody tr th {\n",
       "        vertical-align: top;\n",
       "    }\n",
       "\n",
       "    .dataframe thead th {\n",
       "        text-align: right;\n",
       "    }\n",
       "</style>\n",
       "<table border=\"1\" class=\"dataframe\">\n",
       "  <thead>\n",
       "    <tr style=\"text-align: right;\">\n",
       "      <th></th>\n",
       "      <th>EventName</th>\n",
       "      <th>DeviceIDHash</th>\n",
       "      <th>EventTimestamp</th>\n",
       "      <th>ExpId</th>\n",
       "    </tr>\n",
       "  </thead>\n",
       "  <tbody>\n",
       "    <tr>\n",
       "      <th>0</th>\n",
       "      <td>MainScreenAppear</td>\n",
       "      <td>4575588528974610257</td>\n",
       "      <td>1564029816</td>\n",
       "      <td>246</td>\n",
       "    </tr>\n",
       "    <tr>\n",
       "      <th>1</th>\n",
       "      <td>MainScreenAppear</td>\n",
       "      <td>7416695313311560658</td>\n",
       "      <td>1564053102</td>\n",
       "      <td>246</td>\n",
       "    </tr>\n",
       "    <tr>\n",
       "      <th>2</th>\n",
       "      <td>PaymentScreenSuccessful</td>\n",
       "      <td>3518123091307005509</td>\n",
       "      <td>1564054127</td>\n",
       "      <td>248</td>\n",
       "    </tr>\n",
       "    <tr>\n",
       "      <th>3</th>\n",
       "      <td>CartScreenAppear</td>\n",
       "      <td>3518123091307005509</td>\n",
       "      <td>1564054127</td>\n",
       "      <td>248</td>\n",
       "    </tr>\n",
       "    <tr>\n",
       "      <th>4</th>\n",
       "      <td>PaymentScreenSuccessful</td>\n",
       "      <td>6217807653094995999</td>\n",
       "      <td>1564055322</td>\n",
       "      <td>248</td>\n",
       "    </tr>\n",
       "  </tbody>\n",
       "</table>\n",
       "</div>"
      ],
      "text/plain": [
       "                 EventName         DeviceIDHash  EventTimestamp  ExpId\n",
       "0         MainScreenAppear  4575588528974610257      1564029816    246\n",
       "1         MainScreenAppear  7416695313311560658      1564053102    246\n",
       "2  PaymentScreenSuccessful  3518123091307005509      1564054127    248\n",
       "3         CartScreenAppear  3518123091307005509      1564054127    248\n",
       "4  PaymentScreenSuccessful  6217807653094995999      1564055322    248"
      ]
     },
     "execution_count": 4,
     "metadata": {},
     "output_type": "execute_result"
    }
   ],
   "source": [
    "df.head(5)"
   ]
  },
  {
   "cell_type": "code",
   "execution_count": 5,
   "id": "014ed42b",
   "metadata": {},
   "outputs": [
    {
     "data": {
      "text/plain": [
       "EventName         0%\n",
       "DeviceIDHash      0%\n",
       "EventTimestamp    0%\n",
       "ExpId             0%\n",
       "dtype: object"
      ]
     },
     "execution_count": 5,
     "metadata": {},
     "output_type": "execute_result"
    }
   ],
   "source": [
    "df.isna().mean().apply('{:.0%}'.format)"
   ]
  },
  {
   "cell_type": "markdown",
   "id": "6c9fe5ab",
   "metadata": {},
   "source": [
    "### Вывод о данных :\n",
    "\n",
    "Нужно:\n",
    "заменить названия столбцов и перевести в нижний регистр;\n",
    "\n",
    "Проверить на дубликаты;\n",
    "\n",
    "Поменять типы данных \"EventTimestamp\";\n",
    "\n"
   ]
  },
  {
   "cell_type": "code",
   "execution_count": 6,
   "id": "9d19e6cf",
   "metadata": {},
   "outputs": [],
   "source": [
    "df.columns = ['event_name', 'uid', 'timestamp_unix', 'group']"
   ]
  },
  {
   "cell_type": "code",
   "execution_count": 7,
   "id": "2cd6a0da",
   "metadata": {},
   "outputs": [
    {
     "data": {
      "text/plain": [
       "'Дубликатов в df: 413 (0.2% от общего размера df)'"
      ]
     },
     "metadata": {},
     "output_type": "display_data"
    }
   ],
   "source": [
    "display(\"Дубликатов в df: {} ({:.1%} от общего размера df)\".format(\n",
    "    df.duplicated().sum(),\n",
    "    df.duplicated().sum() / len(df)\n",
    ")\n",
    "     )"
   ]
  },
  {
   "cell_type": "markdown",
   "id": "2f5c444d",
   "metadata": {},
   "source": [
    "В df 413 дубликатов, это всего 0,2%. Можно удалить. Но обязательно передать информацию в соответсвующее подразделение."
   ]
  },
  {
   "cell_type": "code",
   "execution_count": 8,
   "id": "8072088c",
   "metadata": {},
   "outputs": [],
   "source": [
    "df.drop_duplicates(\n",
    "    inplace=True,\n",
    ")\n",
    "\n",
    "df.reset_index(\n",
    "    inplace=True, \n",
    "    drop=True\n",
    ")"
   ]
  },
  {
   "cell_type": "markdown",
   "id": "b7c3b94e",
   "metadata": {},
   "source": [
    "#### Добавьте столбец даты и времени, а также отдельный столбец дат;\n"
   ]
  },
  {
   "cell_type": "code",
   "execution_count": 9,
   "id": "02d6f203",
   "metadata": {},
   "outputs": [],
   "source": [
    "df['timestamp_unix'] = pd.to_datetime(\n",
    "    df['timestamp_unix'],\n",
    "    unit='s'\n",
    ")"
   ]
  },
  {
   "cell_type": "code",
   "execution_count": 10,
   "id": "5553c55a",
   "metadata": {},
   "outputs": [],
   "source": [
    "df['timestamp'] = df['timestamp_unix'] + pd.Timedelta(hours=3) "
   ]
  },
  {
   "cell_type": "code",
   "execution_count": 11,
   "id": "e18c26c0",
   "metadata": {},
   "outputs": [],
   "source": [
    "df['date'] = df['timestamp'].astype('datetime64[D]')"
   ]
  },
  {
   "cell_type": "code",
   "execution_count": 12,
   "id": "5c94f4ac",
   "metadata": {},
   "outputs": [
    {
     "name": "stdout",
     "output_type": "stream",
     "text": [
      "<class 'pandas.core.frame.DataFrame'>\n",
      "RangeIndex: 243713 entries, 0 to 243712\n",
      "Data columns (total 6 columns):\n",
      " #   Column          Non-Null Count   Dtype         \n",
      "---  ------          --------------   -----         \n",
      " 0   event_name      243713 non-null  object        \n",
      " 1   uid             243713 non-null  int64         \n",
      " 2   timestamp_unix  243713 non-null  datetime64[ns]\n",
      " 3   group           243713 non-null  int64         \n",
      " 4   timestamp       243713 non-null  datetime64[ns]\n",
      " 5   date            243713 non-null  datetime64[ns]\n",
      "dtypes: datetime64[ns](3), int64(2), object(1)\n",
      "memory usage: 11.2+ MB\n"
     ]
    }
   ],
   "source": [
    "df.info()"
   ]
  },
  {
   "cell_type": "code",
   "execution_count": 13,
   "id": "21b97f19",
   "metadata": {},
   "outputs": [
    {
     "data": {
      "text/html": [
       "<div>\n",
       "<style scoped>\n",
       "    .dataframe tbody tr th:only-of-type {\n",
       "        vertical-align: middle;\n",
       "    }\n",
       "\n",
       "    .dataframe tbody tr th {\n",
       "        vertical-align: top;\n",
       "    }\n",
       "\n",
       "    .dataframe thead th {\n",
       "        text-align: right;\n",
       "    }\n",
       "</style>\n",
       "<table border=\"1\" class=\"dataframe\">\n",
       "  <thead>\n",
       "    <tr style=\"text-align: right;\">\n",
       "      <th></th>\n",
       "      <th>event_name</th>\n",
       "      <th>uid</th>\n",
       "      <th>timestamp_unix</th>\n",
       "      <th>group</th>\n",
       "      <th>timestamp</th>\n",
       "      <th>date</th>\n",
       "    </tr>\n",
       "  </thead>\n",
       "  <tbody>\n",
       "    <tr>\n",
       "      <th>0</th>\n",
       "      <td>MainScreenAppear</td>\n",
       "      <td>4575588528974610257</td>\n",
       "      <td>2019-07-25 04:43:36</td>\n",
       "      <td>246</td>\n",
       "      <td>2019-07-25 07:43:36</td>\n",
       "      <td>2019-07-25</td>\n",
       "    </tr>\n",
       "    <tr>\n",
       "      <th>1</th>\n",
       "      <td>MainScreenAppear</td>\n",
       "      <td>7416695313311560658</td>\n",
       "      <td>2019-07-25 11:11:42</td>\n",
       "      <td>246</td>\n",
       "      <td>2019-07-25 14:11:42</td>\n",
       "      <td>2019-07-25</td>\n",
       "    </tr>\n",
       "    <tr>\n",
       "      <th>2</th>\n",
       "      <td>PaymentScreenSuccessful</td>\n",
       "      <td>3518123091307005509</td>\n",
       "      <td>2019-07-25 11:28:47</td>\n",
       "      <td>248</td>\n",
       "      <td>2019-07-25 14:28:47</td>\n",
       "      <td>2019-07-25</td>\n",
       "    </tr>\n",
       "    <tr>\n",
       "      <th>3</th>\n",
       "      <td>CartScreenAppear</td>\n",
       "      <td>3518123091307005509</td>\n",
       "      <td>2019-07-25 11:28:47</td>\n",
       "      <td>248</td>\n",
       "      <td>2019-07-25 14:28:47</td>\n",
       "      <td>2019-07-25</td>\n",
       "    </tr>\n",
       "    <tr>\n",
       "      <th>4</th>\n",
       "      <td>PaymentScreenSuccessful</td>\n",
       "      <td>6217807653094995999</td>\n",
       "      <td>2019-07-25 11:48:42</td>\n",
       "      <td>248</td>\n",
       "      <td>2019-07-25 14:48:42</td>\n",
       "      <td>2019-07-25</td>\n",
       "    </tr>\n",
       "  </tbody>\n",
       "</table>\n",
       "</div>"
      ],
      "text/plain": [
       "                event_name                  uid      timestamp_unix  group  \\\n",
       "0         MainScreenAppear  4575588528974610257 2019-07-25 04:43:36    246   \n",
       "1         MainScreenAppear  7416695313311560658 2019-07-25 11:11:42    246   \n",
       "2  PaymentScreenSuccessful  3518123091307005509 2019-07-25 11:28:47    248   \n",
       "3         CartScreenAppear  3518123091307005509 2019-07-25 11:28:47    248   \n",
       "4  PaymentScreenSuccessful  6217807653094995999 2019-07-25 11:48:42    248   \n",
       "\n",
       "            timestamp       date  \n",
       "0 2019-07-25 07:43:36 2019-07-25  \n",
       "1 2019-07-25 14:11:42 2019-07-25  \n",
       "2 2019-07-25 14:28:47 2019-07-25  \n",
       "3 2019-07-25 14:28:47 2019-07-25  \n",
       "4 2019-07-25 14:48:42 2019-07-25  "
      ]
     },
     "execution_count": 13,
     "metadata": {},
     "output_type": "execute_result"
    }
   ],
   "source": [
    "df.head(5)"
   ]
  },
  {
   "cell_type": "markdown",
   "id": "c1940c4c",
   "metadata": {},
   "source": [
    "#### Сколько всего событий в логе?\n"
   ]
  },
  {
   "cell_type": "code",
   "execution_count": 14,
   "id": "010576f6",
   "metadata": {},
   "outputs": [
    {
     "data": {
      "text/plain": [
       "'Всего событий 243713, типов событий 5.'"
      ]
     },
     "metadata": {},
     "output_type": "display_data"
    }
   ],
   "source": [
    "display('Всего событий %d, типов событий %d.' % (df.shape[0], df['event_name'].nunique()))"
   ]
  },
  {
   "cell_type": "code",
   "execution_count": 15,
   "id": "6d1ed1a4",
   "metadata": {},
   "outputs": [
    {
     "data": {
      "text/plain": [
       "event_name\n",
       "MainScreenAppear           119101\n",
       "OffersScreenAppear          46808\n",
       "CartScreenAppear            42668\n",
       "PaymentScreenSuccessful     34118\n",
       "Tutorial                     1018\n",
       "Name: date, dtype: int64"
      ]
     },
     "execution_count": 15,
     "metadata": {},
     "output_type": "execute_result"
    }
   ],
   "source": [
    "df.groupby('event_name')['date'].count().sort_values(ascending=False)"
   ]
  },
  {
   "cell_type": "markdown",
   "id": "de931d8f",
   "metadata": {},
   "source": [
    "Назначение события\n",
    "\n",
    "MainScreenAppear - \"Появился Главный Экран\"\n",
    "\n",
    "PaymentScreenSuccessful - \"Экран Оплаты Прошел Успешно\"\n",
    "\n",
    "CartScreenAppear - \"Появился Экран Корзины\"\n",
    "\n",
    "OffersScreenAppear - \"Появился Экран Предложений\"\n",
    "\n",
    "Tutorial - \"Руководство\"\n",
    "\n",
    "Пользователь открыл главный экран - Открыл экран предложений - Открыл экран корзины - Экран оплаты прошел успешно. В руководство можно (скорее всего) перейти с любого этапа.\n",
    "\n",
    "Всего 5 событий. MainScreenAppear - больше всего событий."
   ]
  },
  {
   "cell_type": "markdown",
   "id": "772a1a70",
   "metadata": {},
   "source": [
    "#### Сколько всего пользователей в логе?"
   ]
  },
  {
   "cell_type": "code",
   "execution_count": 16,
   "id": "3f69180d",
   "metadata": {},
   "outputs": [
    {
     "data": {
      "text/plain": [
       "'Всего пользователей в логе 7551.'"
      ]
     },
     "metadata": {},
     "output_type": "display_data"
    }
   ],
   "source": [
    "display('Всего пользователей в логе %d.' % (df['uid'].nunique()))"
   ]
  },
  {
   "cell_type": "markdown",
   "id": "f6fde51e",
   "metadata": {},
   "source": [
    "#### Сколько в среднем событий приходится на пользователя?"
   ]
  },
  {
   "cell_type": "code",
   "execution_count": 17,
   "id": "45b3e959",
   "metadata": {
    "scrolled": true
   },
   "outputs": [
    {
     "data": {
      "text/plain": [
       "'В среднем событий на пользователя 32.'"
      ]
     },
     "metadata": {},
     "output_type": "display_data"
    }
   ],
   "source": [
    "display('В среднем событий на пользователя %d.' % (df.shape[0] / df['uid'].nunique()))"
   ]
  },
  {
   "cell_type": "code",
   "execution_count": 18,
   "id": "823d1332",
   "metadata": {},
   "outputs": [
    {
     "data": {
      "text/plain": [
       "'Медианное количество событий  на пользователя 20.'"
      ]
     },
     "metadata": {},
     "output_type": "display_data"
    }
   ],
   "source": [
    "display('Медианное количество событий  на пользователя %d.' % (df.groupby('uid')['event_name'].count().median()))"
   ]
  },
  {
   "cell_type": "markdown",
   "id": "3feed43c",
   "metadata": {},
   "source": [
    "#### Данными за какой период вы располагаете? Найдите максимальную и минимальную дату. Постройте гистограмму по дате и времени. Данными за какой период времени вы располагаете на самом деле?"
   ]
  },
  {
   "cell_type": "code",
   "execution_count": 19,
   "id": "01e2a24c",
   "metadata": {},
   "outputs": [],
   "source": [
    "df_logs_exp_period = df['timestamp'].describe()"
   ]
  },
  {
   "cell_type": "code",
   "execution_count": 20,
   "id": "c97c4af5",
   "metadata": {},
   "outputs": [
    {
     "name": "stdout",
     "output_type": "stream",
     "text": [
      "Анализ периода выгрузки лога.\n",
      "Минимальная дата: 25.07.2019 \n",
      "Максимальная дата: 08.08.2019 \n",
      "Период: 13.7 дней \n",
      "\n"
     ]
    }
   ],
   "source": [
    "print('Анализ периода выгрузки лога.')\n",
    "print(\"Минимальная дата: {:%d.%m.%Y} \\n\\\n",
    "Максимальная дата: {:%d.%m.%Y} \\n\\\n",
    "Период: {:.1f} дней \\n\\\n",
    "\".format(\n",
    "    df_logs_exp_period['first'],\n",
    "    df_logs_exp_period['last'],\n",
    "    (df_logs_exp_period['last'] - df_logs_exp_period['first']) / np.timedelta64(1, 'D')\n",
    "    \n",
    "))"
   ]
  },
  {
   "cell_type": "code",
   "execution_count": 21,
   "id": "dbc333cf",
   "metadata": {},
   "outputs": [
    {
     "data": {
      "image/png": "[encoded data removed]",
      "text/plain": [
       "<Figure size 432x288 with 1 Axes>"
      ]
     },
     "metadata": {
      "needs_background": "light"
     },
     "output_type": "display_data"
    }
   ],
   "source": [
    "plt.hist(df['date'], bins=14)\n",
    "plt.xticks(rotation = 40)\n",
    "plt.xlabel('Даты')\n",
    "plt.ylabel('Количество')\n",
    "\n",
    "plt.title('Количество событий в логах')\n",
    "\n",
    "plt.show()"
   ]
  },
  {
   "cell_type": "code",
   "execution_count": 22,
   "id": "bdd9c407",
   "metadata": {},
   "outputs": [
    {
     "data": {
      "text/plain": [
       "date\n",
       "2019-07-25        9\n",
       "2019-07-26       30\n",
       "2019-07-27       55\n",
       "2019-07-28      104\n",
       "2019-07-29      181\n",
       "2019-07-30      397\n",
       "2019-07-31     1213\n",
       "2019-08-01    35767\n",
       "2019-08-02    35571\n",
       "2019-08-03    33602\n",
       "2019-08-04    32583\n",
       "2019-08-05    36075\n",
       "2019-08-06    36270\n",
       "2019-08-07    31788\n",
       "2019-08-08       68\n",
       "Name: uid, dtype: int64"
      ]
     },
     "execution_count": 22,
     "metadata": {},
     "output_type": "execute_result"
    }
   ],
   "source": [
    "df.groupby('date')['uid'].count()"
   ]
  },
  {
   "cell_type": "markdown",
   "id": "bed683b3",
   "metadata": {},
   "source": [
    "Проанализировав график можно сделать вывод, что количество событий июля и августа сильно отличаются.\n",
    "\n",
    "Исходя из вышеизложенного оставляем 7 дней августа с 2019-08-01 по 2019-08-07."
   ]
  },
  {
   "cell_type": "markdown",
   "id": "e9169519",
   "metadata": {},
   "source": [
    "#### Много ли событий и пользователей вы потеряли, отбросив старые данные?"
   ]
  },
  {
   "cell_type": "code",
   "execution_count": 23,
   "id": "c9626d79",
   "metadata": {},
   "outputs": [],
   "source": [
    "df_filter = df[(df['date'] >= '2019-08-01')&(df['date'] < '2019-08-08')]"
   ]
  },
  {
   "cell_type": "code",
   "execution_count": 24,
   "id": "3e2beea3",
   "metadata": {},
   "outputs": [
    {
     "data": {
      "text/plain": [
       "date\n",
       "2019-08-01    35767\n",
       "2019-08-02    35571\n",
       "2019-08-03    33602\n",
       "2019-08-04    32583\n",
       "2019-08-05    36075\n",
       "2019-08-06    36270\n",
       "2019-08-07    31788\n",
       "Name: uid, dtype: int64"
      ]
     },
     "execution_count": 24,
     "metadata": {},
     "output_type": "execute_result"
    }
   ],
   "source": [
    "df_filter.groupby('date')['uid'].count()"
   ]
  },
  {
   "cell_type": "code",
   "execution_count": 25,
   "id": "18cb126e",
   "metadata": {},
   "outputs": [
    {
     "name": "stdout",
     "output_type": "stream",
     "text": [
      "Отрезал 2057 строк в данных. Остались данные за период с 01.08.2019 по 07.08.2019. Всего 6.0 дней\n"
     ]
    }
   ],
   "source": [
    "print('Отрезал {} строк в данных. Остались данные за период с {:%d.%m.%Y} по {:%d.%m.%Y}. Всего {:.1f} дней'.format(\n",
    "    df.shape[0] - df_filter.shape[0], \n",
    "    df_filter['date'].min(), \n",
    "    df_filter['date'].max(),\n",
    "    (df_filter['date'].max() - df_filter['date'].min())// np.timedelta64(1, 'D')\n",
    "        )\n",
    "     )"
   ]
  },
  {
   "cell_type": "code",
   "execution_count": 26,
   "id": "d1678316",
   "metadata": {},
   "outputs": [
    {
     "data": {
      "text/plain": [
       "'Всего событий после среза 241656, типов событий 5.'"
      ]
     },
     "metadata": {},
     "output_type": "display_data"
    }
   ],
   "source": [
    "display('Всего событий после среза %d, типов событий %d.' % (df_filter.shape[0], df_filter['event_name'].nunique()))"
   ]
  },
  {
   "cell_type": "code",
   "execution_count": 27,
   "id": "15fdc44b",
   "metadata": {},
   "outputs": [
    {
     "data": {
      "text/plain": [
       "'Всего пользователей в после среза 7538.'"
      ]
     },
     "metadata": {},
     "output_type": "display_data"
    }
   ],
   "source": [
    "display('Всего пользователей в после среза %d.' % (df_filter['uid'].nunique()))"
   ]
  },
  {
   "cell_type": "markdown",
   "id": "69503561",
   "metadata": {},
   "source": [
    "### Вывод \n",
    "\n",
    "Отбросив старые данные мы потеряли, 2148 событий и 13 пользователей, это менее 1%. \n"
   ]
  },
  {
   "cell_type": "markdown",
   "id": "71ed2112",
   "metadata": {},
   "source": [
    "#### Посмотрите, какие события есть в логах, как часто они встречаются. Отсортируйте события по частоте.\n"
   ]
  },
  {
   "cell_type": "code",
   "execution_count": 28,
   "id": "9c61e6cc",
   "metadata": {},
   "outputs": [
    {
     "data": {
      "text/plain": [
       "event_name\n",
       "MainScreenAppear           117850\n",
       "OffersScreenAppear          46509\n",
       "CartScreenAppear            42338\n",
       "PaymentScreenSuccessful     33949\n",
       "Tutorial                     1010\n",
       "Name: uid, dtype: int64"
      ]
     },
     "execution_count": 28,
     "metadata": {},
     "output_type": "execute_result"
    }
   ],
   "source": [
    "df_filter.groupby('event_name')['uid'].count().sort_values(ascending=False)"
   ]
  },
  {
   "cell_type": "markdown",
   "id": "c2cd3701",
   "metadata": {},
   "source": [
    "#### Посчитайте, сколько пользователей совершали каждое из этих событий. Отсортируйте события по числу пользователей. Посчитайте долю пользователей, которые хоть раз совершали событие."
   ]
  },
  {
   "cell_type": "code",
   "execution_count": 29,
   "id": "b4c87058",
   "metadata": {},
   "outputs": [],
   "source": [
    "users_funnel = df_filter.groupby('event_name').agg({'uid': 'nunique'}).sort_values(by='uid',ascending=False).reset_index()"
   ]
  },
  {
   "cell_type": "code",
   "execution_count": 30,
   "id": "bfad7feb",
   "metadata": {},
   "outputs": [
    {
     "data": {
      "text/html": [
       "<div>\n",
       "<style scoped>\n",
       "    .dataframe tbody tr th:only-of-type {\n",
       "        vertical-align: middle;\n",
       "    }\n",
       "\n",
       "    .dataframe tbody tr th {\n",
       "        vertical-align: top;\n",
       "    }\n",
       "\n",
       "    .dataframe thead th {\n",
       "        text-align: right;\n",
       "    }\n",
       "</style>\n",
       "<table border=\"1\" class=\"dataframe\">\n",
       "  <thead>\n",
       "    <tr style=\"text-align: right;\">\n",
       "      <th></th>\n",
       "      <th>event_name</th>\n",
       "      <th>uid</th>\n",
       "    </tr>\n",
       "  </thead>\n",
       "  <tbody>\n",
       "    <tr>\n",
       "      <th>0</th>\n",
       "      <td>MainScreenAppear</td>\n",
       "      <td>7423</td>\n",
       "    </tr>\n",
       "    <tr>\n",
       "      <th>1</th>\n",
       "      <td>OffersScreenAppear</td>\n",
       "      <td>4596</td>\n",
       "    </tr>\n",
       "    <tr>\n",
       "      <th>2</th>\n",
       "      <td>CartScreenAppear</td>\n",
       "      <td>3736</td>\n",
       "    </tr>\n",
       "    <tr>\n",
       "      <th>3</th>\n",
       "      <td>PaymentScreenSuccessful</td>\n",
       "      <td>3540</td>\n",
       "    </tr>\n",
       "    <tr>\n",
       "      <th>4</th>\n",
       "      <td>Tutorial</td>\n",
       "      <td>843</td>\n",
       "    </tr>\n",
       "  </tbody>\n",
       "</table>\n",
       "</div>"
      ],
      "text/plain": [
       "                event_name   uid\n",
       "0         MainScreenAppear  7423\n",
       "1       OffersScreenAppear  4596\n",
       "2         CartScreenAppear  3736\n",
       "3  PaymentScreenSuccessful  3540\n",
       "4                 Tutorial   843"
      ]
     },
     "execution_count": 30,
     "metadata": {},
     "output_type": "execute_result"
    }
   ],
   "source": [
    "users_funnel"
   ]
  },
  {
   "cell_type": "code",
   "execution_count": 31,
   "id": "776032c1",
   "metadata": {},
   "outputs": [],
   "source": [
    "users_funnel['total_%'] =round( users_funnel['uid']*100 / df_filter['uid'].nunique())"
   ]
  },
  {
   "cell_type": "code",
   "execution_count": 32,
   "id": "bea48ce9",
   "metadata": {},
   "outputs": [
    {
     "data": {
      "text/html": [
       "<div>\n",
       "<style scoped>\n",
       "    .dataframe tbody tr th:only-of-type {\n",
       "        vertical-align: middle;\n",
       "    }\n",
       "\n",
       "    .dataframe tbody tr th {\n",
       "        vertical-align: top;\n",
       "    }\n",
       "\n",
       "    .dataframe thead th {\n",
       "        text-align: right;\n",
       "    }\n",
       "</style>\n",
       "<table border=\"1\" class=\"dataframe\">\n",
       "  <thead>\n",
       "    <tr style=\"text-align: right;\">\n",
       "      <th></th>\n",
       "      <th>event_name</th>\n",
       "      <th>uid</th>\n",
       "      <th>total_%</th>\n",
       "    </tr>\n",
       "  </thead>\n",
       "  <tbody>\n",
       "    <tr>\n",
       "      <th>0</th>\n",
       "      <td>MainScreenAppear</td>\n",
       "      <td>7423</td>\n",
       "      <td>98.0</td>\n",
       "    </tr>\n",
       "    <tr>\n",
       "      <th>1</th>\n",
       "      <td>OffersScreenAppear</td>\n",
       "      <td>4596</td>\n",
       "      <td>61.0</td>\n",
       "    </tr>\n",
       "    <tr>\n",
       "      <th>2</th>\n",
       "      <td>CartScreenAppear</td>\n",
       "      <td>3736</td>\n",
       "      <td>50.0</td>\n",
       "    </tr>\n",
       "    <tr>\n",
       "      <th>3</th>\n",
       "      <td>PaymentScreenSuccessful</td>\n",
       "      <td>3540</td>\n",
       "      <td>47.0</td>\n",
       "    </tr>\n",
       "    <tr>\n",
       "      <th>4</th>\n",
       "      <td>Tutorial</td>\n",
       "      <td>843</td>\n",
       "      <td>11.0</td>\n",
       "    </tr>\n",
       "  </tbody>\n",
       "</table>\n",
       "</div>"
      ],
      "text/plain": [
       "                event_name   uid  total_%\n",
       "0         MainScreenAppear  7423     98.0\n",
       "1       OffersScreenAppear  4596     61.0\n",
       "2         CartScreenAppear  3736     50.0\n",
       "3  PaymentScreenSuccessful  3540     47.0\n",
       "4                 Tutorial   843     11.0"
      ]
     },
     "execution_count": 32,
     "metadata": {},
     "output_type": "execute_result"
    }
   ],
   "source": [
    "users_funnel"
   ]
  },
  {
   "cell_type": "markdown",
   "id": "c9cc35f0",
   "metadata": {},
   "source": [
    "#### Предположите, в каком порядке происходят события. Все ли они выстраиваются в последовательную цепочку? Их не нужно учитывать при расчёте воронки."
   ]
  },
  {
   "cell_type": "markdown",
   "id": "9750deb5",
   "metadata": {},
   "source": [
    "События выстраиваються в последовательную цепочку. Похоже на воронку продаж. Надо понимать, что в Tutorial можно попасть с любой страници."
   ]
  },
  {
   "cell_type": "markdown",
   "id": "6658c7d5",
   "metadata": {},
   "source": [
    "#### По воронке событий посчитайте, какая доля пользователей проходит на следующий шаг воронки (от числа пользователей на предыдущем)."
   ]
  },
  {
   "cell_type": "code",
   "execution_count": 33,
   "id": "05fdb099",
   "metadata": {},
   "outputs": [],
   "source": [
    "users_funnel['funnel_%'] = (users_funnel.uid.pct_change() + 1)*100"
   ]
  },
  {
   "cell_type": "code",
   "execution_count": 34,
   "id": "5b153796",
   "metadata": {},
   "outputs": [],
   "source": [
    "users_funnel = users_funnel.query('event_name != \"Tutorial\"')\n"
   ]
  },
  {
   "cell_type": "code",
   "execution_count": 35,
   "id": "dc469cfa",
   "metadata": {},
   "outputs": [
    {
     "data": {
      "image/png": "[encoded data removed]",
      "text/plain": [
       "<Figure size 432x288 with 1 Axes>"
      ]
     },
     "metadata": {
      "needs_background": "light"
     },
     "output_type": "display_data"
    }
   ],
   "source": [
    "sns.barplot(x='uid', y='event_name', data=users_funnel, color='blue') \n",
    "\n",
    "plt.xlabel('Количество')\n",
    "plt.ylabel('События')\n",
    "plt.title('Воронка событий приложения')\n",
    "\n",
    "plt.show()"
   ]
  },
  {
   "cell_type": "markdown",
   "id": "b5c90d31",
   "metadata": {},
   "source": [
    "Хорошая конверсия почти 50% процентов доходят до \"экрана оплаты\". \\\n",
    "Переход по шагам пользователей высокий. С каждым шагом процент перехода увеличиваеться. Видимо продукты питания нравятсья пользователям. \n",
    "\n",
    "Болше всего пользователей теряем на первом этапе почти 40%. Далее с каждым шагом конверсия увеличиваеться. До экрана оплаты доходит 47% пользователей.\n"
   ]
  },
  {
   "cell_type": "markdown",
   "id": "fbc48b70",
   "metadata": {},
   "source": [
    "#### Сколько пользователей в каждой экспериментальной группе?"
   ]
  },
  {
   "cell_type": "code",
   "execution_count": 36,
   "id": "f54f1fa4",
   "metadata": {},
   "outputs": [
    {
     "data": {
      "text/html": [
       "<div>\n",
       "<style scoped>\n",
       "    .dataframe tbody tr th:only-of-type {\n",
       "        vertical-align: middle;\n",
       "    }\n",
       "\n",
       "    .dataframe tbody tr th {\n",
       "        vertical-align: top;\n",
       "    }\n",
       "\n",
       "    .dataframe thead th {\n",
       "        text-align: right;\n",
       "    }\n",
       "</style>\n",
       "<table border=\"1\" class=\"dataframe\">\n",
       "  <thead>\n",
       "    <tr style=\"text-align: right;\">\n",
       "      <th>event_name</th>\n",
       "      <th>group</th>\n",
       "      <th>CartScreenAppear</th>\n",
       "      <th>MainScreenAppear</th>\n",
       "      <th>OffersScreenAppear</th>\n",
       "      <th>PaymentScreenSuccessful</th>\n",
       "      <th>Tutorial</th>\n",
       "    </tr>\n",
       "  </thead>\n",
       "  <tbody>\n",
       "    <tr>\n",
       "      <th>0</th>\n",
       "      <td>246</td>\n",
       "      <td>1266</td>\n",
       "      <td>2450</td>\n",
       "      <td>1542</td>\n",
       "      <td>1200</td>\n",
       "      <td>278</td>\n",
       "    </tr>\n",
       "    <tr>\n",
       "      <th>1</th>\n",
       "      <td>247</td>\n",
       "      <td>1239</td>\n",
       "      <td>2479</td>\n",
       "      <td>1523</td>\n",
       "      <td>1158</td>\n",
       "      <td>284</td>\n",
       "    </tr>\n",
       "    <tr>\n",
       "      <th>2</th>\n",
       "      <td>248</td>\n",
       "      <td>1231</td>\n",
       "      <td>2494</td>\n",
       "      <td>1531</td>\n",
       "      <td>1182</td>\n",
       "      <td>281</td>\n",
       "    </tr>\n",
       "  </tbody>\n",
       "</table>\n",
       "</div>"
      ],
      "text/plain": [
       "event_name  group  CartScreenAppear  MainScreenAppear  OffersScreenAppear  \\\n",
       "0             246              1266              2450                1542   \n",
       "1             247              1239              2479                1523   \n",
       "2             248              1231              2494                1531   \n",
       "\n",
       "event_name  PaymentScreenSuccessful  Tutorial  \n",
       "0                              1200       278  \n",
       "1                              1158       284  \n",
       "2                              1182       281  "
      ]
     },
     "execution_count": 36,
     "metadata": {},
     "output_type": "execute_result"
    }
   ],
   "source": [
    "users_events = df_filter.pivot_table(index='group', columns='event_name', values = 'uid', aggfunc = 'nunique').reset_index()\n",
    "users_events"
   ]
  },
  {
   "cell_type": "code",
   "execution_count": 37,
   "id": "b87c7b0f",
   "metadata": {},
   "outputs": [],
   "source": [
    "users_count = df_filter.groupby('group')['uid'].nunique()\n",
    "users_events['count'] = users_events['group'].apply(lambda x: users_count.loc[x])\n",
    "users_events = users_events.set_index('group')"
   ]
  },
  {
   "cell_type": "code",
   "execution_count": 38,
   "id": "8fe08f85",
   "metadata": {},
   "outputs": [
    {
     "name": "stdout",
     "output_type": "stream",
     "text": [
      "Количество пользователей:\n",
      " в контрольных группе 246 - 2484,\n",
      " в контрольных группе 247 - 2517,\n",
      " в экспериментальной группе 248 - 2537\n",
      "\n",
      "Группа 247 больше группы 246 на 1.31 процентов\n",
      "\n",
      "Группа 248 больше группы 246 на 2.09 процентов\n",
      "\n",
      "Группа 248 больше группы 247 на 0.79 процентов\n"
     ]
    }
   ],
   "source": [
    "group_246 = df_filter.loc[df_filter['group'] == 246]\n",
    "users_count_246 = group_246.groupby('uid').agg({'uid': 'nunique'}).count().sum() \n",
    "group_247 = df_filter.loc[df_filter['group'] == 247]\n",
    "users_count_247 = group_247.groupby('uid').agg({'uid': 'nunique'}).count().sum()\n",
    "group_248 = df_filter.loc[df_filter['group'] == 248]\n",
    "users_count_248 = group_248.groupby('uid').agg({'uid': 'nunique'}).count().sum()\n",
    "total_user = df_filter.groupby('uid').agg({'uid': 'nunique'}).sum()\n",
    "\n",
    "print('Количество пользователей:' \n",
    "      '\\n в контрольных группе 246 - {},'     \n",
    "      '\\n в контрольных группе 247 - {},' \n",
    "      '\\n в экспериментальной группе 248 - {}'\n",
    "      .format(users_count_246, users_count_247, users_count_248))\n",
    "print()\n",
    "print('Группа 247 больше группы 246 на {:3.2f} процентов'.format(100 - users_count_246 * 100 / users_count_247))\n",
    "print()\n",
    "print('Группа 248 больше группы 246 на {:3.2f} процентов'.format(100 - users_count_246 * 100 / users_count_248))\n",
    "print()\n",
    "print('Группа 248 больше группы 247 на {:3.2f} процентов'.format(100 - users_count_247 * 100 / users_count_248))"
   ]
  },
  {
   "cell_type": "code",
   "execution_count": 39,
   "id": "a7e0f1ee",
   "metadata": {},
   "outputs": [
    {
     "name": "stdout",
     "output_type": "stream",
     "text": [
      "Количество пользователей пересекающихся группы 246 с 247 -  0\n",
      "Количество пользователей пересекающихся группы 247 с 246 -  0\n",
      "Количество пользователей пересекающихся группы 248 с 246 -  0\n"
     ]
    }
   ],
   "source": [
    "print('Количество пользователей пересекающихся группы 246 с 247 - ', \n",
    "      group_246[group_246['uid'].isin(group_247['uid'])].shape[0])\n",
    "\n",
    "print('Количество пользователей пересекающихся группы 247 с 246 - ', \n",
    "    group_248[group_248['uid'].isin(group_246['uid'])].shape[0])\n",
    "\n",
    "print('Количество пользователей пересекающихся группы 248 с 246 - ', \n",
    "    group_248[group_248['uid'].isin(group_247['uid'])].shape[0])\n"
   ]
  },
  {
   "cell_type": "markdown",
   "id": "232df3d2",
   "metadata": {},
   "source": [
    "В контрольных группах нет пересекающихся пользвоателей"
   ]
  },
  {
   "cell_type": "code",
   "execution_count": 40,
   "id": "51b2c00b",
   "metadata": {},
   "outputs": [],
   "source": [
    "alpha = 0.05"
   ]
  },
  {
   "cell_type": "code",
   "execution_count": 41,
   "id": "acc75272",
   "metadata": {},
   "outputs": [],
   "source": [
    "list_group = ['246', '247']\n",
    "list_event = ['CartScreenAppear', 'MainScreenAppear', ]\n"
   ]
  },
  {
   "cell_type": "code",
   "execution_count": 42,
   "id": "ff49530f",
   "metadata": {},
   "outputs": [],
   "source": [
    "def z_test(count_success1, count_success2, total_group1, total_group2):\n",
    "\n",
    "\n",
    "    # пропорция успехов в первой группе:\n",
    "    p1 = count_success1 / total_group1\n",
    "    # пропорция успехов во второй группе:\n",
    "    p2 = count_success2 / total_group2\n",
    "    # пропорция успехов в комбинированном датасете:\n",
    "    p_combined = (count_success1 + count_success2) / (total_group1 + total_group2)\n",
    "    # разница пропорций в датасетах\n",
    "    difference = p1 - p2     \n",
    "    \n",
    "    # считаем статистику в ст.отклонениях стандартного нормального распределения\n",
    "    z_value = difference / mth.sqrt(\n",
    "        p_combined * (1 - p_combined) * (1 / total_group1 + 1 / total_group2)\n",
    "    )\n",
    "\n",
    "    # задаем стандартное нормальное распределение (среднее 0, ст.отклонение 1)\n",
    "    distr = st.norm(0, 1)\n",
    "\n",
    "    p_value = (1 - distr.cdf(abs(z_value))) * 2    \n",
    "\n",
    "\n",
    "    result = {\n",
    "        'difference': difference,\n",
    "        'z_value': z_value,\n",
    "        'p_value': p_value,\n",
    "        }  \n",
    "   \n",
    "    return result"
   ]
  },
  {
   "cell_type": "markdown",
   "id": "360a7cb8",
   "metadata": {},
   "source": [
    "Сформулируем гипотезы:\\\n",
    "**Нулевая гипотеза:** доли пользователей в группах 246 и 248, для всех событий одинаковые.\\\n",
    "**Альтернативная гипотеза:** доли пользователей в группах 246 и 248, для всех событий различаются.\n",
    "\n",
    "**Нулевая гипотеза:** доли пользователей в группах 247 и 248, для всех событий одинаковые.\\\n",
    "**Альтернативная гипотеза:** доли пользователей в группах 247 и 248, для всех событий различаются."
   ]
  },
  {
   "cell_type": "code",
   "execution_count": 46,
   "id": "624aa679",
   "metadata": {},
   "outputs": [
    {
     "data": {
      "text/html": [
       "<div>\n",
       "<style scoped>\n",
       "    .dataframe tbody tr th:only-of-type {\n",
       "        vertical-align: middle;\n",
       "    }\n",
       "\n",
       "    .dataframe tbody tr th {\n",
       "        vertical-align: top;\n",
       "    }\n",
       "\n",
       "    .dataframe thead th {\n",
       "        text-align: right;\n",
       "    }\n",
       "</style>\n",
       "<table border=\"1\" class=\"dataframe\">\n",
       "  <thead>\n",
       "    <tr style=\"text-align: right;\">\n",
       "      <th>event_name</th>\n",
       "      <th>CartScreenAppear</th>\n",
       "      <th>MainScreenAppear</th>\n",
       "      <th>OffersScreenAppear</th>\n",
       "      <th>PaymentScreenSuccessful</th>\n",
       "      <th>Tutorial</th>\n",
       "      <th>count</th>\n",
       "    </tr>\n",
       "    <tr>\n",
       "      <th>group</th>\n",
       "      <th></th>\n",
       "      <th></th>\n",
       "      <th></th>\n",
       "      <th></th>\n",
       "      <th></th>\n",
       "      <th></th>\n",
       "    </tr>\n",
       "  </thead>\n",
       "  <tbody>\n",
       "    <tr>\n",
       "      <th>246</th>\n",
       "      <td>1266</td>\n",
       "      <td>2450</td>\n",
       "      <td>1542</td>\n",
       "      <td>1200</td>\n",
       "      <td>278</td>\n",
       "      <td>2484</td>\n",
       "    </tr>\n",
       "    <tr>\n",
       "      <th>247</th>\n",
       "      <td>1239</td>\n",
       "      <td>2479</td>\n",
       "      <td>1523</td>\n",
       "      <td>1158</td>\n",
       "      <td>284</td>\n",
       "      <td>2517</td>\n",
       "    </tr>\n",
       "    <tr>\n",
       "      <th>248</th>\n",
       "      <td>1231</td>\n",
       "      <td>2494</td>\n",
       "      <td>1531</td>\n",
       "      <td>1182</td>\n",
       "      <td>281</td>\n",
       "      <td>2537</td>\n",
       "    </tr>\n",
       "  </tbody>\n",
       "</table>\n",
       "</div>"
      ],
      "text/plain": [
       "event_name  CartScreenAppear  MainScreenAppear  OffersScreenAppear  \\\n",
       "group                                                                \n",
       "246                     1266              2450                1542   \n",
       "247                     1239              2479                1523   \n",
       "248                     1231              2494                1531   \n",
       "\n",
       "event_name  PaymentScreenSuccessful  Tutorial  count  \n",
       "group                                                 \n",
       "246                            1200       278   2484  \n",
       "247                            1158       284   2517  \n",
       "248                            1182       281   2537  "
      ]
     },
     "execution_count": 46,
     "metadata": {},
     "output_type": "execute_result"
    }
   ],
   "source": [
    "users_events"
   ]
  },
  {
   "cell_type": "code",
   "execution_count": 47,
   "id": "5c8ce7d5",
   "metadata": {},
   "outputs": [],
   "source": [
    "group_1 = users_events.loc[246] #контрольная группа\n",
    "group_2 = users_events.loc[247] #контрольная группа\n",
    "group_3 = users_events.loc[248] #Экперементальная группа. С измененными шрифтами"
   ]
  },
  {
   "cell_type": "code",
   "execution_count": 48,
   "id": "29edbf38",
   "metadata": {},
   "outputs": [
    {
     "data": {
      "text/html": [
       "<div>\n",
       "<style scoped>\n",
       "    .dataframe tbody tr th:only-of-type {\n",
       "        vertical-align: middle;\n",
       "    }\n",
       "\n",
       "    .dataframe tbody tr th {\n",
       "        vertical-align: top;\n",
       "    }\n",
       "\n",
       "    .dataframe thead th {\n",
       "        text-align: right;\n",
       "    }\n",
       "</style>\n",
       "<table border=\"1\" class=\"dataframe\">\n",
       "  <thead>\n",
       "    <tr style=\"text-align: right;\">\n",
       "      <th></th>\n",
       "      <th>event</th>\n",
       "      <th>difference</th>\n",
       "      <th>z_value</th>\n",
       "      <th>alpha</th>\n",
       "      <th>p_value</th>\n",
       "      <th>result</th>\n",
       "    </tr>\n",
       "  </thead>\n",
       "  <tbody>\n",
       "    <tr>\n",
       "      <th>0</th>\n",
       "      <td>CartScreenAppear</td>\n",
       "      <td>0.017409</td>\n",
       "      <td>1.231111</td>\n",
       "      <td>0.05</td>\n",
       "      <td>0.218281</td>\n",
       "      <td>Не получилось отвергнуть нулевую гипотезу, нет...</td>\n",
       "    </tr>\n",
       "    <tr>\n",
       "      <th>1</th>\n",
       "      <td>MainScreenAppear</td>\n",
       "      <td>0.001410</td>\n",
       "      <td>0.418445</td>\n",
       "      <td>0.05</td>\n",
       "      <td>0.675622</td>\n",
       "      <td>Не получилось отвергнуть нулевую гипотезу, нет...</td>\n",
       "    </tr>\n",
       "    <tr>\n",
       "      <th>2</th>\n",
       "      <td>OffersScreenAppear</td>\n",
       "      <td>0.015688</td>\n",
       "      <td>1.138761</td>\n",
       "      <td>0.05</td>\n",
       "      <td>0.254803</td>\n",
       "      <td>Не получилось отвергнуть нулевую гипотезу, нет...</td>\n",
       "    </tr>\n",
       "    <tr>\n",
       "      <th>3</th>\n",
       "      <td>PaymentScreenSuccessful</td>\n",
       "      <td>0.023020</td>\n",
       "      <td>1.630556</td>\n",
       "      <td>0.05</td>\n",
       "      <td>0.102984</td>\n",
       "      <td>Не получилось отвергнуть нулевую гипотезу, нет...</td>\n",
       "    </tr>\n",
       "  </tbody>\n",
       "</table>\n",
       "</div>"
      ],
      "text/plain": [
       "                     event  difference   z_value  alpha   p_value  \\\n",
       "0         CartScreenAppear    0.017409  1.231111   0.05  0.218281   \n",
       "1         MainScreenAppear    0.001410  0.418445   0.05  0.675622   \n",
       "2       OffersScreenAppear    0.015688  1.138761   0.05  0.254803   \n",
       "3  PaymentScreenSuccessful    0.023020  1.630556   0.05  0.102984   \n",
       "\n",
       "                                              result  \n",
       "0  Не получилось отвергнуть нулевую гипотезу, нет...  \n",
       "1  Не получилось отвергнуть нулевую гипотезу, нет...  \n",
       "2  Не получилось отвергнуть нулевую гипотезу, нет...  \n",
       "3  Не получилось отвергнуть нулевую гипотезу, нет...  "
      ]
     },
     "metadata": {},
     "output_type": "display_data"
    }
   ],
   "source": [
    "test_246_247 = pd.DataFrame(columns=['event', 'difference', 'z_value', 'alpha', 'p_value',  'result'])\n",
    "\n",
    "\n",
    "for row in range(4):\n",
    "    event = users_events.columns[row] \n",
    "    new_row = z_test(group_1[event], group_2[event], group_1['count'], group_2['count'])\n",
    "    new_row['event'] = event\n",
    "    \n",
    "    if new_row['p_value'] < alpha:\n",
    "        new_row['result'] = 'Отвергаем нулевую гипотезу: между долями есть значимая разница'       \n",
    "    else:\n",
    "        new_row['result'] = 'Не получилось отвергнуть нулевую гипотезу, нет оснований считать доли разными'        \n",
    "    \n",
    "    new_row['alpha'] = alpha\n",
    "    \n",
    "    test_246_247 = test_246_247.append(new_row, ignore_index=True)\n",
    "    \n",
    "display(test_246_247)"
   ]
  },
  {
   "cell_type": "markdown",
   "id": "0244311f",
   "metadata": {},
   "source": [
    "По результатам тестирования видим что выборки в двух контрольных группах 246 и 247 совпадают. Разбиение на группы было сделано кореектно.\n",
    "\n",
    "Можно проводить тесты с эксперементаольной группой"
   ]
  },
  {
   "cell_type": "markdown",
   "id": "8cbd4dc1",
   "metadata": {},
   "source": [
    "**Нулевая гипотеза:** доли пользователей в группах 246 и 248, для всех событий одинаковые.\\\n",
    "**Альтернативная гипотеза:** доли пользователей в группах 246 и 248, для всех событий различаются."
   ]
  },
  {
   "cell_type": "code",
   "execution_count": 49,
   "id": "4292c485",
   "metadata": {},
   "outputs": [
    {
     "data": {
      "text/html": [
       "<div>\n",
       "<style scoped>\n",
       "    .dataframe tbody tr th:only-of-type {\n",
       "        vertical-align: middle;\n",
       "    }\n",
       "\n",
       "    .dataframe tbody tr th {\n",
       "        vertical-align: top;\n",
       "    }\n",
       "\n",
       "    .dataframe thead th {\n",
       "        text-align: right;\n",
       "    }\n",
       "</style>\n",
       "<table border=\"1\" class=\"dataframe\">\n",
       "  <thead>\n",
       "    <tr style=\"text-align: right;\">\n",
       "      <th></th>\n",
       "      <th>event</th>\n",
       "      <th>difference</th>\n",
       "      <th>z_value</th>\n",
       "      <th>alpha</th>\n",
       "      <th>p_value</th>\n",
       "      <th>result</th>\n",
       "    </tr>\n",
       "  </thead>\n",
       "  <tbody>\n",
       "    <tr>\n",
       "      <th>0</th>\n",
       "      <td>CartScreenAppear</td>\n",
       "      <td>0.024443</td>\n",
       "      <td>1.731941</td>\n",
       "      <td>0.05</td>\n",
       "      <td>0.083284</td>\n",
       "      <td>Не получилось отвергнуть нулевую гипотезу, нет...</td>\n",
       "    </tr>\n",
       "    <tr>\n",
       "      <th>1</th>\n",
       "      <td>MainScreenAppear</td>\n",
       "      <td>0.003262</td>\n",
       "      <td>0.940310</td>\n",
       "      <td>0.05</td>\n",
       "      <td>0.347059</td>\n",
       "      <td>Не получилось отвергнуть нулевую гипотезу, нет...</td>\n",
       "    </tr>\n",
       "    <tr>\n",
       "      <th>2</th>\n",
       "      <td>OffersScreenAppear</td>\n",
       "      <td>0.017304</td>\n",
       "      <td>1.258082</td>\n",
       "      <td>0.05</td>\n",
       "      <td>0.208362</td>\n",
       "      <td>Не получилось отвергнуть нулевую гипотезу, нет...</td>\n",
       "    </tr>\n",
       "    <tr>\n",
       "      <th>3</th>\n",
       "      <td>PaymentScreenSuccessful</td>\n",
       "      <td>0.017187</td>\n",
       "      <td>1.219397</td>\n",
       "      <td>0.05</td>\n",
       "      <td>0.222694</td>\n",
       "      <td>Не получилось отвергнуть нулевую гипотезу, нет...</td>\n",
       "    </tr>\n",
       "  </tbody>\n",
       "</table>\n",
       "</div>"
      ],
      "text/plain": [
       "                     event  difference   z_value  alpha   p_value  \\\n",
       "0         CartScreenAppear    0.024443  1.731941   0.05  0.083284   \n",
       "1         MainScreenAppear    0.003262  0.940310   0.05  0.347059   \n",
       "2       OffersScreenAppear    0.017304  1.258082   0.05  0.208362   \n",
       "3  PaymentScreenSuccessful    0.017187  1.219397   0.05  0.222694   \n",
       "\n",
       "                                              result  \n",
       "0  Не получилось отвергнуть нулевую гипотезу, нет...  \n",
       "1  Не получилось отвергнуть нулевую гипотезу, нет...  \n",
       "2  Не получилось отвергнуть нулевую гипотезу, нет...  \n",
       "3  Не получилось отвергнуть нулевую гипотезу, нет...  "
      ]
     },
     "metadata": {},
     "output_type": "display_data"
    }
   ],
   "source": [
    "test_246_248 = pd.DataFrame(columns=['event', 'difference', 'z_value', 'alpha', 'p_value',  'result'])\n",
    "\n",
    "name_1 = 246\n",
    "name_2 = 248\n",
    "group_1 = users_events.loc[name_1] #контрольная группа\n",
    "group_2 = users_events.loc[name_2] #эксперементальная группа\n",
    "\n",
    "new_row = {} \n",
    "for row in range(4):\n",
    "    event = users_events.columns[row] \n",
    "    new_row = z_test(group_1[event], group_2[event], group_1['count'], group_2['count'])\n",
    "    new_row['event'] = event\n",
    "    \n",
    "    if new_row['p_value'] < alpha:\n",
    "        new_row['result'] = 'Отвергаем нулевую гипотезу: между долями есть значимая разница'       \n",
    "    else:\n",
    "        new_row['result'] = 'Не получилось отвергнуть нулевую гипотезу, нет оснований считать доли разными'        \n",
    "    \n",
    "    new_row['alpha'] = alpha\n",
    "    \n",
    "    test_246_248 = test_246_248.append(new_row, ignore_index=True)\n",
    "    \n",
    "display(test_246_248)"
   ]
  },
  {
   "cell_type": "markdown",
   "id": "06fee178",
   "metadata": {},
   "source": [
    "**Нулевая гипотеза:** доли пользователей в группах 247 и 248, для всех событий одинаковые.\\\n",
    "**Альтернативная гипотеза:** доли пользователей в группах 247 и 248, для всех событий различаются."
   ]
  },
  {
   "cell_type": "code",
   "execution_count": 50,
   "id": "5cf1e3c9",
   "metadata": {},
   "outputs": [
    {
     "data": {
      "text/html": [
       "<div>\n",
       "<style scoped>\n",
       "    .dataframe tbody tr th:only-of-type {\n",
       "        vertical-align: middle;\n",
       "    }\n",
       "\n",
       "    .dataframe tbody tr th {\n",
       "        vertical-align: top;\n",
       "    }\n",
       "\n",
       "    .dataframe thead th {\n",
       "        text-align: right;\n",
       "    }\n",
       "</style>\n",
       "<table border=\"1\" class=\"dataframe\">\n",
       "  <thead>\n",
       "    <tr style=\"text-align: right;\">\n",
       "      <th></th>\n",
       "      <th>event</th>\n",
       "      <th>difference</th>\n",
       "      <th>z_value</th>\n",
       "      <th>alpha</th>\n",
       "      <th>p_value</th>\n",
       "      <th>result</th>\n",
       "    </tr>\n",
       "  </thead>\n",
       "  <tbody>\n",
       "    <tr>\n",
       "      <th>0</th>\n",
       "      <td>CartScreenAppear</td>\n",
       "      <td>0.007034</td>\n",
       "      <td>0.500175</td>\n",
       "      <td>0.05</td>\n",
       "      <td>0.616952</td>\n",
       "      <td>Не получилось отвергнуть нулевую гипотезу, нет...</td>\n",
       "    </tr>\n",
       "    <tr>\n",
       "      <th>1</th>\n",
       "      <td>MainScreenAppear</td>\n",
       "      <td>0.001852</td>\n",
       "      <td>0.524162</td>\n",
       "      <td>0.05</td>\n",
       "      <td>0.600166</td>\n",
       "      <td>Не получилось отвергнуть нулевую гипотезу, нет...</td>\n",
       "    </tr>\n",
       "    <tr>\n",
       "      <th>2</th>\n",
       "      <td>OffersScreenAppear</td>\n",
       "      <td>0.001617</td>\n",
       "      <td>0.117521</td>\n",
       "      <td>0.05</td>\n",
       "      <td>0.906447</td>\n",
       "      <td>Не получилось отвергнуть нулевую гипотезу, нет...</td>\n",
       "    </tr>\n",
       "    <tr>\n",
       "      <th>3</th>\n",
       "      <td>PaymentScreenSuccessful</td>\n",
       "      <td>-0.005833</td>\n",
       "      <td>-0.415820</td>\n",
       "      <td>0.05</td>\n",
       "      <td>0.677541</td>\n",
       "      <td>Не получилось отвергнуть нулевую гипотезу, нет...</td>\n",
       "    </tr>\n",
       "  </tbody>\n",
       "</table>\n",
       "</div>"
      ],
      "text/plain": [
       "                     event  difference   z_value  alpha   p_value  \\\n",
       "0         CartScreenAppear    0.007034  0.500175   0.05  0.616952   \n",
       "1         MainScreenAppear    0.001852  0.524162   0.05  0.600166   \n",
       "2       OffersScreenAppear    0.001617  0.117521   0.05  0.906447   \n",
       "3  PaymentScreenSuccessful   -0.005833 -0.415820   0.05  0.677541   \n",
       "\n",
       "                                              result  \n",
       "0  Не получилось отвергнуть нулевую гипотезу, нет...  \n",
       "1  Не получилось отвергнуть нулевую гипотезу, нет...  \n",
       "2  Не получилось отвергнуть нулевую гипотезу, нет...  \n",
       "3  Не получилось отвергнуть нулевую гипотезу, нет...  "
      ]
     },
     "metadata": {},
     "output_type": "display_data"
    }
   ],
   "source": [
    "test_247_248 = pd.DataFrame(columns=['event', 'difference', 'z_value', 'alpha', 'p_value',  'result'])\n",
    "\n",
    "name_1 = 247\n",
    "name_2 = 248\n",
    "group_1 = users_events.loc[name_1] #контрольная группа\n",
    "group_2 = users_events.loc[name_2] #эксперементальная группа\n",
    "\n",
    "new_row = {} \n",
    "for row in range(4):\n",
    "    event = users_events.columns[row] \n",
    "    new_row = z_test(group_1[event], group_2[event], group_1['count'], group_2['count'])\n",
    "    new_row['event'] = event\n",
    "    \n",
    "    if new_row['p_value'] < alpha:\n",
    "        new_row['result'] = 'Отвергаем нулевую гипотезу: между долями есть значимая разница'       \n",
    "    else:\n",
    "        new_row['result'] = 'Не получилось отвергнуть нулевую гипотезу, нет оснований считать доли разными'        \n",
    "    \n",
    "    new_row['alpha'] = alpha\n",
    "    \n",
    "    test_247_248 = test_247_248.append(new_row, ignore_index=True)\n",
    "    \n",
    "display(test_247_248)"
   ]
  },
  {
   "cell_type": "code",
   "execution_count": 52,
   "id": "69c86e7b",
   "metadata": {},
   "outputs": [
    {
     "data": {
      "text/html": [
       "<div>\n",
       "<style scoped>\n",
       "    .dataframe tbody tr th:only-of-type {\n",
       "        vertical-align: middle;\n",
       "    }\n",
       "\n",
       "    .dataframe tbody tr th {\n",
       "        vertical-align: top;\n",
       "    }\n",
       "\n",
       "    .dataframe thead th {\n",
       "        text-align: right;\n",
       "    }\n",
       "</style>\n",
       "<table border=\"1\" class=\"dataframe\">\n",
       "  <thead>\n",
       "    <tr style=\"text-align: right;\">\n",
       "      <th></th>\n",
       "      <th>event</th>\n",
       "      <th>difference</th>\n",
       "      <th>z_value</th>\n",
       "      <th>alpha</th>\n",
       "      <th>p_value</th>\n",
       "      <th>result</th>\n",
       "    </tr>\n",
       "  </thead>\n",
       "  <tbody>\n",
       "    <tr>\n",
       "      <th>0</th>\n",
       "      <td>CartScreenAppear</td>\n",
       "      <td>0.007034</td>\n",
       "      <td>0.500175</td>\n",
       "      <td>0.05</td>\n",
       "      <td>0.616952</td>\n",
       "      <td>Не получилось отвергнуть нулевую гипотезу, нет...</td>\n",
       "    </tr>\n",
       "    <tr>\n",
       "      <th>1</th>\n",
       "      <td>MainScreenAppear</td>\n",
       "      <td>0.001852</td>\n",
       "      <td>0.524162</td>\n",
       "      <td>0.05</td>\n",
       "      <td>0.600166</td>\n",
       "      <td>Не получилось отвергнуть нулевую гипотезу, нет...</td>\n",
       "    </tr>\n",
       "    <tr>\n",
       "      <th>2</th>\n",
       "      <td>OffersScreenAppear</td>\n",
       "      <td>0.001617</td>\n",
       "      <td>0.117521</td>\n",
       "      <td>0.05</td>\n",
       "      <td>0.906447</td>\n",
       "      <td>Не получилось отвергнуть нулевую гипотезу, нет...</td>\n",
       "    </tr>\n",
       "    <tr>\n",
       "      <th>3</th>\n",
       "      <td>PaymentScreenSuccessful</td>\n",
       "      <td>-0.005833</td>\n",
       "      <td>-0.415820</td>\n",
       "      <td>0.05</td>\n",
       "      <td>0.677541</td>\n",
       "      <td>Не получилось отвергнуть нулевую гипотезу, нет...</td>\n",
       "    </tr>\n",
       "  </tbody>\n",
       "</table>\n",
       "</div>"
      ],
      "text/plain": [
       "                     event  difference   z_value  alpha   p_value  \\\n",
       "0         CartScreenAppear    0.007034  0.500175   0.05  0.616952   \n",
       "1         MainScreenAppear    0.001852  0.524162   0.05  0.600166   \n",
       "2       OffersScreenAppear    0.001617  0.117521   0.05  0.906447   \n",
       "3  PaymentScreenSuccessful   -0.005833 -0.415820   0.05  0.677541   \n",
       "\n",
       "                                              result  \n",
       "0  Не получилось отвергнуть нулевую гипотезу, нет...  \n",
       "1  Не получилось отвергнуть нулевую гипотезу, нет...  \n",
       "2  Не получилось отвергнуть нулевую гипотезу, нет...  \n",
       "3  Не получилось отвергнуть нулевую гипотезу, нет...  "
      ]
     },
     "metadata": {},
     "output_type": "display_data"
    }
   ],
   "source": [
    "test_246_247 = pd.DataFrame(columns=['event', 'difference', 'z_value', 'alpha', 'p_value',  'result'])\n",
    "\n",
    "\n",
    "for row in range(4):\n",
    "    event = users_events.columns[row] \n",
    "    new_row = z_test(group_1[event], group_2[event], group_1['count'], group_2['count'])\n",
    "    new_row['event'] = event\n",
    "    \n",
    "    if new_row['p_value'] < alpha:\n",
    "        new_row['result'] = 'Отвергаем нулевую гипотезу: между долями есть значимая разница'       \n",
    "    else:\n",
    "        new_row['result'] = 'Не получилось отвергнуть нулевую гипотезу, нет оснований считать доли разными'        \n",
    "    \n",
    "    new_row['alpha'] = alpha\n",
    "    \n",
    "    test_246_247 = test_246_247.append(new_row, ignore_index=True)\n",
    "    \n",
    "display(test_246_247)"
   ]
  },
  {
   "cell_type": "code",
   "execution_count": 53,
   "id": "aa69aa3b",
   "metadata": {},
   "outputs": [
    {
     "data": {
      "text/html": [
       "<div>\n",
       "<style scoped>\n",
       "    .dataframe tbody tr th:only-of-type {\n",
       "        vertical-align: middle;\n",
       "    }\n",
       "\n",
       "    .dataframe tbody tr th {\n",
       "        vertical-align: top;\n",
       "    }\n",
       "\n",
       "    .dataframe thead th {\n",
       "        text-align: right;\n",
       "    }\n",
       "</style>\n",
       "<table border=\"1\" class=\"dataframe\">\n",
       "  <thead>\n",
       "    <tr style=\"text-align: right;\">\n",
       "      <th>event_name</th>\n",
       "      <th>CartScreenAppear</th>\n",
       "      <th>MainScreenAppear</th>\n",
       "      <th>OffersScreenAppear</th>\n",
       "      <th>PaymentScreenSuccessful</th>\n",
       "      <th>Tutorial</th>\n",
       "      <th>count</th>\n",
       "    </tr>\n",
       "    <tr>\n",
       "      <th>group</th>\n",
       "      <th></th>\n",
       "      <th></th>\n",
       "      <th></th>\n",
       "      <th></th>\n",
       "      <th></th>\n",
       "      <th></th>\n",
       "    </tr>\n",
       "  </thead>\n",
       "  <tbody>\n",
       "    <tr>\n",
       "      <th>246</th>\n",
       "      <td>1266</td>\n",
       "      <td>2450</td>\n",
       "      <td>1542</td>\n",
       "      <td>1200</td>\n",
       "      <td>278</td>\n",
       "      <td>2484</td>\n",
       "    </tr>\n",
       "    <tr>\n",
       "      <th>247</th>\n",
       "      <td>1239</td>\n",
       "      <td>2479</td>\n",
       "      <td>1523</td>\n",
       "      <td>1158</td>\n",
       "      <td>284</td>\n",
       "      <td>2517</td>\n",
       "    </tr>\n",
       "    <tr>\n",
       "      <th>248</th>\n",
       "      <td>1231</td>\n",
       "      <td>2494</td>\n",
       "      <td>1531</td>\n",
       "      <td>1182</td>\n",
       "      <td>281</td>\n",
       "      <td>2537</td>\n",
       "    </tr>\n",
       "  </tbody>\n",
       "</table>\n",
       "</div>"
      ],
      "text/plain": [
       "event_name  CartScreenAppear  MainScreenAppear  OffersScreenAppear  \\\n",
       "group                                                                \n",
       "246                     1266              2450                1542   \n",
       "247                     1239              2479                1523   \n",
       "248                     1231              2494                1531   \n",
       "\n",
       "event_name  PaymentScreenSuccessful  Tutorial  count  \n",
       "group                                                 \n",
       "246                            1200       278   2484  \n",
       "247                            1158       284   2517  \n",
       "248                            1182       281   2537  "
      ]
     },
     "execution_count": 53,
     "metadata": {},
     "output_type": "execute_result"
    }
   ],
   "source": [
    "users_events"
   ]
  },
  {
   "cell_type": "code",
   "execution_count": 54,
   "id": "1d3c4a05",
   "metadata": {},
   "outputs": [],
   "source": [
    "combined = df_filter.query('group in [246, 247]')\n",
    "combined['group'] = '246+247'"
   ]
  },
  {
   "cell_type": "code",
   "execution_count": 55,
   "id": "2a2a76d2",
   "metadata": {},
   "outputs": [],
   "source": [
    "df_new = df_filter.append(combined)"
   ]
  },
  {
   "cell_type": "code",
   "execution_count": 56,
   "id": "f67480be",
   "metadata": {},
   "outputs": [
    {
     "data": {
      "text/html": [
       "<div>\n",
       "<style scoped>\n",
       "    .dataframe tbody tr th:only-of-type {\n",
       "        vertical-align: middle;\n",
       "    }\n",
       "\n",
       "    .dataframe tbody tr th {\n",
       "        vertical-align: top;\n",
       "    }\n",
       "\n",
       "    .dataframe thead th {\n",
       "        text-align: right;\n",
       "    }\n",
       "</style>\n",
       "<table border=\"1\" class=\"dataframe\">\n",
       "  <thead>\n",
       "    <tr style=\"text-align: right;\">\n",
       "      <th></th>\n",
       "      <th>uid</th>\n",
       "    </tr>\n",
       "    <tr>\n",
       "      <th>group</th>\n",
       "      <th></th>\n",
       "    </tr>\n",
       "  </thead>\n",
       "  <tbody>\n",
       "    <tr>\n",
       "      <th>246</th>\n",
       "      <td>2484</td>\n",
       "    </tr>\n",
       "    <tr>\n",
       "      <th>247</th>\n",
       "      <td>2517</td>\n",
       "    </tr>\n",
       "    <tr>\n",
       "      <th>248</th>\n",
       "      <td>2537</td>\n",
       "    </tr>\n",
       "    <tr>\n",
       "      <th>246+247</th>\n",
       "      <td>5001</td>\n",
       "    </tr>\n",
       "  </tbody>\n",
       "</table>\n",
       "</div>"
      ],
      "text/plain": [
       "          uid\n",
       "group        \n",
       "246      2484\n",
       "247      2517\n",
       "248      2537\n",
       "246+247  5001"
      ]
     },
     "metadata": {},
     "output_type": "display_data"
    }
   ],
   "source": [
    "trails = df_new.groupby('group').agg({'uid':'nunique'})\n",
    "display(trails)"
   ]
  },
  {
   "cell_type": "code",
   "execution_count": 57,
   "id": "5c726bb0",
   "metadata": {},
   "outputs": [
    {
     "data": {
      "text/html": [
       "<div>\n",
       "<style scoped>\n",
       "    .dataframe tbody tr th:only-of-type {\n",
       "        vertical-align: middle;\n",
       "    }\n",
       "\n",
       "    .dataframe tbody tr th {\n",
       "        vertical-align: top;\n",
       "    }\n",
       "\n",
       "    .dataframe thead th {\n",
       "        text-align: right;\n",
       "    }\n",
       "</style>\n",
       "<table border=\"1\" class=\"dataframe\">\n",
       "  <thead>\n",
       "    <tr style=\"text-align: right;\">\n",
       "      <th>group</th>\n",
       "      <th>246</th>\n",
       "      <th>247</th>\n",
       "      <th>248</th>\n",
       "      <th>246+247</th>\n",
       "    </tr>\n",
       "    <tr>\n",
       "      <th>event_name</th>\n",
       "      <th></th>\n",
       "      <th></th>\n",
       "      <th></th>\n",
       "      <th></th>\n",
       "    </tr>\n",
       "  </thead>\n",
       "  <tbody>\n",
       "    <tr>\n",
       "      <th>CartScreenAppear</th>\n",
       "      <td>1266</td>\n",
       "      <td>1239</td>\n",
       "      <td>1231</td>\n",
       "      <td>2505</td>\n",
       "    </tr>\n",
       "    <tr>\n",
       "      <th>MainScreenAppear</th>\n",
       "      <td>2450</td>\n",
       "      <td>2479</td>\n",
       "      <td>2494</td>\n",
       "      <td>4929</td>\n",
       "    </tr>\n",
       "    <tr>\n",
       "      <th>OffersScreenAppear</th>\n",
       "      <td>1542</td>\n",
       "      <td>1523</td>\n",
       "      <td>1531</td>\n",
       "      <td>3065</td>\n",
       "    </tr>\n",
       "    <tr>\n",
       "      <th>PaymentScreenSuccessful</th>\n",
       "      <td>1200</td>\n",
       "      <td>1158</td>\n",
       "      <td>1182</td>\n",
       "      <td>2358</td>\n",
       "    </tr>\n",
       "  </tbody>\n",
       "</table>\n",
       "</div>"
      ],
      "text/plain": [
       "group                     246   247   248  246+247\n",
       "event_name                                        \n",
       "CartScreenAppear         1266  1239  1231     2505\n",
       "MainScreenAppear         2450  2479  2494     4929\n",
       "OffersScreenAppear       1542  1523  1531     3065\n",
       "PaymentScreenSuccessful  1200  1158  1182     2358"
      ]
     },
     "metadata": {},
     "output_type": "display_data"
    }
   ],
   "source": [
    "funnel = df_new.pivot_table( index = 'event_name', columns = 'group', values = 'uid', aggfunc = 'nunique')\n",
    "funnel = funnel.query('event_name != \"Tutorial\"')\n",
    "\n",
    "display(funnel)"
   ]
  },
  {
   "cell_type": "code",
   "execution_count": 58,
   "id": "27d59c75",
   "metadata": {},
   "outputs": [
    {
     "data": {
      "text/plain": [
       "5001"
      ]
     },
     "execution_count": 58,
     "metadata": {},
     "output_type": "execute_result"
    }
   ],
   "source": [
    "trails.uid.loc['246+247']"
   ]
  },
  {
   "cell_type": "code",
   "execution_count": 59,
   "id": "4030d6d9",
   "metadata": {},
   "outputs": [
    {
     "data": {
      "text/html": [
       "<div>\n",
       "<style scoped>\n",
       "    .dataframe tbody tr th:only-of-type {\n",
       "        vertical-align: middle;\n",
       "    }\n",
       "\n",
       "    .dataframe tbody tr th {\n",
       "        vertical-align: top;\n",
       "    }\n",
       "\n",
       "    .dataframe thead th {\n",
       "        text-align: right;\n",
       "    }\n",
       "</style>\n",
       "<table border=\"1\" class=\"dataframe\">\n",
       "  <thead>\n",
       "    <tr style=\"text-align: right;\">\n",
       "      <th></th>\n",
       "      <th>event</th>\n",
       "      <th>difference</th>\n",
       "      <th>z_value</th>\n",
       "      <th>alpha</th>\n",
       "      <th>p_value</th>\n",
       "      <th>result</th>\n",
       "    </tr>\n",
       "  </thead>\n",
       "  <tbody>\n",
       "    <tr>\n",
       "      <th>0</th>\n",
       "      <td>CartScreenAppear</td>\n",
       "      <td>0.015681</td>\n",
       "      <td>1.286716</td>\n",
       "      <td>0.05</td>\n",
       "      <td>0.198193</td>\n",
       "      <td>Не получилось отвергнуть нулевую гипотезу, нет...</td>\n",
       "    </tr>\n",
       "    <tr>\n",
       "      <th>1</th>\n",
       "      <td>MainScreenAppear</td>\n",
       "      <td>0.002552</td>\n",
       "      <td>0.854209</td>\n",
       "      <td>0.05</td>\n",
       "      <td>0.392989</td>\n",
       "      <td>Не получилось отвергнуть нулевую гипотезу, нет...</td>\n",
       "    </tr>\n",
       "    <tr>\n",
       "      <th>2</th>\n",
       "      <td>OffersScreenAppear</td>\n",
       "      <td>0.009409</td>\n",
       "      <td>0.791294</td>\n",
       "      <td>0.05</td>\n",
       "      <td>0.428773</td>\n",
       "      <td>Не получилось отвергнуть нулевую гипотезу, нет...</td>\n",
       "    </tr>\n",
       "    <tr>\n",
       "      <th>3</th>\n",
       "      <td>PaymentScreenSuccessful</td>\n",
       "      <td>0.005601</td>\n",
       "      <td>0.460433</td>\n",
       "      <td>0.05</td>\n",
       "      <td>0.645206</td>\n",
       "      <td>Не получилось отвергнуть нулевую гипотезу, нет...</td>\n",
       "    </tr>\n",
       "  </tbody>\n",
       "</table>\n",
       "</div>"
      ],
      "text/plain": [
       "                     event  difference   z_value  alpha   p_value  \\\n",
       "0         CartScreenAppear    0.015681  1.286716   0.05  0.198193   \n",
       "1         MainScreenAppear    0.002552  0.854209   0.05  0.392989   \n",
       "2       OffersScreenAppear    0.009409  0.791294   0.05  0.428773   \n",
       "3  PaymentScreenSuccessful    0.005601  0.460433   0.05  0.645206   \n",
       "\n",
       "                                              result  \n",
       "0  Не получилось отвергнуть нулевую гипотезу, нет...  \n",
       "1  Не получилось отвергнуть нулевую гипотезу, нет...  \n",
       "2  Не получилось отвергнуть нулевую гипотезу, нет...  \n",
       "3  Не получилось отвергнуть нулевую гипотезу, нет...  "
      ]
     },
     "metadata": {},
     "output_type": "display_data"
    }
   ],
   "source": [
    "test_246_247_248 = pd.DataFrame(columns=['event', 'difference', 'z_value', 'alpha', 'p_value',  'result'])\n",
    "\n",
    "#name_1 = 247\n",
    "#name_2 = 248\n",
    "group_12 = funnel['246+247'] #контрольная группа\n",
    "group_2 = funnel[248] #эксперементальная группа\n",
    "\n",
    "new_row = {} \n",
    "for row in range(4):\n",
    "    event = users_events.columns[row]\n",
    "    new_row = z_test(group_12[event], group_2[event], trails.uid.loc['246+247'], trails.uid.loc[248])\n",
    "    new_row['event'] = event\n",
    "    \n",
    "    if new_row['p_value'] < alpha:\n",
    "        new_row['result'] = 'Отвергаем нулевую гипотезу: между долями есть значимая разница'       \n",
    "    else:\n",
    "        new_row['result'] = 'Не получилось отвергнуть нулевую гипотезу, нет оснований считать доли разными'        \n",
    "    \n",
    "    new_row['alpha'] = alpha\n",
    "    \n",
    "    test_246_247_248 = test_246_247_248.append(new_row, ignore_index=True)\n",
    "    \n",
    "display(test_246_247_248)"
   ]
  },
  {
   "cell_type": "markdown",
   "id": "29597e36",
   "metadata": {},
   "source": [
    "## Вывод\n",
    "Тестирование показало что пользователи никак не отреагировали на изменение шрифтов. Это значит нет изменений ни в худшую ни в лучшую сторону. Поэтому можно изменить в приложении шрифт если дизайнеры считают что он лучше. Возможно шрифт скажеться только на определенной группе пользователей."
   ]
  },
  {
   "cell_type": "code",
   "execution_count": null,
   "id": "d870c182",
   "metadata": {},
   "outputs": [],
   "source": []
  }
 ],
 "metadata": {
  "ExecuteTimeLog": [
   {
    "duration": 1164,
    "start_time": "2022-04-02T09:59:07.145Z"
   },
   {
    "duration": 107,
    "start_time": "2022-04-02T09:59:08.311Z"
   },
   {
    "duration": 1788,
    "start_time": "2022-04-04T12:05:32.486Z"
   },
   {
    "duration": 191,
    "start_time": "2022-04-04T12:05:34.277Z"
   },
   {
    "duration": 29,
    "start_time": "2022-04-04T12:05:34.470Z"
   },
   {
    "duration": 16,
    "start_time": "2022-04-04T12:05:34.503Z"
   },
   {
    "duration": 52,
    "start_time": "2022-04-04T12:05:34.522Z"
   },
   {
    "duration": 5,
    "start_time": "2022-04-04T12:05:34.576Z"
   },
   {
    "duration": 185,
    "start_time": "2022-04-04T12:05:34.584Z"
   },
   {
    "duration": 111,
    "start_time": "2022-04-04T12:05:34.771Z"
   },
   {
    "duration": 10,
    "start_time": "2022-04-04T12:05:34.884Z"
   },
   {
    "duration": 9,
    "start_time": "2022-04-04T12:05:34.897Z"
   },
   {
    "duration": 20,
    "start_time": "2022-04-04T12:05:34.908Z"
   },
   {
    "duration": 56,
    "start_time": "2022-04-04T12:05:34.930Z"
   },
   {
    "duration": 13,
    "start_time": "2022-04-04T12:05:34.988Z"
   },
   {
    "duration": 66,
    "start_time": "2022-04-04T12:05:35.003Z"
   },
   {
    "duration": 36,
    "start_time": "2022-04-04T12:05:35.071Z"
   },
   {
    "duration": 10,
    "start_time": "2022-04-04T12:05:35.109Z"
   },
   {
    "duration": 8,
    "start_time": "2022-04-04T12:05:35.121Z"
   },
   {
    "duration": 59,
    "start_time": "2022-04-04T12:05:35.131Z"
   },
   {
    "duration": 35,
    "start_time": "2022-04-04T12:05:35.192Z"
   },
   {
    "duration": 7,
    "start_time": "2022-04-04T12:05:35.229Z"
   },
   {
    "duration": 431,
    "start_time": "2022-04-04T12:05:35.238Z"
   },
   {
    "duration": 13,
    "start_time": "2022-04-04T12:05:35.672Z"
   },
   {
    "duration": 23,
    "start_time": "2022-04-04T12:05:35.687Z"
   },
   {
    "duration": 15,
    "start_time": "2022-04-04T12:05:35.712Z"
   },
   {
    "duration": 44,
    "start_time": "2022-04-04T12:05:35.729Z"
   },
   {
    "duration": 42,
    "start_time": "2022-04-04T12:05:35.776Z"
   },
   {
    "duration": 11,
    "start_time": "2022-04-04T12:05:35.820Z"
   },
   {
    "duration": 35,
    "start_time": "2022-04-04T12:05:35.869Z"
   },
   {
    "duration": 89,
    "start_time": "2022-04-04T12:05:35.907Z"
   },
   {
    "duration": 9,
    "start_time": "2022-04-04T12:05:35.999Z"
   },
   {
    "duration": 13,
    "start_time": "2022-04-04T12:05:36.011Z"
   },
   {
    "duration": 11,
    "start_time": "2022-04-04T12:05:36.026Z"
   },
   {
    "duration": 34,
    "start_time": "2022-04-04T12:05:36.040Z"
   },
   {
    "duration": 13,
    "start_time": "2022-04-04T12:05:36.078Z"
   },
   {
    "duration": 235,
    "start_time": "2022-04-04T12:05:36.093Z"
   },
   {
    "duration": 120,
    "start_time": "2022-04-04T12:05:36.330Z"
   },
   {
    "duration": 54,
    "start_time": "2022-04-04T12:05:36.453Z"
   },
   {
    "duration": 4,
    "start_time": "2022-04-04T12:05:36.509Z"
   },
   {
    "duration": 9,
    "start_time": "2022-04-04T12:05:36.516Z"
   },
   {
    "duration": 46,
    "start_time": "2022-04-04T12:05:36.527Z"
   },
   {
    "duration": 7,
    "start_time": "2022-04-04T12:05:36.575Z"
   },
   {
    "duration": 9,
    "start_time": "2022-04-04T12:05:36.584Z"
   },
   {
    "duration": 87,
    "start_time": "2022-04-04T12:05:36.595Z"
   },
   {
    "duration": 84,
    "start_time": "2022-04-04T12:05:36.685Z"
   },
   {
    "duration": 74,
    "start_time": "2022-04-04T12:05:36.772Z"
   },
   {
    "duration": 75,
    "start_time": "2022-04-04T12:05:36.869Z"
   },
   {
    "duration": 2596,
    "start_time": "2022-04-04T12:16:36.984Z"
   },
   {
    "duration": 1758,
    "start_time": "2022-04-04T12:17:00.552Z"
   },
   {
    "duration": 1776,
    "start_time": "2022-04-04T12:17:41.448Z"
   },
   {
    "duration": 265,
    "start_time": "2022-04-04T12:17:50.459Z"
   },
   {
    "duration": 328,
    "start_time": "2022-04-04T12:17:54.534Z"
   },
   {
    "duration": 270,
    "start_time": "2022-04-04T12:18:04.347Z"
   },
   {
    "duration": 270,
    "start_time": "2022-04-04T12:18:08.628Z"
   },
   {
    "duration": 272,
    "start_time": "2022-04-04T12:18:11.752Z"
   },
   {
    "duration": 278,
    "start_time": "2022-04-04T12:18:17.648Z"
   },
   {
    "duration": 386,
    "start_time": "2022-04-04T12:18:23.784Z"
   },
   {
    "duration": 330,
    "start_time": "2022-04-04T12:18:30.783Z"
   },
   {
    "duration": 421,
    "start_time": "2022-04-04T12:18:34.540Z"
   },
   {
    "duration": 275,
    "start_time": "2022-04-04T12:18:43.844Z"
   },
   {
    "duration": 121,
    "start_time": "2022-04-04T12:19:30.240Z"
   },
   {
    "duration": 159,
    "start_time": "2022-04-04T12:22:05.487Z"
   },
   {
    "duration": 8,
    "start_time": "2022-04-04T12:22:15.667Z"
   },
   {
    "duration": 195,
    "start_time": "2022-04-04T12:22:17.789Z"
   },
   {
    "duration": 6,
    "start_time": "2022-04-04T12:22:31.323Z"
   },
   {
    "duration": 214,
    "start_time": "2022-04-04T12:22:31.331Z"
   },
   {
    "duration": 31,
    "start_time": "2022-04-04T12:22:31.548Z"
   },
   {
    "duration": 10,
    "start_time": "2022-04-04T12:22:31.581Z"
   },
   {
    "duration": 27,
    "start_time": "2022-04-04T12:22:31.594Z"
   },
   {
    "duration": 4,
    "start_time": "2022-04-04T12:22:31.623Z"
   },
   {
    "duration": 188,
    "start_time": "2022-04-04T12:22:31.629Z"
   },
   {
    "duration": 102,
    "start_time": "2022-04-04T12:22:31.819Z"
   },
   {
    "duration": 11,
    "start_time": "2022-04-04T12:22:31.923Z"
   },
   {
    "duration": 7,
    "start_time": "2022-04-04T12:22:31.936Z"
   },
   {
    "duration": 36,
    "start_time": "2022-04-04T12:22:31.946Z"
   },
   {
    "duration": 28,
    "start_time": "2022-04-04T12:22:31.984Z"
   },
   {
    "duration": 13,
    "start_time": "2022-04-04T12:22:32.014Z"
   },
   {
    "duration": 72,
    "start_time": "2022-04-04T12:22:32.029Z"
   },
   {
    "duration": 38,
    "start_time": "2022-04-04T12:22:32.103Z"
   },
   {
    "duration": 31,
    "start_time": "2022-04-04T12:22:32.143Z"
   },
   {
    "duration": 12,
    "start_time": "2022-04-04T12:22:32.177Z"
   },
   {
    "duration": 25,
    "start_time": "2022-04-04T12:22:32.191Z"
   },
   {
    "duration": 69,
    "start_time": "2022-04-04T12:22:32.219Z"
   },
   {
    "duration": 6,
    "start_time": "2022-04-04T12:22:32.291Z"
   },
   {
    "duration": 286,
    "start_time": "2022-04-04T12:22:32.299Z"
   },
   {
    "duration": 12,
    "start_time": "2022-04-04T12:22:32.587Z"
   },
   {
    "duration": 25,
    "start_time": "2022-04-04T12:22:32.601Z"
   },
   {
    "duration": 43,
    "start_time": "2022-04-04T12:22:32.628Z"
   },
   {
    "duration": 9,
    "start_time": "2022-04-04T12:22:32.673Z"
   },
   {
    "duration": 41,
    "start_time": "2022-04-04T12:22:32.684Z"
   },
   {
    "duration": 42,
    "start_time": "2022-04-04T12:22:32.727Z"
   },
   {
    "duration": 37,
    "start_time": "2022-04-04T12:22:32.771Z"
   },
   {
    "duration": 91,
    "start_time": "2022-04-04T12:22:32.815Z"
   },
   {
    "duration": 10,
    "start_time": "2022-04-04T12:22:32.908Z"
   },
   {
    "duration": 10,
    "start_time": "2022-04-04T12:22:32.921Z"
   },
   {
    "duration": 35,
    "start_time": "2022-04-04T12:22:32.933Z"
   },
   {
    "duration": 6,
    "start_time": "2022-04-04T12:22:32.970Z"
   },
   {
    "duration": 12,
    "start_time": "2022-04-04T12:22:32.979Z"
   },
   {
    "duration": 216,
    "start_time": "2022-04-04T12:22:32.993Z"
   },
   {
    "duration": 119,
    "start_time": "2022-04-04T12:22:33.211Z"
   },
   {
    "duration": 51,
    "start_time": "2022-04-04T12:22:33.332Z"
   },
   {
    "duration": 3,
    "start_time": "2022-04-04T12:22:33.386Z"
   },
   {
    "duration": 8,
    "start_time": "2022-04-04T12:22:33.391Z"
   },
   {
    "duration": 16,
    "start_time": "2022-04-04T12:22:33.401Z"
   },
   {
    "duration": 7,
    "start_time": "2022-04-04T12:22:33.419Z"
   },
   {
    "duration": 10,
    "start_time": "2022-04-04T12:22:33.428Z"
   },
   {
    "duration": 71,
    "start_time": "2022-04-04T12:22:33.440Z"
   },
   {
    "duration": 76,
    "start_time": "2022-04-04T12:22:33.514Z"
   },
   {
    "duration": 46,
    "start_time": "2022-04-04T12:22:33.593Z"
   },
   {
    "duration": 70,
    "start_time": "2022-04-04T12:22:33.641Z"
   },
   {
    "duration": 136,
    "start_time": "2022-04-04T12:23:31.906Z"
   },
   {
    "duration": 28,
    "start_time": "2022-04-04T12:34:07.958Z"
   },
   {
    "duration": 127,
    "start_time": "2022-04-04T12:34:35.282Z"
   },
   {
    "duration": 2135,
    "start_time": "2022-04-04T12:36:27.240Z"
   },
   {
    "duration": 8,
    "start_time": "2022-04-04T12:36:35.866Z"
   },
   {
    "duration": 9,
    "start_time": "2022-04-04T12:36:54.406Z"
   },
   {
    "duration": 15,
    "start_time": "2022-04-04T12:37:05.195Z"
   },
   {
    "duration": 12,
    "start_time": "2022-04-04T12:37:18.558Z"
   },
   {
    "duration": 10,
    "start_time": "2022-04-04T12:37:27.077Z"
   },
   {
    "duration": 13,
    "start_time": "2022-04-04T12:38:38.342Z"
   },
   {
    "duration": 32,
    "start_time": "2022-04-04T12:39:08.457Z"
   },
   {
    "duration": 14,
    "start_time": "2022-04-04T12:39:26.390Z"
   },
   {
    "duration": 5,
    "start_time": "2022-04-04T12:41:31.445Z"
   },
   {
    "duration": 215,
    "start_time": "2022-04-04T12:41:31.453Z"
   },
   {
    "duration": 26,
    "start_time": "2022-04-04T12:41:31.670Z"
   },
   {
    "duration": 10,
    "start_time": "2022-04-04T12:41:31.698Z"
   },
   {
    "duration": 24,
    "start_time": "2022-04-04T12:41:31.710Z"
   },
   {
    "duration": 31,
    "start_time": "2022-04-04T12:41:31.736Z"
   },
   {
    "duration": 154,
    "start_time": "2022-04-04T12:41:31.769Z"
   },
   {
    "duration": 94,
    "start_time": "2022-04-04T12:41:31.926Z"
   },
   {
    "duration": 9,
    "start_time": "2022-04-04T12:41:32.022Z"
   },
   {
    "duration": 6,
    "start_time": "2022-04-04T12:41:32.034Z"
   },
   {
    "duration": 40,
    "start_time": "2022-04-04T12:41:32.044Z"
   },
   {
    "duration": 28,
    "start_time": "2022-04-04T12:41:32.086Z"
   },
   {
    "duration": 13,
    "start_time": "2022-04-04T12:41:32.116Z"
   },
   {
    "duration": 70,
    "start_time": "2022-04-04T12:41:32.131Z"
   },
   {
    "duration": 35,
    "start_time": "2022-04-04T12:41:32.203Z"
   },
   {
    "duration": 29,
    "start_time": "2022-04-04T12:41:32.240Z"
   },
   {
    "duration": 9,
    "start_time": "2022-04-04T12:41:32.272Z"
   },
   {
    "duration": 28,
    "start_time": "2022-04-04T12:41:32.283Z"
   },
   {
    "duration": 59,
    "start_time": "2022-04-04T12:41:32.313Z"
   },
   {
    "duration": 6,
    "start_time": "2022-04-04T12:41:32.374Z"
   },
   {
    "duration": 289,
    "start_time": "2022-04-04T12:41:32.382Z"
   },
   {
    "duration": 13,
    "start_time": "2022-04-04T12:41:32.673Z"
   },
   {
    "duration": 25,
    "start_time": "2022-04-04T12:41:32.688Z"
   },
   {
    "duration": 12,
    "start_time": "2022-04-04T12:41:32.715Z"
   },
   {
    "duration": 46,
    "start_time": "2022-04-04T12:41:32.729Z"
   },
   {
    "duration": 40,
    "start_time": "2022-04-04T12:41:32.777Z"
   },
   {
    "duration": 10,
    "start_time": "2022-04-04T12:41:32.819Z"
   },
   {
    "duration": 66,
    "start_time": "2022-04-04T12:41:32.831Z"
   },
   {
    "duration": 78,
    "start_time": "2022-04-04T12:41:32.902Z"
   },
   {
    "duration": 9,
    "start_time": "2022-04-04T12:41:32.982Z"
   },
   {
    "duration": 11,
    "start_time": "2022-04-04T12:41:32.993Z"
   },
   {
    "duration": 10,
    "start_time": "2022-04-04T12:41:33.006Z"
   },
   {
    "duration": 8,
    "start_time": "2022-04-04T12:41:33.018Z"
   },
   {
    "duration": 41,
    "start_time": "2022-04-04T12:41:33.028Z"
   },
   {
    "duration": 210,
    "start_time": "2022-04-04T12:41:33.071Z"
   },
   {
    "duration": 114,
    "start_time": "2022-04-04T12:41:33.283Z"
   },
   {
    "duration": 39,
    "start_time": "2022-04-04T12:41:33.399Z"
   },
   {
    "duration": 131,
    "start_time": "2022-04-04T12:41:33.440Z"
   },
   {
    "duration": 12,
    "start_time": "2022-04-04T12:41:33.573Z"
   },
   {
    "duration": 3,
    "start_time": "2022-04-04T12:41:33.587Z"
   },
   {
    "duration": 6,
    "start_time": "2022-04-04T12:41:33.592Z"
   },
   {
    "duration": 7,
    "start_time": "2022-04-04T12:41:33.600Z"
   },
   {
    "duration": 16,
    "start_time": "2022-04-04T12:41:33.609Z"
   },
   {
    "duration": 40,
    "start_time": "2022-04-04T12:41:33.627Z"
   },
   {
    "duration": 6,
    "start_time": "2022-04-04T12:41:33.669Z"
   },
   {
    "duration": 46,
    "start_time": "2022-04-04T12:41:33.677Z"
   },
   {
    "duration": 86,
    "start_time": "2022-04-04T12:41:33.725Z"
   },
   {
    "duration": 70,
    "start_time": "2022-04-04T12:41:33.813Z"
   },
   {
    "duration": 45,
    "start_time": "2022-04-04T12:41:33.885Z"
   },
   {
    "duration": 5,
    "start_time": "2022-04-04T13:05:03.699Z"
   },
   {
    "duration": 203,
    "start_time": "2022-04-04T13:05:03.707Z"
   },
   {
    "duration": 27,
    "start_time": "2022-04-04T13:05:03.913Z"
   },
   {
    "duration": 28,
    "start_time": "2022-04-04T13:05:03.943Z"
   },
   {
    "duration": 22,
    "start_time": "2022-04-04T13:05:03.975Z"
   },
   {
    "duration": 3,
    "start_time": "2022-04-04T13:05:03.999Z"
   },
   {
    "duration": 173,
    "start_time": "2022-04-04T13:05:04.004Z"
   },
   {
    "duration": 99,
    "start_time": "2022-04-04T13:05:04.179Z"
   },
   {
    "duration": 9,
    "start_time": "2022-04-04T13:05:04.280Z"
   },
   {
    "duration": 8,
    "start_time": "2022-04-04T13:05:04.291Z"
   },
   {
    "duration": 20,
    "start_time": "2022-04-04T13:05:04.303Z"
   },
   {
    "duration": 58,
    "start_time": "2022-04-04T13:05:04.326Z"
   },
   {
    "duration": 13,
    "start_time": "2022-04-04T13:05:04.387Z"
   },
   {
    "duration": 68,
    "start_time": "2022-04-04T13:05:04.402Z"
   },
   {
    "duration": 36,
    "start_time": "2022-04-04T13:05:04.471Z"
   },
   {
    "duration": 9,
    "start_time": "2022-04-04T13:05:04.509Z"
   },
   {
    "duration": 10,
    "start_time": "2022-04-04T13:05:04.520Z"
   },
   {
    "duration": 57,
    "start_time": "2022-04-04T13:05:04.532Z"
   },
   {
    "duration": 29,
    "start_time": "2022-04-04T13:05:04.592Z"
   },
   {
    "duration": 6,
    "start_time": "2022-04-04T13:05:04.624Z"
   },
   {
    "duration": 305,
    "start_time": "2022-04-04T13:05:04.632Z"
   },
   {
    "duration": 29,
    "start_time": "2022-04-04T13:05:04.939Z"
   },
   {
    "duration": 26,
    "start_time": "2022-04-04T13:05:04.971Z"
   },
   {
    "duration": 14,
    "start_time": "2022-04-04T13:05:04.999Z"
   },
   {
    "duration": 10,
    "start_time": "2022-04-04T13:05:05.015Z"
   },
   {
    "duration": 42,
    "start_time": "2022-04-04T13:05:05.068Z"
   },
   {
    "duration": 9,
    "start_time": "2022-04-04T13:05:05.112Z"
   },
   {
    "duration": 62,
    "start_time": "2022-04-04T13:05:05.123Z"
   },
   {
    "duration": 85,
    "start_time": "2022-04-04T13:05:05.190Z"
   },
   {
    "duration": 9,
    "start_time": "2022-04-04T13:05:05.278Z"
   },
   {
    "duration": 12,
    "start_time": "2022-04-04T13:05:05.289Z"
   },
   {
    "duration": 10,
    "start_time": "2022-04-04T13:05:05.303Z"
   },
   {
    "duration": 6,
    "start_time": "2022-04-04T13:05:05.315Z"
   },
   {
    "duration": 49,
    "start_time": "2022-04-04T13:05:05.323Z"
   },
   {
    "duration": 217,
    "start_time": "2022-04-04T13:05:05.375Z"
   },
   {
    "duration": 112,
    "start_time": "2022-04-04T13:05:05.594Z"
   },
   {
    "duration": 38,
    "start_time": "2022-04-04T13:05:05.708Z"
   },
   {
    "duration": 133,
    "start_time": "2022-04-04T13:05:05.748Z"
   },
   {
    "duration": 11,
    "start_time": "2022-04-04T13:05:05.884Z"
   },
   {
    "duration": 4,
    "start_time": "2022-04-04T13:05:05.897Z"
   },
   {
    "duration": 8,
    "start_time": "2022-04-04T13:05:05.904Z"
   },
   {
    "duration": 10,
    "start_time": "2022-04-04T13:05:05.914Z"
   },
   {
    "duration": 43,
    "start_time": "2022-04-04T13:05:05.927Z"
   },
   {
    "duration": 6,
    "start_time": "2022-04-04T13:05:05.973Z"
   },
   {
    "duration": 8,
    "start_time": "2022-04-04T13:05:05.982Z"
   },
   {
    "duration": 74,
    "start_time": "2022-04-04T13:05:05.993Z"
   },
   {
    "duration": 51,
    "start_time": "2022-04-04T13:05:06.069Z"
   },
   {
    "duration": 68,
    "start_time": "2022-04-04T13:05:06.122Z"
   },
   {
    "duration": 46,
    "start_time": "2022-04-04T13:05:06.192Z"
   },
   {
    "duration": 49,
    "start_time": "2022-04-04T13:16:03.510Z"
   },
   {
    "duration": 140,
    "start_time": "2022-04-04T13:16:44.957Z"
   },
   {
    "duration": 6,
    "start_time": "2022-04-04T13:17:03.265Z"
   },
   {
    "duration": 235,
    "start_time": "2022-04-04T13:17:03.273Z"
   },
   {
    "duration": 27,
    "start_time": "2022-04-04T13:17:03.511Z"
   },
   {
    "duration": 29,
    "start_time": "2022-04-04T13:17:03.540Z"
   },
   {
    "duration": 20,
    "start_time": "2022-04-04T13:17:03.571Z"
   },
   {
    "duration": 6,
    "start_time": "2022-04-04T13:17:03.593Z"
   },
   {
    "duration": 161,
    "start_time": "2022-04-04T13:17:03.601Z"
   },
   {
    "duration": 79,
    "start_time": "2022-04-04T13:17:03.768Z"
   },
   {
    "duration": 22,
    "start_time": "2022-04-04T13:17:03.849Z"
   },
   {
    "duration": 8,
    "start_time": "2022-04-04T13:17:03.873Z"
   },
   {
    "duration": 20,
    "start_time": "2022-04-04T13:17:03.885Z"
   },
   {
    "duration": 28,
    "start_time": "2022-04-04T13:17:03.907Z"
   },
   {
    "duration": 14,
    "start_time": "2022-04-04T13:17:03.967Z"
   },
   {
    "duration": 43,
    "start_time": "2022-04-04T13:17:03.983Z"
   },
   {
    "duration": 58,
    "start_time": "2022-04-04T13:17:04.028Z"
   },
   {
    "duration": 9,
    "start_time": "2022-04-04T13:17:04.088Z"
   },
   {
    "duration": 9,
    "start_time": "2022-04-04T13:17:04.100Z"
   },
   {
    "duration": 22,
    "start_time": "2022-04-04T13:17:04.111Z"
   },
   {
    "duration": 64,
    "start_time": "2022-04-04T13:17:04.135Z"
   },
   {
    "duration": 6,
    "start_time": "2022-04-04T13:17:04.201Z"
   },
   {
    "duration": 298,
    "start_time": "2022-04-04T13:17:04.209Z"
   },
   {
    "duration": 12,
    "start_time": "2022-04-04T13:17:04.509Z"
   },
   {
    "duration": 46,
    "start_time": "2022-04-04T13:17:04.523Z"
   },
   {
    "duration": 12,
    "start_time": "2022-04-04T13:17:04.571Z"
   },
   {
    "duration": 9,
    "start_time": "2022-04-04T13:17:04.585Z"
   },
   {
    "duration": 73,
    "start_time": "2022-04-04T13:17:04.596Z"
   },
   {
    "duration": 10,
    "start_time": "2022-04-04T13:17:04.671Z"
   },
   {
    "duration": 34,
    "start_time": "2022-04-04T13:17:04.683Z"
   },
   {
    "duration": 93,
    "start_time": "2022-04-04T13:17:04.723Z"
   },
   {
    "duration": 7,
    "start_time": "2022-04-04T13:17:04.819Z"
   },
   {
    "duration": 12,
    "start_time": "2022-04-04T13:17:04.828Z"
   },
   {
    "duration": 30,
    "start_time": "2022-04-04T13:17:04.842Z"
   },
   {
    "duration": 9,
    "start_time": "2022-04-04T13:17:04.874Z"
   },
   {
    "duration": 11,
    "start_time": "2022-04-04T13:17:04.885Z"
   },
   {
    "duration": 219,
    "start_time": "2022-04-04T13:17:04.898Z"
   },
   {
    "duration": 121,
    "start_time": "2022-04-04T13:17:05.119Z"
   },
   {
    "duration": 52,
    "start_time": "2022-04-04T13:17:05.243Z"
   },
   {
    "duration": 220,
    "start_time": "2022-04-04T13:17:05.297Z"
   },
   {
    "duration": 13,
    "start_time": "2022-04-04T13:17:05.519Z"
   },
   {
    "duration": 4,
    "start_time": "2022-04-04T13:17:05.535Z"
   },
   {
    "duration": 4,
    "start_time": "2022-04-04T13:17:05.566Z"
   },
   {
    "duration": 7,
    "start_time": "2022-04-04T13:17:05.573Z"
   },
   {
    "duration": 17,
    "start_time": "2022-04-04T13:17:05.582Z"
   },
   {
    "duration": 7,
    "start_time": "2022-04-04T13:17:05.601Z"
   },
   {
    "duration": 9,
    "start_time": "2022-04-04T13:17:05.610Z"
   },
   {
    "duration": 78,
    "start_time": "2022-04-04T13:17:05.621Z"
   },
   {
    "duration": 44,
    "start_time": "2022-04-04T13:17:05.701Z"
   },
   {
    "duration": 46,
    "start_time": "2022-04-04T13:17:05.767Z"
   },
   {
    "duration": 66,
    "start_time": "2022-04-04T13:17:05.815Z"
   },
   {
    "duration": 46,
    "start_time": "2022-04-04T13:17:05.882Z"
   },
   {
    "duration": 6,
    "start_time": "2022-04-04T13:24:08.140Z"
   },
   {
    "duration": 196,
    "start_time": "2022-04-04T13:24:08.148Z"
   },
   {
    "duration": 26,
    "start_time": "2022-04-04T13:24:08.367Z"
   },
   {
    "duration": 10,
    "start_time": "2022-04-04T13:24:08.395Z"
   },
   {
    "duration": 20,
    "start_time": "2022-04-04T13:24:08.408Z"
   },
   {
    "duration": 37,
    "start_time": "2022-04-04T13:24:08.431Z"
   },
   {
    "duration": 160,
    "start_time": "2022-04-04T13:24:08.471Z"
   },
   {
    "duration": 92,
    "start_time": "2022-04-04T13:24:08.633Z"
   },
   {
    "duration": 9,
    "start_time": "2022-04-04T13:24:08.727Z"
   },
   {
    "duration": 7,
    "start_time": "2022-04-04T13:24:08.739Z"
   },
   {
    "duration": 20,
    "start_time": "2022-04-04T13:24:08.769Z"
   },
   {
    "duration": 28,
    "start_time": "2022-04-04T13:24:08.791Z"
   },
   {
    "duration": 48,
    "start_time": "2022-04-04T13:24:08.822Z"
   },
   {
    "duration": 43,
    "start_time": "2022-04-04T13:24:08.872Z"
   },
   {
    "duration": 62,
    "start_time": "2022-04-04T13:24:08.917Z"
   },
   {
    "duration": 9,
    "start_time": "2022-04-04T13:24:08.981Z"
   },
   {
    "duration": 12,
    "start_time": "2022-04-04T13:24:08.992Z"
   },
   {
    "duration": 25,
    "start_time": "2022-04-04T13:24:09.006Z"
   },
   {
    "duration": 34,
    "start_time": "2022-04-04T13:24:09.068Z"
   },
   {
    "duration": 7,
    "start_time": "2022-04-04T13:24:09.104Z"
   },
   {
    "duration": 300,
    "start_time": "2022-04-04T13:24:09.114Z"
   },
   {
    "duration": 14,
    "start_time": "2022-04-04T13:24:09.416Z"
   },
   {
    "duration": 51,
    "start_time": "2022-04-04T13:24:09.433Z"
   },
   {
    "duration": 19,
    "start_time": "2022-04-04T13:24:09.487Z"
   },
   {
    "duration": 13,
    "start_time": "2022-04-04T13:24:09.509Z"
   },
   {
    "duration": 83,
    "start_time": "2022-04-04T13:24:09.525Z"
   },
   {
    "duration": 14,
    "start_time": "2022-04-04T13:24:09.611Z"
   },
   {
    "duration": 77,
    "start_time": "2022-04-04T13:24:09.628Z"
   },
   {
    "duration": 112,
    "start_time": "2022-04-04T13:24:09.715Z"
   },
   {
    "duration": 13,
    "start_time": "2022-04-04T13:24:09.831Z"
   },
   {
    "duration": 29,
    "start_time": "2022-04-04T13:24:09.847Z"
   },
   {
    "duration": 15,
    "start_time": "2022-04-04T13:24:09.879Z"
   },
   {
    "duration": 9,
    "start_time": "2022-04-04T13:24:09.897Z"
   },
   {
    "duration": 11,
    "start_time": "2022-04-04T13:24:09.909Z"
   },
   {
    "duration": 331,
    "start_time": "2022-04-04T13:24:09.923Z"
   },
   {
    "duration": 171,
    "start_time": "2022-04-04T13:24:10.256Z"
   },
   {
    "duration": 72,
    "start_time": "2022-04-04T13:24:10.430Z"
   },
   {
    "duration": 193,
    "start_time": "2022-04-04T13:24:10.505Z"
   },
   {
    "duration": 19,
    "start_time": "2022-04-04T13:24:10.701Z"
   },
   {
    "duration": 5,
    "start_time": "2022-04-04T13:24:10.722Z"
   },
   {
    "duration": 6,
    "start_time": "2022-04-04T13:24:10.729Z"
   },
   {
    "duration": 9,
    "start_time": "2022-04-04T13:24:10.768Z"
   },
   {
    "duration": 20,
    "start_time": "2022-04-04T13:24:10.781Z"
   },
   {
    "duration": 7,
    "start_time": "2022-04-04T13:24:10.804Z"
   },
   {
    "duration": 8,
    "start_time": "2022-04-04T13:24:10.814Z"
   },
   {
    "duration": 82,
    "start_time": "2022-04-04T13:24:10.824Z"
   },
   {
    "duration": 70,
    "start_time": "2022-04-04T13:24:10.908Z"
   },
   {
    "duration": 48,
    "start_time": "2022-04-04T13:24:10.980Z"
   },
   {
    "duration": 77,
    "start_time": "2022-04-04T13:24:11.030Z"
   },
   {
    "duration": 66,
    "start_time": "2022-04-04T13:24:11.109Z"
   },
   {
    "duration": 1314,
    "start_time": "2022-04-05T12:23:59.062Z"
   },
   {
    "duration": 138,
    "start_time": "2022-04-05T12:24:00.378Z"
   },
   {
    "duration": 21,
    "start_time": "2022-04-05T12:24:00.518Z"
   },
   {
    "duration": 21,
    "start_time": "2022-04-05T12:24:00.542Z"
   },
   {
    "duration": 16,
    "start_time": "2022-04-05T12:24:00.565Z"
   },
   {
    "duration": 20,
    "start_time": "2022-04-05T12:24:00.583Z"
   },
   {
    "duration": 119,
    "start_time": "2022-04-05T12:24:00.605Z"
   },
   {
    "duration": 71,
    "start_time": "2022-04-05T12:24:00.726Z"
   },
   {
    "duration": 7,
    "start_time": "2022-04-05T12:24:00.799Z"
   },
   {
    "duration": 10,
    "start_time": "2022-04-05T12:24:00.808Z"
   },
   {
    "duration": 16,
    "start_time": "2022-04-05T12:24:00.820Z"
   },
   {
    "duration": 34,
    "start_time": "2022-04-05T12:24:00.838Z"
   },
   {
    "duration": 9,
    "start_time": "2022-04-05T12:24:00.873Z"
   },
   {
    "duration": 30,
    "start_time": "2022-04-05T12:24:00.883Z"
   },
   {
    "duration": 23,
    "start_time": "2022-04-05T12:24:00.914Z"
   },
   {
    "duration": 29,
    "start_time": "2022-04-05T12:24:00.939Z"
   },
   {
    "duration": 7,
    "start_time": "2022-04-05T12:24:00.969Z"
   },
   {
    "duration": 19,
    "start_time": "2022-04-05T12:24:00.977Z"
   },
   {
    "duration": 25,
    "start_time": "2022-04-05T12:24:00.997Z"
   },
   {
    "duration": 4,
    "start_time": "2022-04-05T12:24:01.023Z"
   },
   {
    "duration": 266,
    "start_time": "2022-04-05T12:24:01.029Z"
   },
   {
    "duration": 10,
    "start_time": "2022-04-05T12:24:01.297Z"
   },
   {
    "duration": 22,
    "start_time": "2022-04-05T12:24:01.309Z"
   },
   {
    "duration": 30,
    "start_time": "2022-04-05T12:24:01.333Z"
   },
   {
    "duration": 7,
    "start_time": "2022-04-05T12:24:01.365Z"
   },
   {
    "duration": 31,
    "start_time": "2022-04-05T12:24:01.374Z"
   },
   {
    "duration": 10,
    "start_time": "2022-04-05T12:24:01.407Z"
   },
   {
    "duration": 51,
    "start_time": "2022-04-05T12:24:01.421Z"
   },
   {
    "duration": 54,
    "start_time": "2022-04-05T12:24:01.474Z"
   },
   {
    "duration": 7,
    "start_time": "2022-04-05T12:24:01.530Z"
   },
   {
    "duration": 28,
    "start_time": "2022-04-05T12:24:01.539Z"
   },
   {
    "duration": 24,
    "start_time": "2022-04-05T12:24:01.569Z"
   },
   {
    "duration": 18,
    "start_time": "2022-04-05T12:24:01.594Z"
   },
   {
    "duration": 14,
    "start_time": "2022-04-05T12:24:01.613Z"
   },
   {
    "duration": 137,
    "start_time": "2022-04-05T12:24:01.629Z"
   },
   {
    "duration": 72,
    "start_time": "2022-04-05T12:24:01.768Z"
   },
   {
    "duration": 47,
    "start_time": "2022-04-05T12:24:01.842Z"
   },
   {
    "duration": 92,
    "start_time": "2022-04-05T12:24:01.890Z"
   },
   {
    "duration": 9,
    "start_time": "2022-04-05T12:24:01.984Z"
   },
   {
    "duration": 42,
    "start_time": "2022-04-05T12:24:01.994Z"
   },
   {
    "duration": 17,
    "start_time": "2022-04-05T12:24:02.038Z"
   },
   {
    "duration": 16,
    "start_time": "2022-04-05T12:24:02.057Z"
   },
   {
    "duration": 20,
    "start_time": "2022-04-05T12:24:02.074Z"
   },
   {
    "duration": 53,
    "start_time": "2022-04-05T12:24:02.096Z"
   },
   {
    "duration": 38,
    "start_time": "2022-04-05T12:24:02.151Z"
   },
   {
    "duration": 60,
    "start_time": "2022-04-05T12:24:02.190Z"
   },
   {
    "duration": 131,
    "start_time": "2022-04-05T12:24:02.251Z"
   },
   {
    "duration": 100,
    "start_time": "2022-04-05T12:24:02.384Z"
   },
   {
    "duration": 53,
    "start_time": "2022-04-05T12:24:02.485Z"
   },
   {
    "duration": 40,
    "start_time": "2022-04-05T12:24:02.540Z"
   },
   {
    "duration": 3,
    "start_time": "2022-04-05T12:39:57.036Z"
   },
   {
    "duration": 158,
    "start_time": "2022-04-05T12:39:57.040Z"
   },
   {
    "duration": 18,
    "start_time": "2022-04-05T12:39:57.200Z"
   },
   {
    "duration": 7,
    "start_time": "2022-04-05T12:39:57.219Z"
   },
   {
    "duration": 36,
    "start_time": "2022-04-05T12:39:57.228Z"
   },
   {
    "duration": 3,
    "start_time": "2022-04-05T12:39:57.265Z"
   },
   {
    "duration": 101,
    "start_time": "2022-04-05T12:39:57.269Z"
   },
   {
    "duration": 49,
    "start_time": "2022-04-05T12:39:57.371Z"
   },
   {
    "duration": 7,
    "start_time": "2022-04-05T12:39:57.421Z"
   },
   {
    "duration": 12,
    "start_time": "2022-04-05T12:39:57.429Z"
   },
   {
    "duration": 29,
    "start_time": "2022-04-05T12:39:57.444Z"
   },
   {
    "duration": 19,
    "start_time": "2022-04-05T12:39:57.474Z"
   },
   {
    "duration": 7,
    "start_time": "2022-04-05T12:39:57.495Z"
   },
   {
    "duration": 29,
    "start_time": "2022-04-05T12:39:57.504Z"
   },
   {
    "duration": 39,
    "start_time": "2022-04-05T12:39:57.535Z"
   },
   {
    "duration": 6,
    "start_time": "2022-04-05T12:39:57.575Z"
   },
   {
    "duration": 15,
    "start_time": "2022-04-05T12:39:57.582Z"
   },
   {
    "duration": 16,
    "start_time": "2022-04-05T12:39:57.598Z"
   },
   {
    "duration": 20,
    "start_time": "2022-04-05T12:39:57.616Z"
   },
   {
    "duration": 25,
    "start_time": "2022-04-05T12:39:57.638Z"
   },
   {
    "duration": 162,
    "start_time": "2022-04-05T12:39:57.665Z"
   },
   {
    "duration": 9,
    "start_time": "2022-04-05T12:39:57.829Z"
   },
   {
    "duration": 29,
    "start_time": "2022-04-05T12:39:57.840Z"
   },
   {
    "duration": 8,
    "start_time": "2022-04-05T12:39:57.870Z"
   },
   {
    "duration": 5,
    "start_time": "2022-04-05T12:39:57.880Z"
   },
   {
    "duration": 25,
    "start_time": "2022-04-05T12:39:57.887Z"
   },
   {
    "duration": 6,
    "start_time": "2022-04-05T12:39:57.914Z"
   },
   {
    "duration": 49,
    "start_time": "2022-04-05T12:39:57.922Z"
   },
   {
    "duration": 48,
    "start_time": "2022-04-05T12:39:57.974Z"
   },
   {
    "duration": 6,
    "start_time": "2022-04-05T12:39:58.024Z"
   },
   {
    "duration": 10,
    "start_time": "2022-04-05T12:39:58.031Z"
   },
   {
    "duration": 24,
    "start_time": "2022-04-05T12:39:58.042Z"
   },
   {
    "duration": 5,
    "start_time": "2022-04-05T12:39:58.068Z"
   },
   {
    "duration": 15,
    "start_time": "2022-04-05T12:39:58.074Z"
   },
   {
    "duration": 111,
    "start_time": "2022-04-05T12:39:58.091Z"
   },
   {
    "duration": 76,
    "start_time": "2022-04-05T12:39:58.203Z"
   },
   {
    "duration": 28,
    "start_time": "2022-04-05T12:39:58.280Z"
   },
   {
    "duration": 93,
    "start_time": "2022-04-05T12:39:58.310Z"
   },
   {
    "duration": 8,
    "start_time": "2022-04-05T12:39:58.404Z"
   },
   {
    "duration": 3,
    "start_time": "2022-04-05T12:39:58.413Z"
   },
   {
    "duration": 5,
    "start_time": "2022-04-05T12:39:58.417Z"
   },
   {
    "duration": 5,
    "start_time": "2022-04-05T12:39:58.424Z"
   },
   {
    "duration": 32,
    "start_time": "2022-04-05T12:39:58.431Z"
   },
   {
    "duration": 4,
    "start_time": "2022-04-05T12:39:58.464Z"
   },
   {
    "duration": 9,
    "start_time": "2022-04-05T12:39:58.470Z"
   },
   {
    "duration": 33,
    "start_time": "2022-04-05T12:39:58.480Z"
   },
   {
    "duration": 63,
    "start_time": "2022-04-05T12:39:58.515Z"
   },
   {
    "duration": 37,
    "start_time": "2022-04-05T12:39:58.581Z"
   },
   {
    "duration": 45,
    "start_time": "2022-04-05T12:39:58.619Z"
   },
   {
    "duration": 28,
    "start_time": "2022-04-05T12:39:58.665Z"
   },
   {
    "duration": 27,
    "start_time": "2022-04-05T12:39:58.694Z"
   },
   {
    "duration": 109,
    "start_time": "2022-04-05T12:42:25.643Z"
   },
   {
    "duration": 2713,
    "start_time": "2022-04-05T12:43:01.623Z"
   },
   {
    "duration": 2813,
    "start_time": "2022-04-05T12:43:21.243Z"
   },
   {
    "duration": 2684,
    "start_time": "2022-04-05T12:43:37.384Z"
   },
   {
    "duration": 29,
    "start_time": "2022-04-05T12:44:02.875Z"
   },
   {
    "duration": 3070,
    "start_time": "2022-04-05T12:44:24.723Z"
   },
   {
    "duration": 29,
    "start_time": "2022-04-05T12:46:14.423Z"
   },
   {
    "duration": 18,
    "start_time": "2022-04-05T12:46:28.923Z"
   },
   {
    "duration": 5,
    "start_time": "2022-04-05T12:48:10.447Z"
   },
   {
    "duration": 4,
    "start_time": "2022-04-05T12:51:12.106Z"
   },
   {
    "duration": 7,
    "start_time": "2022-04-05T12:51:17.967Z"
   },
   {
    "duration": 291,
    "start_time": "2022-04-05T12:54:05.379Z"
   },
   {
    "duration": 1815,
    "start_time": "2022-04-06T09:06:09.029Z"
   },
   {
    "duration": 189,
    "start_time": "2022-04-06T09:06:10.847Z"
   },
   {
    "duration": 36,
    "start_time": "2022-04-06T09:06:11.038Z"
   },
   {
    "duration": 15,
    "start_time": "2022-04-06T09:06:11.077Z"
   },
   {
    "duration": 20,
    "start_time": "2022-04-06T09:06:11.094Z"
   },
   {
    "duration": 5,
    "start_time": "2022-04-06T09:06:11.116Z"
   },
   {
    "duration": 193,
    "start_time": "2022-04-06T09:06:11.123Z"
   },
   {
    "duration": 108,
    "start_time": "2022-04-06T09:06:11.319Z"
   },
   {
    "duration": 10,
    "start_time": "2022-04-06T09:06:11.430Z"
   },
   {
    "duration": 25,
    "start_time": "2022-04-06T09:06:11.444Z"
   },
   {
    "duration": 20,
    "start_time": "2022-04-06T09:06:11.471Z"
   },
   {
    "duration": 28,
    "start_time": "2022-04-06T09:06:11.493Z"
   },
   {
    "duration": 13,
    "start_time": "2022-04-06T09:06:11.524Z"
   },
   {
    "duration": 44,
    "start_time": "2022-04-06T09:06:11.568Z"
   },
   {
    "duration": 57,
    "start_time": "2022-04-06T09:06:11.615Z"
   },
   {
    "duration": 11,
    "start_time": "2022-04-06T09:06:11.674Z"
   },
   {
    "duration": 10,
    "start_time": "2022-04-06T09:06:11.687Z"
   },
   {
    "duration": 25,
    "start_time": "2022-04-06T09:06:11.699Z"
   },
   {
    "duration": 72,
    "start_time": "2022-04-06T09:06:11.726Z"
   },
   {
    "duration": 7,
    "start_time": "2022-04-06T09:06:11.800Z"
   },
   {
    "duration": 419,
    "start_time": "2022-04-06T09:06:11.809Z"
   },
   {
    "duration": 13,
    "start_time": "2022-04-06T09:06:12.230Z"
   },
   {
    "duration": 42,
    "start_time": "2022-04-06T09:06:12.245Z"
   },
   {
    "duration": 15,
    "start_time": "2022-04-06T09:06:12.289Z"
   },
   {
    "duration": 9,
    "start_time": "2022-04-06T09:06:12.306Z"
   },
   {
    "duration": 69,
    "start_time": "2022-04-06T09:06:12.317Z"
   },
   {
    "duration": 10,
    "start_time": "2022-04-06T09:06:12.388Z"
   },
   {
    "duration": 34,
    "start_time": "2022-04-06T09:06:12.403Z"
   },
   {
    "duration": 91,
    "start_time": "2022-04-06T09:06:12.440Z"
   },
   {
    "duration": 9,
    "start_time": "2022-04-06T09:06:12.533Z"
   },
   {
    "duration": 9,
    "start_time": "2022-04-06T09:06:12.568Z"
   },
   {
    "duration": 11,
    "start_time": "2022-04-06T09:06:12.580Z"
   },
   {
    "duration": 6,
    "start_time": "2022-04-06T09:06:12.593Z"
   },
   {
    "duration": 10,
    "start_time": "2022-04-06T09:06:12.601Z"
   },
   {
    "duration": 235,
    "start_time": "2022-04-06T09:06:12.613Z"
   },
   {
    "duration": 119,
    "start_time": "2022-04-06T09:06:12.850Z"
   },
   {
    "duration": 40,
    "start_time": "2022-04-06T09:06:12.971Z"
   },
   {
    "duration": 145,
    "start_time": "2022-04-06T09:06:13.013Z"
   },
   {
    "duration": 15,
    "start_time": "2022-04-06T09:06:13.168Z"
   },
   {
    "duration": 5,
    "start_time": "2022-04-06T09:06:13.185Z"
   },
   {
    "duration": 8,
    "start_time": "2022-04-06T09:06:13.192Z"
   },
   {
    "duration": 10,
    "start_time": "2022-04-06T09:06:13.202Z"
   },
   {
    "duration": 16,
    "start_time": "2022-04-06T09:06:13.214Z"
   },
   {
    "duration": 7,
    "start_time": "2022-04-06T09:06:13.269Z"
   },
   {
    "duration": 9,
    "start_time": "2022-04-06T09:06:13.278Z"
   },
   {
    "duration": 45,
    "start_time": "2022-04-06T09:06:13.289Z"
   },
   {
    "duration": 75,
    "start_time": "2022-04-06T09:06:13.337Z"
   },
   {
    "duration": 75,
    "start_time": "2022-04-06T09:06:13.415Z"
   },
   {
    "duration": 85,
    "start_time": "2022-04-06T09:06:13.493Z"
   },
   {
    "duration": 45,
    "start_time": "2022-04-06T09:06:13.580Z"
   },
   {
    "duration": 71,
    "start_time": "2022-04-06T09:06:13.627Z"
   },
   {
    "duration": 50,
    "start_time": "2022-04-06T09:06:43.988Z"
   },
   {
    "duration": 174,
    "start_time": "2022-04-06T09:07:11.532Z"
   },
   {
    "duration": 33,
    "start_time": "2022-04-06T09:07:23.520Z"
   },
   {
    "duration": 32,
    "start_time": "2022-04-06T09:07:26.464Z"
   },
   {
    "duration": 23,
    "start_time": "2022-04-06T09:12:50.759Z"
   },
   {
    "duration": 48,
    "start_time": "2022-04-06T09:13:27.879Z"
   },
   {
    "duration": 50,
    "start_time": "2022-04-06T09:13:37.691Z"
   },
   {
    "duration": 50,
    "start_time": "2022-04-06T09:13:48.747Z"
   },
   {
    "duration": 49,
    "start_time": "2022-04-06T09:13:52.467Z"
   },
   {
    "duration": 5,
    "start_time": "2022-04-06T09:26:13.337Z"
   },
   {
    "duration": 240,
    "start_time": "2022-04-06T09:26:13.345Z"
   },
   {
    "duration": 28,
    "start_time": "2022-04-06T09:26:13.588Z"
   },
   {
    "duration": 21,
    "start_time": "2022-04-06T09:26:13.618Z"
   },
   {
    "duration": 41,
    "start_time": "2022-04-06T09:26:13.641Z"
   },
   {
    "duration": 5,
    "start_time": "2022-04-06T09:26:13.684Z"
   },
   {
    "duration": 237,
    "start_time": "2022-04-06T09:26:13.691Z"
   },
   {
    "duration": 100,
    "start_time": "2022-04-06T09:26:13.930Z"
   },
   {
    "duration": 10,
    "start_time": "2022-04-06T09:26:14.033Z"
   },
   {
    "duration": 25,
    "start_time": "2022-04-06T09:26:14.045Z"
   },
   {
    "duration": 22,
    "start_time": "2022-04-06T09:26:14.075Z"
   },
   {
    "duration": 30,
    "start_time": "2022-04-06T09:26:14.100Z"
   },
   {
    "duration": 39,
    "start_time": "2022-04-06T09:26:14.132Z"
   },
   {
    "duration": 44,
    "start_time": "2022-04-06T09:26:14.174Z"
   },
   {
    "duration": 59,
    "start_time": "2022-04-06T09:26:14.220Z"
   },
   {
    "duration": 10,
    "start_time": "2022-04-06T09:26:14.281Z"
   },
   {
    "duration": 10,
    "start_time": "2022-04-06T09:26:14.293Z"
   },
   {
    "duration": 25,
    "start_time": "2022-04-06T09:26:14.305Z"
   },
   {
    "duration": 65,
    "start_time": "2022-04-06T09:26:14.332Z"
   },
   {
    "duration": 6,
    "start_time": "2022-04-06T09:26:14.400Z"
   },
   {
    "duration": 298,
    "start_time": "2022-04-06T09:26:14.408Z"
   },
   {
    "duration": 13,
    "start_time": "2022-04-06T09:26:14.708Z"
   },
   {
    "duration": 45,
    "start_time": "2022-04-06T09:26:14.722Z"
   },
   {
    "duration": 12,
    "start_time": "2022-04-06T09:26:14.770Z"
   },
   {
    "duration": 9,
    "start_time": "2022-04-06T09:26:14.784Z"
   },
   {
    "duration": 40,
    "start_time": "2022-04-06T09:26:14.795Z"
   },
   {
    "duration": 10,
    "start_time": "2022-04-06T09:26:14.867Z"
   },
   {
    "duration": 31,
    "start_time": "2022-04-06T09:26:14.880Z"
   },
   {
    "duration": 94,
    "start_time": "2022-04-06T09:26:14.917Z"
   },
   {
    "duration": 10,
    "start_time": "2022-04-06T09:26:15.013Z"
   },
   {
    "duration": 12,
    "start_time": "2022-04-06T09:26:15.025Z"
   },
   {
    "duration": 32,
    "start_time": "2022-04-06T09:26:15.040Z"
   },
   {
    "duration": 12,
    "start_time": "2022-04-06T09:26:15.074Z"
   },
   {
    "duration": 15,
    "start_time": "2022-04-06T09:26:15.089Z"
   },
   {
    "duration": 219,
    "start_time": "2022-04-06T09:26:15.107Z"
   },
   {
    "duration": 129,
    "start_time": "2022-04-06T09:26:15.329Z"
   },
   {
    "duration": 38,
    "start_time": "2022-04-06T09:26:15.474Z"
   },
   {
    "duration": 134,
    "start_time": "2022-04-06T09:26:15.515Z"
   },
   {
    "duration": 21,
    "start_time": "2022-04-06T09:26:15.652Z"
   },
   {
    "duration": 3,
    "start_time": "2022-04-06T09:26:15.676Z"
   },
   {
    "duration": 7,
    "start_time": "2022-04-06T09:26:15.682Z"
   },
   {
    "duration": 7,
    "start_time": "2022-04-06T09:26:15.692Z"
   },
   {
    "duration": 15,
    "start_time": "2022-04-06T09:26:15.702Z"
   },
   {
    "duration": 50,
    "start_time": "2022-04-06T09:26:15.720Z"
   },
   {
    "duration": 9,
    "start_time": "2022-04-06T09:26:15.772Z"
   },
   {
    "duration": 51,
    "start_time": "2022-04-06T09:26:15.783Z"
   },
   {
    "duration": 80,
    "start_time": "2022-04-06T09:26:15.836Z"
   },
   {
    "duration": 68,
    "start_time": "2022-04-06T09:26:15.919Z"
   },
   {
    "duration": 66,
    "start_time": "2022-04-06T09:26:15.990Z"
   },
   {
    "duration": 53,
    "start_time": "2022-04-06T09:26:16.059Z"
   },
   {
    "duration": 69,
    "start_time": "2022-04-06T09:26:16.115Z"
   },
   {
    "duration": 50,
    "start_time": "2022-04-06T09:29:24.120Z"
   },
   {
    "duration": 124,
    "start_time": "2022-04-06T09:35:51.635Z"
   },
   {
    "duration": 1350,
    "start_time": "2022-04-08T11:56:41.839Z"
   },
   {
    "duration": 142,
    "start_time": "2022-04-08T11:56:43.191Z"
   },
   {
    "duration": 20,
    "start_time": "2022-04-08T11:56:43.335Z"
   },
   {
    "duration": 22,
    "start_time": "2022-04-08T11:56:43.357Z"
   },
   {
    "duration": 18,
    "start_time": "2022-04-08T11:56:43.381Z"
   },
   {
    "duration": 3,
    "start_time": "2022-04-08T11:56:43.400Z"
   },
   {
    "duration": 122,
    "start_time": "2022-04-08T11:56:43.405Z"
   },
   {
    "duration": 73,
    "start_time": "2022-04-08T11:56:43.528Z"
   },
   {
    "duration": 7,
    "start_time": "2022-04-08T11:56:43.603Z"
   },
   {
    "duration": 9,
    "start_time": "2022-04-08T11:56:43.611Z"
   },
   {
    "duration": 19,
    "start_time": "2022-04-08T11:56:43.621Z"
   },
   {
    "duration": 20,
    "start_time": "2022-04-08T11:56:43.641Z"
   },
   {
    "duration": 9,
    "start_time": "2022-04-08T11:56:43.662Z"
   },
   {
    "duration": 51,
    "start_time": "2022-04-08T11:56:43.674Z"
   },
   {
    "duration": 22,
    "start_time": "2022-04-08T11:56:43.727Z"
   },
   {
    "duration": 7,
    "start_time": "2022-04-08T11:56:43.751Z"
   },
   {
    "duration": 10,
    "start_time": "2022-04-08T11:56:43.759Z"
   },
   {
    "duration": 42,
    "start_time": "2022-04-08T11:56:43.771Z"
   },
   {
    "duration": 24,
    "start_time": "2022-04-08T11:56:43.815Z"
   },
   {
    "duration": 4,
    "start_time": "2022-04-08T11:56:43.841Z"
   },
   {
    "duration": 256,
    "start_time": "2022-04-08T11:56:43.847Z"
   },
   {
    "duration": 9,
    "start_time": "2022-04-08T11:56:44.105Z"
   },
   {
    "duration": 20,
    "start_time": "2022-04-08T11:56:44.116Z"
   },
   {
    "duration": 10,
    "start_time": "2022-04-08T11:56:44.138Z"
   },
   {
    "duration": 9,
    "start_time": "2022-04-08T11:56:44.149Z"
   },
   {
    "duration": 54,
    "start_time": "2022-04-08T11:56:44.160Z"
   },
   {
    "duration": 7,
    "start_time": "2022-04-08T11:56:44.215Z"
   },
   {
    "duration": 25,
    "start_time": "2022-04-08T11:56:44.224Z"
   },
   {
    "duration": 67,
    "start_time": "2022-04-08T11:56:44.251Z"
   },
   {
    "duration": 6,
    "start_time": "2022-04-08T11:56:44.320Z"
   },
   {
    "duration": 8,
    "start_time": "2022-04-08T11:56:44.328Z"
   },
   {
    "duration": 7,
    "start_time": "2022-04-08T11:56:44.337Z"
   },
   {
    "duration": 16,
    "start_time": "2022-04-08T11:56:44.346Z"
   },
   {
    "duration": 16,
    "start_time": "2022-04-08T11:56:44.363Z"
   },
   {
    "duration": 137,
    "start_time": "2022-04-08T11:56:44.381Z"
   },
   {
    "duration": 88,
    "start_time": "2022-04-08T11:56:44.521Z"
   },
   {
    "duration": 32,
    "start_time": "2022-04-08T11:56:44.611Z"
   },
   {
    "duration": 108,
    "start_time": "2022-04-08T11:56:44.645Z"
   },
   {
    "duration": 12,
    "start_time": "2022-04-08T11:56:44.755Z"
   },
   {
    "duration": 3,
    "start_time": "2022-04-08T11:56:44.768Z"
   },
   {
    "duration": 4,
    "start_time": "2022-04-08T11:56:44.774Z"
   },
   {
    "duration": 30,
    "start_time": "2022-04-08T11:56:44.779Z"
   },
   {
    "duration": 20,
    "start_time": "2022-04-08T11:56:44.811Z"
   },
   {
    "duration": 13,
    "start_time": "2022-04-08T11:56:44.833Z"
   },
   {
    "duration": 18,
    "start_time": "2022-04-08T11:56:44.847Z"
   },
   {
    "duration": 42,
    "start_time": "2022-04-08T11:56:44.867Z"
   },
   {
    "duration": 33,
    "start_time": "2022-04-08T11:56:44.910Z"
   },
   {
    "duration": 32,
    "start_time": "2022-04-08T11:56:44.944Z"
   },
   {
    "duration": 54,
    "start_time": "2022-04-08T11:56:44.978Z"
   },
   {
    "duration": 37,
    "start_time": "2022-04-08T11:56:45.034Z"
   },
   {
    "duration": 178,
    "start_time": "2022-04-08T11:56:57.743Z"
   },
   {
    "duration": 3,
    "start_time": "2022-04-08T11:57:06.417Z"
   },
   {
    "duration": 150,
    "start_time": "2022-04-08T11:57:06.422Z"
   },
   {
    "duration": 27,
    "start_time": "2022-04-08T11:57:06.574Z"
   },
   {
    "duration": 14,
    "start_time": "2022-04-08T11:57:06.603Z"
   },
   {
    "duration": 40,
    "start_time": "2022-04-08T11:57:06.619Z"
   },
   {
    "duration": 19,
    "start_time": "2022-04-08T11:57:06.661Z"
   },
   {
    "duration": 107,
    "start_time": "2022-04-08T11:57:06.682Z"
   },
   {
    "duration": 53,
    "start_time": "2022-04-08T11:57:06.791Z"
   },
   {
    "duration": 7,
    "start_time": "2022-04-08T11:57:06.846Z"
   },
   {
    "duration": 5,
    "start_time": "2022-04-08T11:57:06.855Z"
   },
   {
    "duration": 39,
    "start_time": "2022-04-08T11:57:06.862Z"
   },
   {
    "duration": 22,
    "start_time": "2022-04-08T11:57:06.903Z"
   },
   {
    "duration": 17,
    "start_time": "2022-04-08T11:57:06.926Z"
   },
   {
    "duration": 47,
    "start_time": "2022-04-08T11:57:06.944Z"
   },
   {
    "duration": 39,
    "start_time": "2022-04-08T11:57:06.993Z"
   },
   {
    "duration": 17,
    "start_time": "2022-04-08T11:57:07.034Z"
   },
   {
    "duration": 11,
    "start_time": "2022-04-08T11:57:07.053Z"
   },
   {
    "duration": 50,
    "start_time": "2022-04-08T11:57:07.066Z"
   },
   {
    "duration": 31,
    "start_time": "2022-04-08T11:57:07.118Z"
   },
   {
    "duration": 5,
    "start_time": "2022-04-08T11:57:07.151Z"
   },
   {
    "duration": 187,
    "start_time": "2022-04-08T11:57:07.158Z"
   },
   {
    "duration": 9,
    "start_time": "2022-04-08T11:57:07.347Z"
   },
   {
    "duration": 19,
    "start_time": "2022-04-08T11:57:07.357Z"
   },
   {
    "duration": 25,
    "start_time": "2022-04-08T11:57:07.380Z"
   },
   {
    "duration": 7,
    "start_time": "2022-04-08T11:57:07.407Z"
   },
   {
    "duration": 59,
    "start_time": "2022-04-08T11:57:07.415Z"
   },
   {
    "duration": 8,
    "start_time": "2022-04-08T11:57:07.475Z"
   },
   {
    "duration": 24,
    "start_time": "2022-04-08T11:57:07.485Z"
   },
   {
    "duration": 53,
    "start_time": "2022-04-08T11:57:07.511Z"
   },
   {
    "duration": 6,
    "start_time": "2022-04-08T11:57:07.566Z"
   },
   {
    "duration": 28,
    "start_time": "2022-04-08T11:57:07.573Z"
   },
   {
    "duration": 30,
    "start_time": "2022-04-08T11:57:07.602Z"
   },
   {
    "duration": 23,
    "start_time": "2022-04-08T11:57:07.633Z"
   },
   {
    "duration": 16,
    "start_time": "2022-04-08T11:57:07.657Z"
   },
   {
    "duration": 137,
    "start_time": "2022-04-08T11:57:07.675Z"
   },
   {
    "duration": 87,
    "start_time": "2022-04-08T11:57:07.814Z"
   },
   {
    "duration": 30,
    "start_time": "2022-04-08T11:57:07.903Z"
   },
   {
    "duration": 98,
    "start_time": "2022-04-08T11:57:07.934Z"
   },
   {
    "duration": 8,
    "start_time": "2022-04-08T11:57:08.034Z"
   },
   {
    "duration": 8,
    "start_time": "2022-04-08T11:57:08.043Z"
   },
   {
    "duration": 14,
    "start_time": "2022-04-08T11:57:08.052Z"
   },
   {
    "duration": 11,
    "start_time": "2022-04-08T11:57:08.068Z"
   },
   {
    "duration": 28,
    "start_time": "2022-04-08T11:57:08.081Z"
   },
   {
    "duration": 10,
    "start_time": "2022-04-08T11:57:08.111Z"
   },
   {
    "duration": 6,
    "start_time": "2022-04-08T11:57:08.123Z"
   },
   {
    "duration": 31,
    "start_time": "2022-04-08T11:57:08.130Z"
   },
   {
    "duration": 51,
    "start_time": "2022-04-08T11:57:08.163Z"
   },
   {
    "duration": 58,
    "start_time": "2022-04-08T11:57:08.216Z"
   },
   {
    "duration": 48,
    "start_time": "2022-04-08T11:57:08.277Z"
   },
   {
    "duration": 37,
    "start_time": "2022-04-08T11:57:08.327Z"
   },
   {
    "duration": 179,
    "start_time": "2022-04-08T11:57:08.367Z"
   },
   {
    "duration": 5,
    "start_time": "2022-04-08T11:57:15.963Z"
   },
   {
    "duration": 1993,
    "start_time": "2022-04-09T08:26:25.021Z"
   },
   {
    "duration": 215,
    "start_time": "2022-04-09T08:26:27.017Z"
   },
   {
    "duration": 32,
    "start_time": "2022-04-09T08:26:27.235Z"
   },
   {
    "duration": 14,
    "start_time": "2022-04-09T08:26:27.270Z"
   },
   {
    "duration": 32,
    "start_time": "2022-04-09T08:26:27.288Z"
   },
   {
    "duration": 22,
    "start_time": "2022-04-09T08:26:27.323Z"
   },
   {
    "duration": 181,
    "start_time": "2022-04-09T08:26:27.347Z"
   },
   {
    "duration": 117,
    "start_time": "2022-04-09T08:26:27.530Z"
   },
   {
    "duration": 9,
    "start_time": "2022-04-09T08:26:27.649Z"
   },
   {
    "duration": 9,
    "start_time": "2022-04-09T08:26:27.660Z"
   },
   {
    "duration": 25,
    "start_time": "2022-04-09T08:26:27.671Z"
   },
   {
    "duration": 53,
    "start_time": "2022-04-09T08:26:27.698Z"
   },
   {
    "duration": 13,
    "start_time": "2022-04-09T08:26:27.753Z"
   },
   {
    "duration": 44,
    "start_time": "2022-04-09T08:26:27.771Z"
   },
   {
    "duration": 38,
    "start_time": "2022-04-09T08:26:27.843Z"
   },
   {
    "duration": 12,
    "start_time": "2022-04-09T08:26:27.884Z"
   },
   {
    "duration": 11,
    "start_time": "2022-04-09T08:26:27.898Z"
   },
   {
    "duration": 57,
    "start_time": "2022-04-09T08:26:27.911Z"
   },
   {
    "duration": 39,
    "start_time": "2022-04-09T08:26:27.970Z"
   },
   {
    "duration": 6,
    "start_time": "2022-04-09T08:26:28.011Z"
   },
   {
    "duration": 420,
    "start_time": "2022-04-09T08:26:28.042Z"
   },
   {
    "duration": 12,
    "start_time": "2022-04-09T08:26:28.464Z"
   },
   {
    "duration": 23,
    "start_time": "2022-04-09T08:26:28.479Z"
   },
   {
    "duration": 46,
    "start_time": "2022-04-09T08:26:28.504Z"
   },
   {
    "duration": 8,
    "start_time": "2022-04-09T08:26:28.553Z"
   },
   {
    "duration": 45,
    "start_time": "2022-04-09T08:26:28.564Z"
   },
   {
    "duration": 34,
    "start_time": "2022-04-09T08:26:28.611Z"
   },
   {
    "duration": 44,
    "start_time": "2022-04-09T08:26:28.647Z"
   },
   {
    "duration": 94,
    "start_time": "2022-04-09T08:26:28.693Z"
   },
   {
    "duration": 9,
    "start_time": "2022-04-09T08:26:28.789Z"
   },
   {
    "duration": 18,
    "start_time": "2022-04-09T08:26:28.800Z"
   },
   {
    "duration": 22,
    "start_time": "2022-04-09T08:26:28.821Z"
   },
   {
    "duration": 7,
    "start_time": "2022-04-09T08:26:28.845Z"
   },
   {
    "duration": 18,
    "start_time": "2022-04-09T08:26:28.854Z"
   },
   {
    "duration": 225,
    "start_time": "2022-04-09T08:26:28.874Z"
   },
   {
    "duration": 117,
    "start_time": "2022-04-09T08:26:29.101Z"
   },
   {
    "duration": 51,
    "start_time": "2022-04-09T08:26:29.221Z"
   },
   {
    "duration": 128,
    "start_time": "2022-04-09T08:26:29.275Z"
   },
   {
    "duration": 12,
    "start_time": "2022-04-09T08:26:29.405Z"
   },
   {
    "duration": 26,
    "start_time": "2022-04-09T08:26:29.419Z"
   },
   {
    "duration": 7,
    "start_time": "2022-04-09T08:26:29.451Z"
   },
   {
    "duration": 7,
    "start_time": "2022-04-09T08:26:29.460Z"
   },
   {
    "duration": 38,
    "start_time": "2022-04-09T08:26:29.470Z"
   },
   {
    "duration": 10,
    "start_time": "2022-04-09T08:26:29.511Z"
   },
   {
    "duration": 12,
    "start_time": "2022-04-09T08:26:29.523Z"
   },
   {
    "duration": 70,
    "start_time": "2022-04-09T08:26:29.537Z"
   },
   {
    "duration": 63,
    "start_time": "2022-04-09T08:26:29.610Z"
   },
   {
    "duration": 51,
    "start_time": "2022-04-09T08:26:29.675Z"
   },
   {
    "duration": 50,
    "start_time": "2022-04-09T08:26:29.743Z"
   },
   {
    "duration": 75,
    "start_time": "2022-04-09T08:26:29.796Z"
   },
   {
    "duration": 6,
    "start_time": "2022-04-09T08:29:45.288Z"
   },
   {
    "duration": 219,
    "start_time": "2022-04-09T08:29:45.296Z"
   },
   {
    "duration": 34,
    "start_time": "2022-04-09T08:29:45.517Z"
   },
   {
    "duration": 11,
    "start_time": "2022-04-09T08:29:45.553Z"
   },
   {
    "duration": 21,
    "start_time": "2022-04-09T08:29:45.567Z"
   },
   {
    "duration": 3,
    "start_time": "2022-04-09T08:29:45.590Z"
   },
   {
    "duration": 175,
    "start_time": "2022-04-09T08:29:45.596Z"
   },
   {
    "duration": 92,
    "start_time": "2022-04-09T08:29:45.773Z"
   },
   {
    "duration": 9,
    "start_time": "2022-04-09T08:29:45.867Z"
   },
   {
    "duration": 9,
    "start_time": "2022-04-09T08:29:45.878Z"
   },
   {
    "duration": 20,
    "start_time": "2022-04-09T08:29:45.889Z"
   },
   {
    "duration": 57,
    "start_time": "2022-04-09T08:29:45.911Z"
   },
   {
    "duration": 13,
    "start_time": "2022-04-09T08:29:45.971Z"
   },
   {
    "duration": 67,
    "start_time": "2022-04-09T08:29:45.989Z"
   },
   {
    "duration": 36,
    "start_time": "2022-04-09T08:29:46.057Z"
   },
   {
    "duration": 9,
    "start_time": "2022-04-09T08:29:46.095Z"
   },
   {
    "duration": 39,
    "start_time": "2022-04-09T08:29:46.107Z"
   },
   {
    "duration": 24,
    "start_time": "2022-04-09T08:29:46.149Z"
   },
   {
    "duration": 30,
    "start_time": "2022-04-09T08:29:46.175Z"
   },
   {
    "duration": 6,
    "start_time": "2022-04-09T08:29:46.207Z"
   },
   {
    "duration": 286,
    "start_time": "2022-04-09T08:29:46.242Z"
   },
   {
    "duration": 15,
    "start_time": "2022-04-09T08:29:46.531Z"
   },
   {
    "duration": 25,
    "start_time": "2022-04-09T08:29:46.548Z"
   },
   {
    "duration": 11,
    "start_time": "2022-04-09T08:29:46.575Z"
   },
   {
    "duration": 10,
    "start_time": "2022-04-09T08:29:46.588Z"
   },
   {
    "duration": 75,
    "start_time": "2022-04-09T08:29:46.600Z"
   },
   {
    "duration": 9,
    "start_time": "2022-04-09T08:29:46.678Z"
   },
   {
    "duration": 61,
    "start_time": "2022-04-09T08:29:46.690Z"
   },
   {
    "duration": 65,
    "start_time": "2022-04-09T08:29:46.754Z"
   },
   {
    "duration": 24,
    "start_time": "2022-04-09T08:29:46.821Z"
   },
   {
    "duration": 15,
    "start_time": "2022-04-09T08:29:46.848Z"
   },
   {
    "duration": 11,
    "start_time": "2022-04-09T08:29:46.865Z"
   },
   {
    "duration": 8,
    "start_time": "2022-04-09T08:29:46.878Z"
   },
   {
    "duration": 10,
    "start_time": "2022-04-09T08:29:46.888Z"
   },
   {
    "duration": 236,
    "start_time": "2022-04-09T08:29:46.900Z"
   },
   {
    "duration": 106,
    "start_time": "2022-04-09T08:29:47.142Z"
   },
   {
    "duration": 38,
    "start_time": "2022-04-09T08:29:47.250Z"
   },
   {
    "duration": 130,
    "start_time": "2022-04-09T08:29:47.290Z"
   },
   {
    "duration": 26,
    "start_time": "2022-04-09T08:29:47.422Z"
   },
   {
    "duration": 4,
    "start_time": "2022-04-09T08:29:47.450Z"
   },
   {
    "duration": 4,
    "start_time": "2022-04-09T08:29:47.460Z"
   },
   {
    "duration": 8,
    "start_time": "2022-04-09T08:29:47.466Z"
   },
   {
    "duration": 17,
    "start_time": "2022-04-09T08:29:47.476Z"
   },
   {
    "duration": 6,
    "start_time": "2022-04-09T08:29:47.495Z"
   },
   {
    "duration": 41,
    "start_time": "2022-04-09T08:29:47.503Z"
   },
   {
    "duration": 46,
    "start_time": "2022-04-09T08:29:47.546Z"
   },
   {
    "duration": 71,
    "start_time": "2022-04-09T08:29:47.594Z"
   },
   {
    "duration": 48,
    "start_time": "2022-04-09T08:29:47.667Z"
   },
   {
    "duration": 68,
    "start_time": "2022-04-09T08:29:47.717Z"
   },
   {
    "duration": 69,
    "start_time": "2022-04-09T08:29:47.788Z"
   },
   {
    "duration": 174,
    "start_time": "2022-04-09T08:29:47.859Z"
   },
   {
    "duration": 23,
    "start_time": "2022-04-09T08:30:58.662Z"
   },
   {
    "duration": 180,
    "start_time": "2022-04-09T08:31:17.682Z"
   },
   {
    "duration": 8,
    "start_time": "2022-04-09T08:31:23.941Z"
   },
   {
    "duration": 22,
    "start_time": "2022-04-09T08:32:33.579Z"
   },
   {
    "duration": 7,
    "start_time": "2022-04-09T08:36:31.062Z"
   },
   {
    "duration": 8,
    "start_time": "2022-04-09T08:36:47.027Z"
   },
   {
    "duration": 6,
    "start_time": "2022-04-09T08:36:48.728Z"
   },
   {
    "duration": 25,
    "start_time": "2022-04-09T08:36:49.564Z"
   },
   {
    "duration": 5,
    "start_time": "2022-04-09T08:37:12.582Z"
   },
   {
    "duration": 208,
    "start_time": "2022-04-09T08:37:12.590Z"
   },
   {
    "duration": 25,
    "start_time": "2022-04-09T08:37:12.801Z"
   },
   {
    "duration": 23,
    "start_time": "2022-04-09T08:37:12.828Z"
   },
   {
    "duration": 25,
    "start_time": "2022-04-09T08:37:12.854Z"
   },
   {
    "duration": 4,
    "start_time": "2022-04-09T08:37:12.881Z"
   },
   {
    "duration": 170,
    "start_time": "2022-04-09T08:37:12.887Z"
   },
   {
    "duration": 94,
    "start_time": "2022-04-09T08:37:13.059Z"
   },
   {
    "duration": 8,
    "start_time": "2022-04-09T08:37:13.156Z"
   },
   {
    "duration": 8,
    "start_time": "2022-04-09T08:37:13.166Z"
   },
   {
    "duration": 21,
    "start_time": "2022-04-09T08:37:13.176Z"
   },
   {
    "duration": 57,
    "start_time": "2022-04-09T08:37:13.199Z"
   },
   {
    "duration": 15,
    "start_time": "2022-04-09T08:37:13.261Z"
   },
   {
    "duration": 68,
    "start_time": "2022-04-09T08:37:13.278Z"
   },
   {
    "duration": 35,
    "start_time": "2022-04-09T08:37:13.348Z"
   },
   {
    "duration": 10,
    "start_time": "2022-04-09T08:37:13.385Z"
   },
   {
    "duration": 11,
    "start_time": "2022-04-09T08:37:13.397Z"
   },
   {
    "duration": 25,
    "start_time": "2022-04-09T08:37:13.443Z"
   },
   {
    "duration": 29,
    "start_time": "2022-04-09T08:37:13.470Z"
   },
   {
    "duration": 6,
    "start_time": "2022-04-09T08:37:13.501Z"
   },
   {
    "duration": 288,
    "start_time": "2022-04-09T08:37:13.543Z"
   },
   {
    "duration": 17,
    "start_time": "2022-04-09T08:37:13.833Z"
   },
   {
    "duration": 24,
    "start_time": "2022-04-09T08:37:13.852Z"
   },
   {
    "duration": 12,
    "start_time": "2022-04-09T08:37:13.878Z"
   },
   {
    "duration": 9,
    "start_time": "2022-04-09T08:37:13.893Z"
   },
   {
    "duration": 82,
    "start_time": "2022-04-09T08:37:13.903Z"
   },
   {
    "duration": 12,
    "start_time": "2022-04-09T08:37:13.987Z"
   },
   {
    "duration": 67,
    "start_time": "2022-04-09T08:37:14.002Z"
   },
   {
    "duration": 86,
    "start_time": "2022-04-09T08:37:14.072Z"
   },
   {
    "duration": 11,
    "start_time": "2022-04-09T08:37:14.160Z"
   },
   {
    "duration": 12,
    "start_time": "2022-04-09T08:37:14.173Z"
   },
   {
    "duration": 12,
    "start_time": "2022-04-09T08:37:14.187Z"
   },
   {
    "duration": 42,
    "start_time": "2022-04-09T08:37:14.201Z"
   },
   {
    "duration": 10,
    "start_time": "2022-04-09T08:37:14.246Z"
   },
   {
    "duration": 233,
    "start_time": "2022-04-09T08:37:14.259Z"
   },
   {
    "duration": 117,
    "start_time": "2022-04-09T08:37:14.495Z"
   },
   {
    "duration": 44,
    "start_time": "2022-04-09T08:37:14.620Z"
   },
   {
    "duration": 197,
    "start_time": "2022-04-09T08:37:14.666Z"
   },
   {
    "duration": 12,
    "start_time": "2022-04-09T08:37:14.865Z"
   },
   {
    "duration": 4,
    "start_time": "2022-04-09T08:37:14.879Z"
   },
   {
    "duration": 5,
    "start_time": "2022-04-09T08:37:14.885Z"
   },
   {
    "duration": 9,
    "start_time": "2022-04-09T08:37:14.892Z"
   },
   {
    "duration": 48,
    "start_time": "2022-04-09T08:37:14.903Z"
   },
   {
    "duration": 12,
    "start_time": "2022-04-09T08:37:14.953Z"
   },
   {
    "duration": 9,
    "start_time": "2022-04-09T08:37:14.967Z"
   },
   {
    "duration": 71,
    "start_time": "2022-04-09T08:37:14.978Z"
   },
   {
    "duration": 52,
    "start_time": "2022-04-09T08:37:15.051Z"
   },
   {
    "duration": 73,
    "start_time": "2022-04-09T08:37:15.106Z"
   },
   {
    "duration": 68,
    "start_time": "2022-04-09T08:37:15.182Z"
   },
   {
    "duration": 48,
    "start_time": "2022-04-09T08:37:15.252Z"
   },
   {
    "duration": 7,
    "start_time": "2022-04-09T08:37:15.303Z"
   },
   {
    "duration": 36,
    "start_time": "2022-04-09T08:37:15.312Z"
   },
   {
    "duration": 34,
    "start_time": "2022-04-09T08:37:15.350Z"
   },
   {
    "duration": 5,
    "start_time": "2022-04-09T08:39:19.892Z"
   },
   {
    "duration": 216,
    "start_time": "2022-04-09T08:39:19.900Z"
   },
   {
    "duration": 33,
    "start_time": "2022-04-09T08:39:20.119Z"
   },
   {
    "duration": 11,
    "start_time": "2022-04-09T08:39:20.154Z"
   },
   {
    "duration": 27,
    "start_time": "2022-04-09T08:39:20.168Z"
   },
   {
    "duration": 4,
    "start_time": "2022-04-09T08:39:20.197Z"
   },
   {
    "duration": 173,
    "start_time": "2022-04-09T08:39:20.203Z"
   },
   {
    "duration": 92,
    "start_time": "2022-04-09T08:39:20.378Z"
   },
   {
    "duration": 8,
    "start_time": "2022-04-09T08:39:20.472Z"
   },
   {
    "duration": 7,
    "start_time": "2022-04-09T08:39:20.483Z"
   },
   {
    "duration": 20,
    "start_time": "2022-04-09T08:39:20.492Z"
   },
   {
    "duration": 52,
    "start_time": "2022-04-09T08:39:20.515Z"
   },
   {
    "duration": 12,
    "start_time": "2022-04-09T08:39:20.572Z"
   },
   {
    "duration": 68,
    "start_time": "2022-04-09T08:39:20.587Z"
   },
   {
    "duration": 35,
    "start_time": "2022-04-09T08:39:20.657Z"
   },
   {
    "duration": 12,
    "start_time": "2022-04-09T08:39:20.694Z"
   },
   {
    "duration": 40,
    "start_time": "2022-04-09T08:39:20.709Z"
   },
   {
    "duration": 27,
    "start_time": "2022-04-09T08:39:20.752Z"
   },
   {
    "duration": 64,
    "start_time": "2022-04-09T08:39:20.781Z"
   },
   {
    "duration": 6,
    "start_time": "2022-04-09T08:39:20.848Z"
   },
   {
    "duration": 296,
    "start_time": "2022-04-09T08:39:20.857Z"
   },
   {
    "duration": 15,
    "start_time": "2022-04-09T08:39:21.156Z"
   },
   {
    "duration": 24,
    "start_time": "2022-04-09T08:39:21.174Z"
   },
   {
    "duration": 49,
    "start_time": "2022-04-09T08:39:21.201Z"
   },
   {
    "duration": 12,
    "start_time": "2022-04-09T08:39:21.252Z"
   },
   {
    "duration": 45,
    "start_time": "2022-04-09T08:39:21.266Z"
   },
   {
    "duration": 13,
    "start_time": "2022-04-09T08:39:21.342Z"
   },
   {
    "duration": 35,
    "start_time": "2022-04-09T08:39:21.358Z"
   },
   {
    "duration": 99,
    "start_time": "2022-04-09T08:39:21.396Z"
   },
   {
    "duration": 9,
    "start_time": "2022-04-09T08:39:21.497Z"
   },
   {
    "duration": 12,
    "start_time": "2022-04-09T08:39:21.508Z"
   },
   {
    "duration": 26,
    "start_time": "2022-04-09T08:39:21.523Z"
   },
   {
    "duration": 9,
    "start_time": "2022-04-09T08:39:21.551Z"
   },
   {
    "duration": 14,
    "start_time": "2022-04-09T08:39:21.562Z"
   },
   {
    "duration": 214,
    "start_time": "2022-04-09T08:39:21.578Z"
   },
   {
    "duration": 114,
    "start_time": "2022-04-09T08:39:21.794Z"
   },
   {
    "duration": 49,
    "start_time": "2022-04-09T08:39:21.914Z"
   },
   {
    "duration": 117,
    "start_time": "2022-04-09T08:39:21.965Z"
   },
   {
    "duration": 12,
    "start_time": "2022-04-09T08:39:22.084Z"
   },
   {
    "duration": 3,
    "start_time": "2022-04-09T08:39:22.098Z"
   },
   {
    "duration": 8,
    "start_time": "2022-04-09T08:39:22.103Z"
   },
   {
    "duration": 30,
    "start_time": "2022-04-09T08:39:22.113Z"
   },
   {
    "duration": 18,
    "start_time": "2022-04-09T08:39:22.145Z"
   },
   {
    "duration": 8,
    "start_time": "2022-04-09T08:39:22.166Z"
   },
   {
    "duration": 21,
    "start_time": "2022-04-09T08:39:22.176Z"
   },
   {
    "duration": 56,
    "start_time": "2022-04-09T08:39:22.199Z"
   },
   {
    "duration": 49,
    "start_time": "2022-04-09T08:39:22.257Z"
   },
   {
    "duration": 73,
    "start_time": "2022-04-09T08:39:22.308Z"
   },
   {
    "duration": 70,
    "start_time": "2022-04-09T08:39:22.383Z"
   },
   {
    "duration": 46,
    "start_time": "2022-04-09T08:39:22.455Z"
   },
   {
    "duration": 8,
    "start_time": "2022-04-09T08:39:22.503Z"
   },
   {
    "duration": 32,
    "start_time": "2022-04-09T08:39:22.513Z"
   },
   {
    "duration": 31,
    "start_time": "2022-04-09T08:39:22.547Z"
   },
   {
    "duration": 5,
    "start_time": "2022-04-09T08:42:52.682Z"
   },
   {
    "duration": 237,
    "start_time": "2022-04-09T08:42:52.690Z"
   },
   {
    "duration": 35,
    "start_time": "2022-04-09T08:42:52.930Z"
   },
   {
    "duration": 10,
    "start_time": "2022-04-09T08:42:52.968Z"
   },
   {
    "duration": 20,
    "start_time": "2022-04-09T08:42:52.981Z"
   },
   {
    "duration": 40,
    "start_time": "2022-04-09T08:42:53.003Z"
   },
   {
    "duration": 199,
    "start_time": "2022-04-09T08:42:53.045Z"
   },
   {
    "duration": 79,
    "start_time": "2022-04-09T08:42:53.246Z"
   },
   {
    "duration": 21,
    "start_time": "2022-04-09T08:42:53.327Z"
   },
   {
    "duration": 8,
    "start_time": "2022-04-09T08:42:53.350Z"
   },
   {
    "duration": 22,
    "start_time": "2022-04-09T08:42:53.361Z"
   },
   {
    "duration": 59,
    "start_time": "2022-04-09T08:42:53.385Z"
   },
   {
    "duration": 14,
    "start_time": "2022-04-09T08:42:53.446Z"
   },
   {
    "duration": 43,
    "start_time": "2022-04-09T08:42:53.462Z"
   },
   {
    "duration": 59,
    "start_time": "2022-04-09T08:42:53.507Z"
   },
   {
    "duration": 9,
    "start_time": "2022-04-09T08:42:53.568Z"
   },
   {
    "duration": 9,
    "start_time": "2022-04-09T08:42:53.579Z"
   },
   {
    "duration": 57,
    "start_time": "2022-04-09T08:42:53.591Z"
   },
   {
    "duration": 34,
    "start_time": "2022-04-09T08:42:53.651Z"
   },
   {
    "duration": 7,
    "start_time": "2022-04-09T08:42:53.687Z"
   },
   {
    "duration": 312,
    "start_time": "2022-04-09T08:42:53.697Z"
   },
   {
    "duration": 14,
    "start_time": "2022-04-09T08:42:54.013Z"
   },
   {
    "duration": 28,
    "start_time": "2022-04-09T08:42:54.044Z"
   },
   {
    "duration": 15,
    "start_time": "2022-04-09T08:42:54.074Z"
   },
   {
    "duration": 12,
    "start_time": "2022-04-09T08:42:54.091Z"
   },
   {
    "duration": 79,
    "start_time": "2022-04-09T08:42:54.105Z"
   },
   {
    "duration": 11,
    "start_time": "2022-04-09T08:42:54.187Z"
   },
   {
    "duration": 69,
    "start_time": "2022-04-09T08:42:54.200Z"
   },
   {
    "duration": 84,
    "start_time": "2022-04-09T08:42:54.276Z"
   },
   {
    "duration": 11,
    "start_time": "2022-04-09T08:42:54.363Z"
   },
   {
    "duration": 14,
    "start_time": "2022-04-09T08:42:54.376Z"
   },
   {
    "duration": 11,
    "start_time": "2022-04-09T08:42:54.392Z"
   },
   {
    "duration": 40,
    "start_time": "2022-04-09T08:42:54.405Z"
   },
   {
    "duration": 12,
    "start_time": "2022-04-09T08:42:54.448Z"
   },
   {
    "duration": 265,
    "start_time": "2022-04-09T08:42:54.463Z"
   },
   {
    "duration": 139,
    "start_time": "2022-04-09T08:42:54.731Z"
   },
   {
    "duration": 38,
    "start_time": "2022-04-09T08:42:54.873Z"
   },
   {
    "duration": 137,
    "start_time": "2022-04-09T08:42:54.913Z"
   },
   {
    "duration": 12,
    "start_time": "2022-04-09T08:42:55.053Z"
   },
   {
    "duration": 3,
    "start_time": "2022-04-09T08:42:55.068Z"
   },
   {
    "duration": 11,
    "start_time": "2022-04-09T08:42:55.073Z"
   },
   {
    "duration": 9,
    "start_time": "2022-04-09T08:42:55.086Z"
   },
   {
    "duration": 21,
    "start_time": "2022-04-09T08:42:55.097Z"
   },
   {
    "duration": 6,
    "start_time": "2022-04-09T08:42:55.143Z"
   },
   {
    "duration": 13,
    "start_time": "2022-04-09T08:42:55.152Z"
   },
   {
    "duration": 49,
    "start_time": "2022-04-09T08:42:55.168Z"
   },
   {
    "duration": 50,
    "start_time": "2022-04-09T08:42:55.244Z"
   },
   {
    "duration": 71,
    "start_time": "2022-04-09T08:42:55.296Z"
   },
   {
    "duration": 74,
    "start_time": "2022-04-09T08:42:55.369Z"
   },
   {
    "duration": 49,
    "start_time": "2022-04-09T08:42:55.445Z"
   },
   {
    "duration": 7,
    "start_time": "2022-04-09T08:42:55.496Z"
   },
   {
    "duration": 38,
    "start_time": "2022-04-09T08:42:55.505Z"
   },
   {
    "duration": 32,
    "start_time": "2022-04-09T08:42:55.545Z"
   },
   {
    "duration": 5,
    "start_time": "2022-04-09T08:52:27.712Z"
   },
   {
    "duration": 243,
    "start_time": "2022-04-09T08:52:27.719Z"
   },
   {
    "duration": 25,
    "start_time": "2022-04-09T08:52:27.965Z"
   },
   {
    "duration": 10,
    "start_time": "2022-04-09T08:52:27.992Z"
   },
   {
    "duration": 46,
    "start_time": "2022-04-09T08:52:28.005Z"
   },
   {
    "duration": 24,
    "start_time": "2022-04-09T08:52:28.053Z"
   },
   {
    "duration": 159,
    "start_time": "2022-04-09T08:52:28.079Z"
   },
   {
    "duration": 85,
    "start_time": "2022-04-09T08:52:28.242Z"
   },
   {
    "duration": 19,
    "start_time": "2022-04-09T08:52:28.330Z"
   },
   {
    "duration": 36,
    "start_time": "2022-04-09T08:52:28.352Z"
   },
   {
    "duration": 37,
    "start_time": "2022-04-09T08:52:28.392Z"
   },
   {
    "duration": 31,
    "start_time": "2022-04-09T08:52:28.431Z"
   },
   {
    "duration": 15,
    "start_time": "2022-04-09T08:52:28.465Z"
   },
   {
    "duration": 67,
    "start_time": "2022-04-09T08:52:28.483Z"
   },
   {
    "duration": 38,
    "start_time": "2022-04-09T08:52:28.552Z"
   },
   {
    "duration": 9,
    "start_time": "2022-04-09T08:52:28.592Z"
   },
   {
    "duration": 41,
    "start_time": "2022-04-09T08:52:28.603Z"
   },
   {
    "duration": 26,
    "start_time": "2022-04-09T08:52:28.646Z"
   },
   {
    "duration": 30,
    "start_time": "2022-04-09T08:52:28.674Z"
   },
   {
    "duration": 6,
    "start_time": "2022-04-09T08:52:28.706Z"
   },
   {
    "duration": 332,
    "start_time": "2022-04-09T08:52:28.714Z"
   },
   {
    "duration": 12,
    "start_time": "2022-04-09T08:52:29.048Z"
   },
   {
    "duration": 25,
    "start_time": "2022-04-09T08:52:29.062Z"
   },
   {
    "duration": 12,
    "start_time": "2022-04-09T08:52:29.089Z"
   },
   {
    "duration": 41,
    "start_time": "2022-04-09T08:52:29.104Z"
   },
   {
    "duration": 41,
    "start_time": "2022-04-09T08:52:29.147Z"
   },
   {
    "duration": 10,
    "start_time": "2022-04-09T08:52:29.190Z"
   },
   {
    "duration": 65,
    "start_time": "2022-04-09T08:52:29.202Z"
   },
   {
    "duration": 78,
    "start_time": "2022-04-09T08:52:29.272Z"
   },
   {
    "duration": 9,
    "start_time": "2022-04-09T08:52:29.352Z"
   },
   {
    "duration": 15,
    "start_time": "2022-04-09T08:52:29.363Z"
   },
   {
    "duration": 14,
    "start_time": "2022-04-09T08:52:29.380Z"
   },
   {
    "duration": 11,
    "start_time": "2022-04-09T08:52:29.396Z"
   },
   {
    "duration": 9,
    "start_time": "2022-04-09T08:52:29.409Z"
   },
   {
    "duration": 226,
    "start_time": "2022-04-09T08:52:29.420Z"
   },
   {
    "duration": 111,
    "start_time": "2022-04-09T08:52:29.648Z"
   },
   {
    "duration": 37,
    "start_time": "2022-04-09T08:52:29.761Z"
   },
   {
    "duration": 129,
    "start_time": "2022-04-09T08:52:29.800Z"
   },
   {
    "duration": 19,
    "start_time": "2022-04-09T08:52:29.931Z"
   },
   {
    "duration": 4,
    "start_time": "2022-04-09T08:52:29.952Z"
   },
   {
    "duration": 7,
    "start_time": "2022-04-09T08:52:29.958Z"
   },
   {
    "duration": 7,
    "start_time": "2022-04-09T08:52:29.967Z"
   },
   {
    "duration": 17,
    "start_time": "2022-04-09T08:52:29.976Z"
   },
   {
    "duration": 10,
    "start_time": "2022-04-09T08:52:29.995Z"
   },
   {
    "duration": 48,
    "start_time": "2022-04-09T08:52:30.007Z"
   },
   {
    "duration": 50,
    "start_time": "2022-04-09T08:52:30.057Z"
   },
   {
    "duration": 65,
    "start_time": "2022-04-09T08:52:30.109Z"
   },
   {
    "duration": 67,
    "start_time": "2022-04-09T08:52:30.176Z"
   },
   {
    "duration": 49,
    "start_time": "2022-04-09T08:52:30.245Z"
   },
   {
    "duration": 75,
    "start_time": "2022-04-09T08:52:30.297Z"
   },
   {
    "duration": 8,
    "start_time": "2022-04-09T08:52:30.375Z"
   },
   {
    "duration": 19,
    "start_time": "2022-04-09T08:52:30.385Z"
   },
   {
    "duration": 44,
    "start_time": "2022-04-09T08:52:30.407Z"
   },
   {
    "duration": 6,
    "start_time": "2022-04-09T08:56:04.730Z"
   },
   {
    "duration": 11,
    "start_time": "2022-04-09T08:56:25.703Z"
   },
   {
    "duration": 2881,
    "start_time": "2022-04-09T08:57:36.959Z"
   },
   {
    "duration": 6,
    "start_time": "2022-04-09T08:57:43.849Z"
   },
   {
    "duration": 224,
    "start_time": "2022-04-09T08:57:43.857Z"
   },
   {
    "duration": 25,
    "start_time": "2022-04-09T08:57:44.083Z"
   },
   {
    "duration": 10,
    "start_time": "2022-04-09T08:57:44.111Z"
   },
   {
    "duration": 22,
    "start_time": "2022-04-09T08:57:44.144Z"
   },
   {
    "duration": 5,
    "start_time": "2022-04-09T08:57:44.169Z"
   },
   {
    "duration": 185,
    "start_time": "2022-04-09T08:57:44.176Z"
   },
   {
    "duration": 94,
    "start_time": "2022-04-09T08:57:44.364Z"
   },
   {
    "duration": 10,
    "start_time": "2022-04-09T08:57:44.463Z"
   },
   {
    "duration": 8,
    "start_time": "2022-04-09T08:57:44.475Z"
   },
   {
    "duration": 20,
    "start_time": "2022-04-09T08:57:44.485Z"
   },
   {
    "duration": 62,
    "start_time": "2022-04-09T08:57:44.507Z"
   },
   {
    "duration": 13,
    "start_time": "2022-04-09T08:57:44.571Z"
   },
   {
    "duration": 68,
    "start_time": "2022-04-09T08:57:44.586Z"
   },
   {
    "duration": 36,
    "start_time": "2022-04-09T08:57:44.656Z"
   },
   {
    "duration": 9,
    "start_time": "2022-04-09T08:57:44.694Z"
   },
   {
    "duration": 38,
    "start_time": "2022-04-09T08:57:44.706Z"
   },
   {
    "duration": 25,
    "start_time": "2022-04-09T08:57:44.746Z"
   },
   {
    "duration": 30,
    "start_time": "2022-04-09T08:57:44.773Z"
   },
   {
    "duration": 6,
    "start_time": "2022-04-09T08:57:44.805Z"
   },
   {
    "duration": 334,
    "start_time": "2022-04-09T08:57:44.813Z"
   },
   {
    "duration": 13,
    "start_time": "2022-04-09T08:57:45.149Z"
   },
   {
    "duration": 23,
    "start_time": "2022-04-09T08:57:45.164Z"
   },
   {
    "duration": 12,
    "start_time": "2022-04-09T08:57:45.193Z"
   },
   {
    "duration": 41,
    "start_time": "2022-04-09T08:57:45.208Z"
   },
   {
    "duration": 40,
    "start_time": "2022-04-09T08:57:45.251Z"
   },
   {
    "duration": 11,
    "start_time": "2022-04-09T08:57:45.293Z"
   },
   {
    "duration": 65,
    "start_time": "2022-04-09T08:57:45.306Z"
   },
   {
    "duration": 89,
    "start_time": "2022-04-09T08:57:45.373Z"
   },
   {
    "duration": 9,
    "start_time": "2022-04-09T08:57:45.464Z"
   },
   {
    "duration": 18,
    "start_time": "2022-04-09T08:57:45.475Z"
   },
   {
    "duration": 11,
    "start_time": "2022-04-09T08:57:45.495Z"
   },
   {
    "duration": 9,
    "start_time": "2022-04-09T08:57:45.508Z"
   },
   {
    "duration": 26,
    "start_time": "2022-04-09T08:57:45.519Z"
   },
   {
    "duration": 215,
    "start_time": "2022-04-09T08:57:45.548Z"
   },
   {
    "duration": 111,
    "start_time": "2022-04-09T08:57:45.766Z"
   },
   {
    "duration": 36,
    "start_time": "2022-04-09T08:57:45.880Z"
   },
   {
    "duration": 134,
    "start_time": "2022-04-09T08:57:45.919Z"
   },
   {
    "duration": 13,
    "start_time": "2022-04-09T08:57:46.055Z"
   },
   {
    "duration": 3,
    "start_time": "2022-04-09T08:57:46.071Z"
   },
   {
    "duration": 13,
    "start_time": "2022-04-09T08:57:46.077Z"
   },
   {
    "duration": 10,
    "start_time": "2022-04-09T08:57:46.092Z"
   },
   {
    "duration": 2795,
    "start_time": "2022-04-09T08:57:46.104Z"
   },
   {
    "duration": 0,
    "start_time": "2022-04-09T08:57:48.901Z"
   },
   {
    "duration": 0,
    "start_time": "2022-04-09T08:57:48.903Z"
   },
   {
    "duration": 0,
    "start_time": "2022-04-09T08:57:48.904Z"
   },
   {
    "duration": 0,
    "start_time": "2022-04-09T08:57:48.906Z"
   },
   {
    "duration": 0,
    "start_time": "2022-04-09T08:57:48.907Z"
   },
   {
    "duration": 0,
    "start_time": "2022-04-09T08:57:48.909Z"
   },
   {
    "duration": 0,
    "start_time": "2022-04-09T08:57:48.910Z"
   },
   {
    "duration": 0,
    "start_time": "2022-04-09T08:57:48.911Z"
   },
   {
    "duration": 0,
    "start_time": "2022-04-09T08:57:48.913Z"
   },
   {
    "duration": 0,
    "start_time": "2022-04-09T08:57:48.914Z"
   },
   {
    "duration": 0,
    "start_time": "2022-04-09T08:57:48.916Z"
   },
   {
    "duration": 0,
    "start_time": "2022-04-09T08:57:48.917Z"
   },
   {
    "duration": 0,
    "start_time": "2022-04-09T08:57:48.919Z"
   },
   {
    "duration": 6,
    "start_time": "2022-04-09T08:59:42.316Z"
   },
   {
    "duration": 225,
    "start_time": "2022-04-09T08:59:42.325Z"
   },
   {
    "duration": 25,
    "start_time": "2022-04-09T08:59:42.552Z"
   },
   {
    "duration": 14,
    "start_time": "2022-04-09T08:59:42.579Z"
   },
   {
    "duration": 47,
    "start_time": "2022-04-09T08:59:42.596Z"
   },
   {
    "duration": 4,
    "start_time": "2022-04-09T08:59:42.645Z"
   },
   {
    "duration": 156,
    "start_time": "2022-04-09T08:59:42.651Z"
   },
   {
    "duration": 92,
    "start_time": "2022-04-09T08:59:42.809Z"
   },
   {
    "duration": 11,
    "start_time": "2022-04-09T08:59:42.903Z"
   },
   {
    "duration": 29,
    "start_time": "2022-04-09T08:59:42.916Z"
   },
   {
    "duration": 22,
    "start_time": "2022-04-09T08:59:42.948Z"
   },
   {
    "duration": 30,
    "start_time": "2022-04-09T08:59:42.972Z"
   },
   {
    "duration": 41,
    "start_time": "2022-04-09T08:59:43.005Z"
   },
   {
    "duration": 43,
    "start_time": "2022-04-09T08:59:43.053Z"
   },
   {
    "duration": 62,
    "start_time": "2022-04-09T08:59:43.098Z"
   },
   {
    "duration": 11,
    "start_time": "2022-04-09T08:59:43.162Z"
   },
   {
    "duration": 11,
    "start_time": "2022-04-09T08:59:43.176Z"
   },
   {
    "duration": 63,
    "start_time": "2022-04-09T08:59:43.190Z"
   },
   {
    "duration": 35,
    "start_time": "2022-04-09T08:59:43.255Z"
   },
   {
    "duration": 7,
    "start_time": "2022-04-09T08:59:43.292Z"
   },
   {
    "duration": 310,
    "start_time": "2022-04-09T08:59:43.302Z"
   },
   {
    "duration": 30,
    "start_time": "2022-04-09T08:59:43.615Z"
   },
   {
    "duration": 26,
    "start_time": "2022-04-09T08:59:43.648Z"
   },
   {
    "duration": 14,
    "start_time": "2022-04-09T08:59:43.677Z"
   },
   {
    "duration": 11,
    "start_time": "2022-04-09T08:59:43.694Z"
   },
   {
    "duration": 42,
    "start_time": "2022-04-09T08:59:43.743Z"
   },
   {
    "duration": 11,
    "start_time": "2022-04-09T08:59:43.788Z"
   },
   {
    "duration": 70,
    "start_time": "2022-04-09T08:59:43.802Z"
   },
   {
    "duration": 78,
    "start_time": "2022-04-09T08:59:43.875Z"
   },
   {
    "duration": 11,
    "start_time": "2022-04-09T08:59:43.955Z"
   },
   {
    "duration": 13,
    "start_time": "2022-04-09T08:59:43.968Z"
   },
   {
    "duration": 11,
    "start_time": "2022-04-09T08:59:43.983Z"
   },
   {
    "duration": 48,
    "start_time": "2022-04-09T08:59:43.997Z"
   },
   {
    "duration": 24,
    "start_time": "2022-04-09T08:59:44.047Z"
   },
   {
    "duration": 256,
    "start_time": "2022-04-09T08:59:44.074Z"
   },
   {
    "duration": 112,
    "start_time": "2022-04-09T08:59:44.333Z"
   },
   {
    "duration": 38,
    "start_time": "2022-04-09T08:59:44.447Z"
   },
   {
    "duration": 133,
    "start_time": "2022-04-09T08:59:44.488Z"
   },
   {
    "duration": 25,
    "start_time": "2022-04-09T08:59:44.623Z"
   },
   {
    "duration": 4,
    "start_time": "2022-04-09T08:59:44.650Z"
   },
   {
    "duration": 4,
    "start_time": "2022-04-09T08:59:44.660Z"
   },
   {
    "duration": 6,
    "start_time": "2022-04-09T08:59:44.667Z"
   },
   {
    "duration": 9,
    "start_time": "2022-04-09T08:59:44.675Z"
   },
   {
    "duration": 13,
    "start_time": "2022-04-09T08:59:44.685Z"
   },
   {
    "duration": 42,
    "start_time": "2022-04-09T08:59:44.700Z"
   },
   {
    "duration": 14,
    "start_time": "2022-04-09T08:59:44.745Z"
   },
   {
    "duration": 6,
    "start_time": "2022-04-09T08:59:44.761Z"
   },
   {
    "duration": 9,
    "start_time": "2022-04-09T08:59:44.769Z"
   },
   {
    "duration": 74,
    "start_time": "2022-04-09T08:59:44.780Z"
   },
   {
    "duration": 52,
    "start_time": "2022-04-09T08:59:44.857Z"
   },
   {
    "duration": 72,
    "start_time": "2022-04-09T08:59:44.911Z"
   },
   {
    "duration": 75,
    "start_time": "2022-04-09T08:59:44.985Z"
   },
   {
    "duration": 46,
    "start_time": "2022-04-09T08:59:45.063Z"
   },
   {
    "duration": 7,
    "start_time": "2022-04-09T08:59:45.111Z"
   },
   {
    "duration": 7,
    "start_time": "2022-04-09T08:59:45.143Z"
   },
   {
    "duration": 27,
    "start_time": "2022-04-09T08:59:45.152Z"
   },
   {
    "duration": 15,
    "start_time": "2022-04-09T09:04:14.646Z"
   },
   {
    "duration": 3,
    "start_time": "2022-04-09T09:05:20.012Z"
   },
   {
    "duration": 15,
    "start_time": "2022-04-09T09:05:27.023Z"
   },
   {
    "duration": 14,
    "start_time": "2022-04-09T09:05:39.931Z"
   },
   {
    "duration": 4,
    "start_time": "2022-04-09T09:05:55.493Z"
   },
   {
    "duration": 22,
    "start_time": "2022-04-09T09:05:59.569Z"
   },
   {
    "duration": 12,
    "start_time": "2022-04-09T09:06:34.197Z"
   },
   {
    "duration": 10,
    "start_time": "2022-04-09T09:06:35.789Z"
   },
   {
    "duration": 12,
    "start_time": "2022-04-09T09:06:53.592Z"
   },
   {
    "duration": 9,
    "start_time": "2022-04-09T09:06:54.087Z"
   },
   {
    "duration": 12,
    "start_time": "2022-04-09T09:07:35.024Z"
   },
   {
    "duration": 10,
    "start_time": "2022-04-09T09:07:35.799Z"
   },
   {
    "duration": 6,
    "start_time": "2022-04-09T09:08:40.506Z"
   },
   {
    "duration": 209,
    "start_time": "2022-04-09T09:08:40.514Z"
   },
   {
    "duration": 34,
    "start_time": "2022-04-09T09:08:40.725Z"
   },
   {
    "duration": 10,
    "start_time": "2022-04-09T09:08:40.761Z"
   },
   {
    "duration": 22,
    "start_time": "2022-04-09T09:08:40.775Z"
   },
   {
    "duration": 4,
    "start_time": "2022-04-09T09:08:40.799Z"
   },
   {
    "duration": 189,
    "start_time": "2022-04-09T09:08:40.805Z"
   },
   {
    "duration": 98,
    "start_time": "2022-04-09T09:08:40.996Z"
   },
   {
    "duration": 11,
    "start_time": "2022-04-09T09:08:41.096Z"
   },
   {
    "duration": 8,
    "start_time": "2022-04-09T09:08:41.109Z"
   },
   {
    "duration": 40,
    "start_time": "2022-04-09T09:08:41.120Z"
   },
   {
    "duration": 28,
    "start_time": "2022-04-09T09:08:41.163Z"
   },
   {
    "duration": 13,
    "start_time": "2022-04-09T09:08:41.195Z"
   },
   {
    "duration": 70,
    "start_time": "2022-04-09T09:08:41.211Z"
   },
   {
    "duration": 37,
    "start_time": "2022-04-09T09:08:41.284Z"
   },
   {
    "duration": 30,
    "start_time": "2022-04-09T09:08:41.323Z"
   },
   {
    "duration": 13,
    "start_time": "2022-04-09T09:08:41.355Z"
   },
   {
    "duration": 26,
    "start_time": "2022-04-09T09:08:41.370Z"
   },
   {
    "duration": 71,
    "start_time": "2022-04-09T09:08:41.398Z"
   },
   {
    "duration": 5,
    "start_time": "2022-04-09T09:08:41.472Z"
   },
   {
    "duration": 287,
    "start_time": "2022-04-09T09:08:41.479Z"
   },
   {
    "duration": 13,
    "start_time": "2022-04-09T09:08:41.768Z"
   },
   {
    "duration": 24,
    "start_time": "2022-04-09T09:08:41.783Z"
   },
   {
    "duration": 38,
    "start_time": "2022-04-09T09:08:41.809Z"
   },
   {
    "duration": 9,
    "start_time": "2022-04-09T09:08:41.849Z"
   },
   {
    "duration": 42,
    "start_time": "2022-04-09T09:08:41.860Z"
   },
   {
    "duration": 43,
    "start_time": "2022-04-09T09:08:41.904Z"
   },
   {
    "duration": 36,
    "start_time": "2022-04-09T09:08:41.949Z"
   },
   {
    "duration": 93,
    "start_time": "2022-04-09T09:08:41.987Z"
   },
   {
    "duration": 9,
    "start_time": "2022-04-09T09:08:42.082Z"
   },
   {
    "duration": 13,
    "start_time": "2022-04-09T09:08:42.093Z"
   },
   {
    "duration": 10,
    "start_time": "2022-04-09T09:08:42.109Z"
   },
   {
    "duration": 27,
    "start_time": "2022-04-09T09:08:42.121Z"
   },
   {
    "duration": 10,
    "start_time": "2022-04-09T09:08:42.150Z"
   },
   {
    "duration": 312,
    "start_time": "2022-04-09T09:08:42.162Z"
   },
   {
    "duration": 109,
    "start_time": "2022-04-09T09:08:42.476Z"
   },
   {
    "duration": 38,
    "start_time": "2022-04-09T09:08:42.591Z"
   },
   {
    "duration": 130,
    "start_time": "2022-04-09T09:08:42.632Z"
   },
   {
    "duration": 14,
    "start_time": "2022-04-09T09:08:42.764Z"
   },
   {
    "duration": 3,
    "start_time": "2022-04-09T09:08:42.781Z"
   },
   {
    "duration": 6,
    "start_time": "2022-04-09T09:08:42.786Z"
   },
   {
    "duration": 10,
    "start_time": "2022-04-09T09:08:42.794Z"
   },
   {
    "duration": 39,
    "start_time": "2022-04-09T09:08:42.806Z"
   },
   {
    "duration": 13,
    "start_time": "2022-04-09T09:08:42.848Z"
   },
   {
    "duration": 8,
    "start_time": "2022-04-09T09:08:42.863Z"
   },
   {
    "duration": 17,
    "start_time": "2022-04-09T09:08:42.873Z"
   },
   {
    "duration": 7,
    "start_time": "2022-04-09T09:08:42.892Z"
   },
   {
    "duration": 13,
    "start_time": "2022-04-09T09:08:42.901Z"
   },
   {
    "duration": 74,
    "start_time": "2022-04-09T09:08:42.916Z"
   },
   {
    "duration": 73,
    "start_time": "2022-04-09T09:08:42.993Z"
   },
   {
    "duration": 47,
    "start_time": "2022-04-09T09:08:43.068Z"
   },
   {
    "duration": 70,
    "start_time": "2022-04-09T09:08:43.117Z"
   },
   {
    "duration": 74,
    "start_time": "2022-04-09T09:08:43.190Z"
   },
   {
    "duration": 14,
    "start_time": "2022-04-09T09:08:43.267Z"
   },
   {
    "duration": 14,
    "start_time": "2022-04-09T09:08:43.284Z"
   },
   {
    "duration": 9,
    "start_time": "2022-04-09T09:08:43.300Z"
   },
   {
    "duration": 7,
    "start_time": "2022-04-09T09:11:18.275Z"
   },
   {
    "duration": 245,
    "start_time": "2022-04-09T09:11:18.286Z"
   },
   {
    "duration": 34,
    "start_time": "2022-04-09T09:11:18.534Z"
   },
   {
    "duration": 11,
    "start_time": "2022-04-09T09:11:18.571Z"
   },
   {
    "duration": 23,
    "start_time": "2022-04-09T09:11:18.587Z"
   },
   {
    "duration": 6,
    "start_time": "2022-04-09T09:11:18.642Z"
   },
   {
    "duration": 174,
    "start_time": "2022-04-09T09:11:18.651Z"
   },
   {
    "duration": 92,
    "start_time": "2022-04-09T09:11:18.828Z"
   },
   {
    "duration": 22,
    "start_time": "2022-04-09T09:11:18.922Z"
   },
   {
    "duration": 9,
    "start_time": "2022-04-09T09:11:18.947Z"
   },
   {
    "duration": 22,
    "start_time": "2022-04-09T09:11:18.959Z"
   },
   {
    "duration": 62,
    "start_time": "2022-04-09T09:11:18.984Z"
   },
   {
    "duration": 16,
    "start_time": "2022-04-09T09:11:19.049Z"
   },
   {
    "duration": 72,
    "start_time": "2022-04-09T09:11:19.072Z"
   },
   {
    "duration": 37,
    "start_time": "2022-04-09T09:11:19.147Z"
   },
   {
    "duration": 12,
    "start_time": "2022-04-09T09:11:19.186Z"
   },
   {
    "duration": 47,
    "start_time": "2022-04-09T09:11:19.200Z"
   },
   {
    "duration": 27,
    "start_time": "2022-04-09T09:11:19.250Z"
   },
   {
    "duration": 34,
    "start_time": "2022-04-09T09:11:19.279Z"
   },
   {
    "duration": 6,
    "start_time": "2022-04-09T09:11:19.344Z"
   },
   {
    "duration": 289,
    "start_time": "2022-04-09T09:11:19.353Z"
   },
   {
    "duration": 12,
    "start_time": "2022-04-09T09:11:19.645Z"
   },
   {
    "duration": 22,
    "start_time": "2022-04-09T09:11:19.660Z"
   },
   {
    "duration": 12,
    "start_time": "2022-04-09T09:11:19.685Z"
   },
   {
    "duration": 44,
    "start_time": "2022-04-09T09:11:19.699Z"
   },
   {
    "duration": 41,
    "start_time": "2022-04-09T09:11:19.745Z"
   },
   {
    "duration": 9,
    "start_time": "2022-04-09T09:11:19.788Z"
   },
   {
    "duration": 59,
    "start_time": "2022-04-09T09:11:19.800Z"
   },
   {
    "duration": 86,
    "start_time": "2022-04-09T09:11:19.861Z"
   },
   {
    "duration": 9,
    "start_time": "2022-04-09T09:11:19.949Z"
   },
   {
    "duration": 10,
    "start_time": "2022-04-09T09:11:19.960Z"
   },
   {
    "duration": 10,
    "start_time": "2022-04-09T09:11:19.972Z"
   },
   {
    "duration": 7,
    "start_time": "2022-04-09T09:11:19.984Z"
   },
   {
    "duration": 9,
    "start_time": "2022-04-09T09:11:19.993Z"
   },
   {
    "duration": 243,
    "start_time": "2022-04-09T09:11:20.004Z"
   },
   {
    "duration": 111,
    "start_time": "2022-04-09T09:11:20.249Z"
   },
   {
    "duration": 40,
    "start_time": "2022-04-09T09:11:20.363Z"
   },
   {
    "duration": 147,
    "start_time": "2022-04-09T09:11:20.405Z"
   },
   {
    "duration": 14,
    "start_time": "2022-04-09T09:11:20.556Z"
   },
   {
    "duration": 4,
    "start_time": "2022-04-09T09:11:20.573Z"
   },
   {
    "duration": 4,
    "start_time": "2022-04-09T09:11:20.585Z"
   },
   {
    "duration": 8,
    "start_time": "2022-04-09T09:11:20.592Z"
   },
   {
    "duration": 4,
    "start_time": "2022-04-09T09:11:20.644Z"
   },
   {
    "duration": 14,
    "start_time": "2022-04-09T09:11:20.651Z"
   },
   {
    "duration": 4,
    "start_time": "2022-04-09T09:11:20.668Z"
   },
   {
    "duration": 14,
    "start_time": "2022-04-09T09:11:20.674Z"
   },
   {
    "duration": 10,
    "start_time": "2022-04-09T09:11:20.690Z"
   },
   {
    "duration": 46,
    "start_time": "2022-04-09T09:11:20.702Z"
   },
   {
    "duration": 46,
    "start_time": "2022-04-09T09:11:20.750Z"
   },
   {
    "duration": 77,
    "start_time": "2022-04-09T09:11:20.798Z"
   },
   {
    "duration": 66,
    "start_time": "2022-04-09T09:11:20.877Z"
   },
   {
    "duration": 48,
    "start_time": "2022-04-09T09:11:20.945Z"
   },
   {
    "duration": 76,
    "start_time": "2022-04-09T09:11:20.996Z"
   },
   {
    "duration": 11,
    "start_time": "2022-04-09T09:11:21.074Z"
   },
   {
    "duration": 15,
    "start_time": "2022-04-09T09:11:21.087Z"
   },
   {
    "duration": 10,
    "start_time": "2022-04-09T09:11:21.104Z"
   },
   {
    "duration": 12,
    "start_time": "2022-04-09T09:12:08.471Z"
   },
   {
    "duration": 10,
    "start_time": "2022-04-09T09:12:09.772Z"
   },
   {
    "duration": 14,
    "start_time": "2022-04-09T09:12:18.649Z"
   },
   {
    "duration": 9,
    "start_time": "2022-04-09T09:12:19.101Z"
   },
   {
    "duration": 12,
    "start_time": "2022-04-09T09:12:26.219Z"
   },
   {
    "duration": 9,
    "start_time": "2022-04-09T09:12:27.743Z"
   },
   {
    "duration": 12,
    "start_time": "2022-04-09T09:13:05.920Z"
   },
   {
    "duration": 9,
    "start_time": "2022-04-09T09:13:06.758Z"
   },
   {
    "duration": 9,
    "start_time": "2022-04-09T09:13:12.353Z"
   },
   {
    "duration": 22,
    "start_time": "2022-04-09T09:13:28.566Z"
   },
   {
    "duration": 12,
    "start_time": "2022-04-09T09:13:55.562Z"
   },
   {
    "duration": 10,
    "start_time": "2022-04-09T09:13:55.960Z"
   },
   {
    "duration": 11,
    "start_time": "2022-04-09T09:14:03.600Z"
   },
   {
    "duration": 10,
    "start_time": "2022-04-09T09:14:04.642Z"
   },
   {
    "duration": 6,
    "start_time": "2022-04-09T09:14:13.598Z"
   },
   {
    "duration": 22,
    "start_time": "2022-04-09T09:14:14.015Z"
   },
   {
    "duration": 26,
    "start_time": "2022-04-09T09:14:30.243Z"
   },
   {
    "duration": 10,
    "start_time": "2022-04-09T09:14:31.055Z"
   },
   {
    "duration": 21,
    "start_time": "2022-04-09T09:14:35.604Z"
   },
   {
    "duration": 19,
    "start_time": "2022-04-09T09:16:27.773Z"
   },
   {
    "duration": 22,
    "start_time": "2022-04-09T09:16:32.678Z"
   },
   {
    "duration": 18,
    "start_time": "2022-04-09T09:16:37.739Z"
   },
   {
    "duration": 20,
    "start_time": "2022-04-09T09:16:38.205Z"
   },
   {
    "duration": 23,
    "start_time": "2022-04-09T09:16:38.586Z"
   },
   {
    "duration": 21,
    "start_time": "2022-04-09T09:21:17.401Z"
   },
   {
    "duration": 59,
    "start_time": "2022-04-09T09:21:19.700Z"
   },
   {
    "duration": 22,
    "start_time": "2022-04-09T09:21:32.216Z"
   },
   {
    "duration": 6,
    "start_time": "2022-04-09T09:21:42.849Z"
   },
   {
    "duration": 240,
    "start_time": "2022-04-09T09:21:42.858Z"
   },
   {
    "duration": 26,
    "start_time": "2022-04-09T09:21:43.101Z"
   },
   {
    "duration": 21,
    "start_time": "2022-04-09T09:21:43.129Z"
   },
   {
    "duration": 22,
    "start_time": "2022-04-09T09:21:43.153Z"
   },
   {
    "duration": 4,
    "start_time": "2022-04-09T09:21:43.177Z"
   },
   {
    "duration": 182,
    "start_time": "2022-04-09T09:21:43.183Z"
   },
   {
    "duration": 90,
    "start_time": "2022-04-09T09:21:43.367Z"
   },
   {
    "duration": 8,
    "start_time": "2022-04-09T09:21:43.459Z"
   },
   {
    "duration": 7,
    "start_time": "2022-04-09T09:21:43.469Z"
   },
   {
    "duration": 19,
    "start_time": "2022-04-09T09:21:43.480Z"
   },
   {
    "duration": 52,
    "start_time": "2022-04-09T09:21:43.501Z"
   },
   {
    "duration": 14,
    "start_time": "2022-04-09T09:21:43.555Z"
   },
   {
    "duration": 43,
    "start_time": "2022-04-09T09:21:43.571Z"
   },
   {
    "duration": 36,
    "start_time": "2022-04-09T09:21:43.644Z"
   },
   {
    "duration": 10,
    "start_time": "2022-04-09T09:21:43.682Z"
   },
   {
    "duration": 10,
    "start_time": "2022-04-09T09:21:43.694Z"
   },
   {
    "duration": 25,
    "start_time": "2022-04-09T09:21:43.742Z"
   },
   {
    "duration": 30,
    "start_time": "2022-04-09T09:21:43.770Z"
   },
   {
    "duration": 7,
    "start_time": "2022-04-09T09:21:43.802Z"
   },
   {
    "duration": 279,
    "start_time": "2022-04-09T09:21:43.843Z"
   },
   {
    "duration": 20,
    "start_time": "2022-04-09T09:21:44.124Z"
   },
   {
    "duration": 25,
    "start_time": "2022-04-09T09:21:44.146Z"
   },
   {
    "duration": 14,
    "start_time": "2022-04-09T09:21:44.173Z"
   },
   {
    "duration": 10,
    "start_time": "2022-04-09T09:21:44.189Z"
   },
   {
    "duration": 79,
    "start_time": "2022-04-09T09:21:44.201Z"
   },
   {
    "duration": 12,
    "start_time": "2022-04-09T09:21:44.282Z"
   },
   {
    "duration": 64,
    "start_time": "2022-04-09T09:21:44.296Z"
   },
   {
    "duration": 82,
    "start_time": "2022-04-09T09:21:44.365Z"
   },
   {
    "duration": 10,
    "start_time": "2022-04-09T09:21:44.449Z"
   },
   {
    "duration": 12,
    "start_time": "2022-04-09T09:21:44.461Z"
   },
   {
    "duration": 11,
    "start_time": "2022-04-09T09:21:44.475Z"
   },
   {
    "duration": 7,
    "start_time": "2022-04-09T09:21:44.488Z"
   },
   {
    "duration": 52,
    "start_time": "2022-04-09T09:21:44.496Z"
   },
   {
    "duration": 207,
    "start_time": "2022-04-09T09:21:44.551Z"
   },
   {
    "duration": 113,
    "start_time": "2022-04-09T09:21:44.760Z"
   },
   {
    "duration": 40,
    "start_time": "2022-04-09T09:21:44.876Z"
   },
   {
    "duration": 144,
    "start_time": "2022-04-09T09:21:44.919Z"
   },
   {
    "duration": 13,
    "start_time": "2022-04-09T09:21:45.066Z"
   },
   {
    "duration": 14,
    "start_time": "2022-04-09T09:21:45.081Z"
   },
   {
    "duration": 8,
    "start_time": "2022-04-09T09:21:45.097Z"
   },
   {
    "duration": 13,
    "start_time": "2022-04-09T09:21:45.107Z"
   },
   {
    "duration": 21,
    "start_time": "2022-04-09T09:21:45.122Z"
   },
   {
    "duration": 11,
    "start_time": "2022-04-09T09:21:45.146Z"
   },
   {
    "duration": 10,
    "start_time": "2022-04-09T09:21:45.159Z"
   },
   {
    "duration": 15,
    "start_time": "2022-04-09T09:21:45.172Z"
   },
   {
    "duration": 5,
    "start_time": "2022-04-09T09:21:45.189Z"
   },
   {
    "duration": 10,
    "start_time": "2022-04-09T09:21:45.197Z"
   },
   {
    "duration": 76,
    "start_time": "2022-04-09T09:21:45.209Z"
   },
   {
    "duration": 68,
    "start_time": "2022-04-09T09:21:45.287Z"
   },
   {
    "duration": 49,
    "start_time": "2022-04-09T09:21:45.358Z"
   },
   {
    "duration": 68,
    "start_time": "2022-04-09T09:21:45.409Z"
   },
   {
    "duration": 70,
    "start_time": "2022-04-09T09:21:45.479Z"
   },
   {
    "duration": 10,
    "start_time": "2022-04-09T09:21:45.551Z"
   },
   {
    "duration": 24,
    "start_time": "2022-04-09T09:21:45.563Z"
   },
   {
    "duration": 22,
    "start_time": "2022-04-09T09:21:45.589Z"
   },
   {
    "duration": 75,
    "start_time": "2022-04-09T09:21:45.614Z"
   },
   {
    "duration": 99,
    "start_time": "2022-04-09T09:21:45.692Z"
   },
   {
    "duration": 36,
    "start_time": "2022-04-09T09:22:12.168Z"
   },
   {
    "duration": 91,
    "start_time": "2022-04-09T09:22:55.219Z"
   },
   {
    "duration": 86,
    "start_time": "2022-04-09T09:23:04.297Z"
   },
   {
    "duration": 205,
    "start_time": "2022-04-09T09:25:22.267Z"
   },
   {
    "duration": 169,
    "start_time": "2022-04-09T09:25:32.299Z"
   },
   {
    "duration": 11,
    "start_time": "2022-04-09T09:26:45.103Z"
   },
   {
    "duration": 24,
    "start_time": "2022-04-09T09:28:16.916Z"
   },
   {
    "duration": 5,
    "start_time": "2022-04-09T09:44:22.315Z"
   },
   {
    "duration": 230,
    "start_time": "2022-04-09T09:44:22.323Z"
   },
   {
    "duration": 27,
    "start_time": "2022-04-09T09:44:22.555Z"
   },
   {
    "duration": 11,
    "start_time": "2022-04-09T09:44:22.584Z"
   },
   {
    "duration": 50,
    "start_time": "2022-04-09T09:44:22.597Z"
   },
   {
    "duration": 4,
    "start_time": "2022-04-09T09:44:22.649Z"
   },
   {
    "duration": 169,
    "start_time": "2022-04-09T09:44:22.656Z"
   },
   {
    "duration": 87,
    "start_time": "2022-04-09T09:44:22.827Z"
   },
   {
    "duration": 28,
    "start_time": "2022-04-09T09:44:22.918Z"
   },
   {
    "duration": 7,
    "start_time": "2022-04-09T09:44:22.948Z"
   },
   {
    "duration": 20,
    "start_time": "2022-04-09T09:44:22.958Z"
   },
   {
    "duration": 30,
    "start_time": "2022-04-09T09:44:22.980Z"
   },
   {
    "duration": 43,
    "start_time": "2022-04-09T09:44:23.012Z"
   },
   {
    "duration": 64,
    "start_time": "2022-04-09T09:44:23.057Z"
   },
   {
    "duration": 36,
    "start_time": "2022-04-09T09:44:23.144Z"
   },
   {
    "duration": 12,
    "start_time": "2022-04-09T09:44:23.183Z"
   },
   {
    "duration": 46,
    "start_time": "2022-04-09T09:44:23.197Z"
   },
   {
    "duration": 28,
    "start_time": "2022-04-09T09:44:23.246Z"
   },
   {
    "duration": 33,
    "start_time": "2022-04-09T09:44:23.277Z"
   },
   {
    "duration": 37,
    "start_time": "2022-04-09T09:44:23.312Z"
   },
   {
    "duration": 311,
    "start_time": "2022-04-09T09:44:23.352Z"
   },
   {
    "duration": 15,
    "start_time": "2022-04-09T09:44:23.666Z"
   },
   {
    "duration": 23,
    "start_time": "2022-04-09T09:44:23.683Z"
   },
   {
    "duration": 14,
    "start_time": "2022-04-09T09:44:23.745Z"
   },
   {
    "duration": 11,
    "start_time": "2022-04-09T09:44:23.762Z"
   },
   {
    "duration": 78,
    "start_time": "2022-04-09T09:44:23.776Z"
   },
   {
    "duration": 11,
    "start_time": "2022-04-09T09:44:23.857Z"
   },
   {
    "duration": 34,
    "start_time": "2022-04-09T09:44:23.870Z"
   },
   {
    "duration": 95,
    "start_time": "2022-04-09T09:44:23.906Z"
   },
   {
    "duration": 9,
    "start_time": "2022-04-09T09:44:24.003Z"
   },
   {
    "duration": 33,
    "start_time": "2022-04-09T09:44:24.014Z"
   },
   {
    "duration": 10,
    "start_time": "2022-04-09T09:44:24.049Z"
   },
   {
    "duration": 13,
    "start_time": "2022-04-09T09:44:24.061Z"
   },
   {
    "duration": 10,
    "start_time": "2022-04-09T09:44:24.076Z"
   },
   {
    "duration": 228,
    "start_time": "2022-04-09T09:44:24.088Z"
   },
   {
    "duration": 110,
    "start_time": "2022-04-09T09:44:24.318Z"
   },
   {
    "duration": 43,
    "start_time": "2022-04-09T09:44:24.442Z"
   },
   {
    "duration": 138,
    "start_time": "2022-04-09T09:44:24.487Z"
   },
   {
    "duration": 23,
    "start_time": "2022-04-09T09:44:24.628Z"
   },
   {
    "duration": 4,
    "start_time": "2022-04-09T09:44:24.653Z"
   },
   {
    "duration": 15,
    "start_time": "2022-04-09T09:44:24.659Z"
   },
   {
    "duration": 17,
    "start_time": "2022-04-09T09:44:24.677Z"
   },
   {
    "duration": 12,
    "start_time": "2022-04-09T09:44:24.696Z"
   },
   {
    "duration": 34,
    "start_time": "2022-04-09T09:44:24.711Z"
   },
   {
    "duration": 9,
    "start_time": "2022-04-09T09:44:24.747Z"
   },
   {
    "duration": 20,
    "start_time": "2022-04-09T09:44:24.759Z"
   },
   {
    "duration": 6,
    "start_time": "2022-04-09T09:44:24.782Z"
   },
   {
    "duration": 11,
    "start_time": "2022-04-09T09:44:24.790Z"
   },
   {
    "duration": 78,
    "start_time": "2022-04-09T09:44:24.804Z"
   },
   {
    "duration": 72,
    "start_time": "2022-04-09T09:44:24.885Z"
   },
   {
    "duration": 61,
    "start_time": "2022-04-09T09:44:24.960Z"
   },
   {
    "duration": 69,
    "start_time": "2022-04-09T09:44:25.024Z"
   },
   {
    "duration": 81,
    "start_time": "2022-04-09T09:44:25.096Z"
   },
   {
    "duration": 12,
    "start_time": "2022-04-09T09:44:25.180Z"
   },
   {
    "duration": 52,
    "start_time": "2022-04-09T09:44:25.195Z"
   },
   {
    "duration": 33,
    "start_time": "2022-04-09T09:44:25.250Z"
   },
   {
    "duration": 119,
    "start_time": "2022-04-09T09:44:25.286Z"
   },
   {
    "duration": 324,
    "start_time": "2022-04-09T09:44:25.409Z"
   },
   {
    "duration": 35,
    "start_time": "2022-04-09T09:44:25.744Z"
   },
   {
    "duration": 194,
    "start_time": "2022-04-09T09:50:25.113Z"
   },
   {
    "duration": 35,
    "start_time": "2022-04-09T09:51:15.573Z"
   },
   {
    "duration": 36,
    "start_time": "2022-04-09T09:51:50.030Z"
   },
   {
    "duration": 6,
    "start_time": "2022-04-09T09:53:56.136Z"
   },
   {
    "duration": 230,
    "start_time": "2022-04-09T09:53:56.145Z"
   },
   {
    "duration": 26,
    "start_time": "2022-04-09T09:53:56.377Z"
   },
   {
    "duration": 10,
    "start_time": "2022-04-09T09:53:56.405Z"
   },
   {
    "duration": 21,
    "start_time": "2022-04-09T09:53:56.443Z"
   },
   {
    "duration": 4,
    "start_time": "2022-04-09T09:53:56.467Z"
   },
   {
    "duration": 183,
    "start_time": "2022-04-09T09:53:56.473Z"
   },
   {
    "duration": 92,
    "start_time": "2022-04-09T09:53:56.658Z"
   },
   {
    "duration": 8,
    "start_time": "2022-04-09T09:53:56.753Z"
   },
   {
    "duration": 8,
    "start_time": "2022-04-09T09:53:56.763Z"
   },
   {
    "duration": 22,
    "start_time": "2022-04-09T09:53:56.773Z"
   },
   {
    "duration": 56,
    "start_time": "2022-04-09T09:53:56.797Z"
   },
   {
    "duration": 16,
    "start_time": "2022-04-09T09:53:56.855Z"
   },
   {
    "duration": 70,
    "start_time": "2022-04-09T09:53:56.878Z"
   },
   {
    "duration": 35,
    "start_time": "2022-04-09T09:53:56.950Z"
   },
   {
    "duration": 10,
    "start_time": "2022-04-09T09:53:56.988Z"
   },
   {
    "duration": 43,
    "start_time": "2022-04-09T09:53:57.000Z"
   },
   {
    "duration": 27,
    "start_time": "2022-04-09T09:53:57.046Z"
   },
   {
    "duration": 35,
    "start_time": "2022-04-09T09:53:57.075Z"
   },
   {
    "duration": 35,
    "start_time": "2022-04-09T09:53:57.112Z"
   },
   {
    "duration": 298,
    "start_time": "2022-04-09T09:53:57.150Z"
   },
   {
    "duration": 12,
    "start_time": "2022-04-09T09:53:57.451Z"
   },
   {
    "duration": 21,
    "start_time": "2022-04-09T09:53:57.465Z"
   },
   {
    "duration": 12,
    "start_time": "2022-04-09T09:53:57.488Z"
   },
   {
    "duration": 46,
    "start_time": "2022-04-09T09:53:57.502Z"
   },
   {
    "duration": 41,
    "start_time": "2022-04-09T09:53:57.550Z"
   },
   {
    "duration": 9,
    "start_time": "2022-04-09T09:53:57.593Z"
   },
   {
    "duration": 35,
    "start_time": "2022-04-09T09:53:57.642Z"
   },
   {
    "duration": 96,
    "start_time": "2022-04-09T09:53:57.679Z"
   },
   {
    "duration": 9,
    "start_time": "2022-04-09T09:53:57.778Z"
   },
   {
    "duration": 10,
    "start_time": "2022-04-09T09:53:57.789Z"
   },
   {
    "duration": 10,
    "start_time": "2022-04-09T09:53:57.801Z"
   },
   {
    "duration": 6,
    "start_time": "2022-04-09T09:53:57.844Z"
   },
   {
    "duration": 12,
    "start_time": "2022-04-09T09:53:57.852Z"
   },
   {
    "duration": 345,
    "start_time": "2022-04-09T09:53:57.866Z"
   },
   {
    "duration": 114,
    "start_time": "2022-04-09T09:53:58.213Z"
   },
   {
    "duration": 48,
    "start_time": "2022-04-09T09:53:58.329Z"
   },
   {
    "duration": 142,
    "start_time": "2022-04-09T09:53:58.379Z"
   },
   {
    "duration": 20,
    "start_time": "2022-04-09T09:53:58.523Z"
   },
   {
    "duration": 4,
    "start_time": "2022-04-09T09:53:58.545Z"
   },
   {
    "duration": 4,
    "start_time": "2022-04-09T09:53:58.555Z"
   },
   {
    "duration": 7,
    "start_time": "2022-04-09T09:53:58.561Z"
   },
   {
    "duration": 7,
    "start_time": "2022-04-09T09:53:58.572Z"
   },
   {
    "duration": 68,
    "start_time": "2022-04-09T09:53:58.581Z"
   },
   {
    "duration": 4,
    "start_time": "2022-04-09T09:53:58.651Z"
   },
   {
    "duration": 14,
    "start_time": "2022-04-09T09:53:58.657Z"
   },
   {
    "duration": 6,
    "start_time": "2022-04-09T09:53:58.673Z"
   },
   {
    "duration": 9,
    "start_time": "2022-04-09T09:53:58.681Z"
   },
   {
    "duration": 87,
    "start_time": "2022-04-09T09:53:58.692Z"
   },
   {
    "duration": 147,
    "start_time": "2022-04-09T09:53:58.781Z"
   },
   {
    "duration": 59,
    "start_time": "2022-04-09T09:53:58.930Z"
   },
   {
    "duration": 88,
    "start_time": "2022-04-09T09:53:58.991Z"
   },
   {
    "duration": 69,
    "start_time": "2022-04-09T09:53:59.081Z"
   },
   {
    "duration": 13,
    "start_time": "2022-04-09T09:53:59.153Z"
   },
   {
    "duration": 32,
    "start_time": "2022-04-09T09:53:59.168Z"
   },
   {
    "duration": 67,
    "start_time": "2022-04-09T09:53:59.203Z"
   },
   {
    "duration": 110,
    "start_time": "2022-04-09T09:53:59.273Z"
   },
   {
    "duration": 221,
    "start_time": "2022-04-09T09:53:59.385Z"
   },
   {
    "duration": 44,
    "start_time": "2022-04-09T09:53:59.608Z"
   },
   {
    "duration": 6,
    "start_time": "2022-04-09T09:55:58.902Z"
   },
   {
    "duration": 208,
    "start_time": "2022-04-09T09:55:58.911Z"
   },
   {
    "duration": 45,
    "start_time": "2022-04-09T09:55:59.121Z"
   },
   {
    "duration": 12,
    "start_time": "2022-04-09T09:55:59.169Z"
   },
   {
    "duration": 31,
    "start_time": "2022-04-09T09:55:59.183Z"
   },
   {
    "duration": 29,
    "start_time": "2022-04-09T09:55:59.216Z"
   },
   {
    "duration": 166,
    "start_time": "2022-04-09T09:55:59.248Z"
   },
   {
    "duration": 95,
    "start_time": "2022-04-09T09:55:59.417Z"
   },
   {
    "duration": 10,
    "start_time": "2022-04-09T09:55:59.517Z"
   },
   {
    "duration": 10,
    "start_time": "2022-04-09T09:55:59.542Z"
   },
   {
    "duration": 42,
    "start_time": "2022-04-09T09:55:59.555Z"
   },
   {
    "duration": 65,
    "start_time": "2022-04-09T09:55:59.600Z"
   },
   {
    "duration": 18,
    "start_time": "2022-04-09T09:55:59.667Z"
   },
   {
    "duration": 68,
    "start_time": "2022-04-09T09:55:59.689Z"
   },
   {
    "duration": 35,
    "start_time": "2022-04-09T09:55:59.759Z"
   },
   {
    "duration": 14,
    "start_time": "2022-04-09T09:55:59.797Z"
   },
   {
    "duration": 40,
    "start_time": "2022-04-09T09:55:59.813Z"
   },
   {
    "duration": 40,
    "start_time": "2022-04-09T09:55:59.856Z"
   },
   {
    "duration": 68,
    "start_time": "2022-04-09T09:55:59.898Z"
   },
   {
    "duration": 7,
    "start_time": "2022-04-09T09:55:59.969Z"
   },
   {
    "duration": 470,
    "start_time": "2022-04-09T09:55:59.978Z"
   },
   {
    "duration": 18,
    "start_time": "2022-04-09T09:56:00.450Z"
   },
   {
    "duration": 35,
    "start_time": "2022-04-09T09:56:00.471Z"
   },
   {
    "duration": 41,
    "start_time": "2022-04-09T09:56:00.515Z"
   },
   {
    "duration": 14,
    "start_time": "2022-04-09T09:56:00.558Z"
   },
   {
    "duration": 86,
    "start_time": "2022-04-09T09:56:00.575Z"
   },
   {
    "duration": 13,
    "start_time": "2022-04-09T09:56:00.665Z"
   },
   {
    "duration": 72,
    "start_time": "2022-04-09T09:56:00.681Z"
   },
   {
    "duration": 118,
    "start_time": "2022-04-09T09:56:00.755Z"
   },
   {
    "duration": 13,
    "start_time": "2022-04-09T09:56:00.876Z"
   },
   {
    "duration": 24,
    "start_time": "2022-04-09T09:56:00.892Z"
   },
   {
    "duration": 28,
    "start_time": "2022-04-09T09:56:00.919Z"
   },
   {
    "duration": 14,
    "start_time": "2022-04-09T09:56:00.950Z"
   },
   {
    "duration": 21,
    "start_time": "2022-04-09T09:56:00.967Z"
   },
   {
    "duration": 356,
    "start_time": "2022-04-09T09:56:00.991Z"
   },
   {
    "duration": 164,
    "start_time": "2022-04-09T09:56:01.350Z"
   },
   {
    "duration": 71,
    "start_time": "2022-04-09T09:56:01.517Z"
   },
   {
    "duration": 143,
    "start_time": "2022-04-09T09:56:01.592Z"
   },
   {
    "duration": 18,
    "start_time": "2022-04-09T09:56:01.743Z"
   },
   {
    "duration": 46,
    "start_time": "2022-04-09T09:56:01.764Z"
   },
   {
    "duration": 48,
    "start_time": "2022-04-09T09:56:01.813Z"
   },
   {
    "duration": 32,
    "start_time": "2022-04-09T09:56:01.864Z"
   },
   {
    "duration": 47,
    "start_time": "2022-04-09T09:56:01.898Z"
   },
   {
    "duration": 33,
    "start_time": "2022-04-09T09:56:01.947Z"
   },
   {
    "duration": 28,
    "start_time": "2022-04-09T09:56:01.982Z"
   },
   {
    "duration": 26,
    "start_time": "2022-04-09T09:56:02.012Z"
   },
   {
    "duration": 23,
    "start_time": "2022-04-09T09:56:02.040Z"
   },
   {
    "duration": 19,
    "start_time": "2022-04-09T09:56:02.066Z"
   },
   {
    "duration": 58,
    "start_time": "2022-04-09T09:56:02.087Z"
   },
   {
    "duration": 48,
    "start_time": "2022-04-09T09:56:02.148Z"
   },
   {
    "duration": 71,
    "start_time": "2022-04-09T09:56:02.198Z"
   },
   {
    "duration": 47,
    "start_time": "2022-04-09T09:56:02.271Z"
   },
   {
    "duration": 68,
    "start_time": "2022-04-09T09:56:02.320Z"
   },
   {
    "duration": 24,
    "start_time": "2022-04-09T09:56:02.391Z"
   },
   {
    "duration": 38,
    "start_time": "2022-04-09T09:56:02.418Z"
   },
   {
    "duration": 33,
    "start_time": "2022-04-09T09:56:02.458Z"
   },
   {
    "duration": 109,
    "start_time": "2022-04-09T09:56:02.494Z"
   },
   {
    "duration": 223,
    "start_time": "2022-04-09T09:56:02.605Z"
   },
   {
    "duration": 38,
    "start_time": "2022-04-09T09:56:02.830Z"
   },
   {
    "duration": 48,
    "start_time": "2022-04-09T09:58:54.350Z"
   },
   {
    "duration": 2762,
    "start_time": "2022-04-09T09:59:26.670Z"
   },
   {
    "duration": 33,
    "start_time": "2022-04-09T09:59:47.073Z"
   },
   {
    "duration": 8,
    "start_time": "2022-04-09T10:00:22.756Z"
   },
   {
    "duration": 25,
    "start_time": "2022-04-09T10:00:30.556Z"
   },
   {
    "duration": 6,
    "start_time": "2022-04-09T10:01:28.621Z"
   },
   {
    "duration": 227,
    "start_time": "2022-04-09T10:01:28.629Z"
   },
   {
    "duration": 26,
    "start_time": "2022-04-09T10:01:28.858Z"
   },
   {
    "duration": 16,
    "start_time": "2022-04-09T10:01:28.887Z"
   },
   {
    "duration": 61,
    "start_time": "2022-04-09T10:01:28.908Z"
   },
   {
    "duration": 6,
    "start_time": "2022-04-09T10:01:28.972Z"
   },
   {
    "duration": 227,
    "start_time": "2022-04-09T10:01:28.981Z"
   },
   {
    "duration": 126,
    "start_time": "2022-04-09T10:01:29.211Z"
   },
   {
    "duration": 11,
    "start_time": "2022-04-09T10:01:29.340Z"
   },
   {
    "duration": 10,
    "start_time": "2022-04-09T10:01:29.354Z"
   },
   {
    "duration": 39,
    "start_time": "2022-04-09T10:01:29.367Z"
   },
   {
    "duration": 64,
    "start_time": "2022-04-09T10:01:29.409Z"
   },
   {
    "duration": 20,
    "start_time": "2022-04-09T10:01:29.476Z"
   },
   {
    "duration": 91,
    "start_time": "2022-04-09T10:01:29.504Z"
   },
   {
    "duration": 58,
    "start_time": "2022-04-09T10:01:29.598Z"
   },
   {
    "duration": 13,
    "start_time": "2022-04-09T10:01:29.659Z"
   },
   {
    "duration": 14,
    "start_time": "2022-04-09T10:01:29.674Z"
   },
   {
    "duration": 59,
    "start_time": "2022-04-09T10:01:29.690Z"
   },
   {
    "duration": 32,
    "start_time": "2022-04-09T10:01:29.752Z"
   },
   {
    "duration": 5,
    "start_time": "2022-04-09T10:01:29.787Z"
   },
   {
    "duration": 321,
    "start_time": "2022-04-09T10:01:29.794Z"
   },
   {
    "duration": 29,
    "start_time": "2022-04-09T10:01:30.117Z"
   },
   {
    "duration": 21,
    "start_time": "2022-04-09T10:01:30.149Z"
   },
   {
    "duration": 12,
    "start_time": "2022-04-09T10:01:30.173Z"
   },
   {
    "duration": 9,
    "start_time": "2022-04-09T10:01:30.188Z"
   },
   {
    "duration": 74,
    "start_time": "2022-04-09T10:01:30.199Z"
   },
   {
    "duration": 11,
    "start_time": "2022-04-09T10:01:30.275Z"
   },
   {
    "duration": 59,
    "start_time": "2022-04-09T10:01:30.288Z"
   },
   {
    "duration": 68,
    "start_time": "2022-04-09T10:01:30.350Z"
   },
   {
    "duration": 24,
    "start_time": "2022-04-09T10:01:30.421Z"
   },
   {
    "duration": 12,
    "start_time": "2022-04-09T10:01:30.448Z"
   },
   {
    "duration": 11,
    "start_time": "2022-04-09T10:01:30.462Z"
   },
   {
    "duration": 8,
    "start_time": "2022-04-09T10:01:30.475Z"
   },
   {
    "duration": 15,
    "start_time": "2022-04-09T10:01:30.485Z"
   },
   {
    "duration": 246,
    "start_time": "2022-04-09T10:01:30.503Z"
   },
   {
    "duration": 114,
    "start_time": "2022-04-09T10:01:30.752Z"
   },
   {
    "duration": 40,
    "start_time": "2022-04-09T10:01:30.868Z"
   },
   {
    "duration": 140,
    "start_time": "2022-04-09T10:01:30.910Z"
   },
   {
    "duration": 13,
    "start_time": "2022-04-09T10:01:31.052Z"
   },
   {
    "duration": 4,
    "start_time": "2022-04-09T10:01:31.067Z"
   },
   {
    "duration": 9,
    "start_time": "2022-04-09T10:01:31.077Z"
   },
   {
    "duration": 8,
    "start_time": "2022-04-09T10:01:31.089Z"
   },
   {
    "duration": 16,
    "start_time": "2022-04-09T10:01:31.099Z"
   },
   {
    "duration": 35,
    "start_time": "2022-04-09T10:01:31.117Z"
   },
   {
    "duration": 11,
    "start_time": "2022-04-09T10:01:31.154Z"
   },
   {
    "duration": 29,
    "start_time": "2022-04-09T10:01:31.167Z"
   },
   {
    "duration": 23,
    "start_time": "2022-04-09T10:01:31.198Z"
   },
   {
    "duration": 20,
    "start_time": "2022-04-09T10:01:31.223Z"
   },
   {
    "duration": 60,
    "start_time": "2022-04-09T10:01:31.245Z"
   },
   {
    "duration": 75,
    "start_time": "2022-04-09T10:01:31.308Z"
   },
   {
    "duration": 64,
    "start_time": "2022-04-09T10:01:31.385Z"
   },
   {
    "duration": 52,
    "start_time": "2022-04-09T10:01:31.451Z"
   },
   {
    "duration": 74,
    "start_time": "2022-04-09T10:01:31.505Z"
   },
   {
    "duration": 9,
    "start_time": "2022-04-09T10:01:31.582Z"
   },
   {
    "duration": 32,
    "start_time": "2022-04-09T10:01:31.594Z"
   },
   {
    "duration": 27,
    "start_time": "2022-04-09T10:01:31.643Z"
   },
   {
    "duration": 45,
    "start_time": "2022-04-09T10:01:31.673Z"
   },
   {
    "duration": 176,
    "start_time": "2022-04-09T10:01:31.721Z"
   },
   {
    "duration": 314,
    "start_time": "2022-04-09T10:01:31.900Z"
   },
   {
    "duration": 43,
    "start_time": "2022-04-09T10:01:32.217Z"
   },
   {
    "duration": 6,
    "start_time": "2022-04-09T10:05:59.864Z"
   },
   {
    "duration": 217,
    "start_time": "2022-04-09T10:05:59.873Z"
   },
   {
    "duration": 51,
    "start_time": "2022-04-09T10:06:00.092Z"
   },
   {
    "duration": 10,
    "start_time": "2022-04-09T10:06:00.146Z"
   },
   {
    "duration": 26,
    "start_time": "2022-04-09T10:06:00.158Z"
   },
   {
    "duration": 5,
    "start_time": "2022-04-09T10:06:00.186Z"
   },
   {
    "duration": 168,
    "start_time": "2022-04-09T10:06:00.193Z"
   },
   {
    "duration": 96,
    "start_time": "2022-04-09T10:06:00.363Z"
   },
   {
    "duration": 9,
    "start_time": "2022-04-09T10:06:00.463Z"
   },
   {
    "duration": 13,
    "start_time": "2022-04-09T10:06:00.474Z"
   },
   {
    "duration": 26,
    "start_time": "2022-04-09T10:06:00.489Z"
   },
   {
    "duration": 45,
    "start_time": "2022-04-09T10:06:00.517Z"
   },
   {
    "duration": 27,
    "start_time": "2022-04-09T10:06:00.564Z"
   },
   {
    "duration": 54,
    "start_time": "2022-04-09T10:06:00.593Z"
   },
   {
    "duration": 37,
    "start_time": "2022-04-09T10:06:00.649Z"
   },
   {
    "duration": 12,
    "start_time": "2022-04-09T10:06:00.689Z"
   },
   {
    "duration": 45,
    "start_time": "2022-04-09T10:06:00.703Z"
   },
   {
    "duration": 26,
    "start_time": "2022-04-09T10:06:00.750Z"
   },
   {
    "duration": 32,
    "start_time": "2022-04-09T10:06:00.778Z"
   },
   {
    "duration": 35,
    "start_time": "2022-04-09T10:06:00.812Z"
   },
   {
    "duration": 317,
    "start_time": "2022-04-09T10:06:00.849Z"
   },
   {
    "duration": 13,
    "start_time": "2022-04-09T10:06:01.169Z"
   },
   {
    "duration": 27,
    "start_time": "2022-04-09T10:06:01.184Z"
   },
   {
    "duration": 33,
    "start_time": "2022-04-09T10:06:01.217Z"
   },
   {
    "duration": 9,
    "start_time": "2022-04-09T10:06:01.252Z"
   },
   {
    "duration": 75,
    "start_time": "2022-04-09T10:06:01.264Z"
   },
   {
    "duration": 46,
    "start_time": "2022-04-09T10:06:01.342Z"
   },
   {
    "duration": 71,
    "start_time": "2022-04-09T10:06:01.390Z"
   },
   {
    "duration": 80,
    "start_time": "2022-04-09T10:06:01.463Z"
   },
   {
    "duration": 9,
    "start_time": "2022-04-09T10:06:01.545Z"
   },
   {
    "duration": 33,
    "start_time": "2022-04-09T10:06:01.556Z"
   },
   {
    "duration": 47,
    "start_time": "2022-04-09T10:06:01.592Z"
   },
   {
    "duration": 28,
    "start_time": "2022-04-09T10:06:01.641Z"
   },
   {
    "duration": 16,
    "start_time": "2022-04-09T10:06:01.671Z"
   },
   {
    "duration": 232,
    "start_time": "2022-04-09T10:06:01.689Z"
   },
   {
    "duration": 106,
    "start_time": "2022-04-09T10:06:01.923Z"
   },
   {
    "duration": 47,
    "start_time": "2022-04-09T10:06:02.031Z"
   },
   {
    "duration": 149,
    "start_time": "2022-04-09T10:06:02.081Z"
   },
   {
    "duration": 12,
    "start_time": "2022-04-09T10:06:02.232Z"
   },
   {
    "duration": 18,
    "start_time": "2022-04-09T10:06:02.246Z"
   },
   {
    "duration": 13,
    "start_time": "2022-04-09T10:06:02.266Z"
   },
   {
    "duration": 12,
    "start_time": "2022-04-09T10:06:02.281Z"
   },
   {
    "duration": 32,
    "start_time": "2022-04-09T10:06:02.295Z"
   },
   {
    "duration": 30,
    "start_time": "2022-04-09T10:06:02.330Z"
   },
   {
    "duration": 6,
    "start_time": "2022-04-09T10:06:02.362Z"
   },
   {
    "duration": 15,
    "start_time": "2022-04-09T10:06:02.370Z"
   },
   {
    "duration": 7,
    "start_time": "2022-04-09T10:06:02.388Z"
   },
   {
    "duration": 12,
    "start_time": "2022-04-09T10:06:02.398Z"
   },
   {
    "duration": 68,
    "start_time": "2022-04-09T10:06:02.412Z"
   },
   {
    "duration": 62,
    "start_time": "2022-04-09T10:06:02.482Z"
   },
   {
    "duration": 47,
    "start_time": "2022-04-09T10:06:02.546Z"
   },
   {
    "duration": 66,
    "start_time": "2022-04-09T10:06:02.595Z"
   },
   {
    "duration": 48,
    "start_time": "2022-04-09T10:06:02.663Z"
   },
   {
    "duration": 32,
    "start_time": "2022-04-09T10:06:02.713Z"
   },
   {
    "duration": 23,
    "start_time": "2022-04-09T10:06:02.747Z"
   },
   {
    "duration": 23,
    "start_time": "2022-04-09T10:06:02.772Z"
   },
   {
    "duration": 49,
    "start_time": "2022-04-09T10:06:02.797Z"
   },
   {
    "duration": 97,
    "start_time": "2022-04-09T10:06:02.848Z"
   },
   {
    "duration": 312,
    "start_time": "2022-04-09T10:06:02.947Z"
   },
   {
    "duration": 24,
    "start_time": "2022-04-09T10:06:03.261Z"
   },
   {
    "duration": 2688,
    "start_time": "2022-04-09T10:06:38.168Z"
   },
   {
    "duration": 7,
    "start_time": "2022-04-09T10:07:52.246Z"
   },
   {
    "duration": 13,
    "start_time": "2022-04-09T10:07:54.261Z"
   },
   {
    "duration": 2905,
    "start_time": "2022-04-09T10:08:04.022Z"
   },
   {
    "duration": 2707,
    "start_time": "2022-04-09T10:08:49.645Z"
   },
   {
    "duration": 2581,
    "start_time": "2022-04-09T12:02:53.592Z"
   },
   {
    "duration": 320,
    "start_time": "2022-04-09T12:02:56.177Z"
   },
   {
    "duration": 45,
    "start_time": "2022-04-09T12:02:56.500Z"
   },
   {
    "duration": 49,
    "start_time": "2022-04-09T12:02:56.550Z"
   },
   {
    "duration": 24,
    "start_time": "2022-04-09T12:02:56.602Z"
   },
   {
    "duration": 5,
    "start_time": "2022-04-09T12:02:56.629Z"
   },
   {
    "duration": 225,
    "start_time": "2022-04-09T12:02:56.637Z"
   },
   {
    "duration": 128,
    "start_time": "2022-04-09T12:02:56.868Z"
   },
   {
    "duration": 11,
    "start_time": "2022-04-09T12:02:56.999Z"
   },
   {
    "duration": 9,
    "start_time": "2022-04-09T12:02:57.015Z"
   },
   {
    "duration": 53,
    "start_time": "2022-04-09T12:02:57.027Z"
   },
   {
    "duration": 31,
    "start_time": "2022-04-09T12:02:57.083Z"
   },
   {
    "duration": 18,
    "start_time": "2022-04-09T12:02:57.117Z"
   },
   {
    "duration": 56,
    "start_time": "2022-04-09T12:02:57.488Z"
   },
   {
    "duration": 50,
    "start_time": "2022-04-09T12:02:57.669Z"
   },
   {
    "duration": 13,
    "start_time": "2022-04-09T12:02:58.231Z"
   },
   {
    "duration": 11,
    "start_time": "2022-04-09T12:02:58.596Z"
   },
   {
    "duration": 25,
    "start_time": "2022-04-09T12:02:58.788Z"
   },
   {
    "duration": 38,
    "start_time": "2022-04-09T12:02:59.356Z"
   },
   {
    "duration": 6,
    "start_time": "2022-04-09T12:02:59.549Z"
   },
   {
    "duration": 410,
    "start_time": "2022-04-09T12:02:59.733Z"
   },
   {
    "duration": 13,
    "start_time": "2022-04-09T12:03:00.294Z"
   },
   {
    "duration": 27,
    "start_time": "2022-04-09T12:03:00.876Z"
   },
   {
    "duration": 18,
    "start_time": "2022-04-09T12:03:01.076Z"
   },
   {
    "duration": 9,
    "start_time": "2022-04-09T12:03:01.276Z"
   },
   {
    "duration": 43,
    "start_time": "2022-04-09T12:03:01.444Z"
   },
   {
    "duration": 12,
    "start_time": "2022-04-09T12:03:01.647Z"
   },
   {
    "duration": 43,
    "start_time": "2022-04-09T12:03:02.772Z"
   },
   {
    "duration": 74,
    "start_time": "2022-04-09T12:03:03.148Z"
   },
   {
    "duration": 10,
    "start_time": "2022-04-09T12:03:03.332Z"
   },
   {
    "duration": 14,
    "start_time": "2022-04-09T12:03:03.524Z"
   },
   {
    "duration": 17,
    "start_time": "2022-04-09T12:03:03.717Z"
   },
   {
    "duration": 9,
    "start_time": "2022-04-09T12:03:04.710Z"
   },
   {
    "duration": 8,
    "start_time": "2022-04-09T12:03:04.910Z"
   },
   {
    "duration": 318,
    "start_time": "2022-04-09T12:03:05.093Z"
   },
   {
    "duration": 158,
    "start_time": "2022-04-09T12:03:06.412Z"
   },
   {
    "duration": 45,
    "start_time": "2022-04-09T12:03:07.772Z"
   },
   {
    "duration": 176,
    "start_time": "2022-04-09T12:03:08.047Z"
   },
   {
    "duration": 19,
    "start_time": "2022-04-09T12:03:12.205Z"
   },
   {
    "duration": 4,
    "start_time": "2022-04-09T12:03:13.701Z"
   },
   {
    "duration": 3,
    "start_time": "2022-04-09T12:03:14.094Z"
   },
   {
    "duration": 6,
    "start_time": "2022-04-09T12:03:15.537Z"
   },
   {
    "duration": 3,
    "start_time": "2022-04-09T12:03:16.860Z"
   },
   {
    "duration": 13,
    "start_time": "2022-04-09T12:03:17.085Z"
   },
   {
    "duration": 3,
    "start_time": "2022-04-09T12:03:17.557Z"
   },
   {
    "duration": 11,
    "start_time": "2022-04-09T12:03:18.745Z"
   },
   {
    "duration": 5,
    "start_time": "2022-04-09T12:03:19.509Z"
   },
   {
    "duration": 6,
    "start_time": "2022-04-09T12:03:22.629Z"
   },
   {
    "duration": 52,
    "start_time": "2022-04-09T12:03:23.677Z"
   },
   {
    "duration": 75,
    "start_time": "2022-04-09T12:03:31.702Z"
   },
   {
    "duration": 76,
    "start_time": "2022-04-09T12:03:32.517Z"
   },
   {
    "duration": 49,
    "start_time": "2022-04-09T12:03:34.495Z"
   },
   {
    "duration": 48,
    "start_time": "2022-04-09T12:03:36.117Z"
   },
   {
    "duration": 11,
    "start_time": "2022-04-09T12:03:43.501Z"
   },
   {
    "duration": 26,
    "start_time": "2022-04-09T12:03:44.449Z"
   },
   {
    "duration": 64,
    "start_time": "2022-04-09T12:03:44.830Z"
   },
   {
    "duration": 101,
    "start_time": "2022-04-09T12:03:45.596Z"
   },
   {
    "duration": 226,
    "start_time": "2022-04-09T12:03:47.022Z"
   },
   {
    "duration": 1905,
    "start_time": "2022-04-09T12:04:03.582Z"
   },
   {
    "duration": 1725,
    "start_time": "2022-04-09T12:04:18.791Z"
   },
   {
    "duration": 13,
    "start_time": "2022-04-09T12:04:47.111Z"
   },
   {
    "duration": 6,
    "start_time": "2022-04-09T12:05:19.487Z"
   },
   {
    "duration": 1640,
    "start_time": "2022-04-09T12:05:34.514Z"
   },
   {
    "duration": 3005,
    "start_time": "2022-04-09T12:05:52.416Z"
   },
   {
    "duration": 9,
    "start_time": "2022-04-09T12:06:00.336Z"
   },
   {
    "duration": 1579,
    "start_time": "2022-04-09T12:06:06.207Z"
   },
   {
    "duration": 31,
    "start_time": "2022-04-09T12:06:27.338Z"
   },
   {
    "duration": 15,
    "start_time": "2022-04-09T12:06:56.953Z"
   },
   {
    "duration": 1655,
    "start_time": "2022-04-09T12:07:03.828Z"
   },
   {
    "duration": 1757,
    "start_time": "2022-04-09T12:07:12.416Z"
   },
   {
    "duration": 13,
    "start_time": "2022-04-09T12:07:32.648Z"
   },
   {
    "duration": 15,
    "start_time": "2022-04-09T12:07:41.507Z"
   },
   {
    "duration": 6,
    "start_time": "2022-04-09T12:07:46.392Z"
   },
   {
    "duration": 6,
    "start_time": "2022-04-09T12:08:05.953Z"
   },
   {
    "duration": 6,
    "start_time": "2022-04-09T12:08:23.321Z"
   },
   {
    "duration": 6,
    "start_time": "2022-04-09T12:08:34.954Z"
   },
   {
    "duration": 1554,
    "start_time": "2022-04-09T12:08:41.337Z"
   },
   {
    "duration": 1517,
    "start_time": "2022-04-09T12:09:04.721Z"
   },
   {
    "duration": 8,
    "start_time": "2022-04-09T12:09:32.100Z"
   },
   {
    "duration": 7,
    "start_time": "2022-04-09T12:09:41.148Z"
   },
   {
    "duration": 1779,
    "start_time": "2022-04-09T12:10:43.562Z"
   },
   {
    "duration": 1811,
    "start_time": "2022-04-09T12:10:51.499Z"
   },
   {
    "duration": 11,
    "start_time": "2022-04-09T12:10:55.526Z"
   },
   {
    "duration": 1617,
    "start_time": "2022-04-09T12:11:11.418Z"
   },
   {
    "duration": 6,
    "start_time": "2022-04-09T12:11:22.947Z"
   },
   {
    "duration": 6,
    "start_time": "2022-04-09T12:11:28.734Z"
   },
   {
    "duration": 9,
    "start_time": "2022-04-09T12:11:42.171Z"
   },
   {
    "duration": 1730,
    "start_time": "2022-04-09T12:11:49.017Z"
   },
   {
    "duration": 7,
    "start_time": "2022-04-09T12:11:54.761Z"
   },
   {
    "duration": 7,
    "start_time": "2022-04-09T12:12:05.036Z"
   },
   {
    "duration": 37,
    "start_time": "2022-04-09T12:12:27.853Z"
   },
   {
    "duration": 7,
    "start_time": "2022-04-09T12:12:48.646Z"
   },
   {
    "duration": 36,
    "start_time": "2022-04-09T12:13:47.708Z"
   },
   {
    "duration": 7,
    "start_time": "2022-04-09T12:15:31.949Z"
   },
   {
    "duration": 7,
    "start_time": "2022-04-09T12:16:37.894Z"
   },
   {
    "duration": 20,
    "start_time": "2022-04-09T12:16:49.654Z"
   },
   {
    "duration": 7,
    "start_time": "2022-04-09T12:18:58.831Z"
   },
   {
    "duration": 21,
    "start_time": "2022-04-09T12:18:59.943Z"
   },
   {
    "duration": 15,
    "start_time": "2022-04-09T12:21:17.667Z"
   },
   {
    "duration": 18,
    "start_time": "2022-04-09T12:21:19.583Z"
   },
   {
    "duration": 13,
    "start_time": "2022-04-09T12:24:48.365Z"
   },
   {
    "duration": 22,
    "start_time": "2022-04-09T12:24:49.376Z"
   },
   {
    "duration": 6,
    "start_time": "2022-04-09T12:25:59.363Z"
   },
   {
    "duration": 8,
    "start_time": "2022-04-09T12:26:07.309Z"
   },
   {
    "duration": 61,
    "start_time": "2022-04-09T12:26:14.724Z"
   },
   {
    "duration": 6,
    "start_time": "2022-04-09T12:26:44.077Z"
   },
   {
    "duration": 204,
    "start_time": "2022-04-09T12:26:44.203Z"
   },
   {
    "duration": 26,
    "start_time": "2022-04-09T12:26:44.801Z"
   },
   {
    "duration": 10,
    "start_time": "2022-04-09T12:26:44.947Z"
   },
   {
    "duration": 21,
    "start_time": "2022-04-09T12:26:45.098Z"
   },
   {
    "duration": 4,
    "start_time": "2022-04-09T12:26:45.403Z"
   },
   {
    "duration": 151,
    "start_time": "2022-04-09T12:26:45.554Z"
   },
   {
    "duration": 86,
    "start_time": "2022-04-09T12:26:45.842Z"
   },
   {
    "duration": 12,
    "start_time": "2022-04-09T12:26:46.172Z"
   },
   {
    "duration": 7,
    "start_time": "2022-04-09T12:26:46.443Z"
   },
   {
    "duration": 24,
    "start_time": "2022-04-09T12:26:46.593Z"
   },
   {
    "duration": 39,
    "start_time": "2022-04-09T12:26:46.763Z"
   },
   {
    "duration": 18,
    "start_time": "2022-04-09T12:26:46.922Z"
   },
   {
    "duration": 40,
    "start_time": "2022-04-09T12:26:47.581Z"
   },
   {
    "duration": 35,
    "start_time": "2022-04-09T12:26:47.729Z"
   },
   {
    "duration": 11,
    "start_time": "2022-04-09T12:26:48.217Z"
   },
   {
    "duration": 11,
    "start_time": "2022-04-09T12:26:48.546Z"
   },
   {
    "duration": 26,
    "start_time": "2022-04-09T12:26:48.714Z"
   },
   {
    "duration": 33,
    "start_time": "2022-04-09T12:26:49.193Z"
   },
   {
    "duration": 7,
    "start_time": "2022-04-09T12:26:49.377Z"
   },
   {
    "duration": 284,
    "start_time": "2022-04-09T12:26:49.525Z"
   },
   {
    "duration": 17,
    "start_time": "2022-04-09T12:26:49.963Z"
   },
   {
    "duration": 23,
    "start_time": "2022-04-09T12:26:50.520Z"
   },
   {
    "duration": 12,
    "start_time": "2022-04-09T12:26:50.682Z"
   },
   {
    "duration": 9,
    "start_time": "2022-04-09T12:26:50.842Z"
   },
   {
    "duration": 45,
    "start_time": "2022-04-09T12:26:51.066Z"
   },
   {
    "duration": 9,
    "start_time": "2022-04-09T12:26:51.506Z"
   },
   {
    "duration": 33,
    "start_time": "2022-04-09T12:26:52.604Z"
   },
   {
    "duration": 71,
    "start_time": "2022-04-09T12:26:52.913Z"
   },
   {
    "duration": 12,
    "start_time": "2022-04-09T12:26:53.058Z"
   },
   {
    "duration": 10,
    "start_time": "2022-04-09T12:26:53.244Z"
   },
   {
    "duration": 10,
    "start_time": "2022-04-09T12:26:53.395Z"
   },
   {
    "duration": 7,
    "start_time": "2022-04-09T12:26:54.249Z"
   },
   {
    "duration": 8,
    "start_time": "2022-04-09T12:26:54.410Z"
   },
   {
    "duration": 202,
    "start_time": "2022-04-09T12:26:54.555Z"
   },
   {
    "duration": 102,
    "start_time": "2022-04-09T12:26:55.619Z"
   },
   {
    "duration": 37,
    "start_time": "2022-04-09T12:26:56.218Z"
   },
   {
    "duration": 118,
    "start_time": "2022-04-09T12:26:56.410Z"
   },
   {
    "duration": 14,
    "start_time": "2022-04-09T12:26:56.583Z"
   },
   {
    "duration": 4,
    "start_time": "2022-04-09T12:26:57.089Z"
   },
   {
    "duration": 5,
    "start_time": "2022-04-09T12:26:57.266Z"
   },
   {
    "duration": 7,
    "start_time": "2022-04-09T12:26:57.441Z"
   },
   {
    "duration": 4,
    "start_time": "2022-04-09T12:26:58.499Z"
   },
   {
    "duration": 12,
    "start_time": "2022-04-09T12:26:58.961Z"
   },
   {
    "duration": 3,
    "start_time": "2022-04-09T12:26:59.402Z"
   },
   {
    "duration": 10,
    "start_time": "2022-04-09T12:27:00.042Z"
   },
   {
    "duration": 6,
    "start_time": "2022-04-09T12:27:00.250Z"
   },
   {
    "duration": 49,
    "start_time": "2022-04-09T12:27:00.434Z"
   },
   {
    "duration": 47,
    "start_time": "2022-04-09T12:27:02.180Z"
   },
   {
    "duration": 49,
    "start_time": "2022-04-09T12:27:03.083Z"
   },
   {
    "duration": 51,
    "start_time": "2022-04-09T12:27:03.866Z"
   },
   {
    "duration": 5,
    "start_time": "2022-04-09T12:27:05.802Z"
   },
   {
    "duration": 51,
    "start_time": "2022-04-09T12:27:13.523Z"
   },
   {
    "duration": 11,
    "start_time": "2022-04-09T12:27:16.338Z"
   },
   {
    "duration": 22,
    "start_time": "2022-04-09T12:27:17.259Z"
   },
   {
    "duration": 38,
    "start_time": "2022-04-09T12:27:18.082Z"
   },
   {
    "duration": 90,
    "start_time": "2022-04-09T12:27:18.325Z"
   },
   {
    "duration": 199,
    "start_time": "2022-04-09T12:27:18.531Z"
   },
   {
    "duration": 47,
    "start_time": "2022-04-09T12:27:27.015Z"
   }
  ],
  "kernelspec": {
   "display_name": "Python 3",
   "language": "python",
   "name": "python3"
  },
  "language_info": {
   "codemirror_mode": {
    "name": "ipython",
    "version": 3
   },
   "file_extension": ".py",
   "mimetype": "text/x-python",
   "name": "python",
   "nbconvert_exporter": "python",
   "pygments_lexer": "ipython3",
   "version": "3.8.8"
  },
  "toc": {
   "base_numbering": 1,
   "nav_menu": {},
   "number_sections": true,
   "sideBar": true,
   "skip_h1_title": true,
   "title_cell": "Table of Contents",
   "title_sidebar": "Contents",
   "toc_cell": false,
   "toc_position": {},
   "toc_section_display": true,
   "toc_window_display": false
  }
 },
 "nbformat": 4,
 "nbformat_minor": 5
}
