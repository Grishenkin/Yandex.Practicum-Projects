{
 "cells": [
  {
   "cell_type": "markdown",
   "metadata": {},
   "source": [
    "# Анализ успешности компьютерной игры\n",
    "\n",
    "Из открытых источников доступны исторические данные о продажах игр, оценки пользователей и экспертов, жанры и платформы (например, Xbox или PlayStation).Есть данные до 2016 года. Планируется кампания на 2017-й. Нужно выявить определяющие успешность игры закономерности. Это позволит сделать ставку на потенциально популярный продукт и спланировать рекламные кампании.\n",
    "\n",
    "В наборе данных попадается аббревиатура ESRB (Entertainment Software Rating Board) — это ассоциация, определяющая возрастной рейтинг компьютерных игр c 1994 года. Возрастной рейтинг:\n",
    "\n",
    "+ «EC» («Early childhood») — «Для детей младшего возраста»\n",
    "+ «E» («Everyone») — «Для всех»\n",
    "+ «E10+» («Everyone 10 and older») — «Для всех старше 10 лет»\n",
    "+ «T» («Teen») — «Подросткам 13—19 лет»\n",
    "+ «M» («Mature») — «От 17 лет»\n",
    "+ «AO» («Adults Only 18+»\n",
    "+ «RP» ( «Rating Pending»») — «Рейтинг ожидается»:\n"
   ]
  },
  {
   "cell_type": "markdown",
   "metadata": {},
   "source": []
  },
  {
   "cell_type": "code",
   "execution_count": 1,
   "metadata": {},
   "outputs": [],
   "source": [
    "import pandas as pd\n",
    "import matplotlib.pyplot as plt\n",
    "import seaborn as sns\n",
    "import numpy as np\n",
    "from scipy import stats as st"
   ]
  },
  {
   "cell_type": "code",
   "execution_count": 2,
   "metadata": {},
   "outputs": [],
   "source": [
    "dt = pd.read_csv('/Users/aleksandrgrisenkin/Desktop/df/5. Изучение закономерностей, определяющих успешность игр/5. Изучение закономерностей, определяющих успешность игр.csv')"
   ]
  },
  {
   "cell_type": "code",
   "execution_count": 3,
   "metadata": {},
   "outputs": [
    {
     "name": "stdout",
     "output_type": "stream",
     "text": [
      "<class 'pandas.core.frame.DataFrame'>\n",
      "RangeIndex: 16715 entries, 0 to 16714\n",
      "Data columns (total 11 columns):\n",
      " #   Column           Non-Null Count  Dtype  \n",
      "---  ------           --------------  -----  \n",
      " 0   Name             16713 non-null  object \n",
      " 1   Platform         16715 non-null  object \n",
      " 2   Year_of_Release  16446 non-null  float64\n",
      " 3   Genre            16713 non-null  object \n",
      " 4   NA_sales         16715 non-null  float64\n",
      " 5   EU_sales         16715 non-null  float64\n",
      " 6   JP_sales         16715 non-null  float64\n",
      " 7   Other_sales      16715 non-null  float64\n",
      " 8   Critic_Score     8137 non-null   float64\n",
      " 9   User_Score       10014 non-null  object \n",
      " 10  Rating           9949 non-null   object \n",
      "dtypes: float64(6), object(5)\n",
      "memory usage: 1.4+ MB\n"
     ]
    },
    {
     "data": {
      "text/html": [
       "<div>\n",
       "<style scoped>\n",
       "    .dataframe tbody tr th:only-of-type {\n",
       "        vertical-align: middle;\n",
       "    }\n",
       "\n",
       "    .dataframe tbody tr th {\n",
       "        vertical-align: top;\n",
       "    }\n",
       "\n",
       "    .dataframe thead th {\n",
       "        text-align: right;\n",
       "    }\n",
       "</style>\n",
       "<table border=\"1\" class=\"dataframe\">\n",
       "  <thead>\n",
       "    <tr style=\"text-align: right;\">\n",
       "      <th></th>\n",
       "      <th>Name</th>\n",
       "      <th>Platform</th>\n",
       "      <th>Year_of_Release</th>\n",
       "      <th>Genre</th>\n",
       "      <th>NA_sales</th>\n",
       "      <th>EU_sales</th>\n",
       "      <th>JP_sales</th>\n",
       "      <th>Other_sales</th>\n",
       "      <th>Critic_Score</th>\n",
       "      <th>User_Score</th>\n",
       "      <th>Rating</th>\n",
       "    </tr>\n",
       "  </thead>\n",
       "  <tbody>\n",
       "    <tr>\n",
       "      <th>0</th>\n",
       "      <td>Wii Sports</td>\n",
       "      <td>Wii</td>\n",
       "      <td>2006.0</td>\n",
       "      <td>Sports</td>\n",
       "      <td>41.36</td>\n",
       "      <td>28.96</td>\n",
       "      <td>3.77</td>\n",
       "      <td>8.45</td>\n",
       "      <td>76.0</td>\n",
       "      <td>8</td>\n",
       "      <td>E</td>\n",
       "    </tr>\n",
       "    <tr>\n",
       "      <th>1</th>\n",
       "      <td>Super Mario Bros.</td>\n",
       "      <td>NES</td>\n",
       "      <td>1985.0</td>\n",
       "      <td>Platform</td>\n",
       "      <td>29.08</td>\n",
       "      <td>3.58</td>\n",
       "      <td>6.81</td>\n",
       "      <td>0.77</td>\n",
       "      <td>NaN</td>\n",
       "      <td>NaN</td>\n",
       "      <td>NaN</td>\n",
       "    </tr>\n",
       "    <tr>\n",
       "      <th>2</th>\n",
       "      <td>Mario Kart Wii</td>\n",
       "      <td>Wii</td>\n",
       "      <td>2008.0</td>\n",
       "      <td>Racing</td>\n",
       "      <td>15.68</td>\n",
       "      <td>12.76</td>\n",
       "      <td>3.79</td>\n",
       "      <td>3.29</td>\n",
       "      <td>82.0</td>\n",
       "      <td>8.3</td>\n",
       "      <td>E</td>\n",
       "    </tr>\n",
       "    <tr>\n",
       "      <th>3</th>\n",
       "      <td>Wii Sports Resort</td>\n",
       "      <td>Wii</td>\n",
       "      <td>2009.0</td>\n",
       "      <td>Sports</td>\n",
       "      <td>15.61</td>\n",
       "      <td>10.93</td>\n",
       "      <td>3.28</td>\n",
       "      <td>2.95</td>\n",
       "      <td>80.0</td>\n",
       "      <td>8</td>\n",
       "      <td>E</td>\n",
       "    </tr>\n",
       "    <tr>\n",
       "      <th>4</th>\n",
       "      <td>Pokemon Red/Pokemon Blue</td>\n",
       "      <td>GB</td>\n",
       "      <td>1996.0</td>\n",
       "      <td>Role-Playing</td>\n",
       "      <td>11.27</td>\n",
       "      <td>8.89</td>\n",
       "      <td>10.22</td>\n",
       "      <td>1.00</td>\n",
       "      <td>NaN</td>\n",
       "      <td>NaN</td>\n",
       "      <td>NaN</td>\n",
       "    </tr>\n",
       "    <tr>\n",
       "      <th>5</th>\n",
       "      <td>Tetris</td>\n",
       "      <td>GB</td>\n",
       "      <td>1989.0</td>\n",
       "      <td>Puzzle</td>\n",
       "      <td>23.20</td>\n",
       "      <td>2.26</td>\n",
       "      <td>4.22</td>\n",
       "      <td>0.58</td>\n",
       "      <td>NaN</td>\n",
       "      <td>NaN</td>\n",
       "      <td>NaN</td>\n",
       "    </tr>\n",
       "    <tr>\n",
       "      <th>6</th>\n",
       "      <td>New Super Mario Bros.</td>\n",
       "      <td>DS</td>\n",
       "      <td>2006.0</td>\n",
       "      <td>Platform</td>\n",
       "      <td>11.28</td>\n",
       "      <td>9.14</td>\n",
       "      <td>6.50</td>\n",
       "      <td>2.88</td>\n",
       "      <td>89.0</td>\n",
       "      <td>8.5</td>\n",
       "      <td>E</td>\n",
       "    </tr>\n",
       "    <tr>\n",
       "      <th>7</th>\n",
       "      <td>Wii Play</td>\n",
       "      <td>Wii</td>\n",
       "      <td>2006.0</td>\n",
       "      <td>Misc</td>\n",
       "      <td>13.96</td>\n",
       "      <td>9.18</td>\n",
       "      <td>2.93</td>\n",
       "      <td>2.84</td>\n",
       "      <td>58.0</td>\n",
       "      <td>6.6</td>\n",
       "      <td>E</td>\n",
       "    </tr>\n",
       "    <tr>\n",
       "      <th>8</th>\n",
       "      <td>New Super Mario Bros. Wii</td>\n",
       "      <td>Wii</td>\n",
       "      <td>2009.0</td>\n",
       "      <td>Platform</td>\n",
       "      <td>14.44</td>\n",
       "      <td>6.94</td>\n",
       "      <td>4.70</td>\n",
       "      <td>2.24</td>\n",
       "      <td>87.0</td>\n",
       "      <td>8.4</td>\n",
       "      <td>E</td>\n",
       "    </tr>\n",
       "    <tr>\n",
       "      <th>9</th>\n",
       "      <td>Duck Hunt</td>\n",
       "      <td>NES</td>\n",
       "      <td>1984.0</td>\n",
       "      <td>Shooter</td>\n",
       "      <td>26.93</td>\n",
       "      <td>0.63</td>\n",
       "      <td>0.28</td>\n",
       "      <td>0.47</td>\n",
       "      <td>NaN</td>\n",
       "      <td>NaN</td>\n",
       "      <td>NaN</td>\n",
       "    </tr>\n",
       "  </tbody>\n",
       "</table>\n",
       "</div>"
      ],
      "text/plain": [
       "                        Name Platform  Year_of_Release         Genre  \\\n",
       "0                 Wii Sports      Wii           2006.0        Sports   \n",
       "1          Super Mario Bros.      NES           1985.0      Platform   \n",
       "2             Mario Kart Wii      Wii           2008.0        Racing   \n",
       "3          Wii Sports Resort      Wii           2009.0        Sports   \n",
       "4   Pokemon Red/Pokemon Blue       GB           1996.0  Role-Playing   \n",
       "5                     Tetris       GB           1989.0        Puzzle   \n",
       "6      New Super Mario Bros.       DS           2006.0      Platform   \n",
       "7                   Wii Play      Wii           2006.0          Misc   \n",
       "8  New Super Mario Bros. Wii      Wii           2009.0      Platform   \n",
       "9                  Duck Hunt      NES           1984.0       Shooter   \n",
       "\n",
       "   NA_sales  EU_sales  JP_sales  Other_sales  Critic_Score User_Score Rating  \n",
       "0     41.36     28.96      3.77         8.45          76.0          8      E  \n",
       "1     29.08      3.58      6.81         0.77           NaN        NaN    NaN  \n",
       "2     15.68     12.76      3.79         3.29          82.0        8.3      E  \n",
       "3     15.61     10.93      3.28         2.95          80.0          8      E  \n",
       "4     11.27      8.89     10.22         1.00           NaN        NaN    NaN  \n",
       "5     23.20      2.26      4.22         0.58           NaN        NaN    NaN  \n",
       "6     11.28      9.14      6.50         2.88          89.0        8.5      E  \n",
       "7     13.96      9.18      2.93         2.84          58.0        6.6      E  \n",
       "8     14.44      6.94      4.70         2.24          87.0        8.4      E  \n",
       "9     26.93      0.63      0.28         0.47           NaN        NaN    NaN  "
      ]
     },
     "execution_count": 3,
     "metadata": {},
     "output_type": "execute_result"
    }
   ],
   "source": [
    "dt.info()\n",
    "dt.head(10)"
   ]
  },
  {
   "cell_type": "markdown",
   "metadata": {},
   "source": [
    "# Вывод\n",
    "\n",
    "Датасет состоит из 11 столбцов и 16715 строк. \n",
    "\n",
    "После просмотра таблицы видны ошибки:\n",
    "Название столбцов начинаются с верхнего регистра \n",
    "\n",
    "Так же необходимо преобразовать в другой тип данных столбец User_Score в float\n",
    "\n",
    "Пропущены значения в столбюцах: \"оценка критиков\",\"оценка пользователей\",\"рейтинг\"\n",
    "\n",
    "Можно предположить, что данные пропущены по причине того, что определнная игравая платформа не рассчитывала оценки и рейтинги можно сделать срез и проверить после того как приведем все к нужному типу.\n",
    "\n",
    "\n",
    "А еще интересны 2 пропущеных значений в столбце Name и 269 пропущеных значений в стодбце Year_of_Release нужно проверить"
   ]
  },
  {
   "cell_type": "markdown",
   "metadata": {},
   "source": [
    "# Шаг 2. Подготовьте данные"
   ]
  },
  {
   "cell_type": "code",
   "execution_count": 4,
   "metadata": {},
   "outputs": [],
   "source": [
    "dt.columns = dt.columns.str.lower() #сменил название столбцов на нижний решгистр "
   ]
  },
  {
   "cell_type": "code",
   "execution_count": 5,
   "metadata": {},
   "outputs": [
    {
     "data": {
      "text/html": [
       "<div>\n",
       "<style scoped>\n",
       "    .dataframe tbody tr th:only-of-type {\n",
       "        vertical-align: middle;\n",
       "    }\n",
       "\n",
       "    .dataframe tbody tr th {\n",
       "        vertical-align: top;\n",
       "    }\n",
       "\n",
       "    .dataframe thead th {\n",
       "        text-align: right;\n",
       "    }\n",
       "</style>\n",
       "<table border=\"1\" class=\"dataframe\">\n",
       "  <thead>\n",
       "    <tr style=\"text-align: right;\">\n",
       "      <th></th>\n",
       "      <th>name</th>\n",
       "      <th>platform</th>\n",
       "      <th>year_of_release</th>\n",
       "      <th>genre</th>\n",
       "      <th>na_sales</th>\n",
       "      <th>eu_sales</th>\n",
       "      <th>jp_sales</th>\n",
       "      <th>other_sales</th>\n",
       "      <th>critic_score</th>\n",
       "      <th>user_score</th>\n",
       "      <th>rating</th>\n",
       "    </tr>\n",
       "  </thead>\n",
       "  <tbody>\n",
       "    <tr>\n",
       "      <th>659</th>\n",
       "      <td>NaN</td>\n",
       "      <td>GEN</td>\n",
       "      <td>1993.0</td>\n",
       "      <td>NaN</td>\n",
       "      <td>1.78</td>\n",
       "      <td>0.53</td>\n",
       "      <td>0.00</td>\n",
       "      <td>0.08</td>\n",
       "      <td>NaN</td>\n",
       "      <td>NaN</td>\n",
       "      <td>NaN</td>\n",
       "    </tr>\n",
       "    <tr>\n",
       "      <th>14244</th>\n",
       "      <td>NaN</td>\n",
       "      <td>GEN</td>\n",
       "      <td>1993.0</td>\n",
       "      <td>NaN</td>\n",
       "      <td>0.00</td>\n",
       "      <td>0.00</td>\n",
       "      <td>0.03</td>\n",
       "      <td>0.00</td>\n",
       "      <td>NaN</td>\n",
       "      <td>NaN</td>\n",
       "      <td>NaN</td>\n",
       "    </tr>\n",
       "  </tbody>\n",
       "</table>\n",
       "</div>"
      ],
      "text/plain": [
       "      name platform  year_of_release genre  na_sales  eu_sales  jp_sales  \\\n",
       "659    NaN      GEN           1993.0   NaN      1.78      0.53      0.00   \n",
       "14244  NaN      GEN           1993.0   NaN      0.00      0.00      0.03   \n",
       "\n",
       "       other_sales  critic_score user_score rating  \n",
       "659           0.08           NaN        NaN    NaN  \n",
       "14244         0.00           NaN        NaN    NaN  "
      ]
     },
     "execution_count": 5,
     "metadata": {},
     "output_type": "execute_result"
    }
   ],
   "source": [
    "dt.loc[dt['name'].isna()]"
   ]
  },
  {
   "cell_type": "markdown",
   "metadata": {},
   "source": [
    "Итак, тут оказалось что в эти 2х значений почти нет данных, поэтому их можно удалить так как они не повлияют на анализ"
   ]
  },
  {
   "cell_type": "code",
   "execution_count": 6,
   "metadata": {},
   "outputs": [
    {
     "data": {
      "text/html": [
       "<div>\n",
       "<style scoped>\n",
       "    .dataframe tbody tr th:only-of-type {\n",
       "        vertical-align: middle;\n",
       "    }\n",
       "\n",
       "    .dataframe tbody tr th {\n",
       "        vertical-align: top;\n",
       "    }\n",
       "\n",
       "    .dataframe thead th {\n",
       "        text-align: right;\n",
       "    }\n",
       "</style>\n",
       "<table border=\"1\" class=\"dataframe\">\n",
       "  <thead>\n",
       "    <tr style=\"text-align: right;\">\n",
       "      <th></th>\n",
       "      <th>name</th>\n",
       "      <th>platform</th>\n",
       "      <th>year_of_release</th>\n",
       "      <th>genre</th>\n",
       "      <th>na_sales</th>\n",
       "      <th>eu_sales</th>\n",
       "      <th>jp_sales</th>\n",
       "      <th>other_sales</th>\n",
       "      <th>critic_score</th>\n",
       "      <th>user_score</th>\n",
       "      <th>rating</th>\n",
       "    </tr>\n",
       "  </thead>\n",
       "  <tbody>\n",
       "    <tr>\n",
       "      <th>183</th>\n",
       "      <td>Madden NFL 2004</td>\n",
       "      <td>PS2</td>\n",
       "      <td>NaN</td>\n",
       "      <td>Sports</td>\n",
       "      <td>4.26</td>\n",
       "      <td>0.26</td>\n",
       "      <td>0.01</td>\n",
       "      <td>0.71</td>\n",
       "      <td>94.0</td>\n",
       "      <td>8.5</td>\n",
       "      <td>E</td>\n",
       "    </tr>\n",
       "    <tr>\n",
       "      <th>377</th>\n",
       "      <td>FIFA Soccer 2004</td>\n",
       "      <td>PS2</td>\n",
       "      <td>NaN</td>\n",
       "      <td>Sports</td>\n",
       "      <td>0.59</td>\n",
       "      <td>2.36</td>\n",
       "      <td>0.04</td>\n",
       "      <td>0.51</td>\n",
       "      <td>84.0</td>\n",
       "      <td>6.4</td>\n",
       "      <td>E</td>\n",
       "    </tr>\n",
       "    <tr>\n",
       "      <th>456</th>\n",
       "      <td>LEGO Batman: The Videogame</td>\n",
       "      <td>Wii</td>\n",
       "      <td>NaN</td>\n",
       "      <td>Action</td>\n",
       "      <td>1.80</td>\n",
       "      <td>0.97</td>\n",
       "      <td>0.00</td>\n",
       "      <td>0.29</td>\n",
       "      <td>74.0</td>\n",
       "      <td>7.9</td>\n",
       "      <td>E10+</td>\n",
       "    </tr>\n",
       "    <tr>\n",
       "      <th>475</th>\n",
       "      <td>wwe Smackdown vs. Raw 2006</td>\n",
       "      <td>PS2</td>\n",
       "      <td>NaN</td>\n",
       "      <td>Fighting</td>\n",
       "      <td>1.57</td>\n",
       "      <td>1.02</td>\n",
       "      <td>0.00</td>\n",
       "      <td>0.41</td>\n",
       "      <td>NaN</td>\n",
       "      <td>NaN</td>\n",
       "      <td>NaN</td>\n",
       "    </tr>\n",
       "    <tr>\n",
       "      <th>609</th>\n",
       "      <td>Space Invaders</td>\n",
       "      <td>2600</td>\n",
       "      <td>NaN</td>\n",
       "      <td>Shooter</td>\n",
       "      <td>2.36</td>\n",
       "      <td>0.14</td>\n",
       "      <td>0.00</td>\n",
       "      <td>0.03</td>\n",
       "      <td>NaN</td>\n",
       "      <td>NaN</td>\n",
       "      <td>NaN</td>\n",
       "    </tr>\n",
       "    <tr>\n",
       "      <th>...</th>\n",
       "      <td>...</td>\n",
       "      <td>...</td>\n",
       "      <td>...</td>\n",
       "      <td>...</td>\n",
       "      <td>...</td>\n",
       "      <td>...</td>\n",
       "      <td>...</td>\n",
       "      <td>...</td>\n",
       "      <td>...</td>\n",
       "      <td>...</td>\n",
       "      <td>...</td>\n",
       "    </tr>\n",
       "    <tr>\n",
       "      <th>16373</th>\n",
       "      <td>PDC World Championship Darts 2008</td>\n",
       "      <td>PSP</td>\n",
       "      <td>NaN</td>\n",
       "      <td>Sports</td>\n",
       "      <td>0.01</td>\n",
       "      <td>0.00</td>\n",
       "      <td>0.00</td>\n",
       "      <td>0.00</td>\n",
       "      <td>43.0</td>\n",
       "      <td>tbd</td>\n",
       "      <td>E10+</td>\n",
       "    </tr>\n",
       "    <tr>\n",
       "      <th>16405</th>\n",
       "      <td>Freaky Flyers</td>\n",
       "      <td>GC</td>\n",
       "      <td>NaN</td>\n",
       "      <td>Racing</td>\n",
       "      <td>0.01</td>\n",
       "      <td>0.00</td>\n",
       "      <td>0.00</td>\n",
       "      <td>0.00</td>\n",
       "      <td>69.0</td>\n",
       "      <td>6.5</td>\n",
       "      <td>T</td>\n",
       "    </tr>\n",
       "    <tr>\n",
       "      <th>16448</th>\n",
       "      <td>Inversion</td>\n",
       "      <td>PC</td>\n",
       "      <td>NaN</td>\n",
       "      <td>Shooter</td>\n",
       "      <td>0.01</td>\n",
       "      <td>0.00</td>\n",
       "      <td>0.00</td>\n",
       "      <td>0.00</td>\n",
       "      <td>59.0</td>\n",
       "      <td>6.7</td>\n",
       "      <td>M</td>\n",
       "    </tr>\n",
       "    <tr>\n",
       "      <th>16458</th>\n",
       "      <td>Hakuouki: Shinsengumi Kitan</td>\n",
       "      <td>PS3</td>\n",
       "      <td>NaN</td>\n",
       "      <td>Adventure</td>\n",
       "      <td>0.01</td>\n",
       "      <td>0.00</td>\n",
       "      <td>0.00</td>\n",
       "      <td>0.00</td>\n",
       "      <td>NaN</td>\n",
       "      <td>NaN</td>\n",
       "      <td>NaN</td>\n",
       "    </tr>\n",
       "    <tr>\n",
       "      <th>16522</th>\n",
       "      <td>Virtua Quest</td>\n",
       "      <td>GC</td>\n",
       "      <td>NaN</td>\n",
       "      <td>Role-Playing</td>\n",
       "      <td>0.01</td>\n",
       "      <td>0.00</td>\n",
       "      <td>0.00</td>\n",
       "      <td>0.00</td>\n",
       "      <td>55.0</td>\n",
       "      <td>5.5</td>\n",
       "      <td>T</td>\n",
       "    </tr>\n",
       "  </tbody>\n",
       "</table>\n",
       "<p>269 rows × 11 columns</p>\n",
       "</div>"
      ],
      "text/plain": [
       "                                    name platform  year_of_release  \\\n",
       "183                      Madden NFL 2004      PS2              NaN   \n",
       "377                     FIFA Soccer 2004      PS2              NaN   \n",
       "456           LEGO Batman: The Videogame      Wii              NaN   \n",
       "475           wwe Smackdown vs. Raw 2006      PS2              NaN   \n",
       "609                       Space Invaders     2600              NaN   \n",
       "...                                  ...      ...              ...   \n",
       "16373  PDC World Championship Darts 2008      PSP              NaN   \n",
       "16405                      Freaky Flyers       GC              NaN   \n",
       "16448                          Inversion       PC              NaN   \n",
       "16458        Hakuouki: Shinsengumi Kitan      PS3              NaN   \n",
       "16522                       Virtua Quest       GC              NaN   \n",
       "\n",
       "              genre  na_sales  eu_sales  jp_sales  other_sales  critic_score  \\\n",
       "183          Sports      4.26      0.26      0.01         0.71          94.0   \n",
       "377          Sports      0.59      2.36      0.04         0.51          84.0   \n",
       "456          Action      1.80      0.97      0.00         0.29          74.0   \n",
       "475        Fighting      1.57      1.02      0.00         0.41           NaN   \n",
       "609         Shooter      2.36      0.14      0.00         0.03           NaN   \n",
       "...             ...       ...       ...       ...          ...           ...   \n",
       "16373        Sports      0.01      0.00      0.00         0.00          43.0   \n",
       "16405        Racing      0.01      0.00      0.00         0.00          69.0   \n",
       "16448       Shooter      0.01      0.00      0.00         0.00          59.0   \n",
       "16458     Adventure      0.01      0.00      0.00         0.00           NaN   \n",
       "16522  Role-Playing      0.01      0.00      0.00         0.00          55.0   \n",
       "\n",
       "      user_score rating  \n",
       "183          8.5      E  \n",
       "377          6.4      E  \n",
       "456          7.9   E10+  \n",
       "475          NaN    NaN  \n",
       "609          NaN    NaN  \n",
       "...          ...    ...  \n",
       "16373        tbd   E10+  \n",
       "16405        6.5      T  \n",
       "16448        6.7      M  \n",
       "16458        NaN    NaN  \n",
       "16522        5.5      T  \n",
       "\n",
       "[269 rows x 11 columns]"
      ]
     },
     "execution_count": 6,
     "metadata": {},
     "output_type": "execute_result"
    }
   ],
   "source": [
    "nan_yaer = dt.loc[dt['year_of_release'].isna()]\n",
    "nan_yaer"
   ]
  },
  {
   "cell_type": "markdown",
   "metadata": {},
   "source": [
    "269 пропущены значений это 1,6% от 16715 их заполнять не будем, можно удалить, но я думаю оставить.\n",
    "Заполнять нужно в том случае, когда алгоритм, для которого готовятся\n",
    "данные, чувствителен к пропускам. \n",
    "\n",
    "Например, регрессии и нейросети - чувствительны, а корреляция и стат-тесты нет (хотя для стат-тестов пропуски нужно удалять).\""
   ]
  },
  {
   "cell_type": "code",
   "execution_count": 7,
   "metadata": {},
   "outputs": [],
   "source": [
    "dt.loc[dt['user_score'] == 'tbd', 'user_score'] = float('nan')\n",
    "dt['user_score'] = dt['user_score'].astype(float)"
   ]
  },
  {
   "cell_type": "markdown",
   "metadata": {},
   "source": [
    "Значение tbd с помощью среза заменили на \"nan\" и приравняли столбец к значению float"
   ]
  },
  {
   "cell_type": "code",
   "execution_count": 8,
   "metadata": {},
   "outputs": [
    {
     "name": "stdout",
     "output_type": "stream",
     "text": [
      "<class 'pandas.core.frame.DataFrame'>\n",
      "RangeIndex: 16715 entries, 0 to 16714\n",
      "Data columns (total 11 columns):\n",
      " #   Column           Non-Null Count  Dtype  \n",
      "---  ------           --------------  -----  \n",
      " 0   name             16713 non-null  object \n",
      " 1   platform         16715 non-null  object \n",
      " 2   year_of_release  16446 non-null  float64\n",
      " 3   genre            16713 non-null  object \n",
      " 4   na_sales         16715 non-null  float64\n",
      " 5   eu_sales         16715 non-null  float64\n",
      " 6   jp_sales         16715 non-null  float64\n",
      " 7   other_sales      16715 non-null  float64\n",
      " 8   critic_score     8137 non-null   float64\n",
      " 9   user_score       7590 non-null   float64\n",
      " 10  rating           9949 non-null   object \n",
      "dtypes: float64(7), object(4)\n",
      "memory usage: 1.4+ MB\n"
     ]
    },
    {
     "data": {
      "text/html": [
       "<div>\n",
       "<style scoped>\n",
       "    .dataframe tbody tr th:only-of-type {\n",
       "        vertical-align: middle;\n",
       "    }\n",
       "\n",
       "    .dataframe tbody tr th {\n",
       "        vertical-align: top;\n",
       "    }\n",
       "\n",
       "    .dataframe thead th {\n",
       "        text-align: right;\n",
       "    }\n",
       "</style>\n",
       "<table border=\"1\" class=\"dataframe\">\n",
       "  <thead>\n",
       "    <tr style=\"text-align: right;\">\n",
       "      <th></th>\n",
       "      <th>name</th>\n",
       "      <th>platform</th>\n",
       "      <th>year_of_release</th>\n",
       "      <th>genre</th>\n",
       "      <th>na_sales</th>\n",
       "      <th>eu_sales</th>\n",
       "      <th>jp_sales</th>\n",
       "      <th>other_sales</th>\n",
       "      <th>critic_score</th>\n",
       "      <th>user_score</th>\n",
       "      <th>rating</th>\n",
       "    </tr>\n",
       "  </thead>\n",
       "  <tbody>\n",
       "    <tr>\n",
       "      <th>0</th>\n",
       "      <td>Wii Sports</td>\n",
       "      <td>Wii</td>\n",
       "      <td>2006.0</td>\n",
       "      <td>Sports</td>\n",
       "      <td>41.36</td>\n",
       "      <td>28.96</td>\n",
       "      <td>3.77</td>\n",
       "      <td>8.45</td>\n",
       "      <td>76.0</td>\n",
       "      <td>8.0</td>\n",
       "      <td>E</td>\n",
       "    </tr>\n",
       "    <tr>\n",
       "      <th>1</th>\n",
       "      <td>Super Mario Bros.</td>\n",
       "      <td>NES</td>\n",
       "      <td>1985.0</td>\n",
       "      <td>Platform</td>\n",
       "      <td>29.08</td>\n",
       "      <td>3.58</td>\n",
       "      <td>6.81</td>\n",
       "      <td>0.77</td>\n",
       "      <td>NaN</td>\n",
       "      <td>NaN</td>\n",
       "      <td>NaN</td>\n",
       "    </tr>\n",
       "    <tr>\n",
       "      <th>2</th>\n",
       "      <td>Mario Kart Wii</td>\n",
       "      <td>Wii</td>\n",
       "      <td>2008.0</td>\n",
       "      <td>Racing</td>\n",
       "      <td>15.68</td>\n",
       "      <td>12.76</td>\n",
       "      <td>3.79</td>\n",
       "      <td>3.29</td>\n",
       "      <td>82.0</td>\n",
       "      <td>8.3</td>\n",
       "      <td>E</td>\n",
       "    </tr>\n",
       "    <tr>\n",
       "      <th>3</th>\n",
       "      <td>Wii Sports Resort</td>\n",
       "      <td>Wii</td>\n",
       "      <td>2009.0</td>\n",
       "      <td>Sports</td>\n",
       "      <td>15.61</td>\n",
       "      <td>10.93</td>\n",
       "      <td>3.28</td>\n",
       "      <td>2.95</td>\n",
       "      <td>80.0</td>\n",
       "      <td>8.0</td>\n",
       "      <td>E</td>\n",
       "    </tr>\n",
       "    <tr>\n",
       "      <th>4</th>\n",
       "      <td>Pokemon Red/Pokemon Blue</td>\n",
       "      <td>GB</td>\n",
       "      <td>1996.0</td>\n",
       "      <td>Role-Playing</td>\n",
       "      <td>11.27</td>\n",
       "      <td>8.89</td>\n",
       "      <td>10.22</td>\n",
       "      <td>1.00</td>\n",
       "      <td>NaN</td>\n",
       "      <td>NaN</td>\n",
       "      <td>NaN</td>\n",
       "    </tr>\n",
       "  </tbody>\n",
       "</table>\n",
       "</div>"
      ],
      "text/plain": [
       "                       name platform  year_of_release         genre  na_sales  \\\n",
       "0                Wii Sports      Wii           2006.0        Sports     41.36   \n",
       "1         Super Mario Bros.      NES           1985.0      Platform     29.08   \n",
       "2            Mario Kart Wii      Wii           2008.0        Racing     15.68   \n",
       "3         Wii Sports Resort      Wii           2009.0        Sports     15.61   \n",
       "4  Pokemon Red/Pokemon Blue       GB           1996.0  Role-Playing     11.27   \n",
       "\n",
       "   eu_sales  jp_sales  other_sales  critic_score  user_score rating  \n",
       "0     28.96      3.77         8.45          76.0         8.0      E  \n",
       "1      3.58      6.81         0.77           NaN         NaN    NaN  \n",
       "2     12.76      3.79         3.29          82.0         8.3      E  \n",
       "3     10.93      3.28         2.95          80.0         8.0      E  \n",
       "4      8.89     10.22         1.00           NaN         NaN    NaN  "
      ]
     },
     "execution_count": 8,
     "metadata": {},
     "output_type": "execute_result"
    }
   ],
   "source": [
    "dt.info()\n",
    "dt.head()"
   ]
  },
  {
   "cell_type": "markdown",
   "metadata": {},
   "source": [
    "завершили предобработку данных:\n",
    "\n",
    "удалили не нужные значения и данные привели к нжному типу \n"
   ]
  },
  {
   "cell_type": "code",
   "execution_count": 9,
   "metadata": {},
   "outputs": [],
   "source": [
    "dt['sum_sale'] = dt['na_sales'] + dt['eu_sales'] + dt['jp_sales'] + dt['other_sales']"
   ]
  },
  {
   "cell_type": "code",
   "execution_count": 10,
   "metadata": {
    "scrolled": true
   },
   "outputs": [
    {
     "data": {
      "text/html": [
       "<div>\n",
       "<style scoped>\n",
       "    .dataframe tbody tr th:only-of-type {\n",
       "        vertical-align: middle;\n",
       "    }\n",
       "\n",
       "    .dataframe tbody tr th {\n",
       "        vertical-align: top;\n",
       "    }\n",
       "\n",
       "    .dataframe thead th {\n",
       "        text-align: right;\n",
       "    }\n",
       "</style>\n",
       "<table border=\"1\" class=\"dataframe\">\n",
       "  <thead>\n",
       "    <tr style=\"text-align: right;\">\n",
       "      <th></th>\n",
       "      <th>name</th>\n",
       "      <th>platform</th>\n",
       "      <th>year_of_release</th>\n",
       "      <th>genre</th>\n",
       "      <th>na_sales</th>\n",
       "      <th>eu_sales</th>\n",
       "      <th>jp_sales</th>\n",
       "      <th>other_sales</th>\n",
       "      <th>critic_score</th>\n",
       "      <th>user_score</th>\n",
       "      <th>rating</th>\n",
       "      <th>sum_sale</th>\n",
       "    </tr>\n",
       "  </thead>\n",
       "  <tbody>\n",
       "    <tr>\n",
       "      <th>0</th>\n",
       "      <td>Wii Sports</td>\n",
       "      <td>Wii</td>\n",
       "      <td>2006.0</td>\n",
       "      <td>Sports</td>\n",
       "      <td>41.36</td>\n",
       "      <td>28.96</td>\n",
       "      <td>3.77</td>\n",
       "      <td>8.45</td>\n",
       "      <td>76.0</td>\n",
       "      <td>8.0</td>\n",
       "      <td>E</td>\n",
       "      <td>82.54</td>\n",
       "    </tr>\n",
       "    <tr>\n",
       "      <th>1</th>\n",
       "      <td>Super Mario Bros.</td>\n",
       "      <td>NES</td>\n",
       "      <td>1985.0</td>\n",
       "      <td>Platform</td>\n",
       "      <td>29.08</td>\n",
       "      <td>3.58</td>\n",
       "      <td>6.81</td>\n",
       "      <td>0.77</td>\n",
       "      <td>NaN</td>\n",
       "      <td>NaN</td>\n",
       "      <td>NaN</td>\n",
       "      <td>40.24</td>\n",
       "    </tr>\n",
       "    <tr>\n",
       "      <th>2</th>\n",
       "      <td>Mario Kart Wii</td>\n",
       "      <td>Wii</td>\n",
       "      <td>2008.0</td>\n",
       "      <td>Racing</td>\n",
       "      <td>15.68</td>\n",
       "      <td>12.76</td>\n",
       "      <td>3.79</td>\n",
       "      <td>3.29</td>\n",
       "      <td>82.0</td>\n",
       "      <td>8.3</td>\n",
       "      <td>E</td>\n",
       "      <td>35.52</td>\n",
       "    </tr>\n",
       "    <tr>\n",
       "      <th>3</th>\n",
       "      <td>Wii Sports Resort</td>\n",
       "      <td>Wii</td>\n",
       "      <td>2009.0</td>\n",
       "      <td>Sports</td>\n",
       "      <td>15.61</td>\n",
       "      <td>10.93</td>\n",
       "      <td>3.28</td>\n",
       "      <td>2.95</td>\n",
       "      <td>80.0</td>\n",
       "      <td>8.0</td>\n",
       "      <td>E</td>\n",
       "      <td>32.77</td>\n",
       "    </tr>\n",
       "    <tr>\n",
       "      <th>4</th>\n",
       "      <td>Pokemon Red/Pokemon Blue</td>\n",
       "      <td>GB</td>\n",
       "      <td>1996.0</td>\n",
       "      <td>Role-Playing</td>\n",
       "      <td>11.27</td>\n",
       "      <td>8.89</td>\n",
       "      <td>10.22</td>\n",
       "      <td>1.00</td>\n",
       "      <td>NaN</td>\n",
       "      <td>NaN</td>\n",
       "      <td>NaN</td>\n",
       "      <td>31.38</td>\n",
       "    </tr>\n",
       "  </tbody>\n",
       "</table>\n",
       "</div>"
      ],
      "text/plain": [
       "                       name platform  year_of_release         genre  na_sales  \\\n",
       "0                Wii Sports      Wii           2006.0        Sports     41.36   \n",
       "1         Super Mario Bros.      NES           1985.0      Platform     29.08   \n",
       "2            Mario Kart Wii      Wii           2008.0        Racing     15.68   \n",
       "3         Wii Sports Resort      Wii           2009.0        Sports     15.61   \n",
       "4  Pokemon Red/Pokemon Blue       GB           1996.0  Role-Playing     11.27   \n",
       "\n",
       "   eu_sales  jp_sales  other_sales  critic_score  user_score rating  sum_sale  \n",
       "0     28.96      3.77         8.45          76.0         8.0      E     82.54  \n",
       "1      3.58      6.81         0.77           NaN         NaN    NaN     40.24  \n",
       "2     12.76      3.79         3.29          82.0         8.3      E     35.52  \n",
       "3     10.93      3.28         2.95          80.0         8.0      E     32.77  \n",
       "4      8.89     10.22         1.00           NaN         NaN    NaN     31.38  "
      ]
     },
     "execution_count": 10,
     "metadata": {},
     "output_type": "execute_result"
    }
   ],
   "source": [
    "dt.head()"
   ]
  },
  {
   "cell_type": "markdown",
   "metadata": {},
   "source": [
    "Посчитал суммарные продажи во всех регионах и записал их в отдельный столбец."
   ]
  },
  {
   "cell_type": "markdown",
   "metadata": {},
   "source": [
    "# Шаг 3. Проведите исследовательский анализ данных"
   ]
  },
  {
   "cell_type": "markdown",
   "metadata": {},
   "source": [
    "Посмотрите, сколько игр выпускалось в разные годы. Важны ли данные за все периоды?"
   ]
  },
  {
   "cell_type": "code",
   "execution_count": 11,
   "metadata": {},
   "outputs": [
    {
     "data": {
      "image/png": "[encoded data removed]",
      "text/plain": [
       "<Figure size 720x432 with 1 Axes>"
      ]
     },
     "metadata": {
      "needs_background": "light"
     },
     "output_type": "display_data"
    }
   ],
   "source": [
    "sum_games_yaer = dt.pivot_table(index = 'year_of_release', values = 'name', aggfunc = 'count')\\\n",
    "                .plot( style=\"-o\",figsize=(10,6),title='График зависимости появления игр от года релиза')"
   ]
  },
  {
   "cell_type": "markdown",
   "metadata": {},
   "source": [
    "Пик выпуска игр пришел на 2007,2008 года после количество игр в год стало падать \n",
    "я думаю важные даты с 2000 года, потому-что в предыдущие года выходило не так много игр и это не удивительно, рынок был на стадии становления.\n"
   ]
  },
  {
   "cell_type": "markdown",
   "metadata": {},
   "source": [
    "Посмотрите, как менялись продажи по платформам. Выберите платформы с наибольшими суммарными продажами и постройте распределение по годам. За какой характерный срок появляются новые и исчезают старые платформы?\n"
   ]
  },
  {
   "cell_type": "code",
   "execution_count": 13,
   "metadata": {},
   "outputs": [],
   "source": [
    "best_platform_sale = dt.groupby(by = 'platform')['sum_sale'].sum().sort_values(ascending=False)"
   ]
  },
  {
   "cell_type": "code",
   "execution_count": 14,
   "metadata": {},
   "outputs": [
    {
     "data": {
      "text/plain": [
       "platform\n",
       "PS2     1255.77\n",
       "X360     971.42\n",
       "PS3      939.65\n",
       "Wii      907.51\n",
       "DS       806.12\n",
       "PS       730.86\n",
       "GBA      317.85\n",
       "PS4      314.14\n",
       "PSP      294.05\n",
       "PC       259.52\n",
       "3DS      259.00\n",
       "XB       257.74\n",
       "GB       255.46\n",
       "NES      251.05\n",
       "N64      218.68\n",
       "SNES     200.04\n",
       "GC       198.93\n",
       "XOne     159.32\n",
       "2600      96.98\n",
       "WiiU      82.19\n",
       "PSV       54.07\n",
       "SAT       33.59\n",
       "GEN       30.77\n",
       "DC        15.95\n",
       "SCD        1.86\n",
       "NG         1.44\n",
       "WS         1.42\n",
       "TG16       0.16\n",
       "3DO        0.10\n",
       "GG         0.04\n",
       "PCFX       0.03\n",
       "Name: sum_sale, dtype: float64"
      ]
     },
     "execution_count": 14,
     "metadata": {},
     "output_type": "execute_result"
    }
   ],
   "source": [
    "best_platform_sale"
   ]
  },
  {
   "cell_type": "code",
   "execution_count": 15,
   "metadata": {},
   "outputs": [],
   "source": [
    "data_plat=dt.pivot_table(index=\"platform\",columns='year_of_release',values='sum_sale',aggfunc=('sum'))\n"
   ]
  },
  {
   "cell_type": "code",
   "execution_count": 16,
   "metadata": {},
   "outputs": [
    {
     "data": {
      "text/plain": [
       "<AxesSubplot:xlabel='year_of_release', ylabel='platform'>"
      ]
     },
     "execution_count": 16,
     "metadata": {},
     "output_type": "execute_result"
    },
    {
     "data": {
      "image/png": "[encoded data removed]",
      "text/plain": [
       "<Figure size 576x504 with 2 Axes>"
      ]
     },
     "metadata": {
      "needs_background": "light"
     },
     "output_type": "display_data"
    }
   ],
   "source": [
    "plt.figure(figsize=(8,7))\n",
    "sns.heatmap(data_plat)"
   ]
  },
  {
   "cell_type": "markdown",
   "metadata": {},
   "source": [
    "сделаю список топ10 платформ"
   ]
  },
  {
   "cell_type": "code",
   "execution_count": 17,
   "metadata": {},
   "outputs": [],
   "source": [
    "top_platforms = ['PS2','X360','PS3','Wii','DS','PS','GBA','PS4','PSP','PC']"
   ]
  },
  {
   "cell_type": "code",
   "execution_count": 18,
   "metadata": {},
   "outputs": [],
   "source": [
    "data_plat_top=dt.query('platform in @top_platforms').pivot_table(index=\"platform\",columns='year_of_release',values='sum_sale',aggfunc=('sum'))\n"
   ]
  },
  {
   "cell_type": "code",
   "execution_count": 19,
   "metadata": {},
   "outputs": [
    {
     "data": {
      "text/plain": [
       "<AxesSubplot:xlabel='year_of_release', ylabel='platform'>"
      ]
     },
     "execution_count": 19,
     "metadata": {},
     "output_type": "execute_result"
    },
    {
     "data": {
      "image/png": "[encoded data removed]",
      "text/plain": [
       "<Figure size 576x504 with 2 Axes>"
      ]
     },
     "metadata": {
      "needs_background": "light"
     },
     "output_type": "display_data"
    }
   ],
   "source": [
    "plt.figure(figsize=(8,7))\n",
    "sns.heatmap(data_plat_top)"
   ]
  },
  {
   "cell_type": "markdown",
   "metadata": {},
   "source": [
    "По тепловой карте видно:\n",
    "\n",
    "Платформа в среднем живет 10-12 лет. \n",
    "\n",
    "Пик продаж приходит в среднем на середину срока жизни плтаформы (5-6 лет). \n",
    "\n",
    "Компания PS начинает релиз новой платформы во время пика действующей (кстати, это тоже влияет на продажи).\n",
    "\n",
    "На рынок вернулась платформа DS в 2004 году. \n",
    "\n",
    "Платформа Wii с первого года имела высокие продажи. Но последние годы ее продажи падают."
   ]
  },
  {
   "cell_type": "code",
   "execution_count": 20,
   "metadata": {},
   "outputs": [
    {
     "data": {
      "image/png": "[encoded data removed]",
      "text/plain": [
       "<Figure size 720x288 with 1 Axes>"
      ]
     },
     "metadata": {
      "needs_background": "light"
     },
     "output_type": "display_data"
    }
   ],
   "source": [
    "#Срез по году. \n",
    "#для анализа игр на 2017 год принимаю актуальные года с 2013 года.\n",
    "\n",
    "actual_data=dt.query('year_of_release>=2013')\n",
    "actual_data= actual_data.groupby('platform')['sum_sale']\\\n",
    "                        .sum().sort_values(ascending=False)\\\n",
    "                        .plot(figsize=(10,4),kind=\"bar\",title='Суммарные продажи по платформам с 2005 года')"
   ]
  },
  {
   "cell_type": "code",
   "execution_count": 21,
   "metadata": {},
   "outputs": [],
   "source": [
    "top_platform=['3DS','PS3','PS4','X360','XOne', 'Wii'] "
   ]
  },
  {
   "cell_type": "code",
   "execution_count": 22,
   "metadata": {},
   "outputs": [],
   "source": [
    "top_platform=data_plat.query('platform in @top_platform ')\n"
   ]
  },
  {
   "cell_type": "code",
   "execution_count": 23,
   "metadata": {},
   "outputs": [
    {
     "data": {
      "text/plain": [
       "<AxesSubplot:xlabel='year_of_release', ylabel='platform'>"
      ]
     },
     "execution_count": 23,
     "metadata": {},
     "output_type": "execute_result"
    },
    {
     "data": {
      "image/png": "[encoded data removed]",
      "text/plain": [
       "<Figure size 720x648 with 2 Axes>"
      ]
     },
     "metadata": {
      "needs_background": "light"
     },
     "output_type": "display_data"
    }
   ],
   "source": [
    "plt.figure(figsize=(10,9))\n",
    "sns.heatmap(top_platform)"
   ]
  },
  {
   "cell_type": "markdown",
   "metadata": {},
   "source": [
    "Исходя из данных c 2013 года , сейчас идет активный рост у ps4, хотя в последний год наблюдается снижение, но я думаю это отражается факт общего объема выпускаемых игр.\n",
    "\n",
    "Поэтому делаю вывод -  2017 будем выбирать платформу ps4 потому, что она еще активна и на ней хорошие продажи, а так же можно выбрать игры на xOne\n"
   ]
  },
  {
   "cell_type": "markdown",
   "metadata": {},
   "source": [
    "Построим график «ящик с усами» по глобальным продажам игр в разбивке по платформам. Опишите результат."
   ]
  },
  {
   "cell_type": "code",
   "execution_count": 24,
   "metadata": {},
   "outputs": [
    {
     "data": {
      "text/plain": [
       "<AxesSubplot:xlabel='platform', ylabel='sum_sale'>"
      ]
     },
     "execution_count": 24,
     "metadata": {},
     "output_type": "execute_result"
    },
    {
     "data": {
      "image/png": "[encoded data removed]",
      "text/plain": [
       "<Figure size 1080x720 with 1 Axes>"
      ]
     },
     "metadata": {
      "needs_background": "light"
     },
     "output_type": "display_data"
    }
   ],
   "source": [
    "plt.figure(figsize=(15,10))\n",
    "plt.ylim(0,3)\n",
    "sns.boxplot(x='platform',y='sum_sale',data=dt)"
   ]
  },
  {
   "cell_type": "markdown",
   "metadata": {},
   "source": [
    "Межквартальный размах очень похож у платфором X360, PS3, PS4, PS, XOne. У них примерно одинаковая медиана около 0.28 млн. 3 квартиль заканчивается примерно 0.7 млн. Все распрадаления платформ скошены вправо. Можно сказать, что у всех ящиков медина лежит левее среднего значения. У компаний, у которых пользовательский интерес ниже имеют медину (второй квартиль) около 0.1-0.2."
   ]
  },
  {
   "cell_type": "code",
   "execution_count": 25,
   "metadata": {},
   "outputs": [],
   "source": [
    "actual_data=dt.query('year_of_release>=2008')\n"
   ]
  },
  {
   "cell_type": "code",
   "execution_count": 26,
   "metadata": {},
   "outputs": [
    {
     "data": {
      "text/html": [
       "<div>\n",
       "<style scoped>\n",
       "    .dataframe tbody tr th:only-of-type {\n",
       "        vertical-align: middle;\n",
       "    }\n",
       "\n",
       "    .dataframe tbody tr th {\n",
       "        vertical-align: top;\n",
       "    }\n",
       "\n",
       "    .dataframe thead th {\n",
       "        text-align: right;\n",
       "    }\n",
       "</style>\n",
       "<table border=\"1\" class=\"dataframe\">\n",
       "  <thead>\n",
       "    <tr style=\"text-align: right;\">\n",
       "      <th></th>\n",
       "      <th>name</th>\n",
       "      <th>platform</th>\n",
       "      <th>year_of_release</th>\n",
       "      <th>genre</th>\n",
       "      <th>na_sales</th>\n",
       "      <th>eu_sales</th>\n",
       "      <th>jp_sales</th>\n",
       "      <th>other_sales</th>\n",
       "      <th>critic_score</th>\n",
       "      <th>user_score</th>\n",
       "      <th>rating</th>\n",
       "      <th>sum_sale</th>\n",
       "    </tr>\n",
       "  </thead>\n",
       "  <tbody>\n",
       "    <tr>\n",
       "      <th>2</th>\n",
       "      <td>Mario Kart Wii</td>\n",
       "      <td>Wii</td>\n",
       "      <td>2008.0</td>\n",
       "      <td>Racing</td>\n",
       "      <td>15.68</td>\n",
       "      <td>12.76</td>\n",
       "      <td>3.79</td>\n",
       "      <td>3.29</td>\n",
       "      <td>82.0</td>\n",
       "      <td>8.3</td>\n",
       "      <td>E</td>\n",
       "      <td>35.52</td>\n",
       "    </tr>\n",
       "    <tr>\n",
       "      <th>3</th>\n",
       "      <td>Wii Sports Resort</td>\n",
       "      <td>Wii</td>\n",
       "      <td>2009.0</td>\n",
       "      <td>Sports</td>\n",
       "      <td>15.61</td>\n",
       "      <td>10.93</td>\n",
       "      <td>3.28</td>\n",
       "      <td>2.95</td>\n",
       "      <td>80.0</td>\n",
       "      <td>8.0</td>\n",
       "      <td>E</td>\n",
       "      <td>32.77</td>\n",
       "    </tr>\n",
       "    <tr>\n",
       "      <th>8</th>\n",
       "      <td>New Super Mario Bros. Wii</td>\n",
       "      <td>Wii</td>\n",
       "      <td>2009.0</td>\n",
       "      <td>Platform</td>\n",
       "      <td>14.44</td>\n",
       "      <td>6.94</td>\n",
       "      <td>4.70</td>\n",
       "      <td>2.24</td>\n",
       "      <td>87.0</td>\n",
       "      <td>8.4</td>\n",
       "      <td>E</td>\n",
       "      <td>28.32</td>\n",
       "    </tr>\n",
       "    <tr>\n",
       "      <th>14</th>\n",
       "      <td>Kinect Adventures!</td>\n",
       "      <td>X360</td>\n",
       "      <td>2010.0</td>\n",
       "      <td>Misc</td>\n",
       "      <td>15.00</td>\n",
       "      <td>4.89</td>\n",
       "      <td>0.24</td>\n",
       "      <td>1.69</td>\n",
       "      <td>61.0</td>\n",
       "      <td>6.3</td>\n",
       "      <td>E</td>\n",
       "      <td>21.82</td>\n",
       "    </tr>\n",
       "    <tr>\n",
       "      <th>15</th>\n",
       "      <td>Wii Fit Plus</td>\n",
       "      <td>Wii</td>\n",
       "      <td>2009.0</td>\n",
       "      <td>Sports</td>\n",
       "      <td>9.01</td>\n",
       "      <td>8.49</td>\n",
       "      <td>2.53</td>\n",
       "      <td>1.77</td>\n",
       "      <td>80.0</td>\n",
       "      <td>7.4</td>\n",
       "      <td>E</td>\n",
       "      <td>21.80</td>\n",
       "    </tr>\n",
       "    <tr>\n",
       "      <th>...</th>\n",
       "      <td>...</td>\n",
       "      <td>...</td>\n",
       "      <td>...</td>\n",
       "      <td>...</td>\n",
       "      <td>...</td>\n",
       "      <td>...</td>\n",
       "      <td>...</td>\n",
       "      <td>...</td>\n",
       "      <td>...</td>\n",
       "      <td>...</td>\n",
       "      <td>...</td>\n",
       "      <td>...</td>\n",
       "    </tr>\n",
       "    <tr>\n",
       "      <th>16707</th>\n",
       "      <td>Aiyoku no Eustia</td>\n",
       "      <td>PSV</td>\n",
       "      <td>2014.0</td>\n",
       "      <td>Misc</td>\n",
       "      <td>0.00</td>\n",
       "      <td>0.00</td>\n",
       "      <td>0.01</td>\n",
       "      <td>0.00</td>\n",
       "      <td>NaN</td>\n",
       "      <td>NaN</td>\n",
       "      <td>NaN</td>\n",
       "      <td>0.01</td>\n",
       "    </tr>\n",
       "    <tr>\n",
       "      <th>16709</th>\n",
       "      <td>SCORE International Baja 1000: The Official Game</td>\n",
       "      <td>PS2</td>\n",
       "      <td>2008.0</td>\n",
       "      <td>Racing</td>\n",
       "      <td>0.00</td>\n",
       "      <td>0.00</td>\n",
       "      <td>0.00</td>\n",
       "      <td>0.00</td>\n",
       "      <td>NaN</td>\n",
       "      <td>NaN</td>\n",
       "      <td>NaN</td>\n",
       "      <td>0.00</td>\n",
       "    </tr>\n",
       "    <tr>\n",
       "      <th>16710</th>\n",
       "      <td>Samurai Warriors: Sanada Maru</td>\n",
       "      <td>PS3</td>\n",
       "      <td>2016.0</td>\n",
       "      <td>Action</td>\n",
       "      <td>0.00</td>\n",
       "      <td>0.00</td>\n",
       "      <td>0.01</td>\n",
       "      <td>0.00</td>\n",
       "      <td>NaN</td>\n",
       "      <td>NaN</td>\n",
       "      <td>NaN</td>\n",
       "      <td>0.01</td>\n",
       "    </tr>\n",
       "    <tr>\n",
       "      <th>16712</th>\n",
       "      <td>Haitaka no Psychedelica</td>\n",
       "      <td>PSV</td>\n",
       "      <td>2016.0</td>\n",
       "      <td>Adventure</td>\n",
       "      <td>0.00</td>\n",
       "      <td>0.00</td>\n",
       "      <td>0.01</td>\n",
       "      <td>0.00</td>\n",
       "      <td>NaN</td>\n",
       "      <td>NaN</td>\n",
       "      <td>NaN</td>\n",
       "      <td>0.01</td>\n",
       "    </tr>\n",
       "    <tr>\n",
       "      <th>16714</th>\n",
       "      <td>Winning Post 8 2016</td>\n",
       "      <td>PSV</td>\n",
       "      <td>2016.0</td>\n",
       "      <td>Simulation</td>\n",
       "      <td>0.00</td>\n",
       "      <td>0.00</td>\n",
       "      <td>0.01</td>\n",
       "      <td>0.00</td>\n",
       "      <td>NaN</td>\n",
       "      <td>NaN</td>\n",
       "      <td>NaN</td>\n",
       "      <td>0.01</td>\n",
       "    </tr>\n",
       "  </tbody>\n",
       "</table>\n",
       "<p>8130 rows × 12 columns</p>\n",
       "</div>"
      ],
      "text/plain": [
       "                                                   name platform  \\\n",
       "2                                        Mario Kart Wii      Wii   \n",
       "3                                     Wii Sports Resort      Wii   \n",
       "8                             New Super Mario Bros. Wii      Wii   \n",
       "14                                   Kinect Adventures!     X360   \n",
       "15                                         Wii Fit Plus      Wii   \n",
       "...                                                 ...      ...   \n",
       "16707                                  Aiyoku no Eustia      PSV   \n",
       "16709  SCORE International Baja 1000: The Official Game      PS2   \n",
       "16710                     Samurai Warriors: Sanada Maru      PS3   \n",
       "16712                           Haitaka no Psychedelica      PSV   \n",
       "16714                               Winning Post 8 2016      PSV   \n",
       "\n",
       "       year_of_release       genre  na_sales  eu_sales  jp_sales  other_sales  \\\n",
       "2               2008.0      Racing     15.68     12.76      3.79         3.29   \n",
       "3               2009.0      Sports     15.61     10.93      3.28         2.95   \n",
       "8               2009.0    Platform     14.44      6.94      4.70         2.24   \n",
       "14              2010.0        Misc     15.00      4.89      0.24         1.69   \n",
       "15              2009.0      Sports      9.01      8.49      2.53         1.77   \n",
       "...                ...         ...       ...       ...       ...          ...   \n",
       "16707           2014.0        Misc      0.00      0.00      0.01         0.00   \n",
       "16709           2008.0      Racing      0.00      0.00      0.00         0.00   \n",
       "16710           2016.0      Action      0.00      0.00      0.01         0.00   \n",
       "16712           2016.0   Adventure      0.00      0.00      0.01         0.00   \n",
       "16714           2016.0  Simulation      0.00      0.00      0.01         0.00   \n",
       "\n",
       "       critic_score  user_score rating  sum_sale  \n",
       "2              82.0         8.3      E     35.52  \n",
       "3              80.0         8.0      E     32.77  \n",
       "8              87.0         8.4      E     28.32  \n",
       "14             61.0         6.3      E     21.82  \n",
       "15             80.0         7.4      E     21.80  \n",
       "...             ...         ...    ...       ...  \n",
       "16707           NaN         NaN    NaN      0.01  \n",
       "16709           NaN         NaN    NaN      0.00  \n",
       "16710           NaN         NaN    NaN      0.01  \n",
       "16712           NaN         NaN    NaN      0.01  \n",
       "16714           NaN         NaN    NaN      0.01  \n",
       "\n",
       "[8130 rows x 12 columns]"
      ]
     },
     "execution_count": 26,
     "metadata": {},
     "output_type": "execute_result"
    }
   ],
   "source": [
    "actual_data"
   ]
  },
  {
   "cell_type": "code",
   "execution_count": 27,
   "metadata": {},
   "outputs": [
    {
     "data": {
      "text/plain": [
       "<AxesSubplot:title={'center':'Диаграмма рассеяния зависимости продаж платформы  PS3 от отзывов критиков'}, xlabel='critic_score', ylabel='sum_sale'>"
      ]
     },
     "execution_count": 27,
     "metadata": {},
     "output_type": "execute_result"
    },
    {
     "data": {
      "image/png": "[encoded data removed]",
      "text/plain": [
       "<Figure size 720x288 with 1 Axes>"
      ]
     },
     "metadata": {
      "needs_background": "light"
     },
     "output_type": "display_data"
    }
   ],
   "source": [
    "actual_data.query('platform==\"PS3\" and sum_sale<=1.7').sort_values(by='critic_score',ascending=True).plot(kind='scatter',x='critic_score',y='sum_sale',figsize=(10,4),title='Диаграмма рассеяния зависимости продаж платформы  PS3 от отзывов критиков')"
   ]
  },
  {
   "cell_type": "code",
   "execution_count": 28,
   "metadata": {},
   "outputs": [
    {
     "data": {
      "text/plain": [
       "<AxesSubplot:title={'center':'Диаграмма рассеяния зависимости продаж платформы  PS3 от отзывов пользователей'}, xlabel='user_score', ylabel='sum_sale'>"
      ]
     },
     "execution_count": 28,
     "metadata": {},
     "output_type": "execute_result"
    },
    {
     "data": {
      "image/png": "[encoded data removed]",
      "text/plain": [
       "<Figure size 720x288 with 1 Axes>"
      ]
     },
     "metadata": {
      "needs_background": "light"
     },
     "output_type": "display_data"
    }
   ],
   "source": [
    "actual_data.query('platform==\"PS3\" and sum_sale<=1.7').sort_values(by='user_score',ascending=True).plot(kind='scatter',x='user_score',y='sum_sale',figsize=(10,4),title='Диаграмма рассеяния зависимости продаж платформы  PS3 от отзывов пользователей')"
   ]
  },
  {
   "cell_type": "markdown",
   "metadata": {},
   "source": [
    "По графикам видно, что есть зависимость между оценкой критиков и пользователей, но не большая. \n",
    "Чем больше балл, там больше продажи. Положительная корреляция. \n",
    "\n",
    "\n",
    "Плотнее всего с оценками пользователей в районе от 6-8 баллов с продажами до 0,75 млн. \n",
    "\n",
    "Что касается оценки критиков, то у них плотнее всего в районе от 65-75 баллов и до 0.50 млн. \n",
    " \n"
   ]
  },
  {
   "cell_type": "code",
   "execution_count": 29,
   "metadata": {},
   "outputs": [
    {
     "data": {
      "text/plain": [
       "0.28316608154914075"
      ]
     },
     "execution_count": 29,
     "metadata": {},
     "output_type": "execute_result"
    }
   ],
   "source": [
    "ps3_actual=actual_data.query('platform==\"PS3\" and sum_sale<=1.7')\n",
    "ps3_actual['sum_sale'].corr(ps3_actual['user_score'])"
   ]
  },
  {
   "cell_type": "code",
   "execution_count": 30,
   "metadata": {},
   "outputs": [
    {
     "data": {
      "text/plain": [
       "0.5464235079020999"
      ]
     },
     "execution_count": 30,
     "metadata": {},
     "output_type": "execute_result"
    }
   ],
   "source": [
    "ps3_actual['sum_sale'].corr(ps3_actual['critic_score'])"
   ]
  },
  {
   "cell_type": "markdown",
   "metadata": {},
   "source": [
    "Зависимость между продажами и отзывами критиков есть, но ниже средней. \n",
    "\n",
    "Корреляция положительная. \n",
    "\n",
    "Чем лучше отзыв критика, тем выше продажи. \n",
    "\n",
    "Отзывы пользователей не так сильно вляют на продажи. Корреляция слабая."
   ]
  },
  {
   "cell_type": "code",
   "execution_count": 31,
   "metadata": {},
   "outputs": [
    {
     "data": {
      "text/plain": [
       "<AxesSubplot:title={'center':'Распределение по жанрам и количеством продаж'}, xlabel='genre'>"
      ]
     },
     "execution_count": 31,
     "metadata": {},
     "output_type": "execute_result"
    },
    {
     "data": {
      "image/png": "[encoded data removed]",
      "text/plain": [
       "<Figure size 720x432 with 1 Axes>"
      ]
     },
     "metadata": {
      "needs_background": "light"
     },
     "output_type": "display_data"
    }
   ],
   "source": [
    "count_genre=actual_data.groupby('genre')['sum_sale'].count().sort_values(ascending=False)\n",
    "count_genre.plot(y='genre',grid=True,figsize=(10,6),kind='bar',title='Распределение по жанрам и количеством продаж')"
   ]
  },
  {
   "cell_type": "markdown",
   "metadata": {},
   "source": [
    "Больше всего пользователи покупают игры в жанре Action, а меньше всего игры в жанре puzzle, strategy. Разница в количестве продаж почти в 6,5 раз. Следом по популярности после Action идет жанр Sport"
   ]
  },
  {
   "cell_type": "markdown",
   "metadata": {},
   "source": [
    "# Составьте портрет пользователя каждого региона\n",
    "Определить для пользователя каждого региона (NA, EU, JP) cамые популярные платформы (топ-5). Описать различия в долях продаж\n"
   ]
  },
  {
   "cell_type": "code",
   "execution_count": 32,
   "metadata": {},
   "outputs": [
    {
     "data": {
      "text/html": [
       "<div>\n",
       "<style scoped>\n",
       "    .dataframe tbody tr th:only-of-type {\n",
       "        vertical-align: middle;\n",
       "    }\n",
       "\n",
       "    .dataframe tbody tr th {\n",
       "        vertical-align: top;\n",
       "    }\n",
       "\n",
       "    .dataframe thead th {\n",
       "        text-align: right;\n",
       "    }\n",
       "</style>\n",
       "<table border=\"1\" class=\"dataframe\">\n",
       "  <thead>\n",
       "    <tr style=\"text-align: right;\">\n",
       "      <th></th>\n",
       "      <th>na_sales</th>\n",
       "      <th>sum_sale</th>\n",
       "    </tr>\n",
       "    <tr>\n",
       "      <th>platform</th>\n",
       "      <th></th>\n",
       "      <th></th>\n",
       "    </tr>\n",
       "  </thead>\n",
       "  <tbody>\n",
       "    <tr>\n",
       "      <th>X360</th>\n",
       "      <td>490.69</td>\n",
       "      <td>805.96</td>\n",
       "    </tr>\n",
       "    <tr>\n",
       "      <th>PS3</th>\n",
       "      <td>349.13</td>\n",
       "      <td>837.19</td>\n",
       "    </tr>\n",
       "    <tr>\n",
       "      <th>Wii</th>\n",
       "      <td>332.87</td>\n",
       "      <td>601.26</td>\n",
       "    </tr>\n",
       "    <tr>\n",
       "      <th>DS</th>\n",
       "      <td>198.73</td>\n",
       "      <td>388.60</td>\n",
       "    </tr>\n",
       "    <tr>\n",
       "      <th>PS4</th>\n",
       "      <td>108.74</td>\n",
       "      <td>314.14</td>\n",
       "    </tr>\n",
       "  </tbody>\n",
       "</table>\n",
       "</div>"
      ],
      "text/plain": [
       "          na_sales  sum_sale\n",
       "platform                    \n",
       "X360        490.69    805.96\n",
       "PS3         349.13    837.19\n",
       "Wii         332.87    601.26\n",
       "DS          198.73    388.60\n",
       "PS4         108.74    314.14"
      ]
     },
     "execution_count": 32,
     "metadata": {},
     "output_type": "execute_result"
    }
   ],
   "source": [
    "na_sales_platform=actual_data.pivot_table(index='platform',values=['na_sales','sum_sale'],aggfunc=('sum'))\n",
    "na_sales_platform=na_sales_platform.sort_values(by='na_sales',ascending=False).head(5)\n",
    "na_sales_platform"
   ]
  },
  {
   "cell_type": "markdown",
   "metadata": {},
   "source": [
    "Самая популярная платформа в Америке- X360, на втором месте PS3. PS4 на пятом месте.\n",
    "\n",
    "ps 2 не вошла в отбор так как продажи  с 2008 года.\n",
    "\n"
   ]
  },
  {
   "cell_type": "code",
   "execution_count": 33,
   "metadata": {},
   "outputs": [
    {
     "data": {
      "text/html": [
       "<div>\n",
       "<style scoped>\n",
       "    .dataframe tbody tr th:only-of-type {\n",
       "        vertical-align: middle;\n",
       "    }\n",
       "\n",
       "    .dataframe tbody tr th {\n",
       "        vertical-align: top;\n",
       "    }\n",
       "\n",
       "    .dataframe thead th {\n",
       "        text-align: right;\n",
       "    }\n",
       "</style>\n",
       "<table border=\"1\" class=\"dataframe\">\n",
       "  <thead>\n",
       "    <tr style=\"text-align: right;\">\n",
       "      <th></th>\n",
       "      <th>eu_sales</th>\n",
       "      <th>sum_sale</th>\n",
       "    </tr>\n",
       "    <tr>\n",
       "      <th>platform</th>\n",
       "      <th></th>\n",
       "      <th></th>\n",
       "    </tr>\n",
       "  </thead>\n",
       "  <tbody>\n",
       "    <tr>\n",
       "      <th>PS3</th>\n",
       "      <td>293.73</td>\n",
       "      <td>837.19</td>\n",
       "    </tr>\n",
       "    <tr>\n",
       "      <th>X360</th>\n",
       "      <td>234.88</td>\n",
       "      <td>805.96</td>\n",
       "    </tr>\n",
       "    <tr>\n",
       "      <th>Wii</th>\n",
       "      <td>170.74</td>\n",
       "      <td>601.26</td>\n",
       "    </tr>\n",
       "    <tr>\n",
       "      <th>PS4</th>\n",
       "      <td>141.09</td>\n",
       "      <td>314.14</td>\n",
       "    </tr>\n",
       "    <tr>\n",
       "      <th>PC</th>\n",
       "      <td>92.17</td>\n",
       "      <td>151.29</td>\n",
       "    </tr>\n",
       "  </tbody>\n",
       "</table>\n",
       "</div>"
      ],
      "text/plain": [
       "          eu_sales  sum_sale\n",
       "platform                    \n",
       "PS3         293.73    837.19\n",
       "X360        234.88    805.96\n",
       "Wii         170.74    601.26\n",
       "PS4         141.09    314.14\n",
       "PC           92.17    151.29"
      ]
     },
     "execution_count": 33,
     "metadata": {},
     "output_type": "execute_result"
    }
   ],
   "source": [
    "eu_sales_platform=actual_data.pivot_table(index='platform',values=['eu_sales','sum_sale'],aggfunc=('sum'))\n",
    "eu_sales_platform=eu_sales_platform.sort_values(by='eu_sales',ascending=False).head(5)\n",
    "eu_sales_platform"
   ]
  },
  {
   "cell_type": "markdown",
   "metadata": {},
   "source": [
    "Самая популярная платформа в Европе- PS3, затем x360. На 5 месте PC.\n",
    "\n",
    "В европе часто играют на pc помимо приставок "
   ]
  },
  {
   "cell_type": "code",
   "execution_count": 34,
   "metadata": {},
   "outputs": [
    {
     "data": {
      "text/html": [
       "<div>\n",
       "<style scoped>\n",
       "    .dataframe tbody tr th:only-of-type {\n",
       "        vertical-align: middle;\n",
       "    }\n",
       "\n",
       "    .dataframe tbody tr th {\n",
       "        vertical-align: top;\n",
       "    }\n",
       "\n",
       "    .dataframe thead th {\n",
       "        text-align: right;\n",
       "    }\n",
       "</style>\n",
       "<table border=\"1\" class=\"dataframe\">\n",
       "  <thead>\n",
       "    <tr style=\"text-align: right;\">\n",
       "      <th></th>\n",
       "      <th>jp_sales</th>\n",
       "      <th>sum_sale</th>\n",
       "    </tr>\n",
       "    <tr>\n",
       "      <th>platform</th>\n",
       "      <th></th>\n",
       "      <th></th>\n",
       "    </tr>\n",
       "  </thead>\n",
       "  <tbody>\n",
       "    <tr>\n",
       "      <th>3DS</th>\n",
       "      <td>100.62</td>\n",
       "      <td>257.81</td>\n",
       "    </tr>\n",
       "    <tr>\n",
       "      <th>DS</th>\n",
       "      <td>76.12</td>\n",
       "      <td>388.60</td>\n",
       "    </tr>\n",
       "    <tr>\n",
       "      <th>PS3</th>\n",
       "      <td>74.11</td>\n",
       "      <td>837.19</td>\n",
       "    </tr>\n",
       "    <tr>\n",
       "      <th>PSP</th>\n",
       "      <td>60.46</td>\n",
       "      <td>136.38</td>\n",
       "    </tr>\n",
       "    <tr>\n",
       "      <th>Wii</th>\n",
       "      <td>47.01</td>\n",
       "      <td>601.26</td>\n",
       "    </tr>\n",
       "  </tbody>\n",
       "</table>\n",
       "</div>"
      ],
      "text/plain": [
       "          jp_sales  sum_sale\n",
       "platform                    \n",
       "3DS         100.62    257.81\n",
       "DS           76.12    388.60\n",
       "PS3          74.11    837.19\n",
       "PSP          60.46    136.38\n",
       "Wii          47.01    601.26"
      ]
     },
     "execution_count": 34,
     "metadata": {},
     "output_type": "execute_result"
    }
   ],
   "source": [
    "jp_sales_platform=actual_data.pivot_table(index='platform',values=['jp_sales','sum_sale'],aggfunc=('sum'))\n",
    "jp_sales_platform=jp_sales_platform.sort_values(by='jp_sales',ascending=False).head(5)\n",
    "jp_sales_platform"
   ]
  },
  {
   "cell_type": "markdown",
   "metadata": {},
   "source": [
    "Самая популярная платформа в Японии DS, затем PS3. На 3 месте PSP.\n",
    "\n",
    "Рынок Японии любит портативные консоли "
   ]
  },
  {
   "cell_type": "code",
   "execution_count": 35,
   "metadata": {},
   "outputs": [],
   "source": [
    "na_sales_platform['% sales']=na_sales_platform['na_sales']/na_sales_platform['sum_sale']\n",
    "eu_sales_platform['% sales']=eu_sales_platform['eu_sales']/eu_sales_platform['sum_sale']\n",
    "jp_sales_platform['% sales']=jp_sales_platform['jp_sales']/jp_sales_platform['sum_sale']\n"
   ]
  },
  {
   "cell_type": "code",
   "execution_count": 36,
   "metadata": {},
   "outputs": [
    {
     "data": {
      "text/plain": [
       "<AxesSubplot:ylabel='% sales'>"
      ]
     },
     "execution_count": 36,
     "metadata": {},
     "output_type": "execute_result"
    },
    {
     "data": {
      "image/png": "[encoded data removed]",
      "text/plain": [
       "<Figure size 432x288 with 1 Axes>"
      ]
     },
     "metadata": {},
     "output_type": "display_data"
    }
   ],
   "source": [
    "na_sales_platform.plot(kind='pie',y=\"% sales\")"
   ]
  },
  {
   "cell_type": "markdown",
   "metadata": {},
   "source": [
    "на Американском рынке платформа X360 и Wii вместе занимают почти 1/3. \n",
    "\n",
    "PS2 и PS3 имеют равные доли продаж, скорее всего те у кого был ps3 апгрейднулись на ps4 поэтому доля та же. \n",
    "\n",
    "\n"
   ]
  },
  {
   "cell_type": "code",
   "execution_count": 37,
   "metadata": {},
   "outputs": [
    {
     "data": {
      "text/plain": [
       "<AxesSubplot:ylabel='% sales'>"
      ]
     },
     "execution_count": 37,
     "metadata": {},
     "output_type": "execute_result"
    },
    {
     "data": {
      "image/png": "[encoded data removed]",
      "text/plain": [
       "<Figure size 432x288 with 1 Axes>"
      ]
     },
     "metadata": {},
     "output_type": "display_data"
    }
   ],
   "source": [
    "eu_sales_platform.plot(kind='pie',y=\"% sales\")"
   ]
  },
  {
   "cell_type": "markdown",
   "metadata": {},
   "source": [
    "В Европе большое количество людей играет на Pc примерно 40% от всех продаж были там!\n",
    "\n",
    "четверть продаж имеет платформа PS4 от суммы всех продаж этой платформы. Доли продаж X360, PS3, Wii почти одинаковы и составляют около 15%."
   ]
  },
  {
   "cell_type": "code",
   "execution_count": 38,
   "metadata": {},
   "outputs": [
    {
     "data": {
      "text/plain": [
       "<AxesSubplot:ylabel='% sales'>"
      ]
     },
     "execution_count": 38,
     "metadata": {},
     "output_type": "execute_result"
    },
    {
     "data": {
      "image/png": "[encoded data removed]",
      "text/plain": [
       "<Figure size 432x288 with 1 Axes>"
      ]
     },
     "metadata": {},
     "output_type": "display_data"
    }
   ],
   "source": [
    "jp_sales_platform.plot(kind='pie',y=\"% sales\")"
   ]
  },
  {
   "cell_type": "markdown",
   "metadata": {},
   "source": [
    "В Японии платформа PSP популярнее даже чем PC в Европе! \n",
    "на 3 месте по рейтингу а по продажам по регионам явный лидер!\n",
    "Стоит обратить внимание!\n",
    "\n",
    "А вот PS занимает маленькую долю в продажах"
   ]
  },
  {
   "cell_type": "markdown",
   "metadata": {},
   "source": [
    "# Самые популярные жанры (топ-5). Пояснить разницу."
   ]
  },
  {
   "cell_type": "code",
   "execution_count": 39,
   "metadata": {},
   "outputs": [],
   "source": [
    "na_sales_genre=actual_data.pivot_table(index='genre',values='na_sales',aggfunc=('sum'))"
   ]
  },
  {
   "cell_type": "code",
   "execution_count": 40,
   "metadata": {},
   "outputs": [
    {
     "data": {
      "text/html": [
       "<div>\n",
       "<style scoped>\n",
       "    .dataframe tbody tr th:only-of-type {\n",
       "        vertical-align: middle;\n",
       "    }\n",
       "\n",
       "    .dataframe tbody tr th {\n",
       "        vertical-align: top;\n",
       "    }\n",
       "\n",
       "    .dataframe thead th {\n",
       "        text-align: right;\n",
       "    }\n",
       "</style>\n",
       "<table border=\"1\" class=\"dataframe\">\n",
       "  <thead>\n",
       "    <tr style=\"text-align: right;\">\n",
       "      <th></th>\n",
       "      <th>na_sales</th>\n",
       "    </tr>\n",
       "    <tr>\n",
       "      <th>genre</th>\n",
       "      <th></th>\n",
       "    </tr>\n",
       "  </thead>\n",
       "  <tbody>\n",
       "    <tr>\n",
       "      <th>Action</th>\n",
       "      <td>433.74</td>\n",
       "    </tr>\n",
       "    <tr>\n",
       "      <th>Shooter</th>\n",
       "      <td>311.26</td>\n",
       "    </tr>\n",
       "    <tr>\n",
       "      <th>Sports</th>\n",
       "      <td>276.27</td>\n",
       "    </tr>\n",
       "    <tr>\n",
       "      <th>Misc</th>\n",
       "      <td>211.61</td>\n",
       "    </tr>\n",
       "    <tr>\n",
       "      <th>Role-Playing</th>\n",
       "      <td>155.81</td>\n",
       "    </tr>\n",
       "  </tbody>\n",
       "</table>\n",
       "</div>"
      ],
      "text/plain": [
       "              na_sales\n",
       "genre                 \n",
       "Action          433.74\n",
       "Shooter         311.26\n",
       "Sports          276.27\n",
       "Misc            211.61\n",
       "Role-Playing    155.81"
      ]
     },
     "execution_count": 40,
     "metadata": {},
     "output_type": "execute_result"
    }
   ],
   "source": [
    "na_sales_genre=na_sales_genre.sort_values(by='na_sales',ascending=False).head(5)\n",
    "na_sales_genre"
   ]
  },
  {
   "cell_type": "markdown",
   "metadata": {},
   "source": [
    "Самый популярный жанр в Америке- это Action Shooter и Sport"
   ]
  },
  {
   "cell_type": "code",
   "execution_count": 41,
   "metadata": {},
   "outputs": [],
   "source": [
    "eu_sales_genre = actual_data.pivot_table(index = 'genre', values = 'eu_sales', aggfunc = ('sum')).head(5)"
   ]
  },
  {
   "cell_type": "code",
   "execution_count": 42,
   "metadata": {},
   "outputs": [
    {
     "data": {
      "text/html": [
       "<div>\n",
       "<style scoped>\n",
       "    .dataframe tbody tr th:only-of-type {\n",
       "        vertical-align: middle;\n",
       "    }\n",
       "\n",
       "    .dataframe tbody tr th {\n",
       "        vertical-align: top;\n",
       "    }\n",
       "\n",
       "    .dataframe thead th {\n",
       "        text-align: right;\n",
       "    }\n",
       "</style>\n",
       "<table border=\"1\" class=\"dataframe\">\n",
       "  <thead>\n",
       "    <tr style=\"text-align: right;\">\n",
       "      <th></th>\n",
       "      <th>eu_sales</th>\n",
       "    </tr>\n",
       "    <tr>\n",
       "      <th>genre</th>\n",
       "      <th></th>\n",
       "    </tr>\n",
       "  </thead>\n",
       "  <tbody>\n",
       "    <tr>\n",
       "      <th>Action</th>\n",
       "      <td>310.59</td>\n",
       "    </tr>\n",
       "    <tr>\n",
       "      <th>Misc</th>\n",
       "      <td>107.00</td>\n",
       "    </tr>\n",
       "    <tr>\n",
       "      <th>Platform</th>\n",
       "      <td>60.20</td>\n",
       "    </tr>\n",
       "    <tr>\n",
       "      <th>Fighting</th>\n",
       "      <td>34.73</td>\n",
       "    </tr>\n",
       "    <tr>\n",
       "      <th>Adventure</th>\n",
       "      <td>29.87</td>\n",
       "    </tr>\n",
       "  </tbody>\n",
       "</table>\n",
       "</div>"
      ],
      "text/plain": [
       "           eu_sales\n",
       "genre              \n",
       "Action       310.59\n",
       "Misc         107.00\n",
       "Platform      60.20\n",
       "Fighting      34.73\n",
       "Adventure     29.87"
      ]
     },
     "execution_count": 42,
     "metadata": {},
     "output_type": "execute_result"
    }
   ],
   "source": [
    "eu_sales_genre = eu_sales_genre.sort_values(by = 'eu_sales',ascending=False)\n",
    "eu_sales_genre"
   ]
  },
  {
   "cell_type": "markdown",
   "metadata": {},
   "source": [
    "В Европе самый популярный жанр такой же как и в Америке"
   ]
  },
  {
   "cell_type": "code",
   "execution_count": 43,
   "metadata": {},
   "outputs": [],
   "source": [
    "jp_sales_genre=actual_data.pivot_table(index='genre',values='jp_sales',aggfunc=('sum'))\n"
   ]
  },
  {
   "cell_type": "code",
   "execution_count": 44,
   "metadata": {},
   "outputs": [
    {
     "data": {
      "text/html": [
       "<div>\n",
       "<style scoped>\n",
       "    .dataframe tbody tr th:only-of-type {\n",
       "        vertical-align: middle;\n",
       "    }\n",
       "\n",
       "    .dataframe tbody tr th {\n",
       "        vertical-align: top;\n",
       "    }\n",
       "\n",
       "    .dataframe thead th {\n",
       "        text-align: right;\n",
       "    }\n",
       "</style>\n",
       "<table border=\"1\" class=\"dataframe\">\n",
       "  <thead>\n",
       "    <tr style=\"text-align: right;\">\n",
       "      <th></th>\n",
       "      <th>jp_sales</th>\n",
       "    </tr>\n",
       "    <tr>\n",
       "      <th>genre</th>\n",
       "      <th></th>\n",
       "    </tr>\n",
       "  </thead>\n",
       "  <tbody>\n",
       "    <tr>\n",
       "      <th>Role-Playing</th>\n",
       "      <td>138.12</td>\n",
       "    </tr>\n",
       "    <tr>\n",
       "      <th>Action</th>\n",
       "      <td>90.16</td>\n",
       "    </tr>\n",
       "    <tr>\n",
       "      <th>Misc</th>\n",
       "      <td>37.33</td>\n",
       "    </tr>\n",
       "    <tr>\n",
       "      <th>Sports</th>\n",
       "      <td>30.69</td>\n",
       "    </tr>\n",
       "    <tr>\n",
       "      <th>Adventure</th>\n",
       "      <td>23.36</td>\n",
       "    </tr>\n",
       "  </tbody>\n",
       "</table>\n",
       "</div>"
      ],
      "text/plain": [
       "              jp_sales\n",
       "genre                 \n",
       "Role-Playing    138.12\n",
       "Action           90.16\n",
       "Misc             37.33\n",
       "Sports           30.69\n",
       "Adventure        23.36"
      ]
     },
     "execution_count": 44,
     "metadata": {},
     "output_type": "execute_result"
    }
   ],
   "source": [
    "jp_sales_genre=jp_sales_genre.sort_values(by='jp_sales',ascending=False).head(5)\n",
    "jp_sales_genre"
   ]
  },
  {
   "cell_type": "markdown",
   "metadata": {},
   "source": [
    "А вот в Японии самый популярный жанр Role-Playing ! а вот второе место у Action и Sport."
   ]
  },
  {
   "cell_type": "code",
   "execution_count": 45,
   "metadata": {},
   "outputs": [
    {
     "data": {
      "text/plain": [
       "<AxesSubplot:ylabel='jp_sales'>"
      ]
     },
     "execution_count": 45,
     "metadata": {},
     "output_type": "execute_result"
    },
    {
     "data": {
      "image/png": "[encoded data removed]",
      "text/plain": [
       "<Figure size 432x288 with 1 Axes>"
      ]
     },
     "metadata": {},
     "output_type": "display_data"
    },
    {
     "data": {
      "image/png": "[encoded data removed]",
      "text/plain": [
       "<Figure size 432x288 with 1 Axes>"
      ]
     },
     "metadata": {},
     "output_type": "display_data"
    },
    {
     "data": {
      "image/png": "[encoded data removed]",
      "text/plain": [
       "<Figure size 432x288 with 1 Axes>"
      ]
     },
     "metadata": {},
     "output_type": "display_data"
    }
   ],
   "source": [
    "na_sales_genre.plot(kind='pie',y=\"na_sales\")\n",
    "eu_sales_genre.plot(kind='pie',y=\"eu_sales\")\n",
    "jp_sales_genre.plot(kind='pie',y=\"jp_sales\")"
   ]
  },
  {
   "cell_type": "markdown",
   "metadata": {},
   "source": [
    "Если брать в расчет доли продаж и суммы то однозначно надо делать игру в жанре экшн\n",
    "\n",
    "на втором месте спорт и для рынка Японии отдельно Ролевые игры.\n",
    "\n",
    "Еще стоит обратить внимание на жанр Misc у него везде есть доли и не маленькие"
   ]
  },
  {
   "cell_type": "markdown",
   "metadata": {},
   "source": [
    "# Влияет ли рейтинг ESRB на продажи в отдельном регионе?"
   ]
  },
  {
   "cell_type": "code",
   "execution_count": 46,
   "metadata": {},
   "outputs": [],
   "source": [
    "na_sales_ESRB=actual_data.pivot_table(index='rating',values='na_sales',aggfunc=('sum'))"
   ]
  },
  {
   "cell_type": "code",
   "execution_count": 47,
   "metadata": {},
   "outputs": [
    {
     "data": {
      "text/html": [
       "<div>\n",
       "<style scoped>\n",
       "    .dataframe tbody tr th:only-of-type {\n",
       "        vertical-align: middle;\n",
       "    }\n",
       "\n",
       "    .dataframe tbody tr th {\n",
       "        vertical-align: top;\n",
       "    }\n",
       "\n",
       "    .dataframe thead th {\n",
       "        text-align: right;\n",
       "    }\n",
       "</style>\n",
       "<table border=\"1\" class=\"dataframe\">\n",
       "  <thead>\n",
       "    <tr style=\"text-align: right;\">\n",
       "      <th></th>\n",
       "      <th>na_sales</th>\n",
       "    </tr>\n",
       "    <tr>\n",
       "      <th>rating</th>\n",
       "      <th></th>\n",
       "    </tr>\n",
       "  </thead>\n",
       "  <tbody>\n",
       "    <tr>\n",
       "      <th>E</th>\n",
       "      <td>536.93</td>\n",
       "    </tr>\n",
       "    <tr>\n",
       "      <th>M</th>\n",
       "      <td>502.60</td>\n",
       "    </tr>\n",
       "    <tr>\n",
       "      <th>T</th>\n",
       "      <td>303.41</td>\n",
       "    </tr>\n",
       "    <tr>\n",
       "      <th>E10+</th>\n",
       "      <td>251.88</td>\n",
       "    </tr>\n",
       "    <tr>\n",
       "      <th>EC</th>\n",
       "      <td>1.32</td>\n",
       "    </tr>\n",
       "    <tr>\n",
       "      <th>RP</th>\n",
       "      <td>0.00</td>\n",
       "    </tr>\n",
       "  </tbody>\n",
       "</table>\n",
       "</div>"
      ],
      "text/plain": [
       "        na_sales\n",
       "rating          \n",
       "E         536.93\n",
       "M         502.60\n",
       "T         303.41\n",
       "E10+      251.88\n",
       "EC          1.32\n",
       "RP          0.00"
      ]
     },
     "execution_count": 47,
     "metadata": {},
     "output_type": "execute_result"
    }
   ],
   "source": [
    "na_sales_ESRB=na_sales_ESRB.sort_values(by='na_sales',ascending=False)\n",
    "na_sales_ESRB"
   ]
  },
  {
   "cell_type": "code",
   "execution_count": 48,
   "metadata": {},
   "outputs": [],
   "source": [
    "eu_sales_ESRB=actual_data.pivot_table(index='rating',values=['eu_sales'],aggfunc=('sum'))\n"
   ]
  },
  {
   "cell_type": "code",
   "execution_count": 49,
   "metadata": {},
   "outputs": [
    {
     "data": {
      "text/html": [
       "<div>\n",
       "<style scoped>\n",
       "    .dataframe tbody tr th:only-of-type {\n",
       "        vertical-align: middle;\n",
       "    }\n",
       "\n",
       "    .dataframe tbody tr th {\n",
       "        vertical-align: top;\n",
       "    }\n",
       "\n",
       "    .dataframe thead th {\n",
       "        text-align: right;\n",
       "    }\n",
       "</style>\n",
       "<table border=\"1\" class=\"dataframe\">\n",
       "  <thead>\n",
       "    <tr style=\"text-align: right;\">\n",
       "      <th></th>\n",
       "      <th>eu_sales</th>\n",
       "    </tr>\n",
       "    <tr>\n",
       "      <th>rating</th>\n",
       "      <th></th>\n",
       "    </tr>\n",
       "  </thead>\n",
       "  <tbody>\n",
       "    <tr>\n",
       "      <th>M</th>\n",
       "      <td>362.65</td>\n",
       "    </tr>\n",
       "    <tr>\n",
       "      <th>E</th>\n",
       "      <td>326.61</td>\n",
       "    </tr>\n",
       "    <tr>\n",
       "      <th>T</th>\n",
       "      <td>187.62</td>\n",
       "    </tr>\n",
       "    <tr>\n",
       "      <th>E10+</th>\n",
       "      <td>144.53</td>\n",
       "    </tr>\n",
       "    <tr>\n",
       "      <th>RP</th>\n",
       "      <td>0.03</td>\n",
       "    </tr>\n",
       "    <tr>\n",
       "      <th>EC</th>\n",
       "      <td>0.00</td>\n",
       "    </tr>\n",
       "  </tbody>\n",
       "</table>\n",
       "</div>"
      ],
      "text/plain": [
       "        eu_sales\n",
       "rating          \n",
       "M         362.65\n",
       "E         326.61\n",
       "T         187.62\n",
       "E10+      144.53\n",
       "RP          0.03\n",
       "EC          0.00"
      ]
     },
     "execution_count": 49,
     "metadata": {},
     "output_type": "execute_result"
    }
   ],
   "source": [
    "eu_sales_ESRB=eu_sales_ESRB.sort_values(by='eu_sales',ascending=False)\n",
    "eu_sales_ESRB"
   ]
  },
  {
   "cell_type": "code",
   "execution_count": 50,
   "metadata": {},
   "outputs": [],
   "source": [
    "jp_sales_ESRB=actual_data.pivot_table(index='rating',values=['jp_sales'],aggfunc=('sum'))\n"
   ]
  },
  {
   "cell_type": "code",
   "execution_count": 51,
   "metadata": {},
   "outputs": [
    {
     "data": {
      "text/html": [
       "<div>\n",
       "<style scoped>\n",
       "    .dataframe tbody tr th:only-of-type {\n",
       "        vertical-align: middle;\n",
       "    }\n",
       "\n",
       "    .dataframe tbody tr th {\n",
       "        vertical-align: top;\n",
       "    }\n",
       "\n",
       "    .dataframe thead th {\n",
       "        text-align: right;\n",
       "    }\n",
       "</style>\n",
       "<table border=\"1\" class=\"dataframe\">\n",
       "  <thead>\n",
       "    <tr style=\"text-align: right;\">\n",
       "      <th></th>\n",
       "      <th>jp_sales</th>\n",
       "    </tr>\n",
       "    <tr>\n",
       "      <th>rating</th>\n",
       "      <th></th>\n",
       "    </tr>\n",
       "  </thead>\n",
       "  <tbody>\n",
       "    <tr>\n",
       "      <th>E</th>\n",
       "      <td>77.17</td>\n",
       "    </tr>\n",
       "    <tr>\n",
       "      <th>T</th>\n",
       "      <td>64.51</td>\n",
       "    </tr>\n",
       "    <tr>\n",
       "      <th>M</th>\n",
       "      <td>39.33</td>\n",
       "    </tr>\n",
       "    <tr>\n",
       "      <th>E10+</th>\n",
       "      <td>25.67</td>\n",
       "    </tr>\n",
       "    <tr>\n",
       "      <th>EC</th>\n",
       "      <td>0.00</td>\n",
       "    </tr>\n",
       "    <tr>\n",
       "      <th>RP</th>\n",
       "      <td>0.00</td>\n",
       "    </tr>\n",
       "  </tbody>\n",
       "</table>\n",
       "</div>"
      ],
      "text/plain": [
       "        jp_sales\n",
       "rating          \n",
       "E          77.17\n",
       "T          64.51\n",
       "M          39.33\n",
       "E10+       25.67\n",
       "EC          0.00\n",
       "RP          0.00"
      ]
     },
     "execution_count": 51,
     "metadata": {},
     "output_type": "execute_result"
    }
   ],
   "source": [
    "jp_sales_ESRB=jp_sales_ESRB.sort_values(by='jp_sales',ascending=False)\n",
    "jp_sales_ESRB"
   ]
  },
  {
   "cell_type": "markdown",
   "metadata": {},
   "source": [
    "построю гистограммы рейтингов по разным регионам:"
   ]
  },
  {
   "cell_type": "code",
   "execution_count": 52,
   "metadata": {},
   "outputs": [
    {
     "data": {
      "text/plain": [
       "<AxesSubplot:xlabel='rating'>"
      ]
     },
     "execution_count": 52,
     "metadata": {},
     "output_type": "execute_result"
    },
    {
     "data": {
      "image/png": "[encoded data removed]",
      "text/plain": [
       "<Figure size 432x288 with 1 Axes>"
      ]
     },
     "metadata": {
      "needs_background": "light"
     },
     "output_type": "display_data"
    },
    {
     "data": {
      "image/png": "[encoded data removed]",
      "text/plain": [
       "<Figure size 432x288 with 1 Axes>"
      ]
     },
     "metadata": {
      "needs_background": "light"
     },
     "output_type": "display_data"
    },
    {
     "data": {
      "image/png": "[encoded data removed]",
      "text/plain": [
       "<Figure size 432x288 with 1 Axes>"
      ]
     },
     "metadata": {
      "needs_background": "light"
     },
     "output_type": "display_data"
    }
   ],
   "source": [
    "na_sales_ESRB.plot(kind='bar') \n",
    "eu_sales_ESRB.plot(kind='bar')\n",
    "jp_sales_ESRB.plot(kind='bar') "
   ]
  },
  {
   "cell_type": "markdown",
   "metadata": {},
   "source": [
    "В Америке, Европе, Японии есть 4 лидера рейтинга ограничений - E, T, M, E10+. \n",
    "\n",
    "Больше всего М (от 17), \n",
    "\n",
    "Затем Е (для Всех). \n",
    "\n",
    "\n",
    "\n",
    "Категории Т (для подростков 13-19 лет) в Японии гораздо больше чем в остальных регионах. \n",
    "\n",
    "\n",
    "Можно сделать вывод, что возрастное ограничение влияет на продажи. \n",
    "\n",
    "\n",
    "Т.е выпуская новый продукт нужно понимать, что большей популярностью пользуются продукты с возрастным ограничением в регионах Америки и Европы это М и E а в Японии это Категория Т. "
   ]
  },
  {
   "cell_type": "markdown",
   "metadata": {},
   "source": [
    "Анализируя будующие продажи на 2017 год можнос уверенностью сказать, что хорошие продажи можно получить у платформ '3DS','PS3','PS4','X360','PC'. \n",
    "\n",
    "Также обратить внимание что в Японии хорошо продаются игры на PSP. \n",
    "\n",
    "Что касается жанров, то тут самые продаваемые Action, Sport, Shooter с ориентацией для подростков от 17 лет и для всех."
   ]
  },
  {
   "cell_type": "markdown",
   "metadata": {},
   "source": [
    "# Проверка гипотезы:"
   ]
  },
  {
   "cell_type": "markdown",
   "metadata": {},
   "source": [
    "## Средние пользовательские рейтинги платформ Xbox One и PC одинаковые\n",
    "Нулевая гипотеза: cредний пользовательский рейтинг платформы XOne и PC равны.\n",
    "\n",
    "Альтернативная гипотеза: cредний пользовательский рейтинг платформы XOne и PC не равны."
   ]
  },
  {
   "cell_type": "markdown",
   "metadata": {},
   "source": [
    "Расчитаем среднее дисперсию и стандартное откланение для XOne"
   ]
  },
  {
   "cell_type": "code",
   "execution_count": 53,
   "metadata": {},
   "outputs": [],
   "source": [
    "XOne_data=dt.query('platform==\"XOne\" and year_of_release>=2013').dropna()\n"
   ]
  },
  {
   "cell_type": "code",
   "execution_count": 54,
   "metadata": {},
   "outputs": [],
   "source": [
    "PC_data=dt.query('platform==\"PC\" and year_of_release>=2013').dropna()\n"
   ]
  },
  {
   "cell_type": "code",
   "execution_count": 55,
   "metadata": {},
   "outputs": [
    {
     "name": "stdout",
     "output_type": "stream",
     "text": [
      "Среднее значение пользовательского рейтинга платформы XOne: 6.493081761006291\n"
     ]
    }
   ],
   "source": [
    "mean_XOne=XOne_data['user_score'].mean()\n",
    "print('Среднее значение пользовательского рейтинга платформы XOne:',mean_XOne)\n"
   ]
  },
  {
   "cell_type": "code",
   "execution_count": 56,
   "metadata": {},
   "outputs": [
    {
     "name": "stdout",
     "output_type": "stream",
     "text": [
      "Дисперсия для платформы XOne: 1.7914075312475117\n"
     ]
    }
   ],
   "source": [
    "variance_XOne=np.var(XOne_data['user_score'],ddof=1)\n",
    "print('Дисперсия для платформы XOne:',variance_XOne)"
   ]
  },
  {
   "cell_type": "code",
   "execution_count": 57,
   "metadata": {},
   "outputs": [
    {
     "name": "stdout",
     "output_type": "stream",
     "text": [
      "Стандартное отклонение для платформы XOne: 1.3384347317846739\n"
     ]
    }
   ],
   "source": [
    "standart_deviation_XOne=np.sqrt(variance_XOne)\n",
    "print('Стандартное отклонение для платформы XOne:',standart_deviation_XOne)"
   ]
  },
  {
   "cell_type": "markdown",
   "metadata": {},
   "source": [
    "Расчитаем среднее дисперсию и стандартное откланение дял PC"
   ]
  },
  {
   "cell_type": "code",
   "execution_count": 58,
   "metadata": {},
   "outputs": [
    {
     "name": "stdout",
     "output_type": "stream",
     "text": [
      "Среднее значение пользовательского рейтинга платформы XOne: 6.218796992481201\n"
     ]
    }
   ],
   "source": [
    "mean_PC=PC_data['user_score'].mean()\n",
    "print('Среднее значение пользовательского рейтинга платформы XOne:',mean_PC)"
   ]
  },
  {
   "cell_type": "code",
   "execution_count": 59,
   "metadata": {},
   "outputs": [
    {
     "name": "stdout",
     "output_type": "stream",
     "text": [
      "Дисперсия для платформы PC: 3.0898712690817964\n"
     ]
    }
   ],
   "source": [
    "variance_PC=np.var(PC_data['user_score'],ddof=1)\n",
    "print('Дисперсия для платформы PC:',variance_PC)"
   ]
  },
  {
   "cell_type": "code",
   "execution_count": 60,
   "metadata": {},
   "outputs": [
    {
     "name": "stdout",
     "output_type": "stream",
     "text": [
      "Стандартное отклонение для платформы PC: 1.7578029665129697\n"
     ]
    }
   ],
   "source": [
    "standart_deviation_PC=np.sqrt(variance_PC)\n",
    "print('Стандартное отклонение для платформы PC:',standart_deviation_PC)"
   ]
  },
  {
   "cell_type": "markdown",
   "metadata": {},
   "source": [
    "Нулевая гипотеза: cредний пользовательский рейтинг платформы XOne и PC равны."
   ]
  },
  {
   "cell_type": "code",
   "execution_count": 61,
   "metadata": {},
   "outputs": [],
   "source": [
    "alpha=.05"
   ]
  },
  {
   "cell_type": "code",
   "execution_count": 62,
   "metadata": {},
   "outputs": [],
   "source": [
    "result=st.ttest_ind(XOne_data['user_score'],PC_data['user_score'],equal_var=False) "
   ]
  },
  {
   "cell_type": "code",
   "execution_count": 63,
   "metadata": {},
   "outputs": [
    {
     "name": "stdout",
     "output_type": "stream",
     "text": [
      "Значение p-value: 0.14104275299383137\n"
     ]
    }
   ],
   "source": [
    "print('Значение p-value:', result.pvalue)"
   ]
  },
  {
   "cell_type": "code",
   "execution_count": 64,
   "metadata": {
    "scrolled": true
   },
   "outputs": [
    {
     "name": "stdout",
     "output_type": "stream",
     "text": [
      "Отвергнуть нулевую гипотезу не удалось\n"
     ]
    }
   ],
   "source": [
    "if result.pvalue<alpha:\n",
    "    print('Отвергаем нулевую гипотезу')\n",
    "else:\n",
    "    print('Отвергнуть нулевую гипотезу не удалось')"
   ]
  },
  {
   "cell_type": "markdown",
   "metadata": {},
   "source": [
    "Нулевую гипотеза не отвергнута. Средние значения двух выборок пользовательских рейтингов платформы XOne и PC равны за период с 2013 года\n",
    "\n"
   ]
  },
  {
   "cell_type": "markdown",
   "metadata": {},
   "source": [
    "## Средние пользовательские рейтинги жанров Action (англ. «действие») и Sports (англ. «виды спорта») разные.\n"
   ]
  },
  {
   "cell_type": "code",
   "execution_count": 65,
   "metadata": {},
   "outputs": [],
   "source": [
    "action_data=dt.query('genre==\"Action\"').dropna()"
   ]
  },
  {
   "cell_type": "code",
   "execution_count": 66,
   "metadata": {},
   "outputs": [
    {
     "name": "stdout",
     "output_type": "stream",
     "text": [
      "Среднее значение жанра Action пользовательского рейтинга: 7.09582822085889\n"
     ]
    }
   ],
   "source": [
    "mean_action=action_data['user_score'].mean()\n",
    "print('Среднее значение жанра Action пользовательского рейтинга:',mean_action)"
   ]
  },
  {
   "cell_type": "code",
   "execution_count": 67,
   "metadata": {},
   "outputs": [
    {
     "name": "stdout",
     "output_type": "stream",
     "text": [
      "Дисперсия жанра Action пользовательского рейтинга: 1.9492766310017402\n"
     ]
    }
   ],
   "source": [
    "variance_action_data=np.var(action_data['user_score'],ddof=1)\n",
    "print('Дисперсия жанра Action пользовательского рейтинга:',variance_action_data)"
   ]
  },
  {
   "cell_type": "code",
   "execution_count": 68,
   "metadata": {},
   "outputs": [
    {
     "name": "stdout",
     "output_type": "stream",
     "text": [
      "Стандартное отклонение жанра Action пользовательского рейтинга: 1.3961649727026317\n"
     ]
    }
   ],
   "source": [
    "standart_deviation_action=np.sqrt(variance_action_data)\n",
    "print('Стандартное отклонение жанра Action пользовательского рейтинга:',standart_deviation_action)"
   ]
  },
  {
   "cell_type": "code",
   "execution_count": 69,
   "metadata": {},
   "outputs": [],
   "source": [
    "sport_data=dt.query('genre==\"Sports\"').dropna()"
   ]
  },
  {
   "cell_type": "code",
   "execution_count": 70,
   "metadata": {},
   "outputs": [
    {
     "name": "stdout",
     "output_type": "stream",
     "text": [
      "Среднее значение жанра Sport пользовательского рейтинга: 7.110816542948041\n"
     ]
    }
   ],
   "source": [
    "mean_sport=sport_data['user_score'].mean()\n",
    "print('Среднее значение жанра Sport пользовательского рейтинга:',mean_sport)"
   ]
  },
  {
   "cell_type": "code",
   "execution_count": 71,
   "metadata": {},
   "outputs": [
    {
     "name": "stdout",
     "output_type": "stream",
     "text": [
      "Дисперсия жанра Sport пользовательского рейтинга: 2.107101561849186\n"
     ]
    }
   ],
   "source": [
    "variance_sport_data=np.var(sport_data['user_score'],ddof=1)\n",
    "print('Дисперсия жанра Sport пользовательского рейтинга:',variance_sport_data)"
   ]
  },
  {
   "cell_type": "code",
   "execution_count": 72,
   "metadata": {},
   "outputs": [
    {
     "name": "stdout",
     "output_type": "stream",
     "text": [
      "Стандартное отклонение жанра Sport пользовательского рейтинга: 1.451585878220502\n"
     ]
    }
   ],
   "source": [
    "standart_deviation_sport=np.sqrt(variance_sport_data)\n",
    "print('Стандартное отклонение жанра Sport пользовательского рейтинга:',standart_deviation_sport)"
   ]
  },
  {
   "cell_type": "markdown",
   "metadata": {},
   "source": [
    "Нулевая гипотеза: cредний пользовательский рейтинг Action и Sports  равны. "
   ]
  },
  {
   "cell_type": "code",
   "execution_count": 73,
   "metadata": {},
   "outputs": [],
   "source": [
    "alpha=.05"
   ]
  },
  {
   "cell_type": "code",
   "execution_count": 74,
   "metadata": {},
   "outputs": [],
   "source": [
    "interested_value=mean_action # среднее значение Action. С ним будем сравнивать среднее выборки Sports\n"
   ]
  },
  {
   "cell_type": "code",
   "execution_count": 75,
   "metadata": {},
   "outputs": [
    {
     "name": "stdout",
     "output_type": "stream",
     "text": [
      "p-value: 0.7980492910095923\n"
     ]
    }
   ],
   "source": [
    "#result=st.ttest_1samp(sport_data['user_score'],interested_value) # ttest для проверки \n",
    "result=st.ttest_ind(action_data['user_score'],sport_data['user_score'],equal_var=False) \n",
    "print('p-value:',result.pvalue)"
   ]
  },
  {
   "cell_type": "code",
   "execution_count": 76,
   "metadata": {},
   "outputs": [
    {
     "name": "stdout",
     "output_type": "stream",
     "text": [
      "Не удалось отвергнуть нулевую гипотезу\n"
     ]
    }
   ],
   "source": [
    "if (result.pvalue<alpha):\n",
    "    print('Отвергаем нулевую гипотезу')\n",
    "else:\n",
    "    print('Не удалось отвергнуть нулевую гипотезу')"
   ]
  },
  {
   "cell_type": "markdown",
   "metadata": {},
   "source": [
    "Действительно cредний пользовательский рейтинг Action и Sports  равны со статистической значимостью alpha=5%."
   ]
  },
  {
   "cell_type": "markdown",
   "metadata": {},
   "source": [
    "# Вывод\n"
   ]
  },
  {
   "cell_type": "markdown",
   "metadata": {},
   "source": [
    "Итак закономерности определяющие успешность продаж игр:\n",
    "\n",
    "1) платформа для которой будет продаваться игра.\n",
    "\n",
    "Лидеры в данном пункте это приставки PS и Xone, В европе хорошую долю рынка забирают PC, а вот в Японии так же людям нравятся портативные присатвки.\n",
    "\n",
    "2) Далее это жанр: \n",
    "\n",
    "Тут без вариантов - это Action, Sport, Shooter и Misk для Японии супер актуальынй жанр это Ролевые игры.\n",
    "\n",
    "3) Рейтинг игры: \n",
    "\n",
    "Это однозначно рейтинг М и Е, а вот для Японии это категория Т.\n",
    "\n",
    "\n",
    "Если правильно применить эти знания, то можно купить отличную партию супер популярных игра на нужные платформы.\n",
    "\n",
    "\n",
    "\n"
   ]
  },
  {
   "cell_type": "code",
   "execution_count": null,
   "metadata": {},
   "outputs": [],
   "source": []
  }
 ],
 "metadata": {
  "ExecuteTimeLog": [
   {
    "duration": 1495,
    "start_time": "2022-01-19T19:45:48.037Z"
   },
   {
    "duration": 67,
    "start_time": "2022-01-19T19:47:21.185Z"
   },
   {
    "duration": 34,
    "start_time": "2022-01-19T19:47:25.413Z"
   },
   {
    "duration": 557,
    "start_time": "2022-01-19T19:47:48.195Z"
   },
   {
    "duration": 35,
    "start_time": "2022-01-19T19:47:52.204Z"
   },
   {
    "duration": 12,
    "start_time": "2022-01-19T20:00:21.454Z"
   },
   {
    "duration": 29,
    "start_time": "2022-01-19T20:00:25.341Z"
   },
   {
    "duration": 9,
    "start_time": "2022-01-19T20:00:41.192Z"
   },
   {
    "duration": 10,
    "start_time": "2022-01-19T20:01:42.433Z"
   },
   {
    "duration": 457,
    "start_time": "2022-01-19T20:02:26.254Z"
   },
   {
    "duration": 7,
    "start_time": "2022-01-19T20:02:39.886Z"
   },
   {
    "duration": 12,
    "start_time": "2022-01-19T20:02:43.519Z"
   },
   {
    "duration": 29,
    "start_time": "2022-01-19T20:02:52.059Z"
   },
   {
    "duration": 9351,
    "start_time": "2022-01-19T20:03:38.583Z"
   },
   {
    "duration": 1368,
    "start_time": "2022-01-19T20:03:46.569Z"
   },
   {
    "duration": 2383,
    "start_time": "2022-01-19T20:04:10.234Z"
   },
   {
    "duration": 111,
    "start_time": "2022-01-19T20:04:53.407Z"
   },
   {
    "duration": 6049,
    "start_time": "2022-01-19T20:05:05.672Z"
   },
   {
    "duration": 13,
    "start_time": "2022-01-19T20:05:26.210Z"
   },
   {
    "duration": 11,
    "start_time": "2022-01-19T20:05:28.103Z"
   },
   {
    "duration": 6,
    "start_time": "2022-01-19T20:05:35.393Z"
   },
   {
    "duration": 8,
    "start_time": "2022-01-19T20:05:38.160Z"
   },
   {
    "duration": 10,
    "start_time": "2022-01-19T20:05:44.856Z"
   },
   {
    "duration": 8,
    "start_time": "2022-01-19T20:05:47.011Z"
   },
   {
    "duration": 117,
    "start_time": "2022-01-19T20:06:13.397Z"
   },
   {
    "duration": 104,
    "start_time": "2022-01-19T20:06:19.772Z"
   },
   {
    "duration": 11,
    "start_time": "2022-01-19T20:06:23.999Z"
   },
   {
    "duration": 9,
    "start_time": "2022-01-19T20:06:25.356Z"
   },
   {
    "duration": 4,
    "start_time": "2022-01-19T20:06:28.282Z"
   },
   {
    "duration": 50,
    "start_time": "2022-01-19T20:06:28.289Z"
   },
   {
    "duration": 33,
    "start_time": "2022-01-19T20:06:28.342Z"
   },
   {
    "duration": 9,
    "start_time": "2022-01-19T20:06:28.378Z"
   },
   {
    "duration": 11,
    "start_time": "2022-01-19T20:06:28.389Z"
   },
   {
    "duration": 8,
    "start_time": "2022-01-19T20:06:28.402Z"
   },
   {
    "duration": 8,
    "start_time": "2022-01-19T20:06:33.857Z"
   },
   {
    "duration": 15,
    "start_time": "2022-01-19T20:06:34.306Z"
   },
   {
    "duration": 7,
    "start_time": "2022-01-19T20:06:45.865Z"
   },
   {
    "duration": 9,
    "start_time": "2022-01-19T20:06:47.372Z"
   },
   {
    "duration": 3,
    "start_time": "2022-01-19T20:07:49.322Z"
   },
   {
    "duration": 466,
    "start_time": "2022-01-19T20:10:55.789Z"
   },
   {
    "duration": 5,
    "start_time": "2022-01-19T20:11:52.157Z"
   },
   {
    "duration": 29,
    "start_time": "2022-01-19T20:11:57.602Z"
   },
   {
    "duration": 4,
    "start_time": "2022-01-19T20:12:17.514Z"
   },
   {
    "duration": 4,
    "start_time": "2022-01-19T20:12:20.519Z"
   },
   {
    "duration": 50,
    "start_time": "2022-01-19T20:12:20.525Z"
   },
   {
    "duration": 32,
    "start_time": "2022-01-19T20:12:20.578Z"
   },
   {
    "duration": 3,
    "start_time": "2022-01-19T20:12:20.612Z"
   },
   {
    "duration": 6,
    "start_time": "2022-01-19T20:12:20.617Z"
   },
   {
    "duration": 42,
    "start_time": "2022-01-19T20:12:20.625Z"
   },
   {
    "duration": 4,
    "start_time": "2022-01-19T20:12:58.122Z"
   },
   {
    "duration": 50,
    "start_time": "2022-01-19T20:12:58.128Z"
   },
   {
    "duration": 32,
    "start_time": "2022-01-19T20:12:58.181Z"
   },
   {
    "duration": 3,
    "start_time": "2022-01-19T20:12:58.215Z"
   },
   {
    "duration": 4,
    "start_time": "2022-01-19T20:12:58.221Z"
   },
   {
    "duration": 33,
    "start_time": "2022-01-19T20:12:58.228Z"
   },
   {
    "duration": 8329,
    "start_time": "2022-01-19T20:14:12.160Z"
   },
   {
    "duration": 1499,
    "start_time": "2022-01-19T20:14:50.655Z"
   },
   {
    "duration": 12,
    "start_time": "2022-01-19T20:15:44.103Z"
   },
   {
    "duration": 8,
    "start_time": "2022-01-19T20:24:01.950Z"
   },
   {
    "duration": 8,
    "start_time": "2022-01-19T20:24:32.827Z"
   },
   {
    "duration": 301,
    "start_time": "2022-01-19T20:27:54.977Z"
   },
   {
    "duration": 8,
    "start_time": "2022-01-19T20:28:00.006Z"
   },
   {
    "duration": 9,
    "start_time": "2022-01-19T20:28:28.421Z"
   },
   {
    "duration": 5,
    "start_time": "2022-01-19T20:28:32.794Z"
   },
   {
    "duration": 54,
    "start_time": "2022-01-19T20:28:32.801Z"
   },
   {
    "duration": 33,
    "start_time": "2022-01-19T20:28:32.858Z"
   },
   {
    "duration": 3,
    "start_time": "2022-01-19T20:28:32.893Z"
   },
   {
    "duration": 8,
    "start_time": "2022-01-19T20:28:32.900Z"
   },
   {
    "duration": 8,
    "start_time": "2022-01-19T20:28:32.910Z"
   },
   {
    "duration": 44,
    "start_time": "2022-01-19T20:28:32.920Z"
   },
   {
    "duration": 19,
    "start_time": "2022-01-19T20:28:44.555Z"
   },
   {
    "duration": 7731,
    "start_time": "2022-01-19T20:30:05.554Z"
   },
   {
    "duration": 6,
    "start_time": "2022-01-19T20:30:22.381Z"
   },
   {
    "duration": 51,
    "start_time": "2022-01-19T20:30:22.390Z"
   },
   {
    "duration": 36,
    "start_time": "2022-01-19T20:30:22.445Z"
   },
   {
    "duration": 4,
    "start_time": "2022-01-19T20:30:22.484Z"
   },
   {
    "duration": 3,
    "start_time": "2022-01-19T20:30:22.491Z"
   },
   {
    "duration": 7,
    "start_time": "2022-01-19T20:30:22.497Z"
   },
   {
    "duration": 61,
    "start_time": "2022-01-19T20:30:22.507Z"
   },
   {
    "duration": 8710,
    "start_time": "2022-01-19T20:30:22.571Z"
   },
   {
    "duration": 9,
    "start_time": "2022-01-19T20:31:10.805Z"
   },
   {
    "duration": 8,
    "start_time": "2022-01-19T20:31:28.448Z"
   },
   {
    "duration": 19,
    "start_time": "2022-01-19T20:31:36.473Z"
   },
   {
    "duration": 31,
    "start_time": "2022-01-19T20:31:57.965Z"
   },
   {
    "duration": 6,
    "start_time": "2022-01-19T20:34:41.859Z"
   },
   {
    "duration": 30,
    "start_time": "2022-01-19T20:34:53.745Z"
   },
   {
    "duration": 9,
    "start_time": "2022-01-19T20:35:12.589Z"
   },
   {
    "duration": 10,
    "start_time": "2022-01-19T20:35:41.233Z"
   },
   {
    "duration": 13,
    "start_time": "2022-01-19T20:37:44.227Z"
   },
   {
    "duration": 10,
    "start_time": "2022-01-19T20:39:04.916Z"
   },
   {
    "duration": 15,
    "start_time": "2022-01-19T20:39:08.058Z"
   },
   {
    "duration": 369,
    "start_time": "2022-01-20T19:24:49.722Z"
   },
   {
    "duration": 1507,
    "start_time": "2022-01-20T19:24:53.346Z"
   },
   {
    "duration": 47,
    "start_time": "2022-01-20T19:24:54.857Z"
   },
   {
    "duration": 36,
    "start_time": "2022-01-20T19:24:54.907Z"
   },
   {
    "duration": 3,
    "start_time": "2022-01-20T19:24:54.970Z"
   },
   {
    "duration": 7,
    "start_time": "2022-01-20T19:24:54.975Z"
   },
   {
    "duration": 8,
    "start_time": "2022-01-20T19:24:54.984Z"
   },
   {
    "duration": 22,
    "start_time": "2022-01-20T19:24:54.995Z"
   },
   {
    "duration": 7,
    "start_time": "2022-01-20T19:24:55.019Z"
   },
   {
    "duration": 51,
    "start_time": "2022-01-20T19:24:55.030Z"
   },
   {
    "duration": 30,
    "start_time": "2022-01-20T19:25:11.708Z"
   },
   {
    "duration": 110,
    "start_time": "2022-01-20T19:25:41.527Z"
   },
   {
    "duration": 491,
    "start_time": "2022-01-20T19:28:07.452Z"
   },
   {
    "duration": 12,
    "start_time": "2022-01-20T19:28:24.346Z"
   },
   {
    "duration": 14,
    "start_time": "2022-01-20T19:28:37.696Z"
   },
   {
    "duration": 299,
    "start_time": "2022-01-20T19:38:54.461Z"
   },
   {
    "duration": 9,
    "start_time": "2022-01-20T19:39:04.131Z"
   },
   {
    "duration": 15,
    "start_time": "2022-01-20T19:39:07.240Z"
   },
   {
    "duration": 28,
    "start_time": "2022-01-20T19:39:16.793Z"
   },
   {
    "duration": 4,
    "start_time": "2022-01-20T19:40:00.460Z"
   },
   {
    "duration": 30,
    "start_time": "2022-01-20T19:40:02.254Z"
   },
   {
    "duration": 4,
    "start_time": "2022-01-20T19:40:15.704Z"
   },
   {
    "duration": 50,
    "start_time": "2022-01-20T19:40:15.711Z"
   },
   {
    "duration": 31,
    "start_time": "2022-01-20T19:40:15.764Z"
   },
   {
    "duration": 4,
    "start_time": "2022-01-20T19:40:15.798Z"
   },
   {
    "duration": 24,
    "start_time": "2022-01-20T19:40:15.805Z"
   },
   {
    "duration": 55,
    "start_time": "2022-01-20T19:40:15.831Z"
   },
   {
    "duration": 10,
    "start_time": "2022-01-20T19:40:15.889Z"
   },
   {
    "duration": 320,
    "start_time": "2022-01-20T19:40:15.903Z"
   },
   {
    "duration": 3270,
    "start_time": "2022-01-20T19:40:12.956Z"
   },
   {
    "duration": 4,
    "start_time": "2022-01-20T19:50:19.601Z"
   },
   {
    "duration": 54,
    "start_time": "2022-01-20T19:50:19.608Z"
   },
   {
    "duration": 32,
    "start_time": "2022-01-20T19:50:19.665Z"
   },
   {
    "duration": 4,
    "start_time": "2022-01-20T19:50:19.699Z"
   },
   {
    "duration": 22,
    "start_time": "2022-01-20T19:50:19.706Z"
   },
   {
    "duration": 59,
    "start_time": "2022-01-20T19:50:19.730Z"
   },
   {
    "duration": 11,
    "start_time": "2022-01-20T19:50:19.791Z"
   },
   {
    "duration": 29,
    "start_time": "2022-01-20T19:50:19.805Z"
   },
   {
    "duration": 4,
    "start_time": "2022-01-20T19:58:25.380Z"
   },
   {
    "duration": 50,
    "start_time": "2022-01-20T19:58:25.386Z"
   },
   {
    "duration": 41,
    "start_time": "2022-01-20T19:58:25.439Z"
   },
   {
    "duration": 4,
    "start_time": "2022-01-20T19:58:25.482Z"
   },
   {
    "duration": 25,
    "start_time": "2022-01-20T19:58:25.488Z"
   },
   {
    "duration": 60,
    "start_time": "2022-01-20T19:58:25.516Z"
   },
   {
    "duration": 15,
    "start_time": "2022-01-20T19:58:25.579Z"
   },
   {
    "duration": 35,
    "start_time": "2022-01-20T19:58:25.596Z"
   },
   {
    "duration": 10,
    "start_time": "2022-01-20T20:00:09.522Z"
   },
   {
    "duration": 35,
    "start_time": "2022-01-20T20:00:11.982Z"
   },
   {
    "duration": 5,
    "start_time": "2022-01-20T20:00:37.935Z"
   },
   {
    "duration": 51,
    "start_time": "2022-01-20T20:00:37.943Z"
   },
   {
    "duration": 32,
    "start_time": "2022-01-20T20:00:37.997Z"
   },
   {
    "duration": 4,
    "start_time": "2022-01-20T20:00:38.032Z"
   },
   {
    "duration": 45,
    "start_time": "2022-01-20T20:00:38.038Z"
   },
   {
    "duration": 30,
    "start_time": "2022-01-20T20:00:38.086Z"
   },
   {
    "duration": 16,
    "start_time": "2022-01-20T20:00:38.119Z"
   },
   {
    "duration": 55,
    "start_time": "2022-01-20T20:00:38.137Z"
   },
   {
    "duration": 5,
    "start_time": "2022-01-20T20:00:38.196Z"
   },
   {
    "duration": 21,
    "start_time": "2022-01-20T20:00:43.531Z"
   },
   {
    "duration": 365,
    "start_time": "2022-01-20T20:08:15.759Z"
   },
   {
    "duration": 16,
    "start_time": "2022-01-20T20:09:00.556Z"
   },
   {
    "duration": 13,
    "start_time": "2022-01-20T20:09:04.673Z"
   },
   {
    "duration": 329,
    "start_time": "2022-01-20T20:09:25.696Z"
   },
   {
    "duration": 113,
    "start_time": "2022-01-20T20:16:42.805Z"
   },
   {
    "duration": 327,
    "start_time": "2022-01-20T20:16:47.887Z"
   },
   {
    "duration": 617,
    "start_time": "2022-01-20T20:16:57.274Z"
   },
   {
    "duration": 303,
    "start_time": "2022-01-20T20:17:02.916Z"
   },
   {
    "duration": 566,
    "start_time": "2022-01-20T20:17:25.363Z"
   },
   {
    "duration": 101,
    "start_time": "2022-01-20T20:19:20.738Z"
   },
   {
    "duration": 7987,
    "start_time": "2022-01-20T20:19:25.776Z"
   },
   {
    "duration": 6,
    "start_time": "2022-01-20T20:19:35.392Z"
   },
   {
    "duration": 49,
    "start_time": "2022-01-20T20:19:35.400Z"
   },
   {
    "duration": 33,
    "start_time": "2022-01-20T20:19:35.452Z"
   },
   {
    "duration": 4,
    "start_time": "2022-01-20T20:19:35.487Z"
   },
   {
    "duration": 20,
    "start_time": "2022-01-20T20:19:35.494Z"
   },
   {
    "duration": 55,
    "start_time": "2022-01-20T20:19:35.517Z"
   },
   {
    "duration": 12,
    "start_time": "2022-01-20T20:19:35.574Z"
   },
   {
    "duration": 27,
    "start_time": "2022-01-20T20:19:35.589Z"
   },
   {
    "duration": 6,
    "start_time": "2022-01-20T20:19:35.619Z"
   },
   {
    "duration": 55,
    "start_time": "2022-01-20T20:19:35.627Z"
   },
   {
    "duration": 15,
    "start_time": "2022-01-20T20:19:35.685Z"
   },
   {
    "duration": 7856,
    "start_time": "2022-01-20T20:19:35.702Z"
   },
   {
    "duration": 7928,
    "start_time": "2022-01-20T20:19:55.915Z"
   },
   {
    "duration": 8928,
    "start_time": "2022-01-20T20:20:29.924Z"
   },
   {
    "duration": 392,
    "start_time": "2022-01-20T20:20:46.304Z"
   },
   {
    "duration": 445,
    "start_time": "2022-01-20T20:21:23.763Z"
   },
   {
    "duration": 480,
    "start_time": "2022-01-20T20:21:34.921Z"
   },
   {
    "duration": 330,
    "start_time": "2022-01-20T20:21:54.870Z"
   },
   {
    "duration": 378,
    "start_time": "2022-01-20T20:22:02.117Z"
   },
   {
    "duration": 386,
    "start_time": "2022-01-20T20:22:08.961Z"
   },
   {
    "duration": 379,
    "start_time": "2022-01-20T20:22:13.016Z"
   },
   {
    "duration": 382,
    "start_time": "2022-01-20T20:22:17.256Z"
   },
   {
    "duration": 17,
    "start_time": "2022-01-20T20:29:35.652Z"
   },
   {
    "duration": 18,
    "start_time": "2022-01-20T20:29:41.914Z"
   },
   {
    "duration": 268,
    "start_time": "2022-01-20T20:29:52.874Z"
   },
   {
    "duration": 6,
    "start_time": "2022-01-20T20:33:50.997Z"
   },
   {
    "duration": 6,
    "start_time": "2022-01-20T20:33:56.057Z"
   },
   {
    "duration": 5,
    "start_time": "2022-01-20T20:34:03.187Z"
   },
   {
    "duration": 46,
    "start_time": "2022-01-20T20:34:03.195Z"
   },
   {
    "duration": 40,
    "start_time": "2022-01-20T20:34:03.245Z"
   },
   {
    "duration": 4,
    "start_time": "2022-01-20T20:34:03.289Z"
   },
   {
    "duration": 24,
    "start_time": "2022-01-20T20:34:03.295Z"
   },
   {
    "duration": 64,
    "start_time": "2022-01-20T20:34:03.321Z"
   },
   {
    "duration": 10,
    "start_time": "2022-01-20T20:34:03.387Z"
   },
   {
    "duration": 29,
    "start_time": "2022-01-20T20:34:03.400Z"
   },
   {
    "duration": 40,
    "start_time": "2022-01-20T20:34:03.432Z"
   },
   {
    "duration": 29,
    "start_time": "2022-01-20T20:34:03.475Z"
   },
   {
    "duration": 413,
    "start_time": "2022-01-20T20:34:03.507Z"
   },
   {
    "duration": 5,
    "start_time": "2022-01-20T20:34:03.923Z"
   },
   {
    "duration": 6,
    "start_time": "2022-01-20T20:34:03.931Z"
   },
   {
    "duration": 31,
    "start_time": "2022-01-20T20:34:03.940Z"
   },
   {
    "duration": 10,
    "start_time": "2022-01-20T20:34:17.556Z"
   },
   {
    "duration": 27,
    "start_time": "2022-01-20T20:34:18.505Z"
   },
   {
    "duration": 7,
    "start_time": "2022-01-20T20:35:04.195Z"
   },
   {
    "duration": 8,
    "start_time": "2022-01-20T20:35:31.138Z"
   },
   {
    "duration": 7,
    "start_time": "2022-01-20T20:35:32.589Z"
   },
   {
    "duration": 18,
    "start_time": "2022-01-20T20:36:00.814Z"
   },
   {
    "duration": 19,
    "start_time": "2022-01-20T20:36:04.614Z"
   },
   {
    "duration": 4,
    "start_time": "2022-01-20T20:36:40.899Z"
   },
   {
    "duration": 7,
    "start_time": "2022-01-20T20:36:42.161Z"
   },
   {
    "duration": 7,
    "start_time": "2022-01-20T20:36:43.696Z"
   },
   {
    "duration": 17,
    "start_time": "2022-01-20T20:38:55.999Z"
   },
   {
    "duration": 19,
    "start_time": "2022-01-20T20:39:00.479Z"
   },
   {
    "duration": 105,
    "start_time": "2022-01-20T20:39:33.567Z"
   },
   {
    "duration": 221,
    "start_time": "2022-01-20T20:39:40.045Z"
   },
   {
    "duration": 295,
    "start_time": "2022-01-20T20:40:02.560Z"
   },
   {
    "duration": 162,
    "start_time": "2022-01-20T20:40:24.449Z"
   },
   {
    "duration": 284,
    "start_time": "2022-01-20T20:40:29.049Z"
   },
   {
    "duration": 96,
    "start_time": "2022-01-20T20:40:51.103Z"
   },
   {
    "duration": 508,
    "start_time": "2022-01-20T20:40:58.062Z"
   },
   {
    "duration": 619,
    "start_time": "2022-01-20T20:41:37.371Z"
   },
   {
    "duration": 8,
    "start_time": "2022-01-20T20:42:10.605Z"
   },
   {
    "duration": 7,
    "start_time": "2022-01-20T20:42:19.138Z"
   },
   {
    "duration": 18,
    "start_time": "2022-01-20T20:42:21.463Z"
   },
   {
    "duration": 20,
    "start_time": "2022-01-20T20:42:22.550Z"
   },
   {
    "duration": 9,
    "start_time": "2022-01-20T20:55:14.667Z"
   },
   {
    "duration": 36,
    "start_time": "2022-01-20T20:55:21.485Z"
   },
   {
    "duration": 4,
    "start_time": "2022-01-20T20:56:59.624Z"
   },
   {
    "duration": 49,
    "start_time": "2022-01-20T20:56:59.630Z"
   },
   {
    "duration": 35,
    "start_time": "2022-01-20T20:56:59.681Z"
   },
   {
    "duration": 3,
    "start_time": "2022-01-20T20:56:59.719Z"
   },
   {
    "duration": 47,
    "start_time": "2022-01-20T20:56:59.724Z"
   },
   {
    "duration": 30,
    "start_time": "2022-01-20T20:56:59.773Z"
   },
   {
    "duration": 12,
    "start_time": "2022-01-20T20:56:59.806Z"
   },
   {
    "duration": 57,
    "start_time": "2022-01-20T20:56:59.820Z"
   },
   {
    "duration": 5,
    "start_time": "2022-01-20T20:56:59.881Z"
   },
   {
    "duration": 21,
    "start_time": "2022-01-20T20:56:59.889Z"
   },
   {
    "duration": 421,
    "start_time": "2022-01-20T20:56:59.912Z"
   },
   {
    "duration": 3,
    "start_time": "2022-01-20T20:57:00.336Z"
   },
   {
    "duration": 28,
    "start_time": "2022-01-20T20:57:00.341Z"
   },
   {
    "duration": 7,
    "start_time": "2022-01-20T20:57:00.372Z"
   },
   {
    "duration": 21,
    "start_time": "2022-01-20T20:57:00.381Z"
   },
   {
    "duration": 20,
    "start_time": "2022-01-20T20:57:00.405Z"
   },
   {
    "duration": 352,
    "start_time": "2022-01-20T20:58:19.779Z"
   },
   {
    "duration": 4,
    "start_time": "2022-01-20T21:01:04.335Z"
   },
   {
    "duration": 52,
    "start_time": "2022-01-20T21:01:04.341Z"
   },
   {
    "duration": 32,
    "start_time": "2022-01-20T21:01:04.396Z"
   },
   {
    "duration": 3,
    "start_time": "2022-01-20T21:01:04.431Z"
   },
   {
    "duration": 46,
    "start_time": "2022-01-20T21:01:04.437Z"
   },
   {
    "duration": 31,
    "start_time": "2022-01-20T21:01:04.485Z"
   },
   {
    "duration": 11,
    "start_time": "2022-01-20T21:01:04.518Z"
   },
   {
    "duration": 58,
    "start_time": "2022-01-20T21:01:04.531Z"
   },
   {
    "duration": 6,
    "start_time": "2022-01-20T21:01:04.593Z"
   },
   {
    "duration": 22,
    "start_time": "2022-01-20T21:01:04.601Z"
   },
   {
    "duration": 439,
    "start_time": "2022-01-20T21:01:04.626Z"
   },
   {
    "duration": 3,
    "start_time": "2022-01-20T21:01:05.068Z"
   },
   {
    "duration": 13,
    "start_time": "2022-01-20T21:01:05.073Z"
   },
   {
    "duration": 7,
    "start_time": "2022-01-20T21:01:05.088Z"
   },
   {
    "duration": 18,
    "start_time": "2022-01-20T21:01:05.098Z"
   },
   {
    "duration": 54,
    "start_time": "2022-01-20T21:01:05.118Z"
   },
   {
    "duration": 1254,
    "start_time": "2022-01-20T21:03:41.459Z"
   },
   {
    "duration": 8,
    "start_time": "2022-01-20T21:04:25.865Z"
   },
   {
    "duration": 25,
    "start_time": "2022-01-20T21:04:35.791Z"
   },
   {
    "duration": 1518,
    "start_time": "2022-01-21T14:54:59.546Z"
   },
   {
    "duration": 50,
    "start_time": "2022-01-21T14:55:01.067Z"
   },
   {
    "duration": 51,
    "start_time": "2022-01-21T14:55:01.120Z"
   },
   {
    "duration": 5,
    "start_time": "2022-01-21T14:55:01.174Z"
   },
   {
    "duration": 26,
    "start_time": "2022-01-21T14:55:01.183Z"
   },
   {
    "duration": 63,
    "start_time": "2022-01-21T14:55:01.212Z"
   },
   {
    "duration": 15,
    "start_time": "2022-01-21T14:55:01.279Z"
   },
   {
    "duration": 32,
    "start_time": "2022-01-21T14:55:01.298Z"
   },
   {
    "duration": 32,
    "start_time": "2022-01-21T14:55:01.333Z"
   },
   {
    "duration": 21,
    "start_time": "2022-01-21T14:55:01.368Z"
   },
   {
    "duration": 432,
    "start_time": "2022-01-21T14:55:01.391Z"
   },
   {
    "duration": 3,
    "start_time": "2022-01-21T14:55:01.825Z"
   },
   {
    "duration": 12,
    "start_time": "2022-01-21T14:55:01.830Z"
   },
   {
    "duration": 6,
    "start_time": "2022-01-21T14:55:01.859Z"
   },
   {
    "duration": 518,
    "start_time": "2022-01-21T14:55:01.868Z"
   },
   {
    "duration": 2801,
    "start_time": "2022-01-21T14:54:59.588Z"
   },
   {
    "duration": 2797,
    "start_time": "2022-01-21T14:54:59.594Z"
   },
   {
    "duration": 325,
    "start_time": "2022-01-21T14:55:36.280Z"
   },
   {
    "duration": 342,
    "start_time": "2022-01-21T14:55:58.867Z"
   },
   {
    "duration": 381,
    "start_time": "2022-01-21T14:58:36.347Z"
   },
   {
    "duration": 331,
    "start_time": "2022-01-21T14:58:43.646Z"
   },
   {
    "duration": 368,
    "start_time": "2022-01-21T14:59:05.310Z"
   },
   {
    "duration": 7,
    "start_time": "2022-01-21T15:00:33.091Z"
   },
   {
    "duration": 7,
    "start_time": "2022-01-21T15:01:00.471Z"
   },
   {
    "duration": 7,
    "start_time": "2022-01-21T15:01:06.085Z"
   },
   {
    "duration": 7,
    "start_time": "2022-01-21T15:01:10.825Z"
   },
   {
    "duration": 7,
    "start_time": "2022-01-21T15:01:22.505Z"
   },
   {
    "duration": 330,
    "start_time": "2022-01-21T15:03:18.094Z"
   },
   {
    "duration": 341,
    "start_time": "2022-01-21T15:03:38.637Z"
   },
   {
    "duration": 27,
    "start_time": "2022-01-21T15:03:50.631Z"
   },
   {
    "duration": 22,
    "start_time": "2022-01-21T15:06:02.453Z"
   },
   {
    "duration": 918,
    "start_time": "2022-01-21T15:06:22.018Z"
   },
   {
    "duration": 4,
    "start_time": "2022-01-21T15:08:57.276Z"
   },
   {
    "duration": 36,
    "start_time": "2022-01-21T15:09:01.069Z"
   },
   {
    "duration": 919,
    "start_time": "2022-01-21T15:09:01.787Z"
   },
   {
    "duration": 33,
    "start_time": "2022-01-21T15:09:50.333Z"
   },
   {
    "duration": 502,
    "start_time": "2022-01-21T15:09:51.735Z"
   },
   {
    "duration": 9,
    "start_time": "2022-01-21T15:10:54.220Z"
   },
   {
    "duration": 31,
    "start_time": "2022-01-21T15:11:02.537Z"
   },
   {
    "duration": 44,
    "start_time": "2022-01-21T15:11:03.068Z"
   },
   {
    "duration": 3,
    "start_time": "2022-01-21T15:11:15.273Z"
   },
   {
    "duration": 904,
    "start_time": "2022-01-21T15:11:20.157Z"
   },
   {
    "duration": 112,
    "start_time": "2022-01-21T15:11:35.728Z"
   },
   {
    "duration": 112,
    "start_time": "2022-01-21T15:11:39.272Z"
   },
   {
    "duration": 29,
    "start_time": "2022-01-21T15:11:44.073Z"
   },
   {
    "duration": 6,
    "start_time": "2022-01-21T15:14:57.419Z"
   },
   {
    "duration": 4,
    "start_time": "2022-01-21T15:15:18.514Z"
   },
   {
    "duration": 699,
    "start_time": "2022-01-21T15:18:44.158Z"
   },
   {
    "duration": 639,
    "start_time": "2022-01-21T15:19:25.403Z"
   },
   {
    "duration": 369,
    "start_time": "2022-01-21T15:19:58.862Z"
   },
   {
    "duration": 22,
    "start_time": "2022-01-21T15:20:21.636Z"
   },
   {
    "duration": 4,
    "start_time": "2022-01-21T15:22:39.158Z"
   },
   {
    "duration": 50,
    "start_time": "2022-01-21T15:22:39.164Z"
   },
   {
    "duration": 44,
    "start_time": "2022-01-21T15:22:39.218Z"
   },
   {
    "duration": 3,
    "start_time": "2022-01-21T15:22:39.265Z"
   },
   {
    "duration": 19,
    "start_time": "2022-01-21T15:22:39.271Z"
   },
   {
    "duration": 28,
    "start_time": "2022-01-21T15:22:39.293Z"
   },
   {
    "duration": 11,
    "start_time": "2022-01-21T15:22:39.359Z"
   },
   {
    "duration": 27,
    "start_time": "2022-01-21T15:22:39.373Z"
   },
   {
    "duration": 6,
    "start_time": "2022-01-21T15:22:39.404Z"
   },
   {
    "duration": 49,
    "start_time": "2022-01-21T15:22:39.413Z"
   },
   {
    "duration": 387,
    "start_time": "2022-01-21T15:22:39.465Z"
   },
   {
    "duration": 4,
    "start_time": "2022-01-21T15:22:39.855Z"
   },
   {
    "duration": 8,
    "start_time": "2022-01-21T15:22:39.861Z"
   },
   {
    "duration": 6,
    "start_time": "2022-01-21T15:22:39.872Z"
   },
   {
    "duration": 20,
    "start_time": "2022-01-21T15:22:39.881Z"
   },
   {
    "duration": 911,
    "start_time": "2022-01-21T15:22:54.246Z"
   },
   {
    "duration": 333,
    "start_time": "2022-01-21T15:26:33.252Z"
   },
   {
    "duration": 23,
    "start_time": "2022-01-21T15:26:42.149Z"
   },
   {
    "duration": 450,
    "start_time": "2022-01-21T15:26:52.977Z"
   },
   {
    "duration": 7,
    "start_time": "2022-01-21T15:27:14.062Z"
   },
   {
    "duration": 23,
    "start_time": "2022-01-21T15:27:50.763Z"
   },
   {
    "duration": 12,
    "start_time": "2022-01-21T15:27:51.246Z"
   },
   {
    "duration": 4,
    "start_time": "2022-01-21T15:27:58.879Z"
   },
   {
    "duration": 50,
    "start_time": "2022-01-21T15:27:58.886Z"
   },
   {
    "duration": 34,
    "start_time": "2022-01-21T15:27:58.939Z"
   },
   {
    "duration": 4,
    "start_time": "2022-01-21T15:27:58.976Z"
   },
   {
    "duration": 20,
    "start_time": "2022-01-21T15:27:58.982Z"
   },
   {
    "duration": 57,
    "start_time": "2022-01-21T15:27:59.004Z"
   },
   {
    "duration": 13,
    "start_time": "2022-01-21T15:27:59.063Z"
   },
   {
    "duration": 28,
    "start_time": "2022-01-21T15:27:59.078Z"
   },
   {
    "duration": 5,
    "start_time": "2022-01-21T15:27:59.112Z"
   },
   {
    "duration": 56,
    "start_time": "2022-01-21T15:27:59.121Z"
   },
   {
    "duration": 395,
    "start_time": "2022-01-21T15:27:59.179Z"
   },
   {
    "duration": 4,
    "start_time": "2022-01-21T15:27:59.577Z"
   },
   {
    "duration": 10,
    "start_time": "2022-01-21T15:27:59.584Z"
   },
   {
    "duration": 9,
    "start_time": "2022-01-21T15:27:59.596Z"
   },
   {
    "duration": 66,
    "start_time": "2022-01-21T15:27:59.607Z"
   },
   {
    "duration": 972,
    "start_time": "2022-01-21T15:27:59.676Z"
   },
   {
    "duration": 3,
    "start_time": "2022-01-21T15:28:00.650Z"
   },
   {
    "duration": 28,
    "start_time": "2022-01-21T15:28:00.660Z"
   },
   {
    "duration": 45,
    "start_time": "2022-01-21T15:28:00.690Z"
   },
   {
    "duration": 978,
    "start_time": "2022-01-21T15:28:00.738Z"
   },
   {
    "duration": 27,
    "start_time": "2022-01-21T15:28:26.768Z"
   },
   {
    "duration": 49,
    "start_time": "2022-01-21T15:28:27.332Z"
   },
   {
    "duration": 920,
    "start_time": "2022-01-21T15:28:31.805Z"
   },
   {
    "duration": 34,
    "start_time": "2022-01-21T15:28:42.301Z"
   },
   {
    "duration": 651,
    "start_time": "2022-01-21T15:28:48.027Z"
   },
   {
    "duration": 9,
    "start_time": "2022-01-21T15:29:41.360Z"
   },
   {
    "duration": 36,
    "start_time": "2022-01-21T15:30:09.573Z"
   },
   {
    "duration": 5,
    "start_time": "2022-01-21T15:30:27.776Z"
   },
   {
    "duration": 51,
    "start_time": "2022-01-21T15:30:27.783Z"
   },
   {
    "duration": 36,
    "start_time": "2022-01-21T15:30:27.838Z"
   },
   {
    "duration": 4,
    "start_time": "2022-01-21T15:30:27.876Z"
   },
   {
    "duration": 20,
    "start_time": "2022-01-21T15:30:27.882Z"
   },
   {
    "duration": 59,
    "start_time": "2022-01-21T15:30:27.904Z"
   },
   {
    "duration": 11,
    "start_time": "2022-01-21T15:30:27.965Z"
   },
   {
    "duration": 135,
    "start_time": "2022-01-21T15:30:27.979Z"
   },
   {
    "duration": 6,
    "start_time": "2022-01-21T15:30:28.116Z"
   },
   {
    "duration": 45,
    "start_time": "2022-01-21T15:30:28.124Z"
   },
   {
    "duration": 377,
    "start_time": "2022-01-21T15:30:28.171Z"
   },
   {
    "duration": 8,
    "start_time": "2022-01-21T15:30:28.551Z"
   },
   {
    "duration": 7,
    "start_time": "2022-01-21T15:30:28.562Z"
   },
   {
    "duration": 9,
    "start_time": "2022-01-21T15:30:28.571Z"
   },
   {
    "duration": 24,
    "start_time": "2022-01-21T15:30:28.582Z"
   },
   {
    "duration": 931,
    "start_time": "2022-01-21T15:30:28.608Z"
   },
   {
    "duration": 4,
    "start_time": "2022-01-21T15:30:29.541Z"
   },
   {
    "duration": 26,
    "start_time": "2022-01-21T15:30:29.560Z"
   },
   {
    "duration": 698,
    "start_time": "2022-01-21T15:30:29.588Z"
   },
   {
    "duration": 4,
    "start_time": "2022-01-21T15:53:23.846Z"
   },
   {
    "duration": 50,
    "start_time": "2022-01-21T15:53:23.853Z"
   },
   {
    "duration": 32,
    "start_time": "2022-01-21T15:53:23.906Z"
   },
   {
    "duration": 21,
    "start_time": "2022-01-21T15:53:23.940Z"
   },
   {
    "duration": 24,
    "start_time": "2022-01-21T15:53:23.963Z"
   },
   {
    "duration": 32,
    "start_time": "2022-01-21T15:53:23.990Z"
   },
   {
    "duration": 41,
    "start_time": "2022-01-21T15:53:24.025Z"
   },
   {
    "duration": 29,
    "start_time": "2022-01-21T15:53:24.068Z"
   },
   {
    "duration": 6,
    "start_time": "2022-01-21T15:53:24.101Z"
   },
   {
    "duration": 52,
    "start_time": "2022-01-21T15:53:24.110Z"
   },
   {
    "duration": 383,
    "start_time": "2022-01-21T15:53:24.165Z"
   },
   {
    "duration": 10,
    "start_time": "2022-01-21T15:53:24.550Z"
   },
   {
    "duration": 19,
    "start_time": "2022-01-21T15:53:24.562Z"
   },
   {
    "duration": 13,
    "start_time": "2022-01-21T15:53:24.583Z"
   },
   {
    "duration": 21,
    "start_time": "2022-01-21T15:53:24.599Z"
   },
   {
    "duration": 945,
    "start_time": "2022-01-21T15:53:24.622Z"
   },
   {
    "duration": 4,
    "start_time": "2022-01-21T15:53:25.570Z"
   },
   {
    "duration": 32,
    "start_time": "2022-01-21T15:53:25.577Z"
   },
   {
    "duration": 693,
    "start_time": "2022-01-21T15:53:25.612Z"
   },
   {
    "duration": 933,
    "start_time": "2022-01-21T16:01:52.451Z"
   },
   {
    "duration": 1306,
    "start_time": "2022-01-21T16:02:26.145Z"
   },
   {
    "duration": 341,
    "start_time": "2022-01-21T16:03:53.183Z"
   },
   {
    "duration": 8,
    "start_time": "2022-01-21T16:05:37.678Z"
   },
   {
    "duration": 525,
    "start_time": "2022-01-21T16:05:46.838Z"
   },
   {
    "duration": 15,
    "start_time": "2022-01-21T16:07:04.207Z"
   },
   {
    "duration": 251,
    "start_time": "2022-01-21T16:07:57.516Z"
   },
   {
    "duration": 319,
    "start_time": "2022-01-21T16:08:07.283Z"
   },
   {
    "duration": 4,
    "start_time": "2022-01-21T16:08:20.690Z"
   },
   {
    "duration": 51,
    "start_time": "2022-01-21T16:08:20.696Z"
   },
   {
    "duration": 32,
    "start_time": "2022-01-21T16:08:20.750Z"
   },
   {
    "duration": 4,
    "start_time": "2022-01-21T16:08:20.784Z"
   },
   {
    "duration": 19,
    "start_time": "2022-01-21T16:08:20.790Z"
   },
   {
    "duration": 62,
    "start_time": "2022-01-21T16:08:20.811Z"
   },
   {
    "duration": 10,
    "start_time": "2022-01-21T16:08:20.875Z"
   },
   {
    "duration": 29,
    "start_time": "2022-01-21T16:08:20.889Z"
   },
   {
    "duration": 37,
    "start_time": "2022-01-21T16:08:20.922Z"
   },
   {
    "duration": 21,
    "start_time": "2022-01-21T16:08:20.962Z"
   },
   {
    "duration": 394,
    "start_time": "2022-01-21T16:08:20.985Z"
   },
   {
    "duration": 4,
    "start_time": "2022-01-21T16:08:21.382Z"
   },
   {
    "duration": 10,
    "start_time": "2022-01-21T16:08:21.389Z"
   },
   {
    "duration": 6,
    "start_time": "2022-01-21T16:08:21.402Z"
   },
   {
    "duration": 59,
    "start_time": "2022-01-21T16:08:21.410Z"
   },
   {
    "duration": 898,
    "start_time": "2022-01-21T16:08:21.471Z"
   },
   {
    "duration": 4,
    "start_time": "2022-01-21T16:08:22.371Z"
   },
   {
    "duration": 28,
    "start_time": "2022-01-21T16:08:22.377Z"
   },
   {
    "duration": 690,
    "start_time": "2022-01-21T16:08:22.407Z"
   },
   {
    "duration": 7,
    "start_time": "2022-01-21T16:08:23.100Z"
   },
   {
    "duration": 350,
    "start_time": "2022-01-21T16:08:23.109Z"
   },
   {
    "duration": 4,
    "start_time": "2022-01-21T16:08:23.461Z"
   },
   {
    "duration": 4,
    "start_time": "2022-01-21T16:08:53.027Z"
   },
   {
    "duration": 51,
    "start_time": "2022-01-21T16:08:53.034Z"
   },
   {
    "duration": 32,
    "start_time": "2022-01-21T16:08:53.087Z"
   },
   {
    "duration": 4,
    "start_time": "2022-01-21T16:08:53.122Z"
   },
   {
    "duration": 43,
    "start_time": "2022-01-21T16:08:53.129Z"
   },
   {
    "duration": 30,
    "start_time": "2022-01-21T16:08:53.175Z"
   },
   {
    "duration": 12,
    "start_time": "2022-01-21T16:08:53.207Z"
   },
   {
    "duration": 62,
    "start_time": "2022-01-21T16:08:53.222Z"
   },
   {
    "duration": 6,
    "start_time": "2022-01-21T16:08:53.287Z"
   },
   {
    "duration": 20,
    "start_time": "2022-01-21T16:08:53.295Z"
   },
   {
    "duration": 426,
    "start_time": "2022-01-21T16:08:53.318Z"
   },
   {
    "duration": 3,
    "start_time": "2022-01-21T16:08:53.747Z"
   },
   {
    "duration": 8,
    "start_time": "2022-01-21T16:08:53.759Z"
   },
   {
    "duration": 6,
    "start_time": "2022-01-21T16:08:53.769Z"
   },
   {
    "duration": 22,
    "start_time": "2022-01-21T16:08:53.778Z"
   },
   {
    "duration": 1081,
    "start_time": "2022-01-21T16:08:53.803Z"
   },
   {
    "duration": 4,
    "start_time": "2022-01-21T16:08:54.887Z"
   },
   {
    "duration": 29,
    "start_time": "2022-01-21T16:08:54.893Z"
   },
   {
    "duration": 676,
    "start_time": "2022-01-21T16:08:54.924Z"
   },
   {
    "duration": 8,
    "start_time": "2022-01-21T16:08:55.603Z"
   },
   {
    "duration": 330,
    "start_time": "2022-01-21T16:08:55.613Z"
   },
   {
    "duration": 2700,
    "start_time": "2022-01-21T16:08:53.245Z"
   },
   {
    "duration": 4,
    "start_time": "2022-01-21T16:09:07.628Z"
   },
   {
    "duration": 54,
    "start_time": "2022-01-21T16:09:07.635Z"
   },
   {
    "duration": 33,
    "start_time": "2022-01-21T16:09:07.692Z"
   },
   {
    "duration": 5,
    "start_time": "2022-01-21T16:09:07.727Z"
   },
   {
    "duration": 36,
    "start_time": "2022-01-21T16:09:07.734Z"
   },
   {
    "duration": 29,
    "start_time": "2022-01-21T16:09:07.773Z"
   },
   {
    "duration": 12,
    "start_time": "2022-01-21T16:09:07.804Z"
   },
   {
    "duration": 68,
    "start_time": "2022-01-21T16:09:07.819Z"
   },
   {
    "duration": 6,
    "start_time": "2022-01-21T16:09:07.891Z"
   },
   {
    "duration": 23,
    "start_time": "2022-01-21T16:09:07.899Z"
   },
   {
    "duration": 379,
    "start_time": "2022-01-21T16:09:07.960Z"
   },
   {
    "duration": 2,
    "start_time": "2022-01-21T16:09:08.342Z"
   },
   {
    "duration": 17,
    "start_time": "2022-01-21T16:09:08.347Z"
   },
   {
    "duration": 7,
    "start_time": "2022-01-21T16:09:08.367Z"
   },
   {
    "duration": 22,
    "start_time": "2022-01-21T16:09:08.376Z"
   },
   {
    "duration": 970,
    "start_time": "2022-01-21T16:09:08.400Z"
   },
   {
    "duration": 4,
    "start_time": "2022-01-21T16:09:09.372Z"
   },
   {
    "duration": 28,
    "start_time": "2022-01-21T16:09:09.379Z"
   },
   {
    "duration": 685,
    "start_time": "2022-01-21T16:09:09.409Z"
   },
   {
    "duration": 9,
    "start_time": "2022-01-21T16:09:10.096Z"
   },
   {
    "duration": 328,
    "start_time": "2022-01-21T16:09:10.107Z"
   },
   {
    "duration": 2751,
    "start_time": "2022-01-21T16:09:07.687Z"
   },
   {
    "duration": 109,
    "start_time": "2022-01-21T16:11:47.262Z"
   },
   {
    "duration": 113,
    "start_time": "2022-01-21T16:12:03.615Z"
   },
   {
    "duration": 162,
    "start_time": "2022-01-21T16:12:20.010Z"
   },
   {
    "duration": 106,
    "start_time": "2022-01-21T16:13:01.460Z"
   },
   {
    "duration": 4,
    "start_time": "2022-01-21T16:13:46.670Z"
   },
   {
    "duration": 50,
    "start_time": "2022-01-21T16:13:46.677Z"
   },
   {
    "duration": 45,
    "start_time": "2022-01-21T16:13:46.730Z"
   },
   {
    "duration": 4,
    "start_time": "2022-01-21T16:13:46.778Z"
   },
   {
    "duration": 21,
    "start_time": "2022-01-21T16:13:46.784Z"
   },
   {
    "duration": 59,
    "start_time": "2022-01-21T16:13:46.808Z"
   },
   {
    "duration": 11,
    "start_time": "2022-01-21T16:13:46.869Z"
   },
   {
    "duration": 31,
    "start_time": "2022-01-21T16:13:46.882Z"
   },
   {
    "duration": 6,
    "start_time": "2022-01-21T16:13:46.917Z"
   },
   {
    "duration": 58,
    "start_time": "2022-01-21T16:13:46.926Z"
   },
   {
    "duration": 404,
    "start_time": "2022-01-21T16:13:46.987Z"
   },
   {
    "duration": 4,
    "start_time": "2022-01-21T16:13:47.394Z"
   },
   {
    "duration": 10,
    "start_time": "2022-01-21T16:13:47.400Z"
   },
   {
    "duration": 6,
    "start_time": "2022-01-21T16:13:47.412Z"
   },
   {
    "duration": 55,
    "start_time": "2022-01-21T16:13:47.420Z"
   },
   {
    "duration": 864,
    "start_time": "2022-01-21T16:13:47.477Z"
   },
   {
    "duration": 4,
    "start_time": "2022-01-21T16:13:48.344Z"
   },
   {
    "duration": 26,
    "start_time": "2022-01-21T16:13:48.359Z"
   },
   {
    "duration": 633,
    "start_time": "2022-01-21T16:13:48.387Z"
   },
   {
    "duration": 3,
    "start_time": "2022-01-21T16:13:49.022Z"
   },
   {
    "duration": 108,
    "start_time": "2022-01-21T16:13:49.028Z"
   },
   {
    "duration": 2784,
    "start_time": "2022-01-21T16:13:46.354Z"
   },
   {
    "duration": 4,
    "start_time": "2022-01-21T16:14:45.174Z"
   },
   {
    "duration": 6,
    "start_time": "2022-01-21T16:14:49.826Z"
   },
   {
    "duration": 38,
    "start_time": "2022-01-21T16:15:01.101Z"
   },
   {
    "duration": 4,
    "start_time": "2022-01-21T16:15:13.940Z"
   },
   {
    "duration": 50,
    "start_time": "2022-01-21T16:15:13.947Z"
   },
   {
    "duration": 32,
    "start_time": "2022-01-21T16:15:14.000Z"
   },
   {
    "duration": 25,
    "start_time": "2022-01-21T16:15:14.034Z"
   },
   {
    "duration": 24,
    "start_time": "2022-01-21T16:15:14.062Z"
   },
   {
    "duration": 32,
    "start_time": "2022-01-21T16:15:14.088Z"
   },
   {
    "duration": 37,
    "start_time": "2022-01-21T16:15:14.123Z"
   },
   {
    "duration": 28,
    "start_time": "2022-01-21T16:15:14.163Z"
   },
   {
    "duration": 6,
    "start_time": "2022-01-21T16:15:14.195Z"
   },
   {
    "duration": 23,
    "start_time": "2022-01-21T16:15:14.203Z"
   },
   {
    "duration": 477,
    "start_time": "2022-01-21T16:15:14.228Z"
   },
   {
    "duration": 3,
    "start_time": "2022-01-21T16:15:14.707Z"
   },
   {
    "duration": 10,
    "start_time": "2022-01-21T16:15:14.712Z"
   },
   {
    "duration": 35,
    "start_time": "2022-01-21T16:15:14.724Z"
   },
   {
    "duration": 21,
    "start_time": "2022-01-21T16:15:14.762Z"
   },
   {
    "duration": 908,
    "start_time": "2022-01-21T16:15:14.785Z"
   },
   {
    "duration": 4,
    "start_time": "2022-01-21T16:15:15.695Z"
   },
   {
    "duration": 29,
    "start_time": "2022-01-21T16:15:15.701Z"
   },
   {
    "duration": 674,
    "start_time": "2022-01-21T16:15:15.732Z"
   },
   {
    "duration": 4,
    "start_time": "2022-01-21T16:15:16.409Z"
   },
   {
    "duration": 6,
    "start_time": "2022-01-21T16:15:16.416Z"
   },
   {
    "duration": 64,
    "start_time": "2022-01-21T16:15:16.424Z"
   },
   {
    "duration": 3,
    "start_time": "2022-01-21T16:15:16.492Z"
   },
   {
    "duration": 5,
    "start_time": "2022-01-21T16:21:34.491Z"
   },
   {
    "duration": 33,
    "start_time": "2022-01-21T16:21:34.994Z"
   },
   {
    "duration": 13,
    "start_time": "2022-01-21T16:21:51.508Z"
   },
   {
    "duration": 14,
    "start_time": "2022-01-21T16:21:52.917Z"
   },
   {
    "duration": 20,
    "start_time": "2022-01-21T16:22:05.612Z"
   },
   {
    "duration": 415,
    "start_time": "2022-01-21T16:23:10.852Z"
   },
   {
    "duration": 20,
    "start_time": "2022-01-21T16:23:11.669Z"
   },
   {
    "duration": 4,
    "start_time": "2022-01-21T16:23:19.862Z"
   },
   {
    "duration": 50,
    "start_time": "2022-01-21T16:23:19.869Z"
   },
   {
    "duration": 49,
    "start_time": "2022-01-21T16:23:19.922Z"
   },
   {
    "duration": 4,
    "start_time": "2022-01-21T16:23:19.974Z"
   },
   {
    "duration": 21,
    "start_time": "2022-01-21T16:23:19.980Z"
   },
   {
    "duration": 58,
    "start_time": "2022-01-21T16:23:20.003Z"
   },
   {
    "duration": 11,
    "start_time": "2022-01-21T16:23:20.064Z"
   },
   {
    "duration": 35,
    "start_time": "2022-01-21T16:23:20.078Z"
   },
   {
    "duration": 5,
    "start_time": "2022-01-21T16:23:20.117Z"
   },
   {
    "duration": 52,
    "start_time": "2022-01-21T16:23:20.125Z"
   },
   {
    "duration": 398,
    "start_time": "2022-01-21T16:23:20.179Z"
   },
   {
    "duration": 3,
    "start_time": "2022-01-21T16:23:20.579Z"
   },
   {
    "duration": 10,
    "start_time": "2022-01-21T16:23:20.585Z"
   },
   {
    "duration": 6,
    "start_time": "2022-01-21T16:23:20.598Z"
   },
   {
    "duration": 54,
    "start_time": "2022-01-21T16:23:20.607Z"
   },
   {
    "duration": 1097,
    "start_time": "2022-01-21T16:23:20.664Z"
   },
   {
    "duration": 3,
    "start_time": "2022-01-21T16:23:21.764Z"
   },
   {
    "duration": 29,
    "start_time": "2022-01-21T16:23:21.769Z"
   },
   {
    "duration": 747,
    "start_time": "2022-01-21T16:23:21.800Z"
   },
   {
    "duration": 10,
    "start_time": "2022-01-21T16:23:22.553Z"
   },
   {
    "duration": 561,
    "start_time": "2022-01-21T16:23:22.572Z"
   },
   {
    "duration": 2756,
    "start_time": "2022-01-21T16:23:20.380Z"
   },
   {
    "duration": 2755,
    "start_time": "2022-01-21T16:23:20.382Z"
   },
   {
    "duration": 9,
    "start_time": "2022-01-21T16:23:51.404Z"
   },
   {
    "duration": 11,
    "start_time": "2022-01-21T16:23:53.997Z"
   },
   {
    "duration": 353,
    "start_time": "2022-01-21T16:25:21.360Z"
   },
   {
    "duration": 11,
    "start_time": "2022-01-21T16:25:22.834Z"
   },
   {
    "duration": 300,
    "start_time": "2022-01-21T16:27:36.714Z"
   },
   {
    "duration": 366,
    "start_time": "2022-01-21T16:27:42.697Z"
   },
   {
    "duration": 5,
    "start_time": "2022-01-21T16:28:25.128Z"
   },
   {
    "duration": 51,
    "start_time": "2022-01-21T16:28:25.135Z"
   },
   {
    "duration": 32,
    "start_time": "2022-01-21T16:28:25.189Z"
   },
   {
    "duration": 3,
    "start_time": "2022-01-21T16:28:25.224Z"
   },
   {
    "duration": 41,
    "start_time": "2022-01-21T16:28:25.230Z"
   },
   {
    "duration": 35,
    "start_time": "2022-01-21T16:28:25.273Z"
   },
   {
    "duration": 14,
    "start_time": "2022-01-21T16:28:25.310Z"
   },
   {
    "duration": 57,
    "start_time": "2022-01-21T16:28:25.327Z"
   },
   {
    "duration": 6,
    "start_time": "2022-01-21T16:28:25.387Z"
   },
   {
    "duration": 23,
    "start_time": "2022-01-21T16:28:25.396Z"
   },
   {
    "duration": 409,
    "start_time": "2022-01-21T16:28:25.421Z"
   },
   {
    "duration": 3,
    "start_time": "2022-01-21T16:28:25.833Z"
   },
   {
    "duration": 21,
    "start_time": "2022-01-21T16:28:25.838Z"
   },
   {
    "duration": 6,
    "start_time": "2022-01-21T16:28:25.862Z"
   },
   {
    "duration": 22,
    "start_time": "2022-01-21T16:28:25.870Z"
   },
   {
    "duration": 947,
    "start_time": "2022-01-21T16:28:25.895Z"
   },
   {
    "duration": 3,
    "start_time": "2022-01-21T16:28:26.845Z"
   },
   {
    "duration": 33,
    "start_time": "2022-01-21T16:28:26.850Z"
   },
   {
    "duration": 985,
    "start_time": "2022-01-21T16:28:26.885Z"
   },
   {
    "duration": 4,
    "start_time": "2022-01-21T16:28:27.873Z"
   },
   {
    "duration": 4,
    "start_time": "2022-01-21T16:28:27.880Z"
   },
   {
    "duration": 332,
    "start_time": "2022-01-21T16:28:27.887Z"
   },
   {
    "duration": 2691,
    "start_time": "2022-01-21T16:28:25.531Z"
   },
   {
    "duration": 4,
    "start_time": "2022-01-21T16:28:52.627Z"
   },
   {
    "duration": 54,
    "start_time": "2022-01-21T16:28:52.634Z"
   },
   {
    "duration": 35,
    "start_time": "2022-01-21T16:28:52.692Z"
   },
   {
    "duration": 30,
    "start_time": "2022-01-21T16:28:52.731Z"
   },
   {
    "duration": 21,
    "start_time": "2022-01-21T16:28:52.764Z"
   },
   {
    "duration": 32,
    "start_time": "2022-01-21T16:28:52.788Z"
   },
   {
    "duration": 43,
    "start_time": "2022-01-21T16:28:52.822Z"
   },
   {
    "duration": 35,
    "start_time": "2022-01-21T16:28:52.868Z"
   },
   {
    "duration": 6,
    "start_time": "2022-01-21T16:28:52.908Z"
   },
   {
    "duration": 57,
    "start_time": "2022-01-21T16:28:52.917Z"
   },
   {
    "duration": 388,
    "start_time": "2022-01-21T16:28:52.977Z"
   },
   {
    "duration": 4,
    "start_time": "2022-01-21T16:28:53.367Z"
   },
   {
    "duration": 9,
    "start_time": "2022-01-21T16:28:53.373Z"
   },
   {
    "duration": 7,
    "start_time": "2022-01-21T16:28:53.384Z"
   },
   {
    "duration": 22,
    "start_time": "2022-01-21T16:28:53.393Z"
   },
   {
    "duration": 906,
    "start_time": "2022-01-21T16:28:53.417Z"
   },
   {
    "duration": 4,
    "start_time": "2022-01-21T16:28:54.325Z"
   },
   {
    "duration": 44,
    "start_time": "2022-01-21T16:28:54.331Z"
   },
   {
    "duration": 651,
    "start_time": "2022-01-21T16:28:54.378Z"
   },
   {
    "duration": 3,
    "start_time": "2022-01-21T16:28:55.031Z"
   },
   {
    "duration": 6,
    "start_time": "2022-01-21T16:28:55.036Z"
   },
   {
    "duration": 499,
    "start_time": "2022-01-21T16:28:55.045Z"
   },
   {
    "duration": 13,
    "start_time": "2022-01-21T16:28:55.546Z"
   },
   {
    "duration": 471,
    "start_time": "2022-01-21T16:29:28.530Z"
   },
   {
    "duration": 4,
    "start_time": "2022-01-21T16:29:35.383Z"
   },
   {
    "duration": 56,
    "start_time": "2022-01-21T16:29:35.389Z"
   },
   {
    "duration": 31,
    "start_time": "2022-01-21T16:29:35.448Z"
   },
   {
    "duration": 4,
    "start_time": "2022-01-21T16:29:35.481Z"
   },
   {
    "duration": 23,
    "start_time": "2022-01-21T16:29:35.488Z"
   },
   {
    "duration": 59,
    "start_time": "2022-01-21T16:29:35.514Z"
   },
   {
    "duration": 11,
    "start_time": "2022-01-21T16:29:35.576Z"
   },
   {
    "duration": 35,
    "start_time": "2022-01-21T16:29:35.590Z"
   },
   {
    "duration": 34,
    "start_time": "2022-01-21T16:29:35.629Z"
   },
   {
    "duration": 28,
    "start_time": "2022-01-21T16:29:35.666Z"
   },
   {
    "duration": 394,
    "start_time": "2022-01-21T16:29:35.696Z"
   },
   {
    "duration": 3,
    "start_time": "2022-01-21T16:29:36.092Z"
   },
   {
    "duration": 25,
    "start_time": "2022-01-21T16:29:36.098Z"
   },
   {
    "duration": 13,
    "start_time": "2022-01-21T16:29:36.126Z"
   },
   {
    "duration": 42,
    "start_time": "2022-01-21T16:29:36.142Z"
   },
   {
    "duration": 929,
    "start_time": "2022-01-21T16:29:36.187Z"
   },
   {
    "duration": 4,
    "start_time": "2022-01-21T16:29:37.118Z"
   },
   {
    "duration": 42,
    "start_time": "2022-01-21T16:29:37.124Z"
   },
   {
    "duration": 650,
    "start_time": "2022-01-21T16:29:37.168Z"
   },
   {
    "duration": 661,
    "start_time": "2022-01-21T16:29:37.820Z"
   },
   {
    "duration": 3,
    "start_time": "2022-01-21T16:29:38.483Z"
   },
   {
    "duration": 354,
    "start_time": "2022-01-21T16:30:01.185Z"
   },
   {
    "duration": 4,
    "start_time": "2022-01-21T16:30:08.520Z"
   },
   {
    "duration": 47,
    "start_time": "2022-01-21T16:30:08.531Z"
   },
   {
    "duration": 32,
    "start_time": "2022-01-21T16:30:08.581Z"
   },
   {
    "duration": 4,
    "start_time": "2022-01-21T16:30:08.616Z"
   },
   {
    "duration": 49,
    "start_time": "2022-01-21T16:30:08.624Z"
   },
   {
    "duration": 38,
    "start_time": "2022-01-21T16:30:08.675Z"
   },
   {
    "duration": 11,
    "start_time": "2022-01-21T16:30:08.715Z"
   },
   {
    "duration": 51,
    "start_time": "2022-01-21T16:30:08.729Z"
   },
   {
    "duration": 7,
    "start_time": "2022-01-21T16:30:08.783Z"
   },
   {
    "duration": 21,
    "start_time": "2022-01-21T16:30:08.796Z"
   },
   {
    "duration": 516,
    "start_time": "2022-01-21T16:30:08.821Z"
   },
   {
    "duration": 4,
    "start_time": "2022-01-21T16:30:09.340Z"
   },
   {
    "duration": 7,
    "start_time": "2022-01-21T16:30:09.359Z"
   },
   {
    "duration": 7,
    "start_time": "2022-01-21T16:30:09.369Z"
   },
   {
    "duration": 22,
    "start_time": "2022-01-21T16:30:09.378Z"
   },
   {
    "duration": 942,
    "start_time": "2022-01-21T16:30:09.402Z"
   },
   {
    "duration": 13,
    "start_time": "2022-01-21T16:30:10.347Z"
   },
   {
    "duration": 29,
    "start_time": "2022-01-21T16:30:10.362Z"
   },
   {
    "duration": 703,
    "start_time": "2022-01-21T16:30:10.393Z"
   },
   {
    "duration": 365,
    "start_time": "2022-01-21T16:30:11.098Z"
   },
   {
    "duration": 3,
    "start_time": "2022-01-21T16:30:11.465Z"
   },
   {
    "duration": 356,
    "start_time": "2022-01-21T16:32:19.760Z"
   },
   {
    "duration": 4,
    "start_time": "2022-01-21T16:33:31.754Z"
   },
   {
    "duration": 4,
    "start_time": "2022-01-21T16:33:35.415Z"
   },
   {
    "duration": 55,
    "start_time": "2022-01-21T16:33:35.422Z"
   },
   {
    "duration": 33,
    "start_time": "2022-01-21T16:33:35.480Z"
   },
   {
    "duration": 4,
    "start_time": "2022-01-21T16:33:35.516Z"
   },
   {
    "duration": 43,
    "start_time": "2022-01-21T16:33:35.523Z"
   },
   {
    "duration": 30,
    "start_time": "2022-01-21T16:33:35.569Z"
   },
   {
    "duration": 11,
    "start_time": "2022-01-21T16:33:35.601Z"
   },
   {
    "duration": 65,
    "start_time": "2022-01-21T16:33:35.616Z"
   },
   {
    "duration": 5,
    "start_time": "2022-01-21T16:33:35.684Z"
   },
   {
    "duration": 22,
    "start_time": "2022-01-21T16:33:35.691Z"
   },
   {
    "duration": 418,
    "start_time": "2022-01-21T16:33:35.715Z"
   },
   {
    "duration": 3,
    "start_time": "2022-01-21T16:33:36.136Z"
   },
   {
    "duration": 32,
    "start_time": "2022-01-21T16:33:36.142Z"
   },
   {
    "duration": 8,
    "start_time": "2022-01-21T16:33:36.178Z"
   },
   {
    "duration": 32,
    "start_time": "2022-01-21T16:33:36.189Z"
   },
   {
    "duration": 935,
    "start_time": "2022-01-21T16:33:36.224Z"
   },
   {
    "duration": 3,
    "start_time": "2022-01-21T16:33:37.162Z"
   },
   {
    "duration": 28,
    "start_time": "2022-01-21T16:33:37.168Z"
   },
   {
    "duration": 775,
    "start_time": "2022-01-21T16:33:37.198Z"
   },
   {
    "duration": 379,
    "start_time": "2022-01-21T16:33:37.976Z"
   },
   {
    "duration": 3,
    "start_time": "2022-01-21T16:33:38.357Z"
   },
   {
    "duration": 7,
    "start_time": "2022-01-21T16:33:38.363Z"
   },
   {
    "duration": 4,
    "start_time": "2022-01-21T16:52:17.070Z"
   },
   {
    "duration": 63,
    "start_time": "2022-01-21T16:52:17.077Z"
   },
   {
    "duration": 33,
    "start_time": "2022-01-21T16:52:17.143Z"
   },
   {
    "duration": 4,
    "start_time": "2022-01-21T16:52:17.179Z"
   },
   {
    "duration": 26,
    "start_time": "2022-01-21T16:52:17.185Z"
   },
   {
    "duration": 55,
    "start_time": "2022-01-21T16:52:17.214Z"
   },
   {
    "duration": 15,
    "start_time": "2022-01-21T16:52:17.271Z"
   },
   {
    "duration": 34,
    "start_time": "2022-01-21T16:52:17.288Z"
   },
   {
    "duration": 5,
    "start_time": "2022-01-21T16:52:17.327Z"
   },
   {
    "duration": 51,
    "start_time": "2022-01-21T16:52:17.335Z"
   },
   {
    "duration": 620,
    "start_time": "2022-01-21T16:52:17.389Z"
   },
   {
    "duration": 3,
    "start_time": "2022-01-21T16:52:18.011Z"
   },
   {
    "duration": 12,
    "start_time": "2022-01-21T16:52:18.017Z"
   },
   {
    "duration": 31,
    "start_time": "2022-01-21T16:52:18.031Z"
   },
   {
    "duration": 24,
    "start_time": "2022-01-21T16:52:18.065Z"
   },
   {
    "duration": 943,
    "start_time": "2022-01-21T16:52:18.092Z"
   },
   {
    "duration": 5,
    "start_time": "2022-01-21T16:52:19.038Z"
   },
   {
    "duration": 28,
    "start_time": "2022-01-21T16:52:19.059Z"
   },
   {
    "duration": 977,
    "start_time": "2022-01-21T16:52:19.090Z"
   },
   {
    "duration": 465,
    "start_time": "2022-01-21T16:52:20.070Z"
   },
   {
    "duration": 4,
    "start_time": "2022-01-21T16:52:20.537Z"
   },
   {
    "duration": 17,
    "start_time": "2022-01-21T16:52:20.543Z"
   },
   {
    "duration": 400,
    "start_time": "2022-01-21T16:52:31.520Z"
   },
   {
    "duration": 358,
    "start_time": "2022-01-21T16:54:44.433Z"
   },
   {
    "duration": 551,
    "start_time": "2022-01-21T16:54:53.361Z"
   },
   {
    "duration": 102,
    "start_time": "2022-01-21T16:54:58.575Z"
   },
   {
    "duration": 559,
    "start_time": "2022-01-21T16:55:02.212Z"
   },
   {
    "duration": 442,
    "start_time": "2022-01-21T16:55:13.815Z"
   },
   {
    "duration": 326,
    "start_time": "2022-01-21T16:55:25.681Z"
   },
   {
    "duration": 5,
    "start_time": "2022-01-21T16:55:29.955Z"
   },
   {
    "duration": 50,
    "start_time": "2022-01-21T16:55:29.963Z"
   },
   {
    "duration": 57,
    "start_time": "2022-01-21T16:55:30.016Z"
   },
   {
    "duration": 3,
    "start_time": "2022-01-21T16:55:30.076Z"
   },
   {
    "duration": 20,
    "start_time": "2022-01-21T16:55:30.082Z"
   },
   {
    "duration": 60,
    "start_time": "2022-01-21T16:55:30.104Z"
   },
   {
    "duration": 10,
    "start_time": "2022-01-21T16:55:30.166Z"
   },
   {
    "duration": 31,
    "start_time": "2022-01-21T16:55:30.179Z"
   },
   {
    "duration": 6,
    "start_time": "2022-01-21T16:55:30.214Z"
   },
   {
    "duration": 55,
    "start_time": "2022-01-21T16:55:30.222Z"
   },
   {
    "duration": 386,
    "start_time": "2022-01-21T16:55:30.279Z"
   },
   {
    "duration": 3,
    "start_time": "2022-01-21T16:55:30.667Z"
   },
   {
    "duration": 15,
    "start_time": "2022-01-21T16:55:30.673Z"
   },
   {
    "duration": 11,
    "start_time": "2022-01-21T16:55:30.690Z"
   },
   {
    "duration": 23,
    "start_time": "2022-01-21T16:55:30.703Z"
   },
   {
    "duration": 1199,
    "start_time": "2022-01-21T16:55:30.728Z"
   },
   {
    "duration": 5,
    "start_time": "2022-01-21T16:55:31.931Z"
   },
   {
    "duration": 123,
    "start_time": "2022-01-21T16:55:31.939Z"
   },
   {
    "duration": 740,
    "start_time": "2022-01-21T16:55:32.065Z"
   },
   {
    "duration": 359,
    "start_time": "2022-01-21T16:55:32.808Z"
   },
   {
    "duration": 4,
    "start_time": "2022-01-21T16:55:33.170Z"
   },
   {
    "duration": 721,
    "start_time": "2022-01-21T16:55:33.176Z"
   },
   {
    "duration": 3,
    "start_time": "2022-01-21T16:55:33.899Z"
   },
   {
    "duration": 5,
    "start_time": "2022-01-21T16:55:43.297Z"
   },
   {
    "duration": 48,
    "start_time": "2022-01-21T16:55:43.305Z"
   },
   {
    "duration": 33,
    "start_time": "2022-01-21T16:55:43.357Z"
   },
   {
    "duration": 4,
    "start_time": "2022-01-21T16:55:43.393Z"
   },
   {
    "duration": 33,
    "start_time": "2022-01-21T16:55:43.399Z"
   },
   {
    "duration": 49,
    "start_time": "2022-01-21T16:55:43.435Z"
   },
   {
    "duration": 10,
    "start_time": "2022-01-21T16:55:43.486Z"
   },
   {
    "duration": 37,
    "start_time": "2022-01-21T16:55:43.498Z"
   },
   {
    "duration": 6,
    "start_time": "2022-01-21T16:55:43.559Z"
   },
   {
    "duration": 28,
    "start_time": "2022-01-21T16:55:43.568Z"
   },
   {
    "duration": 406,
    "start_time": "2022-01-21T16:55:43.598Z"
   },
   {
    "duration": 3,
    "start_time": "2022-01-21T16:55:44.007Z"
   },
   {
    "duration": 10,
    "start_time": "2022-01-21T16:55:44.012Z"
   },
   {
    "duration": 8,
    "start_time": "2022-01-21T16:55:44.024Z"
   },
   {
    "duration": 48,
    "start_time": "2022-01-21T16:55:44.033Z"
   },
   {
    "duration": 953,
    "start_time": "2022-01-21T16:55:44.084Z"
   },
   {
    "duration": 4,
    "start_time": "2022-01-21T16:55:45.041Z"
   },
   {
    "duration": 26,
    "start_time": "2022-01-21T16:55:45.060Z"
   },
   {
    "duration": 690,
    "start_time": "2022-01-21T16:55:45.089Z"
   },
   {
    "duration": 440,
    "start_time": "2022-01-21T16:55:45.782Z"
   },
   {
    "duration": 4,
    "start_time": "2022-01-21T16:55:46.225Z"
   },
   {
    "duration": 28,
    "start_time": "2022-01-21T16:55:46.232Z"
   },
   {
    "duration": 696,
    "start_time": "2022-01-21T16:55:46.263Z"
   },
   {
    "duration": 3,
    "start_time": "2022-01-21T16:55:46.961Z"
   },
   {
    "duration": 521,
    "start_time": "2022-01-21T16:55:52.283Z"
   },
   {
    "duration": 546,
    "start_time": "2022-01-21T16:55:59.774Z"
   },
   {
    "duration": 588,
    "start_time": "2022-01-21T16:56:06.397Z"
   },
   {
    "duration": 1049,
    "start_time": "2022-01-21T16:56:18.805Z"
   },
   {
    "duration": 334,
    "start_time": "2022-01-21T17:12:46.378Z"
   },
   {
    "duration": 1171,
    "start_time": "2022-01-21T17:12:50.990Z"
   },
   {
    "duration": 313,
    "start_time": "2022-01-21T17:13:41.176Z"
   },
   {
    "duration": 841,
    "start_time": "2022-01-21T17:14:29.851Z"
   },
   {
    "duration": 15,
    "start_time": "2022-01-21T17:14:38.257Z"
   },
   {
    "duration": 11,
    "start_time": "2022-01-21T17:14:46.723Z"
   },
   {
    "duration": 226,
    "start_time": "2022-01-21T17:15:29.189Z"
   },
   {
    "duration": 1415,
    "start_time": "2022-01-21T17:17:03.726Z"
   },
   {
    "duration": 775,
    "start_time": "2022-01-21T17:17:26.400Z"
   },
   {
    "duration": 5,
    "start_time": "2022-01-21T17:17:34.425Z"
   },
   {
    "duration": 51,
    "start_time": "2022-01-21T17:17:34.434Z"
   },
   {
    "duration": 34,
    "start_time": "2022-01-21T17:17:34.489Z"
   },
   {
    "duration": 4,
    "start_time": "2022-01-21T17:17:34.527Z"
   },
   {
    "duration": 22,
    "start_time": "2022-01-21T17:17:34.559Z"
   },
   {
    "duration": 31,
    "start_time": "2022-01-21T17:17:34.583Z"
   },
   {
    "duration": 47,
    "start_time": "2022-01-21T17:17:34.617Z"
   },
   {
    "duration": 26,
    "start_time": "2022-01-21T17:17:34.667Z"
   },
   {
    "duration": 5,
    "start_time": "2022-01-21T17:17:34.697Z"
   },
   {
    "duration": 21,
    "start_time": "2022-01-21T17:17:34.705Z"
   },
   {
    "duration": 400,
    "start_time": "2022-01-21T17:17:34.759Z"
   },
   {
    "duration": 3,
    "start_time": "2022-01-21T17:17:35.162Z"
   },
   {
    "duration": 9,
    "start_time": "2022-01-21T17:17:35.167Z"
   },
   {
    "duration": 7,
    "start_time": "2022-01-21T17:17:35.178Z"
   },
   {
    "duration": 22,
    "start_time": "2022-01-21T17:17:35.188Z"
   },
   {
    "duration": 948,
    "start_time": "2022-01-21T17:17:35.213Z"
   },
   {
    "duration": 3,
    "start_time": "2022-01-21T17:17:36.164Z"
   },
   {
    "duration": 27,
    "start_time": "2022-01-21T17:17:36.170Z"
   },
   {
    "duration": 668,
    "start_time": "2022-01-21T17:17:36.200Z"
   },
   {
    "duration": 363,
    "start_time": "2022-01-21T17:17:36.871Z"
   },
   {
    "duration": 5,
    "start_time": "2022-01-21T17:17:37.237Z"
   },
   {
    "duration": 27,
    "start_time": "2022-01-21T17:17:37.245Z"
   },
   {
    "duration": 856,
    "start_time": "2022-01-21T17:17:37.275Z"
   },
   {
    "duration": 37,
    "start_time": "2022-01-21T17:17:38.134Z"
   },
   {
    "duration": 1003,
    "start_time": "2022-01-21T17:17:38.175Z"
   },
   {
    "duration": 742,
    "start_time": "2022-01-21T17:17:53.571Z"
   },
   {
    "duration": 743,
    "start_time": "2022-01-21T17:17:58.154Z"
   },
   {
    "duration": 1166,
    "start_time": "2022-01-21T17:18:09.796Z"
   },
   {
    "duration": 364,
    "start_time": "2022-01-21T20:20:38.730Z"
   },
   {
    "duration": 310,
    "start_time": "2022-01-21T20:21:07.456Z"
   },
   {
    "duration": 4,
    "start_time": "2022-01-21T20:21:10.444Z"
   },
   {
    "duration": 47,
    "start_time": "2022-01-21T20:21:10.451Z"
   },
   {
    "duration": 31,
    "start_time": "2022-01-21T20:21:10.501Z"
   },
   {
    "duration": 4,
    "start_time": "2022-01-21T20:21:10.558Z"
   },
   {
    "duration": 20,
    "start_time": "2022-01-21T20:21:10.564Z"
   },
   {
    "duration": 30,
    "start_time": "2022-01-21T20:21:10.587Z"
   },
   {
    "duration": 42,
    "start_time": "2022-01-21T20:21:10.619Z"
   },
   {
    "duration": 28,
    "start_time": "2022-01-21T20:21:10.664Z"
   },
   {
    "duration": 5,
    "start_time": "2022-01-21T20:21:10.696Z"
   },
   {
    "duration": 21,
    "start_time": "2022-01-21T20:21:10.704Z"
   },
   {
    "duration": 395,
    "start_time": "2022-01-21T20:21:10.760Z"
   },
   {
    "duration": 4,
    "start_time": "2022-01-21T20:21:11.159Z"
   },
   {
    "duration": 10,
    "start_time": "2022-01-21T20:21:11.166Z"
   },
   {
    "duration": 8,
    "start_time": "2022-01-21T20:21:11.179Z"
   },
   {
    "duration": 25,
    "start_time": "2022-01-21T20:21:11.190Z"
   },
   {
    "duration": 893,
    "start_time": "2022-01-21T20:21:11.261Z"
   },
   {
    "duration": 5,
    "start_time": "2022-01-21T20:21:12.160Z"
   },
   {
    "duration": 29,
    "start_time": "2022-01-21T20:21:12.168Z"
   },
   {
    "duration": 695,
    "start_time": "2022-01-21T20:21:12.200Z"
   },
   {
    "duration": 381,
    "start_time": "2022-01-21T20:21:12.897Z"
   },
   {
    "duration": 4,
    "start_time": "2022-01-21T20:21:13.280Z"
   },
   {
    "duration": 14,
    "start_time": "2022-01-21T20:21:13.286Z"
   },
   {
    "duration": 808,
    "start_time": "2022-01-21T20:21:13.302Z"
   },
   {
    "duration": 1220,
    "start_time": "2022-01-21T20:21:14.112Z"
   },
   {
    "duration": 306,
    "start_time": "2022-01-21T20:21:15.334Z"
   },
   {
    "duration": 423,
    "start_time": "2022-01-21T20:23:38.114Z"
   },
   {
    "duration": 12,
    "start_time": "2022-01-21T20:23:42.733Z"
   },
   {
    "duration": 7,
    "start_time": "2022-01-21T20:23:52.552Z"
   },
   {
    "duration": 299,
    "start_time": "2022-01-21T20:24:23.442Z"
   },
   {
    "duration": 7,
    "start_time": "2022-01-21T20:24:56.996Z"
   },
   {
    "duration": 357,
    "start_time": "2022-01-21T20:25:06.813Z"
   },
   {
    "duration": 10,
    "start_time": "2022-01-21T20:25:38.785Z"
   },
   {
    "duration": 4,
    "start_time": "2022-01-21T20:25:46.409Z"
   },
   {
    "duration": 63,
    "start_time": "2022-01-21T20:25:46.416Z"
   },
   {
    "duration": 37,
    "start_time": "2022-01-21T20:25:46.484Z"
   },
   {
    "duration": 4,
    "start_time": "2022-01-21T20:25:46.524Z"
   },
   {
    "duration": 48,
    "start_time": "2022-01-21T20:25:46.531Z"
   },
   {
    "duration": 35,
    "start_time": "2022-01-21T20:25:46.582Z"
   },
   {
    "duration": 46,
    "start_time": "2022-01-21T20:25:46.620Z"
   },
   {
    "duration": 30,
    "start_time": "2022-01-21T20:25:46.669Z"
   },
   {
    "duration": 6,
    "start_time": "2022-01-21T20:25:46.703Z"
   },
   {
    "duration": 63,
    "start_time": "2022-01-21T20:25:46.711Z"
   },
   {
    "duration": 390,
    "start_time": "2022-01-21T20:25:46.777Z"
   },
   {
    "duration": 4,
    "start_time": "2022-01-21T20:25:47.170Z"
   },
   {
    "duration": 10,
    "start_time": "2022-01-21T20:25:47.177Z"
   },
   {
    "duration": 8,
    "start_time": "2022-01-21T20:25:47.189Z"
   },
   {
    "duration": 72,
    "start_time": "2022-01-21T20:25:47.200Z"
   },
   {
    "duration": 1011,
    "start_time": "2022-01-21T20:25:47.274Z"
   },
   {
    "duration": 5,
    "start_time": "2022-01-21T20:25:48.288Z"
   },
   {
    "duration": 36,
    "start_time": "2022-01-21T20:25:48.296Z"
   },
   {
    "duration": 669,
    "start_time": "2022-01-21T20:25:48.335Z"
   },
   {
    "duration": 716,
    "start_time": "2022-01-21T20:25:49.008Z"
   },
   {
    "duration": 4,
    "start_time": "2022-01-21T20:25:49.726Z"
   },
   {
    "duration": 29,
    "start_time": "2022-01-21T20:25:49.733Z"
   },
   {
    "duration": 781,
    "start_time": "2022-01-21T20:25:49.764Z"
   },
   {
    "duration": 1203,
    "start_time": "2022-01-21T20:25:50.548Z"
   },
   {
    "duration": 11,
    "start_time": "2022-01-21T20:25:51.754Z"
   },
   {
    "duration": 10,
    "start_time": "2022-01-21T20:25:51.767Z"
   },
   {
    "duration": 7,
    "start_time": "2022-01-21T20:25:51.782Z"
   },
   {
    "duration": 2121,
    "start_time": "2022-01-21T20:25:51.791Z"
   },
   {
    "duration": 19,
    "start_time": "2022-01-21T20:26:16.619Z"
   },
   {
    "duration": 21992,
    "start_time": "2022-01-21T20:26:31.743Z"
   },
   {
    "duration": 11,
    "start_time": "2022-01-21T20:29:02.548Z"
   },
   {
    "duration": 48,
    "start_time": "2022-01-21T20:29:02.562Z"
   },
   {
    "duration": 32,
    "start_time": "2022-01-21T20:29:02.613Z"
   },
   {
    "duration": 4,
    "start_time": "2022-01-21T20:29:02.660Z"
   },
   {
    "duration": 22,
    "start_time": "2022-01-21T20:29:02.666Z"
   },
   {
    "duration": 30,
    "start_time": "2022-01-21T20:29:02.691Z"
   },
   {
    "duration": 44,
    "start_time": "2022-01-21T20:29:02.725Z"
   },
   {
    "duration": 29,
    "start_time": "2022-01-21T20:29:02.772Z"
   },
   {
    "duration": 5,
    "start_time": "2022-01-21T20:29:02.803Z"
   },
   {
    "duration": 51,
    "start_time": "2022-01-21T20:29:02.810Z"
   },
   {
    "duration": 382,
    "start_time": "2022-01-21T20:29:02.864Z"
   },
   {
    "duration": 10,
    "start_time": "2022-01-21T20:29:03.249Z"
   },
   {
    "duration": 12,
    "start_time": "2022-01-21T20:29:03.261Z"
   },
   {
    "duration": 23,
    "start_time": "2022-01-21T20:29:03.275Z"
   },
   {
    "duration": 34,
    "start_time": "2022-01-21T20:29:03.300Z"
   },
   {
    "duration": 882,
    "start_time": "2022-01-21T20:29:03.336Z"
   },
   {
    "duration": 4,
    "start_time": "2022-01-21T20:29:04.221Z"
   },
   {
    "duration": 51,
    "start_time": "2022-01-21T20:29:04.228Z"
   },
   {
    "duration": 634,
    "start_time": "2022-01-21T20:29:04.282Z"
   },
   {
    "duration": 351,
    "start_time": "2022-01-21T20:29:04.919Z"
   },
   {
    "duration": 4,
    "start_time": "2022-01-21T20:29:05.272Z"
   },
   {
    "duration": 10,
    "start_time": "2022-01-21T20:29:05.281Z"
   },
   {
    "duration": 816,
    "start_time": "2022-01-21T20:29:05.293Z"
   },
   {
    "duration": 1529,
    "start_time": "2022-01-21T20:29:06.112Z"
   },
   {
    "duration": 16,
    "start_time": "2022-01-21T20:29:28.648Z"
   },
   {
    "duration": 11,
    "start_time": "2022-01-21T20:29:28.667Z"
   },
   {
    "duration": 319,
    "start_time": "2022-01-21T20:29:28.681Z"
   },
   {
    "duration": 2675,
    "start_time": "2022-01-21T20:29:26.329Z"
   },
   {
    "duration": 4,
    "start_time": "2022-01-21T20:32:37.400Z"
   },
   {
    "duration": 65,
    "start_time": "2022-01-21T20:32:37.408Z"
   },
   {
    "duration": 41,
    "start_time": "2022-01-21T20:32:37.477Z"
   },
   {
    "duration": 4,
    "start_time": "2022-01-21T20:32:37.522Z"
   },
   {
    "duration": 49,
    "start_time": "2022-01-21T20:32:37.530Z"
   },
   {
    "duration": 32,
    "start_time": "2022-01-21T20:32:37.581Z"
   },
   {
    "duration": 44,
    "start_time": "2022-01-21T20:32:37.615Z"
   },
   {
    "duration": 38,
    "start_time": "2022-01-21T20:32:37.662Z"
   },
   {
    "duration": 8,
    "start_time": "2022-01-21T20:32:37.706Z"
   },
   {
    "duration": 58,
    "start_time": "2022-01-21T20:32:37.718Z"
   },
   {
    "duration": 512,
    "start_time": "2022-01-21T20:32:37.780Z"
   },
   {
    "duration": 3,
    "start_time": "2022-01-21T20:32:38.294Z"
   },
   {
    "duration": 10,
    "start_time": "2022-01-21T20:32:38.300Z"
   },
   {
    "duration": 7,
    "start_time": "2022-01-21T20:32:38.313Z"
   },
   {
    "duration": 52,
    "start_time": "2022-01-21T20:32:38.322Z"
   },
   {
    "duration": 1202,
    "start_time": "2022-01-21T20:32:38.376Z"
   },
   {
    "duration": 3,
    "start_time": "2022-01-21T20:32:39.581Z"
   },
   {
    "duration": 27,
    "start_time": "2022-01-21T20:32:39.587Z"
   },
   {
    "duration": 667,
    "start_time": "2022-01-21T20:32:39.617Z"
   },
   {
    "duration": 348,
    "start_time": "2022-01-21T20:32:40.286Z"
   },
   {
    "duration": 3,
    "start_time": "2022-01-21T20:32:40.637Z"
   },
   {
    "duration": 23,
    "start_time": "2022-01-21T20:32:40.643Z"
   },
   {
    "duration": 746,
    "start_time": "2022-01-21T20:32:40.668Z"
   },
   {
    "duration": 1194,
    "start_time": "2022-01-21T20:32:41.417Z"
   },
   {
    "duration": 47,
    "start_time": "2022-01-21T20:32:42.613Z"
   },
   {
    "duration": 11,
    "start_time": "2022-01-21T20:32:42.662Z"
   },
   {
    "duration": 8,
    "start_time": "2022-01-21T20:32:42.678Z"
   },
   {
    "duration": 432,
    "start_time": "2022-01-21T20:32:42.689Z"
   },
   {
    "duration": 4,
    "start_time": "2022-01-21T20:33:43.773Z"
   },
   {
    "duration": 68,
    "start_time": "2022-01-21T20:33:43.781Z"
   },
   {
    "duration": 49,
    "start_time": "2022-01-21T20:33:43.859Z"
   },
   {
    "duration": 5,
    "start_time": "2022-01-21T20:33:43.912Z"
   },
   {
    "duration": 58,
    "start_time": "2022-01-21T20:33:43.919Z"
   },
   {
    "duration": 43,
    "start_time": "2022-01-21T20:33:43.980Z"
   },
   {
    "duration": 33,
    "start_time": "2022-01-21T20:33:44.026Z"
   },
   {
    "duration": 29,
    "start_time": "2022-01-21T20:33:44.061Z"
   },
   {
    "duration": 6,
    "start_time": "2022-01-21T20:33:44.094Z"
   },
   {
    "duration": 58,
    "start_time": "2022-01-21T20:33:44.103Z"
   },
   {
    "duration": 447,
    "start_time": "2022-01-21T20:33:44.163Z"
   },
   {
    "duration": 3,
    "start_time": "2022-01-21T20:33:44.613Z"
   },
   {
    "duration": 21,
    "start_time": "2022-01-21T20:33:44.618Z"
   },
   {
    "duration": 20,
    "start_time": "2022-01-21T20:33:44.641Z"
   },
   {
    "duration": 31,
    "start_time": "2022-01-21T20:33:44.663Z"
   },
   {
    "duration": 905,
    "start_time": "2022-01-21T20:33:44.696Z"
   },
   {
    "duration": 4,
    "start_time": "2022-01-21T20:33:45.604Z"
   },
   {
    "duration": 34,
    "start_time": "2022-01-21T20:33:45.610Z"
   },
   {
    "duration": 648,
    "start_time": "2022-01-21T20:33:45.647Z"
   },
   {
    "duration": 368,
    "start_time": "2022-01-21T20:33:46.298Z"
   },
   {
    "duration": 3,
    "start_time": "2022-01-21T20:33:46.668Z"
   },
   {
    "duration": 14,
    "start_time": "2022-01-21T20:33:46.674Z"
   },
   {
    "duration": 842,
    "start_time": "2022-01-21T20:33:46.691Z"
   },
   {
    "duration": 1194,
    "start_time": "2022-01-21T20:33:47.535Z"
   },
   {
    "duration": 2675,
    "start_time": "2022-01-21T20:34:07.925Z"
   },
   {
    "duration": 2671,
    "start_time": "2022-01-21T20:34:07.931Z"
   },
   {
    "duration": 2670,
    "start_time": "2022-01-21T20:34:07.933Z"
   },
   {
    "duration": 2670,
    "start_time": "2022-01-21T20:34:07.935Z"
   },
   {
    "duration": 2669,
    "start_time": "2022-01-21T20:34:07.937Z"
   },
   {
    "duration": 2669,
    "start_time": "2022-01-21T20:34:07.939Z"
   },
   {
    "duration": 2667,
    "start_time": "2022-01-21T20:34:07.942Z"
   },
   {
    "duration": 2667,
    "start_time": "2022-01-21T20:34:07.944Z"
   },
   {
    "duration": 2667,
    "start_time": "2022-01-21T20:34:07.945Z"
   },
   {
    "duration": 2666,
    "start_time": "2022-01-21T20:34:07.947Z"
   },
   {
    "duration": 2667,
    "start_time": "2022-01-21T20:34:07.948Z"
   },
   {
    "duration": 2667,
    "start_time": "2022-01-21T20:34:07.949Z"
   },
   {
    "duration": 2667,
    "start_time": "2022-01-21T20:34:07.951Z"
   },
   {
    "duration": 2667,
    "start_time": "2022-01-21T20:34:07.952Z"
   },
   {
    "duration": 2668,
    "start_time": "2022-01-21T20:34:07.953Z"
   },
   {
    "duration": 2667,
    "start_time": "2022-01-21T20:34:07.955Z"
   },
   {
    "duration": 2667,
    "start_time": "2022-01-21T20:34:07.956Z"
   },
   {
    "duration": 2668,
    "start_time": "2022-01-21T20:34:07.957Z"
   },
   {
    "duration": 2663,
    "start_time": "2022-01-21T20:34:07.963Z"
   },
   {
    "duration": 2663,
    "start_time": "2022-01-21T20:34:07.965Z"
   },
   {
    "duration": 2662,
    "start_time": "2022-01-21T20:34:07.967Z"
   },
   {
    "duration": 2663,
    "start_time": "2022-01-21T20:34:07.968Z"
   },
   {
    "duration": 2664,
    "start_time": "2022-01-21T20:34:07.969Z"
   },
   {
    "duration": 2664,
    "start_time": "2022-01-21T20:34:07.970Z"
   },
   {
    "duration": 2663,
    "start_time": "2022-01-21T20:34:07.972Z"
   },
   {
    "duration": 2663,
    "start_time": "2022-01-21T20:34:07.973Z"
   },
   {
    "duration": 2663,
    "start_time": "2022-01-21T20:34:07.974Z"
   },
   {
    "duration": 2682,
    "start_time": "2022-01-21T20:34:07.976Z"
   },
   {
    "duration": 5,
    "start_time": "2022-01-21T20:34:21.599Z"
   },
   {
    "duration": 47,
    "start_time": "2022-01-21T20:34:21.607Z"
   },
   {
    "duration": 35,
    "start_time": "2022-01-21T20:34:21.658Z"
   },
   {
    "duration": 5,
    "start_time": "2022-01-21T20:34:21.697Z"
   },
   {
    "duration": 55,
    "start_time": "2022-01-21T20:34:21.705Z"
   },
   {
    "duration": 31,
    "start_time": "2022-01-21T20:34:21.763Z"
   },
   {
    "duration": 11,
    "start_time": "2022-01-21T20:34:21.797Z"
   },
   {
    "duration": 60,
    "start_time": "2022-01-21T20:34:21.811Z"
   },
   {
    "duration": 6,
    "start_time": "2022-01-21T20:34:21.875Z"
   },
   {
    "duration": 20,
    "start_time": "2022-01-21T20:34:21.884Z"
   },
   {
    "duration": 406,
    "start_time": "2022-01-21T20:34:21.906Z"
   },
   {
    "duration": 3,
    "start_time": "2022-01-21T20:34:22.315Z"
   },
   {
    "duration": 9,
    "start_time": "2022-01-21T20:34:22.320Z"
   },
   {
    "duration": 28,
    "start_time": "2022-01-21T20:34:22.331Z"
   },
   {
    "duration": 22,
    "start_time": "2022-01-21T20:34:22.361Z"
   },
   {
    "duration": 956,
    "start_time": "2022-01-21T20:34:22.386Z"
   },
   {
    "duration": 4,
    "start_time": "2022-01-21T20:34:23.344Z"
   },
   {
    "duration": 31,
    "start_time": "2022-01-21T20:34:23.350Z"
   },
   {
    "duration": 645,
    "start_time": "2022-01-21T20:34:23.383Z"
   },
   {
    "duration": 359,
    "start_time": "2022-01-21T20:34:24.030Z"
   },
   {
    "duration": 4,
    "start_time": "2022-01-21T20:34:24.391Z"
   },
   {
    "duration": 13,
    "start_time": "2022-01-21T20:34:24.397Z"
   },
   {
    "duration": 774,
    "start_time": "2022-01-21T20:34:24.412Z"
   },
   {
    "duration": 1326,
    "start_time": "2022-01-21T20:34:25.188Z"
   },
   {
    "duration": 27,
    "start_time": "2022-01-21T20:34:26.516Z"
   },
   {
    "duration": 22,
    "start_time": "2022-01-21T20:34:26.545Z"
   },
   {
    "duration": 6,
    "start_time": "2022-01-21T20:34:26.572Z"
   },
   {
    "duration": 424,
    "start_time": "2022-01-21T20:34:26.581Z"
   },
   {
    "duration": 4,
    "start_time": "2022-01-21T20:36:02.569Z"
   },
   {
    "duration": 48,
    "start_time": "2022-01-21T20:36:02.576Z"
   },
   {
    "duration": 46,
    "start_time": "2022-01-21T20:36:02.627Z"
   },
   {
    "duration": 5,
    "start_time": "2022-01-21T20:36:02.675Z"
   },
   {
    "duration": 22,
    "start_time": "2022-01-21T20:36:02.682Z"
   },
   {
    "duration": 53,
    "start_time": "2022-01-21T20:36:02.707Z"
   },
   {
    "duration": 11,
    "start_time": "2022-01-21T20:36:02.763Z"
   },
   {
    "duration": 31,
    "start_time": "2022-01-21T20:36:02.776Z"
   },
   {
    "duration": 6,
    "start_time": "2022-01-21T20:36:02.811Z"
   },
   {
    "duration": 54,
    "start_time": "2022-01-21T20:36:02.819Z"
   },
   {
    "duration": 400,
    "start_time": "2022-01-21T20:36:02.875Z"
   },
   {
    "duration": 3,
    "start_time": "2022-01-21T20:36:03.277Z"
   },
   {
    "duration": 9,
    "start_time": "2022-01-21T20:36:03.282Z"
   },
   {
    "duration": 7,
    "start_time": "2022-01-21T20:36:03.294Z"
   },
   {
    "duration": 56,
    "start_time": "2022-01-21T20:36:03.303Z"
   },
   {
    "duration": 877,
    "start_time": "2022-01-21T20:36:03.361Z"
   },
   {
    "duration": 4,
    "start_time": "2022-01-21T20:36:04.240Z"
   },
   {
    "duration": 41,
    "start_time": "2022-01-21T20:36:04.246Z"
   },
   {
    "duration": 703,
    "start_time": "2022-01-21T20:36:04.290Z"
   },
   {
    "duration": 370,
    "start_time": "2022-01-21T20:36:04.995Z"
   },
   {
    "duration": 4,
    "start_time": "2022-01-21T20:36:05.367Z"
   },
   {
    "duration": 12,
    "start_time": "2022-01-21T20:36:05.373Z"
   },
   {
    "duration": 849,
    "start_time": "2022-01-21T20:36:05.387Z"
   },
   {
    "duration": 1203,
    "start_time": "2022-01-21T20:36:06.238Z"
   },
   {
    "duration": 366,
    "start_time": "2022-01-21T20:37:19.176Z"
   },
   {
    "duration": 413,
    "start_time": "2022-01-21T20:37:32.933Z"
   },
   {
    "duration": 355,
    "start_time": "2022-01-21T20:38:34.763Z"
   },
   {
    "duration": 4,
    "start_time": "2022-01-21T20:38:55.343Z"
   },
   {
    "duration": 48,
    "start_time": "2022-01-21T20:38:55.350Z"
   },
   {
    "duration": 33,
    "start_time": "2022-01-21T20:38:55.401Z"
   },
   {
    "duration": 4,
    "start_time": "2022-01-21T20:38:55.460Z"
   },
   {
    "duration": 26,
    "start_time": "2022-01-21T20:38:55.466Z"
   },
   {
    "duration": 36,
    "start_time": "2022-01-21T20:38:55.494Z"
   },
   {
    "duration": 27,
    "start_time": "2022-01-21T20:38:55.532Z"
   },
   {
    "duration": 29,
    "start_time": "2022-01-21T20:38:55.563Z"
   },
   {
    "duration": 6,
    "start_time": "2022-01-21T20:38:55.595Z"
   },
   {
    "duration": 57,
    "start_time": "2022-01-21T20:38:55.603Z"
   },
   {
    "duration": 389,
    "start_time": "2022-01-21T20:38:55.663Z"
   },
   {
    "duration": 6,
    "start_time": "2022-01-21T20:38:56.054Z"
   },
   {
    "duration": 8,
    "start_time": "2022-01-21T20:38:56.062Z"
   },
   {
    "duration": 7,
    "start_time": "2022-01-21T20:38:56.072Z"
   },
   {
    "duration": 23,
    "start_time": "2022-01-21T20:38:56.081Z"
   },
   {
    "duration": 955,
    "start_time": "2022-01-21T20:38:56.107Z"
   },
   {
    "duration": 3,
    "start_time": "2022-01-21T20:38:57.065Z"
   },
   {
    "duration": 28,
    "start_time": "2022-01-21T20:38:57.070Z"
   },
   {
    "duration": 673,
    "start_time": "2022-01-21T20:38:57.101Z"
   },
   {
    "duration": 348,
    "start_time": "2022-01-21T20:38:57.777Z"
   },
   {
    "duration": 3,
    "start_time": "2022-01-21T20:38:58.127Z"
   },
   {
    "duration": 31,
    "start_time": "2022-01-21T20:38:58.133Z"
   },
   {
    "duration": 758,
    "start_time": "2022-01-21T20:38:58.169Z"
   },
   {
    "duration": 1245,
    "start_time": "2022-01-21T20:38:58.930Z"
   },
   {
    "duration": 361,
    "start_time": "2022-01-21T20:39:00.178Z"
   },
   {
    "duration": 2723,
    "start_time": "2022-01-21T20:38:57.820Z"
   },
   {
    "duration": 1090,
    "start_time": "2022-01-21T20:39:22.954Z"
   },
   {
    "duration": 359,
    "start_time": "2022-01-21T20:39:51.204Z"
   },
   {
    "duration": 302,
    "start_time": "2022-01-21T20:41:15.607Z"
   },
   {
    "duration": 348,
    "start_time": "2022-01-21T20:41:21.089Z"
   },
   {
    "duration": 11,
    "start_time": "2022-01-21T20:41:29.533Z"
   },
   {
    "duration": 18,
    "start_time": "2022-01-21T20:41:38.132Z"
   },
   {
    "duration": 18,
    "start_time": "2022-01-21T20:41:43.467Z"
   },
   {
    "duration": 28,
    "start_time": "2022-01-21T20:42:06.617Z"
   },
   {
    "duration": 15454,
    "start_time": "2022-01-21T20:42:26.095Z"
   },
   {
    "duration": 446,
    "start_time": "2022-01-21T20:43:07.579Z"
   },
   {
    "duration": 522,
    "start_time": "2022-01-21T20:47:06.117Z"
   },
   {
    "duration": 12,
    "start_time": "2022-01-21T20:52:53.169Z"
   },
   {
    "duration": 2763,
    "start_time": "2022-01-21T20:53:15.037Z"
   },
   {
    "duration": 7,
    "start_time": "2022-01-21T20:53:30.329Z"
   },
   {
    "duration": 4,
    "start_time": "2022-01-21T20:53:37.651Z"
   },
   {
    "duration": 49,
    "start_time": "2022-01-21T20:53:37.658Z"
   },
   {
    "duration": 56,
    "start_time": "2022-01-21T20:53:37.710Z"
   },
   {
    "duration": 5,
    "start_time": "2022-01-21T20:53:37.769Z"
   },
   {
    "duration": 21,
    "start_time": "2022-01-21T20:53:37.777Z"
   },
   {
    "duration": 71,
    "start_time": "2022-01-21T20:53:37.801Z"
   },
   {
    "duration": 12,
    "start_time": "2022-01-21T20:53:37.875Z"
   },
   {
    "duration": 31,
    "start_time": "2022-01-21T20:53:37.889Z"
   },
   {
    "duration": 7,
    "start_time": "2022-01-21T20:53:37.958Z"
   },
   {
    "duration": 20,
    "start_time": "2022-01-21T20:53:37.968Z"
   },
   {
    "duration": 397,
    "start_time": "2022-01-21T20:53:37.990Z"
   },
   {
    "duration": 3,
    "start_time": "2022-01-21T20:53:38.389Z"
   },
   {
    "duration": 9,
    "start_time": "2022-01-21T20:53:38.394Z"
   },
   {
    "duration": 7,
    "start_time": "2022-01-21T20:53:38.406Z"
   },
   {
    "duration": 56,
    "start_time": "2022-01-21T20:53:38.415Z"
   },
   {
    "duration": 929,
    "start_time": "2022-01-21T20:53:38.474Z"
   },
   {
    "duration": 5,
    "start_time": "2022-01-21T20:53:39.406Z"
   },
   {
    "duration": 52,
    "start_time": "2022-01-21T20:53:39.414Z"
   },
   {
    "duration": 679,
    "start_time": "2022-01-21T20:53:39.469Z"
   },
   {
    "duration": 369,
    "start_time": "2022-01-21T20:53:40.151Z"
   },
   {
    "duration": 4,
    "start_time": "2022-01-21T20:53:40.522Z"
   },
   {
    "duration": 13,
    "start_time": "2022-01-21T20:53:40.528Z"
   },
   {
    "duration": 855,
    "start_time": "2022-01-21T20:53:40.559Z"
   },
   {
    "duration": 1201,
    "start_time": "2022-01-21T20:53:41.416Z"
   },
   {
    "duration": 13,
    "start_time": "2022-01-21T20:53:42.619Z"
   },
   {
    "duration": 492,
    "start_time": "2022-01-21T20:53:42.635Z"
   },
   {
    "duration": 504,
    "start_time": "2022-01-21T20:53:43.131Z"
   },
   {
    "duration": 22,
    "start_time": "2022-01-21T20:53:43.638Z"
   },
   {
    "duration": 7,
    "start_time": "2022-01-21T20:53:43.663Z"
   },
   {
    "duration": 389,
    "start_time": "2022-01-21T20:56:09.083Z"
   },
   {
    "duration": 1476,
    "start_time": "2022-01-22T12:17:57.453Z"
   },
   {
    "duration": 48,
    "start_time": "2022-01-22T12:17:58.933Z"
   },
   {
    "duration": 39,
    "start_time": "2022-01-22T12:17:58.985Z"
   },
   {
    "duration": 4,
    "start_time": "2022-01-22T12:17:59.027Z"
   },
   {
    "duration": 44,
    "start_time": "2022-01-22T12:17:59.033Z"
   },
   {
    "duration": 30,
    "start_time": "2022-01-22T12:17:59.080Z"
   },
   {
    "duration": 47,
    "start_time": "2022-01-22T12:17:59.112Z"
   },
   {
    "duration": 29,
    "start_time": "2022-01-22T12:17:59.161Z"
   },
   {
    "duration": 7,
    "start_time": "2022-01-22T12:17:59.194Z"
   },
   {
    "duration": 21,
    "start_time": "2022-01-22T12:17:59.204Z"
   },
   {
    "duration": 408,
    "start_time": "2022-01-22T12:17:59.227Z"
   },
   {
    "duration": 3,
    "start_time": "2022-01-22T12:17:59.637Z"
   },
   {
    "duration": 8,
    "start_time": "2022-01-22T12:17:59.658Z"
   },
   {
    "duration": 6,
    "start_time": "2022-01-22T12:17:59.668Z"
   },
   {
    "duration": 24,
    "start_time": "2022-01-22T12:17:59.677Z"
   },
   {
    "duration": 925,
    "start_time": "2022-01-22T12:17:59.704Z"
   },
   {
    "duration": 3,
    "start_time": "2022-01-22T12:18:00.632Z"
   },
   {
    "duration": 45,
    "start_time": "2022-01-22T12:18:00.638Z"
   },
   {
    "duration": 640,
    "start_time": "2022-01-22T12:18:00.686Z"
   },
   {
    "duration": 362,
    "start_time": "2022-01-22T12:18:01.329Z"
   },
   {
    "duration": 5,
    "start_time": "2022-01-22T12:18:01.694Z"
   },
   {
    "duration": 12,
    "start_time": "2022-01-22T12:18:01.701Z"
   },
   {
    "duration": 819,
    "start_time": "2022-01-22T12:18:01.716Z"
   },
   {
    "duration": 1236,
    "start_time": "2022-01-22T12:18:02.537Z"
   },
   {
    "duration": 10,
    "start_time": "2022-01-22T12:18:03.775Z"
   },
   {
    "duration": 447,
    "start_time": "2022-01-22T12:18:03.788Z"
   },
   {
    "duration": 488,
    "start_time": "2022-01-22T12:18:04.239Z"
   },
   {
    "duration": 12,
    "start_time": "2022-01-22T12:18:04.729Z"
   },
   {
    "duration": 7,
    "start_time": "2022-01-22T12:18:04.760Z"
   },
   {
    "duration": 424,
    "start_time": "2022-01-22T12:18:04.770Z"
   },
   {
    "duration": 399,
    "start_time": "2022-01-22T12:18:50.891Z"
   },
   {
    "duration": 16,
    "start_time": "2022-01-22T12:20:20.237Z"
   },
   {
    "duration": 22,
    "start_time": "2022-01-22T12:20:36.347Z"
   },
   {
    "duration": 29,
    "start_time": "2022-01-22T12:21:41.120Z"
   },
   {
    "duration": 26,
    "start_time": "2022-01-22T12:22:03.332Z"
   },
   {
    "duration": 1490,
    "start_time": "2022-01-22T17:41:53.452Z"
   },
   {
    "duration": 42,
    "start_time": "2022-01-22T17:41:54.944Z"
   },
   {
    "duration": 43,
    "start_time": "2022-01-22T17:41:54.989Z"
   },
   {
    "duration": 3,
    "start_time": "2022-01-22T17:41:55.035Z"
   },
   {
    "duration": 25,
    "start_time": "2022-01-22T17:41:55.040Z"
   },
   {
    "duration": 60,
    "start_time": "2022-01-22T17:41:55.068Z"
   },
   {
    "duration": 12,
    "start_time": "2022-01-22T17:41:55.131Z"
   },
   {
    "duration": 27,
    "start_time": "2022-01-22T17:41:55.146Z"
   },
   {
    "duration": 8,
    "start_time": "2022-01-22T17:41:55.176Z"
   },
   {
    "duration": 62,
    "start_time": "2022-01-22T17:41:55.187Z"
   },
   {
    "duration": 530,
    "start_time": "2022-01-22T17:41:55.252Z"
   },
   {
    "duration": 4,
    "start_time": "2022-01-22T17:41:55.785Z"
   },
   {
    "duration": 11,
    "start_time": "2022-01-22T17:41:55.791Z"
   },
   {
    "duration": 25,
    "start_time": "2022-01-22T17:41:55.805Z"
   },
   {
    "duration": 21,
    "start_time": "2022-01-22T17:41:55.833Z"
   },
   {
    "duration": 1227,
    "start_time": "2022-01-22T17:41:55.857Z"
   },
   {
    "duration": 5,
    "start_time": "2022-01-22T17:41:57.087Z"
   },
   {
    "duration": 48,
    "start_time": "2022-01-22T17:41:57.095Z"
   },
   {
    "duration": 624,
    "start_time": "2022-01-22T17:41:57.145Z"
   },
   {
    "duration": 468,
    "start_time": "2022-01-22T17:41:57.773Z"
   },
   {
    "duration": 7,
    "start_time": "2022-01-22T17:41:58.244Z"
   },
   {
    "duration": 14,
    "start_time": "2022-01-22T17:41:58.254Z"
   },
   {
    "duration": 1019,
    "start_time": "2022-01-22T17:41:58.274Z"
   },
   {
    "duration": 1164,
    "start_time": "2022-01-22T17:41:59.296Z"
   },
   {
    "duration": 11,
    "start_time": "2022-01-22T17:42:00.463Z"
   },
   {
    "duration": 476,
    "start_time": "2022-01-22T17:42:00.477Z"
   },
   {
    "duration": 443,
    "start_time": "2022-01-22T17:42:00.956Z"
   },
   {
    "duration": 25,
    "start_time": "2022-01-22T17:42:01.401Z"
   },
   {
    "duration": 6,
    "start_time": "2022-01-22T17:42:01.428Z"
   },
   {
    "duration": 400,
    "start_time": "2022-01-22T17:42:01.436Z"
   },
   {
    "duration": 21,
    "start_time": "2022-01-22T17:42:01.839Z"
   },
   {
    "duration": 23,
    "start_time": "2022-01-22T17:42:01.862Z"
   },
   {
    "duration": 49,
    "start_time": "2022-01-22T17:42:01.888Z"
   },
   {
    "duration": 8,
    "start_time": "2022-01-22T17:44:27.654Z"
   },
   {
    "duration": 16,
    "start_time": "2022-01-22T17:44:35.043Z"
   },
   {
    "duration": 5,
    "start_time": "2022-01-22T17:46:26.730Z"
   },
   {
    "duration": 89,
    "start_time": "2022-01-22T17:46:26.739Z"
   },
   {
    "duration": 46,
    "start_time": "2022-01-22T17:46:26.832Z"
   },
   {
    "duration": 5,
    "start_time": "2022-01-22T17:46:26.881Z"
   },
   {
    "duration": 56,
    "start_time": "2022-01-22T17:46:26.889Z"
   },
   {
    "duration": 32,
    "start_time": "2022-01-22T17:46:26.948Z"
   },
   {
    "duration": 41,
    "start_time": "2022-01-22T17:46:26.982Z"
   },
   {
    "duration": 30,
    "start_time": "2022-01-22T17:46:27.025Z"
   },
   {
    "duration": 6,
    "start_time": "2022-01-22T17:46:27.059Z"
   },
   {
    "duration": 61,
    "start_time": "2022-01-22T17:46:27.069Z"
   },
   {
    "duration": 375,
    "start_time": "2022-01-22T17:46:27.132Z"
   },
   {
    "duration": 4,
    "start_time": "2022-01-22T17:46:27.509Z"
   },
   {
    "duration": 9,
    "start_time": "2022-01-22T17:46:27.525Z"
   },
   {
    "duration": 11,
    "start_time": "2022-01-22T17:46:27.537Z"
   },
   {
    "duration": 29,
    "start_time": "2022-01-22T17:46:27.551Z"
   },
   {
    "duration": 1056,
    "start_time": "2022-01-22T17:46:27.583Z"
   },
   {
    "duration": 3,
    "start_time": "2022-01-22T17:46:28.642Z"
   },
   {
    "duration": 28,
    "start_time": "2022-01-22T17:46:28.648Z"
   },
   {
    "duration": 668,
    "start_time": "2022-01-22T17:46:28.678Z"
   },
   {
    "duration": 406,
    "start_time": "2022-01-22T17:46:29.348Z"
   },
   {
    "duration": 4,
    "start_time": "2022-01-22T17:46:29.757Z"
   },
   {
    "duration": 11,
    "start_time": "2022-01-22T17:46:29.764Z"
   },
   {
    "duration": 796,
    "start_time": "2022-01-22T17:46:29.778Z"
   },
   {
    "duration": 1533,
    "start_time": "2022-01-22T17:46:30.576Z"
   },
   {
    "duration": 22,
    "start_time": "2022-01-22T17:46:32.112Z"
   },
   {
    "duration": 468,
    "start_time": "2022-01-22T17:46:32.137Z"
   },
   {
    "duration": 579,
    "start_time": "2022-01-22T17:46:32.624Z"
   },
   {
    "duration": 22,
    "start_time": "2022-01-22T17:46:33.207Z"
   },
   {
    "duration": 10,
    "start_time": "2022-01-22T17:46:33.232Z"
   },
   {
    "duration": 414,
    "start_time": "2022-01-22T17:46:33.244Z"
   },
   {
    "duration": 22,
    "start_time": "2022-01-22T17:46:33.661Z"
   },
   {
    "duration": 40,
    "start_time": "2022-01-22T17:46:33.685Z"
   },
   {
    "duration": 21,
    "start_time": "2022-01-22T17:46:33.728Z"
   },
   {
    "duration": 11,
    "start_time": "2022-01-22T17:46:33.751Z"
   },
   {
    "duration": 4,
    "start_time": "2022-01-22T17:56:21.524Z"
   },
   {
    "duration": 54,
    "start_time": "2022-01-22T17:56:21.531Z"
   },
   {
    "duration": 55,
    "start_time": "2022-01-22T17:56:21.588Z"
   },
   {
    "duration": 4,
    "start_time": "2022-01-22T17:56:21.646Z"
   },
   {
    "duration": 27,
    "start_time": "2022-01-22T17:56:21.652Z"
   },
   {
    "duration": 57,
    "start_time": "2022-01-22T17:56:21.681Z"
   },
   {
    "duration": 15,
    "start_time": "2022-01-22T17:56:21.740Z"
   },
   {
    "duration": 27,
    "start_time": "2022-01-22T17:56:21.758Z"
   },
   {
    "duration": 6,
    "start_time": "2022-01-22T17:56:21.824Z"
   },
   {
    "duration": 27,
    "start_time": "2022-01-22T17:56:21.835Z"
   },
   {
    "duration": 437,
    "start_time": "2022-01-22T17:56:21.866Z"
   },
   {
    "duration": 4,
    "start_time": "2022-01-22T17:56:22.306Z"
   },
   {
    "duration": 13,
    "start_time": "2022-01-22T17:56:22.324Z"
   },
   {
    "duration": 10,
    "start_time": "2022-01-22T17:56:22.340Z"
   },
   {
    "duration": 25,
    "start_time": "2022-01-22T17:56:22.353Z"
   },
   {
    "duration": 980,
    "start_time": "2022-01-22T17:56:22.382Z"
   },
   {
    "duration": 4,
    "start_time": "2022-01-22T17:56:23.364Z"
   },
   {
    "duration": 49,
    "start_time": "2022-01-22T17:56:23.371Z"
   },
   {
    "duration": 688,
    "start_time": "2022-01-22T17:56:23.424Z"
   },
   {
    "duration": 357,
    "start_time": "2022-01-22T17:56:24.114Z"
   },
   {
    "duration": 4,
    "start_time": "2022-01-22T17:56:24.474Z"
   },
   {
    "duration": 12,
    "start_time": "2022-01-22T17:56:24.481Z"
   },
   {
    "duration": 934,
    "start_time": "2022-01-22T17:56:24.496Z"
   },
   {
    "duration": 1114,
    "start_time": "2022-01-22T17:56:25.433Z"
   },
   {
    "duration": 10,
    "start_time": "2022-01-22T17:56:26.550Z"
   },
   {
    "duration": 418,
    "start_time": "2022-01-22T17:56:26.562Z"
   },
   {
    "duration": 460,
    "start_time": "2022-01-22T17:56:26.985Z"
   },
   {
    "duration": 11,
    "start_time": "2022-01-22T17:56:27.448Z"
   },
   {
    "duration": 7,
    "start_time": "2022-01-22T17:56:27.462Z"
   },
   {
    "duration": 413,
    "start_time": "2022-01-22T17:56:27.471Z"
   },
   {
    "duration": 42,
    "start_time": "2022-01-22T17:56:27.887Z"
   },
   {
    "duration": 21,
    "start_time": "2022-01-22T17:56:27.931Z"
   },
   {
    "duration": 20,
    "start_time": "2022-01-22T17:56:27.955Z"
   },
   {
    "duration": 7,
    "start_time": "2022-01-22T17:56:27.978Z"
   },
   {
    "duration": 145,
    "start_time": "2022-01-22T17:56:39.350Z"
   },
   {
    "duration": 175,
    "start_time": "2022-01-22T17:56:51.984Z"
   },
   {
    "duration": 185,
    "start_time": "2022-01-22T17:57:00.004Z"
   },
   {
    "duration": 115,
    "start_time": "2022-01-22T17:58:32.648Z"
   },
   {
    "duration": 150,
    "start_time": "2022-01-22T18:05:03.745Z"
   },
   {
    "duration": 11,
    "start_time": "2022-01-22T18:09:27.111Z"
   },
   {
    "duration": 4,
    "start_time": "2022-01-22T18:09:54.622Z"
   },
   {
    "duration": 50,
    "start_time": "2022-01-22T18:09:54.629Z"
   },
   {
    "duration": 59,
    "start_time": "2022-01-22T18:09:54.683Z"
   },
   {
    "duration": 5,
    "start_time": "2022-01-22T18:09:54.746Z"
   },
   {
    "duration": 20,
    "start_time": "2022-01-22T18:09:54.754Z"
   },
   {
    "duration": 71,
    "start_time": "2022-01-22T18:09:54.777Z"
   },
   {
    "duration": 10,
    "start_time": "2022-01-22T18:09:54.851Z"
   },
   {
    "duration": 29,
    "start_time": "2022-01-22T18:09:54.864Z"
   },
   {
    "duration": 6,
    "start_time": "2022-01-22T18:09:54.926Z"
   },
   {
    "duration": 20,
    "start_time": "2022-01-22T18:09:54.936Z"
   },
   {
    "duration": 389,
    "start_time": "2022-01-22T18:09:54.960Z"
   },
   {
    "duration": 3,
    "start_time": "2022-01-22T18:09:55.351Z"
   },
   {
    "duration": 12,
    "start_time": "2022-01-22T18:09:55.357Z"
   },
   {
    "duration": 7,
    "start_time": "2022-01-22T18:09:55.371Z"
   },
   {
    "duration": 51,
    "start_time": "2022-01-22T18:09:55.380Z"
   },
   {
    "duration": 851,
    "start_time": "2022-01-22T18:09:55.434Z"
   },
   {
    "duration": 3,
    "start_time": "2022-01-22T18:09:56.288Z"
   },
   {
    "duration": 42,
    "start_time": "2022-01-22T18:09:56.293Z"
   },
   {
    "duration": 771,
    "start_time": "2022-01-22T18:09:56.338Z"
   },
   {
    "duration": 490,
    "start_time": "2022-01-22T18:09:57.112Z"
   },
   {
    "duration": 4,
    "start_time": "2022-01-22T18:09:57.605Z"
   },
   {
    "duration": 23,
    "start_time": "2022-01-22T18:09:57.611Z"
   },
   {
    "duration": 716,
    "start_time": "2022-01-22T18:09:57.636Z"
   },
   {
    "duration": 1113,
    "start_time": "2022-01-22T18:09:58.355Z"
   },
   {
    "duration": 10,
    "start_time": "2022-01-22T18:09:59.470Z"
   },
   {
    "duration": 473,
    "start_time": "2022-01-22T18:09:59.483Z"
   },
   {
    "duration": 443,
    "start_time": "2022-01-22T18:09:59.963Z"
   },
   {
    "duration": 16,
    "start_time": "2022-01-22T18:10:00.408Z"
   },
   {
    "duration": 10,
    "start_time": "2022-01-22T18:10:00.426Z"
   },
   {
    "duration": 388,
    "start_time": "2022-01-22T18:10:00.438Z"
   },
   {
    "duration": 21,
    "start_time": "2022-01-22T18:10:00.828Z"
   },
   {
    "duration": 18,
    "start_time": "2022-01-22T18:10:00.851Z"
   },
   {
    "duration": 21,
    "start_time": "2022-01-22T18:10:00.871Z"
   },
   {
    "duration": 33,
    "start_time": "2022-01-22T18:10:00.895Z"
   },
   {
    "duration": 167,
    "start_time": "2022-01-22T18:10:00.930Z"
   },
   {
    "duration": 170,
    "start_time": "2022-01-22T18:10:01.100Z"
   },
   {
    "duration": 188,
    "start_time": "2022-01-22T18:10:01.272Z"
   },
   {
    "duration": 15,
    "start_time": "2022-01-22T18:10:01.463Z"
   },
   {
    "duration": 4,
    "start_time": "2022-01-22T18:10:50.164Z"
   },
   {
    "duration": 48,
    "start_time": "2022-01-22T18:10:50.171Z"
   },
   {
    "duration": 31,
    "start_time": "2022-01-22T18:10:50.223Z"
   },
   {
    "duration": 4,
    "start_time": "2022-01-22T18:10:50.257Z"
   },
   {
    "duration": 20,
    "start_time": "2022-01-22T18:10:50.263Z"
   },
   {
    "duration": 57,
    "start_time": "2022-01-22T18:10:50.286Z"
   },
   {
    "duration": 11,
    "start_time": "2022-01-22T18:10:50.346Z"
   },
   {
    "duration": 28,
    "start_time": "2022-01-22T18:10:50.359Z"
   },
   {
    "duration": 7,
    "start_time": "2022-01-22T18:10:50.423Z"
   },
   {
    "duration": 29,
    "start_time": "2022-01-22T18:10:50.434Z"
   },
   {
    "duration": 568,
    "start_time": "2022-01-22T18:10:50.466Z"
   },
   {
    "duration": 3,
    "start_time": "2022-01-22T18:10:51.037Z"
   },
   {
    "duration": 9,
    "start_time": "2022-01-22T18:10:51.042Z"
   },
   {
    "duration": 7,
    "start_time": "2022-01-22T18:10:51.053Z"
   },
   {
    "duration": 20,
    "start_time": "2022-01-22T18:10:51.062Z"
   },
   {
    "duration": 863,
    "start_time": "2022-01-22T18:10:51.084Z"
   },
   {
    "duration": 4,
    "start_time": "2022-01-22T18:10:51.949Z"
   },
   {
    "duration": 31,
    "start_time": "2022-01-22T18:10:51.956Z"
   },
   {
    "duration": 653,
    "start_time": "2022-01-22T18:10:51.989Z"
   },
   {
    "duration": 343,
    "start_time": "2022-01-22T18:10:52.645Z"
   },
   {
    "duration": 3,
    "start_time": "2022-01-22T18:10:52.990Z"
   },
   {
    "duration": 27,
    "start_time": "2022-01-22T18:10:52.996Z"
   },
   {
    "duration": 726,
    "start_time": "2022-01-22T18:10:53.025Z"
   },
   {
    "duration": 1289,
    "start_time": "2022-01-22T18:10:53.753Z"
   },
   {
    "duration": 11,
    "start_time": "2022-01-22T18:10:55.044Z"
   },
   {
    "duration": 425,
    "start_time": "2022-01-22T18:10:55.057Z"
   },
   {
    "duration": 463,
    "start_time": "2022-01-22T18:10:55.487Z"
   },
   {
    "duration": 15,
    "start_time": "2022-01-22T18:10:55.954Z"
   },
   {
    "duration": 7,
    "start_time": "2022-01-22T18:10:55.971Z"
   },
   {
    "duration": 420,
    "start_time": "2022-01-22T18:10:55.980Z"
   },
   {
    "duration": 30,
    "start_time": "2022-01-22T18:10:56.403Z"
   },
   {
    "duration": 22,
    "start_time": "2022-01-22T18:10:56.436Z"
   },
   {
    "duration": 20,
    "start_time": "2022-01-22T18:10:56.461Z"
   },
   {
    "duration": 40,
    "start_time": "2022-01-22T18:10:56.484Z"
   },
   {
    "duration": 172,
    "start_time": "2022-01-22T18:10:56.527Z"
   },
   {
    "duration": 180,
    "start_time": "2022-01-22T18:10:56.702Z"
   },
   {
    "duration": 170,
    "start_time": "2022-01-22T18:10:56.884Z"
   },
   {
    "duration": 10,
    "start_time": "2022-01-22T18:10:57.056Z"
   },
   {
    "duration": 18,
    "start_time": "2022-01-22T18:12:42.872Z"
   },
   {
    "duration": 9,
    "start_time": "2022-01-22T18:12:48.549Z"
   },
   {
    "duration": 10,
    "start_time": "2022-01-22T18:13:29.136Z"
   },
   {
    "duration": 613,
    "start_time": "2022-01-22T18:16:03.151Z"
   },
   {
    "duration": 121,
    "start_time": "2022-01-22T18:16:19.315Z"
   },
   {
    "duration": 14,
    "start_time": "2022-01-22T18:16:25.868Z"
   },
   {
    "duration": 8,
    "start_time": "2022-01-22T18:16:30.878Z"
   },
   {
    "duration": 13,
    "start_time": "2022-01-22T18:16:37.862Z"
   },
   {
    "duration": 8,
    "start_time": "2022-01-22T18:16:39.155Z"
   },
   {
    "duration": 427,
    "start_time": "2022-01-22T18:17:03.932Z"
   },
   {
    "duration": 5,
    "start_time": "2022-01-22T18:17:17.680Z"
   },
   {
    "duration": 10,
    "start_time": "2022-01-22T18:17:21.901Z"
   },
   {
    "duration": 12,
    "start_time": "2022-01-22T18:17:37.690Z"
   },
   {
    "duration": 4,
    "start_time": "2022-01-22T18:18:04.618Z"
   },
   {
    "duration": 39,
    "start_time": "2022-01-22T18:18:04.624Z"
   },
   {
    "duration": 72,
    "start_time": "2022-01-22T18:18:04.666Z"
   },
   {
    "duration": 4,
    "start_time": "2022-01-22T18:18:04.741Z"
   },
   {
    "duration": 21,
    "start_time": "2022-01-22T18:18:04.747Z"
   },
   {
    "duration": 58,
    "start_time": "2022-01-22T18:18:04.771Z"
   },
   {
    "duration": 10,
    "start_time": "2022-01-22T18:18:04.832Z"
   },
   {
    "duration": 26,
    "start_time": "2022-01-22T18:18:04.845Z"
   },
   {
    "duration": 6,
    "start_time": "2022-01-22T18:18:04.874Z"
   },
   {
    "duration": 55,
    "start_time": "2022-01-22T18:18:04.882Z"
   },
   {
    "duration": 365,
    "start_time": "2022-01-22T18:18:04.939Z"
   },
   {
    "duration": 4,
    "start_time": "2022-01-22T18:18:05.306Z"
   },
   {
    "duration": 7,
    "start_time": "2022-01-22T18:18:05.324Z"
   },
   {
    "duration": 6,
    "start_time": "2022-01-22T18:18:05.333Z"
   },
   {
    "duration": 21,
    "start_time": "2022-01-22T18:18:05.341Z"
   },
   {
    "duration": 895,
    "start_time": "2022-01-22T18:18:05.364Z"
   },
   {
    "duration": 5,
    "start_time": "2022-01-22T18:18:06.262Z"
   },
   {
    "duration": 29,
    "start_time": "2022-01-22T18:18:06.269Z"
   },
   {
    "duration": 637,
    "start_time": "2022-01-22T18:18:06.300Z"
   },
   {
    "duration": 402,
    "start_time": "2022-01-22T18:18:06.940Z"
   },
   {
    "duration": 4,
    "start_time": "2022-01-22T18:18:07.344Z"
   },
   {
    "duration": 12,
    "start_time": "2022-01-22T18:18:07.351Z"
   },
   {
    "duration": 746,
    "start_time": "2022-01-22T18:18:07.369Z"
   },
   {
    "duration": 1268,
    "start_time": "2022-01-22T18:18:08.122Z"
   },
   {
    "duration": 9,
    "start_time": "2022-01-22T18:18:09.393Z"
   },
   {
    "duration": 439,
    "start_time": "2022-01-22T18:18:09.404Z"
   },
   {
    "duration": 806,
    "start_time": "2022-01-22T18:18:09.845Z"
   },
   {
    "duration": 12,
    "start_time": "2022-01-22T18:18:10.653Z"
   },
   {
    "duration": 6,
    "start_time": "2022-01-22T18:18:10.667Z"
   },
   {
    "duration": 402,
    "start_time": "2022-01-22T18:18:10.675Z"
   },
   {
    "duration": 22,
    "start_time": "2022-01-22T18:18:11.079Z"
   },
   {
    "duration": 37,
    "start_time": "2022-01-22T18:18:11.103Z"
   },
   {
    "duration": 22,
    "start_time": "2022-01-22T18:18:11.143Z"
   },
   {
    "duration": 8,
    "start_time": "2022-01-22T18:18:11.167Z"
   },
   {
    "duration": 189,
    "start_time": "2022-01-22T18:18:11.177Z"
   },
   {
    "duration": 172,
    "start_time": "2022-01-22T18:18:11.369Z"
   },
   {
    "duration": 170,
    "start_time": "2022-01-22T18:18:11.543Z"
   },
   {
    "duration": 18,
    "start_time": "2022-01-22T18:18:11.716Z"
   },
   {
    "duration": 10,
    "start_time": "2022-01-22T18:18:11.737Z"
   },
   {
    "duration": 15,
    "start_time": "2022-01-22T18:18:11.749Z"
   },
   {
    "duration": 8,
    "start_time": "2022-01-22T18:18:11.766Z"
   },
   {
    "duration": 5,
    "start_time": "2022-01-22T18:20:57.359Z"
   },
   {
    "duration": 48,
    "start_time": "2022-01-22T18:20:57.368Z"
   },
   {
    "duration": 33,
    "start_time": "2022-01-22T18:20:57.419Z"
   },
   {
    "duration": 4,
    "start_time": "2022-01-22T18:20:57.455Z"
   },
   {
    "duration": 30,
    "start_time": "2022-01-22T18:20:57.462Z"
   },
   {
    "duration": 39,
    "start_time": "2022-01-22T18:20:57.524Z"
   },
   {
    "duration": 13,
    "start_time": "2022-01-22T18:20:57.567Z"
   },
   {
    "duration": 57,
    "start_time": "2022-01-22T18:20:57.582Z"
   },
   {
    "duration": 7,
    "start_time": "2022-01-22T18:20:57.645Z"
   },
   {
    "duration": 25,
    "start_time": "2022-01-22T18:20:57.656Z"
   },
   {
    "duration": 453,
    "start_time": "2022-01-22T18:20:57.683Z"
   },
   {
    "duration": 4,
    "start_time": "2022-01-22T18:20:58.139Z"
   },
   {
    "duration": 13,
    "start_time": "2022-01-22T18:20:58.145Z"
   },
   {
    "duration": 7,
    "start_time": "2022-01-22T18:20:58.161Z"
   },
   {
    "duration": 52,
    "start_time": "2022-01-22T18:20:58.171Z"
   },
   {
    "duration": 1032,
    "start_time": "2022-01-22T18:20:58.226Z"
   },
   {
    "duration": 4,
    "start_time": "2022-01-22T18:20:59.260Z"
   },
   {
    "duration": 28,
    "start_time": "2022-01-22T18:20:59.266Z"
   },
   {
    "duration": 717,
    "start_time": "2022-01-22T18:20:59.296Z"
   },
   {
    "duration": 411,
    "start_time": "2022-01-22T18:21:00.024Z"
   },
   {
    "duration": 4,
    "start_time": "2022-01-22T18:21:00.438Z"
   },
   {
    "duration": 18,
    "start_time": "2022-01-22T18:21:00.446Z"
   },
   {
    "duration": 791,
    "start_time": "2022-01-22T18:21:00.467Z"
   },
   {
    "duration": 1391,
    "start_time": "2022-01-22T18:21:01.260Z"
   },
   {
    "duration": 10,
    "start_time": "2022-01-22T18:21:02.654Z"
   },
   {
    "duration": 510,
    "start_time": "2022-01-22T18:21:02.667Z"
   },
   {
    "duration": 542,
    "start_time": "2022-01-22T18:21:03.182Z"
   },
   {
    "duration": 13,
    "start_time": "2022-01-22T18:21:03.727Z"
   },
   {
    "duration": 9,
    "start_time": "2022-01-22T18:21:03.743Z"
   },
   {
    "duration": 401,
    "start_time": "2022-01-22T18:21:03.754Z"
   },
   {
    "duration": 25,
    "start_time": "2022-01-22T18:21:04.158Z"
   },
   {
    "duration": 49,
    "start_time": "2022-01-22T18:21:04.185Z"
   },
   {
    "duration": 25,
    "start_time": "2022-01-22T18:21:04.237Z"
   },
   {
    "duration": 9,
    "start_time": "2022-01-22T18:21:04.265Z"
   },
   {
    "duration": 237,
    "start_time": "2022-01-22T18:21:04.277Z"
   },
   {
    "duration": 162,
    "start_time": "2022-01-22T18:21:04.516Z"
   },
   {
    "duration": 169,
    "start_time": "2022-01-22T18:21:04.681Z"
   },
   {
    "duration": 14,
    "start_time": "2022-01-22T18:21:04.853Z"
   },
   {
    "duration": 10,
    "start_time": "2022-01-22T18:21:04.870Z"
   },
   {
    "duration": 40,
    "start_time": "2022-01-22T18:21:04.883Z"
   },
   {
    "duration": 10,
    "start_time": "2022-01-22T18:21:04.926Z"
   },
   {
    "duration": 9,
    "start_time": "2022-01-22T18:21:40.206Z"
   },
   {
    "duration": 13,
    "start_time": "2022-01-22T18:21:41.104Z"
   },
   {
    "duration": 17,
    "start_time": "2022-01-22T18:21:42.334Z"
   },
   {
    "duration": 5,
    "start_time": "2022-01-22T18:21:56.373Z"
   },
   {
    "duration": 55,
    "start_time": "2022-01-22T18:21:56.382Z"
   },
   {
    "duration": 33,
    "start_time": "2022-01-22T18:21:56.441Z"
   },
   {
    "duration": 3,
    "start_time": "2022-01-22T18:21:56.478Z"
   },
   {
    "duration": 43,
    "start_time": "2022-01-22T18:21:56.483Z"
   },
   {
    "duration": 28,
    "start_time": "2022-01-22T18:21:56.529Z"
   },
   {
    "duration": 13,
    "start_time": "2022-01-22T18:21:56.560Z"
   },
   {
    "duration": 61,
    "start_time": "2022-01-22T18:21:56.575Z"
   },
   {
    "duration": 5,
    "start_time": "2022-01-22T18:21:56.640Z"
   },
   {
    "duration": 20,
    "start_time": "2022-01-22T18:21:56.648Z"
   },
   {
    "duration": 381,
    "start_time": "2022-01-22T18:21:56.671Z"
   },
   {
    "duration": 4,
    "start_time": "2022-01-22T18:21:57.054Z"
   },
   {
    "duration": 9,
    "start_time": "2022-01-22T18:21:57.060Z"
   },
   {
    "duration": 6,
    "start_time": "2022-01-22T18:21:57.072Z"
   },
   {
    "duration": 58,
    "start_time": "2022-01-22T18:21:57.081Z"
   },
   {
    "duration": 908,
    "start_time": "2022-01-22T18:21:57.141Z"
   },
   {
    "duration": 4,
    "start_time": "2022-01-22T18:21:58.051Z"
   },
   {
    "duration": 28,
    "start_time": "2022-01-22T18:21:58.057Z"
   },
   {
    "duration": 716,
    "start_time": "2022-01-22T18:21:58.087Z"
   },
   {
    "duration": 347,
    "start_time": "2022-01-22T18:21:58.806Z"
   },
   {
    "duration": 4,
    "start_time": "2022-01-22T18:21:59.157Z"
   },
   {
    "duration": 13,
    "start_time": "2022-01-22T18:21:59.164Z"
   },
   {
    "duration": 822,
    "start_time": "2022-01-22T18:21:59.179Z"
   },
   {
    "duration": 1698,
    "start_time": "2022-01-22T18:22:00.005Z"
   },
   {
    "duration": 19,
    "start_time": "2022-01-22T18:22:01.706Z"
   },
   {
    "duration": 433,
    "start_time": "2022-01-22T18:22:01.727Z"
   },
   {
    "duration": 513,
    "start_time": "2022-01-22T18:22:02.165Z"
   },
   {
    "duration": 13,
    "start_time": "2022-01-22T18:22:02.681Z"
   },
   {
    "duration": 6,
    "start_time": "2022-01-22T18:22:02.697Z"
   },
   {
    "duration": 424,
    "start_time": "2022-01-22T18:22:02.724Z"
   },
   {
    "duration": 28,
    "start_time": "2022-01-22T18:22:03.150Z"
   },
   {
    "duration": 46,
    "start_time": "2022-01-22T18:22:03.180Z"
   },
   {
    "duration": 31,
    "start_time": "2022-01-22T18:22:03.229Z"
   },
   {
    "duration": 10,
    "start_time": "2022-01-22T18:22:03.263Z"
   },
   {
    "duration": 207,
    "start_time": "2022-01-22T18:22:03.275Z"
   },
   {
    "duration": 219,
    "start_time": "2022-01-22T18:22:03.485Z"
   },
   {
    "duration": 173,
    "start_time": "2022-01-22T18:22:03.707Z"
   },
   {
    "duration": 13,
    "start_time": "2022-01-22T18:22:03.882Z"
   },
   {
    "duration": 29,
    "start_time": "2022-01-22T18:22:03.898Z"
   },
   {
    "duration": 15,
    "start_time": "2022-01-22T18:22:03.930Z"
   },
   {
    "duration": 10,
    "start_time": "2022-01-22T18:22:03.948Z"
   },
   {
    "duration": 13,
    "start_time": "2022-01-22T18:23:01.509Z"
   },
   {
    "duration": 14,
    "start_time": "2022-01-22T18:23:02.137Z"
   },
   {
    "duration": 537,
    "start_time": "2022-01-22T18:24:36.530Z"
   },
   {
    "duration": 5,
    "start_time": "2022-01-22T18:27:34.178Z"
   },
   {
    "duration": 58,
    "start_time": "2022-01-22T18:27:34.185Z"
   },
   {
    "duration": 48,
    "start_time": "2022-01-22T18:27:34.248Z"
   },
   {
    "duration": 5,
    "start_time": "2022-01-22T18:27:34.323Z"
   },
   {
    "duration": 21,
    "start_time": "2022-01-22T18:27:34.331Z"
   },
   {
    "duration": 32,
    "start_time": "2022-01-22T18:27:34.355Z"
   },
   {
    "duration": 45,
    "start_time": "2022-01-22T18:27:34.389Z"
   },
   {
    "duration": 35,
    "start_time": "2022-01-22T18:27:34.437Z"
   },
   {
    "duration": 8,
    "start_time": "2022-01-22T18:27:34.477Z"
   },
   {
    "duration": 52,
    "start_time": "2022-01-22T18:27:34.488Z"
   },
   {
    "duration": 379,
    "start_time": "2022-01-22T18:27:34.544Z"
   },
   {
    "duration": 3,
    "start_time": "2022-01-22T18:27:34.927Z"
   },
   {
    "duration": 11,
    "start_time": "2022-01-22T18:27:34.933Z"
   },
   {
    "duration": 12,
    "start_time": "2022-01-22T18:27:34.947Z"
   },
   {
    "duration": 20,
    "start_time": "2022-01-22T18:27:34.961Z"
   },
   {
    "duration": 1052,
    "start_time": "2022-01-22T18:27:34.984Z"
   },
   {
    "duration": 5,
    "start_time": "2022-01-22T18:27:36.039Z"
   },
   {
    "duration": 38,
    "start_time": "2022-01-22T18:27:36.047Z"
   },
   {
    "duration": 705,
    "start_time": "2022-01-22T18:27:36.088Z"
   },
   {
    "duration": 414,
    "start_time": "2022-01-22T18:27:36.796Z"
   },
   {
    "duration": 10,
    "start_time": "2022-01-22T18:27:37.214Z"
   },
   {
    "duration": 13,
    "start_time": "2022-01-22T18:27:37.227Z"
   },
   {
    "duration": 881,
    "start_time": "2022-01-22T18:27:37.242Z"
   },
   {
    "duration": 1206,
    "start_time": "2022-01-22T18:27:38.126Z"
   },
   {
    "duration": 13,
    "start_time": "2022-01-22T18:27:39.336Z"
   },
   {
    "duration": 618,
    "start_time": "2022-01-22T18:27:39.351Z"
   },
   {
    "duration": 493,
    "start_time": "2022-01-22T18:27:39.974Z"
   },
   {
    "duration": 11,
    "start_time": "2022-01-22T18:27:40.470Z"
   },
   {
    "duration": 6,
    "start_time": "2022-01-22T18:27:40.483Z"
   },
   {
    "duration": 455,
    "start_time": "2022-01-22T18:27:40.491Z"
   },
   {
    "duration": 23,
    "start_time": "2022-01-22T18:27:40.949Z"
   },
   {
    "duration": 22,
    "start_time": "2022-01-22T18:27:40.974Z"
   },
   {
    "duration": 32,
    "start_time": "2022-01-22T18:27:41.025Z"
   },
   {
    "duration": 10,
    "start_time": "2022-01-22T18:27:41.060Z"
   },
   {
    "duration": 209,
    "start_time": "2022-01-22T18:27:41.073Z"
   },
   {
    "duration": 188,
    "start_time": "2022-01-22T18:27:41.284Z"
   },
   {
    "duration": 207,
    "start_time": "2022-01-22T18:27:41.474Z"
   },
   {
    "duration": 18,
    "start_time": "2022-01-22T18:27:41.684Z"
   },
   {
    "duration": 25,
    "start_time": "2022-01-22T18:27:41.704Z"
   },
   {
    "duration": 14,
    "start_time": "2022-01-22T18:27:41.732Z"
   },
   {
    "duration": 11,
    "start_time": "2022-01-22T18:27:41.749Z"
   },
   {
    "duration": 21,
    "start_time": "2022-01-22T18:27:41.763Z"
   },
   {
    "duration": 45,
    "start_time": "2022-01-22T18:27:41.787Z"
   },
   {
    "duration": 512,
    "start_time": "2022-01-22T18:27:41.835Z"
   },
   {
    "duration": 14,
    "start_time": "2022-01-22T18:29:01.802Z"
   },
   {
    "duration": 13,
    "start_time": "2022-01-22T18:29:11.262Z"
   },
   {
    "duration": 9,
    "start_time": "2022-01-22T18:29:25.649Z"
   },
   {
    "duration": 14,
    "start_time": "2022-01-22T18:29:58.373Z"
   },
   {
    "duration": 10,
    "start_time": "2022-01-22T18:29:58.733Z"
   },
   {
    "duration": 13,
    "start_time": "2022-01-22T18:30:13.818Z"
   },
   {
    "duration": 9,
    "start_time": "2022-01-22T18:30:14.145Z"
   },
   {
    "duration": 938,
    "start_time": "2022-01-22T18:31:24.415Z"
   },
   {
    "duration": 6,
    "start_time": "2022-01-22T18:43:52.236Z"
   },
   {
    "duration": 8,
    "start_time": "2022-01-22T18:44:11.278Z"
   },
   {
    "duration": 5,
    "start_time": "2022-01-22T18:44:52.260Z"
   },
   {
    "duration": 7,
    "start_time": "2022-01-22T18:45:06.566Z"
   },
   {
    "duration": 5,
    "start_time": "2022-01-22T18:45:13.090Z"
   },
   {
    "duration": 7,
    "start_time": "2022-01-22T18:45:17.798Z"
   },
   {
    "duration": 8,
    "start_time": "2022-01-22T18:45:18.225Z"
   },
   {
    "duration": 5,
    "start_time": "2022-01-22T18:45:18.577Z"
   },
   {
    "duration": 5,
    "start_time": "2022-01-22T18:45:20.244Z"
   },
   {
    "duration": 7,
    "start_time": "2022-01-22T18:46:18.355Z"
   },
   {
    "duration": 8,
    "start_time": "2022-01-22T18:46:18.742Z"
   },
   {
    "duration": 5,
    "start_time": "2022-01-22T18:46:19.137Z"
   },
   {
    "duration": 5,
    "start_time": "2022-01-22T18:46:20.609Z"
   },
   {
    "duration": 5,
    "start_time": "2022-01-22T18:46:52.254Z"
   },
   {
    "duration": 95,
    "start_time": "2022-01-22T18:48:02.658Z"
   },
   {
    "duration": 7,
    "start_time": "2022-01-22T18:48:09.020Z"
   },
   {
    "duration": 8,
    "start_time": "2022-01-22T18:48:09.537Z"
   },
   {
    "duration": 6,
    "start_time": "2022-01-22T18:48:09.911Z"
   },
   {
    "duration": 6,
    "start_time": "2022-01-22T18:48:10.340Z"
   },
   {
    "duration": 5,
    "start_time": "2022-01-22T18:48:10.773Z"
   },
   {
    "duration": 5,
    "start_time": "2022-01-22T18:49:02.677Z"
   },
   {
    "duration": 6,
    "start_time": "2022-01-22T18:49:33.095Z"
   },
   {
    "duration": 5,
    "start_time": "2022-01-22T18:49:44.736Z"
   },
   {
    "duration": 3,
    "start_time": "2022-01-22T18:50:29.127Z"
   },
   {
    "duration": 6,
    "start_time": "2022-01-22T18:50:39.337Z"
   },
   {
    "duration": 5,
    "start_time": "2022-01-22T18:50:49.948Z"
   },
   {
    "duration": 4,
    "start_time": "2022-01-22T18:50:55.811Z"
   },
   {
    "duration": 45,
    "start_time": "2022-01-22T18:50:55.818Z"
   },
   {
    "duration": 70,
    "start_time": "2022-01-22T18:50:55.866Z"
   },
   {
    "duration": 5,
    "start_time": "2022-01-22T18:50:55.939Z"
   },
   {
    "duration": 21,
    "start_time": "2022-01-22T18:50:55.946Z"
   },
   {
    "duration": 61,
    "start_time": "2022-01-22T18:50:55.969Z"
   },
   {
    "duration": 11,
    "start_time": "2022-01-22T18:50:56.033Z"
   },
   {
    "duration": 29,
    "start_time": "2022-01-22T18:50:56.046Z"
   },
   {
    "duration": 5,
    "start_time": "2022-01-22T18:50:56.079Z"
   },
   {
    "duration": 48,
    "start_time": "2022-01-22T18:50:56.087Z"
   },
   {
    "duration": 359,
    "start_time": "2022-01-22T18:50:56.137Z"
   },
   {
    "duration": 3,
    "start_time": "2022-01-22T18:50:56.498Z"
   },
   {
    "duration": 20,
    "start_time": "2022-01-22T18:50:56.503Z"
   },
   {
    "duration": 6,
    "start_time": "2022-01-22T18:50:56.525Z"
   },
   {
    "duration": 27,
    "start_time": "2022-01-22T18:50:56.534Z"
   },
   {
    "duration": 1009,
    "start_time": "2022-01-22T18:50:56.564Z"
   },
   {
    "duration": 4,
    "start_time": "2022-01-22T18:50:57.576Z"
   },
   {
    "duration": 47,
    "start_time": "2022-01-22T18:50:57.582Z"
   },
   {
    "duration": 708,
    "start_time": "2022-01-22T18:50:57.632Z"
   },
   {
    "duration": 366,
    "start_time": "2022-01-22T18:50:58.343Z"
   },
   {
    "duration": 11,
    "start_time": "2022-01-22T18:50:58.712Z"
   },
   {
    "duration": 9,
    "start_time": "2022-01-22T18:50:58.725Z"
   },
   {
    "duration": 826,
    "start_time": "2022-01-22T18:50:58.737Z"
   },
   {
    "duration": 1075,
    "start_time": "2022-01-22T18:50:59.565Z"
   },
   {
    "duration": 10,
    "start_time": "2022-01-22T18:51:00.642Z"
   },
   {
    "duration": 424,
    "start_time": "2022-01-22T18:51:00.655Z"
   },
   {
    "duration": 475,
    "start_time": "2022-01-22T18:51:01.085Z"
   },
   {
    "duration": 12,
    "start_time": "2022-01-22T18:51:01.563Z"
   },
   {
    "duration": 18,
    "start_time": "2022-01-22T18:51:01.577Z"
   },
   {
    "duration": 381,
    "start_time": "2022-01-22T18:51:01.597Z"
   },
   {
    "duration": 20,
    "start_time": "2022-01-22T18:51:01.980Z"
   },
   {
    "duration": 36,
    "start_time": "2022-01-22T18:51:02.003Z"
   },
   {
    "duration": 19,
    "start_time": "2022-01-22T18:51:02.042Z"
   },
   {
    "duration": 9,
    "start_time": "2022-01-22T18:51:02.063Z"
   },
   {
    "duration": 174,
    "start_time": "2022-01-22T18:51:02.074Z"
   },
   {
    "duration": 158,
    "start_time": "2022-01-22T18:51:02.250Z"
   },
   {
    "duration": 164,
    "start_time": "2022-01-22T18:51:02.410Z"
   },
   {
    "duration": 15,
    "start_time": "2022-01-22T18:51:02.577Z"
   },
   {
    "duration": 29,
    "start_time": "2022-01-22T18:51:02.595Z"
   },
   {
    "duration": 16,
    "start_time": "2022-01-22T18:51:02.627Z"
   },
   {
    "duration": 10,
    "start_time": "2022-01-22T18:51:02.645Z"
   },
   {
    "duration": 15,
    "start_time": "2022-01-22T18:51:02.658Z"
   },
   {
    "duration": 51,
    "start_time": "2022-01-22T18:51:02.675Z"
   },
   {
    "duration": 467,
    "start_time": "2022-01-22T18:51:02.729Z"
   },
   {
    "duration": 24,
    "start_time": "2022-01-22T18:51:03.199Z"
   },
   {
    "duration": 9,
    "start_time": "2022-01-22T18:51:03.226Z"
   },
   {
    "duration": 15,
    "start_time": "2022-01-22T18:51:03.237Z"
   },
   {
    "duration": 9,
    "start_time": "2022-01-22T18:51:03.254Z"
   },
   {
    "duration": 16,
    "start_time": "2022-01-22T18:51:03.265Z"
   },
   {
    "duration": 49,
    "start_time": "2022-01-22T18:51:03.283Z"
   },
   {
    "duration": 702,
    "start_time": "2022-01-22T18:51:03.334Z"
   },
   {
    "duration": 8,
    "start_time": "2022-01-22T18:51:04.039Z"
   },
   {
    "duration": 10,
    "start_time": "2022-01-22T18:51:04.050Z"
   },
   {
    "duration": 7,
    "start_time": "2022-01-22T18:51:04.062Z"
   },
   {
    "duration": 7,
    "start_time": "2022-01-22T18:51:04.072Z"
   },
   {
    "duration": 44,
    "start_time": "2022-01-22T18:51:04.082Z"
   },
   {
    "duration": 7,
    "start_time": "2022-01-22T18:51:04.129Z"
   },
   {
    "duration": 5,
    "start_time": "2022-01-22T18:51:04.139Z"
   },
   {
    "duration": 6,
    "start_time": "2022-01-22T18:51:04.147Z"
   },
   {
    "duration": 5,
    "start_time": "2022-01-22T18:51:04.156Z"
   },
   {
    "duration": 6,
    "start_time": "2022-01-22T18:51:04.163Z"
   },
   {
    "duration": 53,
    "start_time": "2022-01-22T18:51:04.171Z"
   },
   {
    "duration": 6,
    "start_time": "2022-01-22T18:56:15.065Z"
   },
   {
    "duration": 6,
    "start_time": "2022-01-22T18:56:48.570Z"
   },
   {
    "duration": 3,
    "start_time": "2022-01-22T18:56:51.373Z"
   },
   {
    "duration": 4,
    "start_time": "2022-01-22T18:56:51.873Z"
   },
   {
    "duration": 5,
    "start_time": "2022-01-22T18:56:52.326Z"
   },
   {
    "duration": 310,
    "start_time": "2022-01-22T18:57:19.330Z"
   },
   {
    "duration": 4,
    "start_time": "2022-01-22T18:59:38.724Z"
   },
   {
    "duration": 4,
    "start_time": "2022-01-22T18:59:47.919Z"
   },
   {
    "duration": 4,
    "start_time": "2022-01-22T19:00:03.927Z"
   },
   {
    "duration": 124,
    "start_time": "2022-01-22T19:00:50.576Z"
   },
   {
    "duration": 34,
    "start_time": "2022-01-22T19:01:22.119Z"
   },
   {
    "duration": 11,
    "start_time": "2022-01-22T19:02:58.053Z"
   },
   {
    "duration": 38,
    "start_time": "2022-01-22T19:03:02.960Z"
   },
   {
    "duration": 402,
    "start_time": "2022-01-22T19:04:47.329Z"
   },
   {
    "duration": 13,
    "start_time": "2022-01-22T19:05:06.051Z"
   },
   {
    "duration": 11,
    "start_time": "2022-01-22T19:05:12.493Z"
   },
   {
    "duration": 8,
    "start_time": "2022-01-22T19:05:12.972Z"
   },
   {
    "duration": 34,
    "start_time": "2022-01-22T19:06:30.812Z"
   },
   {
    "duration": 12,
    "start_time": "2022-01-22T19:07:03.160Z"
   },
   {
    "duration": 34,
    "start_time": "2022-01-22T19:07:19.006Z"
   },
   {
    "duration": 317,
    "start_time": "2022-01-22T19:11:03.616Z"
   },
   {
    "duration": 37,
    "start_time": "2022-01-22T19:11:07.472Z"
   },
   {
    "duration": 37,
    "start_time": "2022-01-22T19:11:23.427Z"
   },
   {
    "duration": 42,
    "start_time": "2022-01-22T19:11:36.933Z"
   },
   {
    "duration": 4,
    "start_time": "2022-01-22T19:11:40.852Z"
   },
   {
    "duration": 49,
    "start_time": "2022-01-22T19:11:40.858Z"
   },
   {
    "duration": 35,
    "start_time": "2022-01-22T19:11:40.910Z"
   },
   {
    "duration": 4,
    "start_time": "2022-01-22T19:11:40.949Z"
   },
   {
    "duration": 20,
    "start_time": "2022-01-22T19:11:40.955Z"
   },
   {
    "duration": 74,
    "start_time": "2022-01-22T19:11:40.978Z"
   },
   {
    "duration": 9,
    "start_time": "2022-01-22T19:11:41.055Z"
   },
   {
    "duration": 58,
    "start_time": "2022-01-22T19:11:41.067Z"
   },
   {
    "duration": 6,
    "start_time": "2022-01-22T19:11:41.129Z"
   },
   {
    "duration": 19,
    "start_time": "2022-01-22T19:11:41.137Z"
   },
   {
    "duration": 373,
    "start_time": "2022-01-22T19:11:41.158Z"
   },
   {
    "duration": 3,
    "start_time": "2022-01-22T19:11:41.533Z"
   },
   {
    "duration": 9,
    "start_time": "2022-01-22T19:11:41.538Z"
   },
   {
    "duration": 7,
    "start_time": "2022-01-22T19:11:41.549Z"
   },
   {
    "duration": 21,
    "start_time": "2022-01-22T19:11:41.558Z"
   },
   {
    "duration": 842,
    "start_time": "2022-01-22T19:11:41.581Z"
   },
   {
    "duration": 3,
    "start_time": "2022-01-22T19:11:42.425Z"
   },
   {
    "duration": 25,
    "start_time": "2022-01-22T19:11:42.431Z"
   },
   {
    "duration": 631,
    "start_time": "2022-01-22T19:11:42.458Z"
   },
   {
    "duration": 326,
    "start_time": "2022-01-22T19:11:43.092Z"
   },
   {
    "duration": 4,
    "start_time": "2022-01-22T19:11:43.423Z"
   },
   {
    "duration": 12,
    "start_time": "2022-01-22T19:11:43.430Z"
   },
   {
    "duration": 693,
    "start_time": "2022-01-22T19:11:43.445Z"
   },
   {
    "duration": 1076,
    "start_time": "2022-01-22T19:11:44.141Z"
   },
   {
    "duration": 10,
    "start_time": "2022-01-22T19:11:45.223Z"
   },
   {
    "duration": 445,
    "start_time": "2022-01-22T19:11:45.235Z"
   },
   {
    "duration": 472,
    "start_time": "2022-01-22T19:11:45.686Z"
   },
   {
    "duration": 12,
    "start_time": "2022-01-22T19:11:46.161Z"
   },
   {
    "duration": 6,
    "start_time": "2022-01-22T19:11:46.176Z"
   },
   {
    "duration": 381,
    "start_time": "2022-01-22T19:11:46.184Z"
   },
   {
    "duration": 21,
    "start_time": "2022-01-22T19:11:46.567Z"
   },
   {
    "duration": 18,
    "start_time": "2022-01-22T19:11:46.590Z"
   },
   {
    "duration": 26,
    "start_time": "2022-01-22T19:11:46.610Z"
   },
   {
    "duration": 6,
    "start_time": "2022-01-22T19:11:46.638Z"
   },
   {
    "duration": 143,
    "start_time": "2022-01-22T19:11:46.646Z"
   },
   {
    "duration": 153,
    "start_time": "2022-01-22T19:11:46.791Z"
   },
   {
    "duration": 712,
    "start_time": "2022-01-22T19:11:46.946Z"
   },
   {
    "duration": 13,
    "start_time": "2022-01-22T19:11:47.660Z"
   },
   {
    "duration": 54,
    "start_time": "2022-01-22T19:11:47.676Z"
   },
   {
    "duration": 12,
    "start_time": "2022-01-22T19:11:47.732Z"
   },
   {
    "duration": 10,
    "start_time": "2022-01-22T19:11:47.747Z"
   },
   {
    "duration": 14,
    "start_time": "2022-01-22T19:11:47.760Z"
   },
   {
    "duration": 47,
    "start_time": "2022-01-22T19:11:47.777Z"
   },
   {
    "duration": 503,
    "start_time": "2022-01-22T19:11:47.827Z"
   },
   {
    "duration": 14,
    "start_time": "2022-01-22T19:11:48.332Z"
   },
   {
    "duration": 11,
    "start_time": "2022-01-22T19:11:48.349Z"
   },
   {
    "duration": 13,
    "start_time": "2022-01-22T19:11:48.363Z"
   },
   {
    "duration": 9,
    "start_time": "2022-01-22T19:11:48.378Z"
   },
   {
    "duration": 37,
    "start_time": "2022-01-22T19:11:48.389Z"
   },
   {
    "duration": 10,
    "start_time": "2022-01-22T19:11:48.428Z"
   },
   {
    "duration": 701,
    "start_time": "2022-01-22T19:11:48.440Z"
   },
   {
    "duration": 37,
    "start_time": "2022-01-22T19:11:49.144Z"
   },
   {
    "duration": 59,
    "start_time": "2022-01-22T19:11:49.184Z"
   },
   {
    "duration": 5,
    "start_time": "2022-01-22T19:11:49.245Z"
   },
   {
    "duration": 6,
    "start_time": "2022-01-22T19:11:49.253Z"
   },
   {
    "duration": 8,
    "start_time": "2022-01-22T19:11:49.261Z"
   },
   {
    "duration": 6,
    "start_time": "2022-01-22T19:11:49.272Z"
   },
   {
    "duration": 45,
    "start_time": "2022-01-22T19:11:49.280Z"
   },
   {
    "duration": 6,
    "start_time": "2022-01-22T19:11:49.327Z"
   },
   {
    "duration": 5,
    "start_time": "2022-01-22T19:11:49.335Z"
   },
   {
    "duration": 6,
    "start_time": "2022-01-22T19:11:49.343Z"
   },
   {
    "duration": 6,
    "start_time": "2022-01-22T19:11:49.351Z"
   },
   {
    "duration": 10,
    "start_time": "2022-01-22T19:11:49.359Z"
   },
   {
    "duration": 52,
    "start_time": "2022-01-22T19:11:49.371Z"
   },
   {
    "duration": 5,
    "start_time": "2022-01-22T19:11:49.425Z"
   },
   {
    "duration": 4,
    "start_time": "2022-01-22T19:11:58.479Z"
   },
   {
    "duration": 7,
    "start_time": "2022-01-22T19:12:50.852Z"
   },
   {
    "duration": 34,
    "start_time": "2022-01-22T19:12:54.685Z"
   },
   {
    "duration": 8,
    "start_time": "2022-01-22T19:13:07.212Z"
   },
   {
    "duration": 5,
    "start_time": "2022-01-22T19:13:15.161Z"
   },
   {
    "duration": 4,
    "start_time": "2022-01-22T19:13:35.956Z"
   },
   {
    "duration": 47,
    "start_time": "2022-01-22T19:13:35.962Z"
   },
   {
    "duration": 31,
    "start_time": "2022-01-22T19:13:36.013Z"
   },
   {
    "duration": 4,
    "start_time": "2022-01-22T19:13:36.047Z"
   },
   {
    "duration": 21,
    "start_time": "2022-01-22T19:13:36.053Z"
   },
   {
    "duration": 30,
    "start_time": "2022-01-22T19:13:36.124Z"
   },
   {
    "duration": 15,
    "start_time": "2022-01-22T19:13:36.156Z"
   },
   {
    "duration": 50,
    "start_time": "2022-01-22T19:13:36.173Z"
   },
   {
    "duration": 5,
    "start_time": "2022-01-22T19:13:36.227Z"
   },
   {
    "duration": 21,
    "start_time": "2022-01-22T19:13:36.235Z"
   },
   {
    "duration": 367,
    "start_time": "2022-01-22T19:13:36.259Z"
   },
   {
    "duration": 2,
    "start_time": "2022-01-22T19:13:36.628Z"
   },
   {
    "duration": 10,
    "start_time": "2022-01-22T19:13:36.632Z"
   },
   {
    "duration": 7,
    "start_time": "2022-01-22T19:13:36.644Z"
   },
   {
    "duration": 22,
    "start_time": "2022-01-22T19:13:36.653Z"
   },
   {
    "duration": 982,
    "start_time": "2022-01-22T19:13:36.677Z"
   },
   {
    "duration": 4,
    "start_time": "2022-01-22T19:13:37.661Z"
   },
   {
    "duration": 36,
    "start_time": "2022-01-22T19:13:37.667Z"
   },
   {
    "duration": 608,
    "start_time": "2022-01-22T19:13:37.706Z"
   },
   {
    "duration": 323,
    "start_time": "2022-01-22T19:13:38.324Z"
   },
   {
    "duration": 3,
    "start_time": "2022-01-22T19:13:38.650Z"
   },
   {
    "duration": 12,
    "start_time": "2022-01-22T19:13:38.656Z"
   },
   {
    "duration": 755,
    "start_time": "2022-01-22T19:13:38.671Z"
   },
   {
    "duration": 1067,
    "start_time": "2022-01-22T19:13:39.429Z"
   },
   {
    "duration": 25,
    "start_time": "2022-01-22T19:13:40.499Z"
   },
   {
    "duration": 423,
    "start_time": "2022-01-22T19:13:40.526Z"
   },
   {
    "duration": 416,
    "start_time": "2022-01-22T19:13:40.955Z"
   },
   {
    "duration": 12,
    "start_time": "2022-01-22T19:13:41.376Z"
   },
   {
    "duration": 33,
    "start_time": "2022-01-22T19:13:41.391Z"
   },
   {
    "duration": 371,
    "start_time": "2022-01-22T19:13:41.427Z"
   },
   {
    "duration": 31,
    "start_time": "2022-01-22T19:13:41.801Z"
   },
   {
    "duration": 20,
    "start_time": "2022-01-22T19:13:41.834Z"
   },
   {
    "duration": 20,
    "start_time": "2022-01-22T19:13:41.856Z"
   },
   {
    "duration": 7,
    "start_time": "2022-01-22T19:13:41.878Z"
   },
   {
    "duration": 152,
    "start_time": "2022-01-22T19:13:41.924Z"
   },
   {
    "duration": 160,
    "start_time": "2022-01-22T19:13:42.078Z"
   },
   {
    "duration": 155,
    "start_time": "2022-01-22T19:13:42.240Z"
   },
   {
    "duration": 25,
    "start_time": "2022-01-22T19:13:42.398Z"
   },
   {
    "duration": 9,
    "start_time": "2022-01-22T19:13:42.426Z"
   },
   {
    "duration": 12,
    "start_time": "2022-01-22T19:13:42.437Z"
   },
   {
    "duration": 9,
    "start_time": "2022-01-22T19:13:42.451Z"
   },
   {
    "duration": 16,
    "start_time": "2022-01-22T19:13:42.463Z"
   },
   {
    "duration": 42,
    "start_time": "2022-01-22T19:13:42.482Z"
   },
   {
    "duration": 446,
    "start_time": "2022-01-22T19:13:42.527Z"
   },
   {
    "duration": 14,
    "start_time": "2022-01-22T19:13:42.976Z"
   },
   {
    "duration": 9,
    "start_time": "2022-01-22T19:13:42.992Z"
   },
   {
    "duration": 13,
    "start_time": "2022-01-22T19:13:43.023Z"
   },
   {
    "duration": 10,
    "start_time": "2022-01-22T19:13:43.038Z"
   },
   {
    "duration": 15,
    "start_time": "2022-01-22T19:13:43.050Z"
   },
   {
    "duration": 11,
    "start_time": "2022-01-22T19:13:43.068Z"
   },
   {
    "duration": 690,
    "start_time": "2022-01-22T19:13:43.081Z"
   },
   {
    "duration": 51,
    "start_time": "2022-01-22T19:13:43.774Z"
   },
   {
    "duration": 34,
    "start_time": "2022-01-22T19:13:43.827Z"
   },
   {
    "duration": 5,
    "start_time": "2022-01-22T19:13:43.863Z"
   },
   {
    "duration": 6,
    "start_time": "2022-01-22T19:13:43.870Z"
   },
   {
    "duration": 7,
    "start_time": "2022-01-22T19:13:43.878Z"
   },
   {
    "duration": 4,
    "start_time": "2022-01-22T19:13:43.924Z"
   },
   {
    "duration": 10,
    "start_time": "2022-01-22T19:13:43.931Z"
   },
   {
    "duration": 7,
    "start_time": "2022-01-22T19:13:43.943Z"
   },
   {
    "duration": 4,
    "start_time": "2022-01-22T19:13:43.953Z"
   },
   {
    "duration": 11,
    "start_time": "2022-01-22T19:13:43.959Z"
   },
   {
    "duration": 6,
    "start_time": "2022-01-22T19:13:43.972Z"
   },
   {
    "duration": 44,
    "start_time": "2022-01-22T19:13:43.981Z"
   },
   {
    "duration": 11,
    "start_time": "2022-01-22T19:13:44.028Z"
   },
   {
    "duration": 6,
    "start_time": "2022-01-22T19:14:22.388Z"
   },
   {
    "duration": 4,
    "start_time": "2022-01-22T19:14:30.631Z"
   },
   {
    "duration": 9,
    "start_time": "2022-01-22T19:14:50.491Z"
   },
   {
    "duration": 6,
    "start_time": "2022-01-22T19:14:50.986Z"
   },
   {
    "duration": 5,
    "start_time": "2022-01-22T19:14:51.944Z"
   },
   {
    "duration": 8,
    "start_time": "2022-01-22T19:14:52.594Z"
   },
   {
    "duration": 6,
    "start_time": "2022-01-22T19:15:01.924Z"
   },
   {
    "duration": 5,
    "start_time": "2022-01-22T19:15:09.308Z"
   },
   {
    "duration": 4,
    "start_time": "2022-01-22T19:15:34.029Z"
   },
   {
    "duration": 5,
    "start_time": "2022-01-22T19:16:14.403Z"
   },
   {
    "duration": 5,
    "start_time": "2022-01-22T19:16:24.262Z"
   },
   {
    "duration": 4,
    "start_time": "2022-01-22T19:16:51.153Z"
   },
   {
    "duration": 6,
    "start_time": "2022-01-22T19:16:51.558Z"
   },
   {
    "duration": 13,
    "start_time": "2022-01-22T19:17:02.771Z"
   },
   {
    "duration": 5,
    "start_time": "2022-01-22T19:17:03.368Z"
   },
   {
    "duration": 5,
    "start_time": "2022-01-22T19:17:04.784Z"
   },
   {
    "duration": 5,
    "start_time": "2022-01-22T19:17:05.872Z"
   },
   {
    "duration": 10,
    "start_time": "2022-01-22T19:17:12.240Z"
   },
   {
    "duration": 6,
    "start_time": "2022-01-22T19:17:14.128Z"
   },
   {
    "duration": 6,
    "start_time": "2022-01-22T19:17:14.831Z"
   },
   {
    "duration": 4,
    "start_time": "2022-01-22T19:17:15.555Z"
   },
   {
    "duration": 3,
    "start_time": "2022-01-22T19:17:16.890Z"
   },
   {
    "duration": 3,
    "start_time": "2022-01-22T19:17:17.380Z"
   },
   {
    "duration": 6,
    "start_time": "2022-01-22T19:17:18.154Z"
   },
   {
    "duration": 4,
    "start_time": "2022-01-22T19:17:29.556Z"
   },
   {
    "duration": 4,
    "start_time": "2022-01-22T19:25:13.832Z"
   },
   {
    "duration": 50,
    "start_time": "2022-01-22T19:25:13.839Z"
   },
   {
    "duration": 55,
    "start_time": "2022-01-22T19:25:13.892Z"
   },
   {
    "duration": 4,
    "start_time": "2022-01-22T19:25:13.950Z"
   },
   {
    "duration": 20,
    "start_time": "2022-01-22T19:25:13.956Z"
   },
   {
    "duration": 31,
    "start_time": "2022-01-22T19:25:14.024Z"
   },
   {
    "duration": 12,
    "start_time": "2022-01-22T19:25:14.058Z"
   },
   {
    "duration": 65,
    "start_time": "2022-01-22T19:25:14.073Z"
   },
   {
    "duration": 5,
    "start_time": "2022-01-22T19:25:14.142Z"
   },
   {
    "duration": 21,
    "start_time": "2022-01-22T19:25:14.150Z"
   },
   {
    "duration": 389,
    "start_time": "2022-01-22T19:25:14.173Z"
   },
   {
    "duration": 3,
    "start_time": "2022-01-22T19:25:14.564Z"
   },
   {
    "duration": 10,
    "start_time": "2022-01-22T19:25:14.569Z"
   },
   {
    "duration": 7,
    "start_time": "2022-01-22T19:25:14.581Z"
   },
   {
    "duration": 48,
    "start_time": "2022-01-22T19:25:14.590Z"
   },
   {
    "duration": 815,
    "start_time": "2022-01-22T19:25:14.640Z"
   },
   {
    "duration": 4,
    "start_time": "2022-01-22T19:25:15.458Z"
   },
   {
    "duration": 27,
    "start_time": "2022-01-22T19:25:15.464Z"
   },
   {
    "duration": 636,
    "start_time": "2022-01-22T19:25:15.493Z"
   },
   {
    "duration": 341,
    "start_time": "2022-01-22T19:25:16.131Z"
   },
   {
    "duration": 4,
    "start_time": "2022-01-22T19:25:16.474Z"
   },
   {
    "duration": 11,
    "start_time": "2022-01-22T19:25:16.481Z"
   },
   {
    "duration": 732,
    "start_time": "2022-01-22T19:25:16.494Z"
   },
   {
    "duration": 1107,
    "start_time": "2022-01-22T19:25:17.229Z"
   },
   {
    "duration": 11,
    "start_time": "2022-01-22T19:25:18.338Z"
   },
   {
    "duration": 414,
    "start_time": "2022-01-22T19:25:18.351Z"
   },
   {
    "duration": 467,
    "start_time": "2022-01-22T19:25:18.773Z"
   },
   {
    "duration": 13,
    "start_time": "2022-01-22T19:25:19.246Z"
   },
   {
    "duration": 7,
    "start_time": "2022-01-22T19:25:19.262Z"
   },
   {
    "duration": 404,
    "start_time": "2022-01-22T19:25:19.272Z"
   },
   {
    "duration": 19,
    "start_time": "2022-01-22T19:25:19.678Z"
   },
   {
    "duration": 37,
    "start_time": "2022-01-22T19:25:19.700Z"
   },
   {
    "duration": 19,
    "start_time": "2022-01-22T19:25:19.739Z"
   },
   {
    "duration": 6,
    "start_time": "2022-01-22T19:25:19.761Z"
   },
   {
    "duration": 176,
    "start_time": "2022-01-22T19:25:19.770Z"
   },
   {
    "duration": 172,
    "start_time": "2022-01-22T19:25:19.949Z"
   },
   {
    "duration": 166,
    "start_time": "2022-01-22T19:25:20.123Z"
   },
   {
    "duration": 14,
    "start_time": "2022-01-22T19:25:20.292Z"
   },
   {
    "duration": 21,
    "start_time": "2022-01-22T19:25:20.308Z"
   },
   {
    "duration": 14,
    "start_time": "2022-01-22T19:25:20.331Z"
   },
   {
    "duration": 9,
    "start_time": "2022-01-22T19:25:20.347Z"
   },
   {
    "duration": 17,
    "start_time": "2022-01-22T19:25:20.359Z"
   },
   {
    "duration": 9,
    "start_time": "2022-01-22T19:25:20.378Z"
   },
   {
    "duration": 497,
    "start_time": "2022-01-22T19:25:20.389Z"
   },
   {
    "duration": 13,
    "start_time": "2022-01-22T19:25:20.888Z"
   },
   {
    "duration": 23,
    "start_time": "2022-01-22T19:25:20.904Z"
   },
   {
    "duration": 20,
    "start_time": "2022-01-22T19:25:20.929Z"
   },
   {
    "duration": 10,
    "start_time": "2022-01-22T19:25:20.951Z"
   },
   {
    "duration": 13,
    "start_time": "2022-01-22T19:25:20.963Z"
   },
   {
    "duration": 10,
    "start_time": "2022-01-22T19:25:20.978Z"
   },
   {
    "duration": 1202,
    "start_time": "2022-01-22T19:25:20.990Z"
   },
   {
    "duration": 56,
    "start_time": "2022-01-22T19:25:22.195Z"
   },
   {
    "duration": 39,
    "start_time": "2022-01-22T19:25:22.254Z"
   },
   {
    "duration": 30,
    "start_time": "2022-01-22T19:25:22.295Z"
   },
   {
    "duration": 6,
    "start_time": "2022-01-22T19:25:22.328Z"
   },
   {
    "duration": 6,
    "start_time": "2022-01-22T19:25:22.337Z"
   },
   {
    "duration": 6,
    "start_time": "2022-01-22T19:25:22.346Z"
   },
   {
    "duration": 6,
    "start_time": "2022-01-22T19:25:22.354Z"
   },
   {
    "duration": 6,
    "start_time": "2022-01-22T19:25:22.362Z"
   },
   {
    "duration": 54,
    "start_time": "2022-01-22T19:25:22.370Z"
   },
   {
    "duration": 11,
    "start_time": "2022-01-22T19:25:22.427Z"
   },
   {
    "duration": 6,
    "start_time": "2022-01-22T19:25:22.440Z"
   },
   {
    "duration": 5,
    "start_time": "2022-01-22T19:25:22.449Z"
   },
   {
    "duration": 12,
    "start_time": "2022-01-22T19:25:22.457Z"
   },
   {
    "duration": 5,
    "start_time": "2022-01-22T19:25:22.471Z"
   },
   {
    "duration": 44,
    "start_time": "2022-01-22T19:25:22.479Z"
   },
   {
    "duration": 4,
    "start_time": "2022-01-22T19:25:22.526Z"
   },
   {
    "duration": 11,
    "start_time": "2022-01-22T19:25:22.533Z"
   },
   {
    "duration": 5,
    "start_time": "2022-01-22T19:25:22.546Z"
   },
   {
    "duration": 5,
    "start_time": "2022-01-22T19:25:22.553Z"
   },
   {
    "duration": 7,
    "start_time": "2022-01-22T19:25:22.561Z"
   },
   {
    "duration": 52,
    "start_time": "2022-01-22T19:25:22.571Z"
   },
   {
    "duration": 3,
    "start_time": "2022-01-22T19:25:22.625Z"
   },
   {
    "duration": 7,
    "start_time": "2022-01-22T19:25:22.631Z"
   },
   {
    "duration": 6,
    "start_time": "2022-01-22T19:25:22.640Z"
   },
   {
    "duration": 1230,
    "start_time": "2022-01-31T14:05:19.226Z"
   },
   {
    "duration": 35,
    "start_time": "2022-01-31T14:05:20.458Z"
   },
   {
    "duration": 21,
    "start_time": "2022-01-31T14:05:20.495Z"
   },
   {
    "duration": 2,
    "start_time": "2022-01-31T14:05:20.517Z"
   },
   {
    "duration": 15,
    "start_time": "2022-01-31T14:05:20.521Z"
   },
   {
    "duration": 17,
    "start_time": "2022-01-31T14:05:20.537Z"
   },
   {
    "duration": 6,
    "start_time": "2022-01-31T14:05:20.556Z"
   },
   {
    "duration": 18,
    "start_time": "2022-01-31T14:05:20.564Z"
   },
   {
    "duration": 4,
    "start_time": "2022-01-31T14:05:20.584Z"
   },
   {
    "duration": 39,
    "start_time": "2022-01-31T14:05:20.590Z"
   },
   {
    "duration": 216,
    "start_time": "2022-01-31T14:05:20.631Z"
   },
   {
    "duration": 2,
    "start_time": "2022-01-31T14:05:20.849Z"
   },
   {
    "duration": 9,
    "start_time": "2022-01-31T14:05:20.852Z"
   },
   {
    "duration": 5,
    "start_time": "2022-01-31T14:05:20.862Z"
   },
   {
    "duration": 15,
    "start_time": "2022-01-31T14:05:20.868Z"
   },
   {
    "duration": 584,
    "start_time": "2022-01-31T14:05:20.884Z"
   },
   {
    "duration": 3,
    "start_time": "2022-01-31T14:05:21.470Z"
   },
   {
    "duration": 23,
    "start_time": "2022-01-31T14:05:21.474Z"
   },
   {
    "duration": 438,
    "start_time": "2022-01-31T14:05:21.498Z"
   },
   {
    "duration": 206,
    "start_time": "2022-01-31T14:05:21.937Z"
   },
   {
    "duration": 2,
    "start_time": "2022-01-31T14:05:22.145Z"
   },
   {
    "duration": 8,
    "start_time": "2022-01-31T14:05:22.149Z"
   },
   {
    "duration": 459,
    "start_time": "2022-01-31T14:05:22.158Z"
   },
   {
    "duration": 900,
    "start_time": "2022-01-31T14:05:22.627Z"
   },
   {
    "duration": 7,
    "start_time": "2022-01-31T14:05:23.528Z"
   },
   {
    "duration": 307,
    "start_time": "2022-01-31T14:05:23.536Z"
   },
   {
    "duration": 351,
    "start_time": "2022-01-31T14:05:23.847Z"
   },
   {
    "duration": 10,
    "start_time": "2022-01-31T14:05:24.201Z"
   },
   {
    "duration": 18,
    "start_time": "2022-01-31T14:05:24.212Z"
   },
   {
    "duration": 235,
    "start_time": "2022-01-31T14:05:24.231Z"
   },
   {
    "duration": 14,
    "start_time": "2022-01-31T14:05:24.468Z"
   },
   {
    "duration": 13,
    "start_time": "2022-01-31T14:05:24.484Z"
   },
   {
    "duration": 35,
    "start_time": "2022-01-31T14:05:24.499Z"
   },
   {
    "duration": 8,
    "start_time": "2022-01-31T14:05:24.536Z"
   },
   {
    "duration": 101,
    "start_time": "2022-01-31T14:05:24.545Z"
   },
   {
    "duration": 101,
    "start_time": "2022-01-31T14:05:24.647Z"
   },
   {
    "duration": 88,
    "start_time": "2022-01-31T14:05:24.750Z"
   },
   {
    "duration": 8,
    "start_time": "2022-01-31T14:05:24.840Z"
   },
   {
    "duration": 9,
    "start_time": "2022-01-31T14:05:24.850Z"
   },
   {
    "duration": 11,
    "start_time": "2022-01-31T14:05:24.861Z"
   },
   {
    "duration": 6,
    "start_time": "2022-01-31T14:05:24.874Z"
   },
   {
    "duration": 11,
    "start_time": "2022-01-31T14:05:24.881Z"
   },
   {
    "duration": 6,
    "start_time": "2022-01-31T14:05:24.893Z"
   },
   {
    "duration": 300,
    "start_time": "2022-01-31T14:05:24.901Z"
   },
   {
    "duration": 9,
    "start_time": "2022-01-31T14:05:25.202Z"
   },
   {
    "duration": 17,
    "start_time": "2022-01-31T14:05:25.212Z"
   },
   {
    "duration": 10,
    "start_time": "2022-01-31T14:05:25.231Z"
   },
   {
    "duration": 7,
    "start_time": "2022-01-31T14:05:25.243Z"
   },
   {
    "duration": 9,
    "start_time": "2022-01-31T14:05:25.252Z"
   },
   {
    "duration": 5,
    "start_time": "2022-01-31T14:05:25.262Z"
   },
   {
    "duration": 492,
    "start_time": "2022-01-31T14:05:25.269Z"
   },
   {
    "duration": 22,
    "start_time": "2022-01-31T14:05:25.762Z"
   },
   {
    "duration": 22,
    "start_time": "2022-01-31T14:05:25.786Z"
   },
   {
    "duration": 18,
    "start_time": "2022-01-31T14:05:25.809Z"
   },
   {
    "duration": 3,
    "start_time": "2022-01-31T14:05:25.829Z"
   },
   {
    "duration": 6,
    "start_time": "2022-01-31T14:05:25.833Z"
   },
   {
    "duration": 6,
    "start_time": "2022-01-31T14:05:25.840Z"
   },
   {
    "duration": 10,
    "start_time": "2022-01-31T14:05:25.847Z"
   },
   {
    "duration": 5,
    "start_time": "2022-01-31T14:05:25.858Z"
   },
   {
    "duration": 5,
    "start_time": "2022-01-31T14:05:25.865Z"
   },
   {
    "duration": 7,
    "start_time": "2022-01-31T14:05:25.872Z"
   },
   {
    "duration": 7,
    "start_time": "2022-01-31T14:05:25.880Z"
   },
   {
    "duration": 4,
    "start_time": "2022-01-31T14:05:25.889Z"
   },
   {
    "duration": 8,
    "start_time": "2022-01-31T14:05:25.895Z"
   },
   {
    "duration": 23,
    "start_time": "2022-01-31T14:05:25.905Z"
   },
   {
    "duration": 8,
    "start_time": "2022-01-31T14:05:25.929Z"
   },
   {
    "duration": 9,
    "start_time": "2022-01-31T14:05:25.938Z"
   },
   {
    "duration": 9,
    "start_time": "2022-01-31T14:05:25.948Z"
   },
   {
    "duration": 3,
    "start_time": "2022-01-31T14:05:25.958Z"
   },
   {
    "duration": 8,
    "start_time": "2022-01-31T14:05:25.963Z"
   },
   {
    "duration": 5,
    "start_time": "2022-01-31T14:05:25.972Z"
   },
   {
    "duration": 5,
    "start_time": "2022-01-31T14:05:25.978Z"
   },
   {
    "duration": 4,
    "start_time": "2022-01-31T14:05:25.985Z"
   },
   {
    "duration": 6,
    "start_time": "2022-01-31T14:05:25.990Z"
   },
   {
    "duration": 6,
    "start_time": "2022-01-31T14:05:25.998Z"
   },
   {
    "duration": 3,
    "start_time": "2022-01-31T14:16:38.192Z"
   },
   {
    "duration": 38,
    "start_time": "2022-01-31T14:16:38.197Z"
   },
   {
    "duration": 22,
    "start_time": "2022-01-31T14:16:38.237Z"
   },
   {
    "duration": 3,
    "start_time": "2022-01-31T14:16:38.261Z"
   },
   {
    "duration": 16,
    "start_time": "2022-01-31T14:16:38.265Z"
   },
   {
    "duration": 52,
    "start_time": "2022-01-31T14:16:38.283Z"
   },
   {
    "duration": 8,
    "start_time": "2022-01-31T14:16:38.337Z"
   },
   {
    "duration": 39,
    "start_time": "2022-01-31T14:16:38.348Z"
   },
   {
    "duration": 5,
    "start_time": "2022-01-31T14:16:38.389Z"
   },
   {
    "duration": 36,
    "start_time": "2022-01-31T14:16:38.395Z"
   },
   {
    "duration": 213,
    "start_time": "2022-01-31T14:16:38.433Z"
   },
   {
    "duration": 2,
    "start_time": "2022-01-31T14:16:38.648Z"
   },
   {
    "duration": 7,
    "start_time": "2022-01-31T14:16:38.651Z"
   },
   {
    "duration": 4,
    "start_time": "2022-01-31T14:16:38.659Z"
   },
   {
    "duration": 13,
    "start_time": "2022-01-31T14:16:38.664Z"
   },
   {
    "duration": 556,
    "start_time": "2022-01-31T14:16:38.678Z"
   },
   {
    "duration": 2,
    "start_time": "2022-01-31T14:16:39.236Z"
   },
   {
    "duration": 17,
    "start_time": "2022-01-31T14:16:39.239Z"
   },
   {
    "duration": 398,
    "start_time": "2022-01-31T14:16:39.258Z"
   },
   {
    "duration": 176,
    "start_time": "2022-01-31T14:16:39.658Z"
   },
   {
    "duration": 3,
    "start_time": "2022-01-31T14:16:39.835Z"
   },
   {
    "duration": 8,
    "start_time": "2022-01-31T14:16:39.839Z"
   },
   {
    "duration": 455,
    "start_time": "2022-01-31T14:16:39.851Z"
   },
   {
    "duration": 730,
    "start_time": "2022-01-31T14:16:40.308Z"
   },
   {
    "duration": 6,
    "start_time": "2022-01-31T14:16:41.040Z"
   },
   {
    "duration": 314,
    "start_time": "2022-01-31T14:16:41.048Z"
   },
   {
    "duration": 290,
    "start_time": "2022-01-31T14:16:41.364Z"
   },
   {
    "duration": 9,
    "start_time": "2022-01-31T14:16:41.656Z"
   },
   {
    "duration": 5,
    "start_time": "2022-01-31T14:16:41.667Z"
   },
   {
    "duration": 235,
    "start_time": "2022-01-31T14:16:41.674Z"
   },
   {
    "duration": 21,
    "start_time": "2022-01-31T14:16:41.910Z"
   },
   {
    "duration": 13,
    "start_time": "2022-01-31T14:16:41.932Z"
   },
   {
    "duration": 14,
    "start_time": "2022-01-31T14:16:41.946Z"
   },
   {
    "duration": 5,
    "start_time": "2022-01-31T14:16:41.961Z"
   },
   {
    "duration": 103,
    "start_time": "2022-01-31T14:16:41.967Z"
   },
   {
    "duration": 96,
    "start_time": "2022-01-31T14:16:42.072Z"
   },
   {
    "duration": 92,
    "start_time": "2022-01-31T14:16:42.170Z"
   },
   {
    "duration": 8,
    "start_time": "2022-01-31T14:16:42.263Z"
   },
   {
    "duration": 6,
    "start_time": "2022-01-31T14:16:42.273Z"
   },
   {
    "duration": 9,
    "start_time": "2022-01-31T14:16:42.280Z"
   },
   {
    "duration": 5,
    "start_time": "2022-01-31T14:16:42.290Z"
   },
   {
    "duration": 32,
    "start_time": "2022-01-31T14:16:42.297Z"
   },
   {
    "duration": 11,
    "start_time": "2022-01-31T14:16:42.330Z"
   },
   {
    "duration": 265,
    "start_time": "2022-01-31T14:16:42.343Z"
   },
   {
    "duration": 20,
    "start_time": "2022-01-31T14:16:42.610Z"
   },
   {
    "duration": 6,
    "start_time": "2022-01-31T14:16:42.632Z"
   },
   {
    "duration": 8,
    "start_time": "2022-01-31T14:16:42.639Z"
   },
   {
    "duration": 7,
    "start_time": "2022-01-31T14:16:42.649Z"
   },
   {
    "duration": 9,
    "start_time": "2022-01-31T14:16:42.657Z"
   },
   {
    "duration": 9,
    "start_time": "2022-01-31T14:16:42.667Z"
   },
   {
    "duration": 411,
    "start_time": "2022-01-31T14:16:42.677Z"
   },
   {
    "duration": 21,
    "start_time": "2022-01-31T14:16:43.089Z"
   },
   {
    "duration": 30,
    "start_time": "2022-01-31T14:16:43.112Z"
   },
   {
    "duration": 3,
    "start_time": "2022-01-31T14:16:43.143Z"
   },
   {
    "duration": 7,
    "start_time": "2022-01-31T14:16:43.148Z"
   },
   {
    "duration": 4,
    "start_time": "2022-01-31T14:16:43.157Z"
   },
   {
    "duration": 5,
    "start_time": "2022-01-31T14:16:43.162Z"
   },
   {
    "duration": 5,
    "start_time": "2022-01-31T14:16:43.169Z"
   },
   {
    "duration": 6,
    "start_time": "2022-01-31T14:16:43.175Z"
   },
   {
    "duration": 3,
    "start_time": "2022-01-31T14:16:43.182Z"
   },
   {
    "duration": 5,
    "start_time": "2022-01-31T14:16:43.187Z"
   },
   {
    "duration": 7,
    "start_time": "2022-01-31T14:16:43.193Z"
   },
   {
    "duration": 27,
    "start_time": "2022-01-31T14:16:43.201Z"
   },
   {
    "duration": 11,
    "start_time": "2022-01-31T14:16:43.229Z"
   },
   {
    "duration": 13,
    "start_time": "2022-01-31T14:16:43.241Z"
   },
   {
    "duration": 11,
    "start_time": "2022-01-31T14:16:43.255Z"
   },
   {
    "duration": 15,
    "start_time": "2022-01-31T14:16:43.267Z"
   },
   {
    "duration": 7,
    "start_time": "2022-01-31T14:16:43.286Z"
   },
   {
    "duration": 7,
    "start_time": "2022-01-31T14:16:43.294Z"
   },
   {
    "duration": 16,
    "start_time": "2022-01-31T14:16:43.302Z"
   },
   {
    "duration": 17,
    "start_time": "2022-01-31T14:16:43.319Z"
   },
   {
    "duration": 5,
    "start_time": "2022-01-31T14:16:43.338Z"
   },
   {
    "duration": 13,
    "start_time": "2022-01-31T14:16:43.345Z"
   },
   {
    "duration": 12,
    "start_time": "2022-01-31T14:16:43.359Z"
   },
   {
    "duration": 8,
    "start_time": "2022-01-31T14:16:43.373Z"
   },
   {
    "duration": 3,
    "start_time": "2022-01-31T14:17:28.392Z"
   },
   {
    "duration": 39,
    "start_time": "2022-01-31T14:17:28.397Z"
   },
   {
    "duration": 20,
    "start_time": "2022-01-31T14:17:28.438Z"
   },
   {
    "duration": 3,
    "start_time": "2022-01-31T14:17:28.459Z"
   },
   {
    "duration": 13,
    "start_time": "2022-01-31T14:17:28.463Z"
   },
   {
    "duration": 18,
    "start_time": "2022-01-31T14:17:28.478Z"
   },
   {
    "duration": 9,
    "start_time": "2022-01-31T14:17:28.527Z"
   },
   {
    "duration": 21,
    "start_time": "2022-01-31T14:17:28.538Z"
   },
   {
    "duration": 4,
    "start_time": "2022-01-31T14:17:28.562Z"
   },
   {
    "duration": 14,
    "start_time": "2022-01-31T14:17:28.568Z"
   },
   {
    "duration": 211,
    "start_time": "2022-01-31T14:17:28.628Z"
   },
   {
    "duration": 2,
    "start_time": "2022-01-31T14:17:28.840Z"
   },
   {
    "duration": 8,
    "start_time": "2022-01-31T14:17:28.844Z"
   },
   {
    "duration": 5,
    "start_time": "2022-01-31T14:17:28.854Z"
   },
   {
    "duration": 14,
    "start_time": "2022-01-31T14:17:28.860Z"
   },
   {
    "duration": 652,
    "start_time": "2022-01-31T14:17:28.875Z"
   },
   {
    "duration": 3,
    "start_time": "2022-01-31T14:17:29.528Z"
   },
   {
    "duration": 19,
    "start_time": "2022-01-31T14:17:29.532Z"
   },
   {
    "duration": 387,
    "start_time": "2022-01-31T14:17:29.552Z"
   },
   {
    "duration": 202,
    "start_time": "2022-01-31T14:17:29.940Z"
   },
   {
    "duration": 3,
    "start_time": "2022-01-31T14:17:30.143Z"
   },
   {
    "duration": 13,
    "start_time": "2022-01-31T14:17:30.147Z"
   },
   {
    "duration": 575,
    "start_time": "2022-01-31T14:17:30.162Z"
   },
   {
    "duration": 642,
    "start_time": "2022-01-31T14:17:30.739Z"
   },
   {
    "duration": 6,
    "start_time": "2022-01-31T14:17:31.383Z"
   },
   {
    "duration": 314,
    "start_time": "2022-01-31T14:17:31.391Z"
   },
   {
    "duration": 338,
    "start_time": "2022-01-31T14:17:31.708Z"
   },
   {
    "duration": 7,
    "start_time": "2022-01-31T14:17:32.048Z"
   },
   {
    "duration": 5,
    "start_time": "2022-01-31T14:17:32.056Z"
   },
   {
    "duration": 226,
    "start_time": "2022-01-31T14:17:32.062Z"
   },
   {
    "duration": 13,
    "start_time": "2022-01-31T14:17:32.289Z"
   },
   {
    "duration": 25,
    "start_time": "2022-01-31T14:17:32.303Z"
   },
   {
    "duration": 12,
    "start_time": "2022-01-31T14:17:32.329Z"
   },
   {
    "duration": 4,
    "start_time": "2022-01-31T14:17:32.342Z"
   },
   {
    "duration": 103,
    "start_time": "2022-01-31T14:17:32.348Z"
   },
   {
    "duration": 93,
    "start_time": "2022-01-31T14:17:32.452Z"
   },
   {
    "duration": 100,
    "start_time": "2022-01-31T14:17:32.546Z"
   },
   {
    "duration": 9,
    "start_time": "2022-01-31T14:17:32.647Z"
   },
   {
    "duration": 8,
    "start_time": "2022-01-31T14:17:32.658Z"
   },
   {
    "duration": 10,
    "start_time": "2022-01-31T14:17:32.667Z"
   },
   {
    "duration": 8,
    "start_time": "2022-01-31T14:17:32.679Z"
   },
   {
    "duration": 13,
    "start_time": "2022-01-31T14:17:32.688Z"
   },
   {
    "duration": 7,
    "start_time": "2022-01-31T14:17:32.703Z"
   },
   {
    "duration": 277,
    "start_time": "2022-01-31T14:17:32.727Z"
   },
   {
    "duration": 9,
    "start_time": "2022-01-31T14:17:33.005Z"
   },
   {
    "duration": 16,
    "start_time": "2022-01-31T14:17:33.015Z"
   },
   {
    "duration": 9,
    "start_time": "2022-01-31T14:17:33.033Z"
   },
   {
    "duration": 19,
    "start_time": "2022-01-31T14:17:33.043Z"
   },
   {
    "duration": 12,
    "start_time": "2022-01-31T14:17:33.063Z"
   },
   {
    "duration": 10,
    "start_time": "2022-01-31T14:17:33.077Z"
   },
   {
    "duration": 399,
    "start_time": "2022-01-31T14:17:33.089Z"
   },
   {
    "duration": 22,
    "start_time": "2022-01-31T14:17:33.489Z"
   },
   {
    "duration": 31,
    "start_time": "2022-01-31T14:17:33.512Z"
   },
   {
    "duration": 3,
    "start_time": "2022-01-31T14:17:33.544Z"
   },
   {
    "duration": 4,
    "start_time": "2022-01-31T14:17:33.549Z"
   },
   {
    "duration": 6,
    "start_time": "2022-01-31T14:17:33.554Z"
   },
   {
    "duration": 6,
    "start_time": "2022-01-31T14:17:33.561Z"
   },
   {
    "duration": 7,
    "start_time": "2022-01-31T14:17:33.568Z"
   },
   {
    "duration": 5,
    "start_time": "2022-01-31T14:17:33.576Z"
   },
   {
    "duration": 4,
    "start_time": "2022-01-31T14:17:33.582Z"
   },
   {
    "duration": 5,
    "start_time": "2022-01-31T14:17:33.587Z"
   },
   {
    "duration": 6,
    "start_time": "2022-01-31T14:17:33.593Z"
   },
   {
    "duration": 30,
    "start_time": "2022-01-31T14:17:33.600Z"
   },
   {
    "duration": 9,
    "start_time": "2022-01-31T14:17:33.631Z"
   },
   {
    "duration": 3,
    "start_time": "2022-01-31T14:17:33.641Z"
   },
   {
    "duration": 8,
    "start_time": "2022-01-31T14:17:33.646Z"
   },
   {
    "duration": 14,
    "start_time": "2022-01-31T14:17:33.655Z"
   },
   {
    "duration": 14,
    "start_time": "2022-01-31T14:17:33.670Z"
   },
   {
    "duration": 10,
    "start_time": "2022-01-31T14:17:33.686Z"
   },
   {
    "duration": 12,
    "start_time": "2022-01-31T14:17:33.698Z"
   },
   {
    "duration": 17,
    "start_time": "2022-01-31T14:17:33.711Z"
   },
   {
    "duration": 13,
    "start_time": "2022-01-31T14:17:33.730Z"
   },
   {
    "duration": 8,
    "start_time": "2022-01-31T14:17:33.745Z"
   },
   {
    "duration": 15,
    "start_time": "2022-01-31T14:17:33.755Z"
   },
   {
    "duration": 10,
    "start_time": "2022-01-31T14:17:33.771Z"
   },
   {
    "duration": 170,
    "start_time": "2022-01-31T14:18:00.296Z"
   },
   {
    "duration": 311,
    "start_time": "2022-01-31T14:18:08.039Z"
   },
   {
    "duration": 171,
    "start_time": "2022-01-31T14:18:12.534Z"
   },
   {
    "duration": 3,
    "start_time": "2022-01-31T14:18:17.672Z"
   },
   {
    "duration": 37,
    "start_time": "2022-01-31T14:18:17.677Z"
   },
   {
    "duration": 18,
    "start_time": "2022-01-31T14:18:17.716Z"
   },
   {
    "duration": 2,
    "start_time": "2022-01-31T14:18:17.736Z"
   },
   {
    "duration": 12,
    "start_time": "2022-01-31T14:18:17.740Z"
   },
   {
    "duration": 19,
    "start_time": "2022-01-31T14:18:17.754Z"
   },
   {
    "duration": 9,
    "start_time": "2022-01-31T14:18:17.775Z"
   },
   {
    "duration": 49,
    "start_time": "2022-01-31T14:18:17.786Z"
   },
   {
    "duration": 3,
    "start_time": "2022-01-31T14:18:17.838Z"
   },
   {
    "duration": 12,
    "start_time": "2022-01-31T14:18:17.843Z"
   },
   {
    "duration": 232,
    "start_time": "2022-01-31T14:18:17.856Z"
   },
   {
    "duration": 2,
    "start_time": "2022-01-31T14:18:18.090Z"
   },
   {
    "duration": 9,
    "start_time": "2022-01-31T14:18:18.093Z"
   },
   {
    "duration": 5,
    "start_time": "2022-01-31T14:18:18.103Z"
   },
   {
    "duration": 27,
    "start_time": "2022-01-31T14:18:18.109Z"
   },
   {
    "duration": 538,
    "start_time": "2022-01-31T14:18:18.137Z"
   },
   {
    "duration": 2,
    "start_time": "2022-01-31T14:18:18.676Z"
   },
   {
    "duration": 18,
    "start_time": "2022-01-31T14:18:18.680Z"
   },
   {
    "duration": 423,
    "start_time": "2022-01-31T14:18:18.699Z"
   },
   {
    "duration": 180,
    "start_time": "2022-01-31T14:18:19.123Z"
   },
   {
    "duration": 2,
    "start_time": "2022-01-31T14:18:19.304Z"
   },
   {
    "duration": 12,
    "start_time": "2022-01-31T14:18:19.308Z"
   },
   {
    "duration": 493,
    "start_time": "2022-01-31T14:18:19.322Z"
   },
   {
    "duration": 684,
    "start_time": "2022-01-31T14:18:19.817Z"
   },
   {
    "duration": 7,
    "start_time": "2022-01-31T14:18:20.502Z"
   },
   {
    "duration": 323,
    "start_time": "2022-01-31T14:18:20.511Z"
   },
   {
    "duration": 306,
    "start_time": "2022-01-31T14:18:20.839Z"
   },
   {
    "duration": 8,
    "start_time": "2022-01-31T14:18:21.148Z"
   },
   {
    "duration": 9,
    "start_time": "2022-01-31T14:18:21.157Z"
   },
   {
    "duration": 227,
    "start_time": "2022-01-31T14:18:21.167Z"
   },
   {
    "duration": 12,
    "start_time": "2022-01-31T14:18:21.396Z"
   },
   {
    "duration": 25,
    "start_time": "2022-01-31T14:18:21.410Z"
   },
   {
    "duration": 12,
    "start_time": "2022-01-31T14:18:21.436Z"
   },
   {
    "duration": 6,
    "start_time": "2022-01-31T14:18:21.449Z"
   },
   {
    "duration": 104,
    "start_time": "2022-01-31T14:18:21.456Z"
   },
   {
    "duration": 96,
    "start_time": "2022-01-31T14:18:21.562Z"
   },
   {
    "duration": 91,
    "start_time": "2022-01-31T14:18:21.660Z"
   },
   {
    "duration": 8,
    "start_time": "2022-01-31T14:18:21.753Z"
   },
   {
    "duration": 6,
    "start_time": "2022-01-31T14:18:21.762Z"
   },
   {
    "duration": 9,
    "start_time": "2022-01-31T14:18:21.770Z"
   },
   {
    "duration": 8,
    "start_time": "2022-01-31T14:18:21.780Z"
   },
   {
    "duration": 10,
    "start_time": "2022-01-31T14:18:21.789Z"
   },
   {
    "duration": 27,
    "start_time": "2022-01-31T14:18:21.801Z"
   },
   {
    "duration": 267,
    "start_time": "2022-01-31T14:18:21.830Z"
   },
   {
    "duration": 8,
    "start_time": "2022-01-31T14:18:22.098Z"
   },
   {
    "duration": 20,
    "start_time": "2022-01-31T14:18:22.108Z"
   },
   {
    "duration": 9,
    "start_time": "2022-01-31T14:18:22.129Z"
   },
   {
    "duration": 6,
    "start_time": "2022-01-31T14:18:22.140Z"
   },
   {
    "duration": 9,
    "start_time": "2022-01-31T14:18:22.148Z"
   },
   {
    "duration": 5,
    "start_time": "2022-01-31T14:18:22.158Z"
   },
   {
    "duration": 559,
    "start_time": "2022-01-31T14:18:22.164Z"
   },
   {
    "duration": 21,
    "start_time": "2022-01-31T14:18:22.725Z"
   },
   {
    "duration": 19,
    "start_time": "2022-01-31T14:18:22.748Z"
   },
   {
    "duration": 3,
    "start_time": "2022-01-31T14:18:22.768Z"
   },
   {
    "duration": 5,
    "start_time": "2022-01-31T14:18:22.773Z"
   },
   {
    "duration": 4,
    "start_time": "2022-01-31T14:18:22.779Z"
   },
   {
    "duration": 4,
    "start_time": "2022-01-31T14:18:22.785Z"
   },
   {
    "duration": 36,
    "start_time": "2022-01-31T14:18:22.791Z"
   },
   {
    "duration": 3,
    "start_time": "2022-01-31T14:18:22.829Z"
   },
   {
    "duration": 3,
    "start_time": "2022-01-31T14:18:22.834Z"
   },
   {
    "duration": 4,
    "start_time": "2022-01-31T14:18:22.839Z"
   },
   {
    "duration": 5,
    "start_time": "2022-01-31T14:18:22.845Z"
   },
   {
    "duration": 5,
    "start_time": "2022-01-31T14:18:22.851Z"
   },
   {
    "duration": 12,
    "start_time": "2022-01-31T14:18:22.857Z"
   },
   {
    "duration": 3,
    "start_time": "2022-01-31T14:18:22.870Z"
   },
   {
    "duration": 6,
    "start_time": "2022-01-31T14:18:22.875Z"
   },
   {
    "duration": 6,
    "start_time": "2022-01-31T14:18:22.882Z"
   },
   {
    "duration": 38,
    "start_time": "2022-01-31T14:18:22.889Z"
   },
   {
    "duration": 3,
    "start_time": "2022-01-31T14:18:22.928Z"
   },
   {
    "duration": 4,
    "start_time": "2022-01-31T14:18:22.933Z"
   },
   {
    "duration": 4,
    "start_time": "2022-01-31T14:18:22.939Z"
   },
   {
    "duration": 4,
    "start_time": "2022-01-31T14:18:22.945Z"
   },
   {
    "duration": 4,
    "start_time": "2022-01-31T14:18:22.951Z"
   },
   {
    "duration": 5,
    "start_time": "2022-01-31T14:18:22.956Z"
   },
   {
    "duration": 4,
    "start_time": "2022-01-31T14:18:22.962Z"
   },
   {
    "duration": 7,
    "start_time": "2022-01-31T14:20:53.442Z"
   },
   {
    "duration": 381,
    "start_time": "2022-01-31T14:20:55.032Z"
   },
   {
    "duration": 4,
    "start_time": "2022-01-31T14:21:07.021Z"
   },
   {
    "duration": 339,
    "start_time": "2022-01-31T14:21:07.614Z"
   },
   {
    "duration": 2,
    "start_time": "2022-01-31T14:21:11.710Z"
   },
   {
    "duration": 39,
    "start_time": "2022-01-31T14:21:11.714Z"
   },
   {
    "duration": 22,
    "start_time": "2022-01-31T14:21:11.755Z"
   },
   {
    "duration": 3,
    "start_time": "2022-01-31T14:21:11.780Z"
   },
   {
    "duration": 43,
    "start_time": "2022-01-31T14:21:11.785Z"
   },
   {
    "duration": 23,
    "start_time": "2022-01-31T14:21:11.830Z"
   },
   {
    "duration": 7,
    "start_time": "2022-01-31T14:21:11.854Z"
   },
   {
    "duration": 19,
    "start_time": "2022-01-31T14:21:11.862Z"
   },
   {
    "duration": 43,
    "start_time": "2022-01-31T14:21:11.884Z"
   },
   {
    "duration": 11,
    "start_time": "2022-01-31T14:21:11.929Z"
   },
   {
    "duration": 217,
    "start_time": "2022-01-31T14:21:11.941Z"
   },
   {
    "duration": 2,
    "start_time": "2022-01-31T14:21:12.160Z"
   },
   {
    "duration": 8,
    "start_time": "2022-01-31T14:21:12.164Z"
   },
   {
    "duration": 8,
    "start_time": "2022-01-31T14:21:12.173Z"
   },
   {
    "duration": 13,
    "start_time": "2022-01-31T14:21:12.182Z"
   },
   {
    "duration": 562,
    "start_time": "2022-01-31T14:21:12.197Z"
   },
   {
    "duration": 3,
    "start_time": "2022-01-31T14:21:12.761Z"
   },
   {
    "duration": 18,
    "start_time": "2022-01-31T14:21:12.765Z"
   },
   {
    "duration": 405,
    "start_time": "2022-01-31T14:21:12.785Z"
   },
   {
    "duration": 178,
    "start_time": "2022-01-31T14:21:13.192Z"
   },
   {
    "duration": 3,
    "start_time": "2022-01-31T14:21:13.372Z"
   },
   {
    "duration": 7,
    "start_time": "2022-01-31T14:21:13.377Z"
   },
   {
    "duration": 505,
    "start_time": "2022-01-31T14:21:13.385Z"
   },
   {
    "duration": 645,
    "start_time": "2022-01-31T14:21:13.892Z"
   },
   {
    "duration": 7,
    "start_time": "2022-01-31T14:21:14.538Z"
   },
   {
    "duration": 297,
    "start_time": "2022-01-31T14:21:14.546Z"
   },
   {
    "duration": 301,
    "start_time": "2022-01-31T14:21:14.847Z"
   },
   {
    "duration": 7,
    "start_time": "2022-01-31T14:21:15.150Z"
   },
   {
    "duration": 6,
    "start_time": "2022-01-31T14:21:15.158Z"
   },
   {
    "duration": 225,
    "start_time": "2022-01-31T14:21:15.166Z"
   },
   {
    "duration": 15,
    "start_time": "2022-01-31T14:21:15.392Z"
   },
   {
    "duration": 28,
    "start_time": "2022-01-31T14:21:15.408Z"
   },
   {
    "duration": 13,
    "start_time": "2022-01-31T14:21:15.437Z"
   },
   {
    "duration": 4,
    "start_time": "2022-01-31T14:21:15.452Z"
   },
   {
    "duration": 101,
    "start_time": "2022-01-31T14:21:15.457Z"
   },
   {
    "duration": 98,
    "start_time": "2022-01-31T14:21:15.559Z"
   },
   {
    "duration": 98,
    "start_time": "2022-01-31T14:21:15.658Z"
   },
   {
    "duration": 9,
    "start_time": "2022-01-31T14:21:15.758Z"
   },
   {
    "duration": 6,
    "start_time": "2022-01-31T14:21:15.769Z"
   },
   {
    "duration": 8,
    "start_time": "2022-01-31T14:21:15.777Z"
   },
   {
    "duration": 6,
    "start_time": "2022-01-31T14:21:15.787Z"
   },
   {
    "duration": 38,
    "start_time": "2022-01-31T14:21:15.795Z"
   },
   {
    "duration": 6,
    "start_time": "2022-01-31T14:21:15.835Z"
   },
   {
    "duration": 272,
    "start_time": "2022-01-31T14:21:15.843Z"
   },
   {
    "duration": 16,
    "start_time": "2022-01-31T14:21:16.117Z"
   },
   {
    "duration": 5,
    "start_time": "2022-01-31T14:21:16.135Z"
   },
   {
    "duration": 12,
    "start_time": "2022-01-31T14:21:16.142Z"
   },
   {
    "duration": 7,
    "start_time": "2022-01-31T14:21:16.155Z"
   },
   {
    "duration": 10,
    "start_time": "2022-01-31T14:21:16.164Z"
   },
   {
    "duration": 5,
    "start_time": "2022-01-31T14:21:16.176Z"
   },
   {
    "duration": 690,
    "start_time": "2022-01-31T14:21:16.183Z"
   },
   {
    "duration": 22,
    "start_time": "2022-01-31T14:21:16.874Z"
   },
   {
    "duration": 34,
    "start_time": "2022-01-31T14:21:16.898Z"
   },
   {
    "duration": 4,
    "start_time": "2022-01-31T14:21:16.933Z"
   },
   {
    "duration": 6,
    "start_time": "2022-01-31T14:21:16.938Z"
   },
   {
    "duration": 6,
    "start_time": "2022-01-31T14:21:16.945Z"
   },
   {
    "duration": 10,
    "start_time": "2022-01-31T14:21:16.952Z"
   },
   {
    "duration": 6,
    "start_time": "2022-01-31T14:21:16.964Z"
   },
   {
    "duration": 4,
    "start_time": "2022-01-31T14:21:16.972Z"
   },
   {
    "duration": 5,
    "start_time": "2022-01-31T14:21:16.978Z"
   },
   {
    "duration": 8,
    "start_time": "2022-01-31T14:21:16.984Z"
   },
   {
    "duration": 4,
    "start_time": "2022-01-31T14:21:16.994Z"
   },
   {
    "duration": 8,
    "start_time": "2022-01-31T14:21:16.999Z"
   },
   {
    "duration": 24,
    "start_time": "2022-01-31T14:21:17.008Z"
   },
   {
    "duration": 3,
    "start_time": "2022-01-31T14:21:17.034Z"
   },
   {
    "duration": 6,
    "start_time": "2022-01-31T14:21:17.039Z"
   },
   {
    "duration": 3,
    "start_time": "2022-01-31T14:21:17.047Z"
   },
   {
    "duration": 7,
    "start_time": "2022-01-31T14:21:17.052Z"
   },
   {
    "duration": 3,
    "start_time": "2022-01-31T14:21:17.061Z"
   },
   {
    "duration": 4,
    "start_time": "2022-01-31T14:21:17.065Z"
   },
   {
    "duration": 4,
    "start_time": "2022-01-31T14:21:17.071Z"
   },
   {
    "duration": 5,
    "start_time": "2022-01-31T14:21:17.076Z"
   },
   {
    "duration": 5,
    "start_time": "2022-01-31T14:21:17.082Z"
   },
   {
    "duration": 10,
    "start_time": "2022-01-31T14:21:17.088Z"
   },
   {
    "duration": 3,
    "start_time": "2022-01-31T14:21:17.127Z"
   },
   {
    "duration": 27,
    "start_time": "2022-01-31T14:22:21.153Z"
   },
   {
    "duration": 26,
    "start_time": "2022-01-31T14:23:41.150Z"
   },
   {
    "duration": 4,
    "start_time": "2022-01-31T14:24:58.002Z"
   },
   {
    "duration": 40,
    "start_time": "2022-01-31T14:24:58.007Z"
   },
   {
    "duration": 20,
    "start_time": "2022-01-31T14:24:58.049Z"
   },
   {
    "duration": 3,
    "start_time": "2022-01-31T14:24:58.071Z"
   },
   {
    "duration": 19,
    "start_time": "2022-01-31T14:24:58.075Z"
   },
   {
    "duration": 18,
    "start_time": "2022-01-31T14:24:58.128Z"
   },
   {
    "duration": 6,
    "start_time": "2022-01-31T14:24:58.148Z"
   },
   {
    "duration": 18,
    "start_time": "2022-01-31T14:24:58.157Z"
   },
   {
    "duration": 3,
    "start_time": "2022-01-31T14:24:58.177Z"
   },
   {
    "duration": 54,
    "start_time": "2022-01-31T14:24:58.182Z"
   },
   {
    "duration": 235,
    "start_time": "2022-01-31T14:24:58.237Z"
   },
   {
    "duration": 2,
    "start_time": "2022-01-31T14:24:58.473Z"
   },
   {
    "duration": 7,
    "start_time": "2022-01-31T14:24:58.477Z"
   },
   {
    "duration": 4,
    "start_time": "2022-01-31T14:24:58.486Z"
   },
   {
    "duration": 15,
    "start_time": "2022-01-31T14:24:58.492Z"
   },
   {
    "duration": 576,
    "start_time": "2022-01-31T14:24:58.508Z"
   },
   {
    "duration": 2,
    "start_time": "2022-01-31T14:24:59.086Z"
   },
   {
    "duration": 21,
    "start_time": "2022-01-31T14:24:59.089Z"
   },
   {
    "duration": 441,
    "start_time": "2022-01-31T14:24:59.111Z"
   },
   {
    "duration": 177,
    "start_time": "2022-01-31T14:24:59.554Z"
   },
   {
    "duration": 2,
    "start_time": "2022-01-31T14:24:59.733Z"
   },
   {
    "duration": 9,
    "start_time": "2022-01-31T14:24:59.736Z"
   },
   {
    "duration": 581,
    "start_time": "2022-01-31T14:24:59.749Z"
   },
   {
    "duration": 645,
    "start_time": "2022-01-31T14:25:00.333Z"
   },
   {
    "duration": 7,
    "start_time": "2022-01-31T14:25:00.979Z"
   },
   {
    "duration": 326,
    "start_time": "2022-01-31T14:25:00.987Z"
   },
   {
    "duration": 351,
    "start_time": "2022-01-31T14:25:01.315Z"
   },
   {
    "duration": 8,
    "start_time": "2022-01-31T14:25:01.668Z"
   },
   {
    "duration": 5,
    "start_time": "2022-01-31T14:25:01.677Z"
   },
   {
    "duration": 235,
    "start_time": "2022-01-31T14:25:01.683Z"
   },
   {
    "duration": 16,
    "start_time": "2022-01-31T14:25:01.920Z"
   },
   {
    "duration": 12,
    "start_time": "2022-01-31T14:25:01.938Z"
   },
   {
    "duration": 12,
    "start_time": "2022-01-31T14:25:01.952Z"
   },
   {
    "duration": 5,
    "start_time": "2022-01-31T14:25:01.965Z"
   },
   {
    "duration": 112,
    "start_time": "2022-01-31T14:25:01.971Z"
   },
   {
    "duration": 97,
    "start_time": "2022-01-31T14:25:02.085Z"
   },
   {
    "duration": 99,
    "start_time": "2022-01-31T14:25:02.184Z"
   },
   {
    "duration": 8,
    "start_time": "2022-01-31T14:25:02.285Z"
   },
   {
    "duration": 9,
    "start_time": "2022-01-31T14:25:02.294Z"
   },
   {
    "duration": 10,
    "start_time": "2022-01-31T14:25:02.305Z"
   },
   {
    "duration": 12,
    "start_time": "2022-01-31T14:25:02.317Z"
   },
   {
    "duration": 17,
    "start_time": "2022-01-31T14:25:02.330Z"
   },
   {
    "duration": 7,
    "start_time": "2022-01-31T14:25:02.348Z"
   },
   {
    "duration": 272,
    "start_time": "2022-01-31T14:25:02.356Z"
   },
   {
    "duration": 8,
    "start_time": "2022-01-31T14:25:02.629Z"
   },
   {
    "duration": 8,
    "start_time": "2022-01-31T14:25:02.639Z"
   },
   {
    "duration": 12,
    "start_time": "2022-01-31T14:25:02.648Z"
   },
   {
    "duration": 6,
    "start_time": "2022-01-31T14:25:02.661Z"
   },
   {
    "duration": 8,
    "start_time": "2022-01-31T14:25:02.668Z"
   },
   {
    "duration": 10,
    "start_time": "2022-01-31T14:25:02.677Z"
   },
   {
    "duration": 409,
    "start_time": "2022-01-31T14:25:02.688Z"
   },
   {
    "duration": 30,
    "start_time": "2022-01-31T14:25:03.098Z"
   },
   {
    "duration": 21,
    "start_time": "2022-01-31T14:25:03.129Z"
   },
   {
    "duration": 3,
    "start_time": "2022-01-31T14:25:03.152Z"
   },
   {
    "duration": 8,
    "start_time": "2022-01-31T14:25:03.156Z"
   },
   {
    "duration": 4,
    "start_time": "2022-01-31T14:25:03.165Z"
   },
   {
    "duration": 9,
    "start_time": "2022-01-31T14:25:03.170Z"
   },
   {
    "duration": 6,
    "start_time": "2022-01-31T14:25:03.180Z"
   },
   {
    "duration": 5,
    "start_time": "2022-01-31T14:25:03.187Z"
   },
   {
    "duration": 8,
    "start_time": "2022-01-31T14:25:03.193Z"
   },
   {
    "duration": 25,
    "start_time": "2022-01-31T14:25:03.202Z"
   },
   {
    "duration": 8,
    "start_time": "2022-01-31T14:25:03.228Z"
   },
   {
    "duration": 4,
    "start_time": "2022-01-31T14:25:03.237Z"
   },
   {
    "duration": 10,
    "start_time": "2022-01-31T14:25:03.243Z"
   },
   {
    "duration": 3,
    "start_time": "2022-01-31T14:25:03.254Z"
   },
   {
    "duration": 5,
    "start_time": "2022-01-31T14:25:03.258Z"
   },
   {
    "duration": 3,
    "start_time": "2022-01-31T14:25:03.265Z"
   },
   {
    "duration": 6,
    "start_time": "2022-01-31T14:25:03.273Z"
   },
   {
    "duration": 3,
    "start_time": "2022-01-31T14:25:03.281Z"
   },
   {
    "duration": 7,
    "start_time": "2022-01-31T14:25:03.286Z"
   },
   {
    "duration": 5,
    "start_time": "2022-01-31T14:25:03.294Z"
   },
   {
    "duration": 27,
    "start_time": "2022-01-31T14:25:03.300Z"
   },
   {
    "duration": 8,
    "start_time": "2022-01-31T14:25:03.328Z"
   },
   {
    "duration": 9,
    "start_time": "2022-01-31T14:25:03.337Z"
   },
   {
    "duration": 5,
    "start_time": "2022-01-31T14:25:03.347Z"
   },
   {
    "duration": 8,
    "start_time": "2022-01-31T14:26:49.162Z"
   },
   {
    "duration": 297,
    "start_time": "2022-01-31T14:26:50.444Z"
   },
   {
    "duration": 5,
    "start_time": "2022-01-31T14:26:59.373Z"
   },
   {
    "duration": 319,
    "start_time": "2022-01-31T14:27:01.396Z"
   },
   {
    "duration": 7,
    "start_time": "2022-01-31T14:27:42.054Z"
   },
   {
    "duration": 297,
    "start_time": "2022-01-31T14:27:43.089Z"
   },
   {
    "duration": 25,
    "start_time": "2022-01-31T14:39:18.376Z"
   },
   {
    "duration": 24,
    "start_time": "2022-01-31T14:46:30.760Z"
   },
   {
    "duration": 22,
    "start_time": "2022-01-31T14:46:50.738Z"
   },
   {
    "duration": 21,
    "start_time": "2022-01-31T14:46:59.599Z"
   },
   {
    "duration": 22,
    "start_time": "2022-01-31T14:47:04.851Z"
   },
   {
    "duration": 7,
    "start_time": "2022-01-31T14:47:14.497Z"
   },
   {
    "duration": 3,
    "start_time": "2022-01-31T14:47:17.444Z"
   },
   {
    "duration": 40,
    "start_time": "2022-01-31T14:47:17.448Z"
   },
   {
    "duration": 22,
    "start_time": "2022-01-31T14:47:17.490Z"
   },
   {
    "duration": 3,
    "start_time": "2022-01-31T14:47:17.515Z"
   },
   {
    "duration": 13,
    "start_time": "2022-01-31T14:47:17.527Z"
   },
   {
    "duration": 19,
    "start_time": "2022-01-31T14:47:17.541Z"
   },
   {
    "duration": 7,
    "start_time": "2022-01-31T14:47:17.561Z"
   },
   {
    "duration": 20,
    "start_time": "2022-01-31T14:47:17.570Z"
   },
   {
    "duration": 5,
    "start_time": "2022-01-31T14:47:17.629Z"
   },
   {
    "duration": 13,
    "start_time": "2022-01-31T14:47:17.636Z"
   },
   {
    "duration": 237,
    "start_time": "2022-01-31T14:47:17.651Z"
   },
   {
    "duration": 3,
    "start_time": "2022-01-31T14:47:17.889Z"
   },
   {
    "duration": 7,
    "start_time": "2022-01-31T14:47:17.894Z"
   },
   {
    "duration": 5,
    "start_time": "2022-01-31T14:47:17.902Z"
   },
   {
    "duration": 26,
    "start_time": "2022-01-31T14:47:17.908Z"
   },
   {
    "duration": 539,
    "start_time": "2022-01-31T14:47:17.935Z"
   },
   {
    "duration": 3,
    "start_time": "2022-01-31T14:47:18.475Z"
   },
   {
    "duration": 24,
    "start_time": "2022-01-31T14:47:18.479Z"
   },
   {
    "duration": 643,
    "start_time": "2022-01-31T14:47:18.505Z"
   },
   {
    "duration": 180,
    "start_time": "2022-01-31T14:47:19.150Z"
   },
   {
    "duration": 2,
    "start_time": "2022-01-31T14:47:19.332Z"
   },
   {
    "duration": 8,
    "start_time": "2022-01-31T14:47:19.336Z"
   },
   {
    "duration": 528,
    "start_time": "2022-01-31T14:47:19.345Z"
   },
   {
    "duration": 658,
    "start_time": "2022-01-31T14:47:19.875Z"
   },
   {
    "duration": 7,
    "start_time": "2022-01-31T14:47:20.535Z"
   },
   {
    "duration": 303,
    "start_time": "2022-01-31T14:47:20.544Z"
   },
   {
    "duration": 293,
    "start_time": "2022-01-31T14:47:20.852Z"
   },
   {
    "duration": 8,
    "start_time": "2022-01-31T14:47:21.147Z"
   },
   {
    "duration": 9,
    "start_time": "2022-01-31T14:47:21.156Z"
   },
   {
    "duration": 221,
    "start_time": "2022-01-31T14:47:21.167Z"
   },
   {
    "duration": 13,
    "start_time": "2022-01-31T14:47:21.389Z"
   },
   {
    "duration": 25,
    "start_time": "2022-01-31T14:47:21.404Z"
   },
   {
    "duration": 11,
    "start_time": "2022-01-31T14:47:21.431Z"
   },
   {
    "duration": 4,
    "start_time": "2022-01-31T14:47:21.444Z"
   },
   {
    "duration": 102,
    "start_time": "2022-01-31T14:47:21.450Z"
   },
   {
    "duration": 91,
    "start_time": "2022-01-31T14:47:21.553Z"
   },
   {
    "duration": 96,
    "start_time": "2022-01-31T14:47:21.646Z"
   },
   {
    "duration": 8,
    "start_time": "2022-01-31T14:47:21.744Z"
   },
   {
    "duration": 20,
    "start_time": "2022-01-31T14:47:21.754Z"
   },
   {
    "duration": 11,
    "start_time": "2022-01-31T14:47:21.776Z"
   },
   {
    "duration": 11,
    "start_time": "2022-01-31T14:47:21.788Z"
   },
   {
    "duration": 13,
    "start_time": "2022-01-31T14:47:21.800Z"
   },
   {
    "duration": 13,
    "start_time": "2022-01-31T14:47:21.815Z"
   },
   {
    "duration": 269,
    "start_time": "2022-01-31T14:47:21.829Z"
   },
   {
    "duration": 9,
    "start_time": "2022-01-31T14:47:22.100Z"
   },
   {
    "duration": 18,
    "start_time": "2022-01-31T14:47:22.110Z"
   },
   {
    "duration": 7,
    "start_time": "2022-01-31T14:47:22.129Z"
   },
   {
    "duration": 8,
    "start_time": "2022-01-31T14:47:22.138Z"
   },
   {
    "duration": 10,
    "start_time": "2022-01-31T14:47:22.147Z"
   },
   {
    "duration": 11,
    "start_time": "2022-01-31T14:47:22.158Z"
   },
   {
    "duration": 384,
    "start_time": "2022-01-31T14:47:22.170Z"
   },
   {
    "duration": 22,
    "start_time": "2022-01-31T14:47:22.556Z"
   },
   {
    "duration": 20,
    "start_time": "2022-01-31T14:47:22.580Z"
   },
   {
    "duration": 3,
    "start_time": "2022-01-31T14:47:22.601Z"
   },
   {
    "duration": 22,
    "start_time": "2022-01-31T14:47:22.606Z"
   },
   {
    "duration": 5,
    "start_time": "2022-01-31T14:47:22.629Z"
   },
   {
    "duration": 8,
    "start_time": "2022-01-31T14:47:22.635Z"
   },
   {
    "duration": 4,
    "start_time": "2022-01-31T14:47:22.644Z"
   },
   {
    "duration": 11,
    "start_time": "2022-01-31T14:47:22.650Z"
   },
   {
    "duration": 5,
    "start_time": "2022-01-31T14:47:22.662Z"
   },
   {
    "duration": 5,
    "start_time": "2022-01-31T14:47:22.668Z"
   },
   {
    "duration": 6,
    "start_time": "2022-01-31T14:47:22.674Z"
   },
   {
    "duration": 8,
    "start_time": "2022-01-31T14:47:22.681Z"
   },
   {
    "duration": 10,
    "start_time": "2022-01-31T14:47:22.691Z"
   },
   {
    "duration": 24,
    "start_time": "2022-01-31T14:47:22.703Z"
   },
   {
    "duration": 4,
    "start_time": "2022-01-31T14:47:22.729Z"
   },
   {
    "duration": 11,
    "start_time": "2022-01-31T14:47:22.734Z"
   },
   {
    "duration": 10,
    "start_time": "2022-01-31T14:47:22.746Z"
   },
   {
    "duration": 4,
    "start_time": "2022-01-31T14:47:22.758Z"
   },
   {
    "duration": 5,
    "start_time": "2022-01-31T14:47:22.763Z"
   },
   {
    "duration": 5,
    "start_time": "2022-01-31T14:47:22.769Z"
   },
   {
    "duration": 3,
    "start_time": "2022-01-31T14:47:22.775Z"
   },
   {
    "duration": 4,
    "start_time": "2022-01-31T14:47:22.780Z"
   },
   {
    "duration": 6,
    "start_time": "2022-01-31T14:47:22.785Z"
   },
   {
    "duration": 5,
    "start_time": "2022-01-31T14:47:22.792Z"
   },
   {
    "duration": 105,
    "start_time": "2022-01-31T14:49:51.384Z"
   },
   {
    "duration": 4,
    "start_time": "2022-01-31T19:17:02.509Z"
   },
   {
    "duration": 53,
    "start_time": "2022-01-31T19:17:02.516Z"
   },
   {
    "duration": 34,
    "start_time": "2022-01-31T19:17:02.572Z"
   },
   {
    "duration": 3,
    "start_time": "2022-01-31T19:17:02.628Z"
   },
   {
    "duration": 14,
    "start_time": "2022-01-31T19:17:02.632Z"
   },
   {
    "duration": 19,
    "start_time": "2022-01-31T19:17:02.647Z"
   },
   {
    "duration": 8,
    "start_time": "2022-01-31T19:17:02.668Z"
   },
   {
    "duration": 57,
    "start_time": "2022-01-31T19:17:02.677Z"
   },
   {
    "duration": 4,
    "start_time": "2022-01-31T19:17:02.738Z"
   },
   {
    "duration": 12,
    "start_time": "2022-01-31T19:17:02.744Z"
   },
   {
    "duration": 239,
    "start_time": "2022-01-31T19:17:02.758Z"
   },
   {
    "duration": 3,
    "start_time": "2022-01-31T19:17:02.999Z"
   },
   {
    "duration": 9,
    "start_time": "2022-01-31T19:17:03.003Z"
   },
   {
    "duration": 15,
    "start_time": "2022-01-31T19:17:03.013Z"
   },
   {
    "duration": 15,
    "start_time": "2022-01-31T19:17:03.029Z"
   },
   {
    "duration": 667,
    "start_time": "2022-01-31T19:17:03.046Z"
   },
   {
    "duration": 2,
    "start_time": "2022-01-31T19:17:03.715Z"
   },
   {
    "duration": 18,
    "start_time": "2022-01-31T19:17:03.726Z"
   },
   {
    "duration": 419,
    "start_time": "2022-01-31T19:17:03.745Z"
   },
   {
    "duration": 188,
    "start_time": "2022-01-31T19:17:04.165Z"
   },
   {
    "duration": 2,
    "start_time": "2022-01-31T19:17:04.355Z"
   },
   {
    "duration": 9,
    "start_time": "2022-01-31T19:17:04.359Z"
   },
   {
    "duration": 764,
    "start_time": "2022-01-31T19:17:04.369Z"
   },
   {
    "duration": 1260,
    "start_time": "2022-01-31T19:17:05.135Z"
   },
   {
    "duration": 10,
    "start_time": "2022-01-31T19:17:06.398Z"
   },
   {
    "duration": 488,
    "start_time": "2022-01-31T19:17:06.410Z"
   },
   {
    "duration": 858,
    "start_time": "2022-01-31T19:17:06.905Z"
   },
   {
    "duration": 11,
    "start_time": "2022-01-31T19:17:07.767Z"
   },
   {
    "duration": 7,
    "start_time": "2022-01-31T19:17:07.780Z"
   },
   {
    "duration": 424,
    "start_time": "2022-01-31T19:17:07.789Z"
   },
   {
    "duration": 22,
    "start_time": "2022-01-31T19:17:08.215Z"
   },
   {
    "duration": 15,
    "start_time": "2022-01-31T19:17:08.239Z"
   },
   {
    "duration": 13,
    "start_time": "2022-01-31T19:17:08.256Z"
   },
   {
    "duration": 6,
    "start_time": "2022-01-31T19:17:08.271Z"
   },
   {
    "duration": 115,
    "start_time": "2022-01-31T19:17:08.278Z"
   },
   {
    "duration": 103,
    "start_time": "2022-01-31T19:17:08.394Z"
   },
   {
    "duration": 104,
    "start_time": "2022-01-31T19:17:08.499Z"
   },
   {
    "duration": 8,
    "start_time": "2022-01-31T19:17:08.605Z"
   },
   {
    "duration": 7,
    "start_time": "2022-01-31T19:17:08.627Z"
   },
   {
    "duration": 11,
    "start_time": "2022-01-31T19:17:08.636Z"
   },
   {
    "duration": 19,
    "start_time": "2022-01-31T19:17:08.648Z"
   },
   {
    "duration": 15,
    "start_time": "2022-01-31T19:17:08.669Z"
   },
   {
    "duration": 12,
    "start_time": "2022-01-31T19:17:08.685Z"
   },
   {
    "duration": 274,
    "start_time": "2022-01-31T19:17:08.698Z"
   },
   {
    "duration": 8,
    "start_time": "2022-01-31T19:17:08.974Z"
   },
   {
    "duration": 10,
    "start_time": "2022-01-31T19:17:08.983Z"
   },
   {
    "duration": 12,
    "start_time": "2022-01-31T19:17:08.995Z"
   },
   {
    "duration": 20,
    "start_time": "2022-01-31T19:17:09.008Z"
   },
   {
    "duration": 10,
    "start_time": "2022-01-31T19:17:09.029Z"
   },
   {
    "duration": 9,
    "start_time": "2022-01-31T19:17:09.041Z"
   },
   {
    "duration": 394,
    "start_time": "2022-01-31T19:17:09.051Z"
   },
   {
    "duration": 40,
    "start_time": "2022-01-31T19:17:09.447Z"
   },
   {
    "duration": 56,
    "start_time": "2022-01-31T19:17:09.489Z"
   },
   {
    "duration": 5,
    "start_time": "2022-01-31T19:17:09.547Z"
   },
   {
    "duration": 10,
    "start_time": "2022-01-31T19:17:09.554Z"
   },
   {
    "duration": 14,
    "start_time": "2022-01-31T19:17:09.565Z"
   },
   {
    "duration": 9,
    "start_time": "2022-01-31T19:17:09.581Z"
   },
   {
    "duration": 17,
    "start_time": "2022-01-31T19:17:09.594Z"
   },
   {
    "duration": 8,
    "start_time": "2022-01-31T19:17:09.613Z"
   },
   {
    "duration": 15,
    "start_time": "2022-01-31T19:17:09.623Z"
   },
   {
    "duration": 21,
    "start_time": "2022-01-31T19:17:09.640Z"
   },
   {
    "duration": 8,
    "start_time": "2022-01-31T19:17:09.663Z"
   },
   {
    "duration": 15,
    "start_time": "2022-01-31T19:17:09.673Z"
   },
   {
    "duration": 26,
    "start_time": "2022-01-31T19:17:09.690Z"
   },
   {
    "duration": 4,
    "start_time": "2022-01-31T19:17:09.718Z"
   },
   {
    "duration": 15,
    "start_time": "2022-01-31T19:17:09.724Z"
   },
   {
    "duration": 10,
    "start_time": "2022-01-31T19:17:09.741Z"
   },
   {
    "duration": 14,
    "start_time": "2022-01-31T19:17:09.753Z"
   },
   {
    "duration": 6,
    "start_time": "2022-01-31T19:17:09.770Z"
   },
   {
    "duration": 10,
    "start_time": "2022-01-31T19:17:09.778Z"
   },
   {
    "duration": 4,
    "start_time": "2022-01-31T19:17:09.790Z"
   },
   {
    "duration": 7,
    "start_time": "2022-01-31T19:17:09.796Z"
   },
   {
    "duration": 7,
    "start_time": "2022-01-31T19:17:09.805Z"
   },
   {
    "duration": 15,
    "start_time": "2022-01-31T19:17:09.814Z"
   },
   {
    "duration": 19,
    "start_time": "2022-01-31T19:17:09.831Z"
   },
   {
    "duration": 18,
    "start_time": "2022-01-31T19:21:36.922Z"
   },
   {
    "duration": 4,
    "start_time": "2022-01-31T19:30:54.701Z"
   },
   {
    "duration": 4,
    "start_time": "2022-01-31T19:31:15.804Z"
   },
   {
    "duration": 3,
    "start_time": "2022-01-31T19:35:25.870Z"
   },
   {
    "duration": 49,
    "start_time": "2022-01-31T19:35:25.875Z"
   },
   {
    "duration": 27,
    "start_time": "2022-01-31T19:35:25.926Z"
   },
   {
    "duration": 3,
    "start_time": "2022-01-31T19:35:25.955Z"
   },
   {
    "duration": 14,
    "start_time": "2022-01-31T19:35:25.960Z"
   },
   {
    "duration": 51,
    "start_time": "2022-01-31T19:35:25.976Z"
   },
   {
    "duration": 7,
    "start_time": "2022-01-31T19:35:26.029Z"
   },
   {
    "duration": 20,
    "start_time": "2022-01-31T19:35:26.038Z"
   },
   {
    "duration": 4,
    "start_time": "2022-01-31T19:35:26.059Z"
   },
   {
    "duration": 13,
    "start_time": "2022-01-31T19:35:26.064Z"
   },
   {
    "duration": 238,
    "start_time": "2022-01-31T19:35:26.079Z"
   },
   {
    "duration": 8,
    "start_time": "2022-01-31T19:35:26.319Z"
   },
   {
    "duration": 7,
    "start_time": "2022-01-31T19:35:26.329Z"
   },
   {
    "duration": 4,
    "start_time": "2022-01-31T19:35:26.338Z"
   },
   {
    "duration": 13,
    "start_time": "2022-01-31T19:35:26.344Z"
   },
   {
    "duration": 543,
    "start_time": "2022-01-31T19:35:26.359Z"
   },
   {
    "duration": 3,
    "start_time": "2022-01-31T19:35:26.904Z"
   },
   {
    "duration": 27,
    "start_time": "2022-01-31T19:35:26.909Z"
   },
   {
    "duration": 422,
    "start_time": "2022-01-31T19:35:26.940Z"
   },
   {
    "duration": 178,
    "start_time": "2022-01-31T19:35:27.365Z"
   },
   {
    "duration": 2,
    "start_time": "2022-01-31T19:35:27.545Z"
   },
   {
    "duration": 8,
    "start_time": "2022-01-31T19:35:27.549Z"
   },
   {
    "duration": 454,
    "start_time": "2022-01-31T19:35:27.559Z"
   },
   {
    "duration": 650,
    "start_time": "2022-01-31T19:35:28.014Z"
   },
   {
    "duration": 6,
    "start_time": "2022-01-31T19:35:28.665Z"
   },
   {
    "duration": 337,
    "start_time": "2022-01-31T19:35:28.673Z"
   },
   {
    "duration": -20,
    "start_time": "2022-01-31T19:35:29.032Z"
   },
   {
    "duration": -28,
    "start_time": "2022-01-31T19:35:29.041Z"
   },
   {
    "duration": -46,
    "start_time": "2022-01-31T19:35:29.060Z"
   },
   {
    "duration": -50,
    "start_time": "2022-01-31T19:35:29.065Z"
   },
   {
    "duration": -53,
    "start_time": "2022-01-31T19:35:29.069Z"
   },
   {
    "duration": -59,
    "start_time": "2022-01-31T19:35:29.076Z"
   },
   {
    "duration": -63,
    "start_time": "2022-01-31T19:35:29.081Z"
   },
   {
    "duration": -68,
    "start_time": "2022-01-31T19:35:29.087Z"
   },
   {
    "duration": -72,
    "start_time": "2022-01-31T19:35:29.092Z"
   },
   {
    "duration": -78,
    "start_time": "2022-01-31T19:35:29.099Z"
   },
   {
    "duration": -82,
    "start_time": "2022-01-31T19:35:29.104Z"
   },
   {
    "duration": -84,
    "start_time": "2022-01-31T19:35:29.107Z"
   },
   {
    "duration": -89,
    "start_time": "2022-01-31T19:35:29.112Z"
   },
   {
    "duration": -92,
    "start_time": "2022-01-31T19:35:29.116Z"
   },
   {
    "duration": -95,
    "start_time": "2022-01-31T19:35:29.120Z"
   },
   {
    "duration": -98,
    "start_time": "2022-01-31T19:35:29.124Z"
   },
   {
    "duration": -101,
    "start_time": "2022-01-31T19:35:29.128Z"
   },
   {
    "duration": -104,
    "start_time": "2022-01-31T19:35:29.132Z"
   },
   {
    "duration": -108,
    "start_time": "2022-01-31T19:35:29.137Z"
   },
   {
    "duration": -112,
    "start_time": "2022-01-31T19:35:29.142Z"
   },
   {
    "duration": -114,
    "start_time": "2022-01-31T19:35:29.145Z"
   },
   {
    "duration": -120,
    "start_time": "2022-01-31T19:35:29.152Z"
   },
   {
    "duration": -123,
    "start_time": "2022-01-31T19:35:29.156Z"
   },
   {
    "duration": -126,
    "start_time": "2022-01-31T19:35:29.160Z"
   },
   {
    "duration": -128,
    "start_time": "2022-01-31T19:35:29.163Z"
   },
   {
    "duration": -131,
    "start_time": "2022-01-31T19:35:29.166Z"
   },
   {
    "duration": -135,
    "start_time": "2022-01-31T19:35:29.171Z"
   },
   {
    "duration": -138,
    "start_time": "2022-01-31T19:35:29.175Z"
   },
   {
    "duration": -141,
    "start_time": "2022-01-31T19:35:29.179Z"
   },
   {
    "duration": -145,
    "start_time": "2022-01-31T19:35:29.184Z"
   },
   {
    "duration": -150,
    "start_time": "2022-01-31T19:35:29.190Z"
   },
   {
    "duration": -155,
    "start_time": "2022-01-31T19:35:29.196Z"
   },
   {
    "duration": -157,
    "start_time": "2022-01-31T19:35:29.199Z"
   },
   {
    "duration": -166,
    "start_time": "2022-01-31T19:35:29.209Z"
   },
   {
    "duration": -175,
    "start_time": "2022-01-31T19:35:29.219Z"
   },
   {
    "duration": -181,
    "start_time": "2022-01-31T19:35:29.226Z"
   },
   {
    "duration": -195,
    "start_time": "2022-01-31T19:35:29.241Z"
   },
   {
    "duration": -198,
    "start_time": "2022-01-31T19:35:29.245Z"
   },
   {
    "duration": -201,
    "start_time": "2022-01-31T19:35:29.248Z"
   },
   {
    "duration": -208,
    "start_time": "2022-01-31T19:35:29.256Z"
   },
   {
    "duration": -212,
    "start_time": "2022-01-31T19:35:29.261Z"
   },
   {
    "duration": -229,
    "start_time": "2022-01-31T19:35:29.279Z"
   },
   {
    "duration": -239,
    "start_time": "2022-01-31T19:35:29.290Z"
   },
   {
    "duration": -242,
    "start_time": "2022-01-31T19:35:29.294Z"
   },
   {
    "duration": -261,
    "start_time": "2022-01-31T19:35:29.314Z"
   },
   {
    "duration": -267,
    "start_time": "2022-01-31T19:35:29.320Z"
   },
   {
    "duration": -271,
    "start_time": "2022-01-31T19:35:29.325Z"
   },
   {
    "duration": -276,
    "start_time": "2022-01-31T19:35:29.331Z"
   },
   {
    "duration": -283,
    "start_time": "2022-01-31T19:35:29.339Z"
   },
   {
    "duration": 7,
    "start_time": "2022-01-31T19:36:00.385Z"
   },
   {
    "duration": 7,
    "start_time": "2022-01-31T19:36:20.177Z"
   },
   {
    "duration": 19,
    "start_time": "2022-01-31T19:36:20.580Z"
   },
   {
    "duration": 12,
    "start_time": "2022-01-31T19:37:40.575Z"
   },
   {
    "duration": 20,
    "start_time": "2022-01-31T19:37:57.147Z"
   },
   {
    "duration": 538,
    "start_time": "2022-01-31T19:38:00.943Z"
   },
   {
    "duration": 11,
    "start_time": "2022-01-31T19:38:15.536Z"
   },
   {
    "duration": 294,
    "start_time": "2022-01-31T19:38:17.178Z"
   },
   {
    "duration": 3,
    "start_time": "2022-01-31T19:38:41.122Z"
   },
   {
    "duration": 40,
    "start_time": "2022-01-31T19:38:41.126Z"
   },
   {
    "duration": 19,
    "start_time": "2022-01-31T19:38:41.168Z"
   },
   {
    "duration": 4,
    "start_time": "2022-01-31T19:38:41.189Z"
   },
   {
    "duration": 34,
    "start_time": "2022-01-31T19:38:41.194Z"
   },
   {
    "duration": 19,
    "start_time": "2022-01-31T19:38:41.230Z"
   },
   {
    "duration": 8,
    "start_time": "2022-01-31T19:38:41.251Z"
   },
   {
    "duration": 18,
    "start_time": "2022-01-31T19:38:41.261Z"
   },
   {
    "duration": 3,
    "start_time": "2022-01-31T19:38:41.281Z"
   },
   {
    "duration": 49,
    "start_time": "2022-01-31T19:38:41.286Z"
   },
   {
    "duration": 229,
    "start_time": "2022-01-31T19:38:41.336Z"
   },
   {
    "duration": 2,
    "start_time": "2022-01-31T19:38:41.566Z"
   },
   {
    "duration": 9,
    "start_time": "2022-01-31T19:38:41.570Z"
   },
   {
    "duration": 6,
    "start_time": "2022-01-31T19:38:41.581Z"
   },
   {
    "duration": 18,
    "start_time": "2022-01-31T19:38:41.589Z"
   },
   {
    "duration": 563,
    "start_time": "2022-01-31T19:38:41.609Z"
   },
   {
    "duration": 2,
    "start_time": "2022-01-31T19:38:42.174Z"
   },
   {
    "duration": 39,
    "start_time": "2022-01-31T19:38:42.178Z"
   },
   {
    "duration": 410,
    "start_time": "2022-01-31T19:38:42.220Z"
   },
   {
    "duration": 179,
    "start_time": "2022-01-31T19:38:42.633Z"
   },
   {
    "duration": 2,
    "start_time": "2022-01-31T19:38:42.814Z"
   },
   {
    "duration": 27,
    "start_time": "2022-01-31T19:38:42.826Z"
   },
   {
    "duration": 464,
    "start_time": "2022-01-31T19:38:42.854Z"
   },
   {
    "duration": 663,
    "start_time": "2022-01-31T19:38:43.320Z"
   },
   {
    "duration": 6,
    "start_time": "2022-01-31T19:38:43.984Z"
   },
   {
    "duration": 28,
    "start_time": "2022-01-31T19:38:43.992Z"
   },
   {
    "duration": 340,
    "start_time": "2022-01-31T19:38:44.022Z"
   },
   {
    "duration": 298,
    "start_time": "2022-01-31T19:38:44.364Z"
   },
   {
    "duration": 7,
    "start_time": "2022-01-31T19:38:44.664Z"
   },
   {
    "duration": 7,
    "start_time": "2022-01-31T19:38:44.673Z"
   },
   {
    "duration": 232,
    "start_time": "2022-01-31T19:38:44.681Z"
   },
   {
    "duration": 18,
    "start_time": "2022-01-31T19:38:44.915Z"
   },
   {
    "duration": 12,
    "start_time": "2022-01-31T19:38:44.934Z"
   },
   {
    "duration": 11,
    "start_time": "2022-01-31T19:38:44.947Z"
   },
   {
    "duration": 7,
    "start_time": "2022-01-31T19:38:44.960Z"
   },
   {
    "duration": 385,
    "start_time": "2022-01-31T19:38:44.969Z"
   },
   {
    "duration": 105,
    "start_time": "2022-01-31T19:38:45.356Z"
   },
   {
    "duration": 98,
    "start_time": "2022-01-31T19:38:45.463Z"
   },
   {
    "duration": 8,
    "start_time": "2022-01-31T19:38:45.563Z"
   },
   {
    "duration": 10,
    "start_time": "2022-01-31T19:38:45.573Z"
   },
   {
    "duration": 11,
    "start_time": "2022-01-31T19:38:45.585Z"
   },
   {
    "duration": 15,
    "start_time": "2022-01-31T19:38:45.598Z"
   },
   {
    "duration": 18,
    "start_time": "2022-01-31T19:38:45.614Z"
   },
   {
    "duration": 11,
    "start_time": "2022-01-31T19:38:45.634Z"
   },
   {
    "duration": 268,
    "start_time": "2022-01-31T19:38:45.646Z"
   },
   {
    "duration": 12,
    "start_time": "2022-01-31T19:38:45.916Z"
   },
   {
    "duration": 9,
    "start_time": "2022-01-31T19:38:45.929Z"
   },
   {
    "duration": 10,
    "start_time": "2022-01-31T19:38:45.940Z"
   },
   {
    "duration": 11,
    "start_time": "2022-01-31T19:38:45.951Z"
   },
   {
    "duration": 9,
    "start_time": "2022-01-31T19:38:45.964Z"
   },
   {
    "duration": 6,
    "start_time": "2022-01-31T19:38:45.974Z"
   },
   {
    "duration": 483,
    "start_time": "2022-01-31T19:38:45.982Z"
   },
   {
    "duration": 24,
    "start_time": "2022-01-31T19:38:46.467Z"
   },
   {
    "duration": 43,
    "start_time": "2022-01-31T19:38:46.493Z"
   },
   {
    "duration": 3,
    "start_time": "2022-01-31T19:38:46.540Z"
   },
   {
    "duration": 9,
    "start_time": "2022-01-31T19:38:46.545Z"
   },
   {
    "duration": 13,
    "start_time": "2022-01-31T19:38:46.555Z"
   },
   {
    "duration": 6,
    "start_time": "2022-01-31T19:38:46.570Z"
   },
   {
    "duration": 18,
    "start_time": "2022-01-31T19:38:46.577Z"
   },
   {
    "duration": 21,
    "start_time": "2022-01-31T19:38:46.597Z"
   },
   {
    "duration": 9,
    "start_time": "2022-01-31T19:38:46.620Z"
   },
   {
    "duration": 6,
    "start_time": "2022-01-31T19:38:46.631Z"
   },
   {
    "duration": 6,
    "start_time": "2022-01-31T19:38:46.639Z"
   },
   {
    "duration": 8,
    "start_time": "2022-01-31T19:38:46.647Z"
   },
   {
    "duration": 13,
    "start_time": "2022-01-31T19:38:46.657Z"
   },
   {
    "duration": 5,
    "start_time": "2022-01-31T19:38:46.672Z"
   },
   {
    "duration": 7,
    "start_time": "2022-01-31T19:38:46.679Z"
   },
   {
    "duration": 6,
    "start_time": "2022-01-31T19:38:46.688Z"
   },
   {
    "duration": 10,
    "start_time": "2022-01-31T19:38:46.695Z"
   },
   {
    "duration": 4,
    "start_time": "2022-01-31T19:38:46.707Z"
   },
   {
    "duration": 16,
    "start_time": "2022-01-31T19:38:46.713Z"
   },
   {
    "duration": 5,
    "start_time": "2022-01-31T19:38:46.731Z"
   },
   {
    "duration": 8,
    "start_time": "2022-01-31T19:38:46.737Z"
   },
   {
    "duration": 5,
    "start_time": "2022-01-31T19:38:46.747Z"
   },
   {
    "duration": 7,
    "start_time": "2022-01-31T19:38:46.754Z"
   },
   {
    "duration": 5,
    "start_time": "2022-01-31T19:38:46.762Z"
   },
   {
    "duration": 4,
    "start_time": "2022-01-31T19:41:21.949Z"
   },
   {
    "duration": 280,
    "start_time": "2022-01-31T19:41:24.052Z"
   },
   {
    "duration": 2,
    "start_time": "2022-01-31T19:41:35.117Z"
   },
   {
    "duration": 37,
    "start_time": "2022-01-31T19:41:35.121Z"
   },
   {
    "duration": 20,
    "start_time": "2022-01-31T19:41:35.161Z"
   },
   {
    "duration": 3,
    "start_time": "2022-01-31T19:41:35.182Z"
   },
   {
    "duration": 15,
    "start_time": "2022-01-31T19:41:35.187Z"
   },
   {
    "duration": 36,
    "start_time": "2022-01-31T19:41:35.203Z"
   },
   {
    "duration": 11,
    "start_time": "2022-01-31T19:41:35.241Z"
   },
   {
    "duration": 19,
    "start_time": "2022-01-31T19:41:35.253Z"
   },
   {
    "duration": 4,
    "start_time": "2022-01-31T19:41:35.275Z"
   },
   {
    "duration": 19,
    "start_time": "2022-01-31T19:41:35.281Z"
   },
   {
    "duration": 231,
    "start_time": "2022-01-31T19:41:35.327Z"
   },
   {
    "duration": 2,
    "start_time": "2022-01-31T19:41:35.560Z"
   },
   {
    "duration": 14,
    "start_time": "2022-01-31T19:41:35.563Z"
   },
   {
    "duration": 7,
    "start_time": "2022-01-31T19:41:35.579Z"
   },
   {
    "duration": 15,
    "start_time": "2022-01-31T19:41:35.587Z"
   },
   {
    "duration": 593,
    "start_time": "2022-01-31T19:41:35.603Z"
   },
   {
    "duration": 3,
    "start_time": "2022-01-31T19:41:36.197Z"
   },
   {
    "duration": 27,
    "start_time": "2022-01-31T19:41:36.201Z"
   },
   {
    "duration": 431,
    "start_time": "2022-01-31T19:41:36.229Z"
   },
   {
    "duration": 175,
    "start_time": "2022-01-31T19:41:36.662Z"
   },
   {
    "duration": 2,
    "start_time": "2022-01-31T19:41:36.839Z"
   },
   {
    "duration": 8,
    "start_time": "2022-01-31T19:41:36.843Z"
   },
   {
    "duration": 459,
    "start_time": "2022-01-31T19:41:36.853Z"
   },
   {
    "duration": 653,
    "start_time": "2022-01-31T19:41:37.314Z"
   },
   {
    "duration": 6,
    "start_time": "2022-01-31T19:41:37.969Z"
   },
   {
    "duration": 22,
    "start_time": "2022-01-31T19:41:37.976Z"
   },
   {
    "duration": 336,
    "start_time": "2022-01-31T19:41:38.001Z"
   },
   {
    "duration": 292,
    "start_time": "2022-01-31T19:41:38.339Z"
   },
   {
    "duration": 8,
    "start_time": "2022-01-31T19:41:38.632Z"
   },
   {
    "duration": 10,
    "start_time": "2022-01-31T19:41:38.641Z"
   },
   {
    "duration": 223,
    "start_time": "2022-01-31T19:41:38.652Z"
   },
   {
    "duration": 13,
    "start_time": "2022-01-31T19:41:38.876Z"
   },
   {
    "duration": 11,
    "start_time": "2022-01-31T19:41:38.890Z"
   },
   {
    "duration": 29,
    "start_time": "2022-01-31T19:41:38.902Z"
   },
   {
    "duration": 5,
    "start_time": "2022-01-31T19:41:38.932Z"
   },
   {
    "duration": 97,
    "start_time": "2022-01-31T19:41:38.938Z"
   },
   {
    "duration": 98,
    "start_time": "2022-01-31T19:41:39.036Z"
   },
   {
    "duration": 94,
    "start_time": "2022-01-31T19:41:39.136Z"
   },
   {
    "duration": 8,
    "start_time": "2022-01-31T19:41:39.231Z"
   },
   {
    "duration": 9,
    "start_time": "2022-01-31T19:41:39.241Z"
   },
   {
    "duration": 10,
    "start_time": "2022-01-31T19:41:39.251Z"
   },
   {
    "duration": 9,
    "start_time": "2022-01-31T19:41:39.262Z"
   },
   {
    "duration": 13,
    "start_time": "2022-01-31T19:41:39.272Z"
   },
   {
    "duration": 7,
    "start_time": "2022-01-31T19:41:39.286Z"
   },
   {
    "duration": 293,
    "start_time": "2022-01-31T19:41:39.295Z"
   },
   {
    "duration": 8,
    "start_time": "2022-01-31T19:41:39.589Z"
   },
   {
    "duration": 8,
    "start_time": "2022-01-31T19:41:39.599Z"
   },
   {
    "duration": 19,
    "start_time": "2022-01-31T19:41:39.608Z"
   },
   {
    "duration": 6,
    "start_time": "2022-01-31T19:41:39.628Z"
   },
   {
    "duration": 9,
    "start_time": "2022-01-31T19:41:39.635Z"
   },
   {
    "duration": 5,
    "start_time": "2022-01-31T19:41:39.646Z"
   },
   {
    "duration": 410,
    "start_time": "2022-01-31T19:41:39.653Z"
   },
   {
    "duration": 22,
    "start_time": "2022-01-31T19:41:40.064Z"
   },
   {
    "duration": 22,
    "start_time": "2022-01-31T19:41:40.087Z"
   },
   {
    "duration": 18,
    "start_time": "2022-01-31T19:41:40.110Z"
   },
   {
    "duration": 5,
    "start_time": "2022-01-31T19:41:40.130Z"
   },
   {
    "duration": 12,
    "start_time": "2022-01-31T19:41:40.136Z"
   },
   {
    "duration": 17,
    "start_time": "2022-01-31T19:41:40.149Z"
   },
   {
    "duration": 10,
    "start_time": "2022-01-31T19:41:40.167Z"
   },
   {
    "duration": 14,
    "start_time": "2022-01-31T19:41:40.179Z"
   },
   {
    "duration": 6,
    "start_time": "2022-01-31T19:41:40.194Z"
   },
   {
    "duration": 14,
    "start_time": "2022-01-31T19:41:40.201Z"
   },
   {
    "duration": 21,
    "start_time": "2022-01-31T19:41:40.216Z"
   },
   {
    "duration": 11,
    "start_time": "2022-01-31T19:41:40.238Z"
   },
   {
    "duration": 21,
    "start_time": "2022-01-31T19:41:40.251Z"
   },
   {
    "duration": 3,
    "start_time": "2022-01-31T19:41:40.273Z"
   },
   {
    "duration": 12,
    "start_time": "2022-01-31T19:41:40.277Z"
   },
   {
    "duration": 15,
    "start_time": "2022-01-31T19:41:40.291Z"
   },
   {
    "duration": 21,
    "start_time": "2022-01-31T19:41:40.307Z"
   },
   {
    "duration": 22,
    "start_time": "2022-01-31T19:41:40.329Z"
   },
   {
    "duration": 13,
    "start_time": "2022-01-31T19:41:40.353Z"
   },
   {
    "duration": 26,
    "start_time": "2022-01-31T19:41:40.368Z"
   },
   {
    "duration": 11,
    "start_time": "2022-01-31T19:41:40.396Z"
   },
   {
    "duration": 12,
    "start_time": "2022-01-31T19:41:40.408Z"
   },
   {
    "duration": 9,
    "start_time": "2022-01-31T19:41:40.421Z"
   },
   {
    "duration": 7,
    "start_time": "2022-01-31T19:41:40.432Z"
   },
   {
    "duration": 6,
    "start_time": "2022-01-31T19:43:26.122Z"
   },
   {
    "duration": 5,
    "start_time": "2022-01-31T19:43:29.642Z"
   },
   {
    "duration": 19,
    "start_time": "2022-01-31T19:43:30.340Z"
   },
   {
    "duration": 423,
    "start_time": "2022-01-31T19:43:58.412Z"
   },
   {
    "duration": 381,
    "start_time": "2022-01-31T19:44:04.181Z"
   },
   {
    "duration": 2,
    "start_time": "2022-01-31T19:44:40.972Z"
   },
   {
    "duration": 45,
    "start_time": "2022-01-31T19:44:40.976Z"
   },
   {
    "duration": 18,
    "start_time": "2022-01-31T19:44:41.023Z"
   },
   {
    "duration": 3,
    "start_time": "2022-01-31T19:44:41.042Z"
   },
   {
    "duration": 13,
    "start_time": "2022-01-31T19:44:41.047Z"
   },
   {
    "duration": 18,
    "start_time": "2022-01-31T19:44:41.061Z"
   },
   {
    "duration": 6,
    "start_time": "2022-01-31T19:44:41.080Z"
   },
   {
    "duration": 57,
    "start_time": "2022-01-31T19:44:41.088Z"
   },
   {
    "duration": 4,
    "start_time": "2022-01-31T19:44:41.147Z"
   },
   {
    "duration": 15,
    "start_time": "2022-01-31T19:44:41.152Z"
   },
   {
    "duration": 246,
    "start_time": "2022-01-31T19:44:41.168Z"
   },
   {
    "duration": 2,
    "start_time": "2022-01-31T19:44:41.416Z"
   },
   {
    "duration": 5,
    "start_time": "2022-01-31T19:44:41.427Z"
   },
   {
    "duration": 5,
    "start_time": "2022-01-31T19:44:41.434Z"
   },
   {
    "duration": 14,
    "start_time": "2022-01-31T19:44:41.441Z"
   },
   {
    "duration": 547,
    "start_time": "2022-01-31T19:44:41.457Z"
   },
   {
    "duration": 3,
    "start_time": "2022-01-31T19:44:42.006Z"
   },
   {
    "duration": 29,
    "start_time": "2022-01-31T19:44:42.011Z"
   },
   {
    "duration": 412,
    "start_time": "2022-01-31T19:44:42.042Z"
   },
   {
    "duration": 179,
    "start_time": "2022-01-31T19:44:42.455Z"
   },
   {
    "duration": 2,
    "start_time": "2022-01-31T19:44:42.636Z"
   },
   {
    "duration": 10,
    "start_time": "2022-01-31T19:44:42.639Z"
   },
   {
    "duration": 483,
    "start_time": "2022-01-31T19:44:42.652Z"
   },
   {
    "duration": 651,
    "start_time": "2022-01-31T19:44:43.138Z"
   },
   {
    "duration": 5,
    "start_time": "2022-01-31T19:44:43.791Z"
   },
   {
    "duration": 31,
    "start_time": "2022-01-31T19:44:43.797Z"
   },
   {
    "duration": 334,
    "start_time": "2022-01-31T19:44:43.829Z"
   },
   {
    "duration": 276,
    "start_time": "2022-01-31T19:44:44.165Z"
   },
   {
    "duration": 7,
    "start_time": "2022-01-31T19:44:44.443Z"
   },
   {
    "duration": 7,
    "start_time": "2022-01-31T19:44:44.452Z"
   },
   {
    "duration": 230,
    "start_time": "2022-01-31T19:44:44.460Z"
   },
   {
    "duration": 12,
    "start_time": "2022-01-31T19:44:44.692Z"
   },
   {
    "duration": 26,
    "start_time": "2022-01-31T19:44:44.706Z"
   },
   {
    "duration": 14,
    "start_time": "2022-01-31T19:44:44.733Z"
   },
   {
    "duration": 5,
    "start_time": "2022-01-31T19:44:44.748Z"
   },
   {
    "duration": 444,
    "start_time": "2022-01-31T19:44:44.754Z"
   },
   {
    "duration": 99,
    "start_time": "2022-01-31T19:44:45.199Z"
   },
   {
    "duration": 95,
    "start_time": "2022-01-31T19:44:45.300Z"
   },
   {
    "duration": 8,
    "start_time": "2022-01-31T19:44:45.397Z"
   },
   {
    "duration": 21,
    "start_time": "2022-01-31T19:44:45.407Z"
   },
   {
    "duration": 9,
    "start_time": "2022-01-31T19:44:45.429Z"
   },
   {
    "duration": 5,
    "start_time": "2022-01-31T19:44:45.439Z"
   },
   {
    "duration": 9,
    "start_time": "2022-01-31T19:44:45.446Z"
   },
   {
    "duration": 6,
    "start_time": "2022-01-31T19:44:45.456Z"
   },
   {
    "duration": 290,
    "start_time": "2022-01-31T19:44:45.464Z"
   },
   {
    "duration": 9,
    "start_time": "2022-01-31T19:44:45.756Z"
   },
   {
    "duration": 10,
    "start_time": "2022-01-31T19:44:45.766Z"
   },
   {
    "duration": 10,
    "start_time": "2022-01-31T19:44:45.777Z"
   },
   {
    "duration": 6,
    "start_time": "2022-01-31T19:44:45.788Z"
   },
   {
    "duration": 8,
    "start_time": "2022-01-31T19:44:45.796Z"
   },
   {
    "duration": 23,
    "start_time": "2022-01-31T19:44:45.805Z"
   },
   {
    "duration": 404,
    "start_time": "2022-01-31T19:44:45.829Z"
   },
   {
    "duration": 23,
    "start_time": "2022-01-31T19:44:46.235Z"
   },
   {
    "duration": 24,
    "start_time": "2022-01-31T19:44:46.260Z"
   },
   {
    "duration": 4,
    "start_time": "2022-01-31T19:44:46.285Z"
   },
   {
    "duration": 8,
    "start_time": "2022-01-31T19:44:46.291Z"
   },
   {
    "duration": 26,
    "start_time": "2022-01-31T19:44:46.301Z"
   },
   {
    "duration": 4,
    "start_time": "2022-01-31T19:44:46.328Z"
   },
   {
    "duration": 4,
    "start_time": "2022-01-31T19:44:46.334Z"
   },
   {
    "duration": 10,
    "start_time": "2022-01-31T19:44:46.340Z"
   },
   {
    "duration": 4,
    "start_time": "2022-01-31T19:44:46.352Z"
   },
   {
    "duration": 6,
    "start_time": "2022-01-31T19:44:46.357Z"
   },
   {
    "duration": 7,
    "start_time": "2022-01-31T19:44:46.364Z"
   },
   {
    "duration": 5,
    "start_time": "2022-01-31T19:44:46.373Z"
   },
   {
    "duration": 8,
    "start_time": "2022-01-31T19:44:46.379Z"
   },
   {
    "duration": 3,
    "start_time": "2022-01-31T19:44:46.389Z"
   },
   {
    "duration": 4,
    "start_time": "2022-01-31T19:44:46.394Z"
   },
   {
    "duration": 3,
    "start_time": "2022-01-31T19:44:46.429Z"
   },
   {
    "duration": 8,
    "start_time": "2022-01-31T19:44:46.434Z"
   },
   {
    "duration": 3,
    "start_time": "2022-01-31T19:44:46.443Z"
   },
   {
    "duration": 11,
    "start_time": "2022-01-31T19:44:46.448Z"
   },
   {
    "duration": 7,
    "start_time": "2022-01-31T19:44:46.461Z"
   },
   {
    "duration": 7,
    "start_time": "2022-01-31T19:44:46.469Z"
   },
   {
    "duration": 7,
    "start_time": "2022-01-31T19:44:46.477Z"
   },
   {
    "duration": 8,
    "start_time": "2022-01-31T19:44:46.486Z"
   },
   {
    "duration": 5,
    "start_time": "2022-01-31T19:44:46.495Z"
   },
   {
    "duration": 3,
    "start_time": "2022-01-31T19:47:06.269Z"
   },
   {
    "duration": 40,
    "start_time": "2022-01-31T19:47:06.273Z"
   },
   {
    "duration": 19,
    "start_time": "2022-01-31T19:47:06.315Z"
   },
   {
    "duration": 2,
    "start_time": "2022-01-31T19:47:06.336Z"
   },
   {
    "duration": 14,
    "start_time": "2022-01-31T19:47:06.339Z"
   },
   {
    "duration": 17,
    "start_time": "2022-01-31T19:47:06.354Z"
   },
   {
    "duration": 6,
    "start_time": "2022-01-31T19:47:06.372Z"
   },
   {
    "duration": 19,
    "start_time": "2022-01-31T19:47:06.380Z"
   },
   {
    "duration": 28,
    "start_time": "2022-01-31T19:47:06.401Z"
   },
   {
    "duration": 13,
    "start_time": "2022-01-31T19:47:06.431Z"
   },
   {
    "duration": 245,
    "start_time": "2022-01-31T19:47:06.445Z"
   },
   {
    "duration": 2,
    "start_time": "2022-01-31T19:47:06.691Z"
   },
   {
    "duration": 13,
    "start_time": "2022-01-31T19:47:06.695Z"
   },
   {
    "duration": 5,
    "start_time": "2022-01-31T19:47:06.710Z"
   },
   {
    "duration": 18,
    "start_time": "2022-01-31T19:47:06.716Z"
   },
   {
    "duration": 551,
    "start_time": "2022-01-31T19:47:06.736Z"
   },
   {
    "duration": 3,
    "start_time": "2022-01-31T19:47:07.288Z"
   },
   {
    "duration": 17,
    "start_time": "2022-01-31T19:47:07.292Z"
   },
   {
    "duration": 418,
    "start_time": "2022-01-31T19:47:07.311Z"
   },
   {
    "duration": 172,
    "start_time": "2022-01-31T19:47:07.731Z"
   },
   {
    "duration": 2,
    "start_time": "2022-01-31T19:47:07.905Z"
   },
   {
    "duration": 9,
    "start_time": "2022-01-31T19:47:07.908Z"
   },
   {
    "duration": 470,
    "start_time": "2022-01-31T19:47:07.919Z"
   },
   {
    "duration": 638,
    "start_time": "2022-01-31T19:47:08.391Z"
   },
   {
    "duration": 5,
    "start_time": "2022-01-31T19:47:09.031Z"
   },
   {
    "duration": 19,
    "start_time": "2022-01-31T19:47:09.037Z"
   },
   {
    "duration": 297,
    "start_time": "2022-01-31T19:47:09.059Z"
   },
   {
    "duration": 290,
    "start_time": "2022-01-31T19:47:09.358Z"
   },
   {
    "duration": 7,
    "start_time": "2022-01-31T19:47:09.650Z"
   },
   {
    "duration": 4,
    "start_time": "2022-01-31T19:47:09.659Z"
   },
   {
    "duration": 231,
    "start_time": "2022-01-31T19:47:09.664Z"
   },
   {
    "duration": 13,
    "start_time": "2022-01-31T19:47:09.896Z"
   },
   {
    "duration": 24,
    "start_time": "2022-01-31T19:47:09.910Z"
   },
   {
    "duration": 11,
    "start_time": "2022-01-31T19:47:09.935Z"
   },
   {
    "duration": 4,
    "start_time": "2022-01-31T19:47:09.947Z"
   },
   {
    "duration": 108,
    "start_time": "2022-01-31T19:47:09.952Z"
   },
   {
    "duration": 97,
    "start_time": "2022-01-31T19:47:10.061Z"
   },
   {
    "duration": 93,
    "start_time": "2022-01-31T19:47:10.160Z"
   },
   {
    "duration": 8,
    "start_time": "2022-01-31T19:47:10.255Z"
   },
   {
    "duration": 6,
    "start_time": "2022-01-31T19:47:10.264Z"
   },
   {
    "duration": 11,
    "start_time": "2022-01-31T19:47:10.271Z"
   },
   {
    "duration": 7,
    "start_time": "2022-01-31T19:47:10.283Z"
   },
   {
    "duration": 8,
    "start_time": "2022-01-31T19:47:10.292Z"
   },
   {
    "duration": 26,
    "start_time": "2022-01-31T19:47:10.302Z"
   },
   {
    "duration": 267,
    "start_time": "2022-01-31T19:47:10.330Z"
   },
   {
    "duration": 9,
    "start_time": "2022-01-31T19:47:10.598Z"
   },
   {
    "duration": 20,
    "start_time": "2022-01-31T19:47:10.608Z"
   },
   {
    "duration": 9,
    "start_time": "2022-01-31T19:47:10.629Z"
   },
   {
    "duration": 9,
    "start_time": "2022-01-31T19:47:10.640Z"
   },
   {
    "duration": 9,
    "start_time": "2022-01-31T19:47:10.651Z"
   },
   {
    "duration": 8,
    "start_time": "2022-01-31T19:47:10.661Z"
   },
   {
    "duration": 412,
    "start_time": "2022-01-31T19:47:10.670Z"
   },
   {
    "duration": 22,
    "start_time": "2022-01-31T19:47:11.083Z"
   },
   {
    "duration": 30,
    "start_time": "2022-01-31T19:47:11.107Z"
   },
   {
    "duration": 3,
    "start_time": "2022-01-31T19:47:11.138Z"
   },
   {
    "duration": 6,
    "start_time": "2022-01-31T19:47:11.143Z"
   },
   {
    "duration": 4,
    "start_time": "2022-01-31T19:47:11.150Z"
   },
   {
    "duration": 4,
    "start_time": "2022-01-31T19:47:11.156Z"
   },
   {
    "duration": 4,
    "start_time": "2022-01-31T19:47:11.162Z"
   },
   {
    "duration": 4,
    "start_time": "2022-01-31T19:47:11.168Z"
   },
   {
    "duration": 4,
    "start_time": "2022-01-31T19:47:11.173Z"
   },
   {
    "duration": 7,
    "start_time": "2022-01-31T19:47:11.179Z"
   },
   {
    "duration": 8,
    "start_time": "2022-01-31T19:47:11.187Z"
   },
   {
    "duration": 6,
    "start_time": "2022-01-31T19:47:11.196Z"
   },
   {
    "duration": 8,
    "start_time": "2022-01-31T19:47:11.227Z"
   },
   {
    "duration": 3,
    "start_time": "2022-01-31T19:47:11.237Z"
   },
   {
    "duration": 6,
    "start_time": "2022-01-31T19:47:11.242Z"
   },
   {
    "duration": 4,
    "start_time": "2022-01-31T19:47:11.250Z"
   },
   {
    "duration": 9,
    "start_time": "2022-01-31T19:47:11.255Z"
   },
   {
    "duration": 3,
    "start_time": "2022-01-31T19:47:11.265Z"
   },
   {
    "duration": 6,
    "start_time": "2022-01-31T19:47:11.269Z"
   },
   {
    "duration": 6,
    "start_time": "2022-01-31T19:47:11.276Z"
   },
   {
    "duration": 6,
    "start_time": "2022-01-31T19:47:11.283Z"
   },
   {
    "duration": 5,
    "start_time": "2022-01-31T19:47:11.290Z"
   },
   {
    "duration": 32,
    "start_time": "2022-01-31T19:47:11.296Z"
   },
   {
    "duration": 3,
    "start_time": "2022-01-31T19:47:11.330Z"
   },
   {
    "duration": 8,
    "start_time": "2022-01-31T19:56:38.501Z"
   },
   {
    "duration": 8,
    "start_time": "2022-01-31T19:56:42.231Z"
   },
   {
    "duration": 4,
    "start_time": "2022-01-31T19:59:42.494Z"
   },
   {
    "duration": 4,
    "start_time": "2022-01-31T19:59:45.959Z"
   },
   {
    "duration": 3,
    "start_time": "2022-01-31T19:59:48.536Z"
   },
   {
    "duration": 3,
    "start_time": "2022-01-31T19:59:52.205Z"
   },
   {
    "duration": 46,
    "start_time": "2022-01-31T19:59:52.210Z"
   },
   {
    "duration": 20,
    "start_time": "2022-01-31T19:59:52.259Z"
   },
   {
    "duration": 3,
    "start_time": "2022-01-31T19:59:52.281Z"
   },
   {
    "duration": 42,
    "start_time": "2022-01-31T19:59:52.286Z"
   },
   {
    "duration": 18,
    "start_time": "2022-01-31T19:59:52.330Z"
   },
   {
    "duration": 14,
    "start_time": "2022-01-31T19:59:52.349Z"
   },
   {
    "duration": 17,
    "start_time": "2022-01-31T19:59:52.365Z"
   },
   {
    "duration": 4,
    "start_time": "2022-01-31T19:59:52.385Z"
   },
   {
    "duration": 48,
    "start_time": "2022-01-31T19:59:52.391Z"
   },
   {
    "duration": 229,
    "start_time": "2022-01-31T19:59:52.440Z"
   },
   {
    "duration": 3,
    "start_time": "2022-01-31T19:59:52.671Z"
   },
   {
    "duration": 10,
    "start_time": "2022-01-31T19:59:52.675Z"
   },
   {
    "duration": 5,
    "start_time": "2022-01-31T19:59:52.687Z"
   },
   {
    "duration": 15,
    "start_time": "2022-01-31T19:59:52.693Z"
   },
   {
    "duration": 584,
    "start_time": "2022-01-31T19:59:52.709Z"
   },
   {
    "duration": 3,
    "start_time": "2022-01-31T19:59:53.295Z"
   },
   {
    "duration": 30,
    "start_time": "2022-01-31T19:59:53.300Z"
   },
   {
    "duration": 424,
    "start_time": "2022-01-31T19:59:53.332Z"
   },
   {
    "duration": 253,
    "start_time": "2022-01-31T19:59:53.758Z"
   },
   {
    "duration": 3,
    "start_time": "2022-01-31T19:59:54.013Z"
   },
   {
    "duration": 7,
    "start_time": "2022-01-31T19:59:54.026Z"
   },
   {
    "duration": 576,
    "start_time": "2022-01-31T19:59:54.035Z"
   },
   {
    "duration": 728,
    "start_time": "2022-01-31T19:59:54.613Z"
   },
   {
    "duration": 6,
    "start_time": "2022-01-31T19:59:55.342Z"
   },
   {
    "duration": 28,
    "start_time": "2022-01-31T19:59:55.349Z"
   },
   {
    "duration": 363,
    "start_time": "2022-01-31T19:59:55.382Z"
   },
   {
    "duration": 315,
    "start_time": "2022-01-31T19:59:55.747Z"
   },
   {
    "duration": 8,
    "start_time": "2022-01-31T19:59:56.064Z"
   },
   {
    "duration": 5,
    "start_time": "2022-01-31T19:59:56.073Z"
   },
   {
    "duration": 237,
    "start_time": "2022-01-31T19:59:56.080Z"
   },
   {
    "duration": 18,
    "start_time": "2022-01-31T19:59:56.318Z"
   },
   {
    "duration": 12,
    "start_time": "2022-01-31T19:59:56.337Z"
   },
   {
    "duration": 11,
    "start_time": "2022-01-31T19:59:56.351Z"
   },
   {
    "duration": 5,
    "start_time": "2022-01-31T19:59:56.363Z"
   },
   {
    "duration": 109,
    "start_time": "2022-01-31T19:59:56.369Z"
   },
   {
    "duration": 93,
    "start_time": "2022-01-31T19:59:56.480Z"
   },
   {
    "duration": 97,
    "start_time": "2022-01-31T19:59:56.574Z"
   },
   {
    "duration": 9,
    "start_time": "2022-01-31T19:59:56.672Z"
   },
   {
    "duration": 6,
    "start_time": "2022-01-31T19:59:56.683Z"
   },
   {
    "duration": 9,
    "start_time": "2022-01-31T19:59:56.691Z"
   },
   {
    "duration": 29,
    "start_time": "2022-01-31T19:59:56.701Z"
   },
   {
    "duration": 7,
    "start_time": "2022-01-31T19:59:56.732Z"
   },
   {
    "duration": 5,
    "start_time": "2022-01-31T19:59:56.741Z"
   },
   {
    "duration": 284,
    "start_time": "2022-01-31T19:59:56.747Z"
   },
   {
    "duration": 9,
    "start_time": "2022-01-31T19:59:57.033Z"
   },
   {
    "duration": 8,
    "start_time": "2022-01-31T19:59:57.043Z"
   },
   {
    "duration": 9,
    "start_time": "2022-01-31T19:59:57.053Z"
   },
   {
    "duration": 7,
    "start_time": "2022-01-31T19:59:57.064Z"
   },
   {
    "duration": 8,
    "start_time": "2022-01-31T19:59:57.073Z"
   },
   {
    "duration": 7,
    "start_time": "2022-01-31T19:59:57.082Z"
   },
   {
    "duration": 435,
    "start_time": "2022-01-31T19:59:57.090Z"
   },
   {
    "duration": 8,
    "start_time": "2022-01-31T19:59:57.526Z"
   },
   {
    "duration": 8,
    "start_time": "2022-01-31T19:59:57.536Z"
   },
   {
    "duration": 3,
    "start_time": "2022-01-31T19:59:57.546Z"
   },
   {
    "duration": 4,
    "start_time": "2022-01-31T19:59:57.550Z"
   },
   {
    "duration": 5,
    "start_time": "2022-01-31T19:59:57.556Z"
   },
   {
    "duration": 6,
    "start_time": "2022-01-31T19:59:57.562Z"
   },
   {
    "duration": 5,
    "start_time": "2022-01-31T19:59:57.570Z"
   },
   {
    "duration": 4,
    "start_time": "2022-01-31T19:59:57.577Z"
   },
   {
    "duration": 4,
    "start_time": "2022-01-31T19:59:57.583Z"
   },
   {
    "duration": 5,
    "start_time": "2022-01-31T19:59:57.588Z"
   },
   {
    "duration": 33,
    "start_time": "2022-01-31T19:59:57.595Z"
   },
   {
    "duration": 4,
    "start_time": "2022-01-31T19:59:57.629Z"
   },
   {
    "duration": 11,
    "start_time": "2022-01-31T19:59:57.635Z"
   },
   {
    "duration": 3,
    "start_time": "2022-01-31T19:59:57.647Z"
   },
   {
    "duration": 4,
    "start_time": "2022-01-31T19:59:57.651Z"
   },
   {
    "duration": 5,
    "start_time": "2022-01-31T19:59:57.656Z"
   },
   {
    "duration": 7,
    "start_time": "2022-01-31T19:59:57.663Z"
   },
   {
    "duration": 3,
    "start_time": "2022-01-31T19:59:57.672Z"
   },
   {
    "duration": 4,
    "start_time": "2022-01-31T19:59:57.676Z"
   },
   {
    "duration": 4,
    "start_time": "2022-01-31T19:59:57.682Z"
   },
   {
    "duration": 3,
    "start_time": "2022-01-31T19:59:57.688Z"
   },
   {
    "duration": 34,
    "start_time": "2022-01-31T19:59:57.693Z"
   },
   {
    "duration": 4,
    "start_time": "2022-01-31T19:59:57.728Z"
   },
   {
    "duration": 5,
    "start_time": "2022-01-31T19:59:57.733Z"
   },
   {
    "duration": 2,
    "start_time": "2022-01-31T20:03:33.436Z"
   },
   {
    "duration": 39,
    "start_time": "2022-01-31T20:03:33.440Z"
   },
   {
    "duration": 22,
    "start_time": "2022-01-31T20:03:33.481Z"
   },
   {
    "duration": 3,
    "start_time": "2022-01-31T20:03:33.505Z"
   },
   {
    "duration": 32,
    "start_time": "2022-01-31T20:03:33.510Z"
   },
   {
    "duration": 18,
    "start_time": "2022-01-31T20:03:33.544Z"
   },
   {
    "duration": 9,
    "start_time": "2022-01-31T20:03:33.564Z"
   },
   {
    "duration": 52,
    "start_time": "2022-01-31T20:03:33.576Z"
   },
   {
    "duration": 5,
    "start_time": "2022-01-31T20:03:33.630Z"
   },
   {
    "duration": 15,
    "start_time": "2022-01-31T20:03:33.637Z"
   },
   {
    "duration": 231,
    "start_time": "2022-01-31T20:03:33.653Z"
   },
   {
    "duration": 2,
    "start_time": "2022-01-31T20:03:33.886Z"
   },
   {
    "duration": 6,
    "start_time": "2022-01-31T20:03:33.890Z"
   },
   {
    "duration": 5,
    "start_time": "2022-01-31T20:03:33.898Z"
   },
   {
    "duration": 33,
    "start_time": "2022-01-31T20:03:33.904Z"
   },
   {
    "duration": 531,
    "start_time": "2022-01-31T20:03:33.939Z"
   },
   {
    "duration": 2,
    "start_time": "2022-01-31T20:03:34.472Z"
   },
   {
    "duration": 18,
    "start_time": "2022-01-31T20:03:34.476Z"
   },
   {
    "duration": 836,
    "start_time": "2022-01-31T20:03:34.495Z"
   },
   {
    "duration": 172,
    "start_time": "2022-01-31T20:03:35.332Z"
   },
   {
    "duration": 3,
    "start_time": "2022-01-31T20:03:35.506Z"
   },
   {
    "duration": 19,
    "start_time": "2022-01-31T20:03:35.511Z"
   },
   {
    "duration": 465,
    "start_time": "2022-01-31T20:03:35.533Z"
   },
   {
    "duration": 652,
    "start_time": "2022-01-31T20:03:36.000Z"
   },
   {
    "duration": 5,
    "start_time": "2022-01-31T20:03:36.654Z"
   },
   {
    "duration": 19,
    "start_time": "2022-01-31T20:03:36.661Z"
   },
   {
    "duration": 298,
    "start_time": "2022-01-31T20:03:36.681Z"
   },
   {
    "duration": 300,
    "start_time": "2022-01-31T20:03:36.980Z"
   },
   {
    "duration": 7,
    "start_time": "2022-01-31T20:03:37.281Z"
   },
   {
    "duration": 4,
    "start_time": "2022-01-31T20:03:37.290Z"
   },
   {
    "duration": 235,
    "start_time": "2022-01-31T20:03:37.295Z"
   },
   {
    "duration": 13,
    "start_time": "2022-01-31T20:03:37.532Z"
   },
   {
    "duration": 13,
    "start_time": "2022-01-31T20:03:37.546Z"
   },
   {
    "duration": 12,
    "start_time": "2022-01-31T20:03:37.561Z"
   },
   {
    "duration": 5,
    "start_time": "2022-01-31T20:03:37.574Z"
   },
   {
    "duration": 117,
    "start_time": "2022-01-31T20:03:37.580Z"
   },
   {
    "duration": 98,
    "start_time": "2022-01-31T20:03:37.698Z"
   },
   {
    "duration": 91,
    "start_time": "2022-01-31T20:03:37.798Z"
   },
   {
    "duration": 8,
    "start_time": "2022-01-31T20:03:37.890Z"
   },
   {
    "duration": 8,
    "start_time": "2022-01-31T20:03:37.900Z"
   },
   {
    "duration": 22,
    "start_time": "2022-01-31T20:03:37.909Z"
   },
   {
    "duration": 5,
    "start_time": "2022-01-31T20:03:37.932Z"
   },
   {
    "duration": 11,
    "start_time": "2022-01-31T20:03:37.938Z"
   },
   {
    "duration": 6,
    "start_time": "2022-01-31T20:03:37.950Z"
   },
   {
    "duration": 272,
    "start_time": "2022-01-31T20:03:37.958Z"
   },
   {
    "duration": 9,
    "start_time": "2022-01-31T20:03:38.231Z"
   },
   {
    "duration": 8,
    "start_time": "2022-01-31T20:03:38.241Z"
   },
   {
    "duration": 9,
    "start_time": "2022-01-31T20:03:38.251Z"
   },
   {
    "duration": 9,
    "start_time": "2022-01-31T20:03:38.261Z"
   },
   {
    "duration": 8,
    "start_time": "2022-01-31T20:03:38.271Z"
   },
   {
    "duration": 5,
    "start_time": "2022-01-31T20:03:38.281Z"
   },
   {
    "duration": 428,
    "start_time": "2022-01-31T20:03:38.288Z"
   },
   {
    "duration": 13,
    "start_time": "2022-01-31T20:03:38.718Z"
   },
   {
    "duration": 8,
    "start_time": "2022-01-31T20:03:38.733Z"
   },
   {
    "duration": 3,
    "start_time": "2022-01-31T20:03:38.743Z"
   },
   {
    "duration": 5,
    "start_time": "2022-01-31T20:03:38.747Z"
   },
   {
    "duration": 4,
    "start_time": "2022-01-31T20:03:38.753Z"
   },
   {
    "duration": 4,
    "start_time": "2022-01-31T20:03:38.758Z"
   },
   {
    "duration": 5,
    "start_time": "2022-01-31T20:03:38.763Z"
   },
   {
    "duration": 4,
    "start_time": "2022-01-31T20:03:38.769Z"
   },
   {
    "duration": 4,
    "start_time": "2022-01-31T20:03:38.774Z"
   },
   {
    "duration": 4,
    "start_time": "2022-01-31T20:03:38.779Z"
   },
   {
    "duration": 5,
    "start_time": "2022-01-31T20:03:38.785Z"
   },
   {
    "duration": 36,
    "start_time": "2022-01-31T20:03:38.792Z"
   },
   {
    "duration": 9,
    "start_time": "2022-01-31T20:03:38.830Z"
   },
   {
    "duration": 4,
    "start_time": "2022-01-31T20:03:38.840Z"
   },
   {
    "duration": 5,
    "start_time": "2022-01-31T20:03:38.846Z"
   },
   {
    "duration": 3,
    "start_time": "2022-01-31T20:03:38.856Z"
   },
   {
    "duration": 7,
    "start_time": "2022-01-31T20:03:38.861Z"
   },
   {
    "duration": 3,
    "start_time": "2022-01-31T20:03:38.870Z"
   },
   {
    "duration": 4,
    "start_time": "2022-01-31T20:03:38.875Z"
   },
   {
    "duration": 46,
    "start_time": "2022-01-31T20:03:38.881Z"
   },
   {
    "duration": 2,
    "start_time": "2022-01-31T20:03:38.929Z"
   },
   {
    "duration": 6,
    "start_time": "2022-01-31T20:03:38.932Z"
   },
   {
    "duration": 6,
    "start_time": "2022-01-31T20:03:38.939Z"
   },
   {
    "duration": 7,
    "start_time": "2022-01-31T20:03:38.947Z"
   },
   {
    "duration": 3,
    "start_time": "2022-01-31T20:04:23.753Z"
   },
   {
    "duration": 3,
    "start_time": "2022-01-31T20:05:30.774Z"
   },
   {
    "duration": 3,
    "start_time": "2022-01-31T20:06:08.517Z"
   }
  ],
  "kernelspec": {
   "display_name": "Python 3",
   "language": "python",
   "name": "python3"
  },
  "language_info": {
   "codemirror_mode": {
    "name": "ipython",
    "version": 3
   },
   "file_extension": ".py",
   "mimetype": "text/x-python",
   "name": "python",
   "nbconvert_exporter": "python",
   "pygments_lexer": "ipython3",
   "version": "3.8.8"
  },
  "toc": {
   "base_numbering": 1,
   "nav_menu": {},
   "number_sections": true,
   "sideBar": true,
   "skip_h1_title": true,
   "title_cell": "Table of Contents",
   "title_sidebar": "Contents",
   "toc_cell": false,
   "toc_position": {},
   "toc_section_display": true,
   "toc_window_display": false
  }
 },
 "nbformat": 4,
 "nbformat_minor": 2
}
