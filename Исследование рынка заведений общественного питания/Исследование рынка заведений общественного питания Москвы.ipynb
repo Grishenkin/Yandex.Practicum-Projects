{
 "cells": [
  {
   "cell_type": "markdown",
   "metadata": {},
   "source": [
    "# Исследование рынка заведений общественного питания Москвы"
   ]
  },
  {
   "cell_type": "markdown",
   "metadata": {},
   "source": [
    "## Задачи проекта\n",
    "\n",
    "1) Проанализировать объекты, сделать общий вывод и дайть рекомендации о виде заведения, количестве посадочных мест, а также районе расположения. \n",
    "\n",
    "2) Прокомментировать возможность развития сети.\n"
   ]
  },
  {
   "cell_type": "code",
   "execution_count": 142,
   "metadata": {},
   "outputs": [],
   "source": [
    "import pandas as pd\n",
    "import seaborn as sns\n",
    "import datetime as dt\n",
    "import numpy as np\n",
    "import matplotlib.pyplot as plt\n",
    "from io import BytesIO\n",
    "import requests"
   ]
  },
  {
   "cell_type": "code",
   "execution_count": 143,
   "metadata": {},
   "outputs": [],
   "source": [
    "df = pd.read_csv('/Users/aleksandrgrisenkin/Desktop/df/Исследование рынка заведений общественного питания Москвы/rest_data.csv')"
   ]
  },
  {
   "cell_type": "code",
   "execution_count": 144,
   "metadata": {},
   "outputs": [
    {
     "name": "stdout",
     "output_type": "stream",
     "text": [
      "<class 'pandas.core.frame.DataFrame'>\n",
      "RangeIndex: 15366 entries, 0 to 15365\n",
      "Data columns (total 6 columns):\n",
      " #   Column       Non-Null Count  Dtype \n",
      "---  ------       --------------  ----- \n",
      " 0   id           15366 non-null  int64 \n",
      " 1   object_name  15366 non-null  object\n",
      " 2   chain        15366 non-null  object\n",
      " 3   object_type  15366 non-null  object\n",
      " 4   address      15366 non-null  object\n",
      " 5   number       15366 non-null  int64 \n",
      "dtypes: int64(2), object(4)\n",
      "memory usage: 720.4+ KB\n"
     ]
    }
   ],
   "source": [
    "df.info()"
   ]
  },
  {
   "cell_type": "code",
   "execution_count": 145,
   "metadata": {},
   "outputs": [
    {
     "data": {
      "text/html": [
       "<div>\n",
       "<style scoped>\n",
       "    .dataframe tbody tr th:only-of-type {\n",
       "        vertical-align: middle;\n",
       "    }\n",
       "\n",
       "    .dataframe tbody tr th {\n",
       "        vertical-align: top;\n",
       "    }\n",
       "\n",
       "    .dataframe thead th {\n",
       "        text-align: right;\n",
       "    }\n",
       "</style>\n",
       "<table border=\"1\" class=\"dataframe\">\n",
       "  <thead>\n",
       "    <tr style=\"text-align: right;\">\n",
       "      <th></th>\n",
       "      <th>id</th>\n",
       "      <th>object_name</th>\n",
       "      <th>chain</th>\n",
       "      <th>object_type</th>\n",
       "      <th>address</th>\n",
       "      <th>number</th>\n",
       "    </tr>\n",
       "  </thead>\n",
       "  <tbody>\n",
       "    <tr>\n",
       "      <th>0</th>\n",
       "      <td>151635</td>\n",
       "      <td>СМЕТАНА</td>\n",
       "      <td>нет</td>\n",
       "      <td>кафе</td>\n",
       "      <td>город Москва, улица Егора Абакумова, дом 9</td>\n",
       "      <td>48</td>\n",
       "    </tr>\n",
       "    <tr>\n",
       "      <th>1</th>\n",
       "      <td>77874</td>\n",
       "      <td>Родник</td>\n",
       "      <td>нет</td>\n",
       "      <td>кафе</td>\n",
       "      <td>город Москва, улица Талалихина, дом 2/1, корпус 1</td>\n",
       "      <td>35</td>\n",
       "    </tr>\n",
       "    <tr>\n",
       "      <th>2</th>\n",
       "      <td>24309</td>\n",
       "      <td>Кафе «Академия»</td>\n",
       "      <td>нет</td>\n",
       "      <td>кафе</td>\n",
       "      <td>город Москва, Абельмановская улица, дом 6</td>\n",
       "      <td>95</td>\n",
       "    </tr>\n",
       "    <tr>\n",
       "      <th>3</th>\n",
       "      <td>21894</td>\n",
       "      <td>ПИЦЦЕТОРИЯ</td>\n",
       "      <td>да</td>\n",
       "      <td>кафе</td>\n",
       "      <td>город Москва, Абрамцевская улица, дом 1</td>\n",
       "      <td>40</td>\n",
       "    </tr>\n",
       "    <tr>\n",
       "      <th>4</th>\n",
       "      <td>119365</td>\n",
       "      <td>Кафе «Вишневая метель»</td>\n",
       "      <td>нет</td>\n",
       "      <td>кафе</td>\n",
       "      <td>город Москва, Абрамцевская улица, дом 9, корпус 1</td>\n",
       "      <td>50</td>\n",
       "    </tr>\n",
       "  </tbody>\n",
       "</table>\n",
       "</div>"
      ],
      "text/plain": [
       "       id             object_name chain object_type  \\\n",
       "0  151635                 СМЕТАНА   нет        кафе   \n",
       "1   77874                  Родник   нет        кафе   \n",
       "2   24309         Кафе «Академия»   нет        кафе   \n",
       "3   21894              ПИЦЦЕТОРИЯ    да        кафе   \n",
       "4  119365  Кафе «Вишневая метель»   нет        кафе   \n",
       "\n",
       "                                             address  number  \n",
       "0         город Москва, улица Егора Абакумова, дом 9      48  \n",
       "1  город Москва, улица Талалихина, дом 2/1, корпус 1      35  \n",
       "2          город Москва, Абельмановская улица, дом 6      95  \n",
       "3            город Москва, Абрамцевская улица, дом 1      40  \n",
       "4  город Москва, Абрамцевская улица, дом 9, корпус 1      50  "
      ]
     },
     "execution_count": 145,
     "metadata": {},
     "output_type": "execute_result"
    }
   ],
   "source": [
    "df.head(5)"
   ]
  },
  {
   "cell_type": "code",
   "execution_count": 146,
   "metadata": {},
   "outputs": [
    {
     "data": {
      "text/plain": [
       "id             0%\n",
       "object_name    0%\n",
       "chain          0%\n",
       "object_type    0%\n",
       "address        0%\n",
       "number         0%\n",
       "dtype: object"
      ]
     },
     "execution_count": 146,
     "metadata": {},
     "output_type": "execute_result"
    }
   ],
   "source": [
    "df.isna().mean().apply('{:.0%}'.format)"
   ]
  },
  {
   "cell_type": "code",
   "execution_count": 147,
   "metadata": {},
   "outputs": [],
   "source": [
    "df['object_name'] = df['object_name'].str.lower()\n",
    "df['object_type'] = df['object_type'].str.lower()\n",
    "df['address'] = df['address'].str.lower()"
   ]
  },
  {
   "cell_type": "code",
   "execution_count": 148,
   "metadata": {},
   "outputs": [
    {
     "data": {
      "text/plain": [
       "85"
      ]
     },
     "execution_count": 148,
     "metadata": {},
     "output_type": "execute_result"
    }
   ],
   "source": [
    "df.duplicated(subset=['object_name', 'address', 'chain', 'object_type', 'number']).sum()"
   ]
  },
  {
   "cell_type": "markdown",
   "metadata": {},
   "source": [
    "Найдено 85 дубликатов. Удалим их."
   ]
  },
  {
   "cell_type": "code",
   "execution_count": 149,
   "metadata": {},
   "outputs": [],
   "source": [
    "df.drop_duplicates(subset=['object_name', 'address', 'chain', 'object_type', 'number'], inplace = True)"
   ]
  },
  {
   "cell_type": "code",
   "execution_count": 150,
   "metadata": {},
   "outputs": [
    {
     "name": "stdout",
     "output_type": "stream",
     "text": [
      "<class 'pandas.core.frame.DataFrame'>\n",
      "Int64Index: 15281 entries, 0 to 15365\n",
      "Data columns (total 6 columns):\n",
      " #   Column       Non-Null Count  Dtype \n",
      "---  ------       --------------  ----- \n",
      " 0   id           15281 non-null  int64 \n",
      " 1   object_name  15281 non-null  object\n",
      " 2   chain        15281 non-null  object\n",
      " 3   object_type  15281 non-null  object\n",
      " 4   address      15281 non-null  object\n",
      " 5   number       15281 non-null  int64 \n",
      "dtypes: int64(2), object(4)\n",
      "memory usage: 835.7+ KB\n"
     ]
    }
   ],
   "source": [
    "df.info()"
   ]
  },
  {
   "cell_type": "markdown",
   "metadata": {},
   "source": [
    "#  Вывод о качестве данных:\n",
    "\n",
    "Проблемы в данных были. А именно: \n",
    "\n",
    "Данные приведены к нужному регистру.\n",
    "\n",
    "Пропусков - нет. \n",
    "\n",
    "Дубликаты обнаружены в количестве 85шт, были удалены.\n",
    "\n"
   ]
  },
  {
   "cell_type": "code",
   "execution_count": 151,
   "metadata": {},
   "outputs": [
    {
     "data": {
      "text/html": [
       "<div>\n",
       "<style scoped>\n",
       "    .dataframe tbody tr th:only-of-type {\n",
       "        vertical-align: middle;\n",
       "    }\n",
       "\n",
       "    .dataframe tbody tr th {\n",
       "        vertical-align: top;\n",
       "    }\n",
       "\n",
       "    .dataframe thead th {\n",
       "        text-align: right;\n",
       "    }\n",
       "</style>\n",
       "<table border=\"1\" class=\"dataframe\">\n",
       "  <thead>\n",
       "    <tr style=\"text-align: right;\">\n",
       "      <th></th>\n",
       "      <th>id</th>\n",
       "      <th>object_name</th>\n",
       "      <th>chain</th>\n",
       "      <th>object_type</th>\n",
       "      <th>address</th>\n",
       "      <th>number</th>\n",
       "    </tr>\n",
       "  </thead>\n",
       "  <tbody>\n",
       "    <tr>\n",
       "      <th>0</th>\n",
       "      <td>151635</td>\n",
       "      <td>сметана</td>\n",
       "      <td>нет</td>\n",
       "      <td>кафе</td>\n",
       "      <td>город москва, улица егора абакумова, дом 9</td>\n",
       "      <td>48</td>\n",
       "    </tr>\n",
       "    <tr>\n",
       "      <th>1</th>\n",
       "      <td>77874</td>\n",
       "      <td>родник</td>\n",
       "      <td>нет</td>\n",
       "      <td>кафе</td>\n",
       "      <td>город москва, улица талалихина, дом 2/1, корпус 1</td>\n",
       "      <td>35</td>\n",
       "    </tr>\n",
       "    <tr>\n",
       "      <th>2</th>\n",
       "      <td>24309</td>\n",
       "      <td>кафе «академия»</td>\n",
       "      <td>нет</td>\n",
       "      <td>кафе</td>\n",
       "      <td>город москва, абельмановская улица, дом 6</td>\n",
       "      <td>95</td>\n",
       "    </tr>\n",
       "    <tr>\n",
       "      <th>3</th>\n",
       "      <td>21894</td>\n",
       "      <td>пиццетория</td>\n",
       "      <td>да</td>\n",
       "      <td>кафе</td>\n",
       "      <td>город москва, абрамцевская улица, дом 1</td>\n",
       "      <td>40</td>\n",
       "    </tr>\n",
       "    <tr>\n",
       "      <th>4</th>\n",
       "      <td>119365</td>\n",
       "      <td>кафе «вишневая метель»</td>\n",
       "      <td>нет</td>\n",
       "      <td>кафе</td>\n",
       "      <td>город москва, абрамцевская улица, дом 9, корпус 1</td>\n",
       "      <td>50</td>\n",
       "    </tr>\n",
       "  </tbody>\n",
       "</table>\n",
       "</div>"
      ],
      "text/plain": [
       "       id             object_name chain object_type  \\\n",
       "0  151635                 сметана   нет        кафе   \n",
       "1   77874                  родник   нет        кафе   \n",
       "2   24309         кафе «академия»   нет        кафе   \n",
       "3   21894              пиццетория    да        кафе   \n",
       "4  119365  кафе «вишневая метель»   нет        кафе   \n",
       "\n",
       "                                             address  number  \n",
       "0         город москва, улица егора абакумова, дом 9      48  \n",
       "1  город москва, улица талалихина, дом 2/1, корпус 1      35  \n",
       "2          город москва, абельмановская улица, дом 6      95  \n",
       "3            город москва, абрамцевская улица, дом 1      40  \n",
       "4  город москва, абрамцевская улица, дом 9, корпус 1      50  "
      ]
     },
     "execution_count": 151,
     "metadata": {},
     "output_type": "execute_result"
    }
   ],
   "source": [
    "df.head(5)"
   ]
  },
  {
   "cell_type": "code",
   "execution_count": 152,
   "metadata": {},
   "outputs": [
    {
     "data": {
      "text/html": [
       "<div>\n",
       "<style scoped>\n",
       "    .dataframe tbody tr th:only-of-type {\n",
       "        vertical-align: middle;\n",
       "    }\n",
       "\n",
       "    .dataframe tbody tr th {\n",
       "        vertical-align: top;\n",
       "    }\n",
       "\n",
       "    .dataframe thead th {\n",
       "        text-align: right;\n",
       "    }\n",
       "</style>\n",
       "<table border=\"1\" class=\"dataframe\">\n",
       "  <thead>\n",
       "    <tr style=\"text-align: right;\">\n",
       "      <th></th>\n",
       "      <th>id</th>\n",
       "      <th>object_name</th>\n",
       "      <th>chain</th>\n",
       "      <th>object_type</th>\n",
       "      <th>address</th>\n",
       "      <th>number</th>\n",
       "    </tr>\n",
       "  </thead>\n",
       "  <tbody>\n",
       "    <tr>\n",
       "      <th>7104</th>\n",
       "      <td>27033</td>\n",
       "      <td>банкетный</td>\n",
       "      <td>нет</td>\n",
       "      <td>ресторан</td>\n",
       "      <td>город москва, ленинградский проспект, дом 31а,...</td>\n",
       "      <td>625</td>\n",
       "    </tr>\n",
       "    <tr>\n",
       "      <th>6077</th>\n",
       "      <td>29073</td>\n",
       "      <td>столовая 16 при рудн</td>\n",
       "      <td>нет</td>\n",
       "      <td>столовая</td>\n",
       "      <td>город москва, улица миклухо-маклая, дом 6</td>\n",
       "      <td>644</td>\n",
       "    </tr>\n",
       "    <tr>\n",
       "      <th>3401</th>\n",
       "      <td>135197</td>\n",
       "      <td>дурдинъ</td>\n",
       "      <td>нет</td>\n",
       "      <td>ресторан</td>\n",
       "      <td>город москва, мичуринский проспект, дом 8, стр...</td>\n",
       "      <td>650</td>\n",
       "    </tr>\n",
       "    <tr>\n",
       "      <th>7807</th>\n",
       "      <td>66234</td>\n",
       "      <td>стамбул</td>\n",
       "      <td>нет</td>\n",
       "      <td>ресторан</td>\n",
       "      <td>город москва, улица скульптора мухиной, дом 11</td>\n",
       "      <td>650</td>\n",
       "    </tr>\n",
       "    <tr>\n",
       "      <th>2317</th>\n",
       "      <td>73306</td>\n",
       "      <td>ресторан «бета»</td>\n",
       "      <td>нет</td>\n",
       "      <td>ресторан</td>\n",
       "      <td>город москва, измайловское шоссе, дом 71, корп...</td>\n",
       "      <td>660</td>\n",
       "    </tr>\n",
       "    <tr>\n",
       "      <th>7280</th>\n",
       "      <td>26269</td>\n",
       "      <td>ресторан «шахин шах»</td>\n",
       "      <td>нет</td>\n",
       "      <td>ресторан</td>\n",
       "      <td>город москва, улица маршала захарова, дом 6, к...</td>\n",
       "      <td>675</td>\n",
       "    </tr>\n",
       "    <tr>\n",
       "      <th>4110</th>\n",
       "      <td>29320</td>\n",
       "      <td>столовая</td>\n",
       "      <td>нет</td>\n",
       "      <td>столовая</td>\n",
       "      <td>город москва, каширское шоссе, дом 31</td>\n",
       "      <td>680</td>\n",
       "    </tr>\n",
       "    <tr>\n",
       "      <th>13299</th>\n",
       "      <td>200905</td>\n",
       "      <td>white hall</td>\n",
       "      <td>нет</td>\n",
       "      <td>ресторан</td>\n",
       "      <td>город москва, ферганская улица, дом 8</td>\n",
       "      <td>700</td>\n",
       "    </tr>\n",
       "    <tr>\n",
       "      <th>5649</th>\n",
       "      <td>29232</td>\n",
       "      <td>столовая московский гуманитарный университет</td>\n",
       "      <td>нет</td>\n",
       "      <td>столовая</td>\n",
       "      <td>город москва, улица юности, дом 5, строение 1</td>\n",
       "      <td>760</td>\n",
       "    </tr>\n",
       "    <tr>\n",
       "      <th>9955</th>\n",
       "      <td>171116</td>\n",
       "      <td>eataly</td>\n",
       "      <td>нет</td>\n",
       "      <td>ресторан</td>\n",
       "      <td>город москва, киевская улица, дом 2</td>\n",
       "      <td>920</td>\n",
       "    </tr>\n",
       "    <tr>\n",
       "      <th>2313</th>\n",
       "      <td>26560</td>\n",
       "      <td>ресторан «альфа»</td>\n",
       "      <td>нет</td>\n",
       "      <td>ресторан</td>\n",
       "      <td>город москва, измайловское шоссе, дом 71, корп...</td>\n",
       "      <td>1040</td>\n",
       "    </tr>\n",
       "    <tr>\n",
       "      <th>4480</th>\n",
       "      <td>27024</td>\n",
       "      <td>рум сервис</td>\n",
       "      <td>нет</td>\n",
       "      <td>ресторан</td>\n",
       "      <td>город москва, кутузовский проспект, дом 2/1, с...</td>\n",
       "      <td>1200</td>\n",
       "    </tr>\n",
       "    <tr>\n",
       "      <th>3686</th>\n",
       "      <td>27026</td>\n",
       "      <td>рум сервис</td>\n",
       "      <td>нет</td>\n",
       "      <td>ресторан</td>\n",
       "      <td>город москва, площадь европы, дом 2</td>\n",
       "      <td>1200</td>\n",
       "    </tr>\n",
       "    <tr>\n",
       "      <th>9064</th>\n",
       "      <td>19719</td>\n",
       "      <td>комбинат питания «управление академсервис»</td>\n",
       "      <td>нет</td>\n",
       "      <td>столовая</td>\n",
       "      <td>город москва, проспект вернадского, дом 84, ст...</td>\n",
       "      <td>1288</td>\n",
       "    </tr>\n",
       "    <tr>\n",
       "      <th>8345</th>\n",
       "      <td>27750</td>\n",
       "      <td>столовая-буфет</td>\n",
       "      <td>нет</td>\n",
       "      <td>столовая</td>\n",
       "      <td>город москва, улица волхонка, дом 15</td>\n",
       "      <td>1400</td>\n",
       "    </tr>\n",
       "    <tr>\n",
       "      <th>8148</th>\n",
       "      <td>80291</td>\n",
       "      <td>банкетный зал шелк</td>\n",
       "      <td>нет</td>\n",
       "      <td>ресторан</td>\n",
       "      <td>город москва, большой саввинский переулок, дом...</td>\n",
       "      <td>1500</td>\n",
       "    </tr>\n",
       "    <tr>\n",
       "      <th>12723</th>\n",
       "      <td>199696</td>\n",
       "      <td>arena by soho family</td>\n",
       "      <td>нет</td>\n",
       "      <td>бар</td>\n",
       "      <td>город москва, кутузовский проспект, дом 36, ст...</td>\n",
       "      <td>1700</td>\n",
       "    </tr>\n",
       "  </tbody>\n",
       "</table>\n",
       "</div>"
      ],
      "text/plain": [
       "           id                                   object_name chain object_type  \\\n",
       "7104    27033                                     банкетный   нет    ресторан   \n",
       "6077    29073                          столовая 16 при рудн   нет    столовая   \n",
       "3401   135197                                       дурдинъ   нет    ресторан   \n",
       "7807    66234                                       стамбул   нет    ресторан   \n",
       "2317    73306                               ресторан «бета»   нет    ресторан   \n",
       "7280    26269                          ресторан «шахин шах»   нет    ресторан   \n",
       "4110    29320                                      столовая   нет    столовая   \n",
       "13299  200905                                    white hall   нет    ресторан   \n",
       "5649    29232  столовая московский гуманитарный университет   нет    столовая   \n",
       "9955   171116                                        eataly   нет    ресторан   \n",
       "2313    26560                              ресторан «альфа»   нет    ресторан   \n",
       "4480    27024                                    рум сервис   нет    ресторан   \n",
       "3686    27026                                    рум сервис   нет    ресторан   \n",
       "9064    19719    комбинат питания «управление академсервис»   нет    столовая   \n",
       "8345    27750                                столовая-буфет   нет    столовая   \n",
       "8148    80291                            банкетный зал шелк   нет    ресторан   \n",
       "12723  199696                          arena by soho family   нет         бар   \n",
       "\n",
       "                                                 address  number  \n",
       "7104   город москва, ленинградский проспект, дом 31а,...     625  \n",
       "6077           город москва, улица миклухо-маклая, дом 6     644  \n",
       "3401   город москва, мичуринский проспект, дом 8, стр...     650  \n",
       "7807      город москва, улица скульптора мухиной, дом 11     650  \n",
       "2317   город москва, измайловское шоссе, дом 71, корп...     660  \n",
       "7280   город москва, улица маршала захарова, дом 6, к...     675  \n",
       "4110               город москва, каширское шоссе, дом 31     680  \n",
       "13299              город москва, ферганская улица, дом 8     700  \n",
       "5649       город москва, улица юности, дом 5, строение 1     760  \n",
       "9955                 город москва, киевская улица, дом 2     920  \n",
       "2313   город москва, измайловское шоссе, дом 71, корп...    1040  \n",
       "4480   город москва, кутузовский проспект, дом 2/1, с...    1200  \n",
       "3686                 город москва, площадь европы, дом 2    1200  \n",
       "9064   город москва, проспект вернадского, дом 84, ст...    1288  \n",
       "8345                город москва, улица волхонка, дом 15    1400  \n",
       "8148   город москва, большой саввинский переулок, дом...    1500  \n",
       "12723  город москва, кутузовский проспект, дом 36, ст...    1700  "
      ]
     },
     "execution_count": 152,
     "metadata": {},
     "output_type": "execute_result"
    }
   ],
   "source": [
    "df.query('number >600').sort_values( by = 'number')"
   ]
  },
  {
   "cell_type": "markdown",
   "metadata": {},
   "source": [
    "#### Исследуйте соотношение видов объектов общественного питания по количеству. Постройте график."
   ]
  },
  {
   "cell_type": "code",
   "execution_count": 153,
   "metadata": {},
   "outputs": [
    {
     "data": {
      "text/plain": [
       "['кафе',\n",
       " 'столовая',\n",
       " 'закусочная',\n",
       " 'предприятие быстрого обслуживания',\n",
       " 'ресторан',\n",
       " 'кафетерий',\n",
       " 'буфет',\n",
       " 'бар',\n",
       " 'магазин (отдел кулинарии)']"
      ]
     },
     "execution_count": 153,
     "metadata": {},
     "output_type": "execute_result"
    }
   ],
   "source": [
    "list(df['object_type'].unique())"
   ]
  },
  {
   "cell_type": "code",
   "execution_count": 154,
   "metadata": {},
   "outputs": [
    {
     "data": {
      "text/html": [
       "<div>\n",
       "<style scoped>\n",
       "    .dataframe tbody tr th:only-of-type {\n",
       "        vertical-align: middle;\n",
       "    }\n",
       "\n",
       "    .dataframe tbody tr th {\n",
       "        vertical-align: top;\n",
       "    }\n",
       "\n",
       "    .dataframe thead th {\n",
       "        text-align: right;\n",
       "    }\n",
       "</style>\n",
       "<table border=\"1\" class=\"dataframe\">\n",
       "  <thead>\n",
       "    <tr style=\"text-align: right;\">\n",
       "      <th></th>\n",
       "      <th>id</th>\n",
       "    </tr>\n",
       "    <tr>\n",
       "      <th>object_type</th>\n",
       "      <th></th>\n",
       "    </tr>\n",
       "  </thead>\n",
       "  <tbody>\n",
       "    <tr>\n",
       "      <th>кафе</th>\n",
       "      <td>6071</td>\n",
       "    </tr>\n",
       "    <tr>\n",
       "      <th>столовая</th>\n",
       "      <td>2584</td>\n",
       "    </tr>\n",
       "    <tr>\n",
       "      <th>ресторан</th>\n",
       "      <td>2282</td>\n",
       "    </tr>\n",
       "    <tr>\n",
       "      <th>предприятие быстрого обслуживания</th>\n",
       "      <td>1897</td>\n",
       "    </tr>\n",
       "    <tr>\n",
       "      <th>бар</th>\n",
       "      <td>855</td>\n",
       "    </tr>\n",
       "    <tr>\n",
       "      <th>буфет</th>\n",
       "      <td>576</td>\n",
       "    </tr>\n",
       "    <tr>\n",
       "      <th>кафетерий</th>\n",
       "      <td>395</td>\n",
       "    </tr>\n",
       "    <tr>\n",
       "      <th>закусочная</th>\n",
       "      <td>348</td>\n",
       "    </tr>\n",
       "    <tr>\n",
       "      <th>магазин (отдел кулинарии)</th>\n",
       "      <td>273</td>\n",
       "    </tr>\n",
       "  </tbody>\n",
       "</table>\n",
       "</div>"
      ],
      "text/plain": [
       "                                     id\n",
       "object_type                            \n",
       "кафе                               6071\n",
       "столовая                           2584\n",
       "ресторан                           2282\n",
       "предприятие быстрого обслуживания  1897\n",
       "бар                                 855\n",
       "буфет                               576\n",
       "кафетерий                           395\n",
       "закусочная                          348\n",
       "магазин (отдел кулинарии)           273"
      ]
     },
     "execution_count": 154,
     "metadata": {},
     "output_type": "execute_result"
    }
   ],
   "source": [
    "count_type = df.pivot_table(index = ['object_type'], values = 'id', aggfunc = 'count').sort_values(by = 'id', ascending = False)\n",
    "count_type"
   ]
  },
  {
   "cell_type": "code",
   "execution_count": 155,
   "metadata": {},
   "outputs": [],
   "source": [
    "count_type['%'] = round(count_type['id']/count_type['id'].sum()*100, 2)"
   ]
  },
  {
   "cell_type": "code",
   "execution_count": 156,
   "metadata": {},
   "outputs": [
    {
     "data": {
      "text/html": [
       "<div>\n",
       "<style scoped>\n",
       "    .dataframe tbody tr th:only-of-type {\n",
       "        vertical-align: middle;\n",
       "    }\n",
       "\n",
       "    .dataframe tbody tr th {\n",
       "        vertical-align: top;\n",
       "    }\n",
       "\n",
       "    .dataframe thead th {\n",
       "        text-align: right;\n",
       "    }\n",
       "</style>\n",
       "<table border=\"1\" class=\"dataframe\">\n",
       "  <thead>\n",
       "    <tr style=\"text-align: right;\">\n",
       "      <th></th>\n",
       "      <th>id</th>\n",
       "      <th>%</th>\n",
       "    </tr>\n",
       "    <tr>\n",
       "      <th>object_type</th>\n",
       "      <th></th>\n",
       "      <th></th>\n",
       "    </tr>\n",
       "  </thead>\n",
       "  <tbody>\n",
       "    <tr>\n",
       "      <th>кафе</th>\n",
       "      <td>6071</td>\n",
       "      <td>39.73</td>\n",
       "    </tr>\n",
       "    <tr>\n",
       "      <th>столовая</th>\n",
       "      <td>2584</td>\n",
       "      <td>16.91</td>\n",
       "    </tr>\n",
       "    <tr>\n",
       "      <th>ресторан</th>\n",
       "      <td>2282</td>\n",
       "      <td>14.93</td>\n",
       "    </tr>\n",
       "    <tr>\n",
       "      <th>предприятие быстрого обслуживания</th>\n",
       "      <td>1897</td>\n",
       "      <td>12.41</td>\n",
       "    </tr>\n",
       "    <tr>\n",
       "      <th>бар</th>\n",
       "      <td>855</td>\n",
       "      <td>5.60</td>\n",
       "    </tr>\n",
       "    <tr>\n",
       "      <th>буфет</th>\n",
       "      <td>576</td>\n",
       "      <td>3.77</td>\n",
       "    </tr>\n",
       "    <tr>\n",
       "      <th>кафетерий</th>\n",
       "      <td>395</td>\n",
       "      <td>2.58</td>\n",
       "    </tr>\n",
       "    <tr>\n",
       "      <th>закусочная</th>\n",
       "      <td>348</td>\n",
       "      <td>2.28</td>\n",
       "    </tr>\n",
       "    <tr>\n",
       "      <th>магазин (отдел кулинарии)</th>\n",
       "      <td>273</td>\n",
       "      <td>1.79</td>\n",
       "    </tr>\n",
       "  </tbody>\n",
       "</table>\n",
       "</div>"
      ],
      "text/plain": [
       "                                     id      %\n",
       "object_type                                   \n",
       "кафе                               6071  39.73\n",
       "столовая                           2584  16.91\n",
       "ресторан                           2282  14.93\n",
       "предприятие быстрого обслуживания  1897  12.41\n",
       "бар                                 855   5.60\n",
       "буфет                               576   3.77\n",
       "кафетерий                           395   2.58\n",
       "закусочная                          348   2.28\n",
       "магазин (отдел кулинарии)           273   1.79"
      ]
     },
     "execution_count": 156,
     "metadata": {},
     "output_type": "execute_result"
    }
   ],
   "source": [
    "count_type"
   ]
  },
  {
   "cell_type": "code",
   "execution_count": 157,
   "metadata": {},
   "outputs": [
    {
     "data": {
      "image/png": "[encoded data removed]",
      "text/plain": [
       "<Figure size 432x288 with 1 Axes>"
      ]
     },
     "metadata": {
      "needs_background": "light"
     },
     "output_type": "display_data"
    }
   ],
   "source": [
    "plt.bar(count_type.index,count_type['%'] )\n",
    "\n",
    "plt.title('График соотношение видов объектов общественного питания по количеству')\n",
    "plt.xlabel(\"вид объектов\")\n",
    "plt.ylabel(\"% от общего \")\n",
    "plt.xticks(rotation=45)\n",
    "plt.show()"
   ]
  },
  {
   "cell_type": "markdown",
   "metadata": {},
   "source": [
    "На графике видно, что лидируте кафе у него 40% от общей доли всех видов заведений, далее идет столовая, ресторан и предприятия быстрого обслужиания."
   ]
  },
  {
   "cell_type": "markdown",
   "metadata": {},
   "source": [
    "#### Исследуйте соотношение сетевых и несетевых заведений по количеству. Постройте график."
   ]
  },
  {
   "cell_type": "code",
   "execution_count": 158,
   "metadata": {},
   "outputs": [],
   "source": [
    "how_chain = df.pivot_table(index = ['chain'], values = 'id', aggfunc = 'count').sort_values(by = 'id', ascending = False)\n"
   ]
  },
  {
   "cell_type": "code",
   "execution_count": 159,
   "metadata": {},
   "outputs": [
    {
     "data": {
      "text/html": [
       "<div>\n",
       "<style scoped>\n",
       "    .dataframe tbody tr th:only-of-type {\n",
       "        vertical-align: middle;\n",
       "    }\n",
       "\n",
       "    .dataframe tbody tr th {\n",
       "        vertical-align: top;\n",
       "    }\n",
       "\n",
       "    .dataframe thead th {\n",
       "        text-align: right;\n",
       "    }\n",
       "</style>\n",
       "<table border=\"1\" class=\"dataframe\">\n",
       "  <thead>\n",
       "    <tr style=\"text-align: right;\">\n",
       "      <th></th>\n",
       "      <th>id</th>\n",
       "    </tr>\n",
       "    <tr>\n",
       "      <th>chain</th>\n",
       "      <th></th>\n",
       "    </tr>\n",
       "  </thead>\n",
       "  <tbody>\n",
       "    <tr>\n",
       "      <th>нет</th>\n",
       "      <td>12317</td>\n",
       "    </tr>\n",
       "    <tr>\n",
       "      <th>да</th>\n",
       "      <td>2964</td>\n",
       "    </tr>\n",
       "  </tbody>\n",
       "</table>\n",
       "</div>"
      ],
      "text/plain": [
       "          id\n",
       "chain       \n",
       "нет    12317\n",
       "да      2964"
      ]
     },
     "execution_count": 159,
     "metadata": {},
     "output_type": "execute_result"
    }
   ],
   "source": [
    "how_chain"
   ]
  },
  {
   "cell_type": "code",
   "execution_count": 160,
   "metadata": {},
   "outputs": [
    {
     "data": {
      "image/png": "[encoded data removed]",
      "text/plain": [
       "<Figure size 432x288 with 1 Axes>"
      ]
     },
     "metadata": {
      "needs_background": "light"
     },
     "output_type": "display_data"
    }
   ],
   "source": [
    "plt.bar(how_chain.index,how_chain['id'] )\n",
    "\n",
    "plt.title('График соотношение сетевых и несетевых заведений по количеству')\n",
    "plt.xlabel(\"сеть или нет\")\n",
    "plt.ylabel(\"количество \")\n",
    "\n",
    "plt.show()"
   ]
  },
  {
   "cell_type": "markdown",
   "metadata": {},
   "source": [
    "На графике видно, что сетевых кафе в 4 раза меньше, около 3 тысяч, а вот не сетевых 12,4 тыс. "
   ]
  },
  {
   "cell_type": "markdown",
   "metadata": {},
   "source": [
    "#### Для какого вида объекта общественного питания характерно сетевое распространение?"
   ]
  },
  {
   "cell_type": "code",
   "execution_count": 161,
   "metadata": {},
   "outputs": [],
   "source": [
    "df_pivot = df.pivot_table(index='object_type', values='id', columns='chain', aggfunc='count').reset_index()\n",
    "df_pivot['share_chain %'] = ((df_pivot['да'] / (df_pivot['да'] + df_pivot['нет'])) * 100).round(2)\n",
    "df_pivot.drop(df_pivot.columns[[1,2]], axis=1, inplace=True)\n",
    "df_pivot = df_pivot.sort_values('share_chain %', ascending = False)"
   ]
  },
  {
   "cell_type": "code",
   "execution_count": 162,
   "metadata": {},
   "outputs": [
    {
     "data": {
      "text/html": [
       "<div>\n",
       "<style scoped>\n",
       "    .dataframe tbody tr th:only-of-type {\n",
       "        vertical-align: middle;\n",
       "    }\n",
       "\n",
       "    .dataframe tbody tr th {\n",
       "        vertical-align: top;\n",
       "    }\n",
       "\n",
       "    .dataframe thead th {\n",
       "        text-align: right;\n",
       "    }\n",
       "</style>\n",
       "<table border=\"1\" class=\"dataframe\">\n",
       "  <thead>\n",
       "    <tr style=\"text-align: right;\">\n",
       "      <th>chain</th>\n",
       "      <th>object_type</th>\n",
       "      <th>share_chain %</th>\n",
       "    </tr>\n",
       "  </thead>\n",
       "  <tbody>\n",
       "    <tr>\n",
       "      <th>6</th>\n",
       "      <td>предприятие быстрого обслуживания</td>\n",
       "      <td>41.54</td>\n",
       "    </tr>\n",
       "    <tr>\n",
       "      <th>5</th>\n",
       "      <td>магазин (отдел кулинарии)</td>\n",
       "      <td>28.57</td>\n",
       "    </tr>\n",
       "    <tr>\n",
       "      <th>7</th>\n",
       "      <td>ресторан</td>\n",
       "      <td>23.79</td>\n",
       "    </tr>\n",
       "    <tr>\n",
       "      <th>3</th>\n",
       "      <td>кафе</td>\n",
       "      <td>22.99</td>\n",
       "    </tr>\n",
       "    <tr>\n",
       "      <th>2</th>\n",
       "      <td>закусочная</td>\n",
       "      <td>16.09</td>\n",
       "    </tr>\n",
       "    <tr>\n",
       "      <th>4</th>\n",
       "      <td>кафетерий</td>\n",
       "      <td>13.16</td>\n",
       "    </tr>\n",
       "    <tr>\n",
       "      <th>0</th>\n",
       "      <td>бар</td>\n",
       "      <td>4.33</td>\n",
       "    </tr>\n",
       "    <tr>\n",
       "      <th>1</th>\n",
       "      <td>буфет</td>\n",
       "      <td>1.91</td>\n",
       "    </tr>\n",
       "    <tr>\n",
       "      <th>8</th>\n",
       "      <td>столовая</td>\n",
       "      <td>0.12</td>\n",
       "    </tr>\n",
       "  </tbody>\n",
       "</table>\n",
       "</div>"
      ],
      "text/plain": [
       "chain                        object_type  share_chain %\n",
       "6      предприятие быстрого обслуживания          41.54\n",
       "5              магазин (отдел кулинарии)          28.57\n",
       "7                               ресторан          23.79\n",
       "3                                   кафе          22.99\n",
       "2                             закусочная          16.09\n",
       "4                              кафетерий          13.16\n",
       "0                                    бар           4.33\n",
       "1                                  буфет           1.91\n",
       "8                               столовая           0.12"
      ]
     },
     "execution_count": 162,
     "metadata": {},
     "output_type": "execute_result"
    }
   ],
   "source": [
    "df_pivot"
   ]
  },
  {
   "cell_type": "code",
   "execution_count": 163,
   "metadata": {},
   "outputs": [
    {
     "data": {
      "image/png": "[encoded data removed]",
      "text/plain": [
       "<Figure size 432x288 with 1 Axes>"
      ]
     },
     "metadata": {
      "needs_background": "light"
     },
     "output_type": "display_data"
    }
   ],
   "source": [
    "ax = sns.barplot(x='share_chain %', y='object_type', data=df_pivot.sort_values('share_chain %', ascending=False), palette=\"Set3\")\n",
    "ax.set_title('Доли сетевых объектов общественного питания для каждого типа')\n",
    "ax.set_xlabel('Доля объектов %')\n",
    "ax.set_ylabel('Тип объекта')\n",
    "plt.show()"
   ]
  },
  {
   "cell_type": "markdown",
   "metadata": {},
   "source": [
    "Среди сетевых лидируют форматы объектов: предприятие быстрого обслуживания, магазин (отдел кулинарии), ресторан и кафе, практически нет сетевых столовых, хотя в Москве их 2587."
   ]
  },
  {
   "cell_type": "markdown",
   "metadata": {},
   "source": [
    "#### Что характерно для сетевых заведений: много заведений с небольшим числом посадочных мест в каждом или мало заведений с большим количеством посадочных мест?\n"
   ]
  },
  {
   "cell_type": "code",
   "execution_count": 164,
   "metadata": {},
   "outputs": [],
   "source": [
    "chain_object = df.query('chain == \"да\"')\n",
    "chain_group =  df.groupby('object_name').agg({'id': 'count', 'number' : 'mean'}).sort_values(by = 'id', ascending = False)\n",
    "          "
   ]
  },
  {
   "cell_type": "code",
   "execution_count": 165,
   "metadata": {},
   "outputs": [
    {
     "data": {
      "text/html": [
       "<div>\n",
       "<style scoped>\n",
       "    .dataframe tbody tr th:only-of-type {\n",
       "        vertical-align: middle;\n",
       "    }\n",
       "\n",
       "    .dataframe tbody tr th {\n",
       "        vertical-align: top;\n",
       "    }\n",
       "\n",
       "    .dataframe thead th {\n",
       "        text-align: right;\n",
       "    }\n",
       "</style>\n",
       "<table border=\"1\" class=\"dataframe\">\n",
       "  <thead>\n",
       "    <tr style=\"text-align: right;\">\n",
       "      <th></th>\n",
       "      <th>id</th>\n",
       "      <th>number</th>\n",
       "    </tr>\n",
       "    <tr>\n",
       "      <th>object_name</th>\n",
       "      <th></th>\n",
       "      <th></th>\n",
       "    </tr>\n",
       "  </thead>\n",
       "  <tbody>\n",
       "    <tr>\n",
       "      <th>столовая</th>\n",
       "      <td>321</td>\n",
       "      <td>73.757009</td>\n",
       "    </tr>\n",
       "    <tr>\n",
       "      <th>кафе</th>\n",
       "      <td>263</td>\n",
       "      <td>27.878327</td>\n",
       "    </tr>\n",
       "    <tr>\n",
       "      <th>шаурма</th>\n",
       "      <td>241</td>\n",
       "      <td>0.917012</td>\n",
       "    </tr>\n",
       "    <tr>\n",
       "      <th>шоколадница</th>\n",
       "      <td>158</td>\n",
       "      <td>57.126582</td>\n",
       "    </tr>\n",
       "    <tr>\n",
       "      <th>kfc</th>\n",
       "      <td>155</td>\n",
       "      <td>55.341935</td>\n",
       "    </tr>\n",
       "    <tr>\n",
       "      <th>...</th>\n",
       "      <td>...</td>\n",
       "      <td>...</td>\n",
       "    </tr>\n",
       "    <tr>\n",
       "      <th>кафе «288»</th>\n",
       "      <td>1</td>\n",
       "      <td>140.000000</td>\n",
       "    </tr>\n",
       "    <tr>\n",
       "      <th>кафе «317»</th>\n",
       "      <td>1</td>\n",
       "      <td>72.000000</td>\n",
       "    </tr>\n",
       "    <tr>\n",
       "      <th>кафе «93 с»</th>\n",
       "      <td>1</td>\n",
       "      <td>5.000000</td>\n",
       "    </tr>\n",
       "    <tr>\n",
       "      <th>кафе «abc coffee roasters»</th>\n",
       "      <td>1</td>\n",
       "      <td>20.000000</td>\n",
       "    </tr>\n",
       "    <tr>\n",
       "      <th>кофе поинт</th>\n",
       "      <td>1</td>\n",
       "      <td>0.000000</td>\n",
       "    </tr>\n",
       "  </tbody>\n",
       "</table>\n",
       "<p>9924 rows × 2 columns</p>\n",
       "</div>"
      ],
      "text/plain": [
       "                             id      number\n",
       "object_name                                \n",
       "столовая                    321   73.757009\n",
       "кафе                        263   27.878327\n",
       "шаурма                      241    0.917012\n",
       "шоколадница                 158   57.126582\n",
       "kfc                         155   55.341935\n",
       "...                         ...         ...\n",
       "кафе «288»                    1  140.000000\n",
       "кафе «317»                    1   72.000000\n",
       "кафе «93 с»                   1    5.000000\n",
       "кафе «abc coffee roasters»    1   20.000000\n",
       "кофе поинт                    1    0.000000\n",
       "\n",
       "[9924 rows x 2 columns]"
      ]
     },
     "execution_count": 165,
     "metadata": {},
     "output_type": "execute_result"
    }
   ],
   "source": [
    "chain_group"
   ]
  },
  {
   "cell_type": "code",
   "execution_count": 166,
   "metadata": {},
   "outputs": [
    {
     "data": {
      "text/html": [
       "<div>\n",
       "<style scoped>\n",
       "    .dataframe tbody tr th:only-of-type {\n",
       "        vertical-align: middle;\n",
       "    }\n",
       "\n",
       "    .dataframe tbody tr th {\n",
       "        vertical-align: top;\n",
       "    }\n",
       "\n",
       "    .dataframe thead th {\n",
       "        text-align: right;\n",
       "    }\n",
       "</style>\n",
       "<table border=\"1\" class=\"dataframe\">\n",
       "  <thead>\n",
       "    <tr style=\"text-align: right;\">\n",
       "      <th></th>\n",
       "      <th>id</th>\n",
       "      <th>object_name</th>\n",
       "      <th>chain</th>\n",
       "      <th>object_type</th>\n",
       "      <th>address</th>\n",
       "      <th>number</th>\n",
       "    </tr>\n",
       "  </thead>\n",
       "  <tbody>\n",
       "    <tr>\n",
       "      <th>3</th>\n",
       "      <td>21894</td>\n",
       "      <td>пиццетория</td>\n",
       "      <td>да</td>\n",
       "      <td>кафе</td>\n",
       "      <td>город москва, абрамцевская улица, дом 1</td>\n",
       "      <td>40</td>\n",
       "    </tr>\n",
       "    <tr>\n",
       "      <th>6</th>\n",
       "      <td>148815</td>\n",
       "      <td>брусника</td>\n",
       "      <td>да</td>\n",
       "      <td>кафе</td>\n",
       "      <td>город москва, переулок сивцев вражек, дом 6/2</td>\n",
       "      <td>10</td>\n",
       "    </tr>\n",
       "    <tr>\n",
       "      <th>13</th>\n",
       "      <td>22579</td>\n",
       "      <td>алло пицца</td>\n",
       "      <td>да</td>\n",
       "      <td>кафе</td>\n",
       "      <td>город москва, улица авиаторов, дом 14</td>\n",
       "      <td>32</td>\n",
       "    </tr>\n",
       "    <tr>\n",
       "      <th>16</th>\n",
       "      <td>144107</td>\n",
       "      <td>суши wok</td>\n",
       "      <td>да</td>\n",
       "      <td>предприятие быстрого обслуживания</td>\n",
       "      <td>город москва, азовская улица, дом 3</td>\n",
       "      <td>7</td>\n",
       "    </tr>\n",
       "    <tr>\n",
       "      <th>18</th>\n",
       "      <td>58565</td>\n",
       "      <td>тануки</td>\n",
       "      <td>да</td>\n",
       "      <td>ресторан</td>\n",
       "      <td>город москва, большая академическая улица, дом 65</td>\n",
       "      <td>160</td>\n",
       "    </tr>\n",
       "    <tr>\n",
       "      <th>...</th>\n",
       "      <td>...</td>\n",
       "      <td>...</td>\n",
       "      <td>...</td>\n",
       "      <td>...</td>\n",
       "      <td>...</td>\n",
       "      <td>...</td>\n",
       "    </tr>\n",
       "    <tr>\n",
       "      <th>15361</th>\n",
       "      <td>208537</td>\n",
       "      <td>шоколадница</td>\n",
       "      <td>да</td>\n",
       "      <td>кафе</td>\n",
       "      <td>город москва, 3-й крутицкий переулок, дом 18</td>\n",
       "      <td>50</td>\n",
       "    </tr>\n",
       "    <tr>\n",
       "      <th>15362</th>\n",
       "      <td>209264</td>\n",
       "      <td>шоколадница</td>\n",
       "      <td>да</td>\n",
       "      <td>кафе</td>\n",
       "      <td>город москва, улица земляной вал, дом 33</td>\n",
       "      <td>10</td>\n",
       "    </tr>\n",
       "    <tr>\n",
       "      <th>15363</th>\n",
       "      <td>209186</td>\n",
       "      <td>шоколадница</td>\n",
       "      <td>да</td>\n",
       "      <td>кафе</td>\n",
       "      <td>город москва, улица земляной вал, дом 33</td>\n",
       "      <td>20</td>\n",
       "    </tr>\n",
       "    <tr>\n",
       "      <th>15364</th>\n",
       "      <td>221900</td>\n",
       "      <td>шоколадница</td>\n",
       "      <td>да</td>\n",
       "      <td>кафе</td>\n",
       "      <td>город москва, поселение московский, киевское ш...</td>\n",
       "      <td>36</td>\n",
       "    </tr>\n",
       "    <tr>\n",
       "      <th>15365</th>\n",
       "      <td>222535</td>\n",
       "      <td>шоколадница</td>\n",
       "      <td>да</td>\n",
       "      <td>кафе</td>\n",
       "      <td>город москва, ходынский бульвар, дом 4</td>\n",
       "      <td>10</td>\n",
       "    </tr>\n",
       "  </tbody>\n",
       "</table>\n",
       "<p>2964 rows × 6 columns</p>\n",
       "</div>"
      ],
      "text/plain": [
       "           id  object_name chain                        object_type  \\\n",
       "3       21894   пиццетория    да                               кафе   \n",
       "6      148815     брусника    да                               кафе   \n",
       "13      22579   алло пицца    да                               кафе   \n",
       "16     144107     суши wok    да  предприятие быстрого обслуживания   \n",
       "18      58565       тануки    да                           ресторан   \n",
       "...       ...          ...   ...                                ...   \n",
       "15361  208537  шоколадница    да                               кафе   \n",
       "15362  209264  шоколадница    да                               кафе   \n",
       "15363  209186  шоколадница    да                               кафе   \n",
       "15364  221900  шоколадница    да                               кафе   \n",
       "15365  222535  шоколадница    да                               кафе   \n",
       "\n",
       "                                                 address  number  \n",
       "3                город москва, абрамцевская улица, дом 1      40  \n",
       "6          город москва, переулок сивцев вражек, дом 6/2      10  \n",
       "13                 город москва, улица авиаторов, дом 14      32  \n",
       "16                   город москва, азовская улица, дом 3       7  \n",
       "18     город москва, большая академическая улица, дом 65     160  \n",
       "...                                                  ...     ...  \n",
       "15361       город москва, 3-й крутицкий переулок, дом 18      50  \n",
       "15362           город москва, улица земляной вал, дом 33      10  \n",
       "15363           город москва, улица земляной вал, дом 33      20  \n",
       "15364  город москва, поселение московский, киевское ш...      36  \n",
       "15365             город москва, ходынский бульвар, дом 4      10  \n",
       "\n",
       "[2964 rows x 6 columns]"
      ]
     },
     "execution_count": 166,
     "metadata": {},
     "output_type": "execute_result"
    }
   ],
   "source": [
    "chain_object"
   ]
  },
  {
   "cell_type": "code",
   "execution_count": 167,
   "metadata": {},
   "outputs": [
    {
     "data": {
      "image/png": "[encoded data removed]",
      "text/plain": [
       "<Figure size 432x288 with 1 Axes>"
      ]
     },
     "metadata": {
      "needs_background": "light"
     },
     "output_type": "display_data"
    }
   ],
   "source": [
    "a = plt.scatter(x='id', y = 'number', data = chain_group )\n",
    "plt.title('График отношения кол-ва заведений к посадочным местам')\n",
    "plt.xlabel(\"Кол-во заведений\")\n",
    "plt.ylabel(\"Кол-во посадочных мест\")\n",
    "plt.show()"
   ]
  },
  {
   "cell_type": "markdown",
   "metadata": {},
   "source": [
    "для сетевых заведений характерно большое количество точек с небольшим количеством посадочных мест."
   ]
  },
  {
   "cell_type": "markdown",
   "metadata": {},
   "source": [
    "#### Для каждого вида объекта общественного питания опишите среднее количество посадочных мест. Какой вид предоставляет в среднем самое большое количество посадочных мест? Постройте графики."
   ]
  },
  {
   "cell_type": "code",
   "execution_count": 168,
   "metadata": {},
   "outputs": [
    {
     "data": {
      "image/png": "[encoded data removed]",
      "text/plain": [
       "<Figure size 432x288 with 1 Axes>"
      ]
     },
     "metadata": {
      "needs_background": "light"
     },
     "output_type": "display_data"
    }
   ],
   "source": [
    "ax = sns.boxplot(x='number', y='object_type', data=df, palette=\"Set3\")\n",
    "ax.set_xlim(-10,300)\n",
    "ax.set_title('График среднего количества посадочных мест')\n",
    "ax.set_xlabel('Доля объектов %')\n",
    "ax.set_ylabel('Кол-во посадочных мест')\n",
    "plt.show()"
   ]
  },
  {
   "cell_type": "code",
   "execution_count": 169,
   "metadata": {},
   "outputs": [
    {
     "data": {
      "text/html": [
       "<div>\n",
       "<style scoped>\n",
       "    .dataframe tbody tr th:only-of-type {\n",
       "        vertical-align: middle;\n",
       "    }\n",
       "\n",
       "    .dataframe tbody tr th {\n",
       "        vertical-align: top;\n",
       "    }\n",
       "\n",
       "    .dataframe thead th {\n",
       "        text-align: right;\n",
       "    }\n",
       "</style>\n",
       "<table border=\"1\" class=\"dataframe\">\n",
       "  <thead>\n",
       "    <tr style=\"text-align: right;\">\n",
       "      <th></th>\n",
       "      <th>count</th>\n",
       "      <th>mean</th>\n",
       "      <th>std</th>\n",
       "      <th>min</th>\n",
       "      <th>25%</th>\n",
       "      <th>50%</th>\n",
       "      <th>75%</th>\n",
       "      <th>max</th>\n",
       "    </tr>\n",
       "    <tr>\n",
       "      <th>object_type</th>\n",
       "      <th></th>\n",
       "      <th></th>\n",
       "      <th></th>\n",
       "      <th></th>\n",
       "      <th></th>\n",
       "      <th></th>\n",
       "      <th></th>\n",
       "      <th></th>\n",
       "    </tr>\n",
       "  </thead>\n",
       "  <tbody>\n",
       "    <tr>\n",
       "      <th>закусочная</th>\n",
       "      <td>348.0</td>\n",
       "      <td>7.847701</td>\n",
       "      <td>16.884497</td>\n",
       "      <td>0.0</td>\n",
       "      <td>0.0</td>\n",
       "      <td>0.0</td>\n",
       "      <td>10.0</td>\n",
       "      <td>216.0</td>\n",
       "    </tr>\n",
       "    <tr>\n",
       "      <th>магазин (отдел кулинарии)</th>\n",
       "      <td>273.0</td>\n",
       "      <td>5.589744</td>\n",
       "      <td>9.872729</td>\n",
       "      <td>0.0</td>\n",
       "      <td>0.0</td>\n",
       "      <td>0.0</td>\n",
       "      <td>8.0</td>\n",
       "      <td>50.0</td>\n",
       "    </tr>\n",
       "    <tr>\n",
       "      <th>кафетерий</th>\n",
       "      <td>395.0</td>\n",
       "      <td>9.184810</td>\n",
       "      <td>14.677023</td>\n",
       "      <td>0.0</td>\n",
       "      <td>0.0</td>\n",
       "      <td>6.0</td>\n",
       "      <td>12.0</td>\n",
       "      <td>200.0</td>\n",
       "    </tr>\n",
       "    <tr>\n",
       "      <th>предприятие быстрого обслуживания</th>\n",
       "      <td>1897.0</td>\n",
       "      <td>20.808645</td>\n",
       "      <td>38.563004</td>\n",
       "      <td>0.0</td>\n",
       "      <td>0.0</td>\n",
       "      <td>6.0</td>\n",
       "      <td>25.0</td>\n",
       "      <td>580.0</td>\n",
       "    </tr>\n",
       "    <tr>\n",
       "      <th>кафе</th>\n",
       "      <td>6071.0</td>\n",
       "      <td>39.785703</td>\n",
       "      <td>37.751163</td>\n",
       "      <td>0.0</td>\n",
       "      <td>15.0</td>\n",
       "      <td>30.0</td>\n",
       "      <td>50.0</td>\n",
       "      <td>533.0</td>\n",
       "    </tr>\n",
       "    <tr>\n",
       "      <th>буфет</th>\n",
       "      <td>576.0</td>\n",
       "      <td>51.425347</td>\n",
       "      <td>56.512850</td>\n",
       "      <td>0.0</td>\n",
       "      <td>15.0</td>\n",
       "      <td>32.0</td>\n",
       "      <td>80.0</td>\n",
       "      <td>320.0</td>\n",
       "    </tr>\n",
       "    <tr>\n",
       "      <th>бар</th>\n",
       "      <td>855.0</td>\n",
       "      <td>43.533333</td>\n",
       "      <td>67.112342</td>\n",
       "      <td>0.0</td>\n",
       "      <td>20.0</td>\n",
       "      <td>35.0</td>\n",
       "      <td>50.0</td>\n",
       "      <td>1700.0</td>\n",
       "    </tr>\n",
       "    <tr>\n",
       "      <th>ресторан</th>\n",
       "      <td>2282.0</td>\n",
       "      <td>96.884750</td>\n",
       "      <td>94.781446</td>\n",
       "      <td>0.0</td>\n",
       "      <td>46.0</td>\n",
       "      <td>80.0</td>\n",
       "      <td>114.0</td>\n",
       "      <td>1500.0</td>\n",
       "    </tr>\n",
       "    <tr>\n",
       "      <th>столовая</th>\n",
       "      <td>2584.0</td>\n",
       "      <td>130.337848</td>\n",
       "      <td>95.189104</td>\n",
       "      <td>0.0</td>\n",
       "      <td>51.5</td>\n",
       "      <td>103.0</td>\n",
       "      <td>200.0</td>\n",
       "      <td>1400.0</td>\n",
       "    </tr>\n",
       "  </tbody>\n",
       "</table>\n",
       "</div>"
      ],
      "text/plain": [
       "                                    count        mean        std  min   25%  \\\n",
       "object_type                                                                   \n",
       "закусочная                          348.0    7.847701  16.884497  0.0   0.0   \n",
       "магазин (отдел кулинарии)           273.0    5.589744   9.872729  0.0   0.0   \n",
       "кафетерий                           395.0    9.184810  14.677023  0.0   0.0   \n",
       "предприятие быстрого обслуживания  1897.0   20.808645  38.563004  0.0   0.0   \n",
       "кафе                               6071.0   39.785703  37.751163  0.0  15.0   \n",
       "буфет                               576.0   51.425347  56.512850  0.0  15.0   \n",
       "бар                                 855.0   43.533333  67.112342  0.0  20.0   \n",
       "ресторан                           2282.0   96.884750  94.781446  0.0  46.0   \n",
       "столовая                           2584.0  130.337848  95.189104  0.0  51.5   \n",
       "\n",
       "                                     50%    75%     max  \n",
       "object_type                                              \n",
       "закусочная                           0.0   10.0   216.0  \n",
       "магазин (отдел кулинарии)            0.0    8.0    50.0  \n",
       "кафетерий                            6.0   12.0   200.0  \n",
       "предприятие быстрого обслуживания    6.0   25.0   580.0  \n",
       "кафе                                30.0   50.0   533.0  \n",
       "буфет                               32.0   80.0   320.0  \n",
       "бар                                 35.0   50.0  1700.0  \n",
       "ресторан                            80.0  114.0  1500.0  \n",
       "столовая                           103.0  200.0  1400.0  "
      ]
     },
     "execution_count": 169,
     "metadata": {},
     "output_type": "execute_result"
    }
   ],
   "source": [
    "df.groupby('object_type')['number'].describe().sort_values(by='50%')"
   ]
  },
  {
   "cell_type": "code",
   "execution_count": 170,
   "metadata": {},
   "outputs": [
    {
     "data": {
      "text/html": [
       "<div>\n",
       "<style scoped>\n",
       "    .dataframe tbody tr th:only-of-type {\n",
       "        vertical-align: middle;\n",
       "    }\n",
       "\n",
       "    .dataframe tbody tr th {\n",
       "        vertical-align: top;\n",
       "    }\n",
       "\n",
       "    .dataframe thead th {\n",
       "        text-align: right;\n",
       "    }\n",
       "</style>\n",
       "<table border=\"1\" class=\"dataframe\">\n",
       "  <thead>\n",
       "    <tr style=\"text-align: right;\">\n",
       "      <th></th>\n",
       "      <th>object_type</th>\n",
       "      <th>number</th>\n",
       "    </tr>\n",
       "  </thead>\n",
       "  <tbody>\n",
       "    <tr>\n",
       "      <th>0</th>\n",
       "      <td>столовая</td>\n",
       "      <td>130.337848</td>\n",
       "    </tr>\n",
       "    <tr>\n",
       "      <th>1</th>\n",
       "      <td>ресторан</td>\n",
       "      <td>96.884750</td>\n",
       "    </tr>\n",
       "    <tr>\n",
       "      <th>2</th>\n",
       "      <td>буфет</td>\n",
       "      <td>51.425347</td>\n",
       "    </tr>\n",
       "    <tr>\n",
       "      <th>3</th>\n",
       "      <td>бар</td>\n",
       "      <td>43.533333</td>\n",
       "    </tr>\n",
       "    <tr>\n",
       "      <th>4</th>\n",
       "      <td>кафе</td>\n",
       "      <td>39.785703</td>\n",
       "    </tr>\n",
       "    <tr>\n",
       "      <th>5</th>\n",
       "      <td>предприятие быстрого обслуживания</td>\n",
       "      <td>20.808645</td>\n",
       "    </tr>\n",
       "    <tr>\n",
       "      <th>6</th>\n",
       "      <td>кафетерий</td>\n",
       "      <td>9.184810</td>\n",
       "    </tr>\n",
       "    <tr>\n",
       "      <th>7</th>\n",
       "      <td>закусочная</td>\n",
       "      <td>7.847701</td>\n",
       "    </tr>\n",
       "    <tr>\n",
       "      <th>8</th>\n",
       "      <td>магазин (отдел кулинарии)</td>\n",
       "      <td>5.589744</td>\n",
       "    </tr>\n",
       "  </tbody>\n",
       "</table>\n",
       "</div>"
      ],
      "text/plain": [
       "                         object_type      number\n",
       "0                           столовая  130.337848\n",
       "1                           ресторан   96.884750\n",
       "2                              буфет   51.425347\n",
       "3                                бар   43.533333\n",
       "4                               кафе   39.785703\n",
       "5  предприятие быстрого обслуживания   20.808645\n",
       "6                          кафетерий    9.184810\n",
       "7                         закусочная    7.847701\n",
       "8          магазин (отдел кулинарии)    5.589744"
      ]
     },
     "execution_count": 170,
     "metadata": {},
     "output_type": "execute_result"
    }
   ],
   "source": [
    "temp = df.groupby('object_type').agg({'number' : 'mean'}).sort_values(by = 'number', ascending = False).reset_index()\n",
    "temp"
   ]
  },
  {
   "cell_type": "code",
   "execution_count": 171,
   "metadata": {},
   "outputs": [
    {
     "data": {
      "image/png": "[encoded data removed]",
      "text/plain": [
       "<Figure size 432x288 with 1 Axes>"
      ]
     },
     "metadata": {
      "needs_background": "light"
     },
     "output_type": "display_data"
    }
   ],
   "source": [
    "ax = sns.barplot(x='number', y='object_type', data=temp, palette=\"Set3\")\n",
    "ax.set_title('Среднее количество мест в объектах общественного питания в Москве')\n",
    "ax.set_xlabel('Количество мест')\n",
    "ax.set_ylabel('Тип объекта')\n",
    "plt.xticks(rotation=0)\n",
    "plt.show()"
   ]
  },
  {
   "cell_type": "markdown",
   "metadata": {},
   "source": [
    "Лидируют по количеству посадочных мест столовые и рестораны, что было ожидаемо!\n",
    "\n",
    "Бары, буфеты и кафе с количеством посадочных мест 40-60 идут следом."
   ]
  },
  {
   "cell_type": "markdown",
   "metadata": {},
   "source": [
    "#### Выделите в отдельный столбец информацию об улице из столбца address .\n"
   ]
  },
  {
   "cell_type": "code",
   "execution_count": 172,
   "metadata": {},
   "outputs": [
    {
     "data": {
      "text/html": [
       "<div>\n",
       "<style scoped>\n",
       "    .dataframe tbody tr th:only-of-type {\n",
       "        vertical-align: middle;\n",
       "    }\n",
       "\n",
       "    .dataframe tbody tr th {\n",
       "        vertical-align: top;\n",
       "    }\n",
       "\n",
       "    .dataframe thead th {\n",
       "        text-align: right;\n",
       "    }\n",
       "</style>\n",
       "<table border=\"1\" class=\"dataframe\">\n",
       "  <thead>\n",
       "    <tr style=\"text-align: right;\">\n",
       "      <th></th>\n",
       "      <th>id</th>\n",
       "      <th>object_name</th>\n",
       "      <th>chain</th>\n",
       "      <th>object_type</th>\n",
       "      <th>address</th>\n",
       "      <th>number</th>\n",
       "      <th>street_name</th>\n",
       "    </tr>\n",
       "  </thead>\n",
       "  <tbody>\n",
       "    <tr>\n",
       "      <th>0</th>\n",
       "      <td>151635</td>\n",
       "      <td>сметана</td>\n",
       "      <td>нет</td>\n",
       "      <td>кафе</td>\n",
       "      <td>город москва, улица егора абакумова, дом 9</td>\n",
       "      <td>48</td>\n",
       "      <td>улица егора абакумова</td>\n",
       "    </tr>\n",
       "    <tr>\n",
       "      <th>1</th>\n",
       "      <td>77874</td>\n",
       "      <td>родник</td>\n",
       "      <td>нет</td>\n",
       "      <td>кафе</td>\n",
       "      <td>город москва, улица талалихина, дом 2/1, корпус 1</td>\n",
       "      <td>35</td>\n",
       "      <td>улица талалихина</td>\n",
       "    </tr>\n",
       "    <tr>\n",
       "      <th>2</th>\n",
       "      <td>24309</td>\n",
       "      <td>кафе «академия»</td>\n",
       "      <td>нет</td>\n",
       "      <td>кафе</td>\n",
       "      <td>город москва, абельмановская улица, дом 6</td>\n",
       "      <td>95</td>\n",
       "      <td>абельмановская улица</td>\n",
       "    </tr>\n",
       "    <tr>\n",
       "      <th>3</th>\n",
       "      <td>21894</td>\n",
       "      <td>пиццетория</td>\n",
       "      <td>да</td>\n",
       "      <td>кафе</td>\n",
       "      <td>город москва, абрамцевская улица, дом 1</td>\n",
       "      <td>40</td>\n",
       "      <td>абрамцевская улица</td>\n",
       "    </tr>\n",
       "    <tr>\n",
       "      <th>4</th>\n",
       "      <td>119365</td>\n",
       "      <td>кафе «вишневая метель»</td>\n",
       "      <td>нет</td>\n",
       "      <td>кафе</td>\n",
       "      <td>город москва, абрамцевская улица, дом 9, корпус 1</td>\n",
       "      <td>50</td>\n",
       "      <td>абрамцевская улица</td>\n",
       "    </tr>\n",
       "    <tr>\n",
       "      <th>5</th>\n",
       "      <td>27429</td>\n",
       "      <td>стол. при гоу сош № 1051</td>\n",
       "      <td>нет</td>\n",
       "      <td>столовая</td>\n",
       "      <td>город москва, абрамцевская улица, дом 15, корп...</td>\n",
       "      <td>240</td>\n",
       "      <td>абрамцевская улица</td>\n",
       "    </tr>\n",
       "    <tr>\n",
       "      <th>6</th>\n",
       "      <td>148815</td>\n",
       "      <td>брусника</td>\n",
       "      <td>да</td>\n",
       "      <td>кафе</td>\n",
       "      <td>город москва, переулок сивцев вражек, дом 6/2</td>\n",
       "      <td>10</td>\n",
       "      <td>переулок сивцев вражек</td>\n",
       "    </tr>\n",
       "  </tbody>\n",
       "</table>\n",
       "</div>"
      ],
      "text/plain": [
       "       id               object_name chain object_type  \\\n",
       "0  151635                   сметана   нет        кафе   \n",
       "1   77874                    родник   нет        кафе   \n",
       "2   24309           кафе «академия»   нет        кафе   \n",
       "3   21894                пиццетория    да        кафе   \n",
       "4  119365    кафе «вишневая метель»   нет        кафе   \n",
       "5   27429  стол. при гоу сош № 1051   нет    столовая   \n",
       "6  148815                  брусника    да        кафе   \n",
       "\n",
       "                                             address  number  \\\n",
       "0         город москва, улица егора абакумова, дом 9      48   \n",
       "1  город москва, улица талалихина, дом 2/1, корпус 1      35   \n",
       "2          город москва, абельмановская улица, дом 6      95   \n",
       "3            город москва, абрамцевская улица, дом 1      40   \n",
       "4  город москва, абрамцевская улица, дом 9, корпус 1      50   \n",
       "5  город москва, абрамцевская улица, дом 15, корп...     240   \n",
       "6      город москва, переулок сивцев вражек, дом 6/2      10   \n",
       "\n",
       "              street_name  \n",
       "0   улица егора абакумова  \n",
       "1        улица талалихина  \n",
       "2    абельмановская улица  \n",
       "3      абрамцевская улица  \n",
       "4      абрамцевская улица  \n",
       "5      абрамцевская улица  \n",
       "6  переулок сивцев вражек  "
      ]
     },
     "execution_count": 172,
     "metadata": {},
     "output_type": "execute_result"
    }
   ],
   "source": [
    "df['street_name'] = df['address'].apply(lambda x: x.split(',')[1])\n",
    "df['street_name'] = df['street_name'].str.strip()\n",
    "df.head(7)"
   ]
  },
  {
   "cell_type": "markdown",
   "metadata": {},
   "source": [
    "#### Постройте график топ-10 улиц по количеству объектов общественного питания. Воспользуйтесь внешней информацией и ответьте на вопрос — в каких районах Москвы находятся эти улицы?\n"
   ]
  },
  {
   "cell_type": "code",
   "execution_count": 173,
   "metadata": {},
   "outputs": [
    {
     "data": {
      "text/html": [
       "<div>\n",
       "<style scoped>\n",
       "    .dataframe tbody tr th:only-of-type {\n",
       "        vertical-align: middle;\n",
       "    }\n",
       "\n",
       "    .dataframe tbody tr th {\n",
       "        vertical-align: top;\n",
       "    }\n",
       "\n",
       "    .dataframe thead th {\n",
       "        text-align: right;\n",
       "    }\n",
       "</style>\n",
       "<table border=\"1\" class=\"dataframe\">\n",
       "  <thead>\n",
       "    <tr style=\"text-align: right;\">\n",
       "      <th></th>\n",
       "      <th>street_name</th>\n",
       "      <th>id</th>\n",
       "    </tr>\n",
       "  </thead>\n",
       "  <tbody>\n",
       "    <tr>\n",
       "      <th>1</th>\n",
       "      <td>проспект мира</td>\n",
       "      <td>203</td>\n",
       "    </tr>\n",
       "    <tr>\n",
       "      <th>2</th>\n",
       "      <td>профсоюзная улица</td>\n",
       "      <td>181</td>\n",
       "    </tr>\n",
       "    <tr>\n",
       "      <th>3</th>\n",
       "      <td>ленинградский проспект</td>\n",
       "      <td>170</td>\n",
       "    </tr>\n",
       "    <tr>\n",
       "      <th>4</th>\n",
       "      <td>пресненская набережная</td>\n",
       "      <td>167</td>\n",
       "    </tr>\n",
       "    <tr>\n",
       "      <th>5</th>\n",
       "      <td>варшавское шоссе</td>\n",
       "      <td>161</td>\n",
       "    </tr>\n",
       "    <tr>\n",
       "      <th>6</th>\n",
       "      <td>ленинский проспект</td>\n",
       "      <td>147</td>\n",
       "    </tr>\n",
       "    <tr>\n",
       "      <th>7</th>\n",
       "      <td>поселение сосенское</td>\n",
       "      <td>137</td>\n",
       "    </tr>\n",
       "    <tr>\n",
       "      <th>8</th>\n",
       "      <td>проспект вернадского</td>\n",
       "      <td>128</td>\n",
       "    </tr>\n",
       "    <tr>\n",
       "      <th>9</th>\n",
       "      <td>кутузовский проспект</td>\n",
       "      <td>114</td>\n",
       "    </tr>\n",
       "  </tbody>\n",
       "</table>\n",
       "</div>"
      ],
      "text/plain": [
       "              street_name   id\n",
       "1           проспект мира  203\n",
       "2       профсоюзная улица  181\n",
       "3  ленинградский проспект  170\n",
       "4  пресненская набережная  167\n",
       "5        варшавское шоссе  161\n",
       "6      ленинский проспект  147\n",
       "7     поселение сосенское  137\n",
       "8    проспект вернадского  128\n",
       "9    кутузовский проспект  114"
      ]
     },
     "execution_count": 173,
     "metadata": {},
     "output_type": "execute_result"
    }
   ],
   "source": [
    "temp = df.groupby('street_name').agg({'id' : 'count'}).sort_values(by = 'id', ascending = False).head(10).reset_index()\n",
    "top_10 = temp.query('street_name != \"город зеленоград\" and street_name != \"город зеленоград\"')\n",
    "\n",
    "top_10\n"
   ]
  },
  {
   "cell_type": "code",
   "execution_count": 174,
   "metadata": {},
   "outputs": [
    {
     "data": {
      "image/png": "[encoded data removed]",
      "text/plain": [
       "<Figure size 432x288 with 1 Axes>"
      ]
     },
     "metadata": {
      "needs_background": "light"
     },
     "output_type": "display_data"
    }
   ],
   "source": [
    "ax = sns.barplot(x='id', y='street_name', data=top_10, palette=\"Set3\")\n",
    "ax.set_title('Топ-10 улиц по количеству объектов общественного питания')\n",
    "ax.set_xlabel('Количество объектов')\n",
    "ax.set_ylabel('Название улицы')\n",
    "plt.xticks(rotation=45)\n",
    "plt.show()"
   ]
  },
  {
   "cell_type": "code",
   "execution_count": 175,
   "metadata": {},
   "outputs": [
    {
     "data": {
      "text/html": [
       "<div>\n",
       "<style scoped>\n",
       "    .dataframe tbody tr th:only-of-type {\n",
       "        vertical-align: middle;\n",
       "    }\n",
       "\n",
       "    .dataframe tbody tr th {\n",
       "        vertical-align: top;\n",
       "    }\n",
       "\n",
       "    .dataframe thead th {\n",
       "        text-align: right;\n",
       "    }\n",
       "</style>\n",
       "<table border=\"1\" class=\"dataframe\">\n",
       "  <thead>\n",
       "    <tr style=\"text-align: right;\">\n",
       "      <th></th>\n",
       "      <th>streetname</th>\n",
       "      <th>areaid</th>\n",
       "      <th>okrug</th>\n",
       "      <th>area</th>\n",
       "    </tr>\n",
       "  </thead>\n",
       "  <tbody>\n",
       "    <tr>\n",
       "      <th>0</th>\n",
       "      <td>Выставочный переулок</td>\n",
       "      <td>17</td>\n",
       "      <td>ЦАО</td>\n",
       "      <td>Пресненский район</td>\n",
       "    </tr>\n",
       "    <tr>\n",
       "      <th>1</th>\n",
       "      <td>улица Гашека</td>\n",
       "      <td>17</td>\n",
       "      <td>ЦАО</td>\n",
       "      <td>Пресненский район</td>\n",
       "    </tr>\n",
       "    <tr>\n",
       "      <th>2</th>\n",
       "      <td>Большая Никитская улица</td>\n",
       "      <td>17</td>\n",
       "      <td>ЦАО</td>\n",
       "      <td>Пресненский район</td>\n",
       "    </tr>\n",
       "    <tr>\n",
       "      <th>3</th>\n",
       "      <td>Глубокий переулок</td>\n",
       "      <td>17</td>\n",
       "      <td>ЦАО</td>\n",
       "      <td>Пресненский район</td>\n",
       "    </tr>\n",
       "    <tr>\n",
       "      <th>4</th>\n",
       "      <td>Большой Гнездниковский переулок</td>\n",
       "      <td>17</td>\n",
       "      <td>ЦАО</td>\n",
       "      <td>Пресненский район</td>\n",
       "    </tr>\n",
       "    <tr>\n",
       "      <th>...</th>\n",
       "      <td>...</td>\n",
       "      <td>...</td>\n",
       "      <td>...</td>\n",
       "      <td>...</td>\n",
       "    </tr>\n",
       "    <tr>\n",
       "      <th>4393</th>\n",
       "      <td>Вознесенский проезд</td>\n",
       "      <td>17</td>\n",
       "      <td>ЦАО</td>\n",
       "      <td>Пресненский район</td>\n",
       "    </tr>\n",
       "    <tr>\n",
       "      <th>4394</th>\n",
       "      <td>Волков переулок</td>\n",
       "      <td>17</td>\n",
       "      <td>ЦАО</td>\n",
       "      <td>Пресненский район</td>\n",
       "    </tr>\n",
       "    <tr>\n",
       "      <th>4395</th>\n",
       "      <td>Поварская улица</td>\n",
       "      <td>17</td>\n",
       "      <td>ЦАО</td>\n",
       "      <td>Пресненский район</td>\n",
       "    </tr>\n",
       "    <tr>\n",
       "      <th>4396</th>\n",
       "      <td>Кудринская площадь</td>\n",
       "      <td>17</td>\n",
       "      <td>ЦАО</td>\n",
       "      <td>Пресненский район</td>\n",
       "    </tr>\n",
       "    <tr>\n",
       "      <th>4397</th>\n",
       "      <td>Вспольный переулок</td>\n",
       "      <td>17</td>\n",
       "      <td>ЦАО</td>\n",
       "      <td>Пресненский район</td>\n",
       "    </tr>\n",
       "  </tbody>\n",
       "</table>\n",
       "<p>4398 rows × 4 columns</p>\n",
       "</div>"
      ],
      "text/plain": [
       "                           streetname  areaid okrug               area\n",
       "0                Выставочный переулок      17   ЦАО  Пресненский район\n",
       "1                        улица Гашека      17   ЦАО  Пресненский район\n",
       "2             Большая Никитская улица      17   ЦАО  Пресненский район\n",
       "3                   Глубокий переулок      17   ЦАО  Пресненский район\n",
       "4     Большой Гнездниковский переулок      17   ЦАО  Пресненский район\n",
       "...                               ...     ...   ...                ...\n",
       "4393              Вознесенский проезд      17   ЦАО  Пресненский район\n",
       "4394                  Волков переулок      17   ЦАО  Пресненский район\n",
       "4395                  Поварская улица      17   ЦАО  Пресненский район\n",
       "4396               Кудринская площадь      17   ЦАО  Пресненский район\n",
       "4397               Вспольный переулок      17   ЦАО  Пресненский район\n",
       "\n",
       "[4398 rows x 4 columns]"
      ]
     },
     "execution_count": 175,
     "metadata": {},
     "output_type": "execute_result"
    }
   ],
   "source": [
    "id = '1CPDYDGjKCb6jGoQt9KR5WOvTspK-dHS3NUrVeqsyqJs'\n",
    "file = 'https://docs.google.com/spreadsheets/d/{}/export?format=csv'.format(id)\n",
    "r = requests.get(file)\n",
    "df_street = pd.read_csv(BytesIO(r.content))\n",
    "df_street"
   ]
  },
  {
   "cell_type": "code",
   "execution_count": 176,
   "metadata": {},
   "outputs": [
    {
     "data": {
      "text/html": [
       "<div>\n",
       "<style scoped>\n",
       "    .dataframe tbody tr th:only-of-type {\n",
       "        vertical-align: middle;\n",
       "    }\n",
       "\n",
       "    .dataframe tbody tr th {\n",
       "        vertical-align: top;\n",
       "    }\n",
       "\n",
       "    .dataframe thead th {\n",
       "        text-align: right;\n",
       "    }\n",
       "</style>\n",
       "<table border=\"1\" class=\"dataframe\">\n",
       "  <thead>\n",
       "    <tr style=\"text-align: right;\">\n",
       "      <th></th>\n",
       "      <th>street_name</th>\n",
       "      <th>areaid</th>\n",
       "      <th>okrug</th>\n",
       "      <th>area</th>\n",
       "    </tr>\n",
       "  </thead>\n",
       "  <tbody>\n",
       "    <tr>\n",
       "      <th>0</th>\n",
       "      <td>выставочный переулок</td>\n",
       "      <td>17</td>\n",
       "      <td>ЦАО</td>\n",
       "      <td>Пресненский район</td>\n",
       "    </tr>\n",
       "    <tr>\n",
       "      <th>1</th>\n",
       "      <td>улица гашека</td>\n",
       "      <td>17</td>\n",
       "      <td>ЦАО</td>\n",
       "      <td>Пресненский район</td>\n",
       "    </tr>\n",
       "    <tr>\n",
       "      <th>2</th>\n",
       "      <td>большая никитская улица</td>\n",
       "      <td>17</td>\n",
       "      <td>ЦАО</td>\n",
       "      <td>Пресненский район</td>\n",
       "    </tr>\n",
       "    <tr>\n",
       "      <th>3</th>\n",
       "      <td>глубокий переулок</td>\n",
       "      <td>17</td>\n",
       "      <td>ЦАО</td>\n",
       "      <td>Пресненский район</td>\n",
       "    </tr>\n",
       "    <tr>\n",
       "      <th>4</th>\n",
       "      <td>большой гнездниковский переулок</td>\n",
       "      <td>17</td>\n",
       "      <td>ЦАО</td>\n",
       "      <td>Пресненский район</td>\n",
       "    </tr>\n",
       "    <tr>\n",
       "      <th>...</th>\n",
       "      <td>...</td>\n",
       "      <td>...</td>\n",
       "      <td>...</td>\n",
       "      <td>...</td>\n",
       "    </tr>\n",
       "    <tr>\n",
       "      <th>4393</th>\n",
       "      <td>вознесенский проезд</td>\n",
       "      <td>17</td>\n",
       "      <td>ЦАО</td>\n",
       "      <td>Пресненский район</td>\n",
       "    </tr>\n",
       "    <tr>\n",
       "      <th>4394</th>\n",
       "      <td>волков переулок</td>\n",
       "      <td>17</td>\n",
       "      <td>ЦАО</td>\n",
       "      <td>Пресненский район</td>\n",
       "    </tr>\n",
       "    <tr>\n",
       "      <th>4395</th>\n",
       "      <td>поварская улица</td>\n",
       "      <td>17</td>\n",
       "      <td>ЦАО</td>\n",
       "      <td>Пресненский район</td>\n",
       "    </tr>\n",
       "    <tr>\n",
       "      <th>4396</th>\n",
       "      <td>кудринская площадь</td>\n",
       "      <td>17</td>\n",
       "      <td>ЦАО</td>\n",
       "      <td>Пресненский район</td>\n",
       "    </tr>\n",
       "    <tr>\n",
       "      <th>4397</th>\n",
       "      <td>вспольный переулок</td>\n",
       "      <td>17</td>\n",
       "      <td>ЦАО</td>\n",
       "      <td>Пресненский район</td>\n",
       "    </tr>\n",
       "  </tbody>\n",
       "</table>\n",
       "<p>4398 rows × 4 columns</p>\n",
       "</div>"
      ],
      "text/plain": [
       "                          street_name  areaid okrug               area\n",
       "0                выставочный переулок      17   ЦАО  Пресненский район\n",
       "1                        улица гашека      17   ЦАО  Пресненский район\n",
       "2             большая никитская улица      17   ЦАО  Пресненский район\n",
       "3                   глубокий переулок      17   ЦАО  Пресненский район\n",
       "4     большой гнездниковский переулок      17   ЦАО  Пресненский район\n",
       "...                               ...     ...   ...                ...\n",
       "4393              вознесенский проезд      17   ЦАО  Пресненский район\n",
       "4394                  волков переулок      17   ЦАО  Пресненский район\n",
       "4395                  поварская улица      17   ЦАО  Пресненский район\n",
       "4396               кудринская площадь      17   ЦАО  Пресненский район\n",
       "4397               вспольный переулок      17   ЦАО  Пресненский район\n",
       "\n",
       "[4398 rows x 4 columns]"
      ]
     },
     "execution_count": 176,
     "metadata": {},
     "output_type": "execute_result"
    }
   ],
   "source": [
    "df_street = df_street.rename(columns={'streetname':'street_name'})\n",
    "df_street['street_name'] = df_street['street_name'].str.lower()\n",
    "df_street"
   ]
  },
  {
   "cell_type": "code",
   "execution_count": 177,
   "metadata": {},
   "outputs": [
    {
     "data": {
      "text/html": [
       "<div>\n",
       "<style scoped>\n",
       "    .dataframe tbody tr th:only-of-type {\n",
       "        vertical-align: middle;\n",
       "    }\n",
       "\n",
       "    .dataframe tbody tr th {\n",
       "        vertical-align: top;\n",
       "    }\n",
       "\n",
       "    .dataframe thead th {\n",
       "        text-align: right;\n",
       "    }\n",
       "</style>\n",
       "<table border=\"1\" class=\"dataframe\">\n",
       "  <thead>\n",
       "    <tr style=\"text-align: right;\">\n",
       "      <th></th>\n",
       "      <th>street_name</th>\n",
       "      <th>okrug</th>\n",
       "      <th>area</th>\n",
       "    </tr>\n",
       "  </thead>\n",
       "  <tbody>\n",
       "    <tr>\n",
       "      <th>0</th>\n",
       "      <td>проспект мира</td>\n",
       "      <td>СВАО</td>\n",
       "      <td>Алексеевский район</td>\n",
       "    </tr>\n",
       "    <tr>\n",
       "      <th>1</th>\n",
       "      <td>проспект мира</td>\n",
       "      <td>СВАО</td>\n",
       "      <td>Ярославский Район</td>\n",
       "    </tr>\n",
       "    <tr>\n",
       "      <th>2</th>\n",
       "      <td>проспект мира</td>\n",
       "      <td>СВАО</td>\n",
       "      <td>Район Марьина роща</td>\n",
       "    </tr>\n",
       "    <tr>\n",
       "      <th>3</th>\n",
       "      <td>проспект мира</td>\n",
       "      <td>СВАО</td>\n",
       "      <td>Останкинский район</td>\n",
       "    </tr>\n",
       "    <tr>\n",
       "      <th>4</th>\n",
       "      <td>проспект мира</td>\n",
       "      <td>СВАО</td>\n",
       "      <td>Район Ростокино</td>\n",
       "    </tr>\n",
       "    <tr>\n",
       "      <th>5</th>\n",
       "      <td>проспект мира</td>\n",
       "      <td>СВАО</td>\n",
       "      <td>Район Свиблово</td>\n",
       "    </tr>\n",
       "    <tr>\n",
       "      <th>6</th>\n",
       "      <td>проспект мира</td>\n",
       "      <td>ЦАО</td>\n",
       "      <td>Мещанский район</td>\n",
       "    </tr>\n",
       "    <tr>\n",
       "      <th>7</th>\n",
       "      <td>профсоюзная улица</td>\n",
       "      <td>ЮЗАО</td>\n",
       "      <td>Академический район</td>\n",
       "    </tr>\n",
       "    <tr>\n",
       "      <th>8</th>\n",
       "      <td>профсоюзная улица</td>\n",
       "      <td>ЮЗАО</td>\n",
       "      <td>Район Черемушки</td>\n",
       "    </tr>\n",
       "    <tr>\n",
       "      <th>9</th>\n",
       "      <td>профсоюзная улица</td>\n",
       "      <td>ЮЗАО</td>\n",
       "      <td>Район Ясенево</td>\n",
       "    </tr>\n",
       "  </tbody>\n",
       "</table>\n",
       "</div>"
      ],
      "text/plain": [
       "         street_name okrug                 area\n",
       "0      проспект мира  СВАО   Алексеевский район\n",
       "1      проспект мира  СВАО    Ярославский Район\n",
       "2      проспект мира  СВАО   Район Марьина роща\n",
       "3      проспект мира  СВАО   Останкинский район\n",
       "4      проспект мира  СВАО      Район Ростокино\n",
       "5      проспект мира  СВАО       Район Свиблово\n",
       "6      проспект мира   ЦАО      Мещанский район\n",
       "7  профсоюзная улица  ЮЗАО  Академический район\n",
       "8  профсоюзная улица  ЮЗАО      Район Черемушки\n",
       "9  профсоюзная улица  ЮЗАО        Район Ясенево"
      ]
     },
     "execution_count": 177,
     "metadata": {},
     "output_type": "execute_result"
    }
   ],
   "source": [
    "district = top_10.merge(df_street, on='street_name', how='left')\n",
    "district = district.drop(['id','areaid'],1)\n",
    "district.head(10)"
   ]
  },
  {
   "cell_type": "markdown",
   "metadata": {},
   "source": [
    "Топ-10 улиц располагается в районах СВАО, ЦАО, и ЮЗАО."
   ]
  },
  {
   "cell_type": "markdown",
   "metadata": {},
   "source": [
    "#### Найдите число улиц с одним объектом общественного питания. Воспользуйтесь внешней информацией и ответьте на вопрос — в каких районах Москвы находятся эти улицы?\n"
   ]
  },
  {
   "cell_type": "code",
   "execution_count": 178,
   "metadata": {},
   "outputs": [
    {
     "name": "stdout",
     "output_type": "stream",
     "text": [
      "<class 'pandas.core.frame.DataFrame'>\n",
      "RangeIndex: 579 entries, 0 to 578\n",
      "Data columns (total 1 columns):\n",
      " #   Column       Non-Null Count  Dtype \n",
      "---  ------       --------------  ----- \n",
      " 0   street_name  579 non-null    object\n",
      "dtypes: object(1)\n",
      "memory usage: 4.6+ KB\n"
     ]
    }
   ],
   "source": [
    "# Сгруппируем данные в датафрейм с 1-м объектом общественного питания\n",
    "one = df.groupby('street_name').agg({'object_name': 'count'}).sort_values(by = 'object_name', ascending = False)\n",
    "one = one.query('object_name == 1')\n",
    "one = one.drop('object_name',1)\n",
    "one = one.reset_index()\n",
    "one.info()"
   ]
  },
  {
   "cell_type": "code",
   "execution_count": 179,
   "metadata": {},
   "outputs": [
    {
     "data": {
      "text/plain": [
       "99"
      ]
     },
     "execution_count": 179,
     "metadata": {},
     "output_type": "execute_result"
    }
   ],
   "source": [
    "#Добавим район и округ и удалим сразу дубликаты\n",
    "one['street_name'] = one['street_name'].str.strip()\n",
    "one = one.merge(df_street, on='street_name', how='left')\n",
    "one.head()\n",
    "area_nunique = one['area'].drop_duplicates()\n",
    "area_nunique = area_nunique.dropna()\n",
    "len(area_nunique)"
   ]
  },
  {
   "cell_type": "code",
   "execution_count": 180,
   "metadata": {},
   "outputs": [
    {
     "data": {
      "text/plain": [
       "0     Красносельский район\n",
       "1          Можайский Район\n",
       "3           Район Аэропорт\n",
       "4      Тимирязевский Район\n",
       "5          Район Лефортово\n",
       "6        Пресненский район\n",
       "7      Нижегородский район\n",
       "11    Район Соколиная Гора\n",
       "13        Район Сокольники\n",
       "14       Район Богородское\n",
       "Name: area, dtype: object"
      ]
     },
     "execution_count": 180,
     "metadata": {},
     "output_type": "execute_result"
    }
   ],
   "source": [
    "area_nunique.head(10)"
   ]
  },
  {
   "cell_type": "markdown",
   "metadata": {},
   "source": [
    "На основе полученных данных можно сделать вывод, что в Москве: 579 улиц с одним объектом общественного питания, которые находятся в 99 районах города."
   ]
  },
  {
   "cell_type": "markdown",
   "metadata": {},
   "source": [
    "#### Посмотрите на распределение количества посадочных мест для улиц с большим количеством объектов общественного питания. Какие закономерности можно выявить?"
   ]
  },
  {
   "cell_type": "code",
   "execution_count": 181,
   "metadata": {},
   "outputs": [
    {
     "data": {
      "image/png": "[encoded data removed]",
      "text/plain": [
       "<Figure size 432x288 with 1 Axes>"
      ]
     },
     "metadata": {
      "needs_background": "light"
     },
     "output_type": "display_data"
    }
   ],
   "source": [
    "top10 = list(top_10['street_name'])\n",
    "temp = df[df['street_name'].isin(top10)]\n",
    "ax = sns.boxplot(x=temp['number'])\n",
    "ax.set_title('График количества посадочных мест')\n",
    "ax.set_xlabel('Количество мест')\n",
    "ax.set_xlim(-10,200)\n",
    "plt.show()"
   ]
  },
  {
   "cell_type": "code",
   "execution_count": 182,
   "metadata": {},
   "outputs": [
    {
     "data": {
      "image/png": "[encoded data removed]",
      "text/plain": [
       "<Figure size 432x288 with 1 Axes>"
      ]
     },
     "metadata": {
      "needs_background": "light"
     },
     "output_type": "display_data"
    }
   ],
   "source": [
    "temp['number'].hist(bins=30)\n",
    "plt.title('График количества посадочных мест')\n",
    "plt.xlabel(\"количества посадочных мест\")\n",
    "plt.ylabel(\"количество заведений \")\n",
    "plt.show()"
   ]
  },
  {
   "cell_type": "code",
   "execution_count": 183,
   "metadata": {},
   "outputs": [
    {
     "data": {
      "image/png": "[encoded data removed]",
      "text/plain": [
       "<Figure size 432x288 with 1 Axes>"
      ]
     },
     "metadata": {
      "needs_background": "light"
     },
     "output_type": "display_data"
    }
   ],
   "source": [
    "ax = sns.boxplot(x=\"street_name\", y=\"number\", data=temp, orient='v')\n",
    "plt.xticks(rotation=45)\n",
    "plt.title('График количества посадочных мест по улицам')\n",
    "plt.xlabel(\"названяи улиц\")\n",
    "plt.ylabel(\"кол-во посадочных мест\")\n",
    "ax.set_ylim(-10,300)\n",
    "plt.show()"
   ]
  },
  {
   "cell_type": "code",
   "execution_count": 184,
   "metadata": {},
   "outputs": [
    {
     "data": {
      "text/plain": [
       "count    1408.000000\n",
       "mean       54.905540\n",
       "std        88.067616\n",
       "min         0.000000\n",
       "25%        12.000000\n",
       "50%        35.000000\n",
       "75%        70.000000\n",
       "max      1700.000000\n",
       "Name: number, dtype: float64"
      ]
     },
     "execution_count": 184,
     "metadata": {},
     "output_type": "execute_result"
    }
   ],
   "source": [
    "temp['number'].describe()"
   ]
  },
  {
   "cell_type": "markdown",
   "metadata": {},
   "source": [
    "Можно заметить тренд: на популярных улицах количество посадочных мест в заведениях небольшой 20-40, скорее всего сказывается очень высокая цена на аренду коммерческой недвижимости."
   ]
  },
  {
   "cell_type": "markdown",
   "metadata": {},
   "source": [
    "# Вывод:\n",
    "\n",
    "\n",
    "Самые популярные форматы: кафе, столовая и ресторан, притом кафе лидирует с большим отрывом.\n",
    "\n",
    "Преобладают в основном несетевые заведения.\n",
    "\n",
    "Большим количеством посадочных мест обладают столовые, рестораны и бары.\n",
    "\n",
    "По сетевому формату в основном открывают заведения категории \"предприятие быстрого обслуживания\".\n",
    "\n",
    "Есть улицы с большим колчеством объектов общественного питания, где нет посадочных мест.\n",
    "\n",
    "Наибольшее количество объектов питания расположены на главных артериях города: Ленинградском проспекте, Просоюзной улице и проспекте Мира.\n",
    "\n",
    "\n",
    "Рекомендации: я бы рекомендовал обратить внимание на центральную часть города(постоянный случайный поток посетителей), в частности те улицы, где минимальное количество объектов общественного питания. Формат для заведения следует выбрать \"кафе\" с количеством посадочных мест 30-50."
   ]
  }
 ],
 "metadata": {
  "ExecuteTimeLog": [
   {
    "duration": 1176,
    "start_time": "2022-03-15T20:37:33.014Z"
   },
   {
    "duration": 426,
    "start_time": "2022-03-15T20:41:13.833Z"
   },
   {
    "duration": 1977,
    "start_time": "2022-03-15T20:41:41.030Z"
   },
   {
    "duration": 1493,
    "start_time": "2022-03-15T20:41:48.072Z"
   },
   {
    "duration": 1310,
    "start_time": "2022-03-15T20:41:52.535Z"
   },
   {
    "duration": 50,
    "start_time": "2022-03-15T20:41:55.214Z"
   },
   {
    "duration": 11,
    "start_time": "2022-03-15T20:42:03.087Z"
   },
   {
    "duration": 13,
    "start_time": "2022-03-15T20:42:26.544Z"
   },
   {
    "duration": 184,
    "start_time": "2022-03-16T19:02:41.811Z"
   },
   {
    "duration": 1685,
    "start_time": "2022-03-16T19:02:46.411Z"
   },
   {
    "duration": 59,
    "start_time": "2022-03-16T19:02:48.099Z"
   },
   {
    "duration": 12,
    "start_time": "2022-03-16T19:02:48.161Z"
   },
   {
    "duration": 13,
    "start_time": "2022-03-16T19:02:48.175Z"
   },
   {
    "duration": 15,
    "start_time": "2022-03-16T19:02:48.190Z"
   },
   {
    "duration": 26,
    "start_time": "2022-03-16T19:03:25.090Z"
   },
   {
    "duration": 8,
    "start_time": "2022-03-16T19:07:37.098Z"
   },
   {
    "duration": 7,
    "start_time": "2022-03-16T19:07:53.814Z"
   },
   {
    "duration": 6,
    "start_time": "2022-03-16T19:10:06.213Z"
   },
   {
    "duration": 238,
    "start_time": "2022-03-16T19:10:12.896Z"
   },
   {
    "duration": 6,
    "start_time": "2022-03-16T19:10:22.753Z"
   },
   {
    "duration": 1453,
    "start_time": "2022-03-16T19:21:57.708Z"
   },
   {
    "duration": 41,
    "start_time": "2022-03-16T19:21:59.163Z"
   },
   {
    "duration": 10,
    "start_time": "2022-03-16T19:21:59.207Z"
   },
   {
    "duration": 11,
    "start_time": "2022-03-16T19:21:59.220Z"
   },
   {
    "duration": 12,
    "start_time": "2022-03-16T19:21:59.233Z"
   },
   {
    "duration": 19,
    "start_time": "2022-03-16T19:21:59.246Z"
   },
   {
    "duration": 5,
    "start_time": "2022-03-16T19:21:59.267Z"
   },
   {
    "duration": 4,
    "start_time": "2022-03-16T19:21:59.273Z"
   },
   {
    "duration": 6,
    "start_time": "2022-03-16T19:27:15.601Z"
   },
   {
    "duration": 36,
    "start_time": "2022-03-16T19:27:15.682Z"
   },
   {
    "duration": 10,
    "start_time": "2022-03-16T19:27:15.761Z"
   },
   {
    "duration": 40,
    "start_time": "2022-03-16T19:27:15.803Z"
   },
   {
    "duration": 12,
    "start_time": "2022-03-16T19:27:15.866Z"
   },
   {
    "duration": 1436,
    "start_time": "2022-03-16T19:38:29.657Z"
   },
   {
    "duration": 48,
    "start_time": "2022-03-16T19:38:31.095Z"
   },
   {
    "duration": 10,
    "start_time": "2022-03-16T19:38:31.145Z"
   },
   {
    "duration": 17,
    "start_time": "2022-03-16T19:38:31.157Z"
   },
   {
    "duration": 13,
    "start_time": "2022-03-16T19:38:31.175Z"
   },
   {
    "duration": 37,
    "start_time": "2022-03-16T19:38:31.189Z"
   },
   {
    "duration": 11,
    "start_time": "2022-03-16T19:38:31.228Z"
   },
   {
    "duration": 314425,
    "start_time": "2022-03-16T19:38:54.924Z"
   },
   {
    "duration": 1440,
    "start_time": "2022-03-16T19:50:34.427Z"
   },
   {
    "duration": 40,
    "start_time": "2022-03-16T19:50:35.870Z"
   },
   {
    "duration": 9,
    "start_time": "2022-03-16T19:50:35.912Z"
   },
   {
    "duration": 16,
    "start_time": "2022-03-16T19:50:35.923Z"
   },
   {
    "duration": 9,
    "start_time": "2022-03-16T19:50:35.941Z"
   },
   {
    "duration": 17,
    "start_time": "2022-03-16T19:50:35.952Z"
   },
   {
    "duration": 5,
    "start_time": "2022-03-16T19:50:35.970Z"
   },
   {
    "duration": 243,
    "start_time": "2022-03-16T19:50:35.976Z"
   },
   {
    "duration": 1320,
    "start_time": "2022-03-16T19:50:34.902Z"
   },
   {
    "duration": 938,
    "start_time": "2022-03-16T19:52:24.533Z"
   },
   {
    "duration": 371,
    "start_time": "2022-03-16T19:52:56.152Z"
   },
   {
    "duration": 5,
    "start_time": "2022-03-16T19:56:36.022Z"
   },
   {
    "duration": 183,
    "start_time": "2022-03-16T20:11:51.392Z"
   },
   {
    "duration": 126,
    "start_time": "2022-03-16T20:11:57.233Z"
   },
   {
    "duration": 473,
    "start_time": "2022-03-16T20:12:48.786Z"
   },
   {
    "duration": 303609,
    "start_time": "2022-03-16T20:15:07.917Z"
   },
   {
    "duration": 1301,
    "start_time": "2022-03-17T18:39:17.212Z"
   },
   {
    "duration": 82,
    "start_time": "2022-03-17T18:39:18.515Z"
   },
   {
    "duration": 14,
    "start_time": "2022-03-17T18:39:18.599Z"
   },
   {
    "duration": 14,
    "start_time": "2022-03-17T18:39:18.615Z"
   },
   {
    "duration": 10,
    "start_time": "2022-03-17T18:39:18.630Z"
   },
   {
    "duration": 33,
    "start_time": "2022-03-17T18:39:18.641Z"
   },
   {
    "duration": 5,
    "start_time": "2022-03-17T18:39:18.676Z"
   },
   {
    "duration": 607,
    "start_time": "2022-03-17T18:39:18.683Z"
   },
   {
    "duration": 243,
    "start_time": "2022-03-17T18:39:19.292Z"
   },
   {
    "duration": 165,
    "start_time": "2022-03-17T18:42:04.965Z"
   },
   {
    "duration": 133,
    "start_time": "2022-03-17T18:42:24.622Z"
   },
   {
    "duration": 297,
    "start_time": "2022-03-17T18:42:41.903Z"
   },
   {
    "duration": 5,
    "start_time": "2022-03-17T18:50:23.690Z"
   },
   {
    "duration": 5,
    "start_time": "2022-03-17T18:50:35.520Z"
   },
   {
    "duration": 161,
    "start_time": "2022-03-17T18:52:17.458Z"
   },
   {
    "duration": 4,
    "start_time": "2022-03-17T18:52:56.281Z"
   },
   {
    "duration": 59,
    "start_time": "2022-03-17T18:52:56.287Z"
   },
   {
    "duration": 13,
    "start_time": "2022-03-17T18:52:56.348Z"
   },
   {
    "duration": 10,
    "start_time": "2022-03-17T18:52:56.363Z"
   },
   {
    "duration": 10,
    "start_time": "2022-03-17T18:52:56.375Z"
   },
   {
    "duration": 17,
    "start_time": "2022-03-17T18:52:56.387Z"
   },
   {
    "duration": 5,
    "start_time": "2022-03-17T18:52:56.406Z"
   },
   {
    "duration": 143,
    "start_time": "2022-03-17T18:52:56.413Z"
   },
   {
    "duration": 171,
    "start_time": "2022-03-17T18:53:12.085Z"
   },
   {
    "duration": 19,
    "start_time": "2022-03-17T19:00:22.584Z"
   },
   {
    "duration": 17,
    "start_time": "2022-03-17T19:01:05.763Z"
   },
   {
    "duration": 14,
    "start_time": "2022-03-17T19:01:14.443Z"
   },
   {
    "duration": 13,
    "start_time": "2022-03-17T19:01:27.066Z"
   },
   {
    "duration": 14,
    "start_time": "2022-03-17T19:01:33.078Z"
   },
   {
    "duration": 4,
    "start_time": "2022-03-17T19:03:01.491Z"
   },
   {
    "duration": 8,
    "start_time": "2022-03-17T19:03:06.956Z"
   },
   {
    "duration": 4,
    "start_time": "2022-03-17T19:04:46.386Z"
   },
   {
    "duration": 7,
    "start_time": "2022-03-17T19:04:47.526Z"
   },
   {
    "duration": 4,
    "start_time": "2022-03-17T19:05:34.111Z"
   },
   {
    "duration": 8,
    "start_time": "2022-03-17T19:05:35.267Z"
   },
   {
    "duration": 7,
    "start_time": "2022-03-17T19:05:44.351Z"
   },
   {
    "duration": 7,
    "start_time": "2022-03-17T19:05:45.551Z"
   },
   {
    "duration": 4,
    "start_time": "2022-03-17T19:06:04.558Z"
   },
   {
    "duration": 8,
    "start_time": "2022-03-17T19:06:05.837Z"
   },
   {
    "duration": 5,
    "start_time": "2022-03-17T19:06:19.311Z"
   },
   {
    "duration": 8,
    "start_time": "2022-03-17T19:06:21.006Z"
   },
   {
    "duration": 10,
    "start_time": "2022-03-17T19:07:17.972Z"
   },
   {
    "duration": 1888,
    "start_time": "2022-03-17T19:07:41.199Z"
   },
   {
    "duration": 11,
    "start_time": "2022-03-17T19:08:15.926Z"
   },
   {
    "duration": 11,
    "start_time": "2022-03-17T19:08:32.140Z"
   },
   {
    "duration": 152,
    "start_time": "2022-03-17T19:10:01.372Z"
   },
   {
    "duration": 157,
    "start_time": "2022-03-17T19:10:46.290Z"
   },
   {
    "duration": 2064,
    "start_time": "2022-03-17T19:11:44.177Z"
   },
   {
    "duration": 213,
    "start_time": "2022-03-17T19:12:46.135Z"
   },
   {
    "duration": 3,
    "start_time": "2022-03-17T19:13:04.545Z"
   },
   {
    "duration": 84,
    "start_time": "2022-03-17T19:13:04.551Z"
   },
   {
    "duration": 19,
    "start_time": "2022-03-17T19:13:04.637Z"
   },
   {
    "duration": 12,
    "start_time": "2022-03-17T19:13:04.662Z"
   },
   {
    "duration": 15,
    "start_time": "2022-03-17T19:13:04.676Z"
   },
   {
    "duration": 21,
    "start_time": "2022-03-17T19:13:04.692Z"
   },
   {
    "duration": 4,
    "start_time": "2022-03-17T19:13:04.715Z"
   },
   {
    "duration": 16,
    "start_time": "2022-03-17T19:13:04.720Z"
   },
   {
    "duration": 25,
    "start_time": "2022-03-17T19:13:04.739Z"
   },
   {
    "duration": 10,
    "start_time": "2022-03-17T19:13:04.766Z"
   },
   {
    "duration": 1943,
    "start_time": "2022-03-17T19:13:04.778Z"
   },
   {
    "duration": 0,
    "start_time": "2022-03-17T19:13:06.722Z"
   },
   {
    "duration": 150,
    "start_time": "2022-03-17T19:22:42.896Z"
   },
   {
    "duration": 348,
    "start_time": "2022-03-17T19:23:08.250Z"
   },
   {
    "duration": 8,
    "start_time": "2022-03-17T19:23:42.029Z"
   },
   {
    "duration": 10,
    "start_time": "2022-03-17T19:26:13.702Z"
   },
   {
    "duration": 4,
    "start_time": "2022-03-17T19:26:18.670Z"
   },
   {
    "duration": 136,
    "start_time": "2022-03-17T19:26:35.281Z"
   },
   {
    "duration": 171,
    "start_time": "2022-03-17T19:28:05.569Z"
   },
   {
    "duration": 268,
    "start_time": "2022-03-17T19:29:01.137Z"
   },
   {
    "duration": 268,
    "start_time": "2022-03-17T19:29:16.659Z"
   },
   {
    "duration": 5,
    "start_time": "2022-03-17T19:29:21.706Z"
   },
   {
    "duration": 165,
    "start_time": "2022-03-17T19:29:26.963Z"
   },
   {
    "duration": 161,
    "start_time": "2022-03-17T19:30:33.953Z"
   },
   {
    "duration": 239,
    "start_time": "2022-03-17T19:30:40.079Z"
   },
   {
    "duration": 154,
    "start_time": "2022-03-17T19:30:52.684Z"
   },
   {
    "duration": 3,
    "start_time": "2022-03-17T19:31:11.800Z"
   },
   {
    "duration": 70,
    "start_time": "2022-03-17T19:31:11.805Z"
   },
   {
    "duration": 14,
    "start_time": "2022-03-17T19:31:11.877Z"
   },
   {
    "duration": 10,
    "start_time": "2022-03-17T19:31:11.893Z"
   },
   {
    "duration": 11,
    "start_time": "2022-03-17T19:31:11.905Z"
   },
   {
    "duration": 19,
    "start_time": "2022-03-17T19:31:11.917Z"
   },
   {
    "duration": 5,
    "start_time": "2022-03-17T19:31:11.937Z"
   },
   {
    "duration": 13,
    "start_time": "2022-03-17T19:31:11.963Z"
   },
   {
    "duration": 4,
    "start_time": "2022-03-17T19:31:11.977Z"
   },
   {
    "duration": 11,
    "start_time": "2022-03-17T19:31:11.983Z"
   },
   {
    "duration": 175,
    "start_time": "2022-03-17T19:31:11.995Z"
   },
   {
    "duration": 14,
    "start_time": "2022-03-17T19:31:35.772Z"
   },
   {
    "duration": 5,
    "start_time": "2022-03-17T19:31:39.643Z"
   },
   {
    "duration": 9,
    "start_time": "2022-03-17T19:31:40.311Z"
   },
   {
    "duration": 167,
    "start_time": "2022-03-17T19:31:43.460Z"
   },
   {
    "duration": 10,
    "start_time": "2022-03-17T19:35:10.947Z"
   },
   {
    "duration": 8,
    "start_time": "2022-03-17T19:35:16.345Z"
   },
   {
    "duration": 108,
    "start_time": "2022-03-17T19:36:02.282Z"
   },
   {
    "duration": 98,
    "start_time": "2022-03-17T19:37:33.307Z"
   },
   {
    "duration": 217,
    "start_time": "2022-03-17T19:37:39.193Z"
   },
   {
    "duration": 15,
    "start_time": "2022-03-17T20:52:18.258Z"
   },
   {
    "duration": 7,
    "start_time": "2022-03-17T20:52:22.798Z"
   },
   {
    "duration": 14,
    "start_time": "2022-03-17T20:52:36.042Z"
   },
   {
    "duration": 6,
    "start_time": "2022-03-17T20:52:36.928Z"
   },
   {
    "duration": 2199,
    "start_time": "2022-03-17T20:53:01.062Z"
   },
   {
    "duration": 15,
    "start_time": "2022-03-17T20:53:14.736Z"
   },
   {
    "duration": 8,
    "start_time": "2022-03-17T20:53:15.200Z"
   },
   {
    "duration": 5,
    "start_time": "2022-03-17T20:53:22.488Z"
   },
   {
    "duration": 1886,
    "start_time": "2022-03-17T20:54:33.088Z"
   },
   {
    "duration": 16,
    "start_time": "2022-03-17T20:56:13.349Z"
   },
   {
    "duration": 8,
    "start_time": "2022-03-17T20:56:15.217Z"
   },
   {
    "duration": 17,
    "start_time": "2022-03-17T20:56:51.392Z"
   },
   {
    "duration": 9,
    "start_time": "2022-03-17T20:56:51.933Z"
   },
   {
    "duration": 17,
    "start_time": "2022-03-17T20:57:11.888Z"
   },
   {
    "duration": 7,
    "start_time": "2022-03-17T20:57:12.973Z"
   },
   {
    "duration": 171,
    "start_time": "2022-03-17T20:58:06.412Z"
   },
   {
    "duration": 19,
    "start_time": "2022-03-17T21:01:07.824Z"
   },
   {
    "duration": 23,
    "start_time": "2022-03-17T21:01:50.162Z"
   },
   {
    "duration": 11,
    "start_time": "2022-03-17T21:01:55.934Z"
   },
   {
    "duration": 13,
    "start_time": "2022-03-17T21:02:18.899Z"
   },
   {
    "duration": 1347,
    "start_time": "2022-03-18T17:41:11.205Z"
   },
   {
    "duration": 70,
    "start_time": "2022-03-18T17:41:12.554Z"
   },
   {
    "duration": 13,
    "start_time": "2022-03-18T17:41:12.626Z"
   },
   {
    "duration": 13,
    "start_time": "2022-03-18T17:41:12.641Z"
   },
   {
    "duration": 9,
    "start_time": "2022-03-18T17:41:12.655Z"
   },
   {
    "duration": 36,
    "start_time": "2022-03-18T17:41:12.666Z"
   },
   {
    "duration": 4,
    "start_time": "2022-03-18T17:41:12.704Z"
   },
   {
    "duration": 17,
    "start_time": "2022-03-18T17:41:12.710Z"
   },
   {
    "duration": 6,
    "start_time": "2022-03-18T17:41:12.729Z"
   },
   {
    "duration": 7,
    "start_time": "2022-03-18T17:41:12.737Z"
   },
   {
    "duration": 185,
    "start_time": "2022-03-18T17:41:12.746Z"
   },
   {
    "duration": 10,
    "start_time": "2022-03-18T17:41:12.933Z"
   },
   {
    "duration": 6,
    "start_time": "2022-03-18T17:41:12.945Z"
   },
   {
    "duration": 109,
    "start_time": "2022-03-18T17:41:12.952Z"
   },
   {
    "duration": 16,
    "start_time": "2022-03-18T17:41:13.062Z"
   },
   {
    "duration": 7,
    "start_time": "2022-03-18T17:41:13.079Z"
   },
   {
    "duration": 172,
    "start_time": "2022-03-18T17:41:13.087Z"
   },
   {
    "duration": 21,
    "start_time": "2022-03-18T17:41:13.260Z"
   },
   {
    "duration": 19,
    "start_time": "2022-03-18T17:41:13.282Z"
   },
   {
    "duration": 11,
    "start_time": "2022-03-18T17:41:13.303Z"
   },
   {
    "duration": 520,
    "start_time": "2022-03-18T17:42:35.288Z"
   },
   {
    "duration": 84,
    "start_time": "2022-03-18T17:42:50.869Z"
   },
   {
    "duration": 101,
    "start_time": "2022-03-18T17:43:21.995Z"
   },
   {
    "duration": 141,
    "start_time": "2022-03-18T17:49:29.200Z"
   },
   {
    "duration": 103,
    "start_time": "2022-03-18T17:50:38.034Z"
   },
   {
    "duration": 172,
    "start_time": "2022-03-18T17:51:08.356Z"
   },
   {
    "duration": 110,
    "start_time": "2022-03-18T17:51:21.481Z"
   },
   {
    "duration": 105,
    "start_time": "2022-03-18T17:51:44.217Z"
   },
   {
    "duration": 105,
    "start_time": "2022-03-18T17:52:44.123Z"
   },
   {
    "duration": 29,
    "start_time": "2022-03-18T17:53:59.644Z"
   },
   {
    "duration": 18,
    "start_time": "2022-03-18T17:54:09.578Z"
   },
   {
    "duration": 3,
    "start_time": "2022-03-18T17:54:23.076Z"
   },
   {
    "duration": 67,
    "start_time": "2022-03-18T17:54:23.081Z"
   },
   {
    "duration": 13,
    "start_time": "2022-03-18T17:54:23.150Z"
   },
   {
    "duration": 9,
    "start_time": "2022-03-18T17:54:23.164Z"
   },
   {
    "duration": 9,
    "start_time": "2022-03-18T17:54:23.175Z"
   },
   {
    "duration": 29,
    "start_time": "2022-03-18T17:54:23.186Z"
   },
   {
    "duration": 4,
    "start_time": "2022-03-18T17:54:23.216Z"
   },
   {
    "duration": 13,
    "start_time": "2022-03-18T17:54:23.222Z"
   },
   {
    "duration": 4,
    "start_time": "2022-03-18T17:54:23.236Z"
   },
   {
    "duration": 8,
    "start_time": "2022-03-18T17:54:23.242Z"
   },
   {
    "duration": 278,
    "start_time": "2022-03-18T17:54:23.251Z"
   },
   {
    "duration": 12,
    "start_time": "2022-03-18T17:54:23.531Z"
   },
   {
    "duration": 6,
    "start_time": "2022-03-18T17:54:23.546Z"
   },
   {
    "duration": 149,
    "start_time": "2022-03-18T17:54:23.554Z"
   },
   {
    "duration": 21,
    "start_time": "2022-03-18T17:54:23.705Z"
   },
   {
    "duration": 9,
    "start_time": "2022-03-18T17:54:23.727Z"
   },
   {
    "duration": 171,
    "start_time": "2022-03-18T17:54:23.737Z"
   },
   {
    "duration": 18,
    "start_time": "2022-03-18T17:54:23.910Z"
   },
   {
    "duration": 8,
    "start_time": "2022-03-18T17:54:23.930Z"
   },
   {
    "duration": 13,
    "start_time": "2022-03-18T17:54:23.939Z"
   },
   {
    "duration": 14,
    "start_time": "2022-03-18T17:54:23.954Z"
   },
   {
    "duration": 20,
    "start_time": "2022-03-18T17:54:34.799Z"
   },
   {
    "duration": 9,
    "start_time": "2022-03-18T17:54:35.885Z"
   },
   {
    "duration": 19,
    "start_time": "2022-03-18T17:54:41.927Z"
   },
   {
    "duration": 9,
    "start_time": "2022-03-18T17:54:42.752Z"
   },
   {
    "duration": 11,
    "start_time": "2022-03-18T17:54:57.919Z"
   },
   {
    "duration": 186,
    "start_time": "2022-03-18T17:54:58.389Z"
   },
   {
    "duration": 4,
    "start_time": "2022-03-18T17:55:26.816Z"
   },
   {
    "duration": 10,
    "start_time": "2022-03-18T17:55:35.174Z"
   },
   {
    "duration": 112,
    "start_time": "2022-03-18T17:56:30.366Z"
   },
   {
    "duration": 167,
    "start_time": "2022-03-18T17:57:46.617Z"
   },
   {
    "duration": 169,
    "start_time": "2022-03-18T17:58:16.022Z"
   },
   {
    "duration": 165,
    "start_time": "2022-03-18T17:58:40.513Z"
   },
   {
    "duration": 173,
    "start_time": "2022-03-18T18:00:08.564Z"
   },
   {
    "duration": 193,
    "start_time": "2022-03-18T18:00:55.240Z"
   },
   {
    "duration": 103,
    "start_time": "2022-03-18T18:01:29.155Z"
   },
   {
    "duration": 161,
    "start_time": "2022-03-18T18:01:57.309Z"
   },
   {
    "duration": 175,
    "start_time": "2022-03-18T18:02:03.538Z"
   },
   {
    "duration": 109,
    "start_time": "2022-03-18T18:02:13.635Z"
   },
   {
    "duration": 106,
    "start_time": "2022-03-18T18:02:38.415Z"
   },
   {
    "duration": 104,
    "start_time": "2022-03-18T18:03:07.516Z"
   },
   {
    "duration": 105,
    "start_time": "2022-03-18T18:03:19.287Z"
   },
   {
    "duration": 111,
    "start_time": "2022-03-18T18:04:22.894Z"
   },
   {
    "duration": 104,
    "start_time": "2022-03-18T18:04:52.927Z"
   },
   {
    "duration": 193,
    "start_time": "2022-03-18T18:18:36.771Z"
   },
   {
    "duration": 414,
    "start_time": "2022-03-18T18:19:20.387Z"
   },
   {
    "duration": 205,
    "start_time": "2022-03-18T18:19:43.324Z"
   },
   {
    "duration": 212,
    "start_time": "2022-03-18T18:20:06.878Z"
   },
   {
    "duration": 204,
    "start_time": "2022-03-18T18:20:17.234Z"
   },
   {
    "duration": 203,
    "start_time": "2022-03-18T18:20:26.274Z"
   },
   {
    "duration": 11,
    "start_time": "2022-03-18T18:22:33.849Z"
   },
   {
    "duration": 30,
    "start_time": "2022-03-18T18:22:43.273Z"
   },
   {
    "duration": 13,
    "start_time": "2022-03-18T18:30:27.642Z"
   },
   {
    "duration": 15,
    "start_time": "2022-03-18T18:30:38.783Z"
   },
   {
    "duration": 7,
    "start_time": "2022-03-18T18:30:46.127Z"
   },
   {
    "duration": 13,
    "start_time": "2022-03-18T18:30:52.691Z"
   },
   {
    "duration": 14,
    "start_time": "2022-03-18T18:31:13.119Z"
   },
   {
    "duration": 149,
    "start_time": "2022-03-18T18:31:23.062Z"
   },
   {
    "duration": 10,
    "start_time": "2022-03-18T18:47:33.479Z"
   },
   {
    "duration": 2975,
    "start_time": "2022-03-18T18:47:40.329Z"
   },
   {
    "duration": 12,
    "start_time": "2022-03-18T18:47:52.851Z"
   },
   {
    "duration": 21,
    "start_time": "2022-03-18T18:48:30.388Z"
   },
   {
    "duration": 28,
    "start_time": "2022-03-18T18:48:40.502Z"
   },
   {
    "duration": 27,
    "start_time": "2022-03-18T18:48:44.550Z"
   },
   {
    "duration": 21,
    "start_time": "2022-03-18T18:48:57.351Z"
   },
   {
    "duration": 21,
    "start_time": "2022-03-18T18:49:02.369Z"
   },
   {
    "duration": 28,
    "start_time": "2022-03-18T18:49:09.756Z"
   },
   {
    "duration": 26,
    "start_time": "2022-03-18T18:49:14.560Z"
   },
   {
    "duration": 19,
    "start_time": "2022-03-18T18:49:39.226Z"
   },
   {
    "duration": 36,
    "start_time": "2022-03-18T18:50:01.671Z"
   },
   {
    "duration": 175,
    "start_time": "2022-03-18T18:51:42.437Z"
   },
   {
    "duration": 190,
    "start_time": "2022-03-18T18:51:50.505Z"
   },
   {
    "duration": 17,
    "start_time": "2022-03-18T18:52:11.103Z"
   },
   {
    "duration": 13,
    "start_time": "2022-03-18T18:52:15.186Z"
   },
   {
    "duration": 25,
    "start_time": "2022-03-18T18:52:55.688Z"
   },
   {
    "duration": 18,
    "start_time": "2022-03-18T18:53:03.472Z"
   },
   {
    "duration": 15,
    "start_time": "2022-03-18T18:53:29.066Z"
   },
   {
    "duration": 13,
    "start_time": "2022-03-18T18:53:45.559Z"
   },
   {
    "duration": 17,
    "start_time": "2022-03-18T18:54:20.543Z"
   },
   {
    "duration": 15,
    "start_time": "2022-03-18T18:54:27.428Z"
   },
   {
    "duration": 16,
    "start_time": "2022-03-18T18:55:42.545Z"
   },
   {
    "duration": 17,
    "start_time": "2022-03-18T18:55:53.312Z"
   },
   {
    "duration": 19,
    "start_time": "2022-03-18T18:56:03.479Z"
   },
   {
    "duration": 15,
    "start_time": "2022-03-18T18:58:46.687Z"
   },
   {
    "duration": 33679,
    "start_time": "2022-03-18T18:59:07.651Z"
   },
   {
    "duration": 15,
    "start_time": "2022-03-18T19:02:23.983Z"
   },
   {
    "duration": 161,
    "start_time": "2022-03-18T19:02:26.275Z"
   },
   {
    "duration": 855,
    "start_time": "2022-03-18T19:15:07.986Z"
   },
   {
    "duration": 44,
    "start_time": "2022-03-18T19:16:52.475Z"
   },
   {
    "duration": 3,
    "start_time": "2022-03-18T19:16:55.270Z"
   },
   {
    "duration": 58,
    "start_time": "2022-03-18T19:16:55.275Z"
   },
   {
    "duration": 11,
    "start_time": "2022-03-18T19:16:55.335Z"
   },
   {
    "duration": 10,
    "start_time": "2022-03-18T19:16:55.348Z"
   },
   {
    "duration": 10,
    "start_time": "2022-03-18T19:16:55.359Z"
   },
   {
    "duration": 40,
    "start_time": "2022-03-18T19:16:55.370Z"
   },
   {
    "duration": 4,
    "start_time": "2022-03-18T19:16:55.412Z"
   },
   {
    "duration": 12,
    "start_time": "2022-03-18T19:16:55.417Z"
   },
   {
    "duration": 3,
    "start_time": "2022-03-18T19:16:55.430Z"
   },
   {
    "duration": 6,
    "start_time": "2022-03-18T19:16:55.436Z"
   },
   {
    "duration": 509,
    "start_time": "2022-03-18T19:16:55.443Z"
   },
   {
    "duration": 9,
    "start_time": "2022-03-18T19:16:55.953Z"
   },
   {
    "duration": 5,
    "start_time": "2022-03-18T19:16:55.964Z"
   },
   {
    "duration": 107,
    "start_time": "2022-03-18T19:16:55.971Z"
   },
   {
    "duration": 23,
    "start_time": "2022-03-18T19:16:56.080Z"
   },
   {
    "duration": 8,
    "start_time": "2022-03-18T19:16:56.105Z"
   },
   {
    "duration": 170,
    "start_time": "2022-03-18T19:16:56.114Z"
   },
   {
    "duration": 23,
    "start_time": "2022-03-18T19:16:56.285Z"
   },
   {
    "duration": 8,
    "start_time": "2022-03-18T19:16:56.310Z"
   },
   {
    "duration": 11,
    "start_time": "2022-03-18T19:16:56.320Z"
   },
   {
    "duration": 119,
    "start_time": "2022-03-18T19:16:56.332Z"
   },
   {
    "duration": 233,
    "start_time": "2022-03-18T19:16:56.453Z"
   },
   {
    "duration": 38,
    "start_time": "2022-03-18T19:16:56.687Z"
   },
   {
    "duration": 11,
    "start_time": "2022-03-18T19:16:56.726Z"
   },
   {
    "duration": 156,
    "start_time": "2022-03-18T19:16:56.738Z"
   },
   {
    "duration": 25,
    "start_time": "2022-03-18T19:16:56.895Z"
   },
   {
    "duration": 15,
    "start_time": "2022-03-18T19:16:56.921Z"
   },
   {
    "duration": 175,
    "start_time": "2022-03-18T19:16:56.939Z"
   },
   {
    "duration": 670,
    "start_time": "2022-03-18T19:16:57.116Z"
   },
   {
    "duration": 157,
    "start_time": "2022-03-18T19:18:18.091Z"
   },
   {
    "duration": 822,
    "start_time": "2022-03-18T19:18:25.466Z"
   },
   {
    "duration": 716,
    "start_time": "2022-03-18T19:25:44.484Z"
   },
   {
    "duration": 725,
    "start_time": "2022-03-18T19:25:52.062Z"
   },
   {
    "duration": 4,
    "start_time": "2022-03-18T19:27:56.473Z"
   },
   {
    "duration": 12,
    "start_time": "2022-03-18T19:28:03.811Z"
   },
   {
    "duration": 16,
    "start_time": "2022-03-18T19:28:15.553Z"
   },
   {
    "duration": 19,
    "start_time": "2022-03-18T19:29:12.229Z"
   },
   {
    "duration": 14,
    "start_time": "2022-03-18T19:29:23.029Z"
   },
   {
    "duration": 14,
    "start_time": "2022-03-18T19:29:49.386Z"
   },
   {
    "duration": 17,
    "start_time": "2022-03-18T19:30:15.646Z"
   },
   {
    "duration": 20,
    "start_time": "2022-03-18T19:51:26.033Z"
   },
   {
    "duration": 12,
    "start_time": "2022-03-18T19:51:50.096Z"
   },
   {
    "duration": 12,
    "start_time": "2022-03-18T19:52:36.325Z"
   },
   {
    "duration": 4,
    "start_time": "2022-03-18T19:52:55.532Z"
   },
   {
    "duration": 17,
    "start_time": "2022-03-18T20:03:59.310Z"
   },
   {
    "duration": 3,
    "start_time": "2022-03-18T20:15:55.383Z"
   },
   {
    "duration": 53,
    "start_time": "2022-03-18T20:15:55.388Z"
   },
   {
    "duration": 11,
    "start_time": "2022-03-18T20:15:55.443Z"
   },
   {
    "duration": 9,
    "start_time": "2022-03-18T20:15:55.456Z"
   },
   {
    "duration": 8,
    "start_time": "2022-03-18T20:15:55.466Z"
   },
   {
    "duration": 15,
    "start_time": "2022-03-18T20:15:55.501Z"
   },
   {
    "duration": 4,
    "start_time": "2022-03-18T20:15:55.517Z"
   },
   {
    "duration": 12,
    "start_time": "2022-03-18T20:15:55.522Z"
   },
   {
    "duration": 3,
    "start_time": "2022-03-18T20:15:55.535Z"
   },
   {
    "duration": 7,
    "start_time": "2022-03-18T20:15:55.540Z"
   },
   {
    "duration": 172,
    "start_time": "2022-03-18T20:15:55.550Z"
   },
   {
    "duration": 9,
    "start_time": "2022-03-18T20:15:55.724Z"
   },
   {
    "duration": 5,
    "start_time": "2022-03-18T20:15:55.734Z"
   },
   {
    "duration": 107,
    "start_time": "2022-03-18T20:15:55.741Z"
   },
   {
    "duration": 17,
    "start_time": "2022-03-18T20:15:55.849Z"
   },
   {
    "duration": 7,
    "start_time": "2022-03-18T20:15:55.867Z"
   },
   {
    "duration": 266,
    "start_time": "2022-03-18T20:15:55.875Z"
   },
   {
    "duration": 20,
    "start_time": "2022-03-18T20:15:56.142Z"
   },
   {
    "duration": 9,
    "start_time": "2022-03-18T20:15:56.163Z"
   },
   {
    "duration": 32,
    "start_time": "2022-03-18T20:15:56.174Z"
   },
   {
    "duration": 112,
    "start_time": "2022-03-18T20:15:56.208Z"
   },
   {
    "duration": 240,
    "start_time": "2022-03-18T20:15:56.322Z"
   },
   {
    "duration": 38,
    "start_time": "2022-03-18T20:15:56.564Z"
   },
   {
    "duration": 12,
    "start_time": "2022-03-18T20:15:56.603Z"
   },
   {
    "duration": 162,
    "start_time": "2022-03-18T20:15:56.616Z"
   },
   {
    "duration": 26,
    "start_time": "2022-03-18T20:15:56.780Z"
   },
   {
    "duration": 15,
    "start_time": "2022-03-18T20:15:56.808Z"
   },
   {
    "duration": 170,
    "start_time": "2022-03-18T20:15:56.824Z"
   },
   {
    "duration": 727,
    "start_time": "2022-03-18T20:15:56.997Z"
   },
   {
    "duration": 11,
    "start_time": "2022-03-18T20:15:57.726Z"
   },
   {
    "duration": 19,
    "start_time": "2022-03-18T20:15:57.738Z"
   },
   {
    "duration": 18,
    "start_time": "2022-03-18T20:15:57.758Z"
   },
   {
    "duration": 25,
    "start_time": "2022-03-18T20:15:57.778Z"
   },
   {
    "duration": 12,
    "start_time": "2022-03-18T20:15:57.804Z"
   },
   {
    "duration": 6437,
    "start_time": "2022-03-18T20:16:29.090Z"
   },
   {
    "duration": 75,
    "start_time": "2022-03-18T20:16:47.550Z"
   },
   {
    "duration": 164,
    "start_time": "2022-03-18T20:19:54.406Z"
   },
   {
    "duration": 295,
    "start_time": "2022-03-18T20:20:22.994Z"
   },
   {
    "duration": 78,
    "start_time": "2022-03-18T20:21:14.814Z"
   },
   {
    "duration": 3123,
    "start_time": "2022-03-18T20:21:59.257Z"
   },
   {
    "duration": 92,
    "start_time": "2022-03-18T20:22:09.356Z"
   },
   {
    "duration": 14,
    "start_time": "2022-03-18T20:23:09.399Z"
   },
   {
    "duration": 16,
    "start_time": "2022-03-18T20:23:25.566Z"
   },
   {
    "duration": 15,
    "start_time": "2022-03-18T20:23:30.793Z"
   },
   {
    "duration": 13,
    "start_time": "2022-03-18T20:23:39.086Z"
   },
   {
    "duration": 21,
    "start_time": "2022-03-18T20:24:01.944Z"
   },
   {
    "duration": 15,
    "start_time": "2022-03-18T20:24:11.963Z"
   },
   {
    "duration": 75,
    "start_time": "2022-03-18T20:24:16.811Z"
   },
   {
    "duration": 82,
    "start_time": "2022-03-18T20:24:21.911Z"
   },
   {
    "duration": 2833,
    "start_time": "2022-03-18T20:24:43.049Z"
   },
   {
    "duration": 230,
    "start_time": "2022-03-18T20:24:48.583Z"
   },
   {
    "duration": 98,
    "start_time": "2022-03-18T20:25:20.528Z"
   },
   {
    "duration": 93,
    "start_time": "2022-03-18T20:26:34.794Z"
   },
   {
    "duration": 152,
    "start_time": "2022-03-18T20:27:08.080Z"
   },
   {
    "duration": 153,
    "start_time": "2022-03-18T20:27:40.271Z"
   },
   {
    "duration": 153,
    "start_time": "2022-03-18T20:28:19.579Z"
   },
   {
    "duration": 144,
    "start_time": "2022-03-18T20:28:34.816Z"
   },
   {
    "duration": 143,
    "start_time": "2022-03-18T20:29:19.054Z"
   },
   {
    "duration": 195,
    "start_time": "2022-03-18T20:29:54.665Z"
   },
   {
    "duration": 201,
    "start_time": "2022-03-18T20:30:13.798Z"
   },
   {
    "duration": 303,
    "start_time": "2022-03-18T20:30:33.807Z"
   },
   {
    "duration": 332,
    "start_time": "2022-03-18T20:31:16.194Z"
   },
   {
    "duration": 205,
    "start_time": "2022-03-18T20:31:40.339Z"
   },
   {
    "duration": 2830,
    "start_time": "2022-03-18T20:31:55.352Z"
   },
   {
    "duration": 2877,
    "start_time": "2022-03-18T20:32:01.387Z"
   },
   {
    "duration": 7,
    "start_time": "2022-03-18T20:32:10.189Z"
   },
   {
    "duration": 3,
    "start_time": "2022-03-18T20:36:47.757Z"
   },
   {
    "duration": 69,
    "start_time": "2022-03-18T20:36:47.761Z"
   },
   {
    "duration": 12,
    "start_time": "2022-03-18T20:36:47.831Z"
   },
   {
    "duration": 10,
    "start_time": "2022-03-18T20:36:47.845Z"
   },
   {
    "duration": 13,
    "start_time": "2022-03-18T20:36:47.856Z"
   },
   {
    "duration": 39,
    "start_time": "2022-03-18T20:36:47.871Z"
   },
   {
    "duration": 5,
    "start_time": "2022-03-18T20:36:47.912Z"
   },
   {
    "duration": 12,
    "start_time": "2022-03-18T20:36:47.919Z"
   },
   {
    "duration": 4,
    "start_time": "2022-03-18T20:36:47.932Z"
   },
   {
    "duration": 7,
    "start_time": "2022-03-18T20:36:47.938Z"
   },
   {
    "duration": 173,
    "start_time": "2022-03-18T20:36:47.946Z"
   },
   {
    "duration": 10,
    "start_time": "2022-03-18T20:36:48.121Z"
   },
   {
    "duration": 5,
    "start_time": "2022-03-18T20:36:48.132Z"
   },
   {
    "duration": 116,
    "start_time": "2022-03-18T20:36:48.139Z"
   },
   {
    "duration": 17,
    "start_time": "2022-03-18T20:36:48.257Z"
   },
   {
    "duration": 7,
    "start_time": "2022-03-18T20:36:48.275Z"
   },
   {
    "duration": 171,
    "start_time": "2022-03-18T20:36:48.283Z"
   },
   {
    "duration": 19,
    "start_time": "2022-03-18T20:36:48.455Z"
   },
   {
    "duration": 9,
    "start_time": "2022-03-18T20:36:48.475Z"
   },
   {
    "duration": 12,
    "start_time": "2022-03-18T20:36:48.501Z"
   },
   {
    "duration": 119,
    "start_time": "2022-03-18T20:36:48.514Z"
   },
   {
    "duration": 328,
    "start_time": "2022-03-18T20:36:48.634Z"
   },
   {
    "duration": 38,
    "start_time": "2022-03-18T20:36:48.964Z"
   },
   {
    "duration": 11,
    "start_time": "2022-03-18T20:36:49.004Z"
   },
   {
    "duration": 168,
    "start_time": "2022-03-18T20:36:49.017Z"
   },
   {
    "duration": 25,
    "start_time": "2022-03-18T20:36:49.187Z"
   },
   {
    "duration": 16,
    "start_time": "2022-03-18T20:36:49.214Z"
   },
   {
    "duration": 179,
    "start_time": "2022-03-18T20:36:49.233Z"
   },
   {
    "duration": 1021,
    "start_time": "2022-03-18T20:36:49.413Z"
   },
   {
    "duration": 10,
    "start_time": "2022-03-18T20:36:50.436Z"
   },
   {
    "duration": 11,
    "start_time": "2022-03-18T20:36:50.448Z"
   },
   {
    "duration": 17,
    "start_time": "2022-03-18T20:36:50.461Z"
   },
   {
    "duration": 10,
    "start_time": "2022-03-18T20:36:50.479Z"
   },
   {
    "duration": 5,
    "start_time": "2022-03-18T20:36:50.500Z"
   },
   {
    "duration": 103,
    "start_time": "2022-03-18T20:36:50.506Z"
   },
   {
    "duration": 151,
    "start_time": "2022-03-18T20:36:50.611Z"
   },
   {
    "duration": 315,
    "start_time": "2022-03-18T20:36:50.764Z"
   },
   {
    "duration": 9,
    "start_time": "2022-03-18T20:36:51.081Z"
   },
   {
    "duration": 3035,
    "start_time": "2022-03-19T05:39:21.915Z"
   },
   {
    "duration": 115,
    "start_time": "2022-03-19T05:39:24.955Z"
   },
   {
    "duration": 39,
    "start_time": "2022-03-19T05:39:25.073Z"
   },
   {
    "duration": 28,
    "start_time": "2022-03-19T05:39:25.115Z"
   },
   {
    "duration": 51,
    "start_time": "2022-03-19T05:39:25.148Z"
   },
   {
    "duration": 40,
    "start_time": "2022-03-19T05:39:25.202Z"
   },
   {
    "duration": 10,
    "start_time": "2022-03-19T05:39:25.245Z"
   },
   {
    "duration": 19,
    "start_time": "2022-03-19T05:39:25.285Z"
   },
   {
    "duration": 6,
    "start_time": "2022-03-19T05:39:25.306Z"
   },
   {
    "duration": 13,
    "start_time": "2022-03-19T05:39:25.314Z"
   },
   {
    "duration": 499,
    "start_time": "2022-03-19T05:39:25.329Z"
   },
   {
    "duration": 20,
    "start_time": "2022-03-19T05:39:25.831Z"
   },
   {
    "duration": 32,
    "start_time": "2022-03-19T05:39:25.854Z"
   },
   {
    "duration": 182,
    "start_time": "2022-03-19T05:39:25.890Z"
   },
   {
    "duration": 31,
    "start_time": "2022-03-19T05:39:26.074Z"
   },
   {
    "duration": 11,
    "start_time": "2022-03-19T05:39:26.107Z"
   },
   {
    "duration": 317,
    "start_time": "2022-03-19T05:39:26.120Z"
   },
   {
    "duration": 47,
    "start_time": "2022-03-19T05:39:26.439Z"
   },
   {
    "duration": 15,
    "start_time": "2022-03-19T05:39:26.489Z"
   },
   {
    "duration": 20,
    "start_time": "2022-03-19T05:39:26.507Z"
   },
   {
    "duration": 9779,
    "start_time": "2022-03-19T05:39:26.530Z"
   },
   {
    "duration": 487,
    "start_time": "2022-03-19T05:39:36.312Z"
   },
   {
    "duration": 53,
    "start_time": "2022-03-19T05:39:36.802Z"
   },
   {
    "duration": 47,
    "start_time": "2022-03-19T05:39:36.858Z"
   },
   {
    "duration": 475,
    "start_time": "2022-03-19T05:39:36.908Z"
   },
   {
    "duration": 68,
    "start_time": "2022-03-19T05:39:37.386Z"
   },
   {
    "duration": 62,
    "start_time": "2022-03-19T05:39:37.457Z"
   },
   {
    "duration": 517,
    "start_time": "2022-03-19T05:39:37.522Z"
   },
   {
    "duration": 1258,
    "start_time": "2022-03-19T05:39:38.042Z"
   },
   {
    "duration": 18,
    "start_time": "2022-03-19T05:39:39.302Z"
   },
   {
    "duration": 32,
    "start_time": "2022-03-19T05:39:39.323Z"
   },
   {
    "duration": 44,
    "start_time": "2022-03-19T05:39:39.357Z"
   },
   {
    "duration": 16,
    "start_time": "2022-03-19T05:39:39.403Z"
   },
   {
    "duration": 10,
    "start_time": "2022-03-19T05:39:39.421Z"
   },
   {
    "duration": 196,
    "start_time": "2022-03-19T05:39:39.433Z"
   },
   {
    "duration": 280,
    "start_time": "2022-03-19T05:39:39.631Z"
   },
   {
    "duration": 499,
    "start_time": "2022-03-19T05:39:39.914Z"
   },
   {
    "duration": 10,
    "start_time": "2022-03-19T05:39:40.415Z"
   },
   {
    "duration": 2148,
    "start_time": "2022-03-21T18:30:09.308Z"
   },
   {
    "duration": 79,
    "start_time": "2022-03-21T18:30:11.459Z"
   },
   {
    "duration": 36,
    "start_time": "2022-03-21T18:30:11.540Z"
   },
   {
    "duration": 26,
    "start_time": "2022-03-21T18:30:11.580Z"
   },
   {
    "duration": 15,
    "start_time": "2022-03-21T18:30:11.608Z"
   },
   {
    "duration": 67,
    "start_time": "2022-03-21T18:30:11.626Z"
   },
   {
    "duration": 7,
    "start_time": "2022-03-21T18:30:11.695Z"
   },
   {
    "duration": 23,
    "start_time": "2022-03-21T18:30:11.704Z"
   },
   {
    "duration": 6,
    "start_time": "2022-03-21T18:30:11.729Z"
   },
   {
    "duration": 42,
    "start_time": "2022-03-21T18:30:11.738Z"
   },
   {
    "duration": 347,
    "start_time": "2022-03-21T18:30:11.783Z"
   },
   {
    "duration": 14,
    "start_time": "2022-03-21T18:30:12.132Z"
   },
   {
    "duration": 17,
    "start_time": "2022-03-21T18:30:12.149Z"
   },
   {
    "duration": 197,
    "start_time": "2022-03-21T18:30:12.175Z"
   },
   {
    "duration": 34,
    "start_time": "2022-03-21T18:30:12.378Z"
   },
   {
    "duration": 10,
    "start_time": "2022-03-21T18:30:12.414Z"
   },
   {
    "duration": 339,
    "start_time": "2022-03-21T18:30:12.426Z"
   },
   {
    "duration": 34,
    "start_time": "2022-03-21T18:30:12.774Z"
   },
   {
    "duration": 14,
    "start_time": "2022-03-21T18:30:12.810Z"
   },
   {
    "duration": 29,
    "start_time": "2022-03-21T18:30:12.826Z"
   },
   {
    "duration": 1121,
    "start_time": "2022-03-21T18:30:12.878Z"
   },
   {
    "duration": 541,
    "start_time": "2022-03-21T18:30:14.001Z"
   },
   {
    "duration": 60,
    "start_time": "2022-03-21T18:30:14.545Z"
   },
   {
    "duration": 17,
    "start_time": "2022-03-21T18:30:14.607Z"
   },
   {
    "duration": 400,
    "start_time": "2022-03-21T18:30:14.627Z"
   },
   {
    "duration": 38,
    "start_time": "2022-03-21T18:30:15.030Z"
   },
   {
    "duration": 46,
    "start_time": "2022-03-21T18:30:15.070Z"
   },
   {
    "duration": 321,
    "start_time": "2022-03-21T18:30:15.121Z"
   },
   {
    "duration": 1117,
    "start_time": "2022-03-21T18:30:15.444Z"
   },
   {
    "duration": 25,
    "start_time": "2022-03-21T18:30:16.564Z"
   },
   {
    "duration": 21,
    "start_time": "2022-03-21T18:30:16.592Z"
   },
   {
    "duration": 29,
    "start_time": "2022-03-21T18:30:16.615Z"
   },
   {
    "duration": 51,
    "start_time": "2022-03-21T18:30:16.646Z"
   },
   {
    "duration": 8,
    "start_time": "2022-03-21T18:30:16.699Z"
   },
   {
    "duration": 260,
    "start_time": "2022-03-21T18:30:16.709Z"
   },
   {
    "duration": 325,
    "start_time": "2022-03-21T18:30:16.974Z"
   },
   {
    "duration": 537,
    "start_time": "2022-03-21T18:30:17.302Z"
   },
   {
    "duration": 10,
    "start_time": "2022-03-21T18:30:17.842Z"
   },
   {
    "duration": 40,
    "start_time": "2022-03-21T18:41:05.814Z"
   },
   {
    "duration": 5,
    "start_time": "2022-03-21T18:41:08.548Z"
   },
   {
    "duration": 70,
    "start_time": "2022-03-21T18:41:08.556Z"
   },
   {
    "duration": 45,
    "start_time": "2022-03-21T18:41:08.629Z"
   },
   {
    "duration": 13,
    "start_time": "2022-03-21T18:41:08.676Z"
   },
   {
    "duration": 16,
    "start_time": "2022-03-21T18:41:08.693Z"
   },
   {
    "duration": 33,
    "start_time": "2022-03-21T18:41:08.712Z"
   },
   {
    "duration": 86,
    "start_time": "2022-03-21T18:41:08.747Z"
   },
   {
    "duration": 12,
    "start_time": "2022-03-21T18:41:08.836Z"
   },
   {
    "duration": 49,
    "start_time": "2022-03-21T18:41:08.850Z"
   },
   {
    "duration": 5,
    "start_time": "2022-03-21T18:41:08.902Z"
   },
   {
    "duration": 15,
    "start_time": "2022-03-21T18:41:08.909Z"
   },
   {
    "duration": 308,
    "start_time": "2022-03-21T18:41:08.926Z"
   },
   {
    "duration": 13,
    "start_time": "2022-03-21T18:41:09.237Z"
   },
   {
    "duration": 20,
    "start_time": "2022-03-21T18:41:09.255Z"
   },
   {
    "duration": 189,
    "start_time": "2022-03-21T18:41:09.277Z"
   },
   {
    "duration": 31,
    "start_time": "2022-03-21T18:41:09.468Z"
   },
   {
    "duration": 11,
    "start_time": "2022-03-21T18:41:09.501Z"
   },
   {
    "duration": 319,
    "start_time": "2022-03-21T18:41:09.514Z"
   },
   {
    "duration": 50,
    "start_time": "2022-03-21T18:41:09.835Z"
   },
   {
    "duration": 15,
    "start_time": "2022-03-21T18:41:09.887Z"
   },
   {
    "duration": 20,
    "start_time": "2022-03-21T18:41:09.904Z"
   },
   {
    "duration": 216,
    "start_time": "2022-03-21T18:41:09.927Z"
   },
   {
    "duration": 409,
    "start_time": "2022-03-21T18:41:10.145Z"
   },
   {
    "duration": 77,
    "start_time": "2022-03-21T18:41:10.556Z"
   },
   {
    "duration": 17,
    "start_time": "2022-03-21T18:41:10.635Z"
   },
   {
    "duration": 300,
    "start_time": "2022-03-21T18:41:10.673Z"
   },
   {
    "duration": 38,
    "start_time": "2022-03-21T18:41:10.975Z"
   },
   {
    "duration": 25,
    "start_time": "2022-03-21T18:41:11.015Z"
   },
   {
    "duration": 326,
    "start_time": "2022-03-21T18:41:11.042Z"
   },
   {
    "duration": 1126,
    "start_time": "2022-03-21T18:41:11.374Z"
   },
   {
    "duration": 18,
    "start_time": "2022-03-21T18:41:12.502Z"
   },
   {
    "duration": 18,
    "start_time": "2022-03-21T18:41:12.523Z"
   },
   {
    "duration": 53,
    "start_time": "2022-03-21T18:41:12.543Z"
   },
   {
    "duration": 15,
    "start_time": "2022-03-21T18:41:12.599Z"
   },
   {
    "duration": 6,
    "start_time": "2022-03-21T18:41:12.617Z"
   },
   {
    "duration": 217,
    "start_time": "2022-03-21T18:41:12.625Z"
   },
   {
    "duration": 304,
    "start_time": "2022-03-21T18:41:12.844Z"
   },
   {
    "duration": 525,
    "start_time": "2022-03-21T18:41:13.150Z"
   },
   {
    "duration": 10,
    "start_time": "2022-03-21T18:41:13.678Z"
   },
   {
    "duration": 15,
    "start_time": "2022-03-21T18:41:58.426Z"
   },
   {
    "duration": 112,
    "start_time": "2022-03-21T18:43:17.781Z"
   },
   {
    "duration": 443,
    "start_time": "2022-03-21T18:46:01.049Z"
   },
   {
    "duration": 34,
    "start_time": "2022-03-21T18:46:15.691Z"
   },
   {
    "duration": 24,
    "start_time": "2022-03-21T18:46:33.692Z"
   },
   {
    "duration": 20,
    "start_time": "2022-03-21T18:46:44.400Z"
   },
   {
    "duration": 6,
    "start_time": "2022-03-21T18:46:50.350Z"
   },
   {
    "duration": 120,
    "start_time": "2022-03-21T18:46:50.360Z"
   },
   {
    "duration": 20,
    "start_time": "2022-03-21T18:46:50.483Z"
   },
   {
    "duration": 21,
    "start_time": "2022-03-21T18:46:50.505Z"
   },
   {
    "duration": 50,
    "start_time": "2022-03-21T18:46:50.530Z"
   },
   {
    "duration": 26,
    "start_time": "2022-03-21T18:46:50.583Z"
   },
   {
    "duration": 21,
    "start_time": "2022-03-21T18:46:50.611Z"
   },
   {
    "duration": 53,
    "start_time": "2022-03-21T18:46:50.635Z"
   },
   {
    "duration": 18,
    "start_time": "2022-03-21T18:46:50.690Z"
   },
   {
    "duration": 70,
    "start_time": "2022-03-21T18:46:50.710Z"
   },
   {
    "duration": 38,
    "start_time": "2022-03-21T18:46:50.782Z"
   },
   {
    "duration": 39,
    "start_time": "2022-03-21T18:46:50.823Z"
   },
   {
    "duration": 48,
    "start_time": "2022-03-21T18:46:50.864Z"
   },
   {
    "duration": 10,
    "start_time": "2022-03-21T18:46:50.919Z"
   },
   {
    "duration": 52,
    "start_time": "2022-03-21T18:46:50.931Z"
   },
   {
    "duration": 427,
    "start_time": "2022-03-21T18:46:50.986Z"
   },
   {
    "duration": 17,
    "start_time": "2022-03-21T18:46:51.415Z"
   },
   {
    "duration": 14,
    "start_time": "2022-03-21T18:46:51.434Z"
   },
   {
    "duration": 225,
    "start_time": "2022-03-21T18:46:51.451Z"
   },
   {
    "duration": 28,
    "start_time": "2022-03-21T18:46:51.678Z"
   },
   {
    "duration": 29,
    "start_time": "2022-03-21T18:46:51.709Z"
   },
   {
    "duration": 350,
    "start_time": "2022-03-21T18:46:51.740Z"
   },
   {
    "duration": 41,
    "start_time": "2022-03-21T18:46:52.092Z"
   },
   {
    "duration": 39,
    "start_time": "2022-03-21T18:46:52.136Z"
   },
   {
    "duration": 29,
    "start_time": "2022-03-21T18:46:52.178Z"
   },
   {
    "duration": 318,
    "start_time": "2022-03-21T18:46:52.210Z"
   },
   {
    "duration": 426,
    "start_time": "2022-03-21T18:46:52.530Z"
   },
   {
    "duration": 73,
    "start_time": "2022-03-21T18:46:52.959Z"
   },
   {
    "duration": 16,
    "start_time": "2022-03-21T18:46:53.034Z"
   },
   {
    "duration": 390,
    "start_time": "2022-03-21T18:46:53.053Z"
   },
   {
    "duration": 64,
    "start_time": "2022-03-21T18:46:53.445Z"
   },
   {
    "duration": 29,
    "start_time": "2022-03-21T18:46:53.511Z"
   },
   {
    "duration": 320,
    "start_time": "2022-03-21T18:46:53.543Z"
   },
   {
    "duration": 842,
    "start_time": "2022-03-21T18:46:53.873Z"
   },
   {
    "duration": 17,
    "start_time": "2022-03-21T18:46:54.717Z"
   },
   {
    "duration": 19,
    "start_time": "2022-03-21T18:46:54.736Z"
   },
   {
    "duration": 39,
    "start_time": "2022-03-21T18:46:54.757Z"
   },
   {
    "duration": 15,
    "start_time": "2022-03-21T18:46:54.799Z"
   },
   {
    "duration": 13,
    "start_time": "2022-03-21T18:46:54.817Z"
   },
   {
    "duration": 399,
    "start_time": "2022-03-21T18:46:54.832Z"
   },
   {
    "duration": 377,
    "start_time": "2022-03-21T18:46:55.237Z"
   },
   {
    "duration": 426,
    "start_time": "2022-03-21T18:46:55.616Z"
   },
   {
    "duration": 12,
    "start_time": "2022-03-21T18:46:56.044Z"
   },
   {
    "duration": 17,
    "start_time": "2022-03-21T18:53:10.756Z"
   },
   {
    "duration": 19,
    "start_time": "2022-03-21T18:53:56.689Z"
   },
   {
    "duration": 17,
    "start_time": "2022-03-21T18:54:20.546Z"
   },
   {
    "duration": 22,
    "start_time": "2022-03-21T18:54:24.629Z"
   },
   {
    "duration": 4,
    "start_time": "2022-03-21T18:55:09.570Z"
   },
   {
    "duration": 116,
    "start_time": "2022-03-21T18:55:09.578Z"
   },
   {
    "duration": 21,
    "start_time": "2022-03-21T18:55:09.697Z"
   },
   {
    "duration": 51,
    "start_time": "2022-03-21T18:55:09.722Z"
   },
   {
    "duration": 15,
    "start_time": "2022-03-21T18:55:09.775Z"
   },
   {
    "duration": 26,
    "start_time": "2022-03-21T18:55:09.793Z"
   },
   {
    "duration": 54,
    "start_time": "2022-03-21T18:55:09.821Z"
   },
   {
    "duration": 22,
    "start_time": "2022-03-21T18:55:09.877Z"
   },
   {
    "duration": 20,
    "start_time": "2022-03-21T18:55:09.901Z"
   },
   {
    "duration": 75,
    "start_time": "2022-03-21T18:55:09.927Z"
   },
   {
    "duration": 16,
    "start_time": "2022-03-21T18:55:10.005Z"
   },
   {
    "duration": 22,
    "start_time": "2022-03-21T18:55:10.023Z"
   },
   {
    "duration": 34,
    "start_time": "2022-03-21T18:55:10.047Z"
   },
   {
    "duration": 32,
    "start_time": "2022-03-21T18:55:10.083Z"
   },
   {
    "duration": 9,
    "start_time": "2022-03-21T18:55:10.118Z"
   },
   {
    "duration": 46,
    "start_time": "2022-03-21T18:55:10.129Z"
   },
   {
    "duration": 306,
    "start_time": "2022-03-21T18:55:10.178Z"
   },
   {
    "duration": 14,
    "start_time": "2022-03-21T18:55:10.486Z"
   },
   {
    "duration": 9,
    "start_time": "2022-03-21T18:55:10.502Z"
   },
   {
    "duration": 208,
    "start_time": "2022-03-21T18:55:10.513Z"
   },
   {
    "duration": 27,
    "start_time": "2022-03-21T18:55:10.723Z"
   },
   {
    "duration": 28,
    "start_time": "2022-03-21T18:55:10.752Z"
   },
   {
    "duration": 319,
    "start_time": "2022-03-21T18:55:10.782Z"
   },
   {
    "duration": 31,
    "start_time": "2022-03-21T18:55:11.103Z"
   },
   {
    "duration": 37,
    "start_time": "2022-03-21T18:55:11.136Z"
   },
   {
    "duration": 20,
    "start_time": "2022-03-21T18:55:11.176Z"
   },
   {
    "duration": 214,
    "start_time": "2022-03-21T18:55:11.198Z"
   },
   {
    "duration": 425,
    "start_time": "2022-03-21T18:55:11.417Z"
   },
   {
    "duration": 65,
    "start_time": "2022-03-21T18:55:11.844Z"
   },
   {
    "duration": 18,
    "start_time": "2022-03-21T18:55:11.911Z"
   },
   {
    "duration": 411,
    "start_time": "2022-03-21T18:55:11.931Z"
   },
   {
    "duration": 52,
    "start_time": "2022-03-21T18:55:12.344Z"
   },
   {
    "duration": 27,
    "start_time": "2022-03-21T18:55:12.399Z"
   },
   {
    "duration": 316,
    "start_time": "2022-03-21T18:55:12.429Z"
   },
   {
    "duration": 1264,
    "start_time": "2022-03-21T18:55:12.748Z"
   },
   {
    "duration": 20,
    "start_time": "2022-03-21T18:55:14.015Z"
   },
   {
    "duration": 40,
    "start_time": "2022-03-21T18:55:14.038Z"
   },
   {
    "duration": 40,
    "start_time": "2022-03-21T18:55:14.080Z"
   },
   {
    "duration": 22,
    "start_time": "2022-03-21T18:55:14.122Z"
   },
   {
    "duration": 28,
    "start_time": "2022-03-21T18:55:14.147Z"
   },
   {
    "duration": 307,
    "start_time": "2022-03-21T18:55:14.178Z"
   },
   {
    "duration": 319,
    "start_time": "2022-03-21T18:55:14.487Z"
   },
   {
    "duration": 439,
    "start_time": "2022-03-21T18:55:14.808Z"
   },
   {
    "duration": 25,
    "start_time": "2022-03-21T18:55:15.250Z"
   },
   {
    "duration": 121,
    "start_time": "2022-03-21T18:56:53.286Z"
   },
   {
    "duration": 5,
    "start_time": "2022-03-21T18:57:06.804Z"
   },
   {
    "duration": 72,
    "start_time": "2022-03-21T18:57:06.811Z"
   },
   {
    "duration": 19,
    "start_time": "2022-03-21T18:57:06.885Z"
   },
   {
    "duration": 13,
    "start_time": "2022-03-21T18:57:06.907Z"
   },
   {
    "duration": 56,
    "start_time": "2022-03-21T18:57:06.923Z"
   },
   {
    "duration": 27,
    "start_time": "2022-03-21T18:57:06.982Z"
   },
   {
    "duration": 28,
    "start_time": "2022-03-21T18:57:07.013Z"
   },
   {
    "duration": 53,
    "start_time": "2022-03-21T18:57:07.044Z"
   },
   {
    "duration": 21,
    "start_time": "2022-03-21T18:57:07.101Z"
   },
   {
    "duration": 91,
    "start_time": "2022-03-21T18:57:07.126Z"
   },
   {
    "duration": 18,
    "start_time": "2022-03-21T18:57:07.220Z"
   },
   {
    "duration": 42,
    "start_time": "2022-03-21T18:57:07.240Z"
   },
   {
    "duration": 11,
    "start_time": "2022-03-21T18:57:07.285Z"
   },
   {
    "duration": 19,
    "start_time": "2022-03-21T18:57:07.299Z"
   },
   {
    "duration": 7,
    "start_time": "2022-03-21T18:57:07.320Z"
   },
   {
    "duration": 54,
    "start_time": "2022-03-21T18:57:07.329Z"
   },
   {
    "duration": 311,
    "start_time": "2022-03-21T18:57:07.385Z"
   },
   {
    "duration": 14,
    "start_time": "2022-03-21T18:57:07.698Z"
   },
   {
    "duration": 10,
    "start_time": "2022-03-21T18:57:07.715Z"
   },
   {
    "duration": 235,
    "start_time": "2022-03-21T18:57:07.728Z"
   },
   {
    "duration": 34,
    "start_time": "2022-03-21T18:57:07.965Z"
   },
   {
    "duration": 12,
    "start_time": "2022-03-21T18:57:08.001Z"
   },
   {
    "duration": 345,
    "start_time": "2022-03-21T18:57:08.016Z"
   },
   {
    "duration": 32,
    "start_time": "2022-03-21T18:57:08.372Z"
   },
   {
    "duration": 16,
    "start_time": "2022-03-21T18:57:08.406Z"
   },
   {
    "duration": 25,
    "start_time": "2022-03-21T18:57:08.425Z"
   },
   {
    "duration": 339,
    "start_time": "2022-03-21T18:57:08.475Z"
   },
   {
    "duration": 418,
    "start_time": "2022-03-21T18:57:08.821Z"
   },
   {
    "duration": 72,
    "start_time": "2022-03-21T18:57:09.242Z"
   },
   {
    "duration": 19,
    "start_time": "2022-03-21T18:57:09.316Z"
   },
   {
    "duration": 319,
    "start_time": "2022-03-21T18:57:09.337Z"
   },
   {
    "duration": 45,
    "start_time": "2022-03-21T18:57:09.658Z"
   },
   {
    "duration": 26,
    "start_time": "2022-03-21T18:57:09.706Z"
   },
   {
    "duration": 316,
    "start_time": "2022-03-21T18:57:09.734Z"
   },
   {
    "duration": 783,
    "start_time": "2022-03-21T18:57:10.052Z"
   },
   {
    "duration": 20,
    "start_time": "2022-03-21T18:57:10.837Z"
   },
   {
    "duration": 22,
    "start_time": "2022-03-21T18:57:10.860Z"
   },
   {
    "duration": 28,
    "start_time": "2022-03-21T18:57:10.884Z"
   },
   {
    "duration": 16,
    "start_time": "2022-03-21T18:57:10.914Z"
   },
   {
    "duration": 7,
    "start_time": "2022-03-21T18:57:10.932Z"
   },
   {
    "duration": 215,
    "start_time": "2022-03-21T18:57:10.941Z"
   },
   {
    "duration": 290,
    "start_time": "2022-03-21T18:57:11.158Z"
   },
   {
    "duration": 425,
    "start_time": "2022-03-21T18:57:11.451Z"
   },
   {
    "duration": 11,
    "start_time": "2022-03-21T18:57:11.879Z"
   },
   {
    "duration": 41,
    "start_time": "2022-03-21T18:59:12.676Z"
   },
   {
    "duration": 29,
    "start_time": "2022-03-21T18:59:13.262Z"
   },
   {
    "duration": 5,
    "start_time": "2022-03-21T18:59:21.888Z"
   },
   {
    "duration": 87,
    "start_time": "2022-03-21T18:59:21.896Z"
   },
   {
    "duration": 19,
    "start_time": "2022-03-21T18:59:21.985Z"
   },
   {
    "duration": 15,
    "start_time": "2022-03-21T18:59:22.007Z"
   },
   {
    "duration": 56,
    "start_time": "2022-03-21T18:59:22.024Z"
   },
   {
    "duration": 26,
    "start_time": "2022-03-21T18:59:22.082Z"
   },
   {
    "duration": 65,
    "start_time": "2022-03-21T18:59:22.111Z"
   },
   {
    "duration": 27,
    "start_time": "2022-03-21T18:59:22.179Z"
   },
   {
    "duration": 20,
    "start_time": "2022-03-21T18:59:22.209Z"
   },
   {
    "duration": 50,
    "start_time": "2022-03-21T18:59:22.233Z"
   },
   {
    "duration": 14,
    "start_time": "2022-03-21T18:59:22.285Z"
   },
   {
    "duration": 20,
    "start_time": "2022-03-21T18:59:22.301Z"
   },
   {
    "duration": 7,
    "start_time": "2022-03-21T18:59:22.323Z"
   },
   {
    "duration": 57,
    "start_time": "2022-03-21T18:59:22.332Z"
   },
   {
    "duration": 5,
    "start_time": "2022-03-21T18:59:22.391Z"
   },
   {
    "duration": 14,
    "start_time": "2022-03-21T18:59:22.398Z"
   },
   {
    "duration": 312,
    "start_time": "2022-03-21T18:59:22.415Z"
   },
   {
    "duration": 14,
    "start_time": "2022-03-21T18:59:22.730Z"
   },
   {
    "duration": 29,
    "start_time": "2022-03-21T18:59:22.746Z"
   },
   {
    "duration": 184,
    "start_time": "2022-03-21T18:59:22.778Z"
   },
   {
    "duration": 31,
    "start_time": "2022-03-21T18:59:22.964Z"
   },
   {
    "duration": 10,
    "start_time": "2022-03-21T18:59:22.997Z"
   },
   {
    "duration": 333,
    "start_time": "2022-03-21T18:59:23.010Z"
   },
   {
    "duration": 41,
    "start_time": "2022-03-21T18:59:23.346Z"
   },
   {
    "duration": 14,
    "start_time": "2022-03-21T18:59:23.389Z"
   },
   {
    "duration": 19,
    "start_time": "2022-03-21T18:59:23.405Z"
   },
   {
    "duration": 336,
    "start_time": "2022-03-21T18:59:23.426Z"
   },
   {
    "duration": 441,
    "start_time": "2022-03-21T18:59:23.768Z"
   },
   {
    "duration": 64,
    "start_time": "2022-03-21T18:59:24.212Z"
   },
   {
    "duration": 18,
    "start_time": "2022-03-21T18:59:24.279Z"
   },
   {
    "duration": 320,
    "start_time": "2022-03-21T18:59:24.299Z"
   },
   {
    "duration": 52,
    "start_time": "2022-03-21T18:59:24.622Z"
   },
   {
    "duration": 38,
    "start_time": "2022-03-21T18:59:24.677Z"
   },
   {
    "duration": 415,
    "start_time": "2022-03-21T18:59:24.717Z"
   },
   {
    "duration": 695,
    "start_time": "2022-03-21T18:59:25.135Z"
   },
   {
    "duration": 18,
    "start_time": "2022-03-21T18:59:25.832Z"
   },
   {
    "duration": 21,
    "start_time": "2022-03-21T18:59:25.852Z"
   },
   {
    "duration": 28,
    "start_time": "2022-03-21T18:59:25.875Z"
   },
   {
    "duration": 16,
    "start_time": "2022-03-21T18:59:25.905Z"
   },
   {
    "duration": 6,
    "start_time": "2022-03-21T18:59:25.924Z"
   },
   {
    "duration": 214,
    "start_time": "2022-03-21T18:59:25.933Z"
   },
   {
    "duration": 302,
    "start_time": "2022-03-21T18:59:26.149Z"
   },
   {
    "duration": 420,
    "start_time": "2022-03-21T18:59:26.453Z"
   },
   {
    "duration": 12,
    "start_time": "2022-03-21T18:59:26.876Z"
   },
   {
    "duration": 136,
    "start_time": "2022-03-21T19:00:08.326Z"
   },
   {
    "duration": 6,
    "start_time": "2022-03-21T19:05:01.572Z"
   },
   {
    "duration": 95,
    "start_time": "2022-03-21T19:05:01.580Z"
   },
   {
    "duration": 20,
    "start_time": "2022-03-21T19:05:01.678Z"
   },
   {
    "duration": 17,
    "start_time": "2022-03-21T19:05:01.700Z"
   },
   {
    "duration": 15,
    "start_time": "2022-03-21T19:05:01.720Z"
   },
   {
    "duration": 59,
    "start_time": "2022-03-21T19:05:01.737Z"
   },
   {
    "duration": 40,
    "start_time": "2022-03-21T19:05:01.799Z"
   },
   {
    "duration": 55,
    "start_time": "2022-03-21T19:05:01.841Z"
   },
   {
    "duration": 21,
    "start_time": "2022-03-21T19:05:01.898Z"
   },
   {
    "duration": 32,
    "start_time": "2022-03-21T19:05:01.921Z"
   },
   {
    "duration": 41,
    "start_time": "2022-03-21T19:05:01.955Z"
   },
   {
    "duration": 33,
    "start_time": "2022-03-21T19:05:01.998Z"
   },
   {
    "duration": 19,
    "start_time": "2022-03-21T19:05:02.034Z"
   },
   {
    "duration": 36,
    "start_time": "2022-03-21T19:05:02.058Z"
   },
   {
    "duration": 11,
    "start_time": "2022-03-21T19:05:02.097Z"
   },
   {
    "duration": 45,
    "start_time": "2022-03-21T19:05:02.111Z"
   },
   {
    "duration": 295,
    "start_time": "2022-03-21T19:05:02.158Z"
   },
   {
    "duration": 24,
    "start_time": "2022-03-21T19:05:02.456Z"
   },
   {
    "duration": 9,
    "start_time": "2022-03-21T19:05:02.483Z"
   },
   {
    "duration": 202,
    "start_time": "2022-03-21T19:05:02.494Z"
   },
   {
    "duration": 27,
    "start_time": "2022-03-21T19:05:02.698Z"
   },
   {
    "duration": 10,
    "start_time": "2022-03-21T19:05:02.728Z"
   },
   {
    "duration": 426,
    "start_time": "2022-03-21T19:05:02.740Z"
   },
   {
    "duration": 29,
    "start_time": "2022-03-21T19:05:03.173Z"
   },
   {
    "duration": 14,
    "start_time": "2022-03-21T19:05:03.205Z"
   },
   {
    "duration": 38,
    "start_time": "2022-03-21T19:05:03.222Z"
   },
   {
    "duration": 218,
    "start_time": "2022-03-21T19:05:03.262Z"
   },
   {
    "duration": 421,
    "start_time": "2022-03-21T19:05:03.483Z"
   },
   {
    "duration": 50,
    "start_time": "2022-03-21T19:05:03.907Z"
   },
   {
    "duration": 18,
    "start_time": "2022-03-21T19:05:03.973Z"
   },
   {
    "duration": 297,
    "start_time": "2022-03-21T19:05:03.993Z"
   },
   {
    "duration": 40,
    "start_time": "2022-03-21T19:05:04.292Z"
   },
   {
    "duration": 57,
    "start_time": "2022-03-21T19:05:04.335Z"
   },
   {
    "duration": 298,
    "start_time": "2022-03-21T19:05:04.395Z"
   },
   {
    "duration": 1279,
    "start_time": "2022-03-21T19:05:04.695Z"
   },
   {
    "duration": 19,
    "start_time": "2022-03-21T19:05:05.976Z"
   },
   {
    "duration": 21,
    "start_time": "2022-03-21T19:05:05.997Z"
   },
   {
    "duration": 55,
    "start_time": "2022-03-21T19:05:06.020Z"
   },
   {
    "duration": 16,
    "start_time": "2022-03-21T19:05:06.077Z"
   },
   {
    "duration": 5,
    "start_time": "2022-03-21T19:05:06.095Z"
   },
   {
    "duration": 200,
    "start_time": "2022-03-21T19:05:06.106Z"
   },
   {
    "duration": 307,
    "start_time": "2022-03-21T19:05:06.309Z"
   },
   {
    "duration": 418,
    "start_time": "2022-03-21T19:05:06.619Z"
   },
   {
    "duration": 13,
    "start_time": "2022-03-21T19:05:07.039Z"
   },
   {
    "duration": 75,
    "start_time": "2022-03-21T19:10:24.874Z"
   },
   {
    "duration": 73,
    "start_time": "2022-03-21T19:10:45.271Z"
   },
   {
    "duration": 122,
    "start_time": "2022-03-21T19:10:55.944Z"
   },
   {
    "duration": 340,
    "start_time": "2022-03-21T19:11:05.161Z"
   },
   {
    "duration": 5,
    "start_time": "2022-03-21T19:11:10.491Z"
   },
   {
    "duration": 83,
    "start_time": "2022-03-21T19:11:10.499Z"
   },
   {
    "duration": 20,
    "start_time": "2022-03-21T19:11:10.584Z"
   },
   {
    "duration": 14,
    "start_time": "2022-03-21T19:11:10.606Z"
   },
   {
    "duration": 20,
    "start_time": "2022-03-21T19:11:10.623Z"
   },
   {
    "duration": 56,
    "start_time": "2022-03-21T19:11:10.644Z"
   },
   {
    "duration": 44,
    "start_time": "2022-03-21T19:11:10.703Z"
   },
   {
    "duration": 29,
    "start_time": "2022-03-21T19:11:10.775Z"
   },
   {
    "duration": 22,
    "start_time": "2022-03-21T19:11:10.807Z"
   },
   {
    "duration": 50,
    "start_time": "2022-03-21T19:11:10.832Z"
   },
   {
    "duration": 15,
    "start_time": "2022-03-21T19:11:10.885Z"
   },
   {
    "duration": 18,
    "start_time": "2022-03-21T19:11:10.902Z"
   },
   {
    "duration": 7,
    "start_time": "2022-03-21T19:11:10.925Z"
   },
   {
    "duration": 23,
    "start_time": "2022-03-21T19:11:10.975Z"
   },
   {
    "duration": 7,
    "start_time": "2022-03-21T19:11:11.000Z"
   },
   {
    "duration": 15,
    "start_time": "2022-03-21T19:11:11.009Z"
   },
   {
    "duration": 337,
    "start_time": "2022-03-21T19:11:11.026Z"
   },
   {
    "duration": 18,
    "start_time": "2022-03-21T19:11:11.365Z"
   },
   {
    "duration": 8,
    "start_time": "2022-03-21T19:11:11.386Z"
   },
   {
    "duration": 192,
    "start_time": "2022-03-21T19:11:11.396Z"
   },
   {
    "duration": 27,
    "start_time": "2022-03-21T19:11:11.590Z"
   },
   {
    "duration": 11,
    "start_time": "2022-03-21T19:11:11.619Z"
   },
   {
    "duration": 324,
    "start_time": "2022-03-21T19:11:11.632Z"
   },
   {
    "duration": 38,
    "start_time": "2022-03-21T19:11:11.959Z"
   },
   {
    "duration": 14,
    "start_time": "2022-03-21T19:11:11.999Z"
   },
   {
    "duration": 22,
    "start_time": "2022-03-21T19:11:12.015Z"
   },
   {
    "duration": 222,
    "start_time": "2022-03-21T19:11:12.040Z"
   },
   {
    "duration": 413,
    "start_time": "2022-03-21T19:11:12.264Z"
   },
   {
    "duration": 51,
    "start_time": "2022-03-21T19:11:12.679Z"
   },
   {
    "duration": 18,
    "start_time": "2022-03-21T19:11:12.733Z"
   },
   {
    "duration": 307,
    "start_time": "2022-03-21T19:11:12.774Z"
   },
   {
    "duration": 39,
    "start_time": "2022-03-21T19:11:13.084Z"
   },
   {
    "duration": 51,
    "start_time": "2022-03-21T19:11:13.125Z"
   },
   {
    "duration": 321,
    "start_time": "2022-03-21T19:11:13.178Z"
   },
   {
    "duration": 1505,
    "start_time": "2022-03-21T19:11:13.501Z"
   },
   {
    "duration": 19,
    "start_time": "2022-03-21T19:11:15.008Z"
   },
   {
    "duration": 22,
    "start_time": "2022-03-21T19:11:15.034Z"
   },
   {
    "duration": 29,
    "start_time": "2022-03-21T19:11:15.074Z"
   },
   {
    "duration": 18,
    "start_time": "2022-03-21T19:11:15.106Z"
   },
   {
    "duration": 48,
    "start_time": "2022-03-21T19:11:15.126Z"
   },
   {
    "duration": 183,
    "start_time": "2022-03-21T19:11:15.176Z"
   },
   {
    "duration": 396,
    "start_time": "2022-03-21T19:11:15.362Z"
   },
   {
    "duration": 407,
    "start_time": "2022-03-21T19:11:15.760Z"
   },
   {
    "duration": 15,
    "start_time": "2022-03-21T19:11:16.169Z"
   },
   {
    "duration": 126,
    "start_time": "2022-03-21T19:12:09.821Z"
   },
   {
    "duration": 8,
    "start_time": "2022-03-21T19:12:30.262Z"
   },
   {
    "duration": 7,
    "start_time": "2022-03-21T19:12:36.175Z"
   },
   {
    "duration": 119,
    "start_time": "2022-03-21T19:13:02.550Z"
   },
   {
    "duration": 6,
    "start_time": "2022-03-21T19:13:20.585Z"
   },
   {
    "duration": 7,
    "start_time": "2022-03-21T19:13:28.287Z"
   },
   {
    "duration": 188,
    "start_time": "2022-03-21T19:14:17.889Z"
   },
   {
    "duration": 20,
    "start_time": "2022-03-21T19:15:34.351Z"
   },
   {
    "duration": 20,
    "start_time": "2022-03-21T19:15:45.619Z"
   },
   {
    "duration": 6,
    "start_time": "2022-03-21T19:16:01.654Z"
   },
   {
    "duration": 82,
    "start_time": "2022-03-21T19:16:01.664Z"
   },
   {
    "duration": 39,
    "start_time": "2022-03-21T19:16:01.749Z"
   },
   {
    "duration": 24,
    "start_time": "2022-03-21T19:16:01.791Z"
   },
   {
    "duration": 15,
    "start_time": "2022-03-21T19:16:01.818Z"
   },
   {
    "duration": 61,
    "start_time": "2022-03-21T19:16:01.835Z"
   },
   {
    "duration": 42,
    "start_time": "2022-03-21T19:16:01.899Z"
   },
   {
    "duration": 49,
    "start_time": "2022-03-21T19:16:01.943Z"
   },
   {
    "duration": 21,
    "start_time": "2022-03-21T19:16:01.994Z"
   },
   {
    "duration": 19,
    "start_time": "2022-03-21T19:16:02.017Z"
   },
   {
    "duration": 45,
    "start_time": "2022-03-21T19:16:02.038Z"
   },
   {
    "duration": 27,
    "start_time": "2022-03-21T19:16:02.085Z"
   },
   {
    "duration": 7,
    "start_time": "2022-03-21T19:16:02.117Z"
   },
   {
    "duration": 20,
    "start_time": "2022-03-21T19:16:02.126Z"
   },
   {
    "duration": 6,
    "start_time": "2022-03-21T19:16:02.174Z"
   },
   {
    "duration": 13,
    "start_time": "2022-03-21T19:16:02.182Z"
   },
   {
    "duration": 315,
    "start_time": "2022-03-21T19:16:02.197Z"
   },
   {
    "duration": 16,
    "start_time": "2022-03-21T19:16:02.515Z"
   },
   {
    "duration": 9,
    "start_time": "2022-03-21T19:16:02.533Z"
   },
   {
    "duration": 205,
    "start_time": "2022-03-21T19:16:02.544Z"
   },
   {
    "duration": 38,
    "start_time": "2022-03-21T19:16:02.751Z"
   },
   {
    "duration": 11,
    "start_time": "2022-03-21T19:16:02.791Z"
   },
   {
    "duration": 320,
    "start_time": "2022-03-21T19:16:02.805Z"
   },
   {
    "duration": 57,
    "start_time": "2022-03-21T19:16:03.127Z"
   },
   {
    "duration": 13,
    "start_time": "2022-03-21T19:16:03.187Z"
   },
   {
    "duration": 23,
    "start_time": "2022-03-21T19:16:03.203Z"
   },
   {
    "duration": 238,
    "start_time": "2022-03-21T19:16:03.228Z"
   },
   {
    "duration": 566,
    "start_time": "2022-03-21T19:16:03.468Z"
   },
   {
    "duration": 71,
    "start_time": "2022-03-21T19:16:04.038Z"
   },
   {
    "duration": 20,
    "start_time": "2022-03-21T19:16:04.111Z"
   },
   {
    "duration": 312,
    "start_time": "2022-03-21T19:16:04.133Z"
   },
   {
    "duration": 53,
    "start_time": "2022-03-21T19:16:04.447Z"
   },
   {
    "duration": 29,
    "start_time": "2022-03-21T19:16:04.503Z"
   },
   {
    "duration": 515,
    "start_time": "2022-03-21T19:16:04.535Z"
   },
   {
    "duration": 761,
    "start_time": "2022-03-21T19:16:05.053Z"
   },
   {
    "duration": 19,
    "start_time": "2022-03-21T19:16:05.816Z"
   },
   {
    "duration": 33,
    "start_time": "2022-03-21T19:16:05.843Z"
   },
   {
    "duration": 31,
    "start_time": "2022-03-21T19:16:05.878Z"
   },
   {
    "duration": 21,
    "start_time": "2022-03-21T19:16:05.912Z"
   },
   {
    "duration": 40,
    "start_time": "2022-03-21T19:16:05.936Z"
   },
   {
    "duration": 198,
    "start_time": "2022-03-21T19:16:05.979Z"
   },
   {
    "duration": 303,
    "start_time": "2022-03-21T19:16:06.179Z"
   },
   {
    "duration": 418,
    "start_time": "2022-03-21T19:16:06.484Z"
   },
   {
    "duration": 11,
    "start_time": "2022-03-21T19:16:06.905Z"
   },
   {
    "duration": 25,
    "start_time": "2022-03-21T19:33:47.493Z"
   },
   {
    "duration": 26,
    "start_time": "2022-03-21T19:33:56.511Z"
   },
   {
    "duration": 23,
    "start_time": "2022-03-21T19:34:05.373Z"
   },
   {
    "duration": 5,
    "start_time": "2022-03-21T19:34:08.071Z"
   },
   {
    "duration": 101,
    "start_time": "2022-03-21T19:34:08.079Z"
   },
   {
    "duration": 19,
    "start_time": "2022-03-21T19:34:08.183Z"
   },
   {
    "duration": 17,
    "start_time": "2022-03-21T19:34:08.204Z"
   },
   {
    "duration": 49,
    "start_time": "2022-03-21T19:34:08.225Z"
   },
   {
    "duration": 27,
    "start_time": "2022-03-21T19:34:08.276Z"
   },
   {
    "duration": 42,
    "start_time": "2022-03-21T19:34:08.305Z"
   },
   {
    "duration": 50,
    "start_time": "2022-03-21T19:34:08.349Z"
   },
   {
    "duration": 21,
    "start_time": "2022-03-21T19:34:08.402Z"
   },
   {
    "duration": 53,
    "start_time": "2022-03-21T19:34:08.425Z"
   },
   {
    "duration": 13,
    "start_time": "2022-03-21T19:34:08.481Z"
   },
   {
    "duration": 21,
    "start_time": "2022-03-21T19:34:08.497Z"
   },
   {
    "duration": 8,
    "start_time": "2022-03-21T19:34:08.521Z"
   },
   {
    "duration": 57,
    "start_time": "2022-03-21T19:34:08.535Z"
   },
   {
    "duration": 6,
    "start_time": "2022-03-21T19:34:08.594Z"
   },
   {
    "duration": 13,
    "start_time": "2022-03-21T19:34:08.602Z"
   },
   {
    "duration": 317,
    "start_time": "2022-03-21T19:34:08.617Z"
   },
   {
    "duration": 14,
    "start_time": "2022-03-21T19:34:08.936Z"
   },
   {
    "duration": 23,
    "start_time": "2022-03-21T19:34:08.952Z"
   },
   {
    "duration": 192,
    "start_time": "2022-03-21T19:34:08.977Z"
   },
   {
    "duration": 26,
    "start_time": "2022-03-21T19:34:09.174Z"
   },
   {
    "duration": 10,
    "start_time": "2022-03-21T19:34:09.203Z"
   },
   {
    "duration": 329,
    "start_time": "2022-03-21T19:34:09.216Z"
   },
   {
    "duration": 38,
    "start_time": "2022-03-21T19:34:09.547Z"
   },
   {
    "duration": 14,
    "start_time": "2022-03-21T19:34:09.587Z"
   },
   {
    "duration": 22,
    "start_time": "2022-03-21T19:34:09.602Z"
   },
   {
    "duration": 231,
    "start_time": "2022-03-21T19:34:09.626Z"
   },
   {
    "duration": 526,
    "start_time": "2022-03-21T19:34:09.859Z"
   },
   {
    "duration": 52,
    "start_time": "2022-03-21T19:34:10.388Z"
   },
   {
    "duration": 38,
    "start_time": "2022-03-21T19:34:10.443Z"
   },
   {
    "duration": 306,
    "start_time": "2022-03-21T19:34:10.484Z"
   },
   {
    "duration": 38,
    "start_time": "2022-03-21T19:34:10.793Z"
   },
   {
    "duration": 51,
    "start_time": "2022-03-21T19:34:10.833Z"
   },
   {
    "duration": 321,
    "start_time": "2022-03-21T19:34:10.886Z"
   },
   {
    "duration": 709,
    "start_time": "2022-03-21T19:34:11.210Z"
   },
   {
    "duration": 20,
    "start_time": "2022-03-21T19:34:11.922Z"
   },
   {
    "duration": 28,
    "start_time": "2022-03-21T19:34:11.945Z"
   },
   {
    "duration": 27,
    "start_time": "2022-03-21T19:34:11.976Z"
   },
   {
    "duration": 16,
    "start_time": "2022-03-21T19:34:12.005Z"
   },
   {
    "duration": 6,
    "start_time": "2022-03-21T19:34:12.023Z"
   },
   {
    "duration": 220,
    "start_time": "2022-03-21T19:34:12.034Z"
   },
   {
    "duration": 292,
    "start_time": "2022-03-21T19:34:12.256Z"
   },
   {
    "duration": 395,
    "start_time": "2022-03-21T19:34:12.551Z"
   },
   {
    "duration": 10,
    "start_time": "2022-03-21T19:34:12.949Z"
   },
   {
    "duration": 21,
    "start_time": "2022-03-21T19:35:18.211Z"
   },
   {
    "duration": 26,
    "start_time": "2022-03-21T19:35:26.860Z"
   },
   {
    "duration": 20,
    "start_time": "2022-03-21T19:36:07.434Z"
   },
   {
    "duration": 5,
    "start_time": "2022-03-21T19:36:21.153Z"
   },
   {
    "duration": 74,
    "start_time": "2022-03-21T19:36:21.160Z"
   },
   {
    "duration": 46,
    "start_time": "2022-03-21T19:36:21.236Z"
   },
   {
    "duration": 15,
    "start_time": "2022-03-21T19:36:21.285Z"
   },
   {
    "duration": 13,
    "start_time": "2022-03-21T19:36:21.302Z"
   },
   {
    "duration": 62,
    "start_time": "2022-03-21T19:36:21.317Z"
   },
   {
    "duration": 44,
    "start_time": "2022-03-21T19:36:21.381Z"
   },
   {
    "duration": 48,
    "start_time": "2022-03-21T19:36:21.427Z"
   },
   {
    "duration": 23,
    "start_time": "2022-03-21T19:36:21.477Z"
   },
   {
    "duration": 20,
    "start_time": "2022-03-21T19:36:21.504Z"
   },
   {
    "duration": 16,
    "start_time": "2022-03-21T19:36:21.527Z"
   },
   {
    "duration": 48,
    "start_time": "2022-03-21T19:36:21.545Z"
   },
   {
    "duration": 11,
    "start_time": "2022-03-21T19:36:21.596Z"
   },
   {
    "duration": 34,
    "start_time": "2022-03-21T19:36:21.609Z"
   },
   {
    "duration": 31,
    "start_time": "2022-03-21T19:36:21.646Z"
   },
   {
    "duration": 17,
    "start_time": "2022-03-21T19:36:21.680Z"
   },
   {
    "duration": 308,
    "start_time": "2022-03-21T19:36:21.699Z"
   },
   {
    "duration": 15,
    "start_time": "2022-03-21T19:36:22.009Z"
   },
   {
    "duration": 22,
    "start_time": "2022-03-21T19:36:22.026Z"
   },
   {
    "duration": 187,
    "start_time": "2022-03-21T19:36:22.050Z"
   },
   {
    "duration": 44,
    "start_time": "2022-03-21T19:36:22.240Z"
   },
   {
    "duration": 10,
    "start_time": "2022-03-21T19:36:22.287Z"
   },
   {
    "duration": 300,
    "start_time": "2022-03-21T19:36:22.300Z"
   },
   {
    "duration": 28,
    "start_time": "2022-03-21T19:36:22.603Z"
   },
   {
    "duration": 13,
    "start_time": "2022-03-21T19:36:22.634Z"
   },
   {
    "duration": 20,
    "start_time": "2022-03-21T19:36:22.674Z"
   },
   {
    "duration": 318,
    "start_time": "2022-03-21T19:36:22.697Z"
   },
   {
    "duration": 410,
    "start_time": "2022-03-21T19:36:23.020Z"
   },
   {
    "duration": 64,
    "start_time": "2022-03-21T19:36:23.432Z"
   },
   {
    "duration": 21,
    "start_time": "2022-03-21T19:36:23.498Z"
   },
   {
    "duration": 315,
    "start_time": "2022-03-21T19:36:23.521Z"
   },
   {
    "duration": 51,
    "start_time": "2022-03-21T19:36:23.838Z"
   },
   {
    "duration": 26,
    "start_time": "2022-03-21T19:36:23.891Z"
   },
   {
    "duration": 331,
    "start_time": "2022-03-21T19:36:23.919Z"
   },
   {
    "duration": 775,
    "start_time": "2022-03-21T19:36:24.252Z"
   },
   {
    "duration": 19,
    "start_time": "2022-03-21T19:36:25.029Z"
   },
   {
    "duration": 27,
    "start_time": "2022-03-21T19:36:25.051Z"
   },
   {
    "duration": 27,
    "start_time": "2022-03-21T19:36:25.080Z"
   },
   {
    "duration": 15,
    "start_time": "2022-03-21T19:36:25.110Z"
   },
   {
    "duration": 12,
    "start_time": "2022-03-21T19:36:25.127Z"
   },
   {
    "duration": 213,
    "start_time": "2022-03-21T19:36:25.142Z"
   },
   {
    "duration": 295,
    "start_time": "2022-03-21T19:36:25.357Z"
   },
   {
    "duration": 398,
    "start_time": "2022-03-21T19:36:25.655Z"
   },
   {
    "duration": 20,
    "start_time": "2022-03-21T19:36:26.055Z"
   },
   {
    "duration": 719,
    "start_time": "2022-03-21T19:38:49.787Z"
   },
   {
    "duration": 19,
    "start_time": "2022-03-21T19:38:55.586Z"
   },
   {
    "duration": 30,
    "start_time": "2022-03-21T19:41:29.979Z"
   },
   {
    "duration": 14,
    "start_time": "2022-03-21T19:41:42.499Z"
   },
   {
    "duration": 25,
    "start_time": "2022-03-21T19:41:54.739Z"
   },
   {
    "duration": 6,
    "start_time": "2022-03-21T19:41:58.391Z"
   },
   {
    "duration": 81,
    "start_time": "2022-03-21T19:41:58.399Z"
   },
   {
    "duration": 20,
    "start_time": "2022-03-21T19:41:58.482Z"
   },
   {
    "duration": 32,
    "start_time": "2022-03-21T19:41:58.505Z"
   },
   {
    "duration": 38,
    "start_time": "2022-03-21T19:41:58.539Z"
   },
   {
    "duration": 26,
    "start_time": "2022-03-21T19:41:58.579Z"
   },
   {
    "duration": 66,
    "start_time": "2022-03-21T19:41:58.608Z"
   },
   {
    "duration": 28,
    "start_time": "2022-03-21T19:41:58.677Z"
   },
   {
    "duration": 21,
    "start_time": "2022-03-21T19:41:58.707Z"
   },
   {
    "duration": 46,
    "start_time": "2022-03-21T19:41:58.732Z"
   },
   {
    "duration": 15,
    "start_time": "2022-03-21T19:41:58.780Z"
   },
   {
    "duration": 22,
    "start_time": "2022-03-21T19:41:58.797Z"
   },
   {
    "duration": 7,
    "start_time": "2022-03-21T19:41:58.822Z"
   },
   {
    "duration": 60,
    "start_time": "2022-03-21T19:41:58.831Z"
   },
   {
    "duration": 6,
    "start_time": "2022-03-21T19:41:58.893Z"
   },
   {
    "duration": 12,
    "start_time": "2022-03-21T19:41:58.901Z"
   },
   {
    "duration": 316,
    "start_time": "2022-03-21T19:41:58.915Z"
   },
   {
    "duration": 14,
    "start_time": "2022-03-21T19:41:59.234Z"
   },
   {
    "duration": 27,
    "start_time": "2022-03-21T19:41:59.250Z"
   },
   {
    "duration": 203,
    "start_time": "2022-03-21T19:41:59.279Z"
   },
   {
    "duration": 35,
    "start_time": "2022-03-21T19:41:59.484Z"
   },
   {
    "duration": 15,
    "start_time": "2022-03-21T19:41:59.522Z"
   },
   {
    "duration": 336,
    "start_time": "2022-03-21T19:41:59.540Z"
   },
   {
    "duration": 29,
    "start_time": "2022-03-21T19:41:59.879Z"
   },
   {
    "duration": 14,
    "start_time": "2022-03-21T19:41:59.911Z"
   },
   {
    "duration": 50,
    "start_time": "2022-03-21T19:41:59.927Z"
   },
   {
    "duration": 330,
    "start_time": "2022-03-21T19:41:59.980Z"
   },
   {
    "duration": 414,
    "start_time": "2022-03-21T19:42:00.317Z"
   },
   {
    "duration": 65,
    "start_time": "2022-03-21T19:42:00.733Z"
   },
   {
    "duration": 20,
    "start_time": "2022-03-21T19:42:00.799Z"
   },
   {
    "duration": 325,
    "start_time": "2022-03-21T19:42:00.821Z"
   },
   {
    "duration": 47,
    "start_time": "2022-03-21T19:42:01.148Z"
   },
   {
    "duration": 28,
    "start_time": "2022-03-21T19:42:01.197Z"
   },
   {
    "duration": 350,
    "start_time": "2022-03-21T19:42:01.227Z"
   },
   {
    "duration": 879,
    "start_time": "2022-03-21T19:42:01.579Z"
   },
   {
    "duration": 23,
    "start_time": "2022-03-21T19:42:02.461Z"
   },
   {
    "duration": 23,
    "start_time": "2022-03-21T19:42:02.486Z"
   },
   {
    "duration": 29,
    "start_time": "2022-03-21T19:42:02.511Z"
   },
   {
    "duration": 46,
    "start_time": "2022-03-21T19:42:02.542Z"
   },
   {
    "duration": 6,
    "start_time": "2022-03-21T19:42:02.590Z"
   },
   {
    "duration": 199,
    "start_time": "2022-03-21T19:42:02.599Z"
   },
   {
    "duration": 297,
    "start_time": "2022-03-21T19:42:02.801Z"
   },
   {
    "duration": 412,
    "start_time": "2022-03-21T19:42:03.100Z"
   },
   {
    "duration": 11,
    "start_time": "2022-03-21T19:42:03.514Z"
   },
   {
    "duration": 25,
    "start_time": "2022-03-21T19:42:28.082Z"
   },
   {
    "duration": 22,
    "start_time": "2022-03-21T19:42:41.879Z"
   },
   {
    "duration": 5,
    "start_time": "2022-03-21T19:42:57.057Z"
   },
   {
    "duration": 79,
    "start_time": "2022-03-21T19:42:57.065Z"
   },
   {
    "duration": 43,
    "start_time": "2022-03-21T19:42:57.146Z"
   },
   {
    "duration": 15,
    "start_time": "2022-03-21T19:42:57.192Z"
   },
   {
    "duration": 14,
    "start_time": "2022-03-21T19:42:57.210Z"
   },
   {
    "duration": 71,
    "start_time": "2022-03-21T19:42:57.226Z"
   },
   {
    "duration": 41,
    "start_time": "2022-03-21T19:42:57.298Z"
   },
   {
    "duration": 54,
    "start_time": "2022-03-21T19:42:57.341Z"
   },
   {
    "duration": 22,
    "start_time": "2022-03-21T19:42:57.397Z"
   },
   {
    "duration": 21,
    "start_time": "2022-03-21T19:42:57.421Z"
   },
   {
    "duration": 41,
    "start_time": "2022-03-21T19:42:57.445Z"
   },
   {
    "duration": 21,
    "start_time": "2022-03-21T19:42:57.489Z"
   },
   {
    "duration": 8,
    "start_time": "2022-03-21T19:42:57.512Z"
   },
   {
    "duration": 63,
    "start_time": "2022-03-21T19:42:57.528Z"
   },
   {
    "duration": 6,
    "start_time": "2022-03-21T19:42:57.594Z"
   },
   {
    "duration": 19,
    "start_time": "2022-03-21T19:42:57.603Z"
   },
   {
    "duration": 305,
    "start_time": "2022-03-21T19:42:57.625Z"
   },
   {
    "duration": 15,
    "start_time": "2022-03-21T19:42:57.932Z"
   },
   {
    "duration": 27,
    "start_time": "2022-03-21T19:42:57.949Z"
   },
   {
    "duration": 189,
    "start_time": "2022-03-21T19:42:57.978Z"
   },
   {
    "duration": 26,
    "start_time": "2022-03-21T19:42:58.170Z"
   },
   {
    "duration": 16,
    "start_time": "2022-03-21T19:42:58.198Z"
   },
   {
    "duration": 520,
    "start_time": "2022-03-21T19:42:58.216Z"
   },
   {
    "duration": 41,
    "start_time": "2022-03-21T19:42:58.738Z"
   },
   {
    "duration": 14,
    "start_time": "2022-03-21T19:42:58.781Z"
   },
   {
    "duration": 21,
    "start_time": "2022-03-21T19:42:58.797Z"
   },
   {
    "duration": 216,
    "start_time": "2022-03-21T19:42:58.820Z"
   },
   {
    "duration": 435,
    "start_time": "2022-03-21T19:42:59.038Z"
   },
   {
    "duration": 58,
    "start_time": "2022-03-21T19:42:59.476Z"
   },
   {
    "duration": 41,
    "start_time": "2022-03-21T19:42:59.537Z"
   },
   {
    "duration": 307,
    "start_time": "2022-03-21T19:42:59.581Z"
   },
   {
    "duration": 37,
    "start_time": "2022-03-21T19:42:59.890Z"
   },
   {
    "duration": 48,
    "start_time": "2022-03-21T19:42:59.930Z"
   },
   {
    "duration": 316,
    "start_time": "2022-03-21T19:42:59.980Z"
   },
   {
    "duration": 781,
    "start_time": "2022-03-21T19:43:00.299Z"
   },
   {
    "duration": 24,
    "start_time": "2022-03-21T19:43:01.082Z"
   },
   {
    "duration": 31,
    "start_time": "2022-03-21T19:43:01.108Z"
   },
   {
    "duration": 49,
    "start_time": "2022-03-21T19:43:01.142Z"
   },
   {
    "duration": 17,
    "start_time": "2022-03-21T19:43:01.193Z"
   },
   {
    "duration": 32,
    "start_time": "2022-03-21T19:43:01.212Z"
   },
   {
    "duration": 190,
    "start_time": "2022-03-21T19:43:01.250Z"
   },
   {
    "duration": 298,
    "start_time": "2022-03-21T19:43:01.442Z"
   },
   {
    "duration": 401,
    "start_time": "2022-03-21T19:43:01.743Z"
   },
   {
    "duration": 11,
    "start_time": "2022-03-21T19:43:02.146Z"
   },
   {
    "duration": 20,
    "start_time": "2022-03-21T19:43:40.609Z"
   },
   {
    "duration": 131,
    "start_time": "2022-03-21T19:46:08.835Z"
   },
   {
    "duration": 5,
    "start_time": "2022-03-21T19:46:27.009Z"
   },
   {
    "duration": 71,
    "start_time": "2022-03-21T19:46:27.017Z"
   },
   {
    "duration": 20,
    "start_time": "2022-03-21T19:46:27.090Z"
   },
   {
    "duration": 13,
    "start_time": "2022-03-21T19:46:27.112Z"
   },
   {
    "duration": 18,
    "start_time": "2022-03-21T19:46:27.173Z"
   },
   {
    "duration": 27,
    "start_time": "2022-03-21T19:46:27.195Z"
   },
   {
    "duration": 68,
    "start_time": "2022-03-21T19:46:27.224Z"
   },
   {
    "duration": 31,
    "start_time": "2022-03-21T19:46:27.295Z"
   },
   {
    "duration": 22,
    "start_time": "2022-03-21T19:46:27.328Z"
   },
   {
    "duration": 21,
    "start_time": "2022-03-21T19:46:27.374Z"
   },
   {
    "duration": 18,
    "start_time": "2022-03-21T19:46:27.397Z"
   },
   {
    "duration": 163,
    "start_time": "2022-03-21T19:46:27.417Z"
   },
   {
    "duration": 15,
    "start_time": "2022-03-21T19:46:27.583Z"
   },
   {
    "duration": 26,
    "start_time": "2022-03-21T19:46:27.602Z"
   },
   {
    "duration": 6,
    "start_time": "2022-03-21T19:46:27.631Z"
   },
   {
    "duration": 40,
    "start_time": "2022-03-21T19:46:27.640Z"
   },
   {
    "duration": 471,
    "start_time": "2022-03-21T19:46:27.683Z"
   },
   {
    "duration": 29,
    "start_time": "2022-03-21T19:46:28.157Z"
   },
   {
    "duration": 11,
    "start_time": "2022-03-21T19:46:28.189Z"
   },
   {
    "duration": 196,
    "start_time": "2022-03-21T19:46:28.203Z"
   },
   {
    "duration": 27,
    "start_time": "2022-03-21T19:46:28.401Z"
   },
   {
    "duration": 12,
    "start_time": "2022-03-21T19:46:28.430Z"
   },
   {
    "duration": 335,
    "start_time": "2022-03-21T19:46:28.443Z"
   },
   {
    "duration": 41,
    "start_time": "2022-03-21T19:46:28.781Z"
   },
   {
    "duration": 13,
    "start_time": "2022-03-21T19:46:28.825Z"
   },
   {
    "duration": 56,
    "start_time": "2022-03-21T19:46:28.840Z"
   },
   {
    "duration": 257,
    "start_time": "2022-03-21T19:46:28.898Z"
   },
   {
    "duration": 486,
    "start_time": "2022-03-21T19:46:29.157Z"
   },
   {
    "duration": 66,
    "start_time": "2022-03-21T19:46:29.645Z"
   },
   {
    "duration": 18,
    "start_time": "2022-03-21T19:46:29.713Z"
   },
   {
    "duration": 319,
    "start_time": "2022-03-21T19:46:29.733Z"
   },
   {
    "duration": 43,
    "start_time": "2022-03-21T19:46:30.055Z"
   },
   {
    "duration": 26,
    "start_time": "2022-03-21T19:46:30.100Z"
   },
   {
    "duration": 476,
    "start_time": "2022-03-21T19:46:30.129Z"
   },
   {
    "duration": 954,
    "start_time": "2022-03-21T19:46:30.607Z"
   },
   {
    "duration": 23,
    "start_time": "2022-03-21T19:46:31.564Z"
   },
   {
    "duration": 24,
    "start_time": "2022-03-21T19:46:31.589Z"
   },
   {
    "duration": 30,
    "start_time": "2022-03-21T19:46:31.615Z"
   },
   {
    "duration": 18,
    "start_time": "2022-03-21T19:46:31.675Z"
   },
   {
    "duration": 14,
    "start_time": "2022-03-21T19:46:31.695Z"
   },
   {
    "duration": 200,
    "start_time": "2022-03-21T19:46:31.716Z"
   },
   {
    "duration": 300,
    "start_time": "2022-03-21T19:46:31.918Z"
   },
   {
    "duration": 518,
    "start_time": "2022-03-21T19:46:32.220Z"
   },
   {
    "duration": 10,
    "start_time": "2022-03-21T19:46:32.741Z"
   },
   {
    "duration": 19,
    "start_time": "2022-03-21T19:49:37.774Z"
   },
   {
    "duration": 5,
    "start_time": "2022-03-21T19:51:03.605Z"
   },
   {
    "duration": 73,
    "start_time": "2022-03-21T19:51:03.612Z"
   },
   {
    "duration": 18,
    "start_time": "2022-03-21T19:51:03.687Z"
   },
   {
    "duration": 15,
    "start_time": "2022-03-21T19:51:03.707Z"
   },
   {
    "duration": 49,
    "start_time": "2022-03-21T19:51:03.725Z"
   },
   {
    "duration": 26,
    "start_time": "2022-03-21T19:51:03.776Z"
   },
   {
    "duration": 42,
    "start_time": "2022-03-21T19:51:03.804Z"
   },
   {
    "duration": 50,
    "start_time": "2022-03-21T19:51:03.849Z"
   },
   {
    "duration": 21,
    "start_time": "2022-03-21T19:51:03.901Z"
   },
   {
    "duration": 19,
    "start_time": "2022-03-21T19:51:03.924Z"
   },
   {
    "duration": 14,
    "start_time": "2022-03-21T19:51:03.974Z"
   },
   {
    "duration": 20,
    "start_time": "2022-03-21T19:51:03.990Z"
   },
   {
    "duration": 7,
    "start_time": "2022-03-21T19:51:04.012Z"
   },
   {
    "duration": 57,
    "start_time": "2022-03-21T19:51:04.024Z"
   },
   {
    "duration": 6,
    "start_time": "2022-03-21T19:51:04.083Z"
   },
   {
    "duration": 12,
    "start_time": "2022-03-21T19:51:04.091Z"
   },
   {
    "duration": 316,
    "start_time": "2022-03-21T19:51:04.105Z"
   },
   {
    "duration": 15,
    "start_time": "2022-03-21T19:51:04.423Z"
   },
   {
    "duration": 8,
    "start_time": "2022-03-21T19:51:04.440Z"
   },
   {
    "duration": 208,
    "start_time": "2022-03-21T19:51:04.450Z"
   },
   {
    "duration": 31,
    "start_time": "2022-03-21T19:51:04.661Z"
   },
   {
    "duration": 10,
    "start_time": "2022-03-21T19:51:04.695Z"
   },
   {
    "duration": 314,
    "start_time": "2022-03-21T19:51:04.707Z"
   },
   {
    "duration": 30,
    "start_time": "2022-03-21T19:51:05.023Z"
   },
   {
    "duration": 31,
    "start_time": "2022-03-21T19:51:05.055Z"
   },
   {
    "duration": 19,
    "start_time": "2022-03-21T19:51:05.088Z"
   },
   {
    "duration": 215,
    "start_time": "2022-03-21T19:51:05.109Z"
   },
   {
    "duration": 416,
    "start_time": "2022-03-21T19:51:05.327Z"
   },
   {
    "duration": 65,
    "start_time": "2022-03-21T19:51:05.746Z"
   },
   {
    "duration": 21,
    "start_time": "2022-03-21T19:51:05.813Z"
   },
   {
    "duration": 316,
    "start_time": "2022-03-21T19:51:05.837Z"
   },
   {
    "duration": 47,
    "start_time": "2022-03-21T19:51:06.156Z"
   },
   {
    "duration": 25,
    "start_time": "2022-03-21T19:51:06.205Z"
   },
   {
    "duration": 332,
    "start_time": "2022-03-21T19:51:06.232Z"
   },
   {
    "duration": 859,
    "start_time": "2022-03-21T19:51:06.566Z"
   },
   {
    "duration": 22,
    "start_time": "2022-03-21T19:51:07.428Z"
   },
   {
    "duration": 22,
    "start_time": "2022-03-21T19:51:07.453Z"
   },
   {
    "duration": 27,
    "start_time": "2022-03-21T19:51:07.477Z"
   },
   {
    "duration": 16,
    "start_time": "2022-03-21T19:51:07.506Z"
   },
   {
    "duration": 7,
    "start_time": "2022-03-21T19:51:07.534Z"
   },
   {
    "duration": 281,
    "start_time": "2022-03-21T19:51:07.573Z"
   },
   {
    "duration": 291,
    "start_time": "2022-03-21T19:51:07.856Z"
   },
   {
    "duration": 405,
    "start_time": "2022-03-21T19:51:08.149Z"
   },
   {
    "duration": 20,
    "start_time": "2022-03-21T19:51:08.556Z"
   },
   {
    "duration": 136,
    "start_time": "2022-03-21T19:54:59.806Z"
   },
   {
    "duration": 5,
    "start_time": "2022-03-21T19:55:33.196Z"
   },
   {
    "duration": 71,
    "start_time": "2022-03-21T19:55:33.204Z"
   },
   {
    "duration": 19,
    "start_time": "2022-03-21T19:55:33.277Z"
   },
   {
    "duration": 15,
    "start_time": "2022-03-21T19:55:33.299Z"
   },
   {
    "duration": 61,
    "start_time": "2022-03-21T19:55:33.317Z"
   },
   {
    "duration": 32,
    "start_time": "2022-03-21T19:55:33.381Z"
   },
   {
    "duration": 68,
    "start_time": "2022-03-21T19:55:33.416Z"
   },
   {
    "duration": 29,
    "start_time": "2022-03-21T19:55:33.486Z"
   },
   {
    "duration": 21,
    "start_time": "2022-03-21T19:55:33.517Z"
   },
   {
    "duration": 49,
    "start_time": "2022-03-21T19:55:33.542Z"
   },
   {
    "duration": 15,
    "start_time": "2022-03-21T19:55:33.594Z"
   },
   {
    "duration": 22,
    "start_time": "2022-03-21T19:55:33.611Z"
   },
   {
    "duration": 42,
    "start_time": "2022-03-21T19:55:33.636Z"
   },
   {
    "duration": 24,
    "start_time": "2022-03-21T19:55:33.681Z"
   },
   {
    "duration": 6,
    "start_time": "2022-03-21T19:55:33.707Z"
   },
   {
    "duration": 20,
    "start_time": "2022-03-21T19:55:33.714Z"
   },
   {
    "duration": 327,
    "start_time": "2022-03-21T19:55:33.736Z"
   },
   {
    "duration": 18,
    "start_time": "2022-03-21T19:55:34.066Z"
   },
   {
    "duration": 8,
    "start_time": "2022-03-21T19:55:34.087Z"
   },
   {
    "duration": 196,
    "start_time": "2022-03-21T19:55:34.097Z"
   },
   {
    "duration": 26,
    "start_time": "2022-03-21T19:55:34.296Z"
   },
   {
    "duration": 10,
    "start_time": "2022-03-21T19:55:34.324Z"
   },
   {
    "duration": 327,
    "start_time": "2022-03-21T19:55:34.336Z"
   },
   {
    "duration": 32,
    "start_time": "2022-03-21T19:55:34.665Z"
   },
   {
    "duration": 14,
    "start_time": "2022-03-21T19:55:34.699Z"
   },
   {
    "duration": 23,
    "start_time": "2022-03-21T19:55:34.715Z"
   },
   {
    "duration": 226,
    "start_time": "2022-03-21T19:55:34.740Z"
   },
   {
    "duration": 456,
    "start_time": "2022-03-21T19:55:34.972Z"
   },
   {
    "duration": 66,
    "start_time": "2022-03-21T19:55:35.431Z"
   },
   {
    "duration": 19,
    "start_time": "2022-03-21T19:55:35.500Z"
   },
   {
    "duration": 429,
    "start_time": "2022-03-21T19:55:35.523Z"
   },
   {
    "duration": 48,
    "start_time": "2022-03-21T19:55:35.955Z"
   },
   {
    "duration": 26,
    "start_time": "2022-03-21T19:55:36.006Z"
   },
   {
    "duration": 343,
    "start_time": "2022-03-21T19:55:36.034Z"
   },
   {
    "duration": 863,
    "start_time": "2022-03-21T19:55:36.379Z"
   },
   {
    "duration": 23,
    "start_time": "2022-03-21T19:55:37.244Z"
   },
   {
    "duration": 21,
    "start_time": "2022-03-21T19:55:37.269Z"
   },
   {
    "duration": 27,
    "start_time": "2022-03-21T19:55:37.292Z"
   },
   {
    "duration": 16,
    "start_time": "2022-03-21T19:55:37.322Z"
   },
   {
    "duration": 35,
    "start_time": "2022-03-21T19:55:37.340Z"
   },
   {
    "duration": 197,
    "start_time": "2022-03-21T19:55:37.377Z"
   },
   {
    "duration": 293,
    "start_time": "2022-03-21T19:55:37.576Z"
   },
   {
    "duration": 402,
    "start_time": "2022-03-21T19:55:37.874Z"
   },
   {
    "duration": 11,
    "start_time": "2022-03-21T19:55:38.278Z"
   }
  ],
  "kernelspec": {
   "display_name": "Python 3",
   "language": "python",
   "name": "python3"
  },
  "language_info": {
   "codemirror_mode": {
    "name": "ipython",
    "version": 3
   },
   "file_extension": ".py",
   "mimetype": "text/x-python",
   "name": "python",
   "nbconvert_exporter": "python",
   "pygments_lexer": "ipython3",
   "version": "3.8.8"
  },
  "toc": {
   "base_numbering": 1,
   "nav_menu": {},
   "number_sections": true,
   "sideBar": true,
   "skip_h1_title": true,
   "title_cell": "Table of Contents",
   "title_sidebar": "Contents",
   "toc_cell": false,
   "toc_position": {},
   "toc_section_display": true,
   "toc_window_display": false
  }
 },
 "nbformat": 4,
 "nbformat_minor": 2
}
